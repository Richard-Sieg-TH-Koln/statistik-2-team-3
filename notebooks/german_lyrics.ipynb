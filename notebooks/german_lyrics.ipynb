{
 "cells": [
  {
   "cell_type": "code",
   "execution_count": 351,
   "metadata": {},
   "outputs": [],
   "source": [
    "import pandas as pd\n",
    "from collections import Counter\n",
    "import re\n",
    "from nltk.corpus import stopwords  \n",
    "from nltk.tokenize import word_tokenize"
   ]
  },
  {
   "cell_type": "code",
   "execution_count": 352,
   "metadata": {},
   "outputs": [],
   "source": [
    "df = pd.read_csv('../data/first_dataset_lyrics_only.csv')"
   ]
  },
  {
   "cell_type": "code",
   "execution_count": 353,
   "metadata": {},
   "outputs": [
    {
     "data": {
      "text/html": [
       "<div>\n",
       "<style scoped>\n",
       "    .dataframe tbody tr th:only-of-type {\n",
       "        vertical-align: middle;\n",
       "    }\n",
       "\n",
       "    .dataframe tbody tr th {\n",
       "        vertical-align: top;\n",
       "    }\n",
       "\n",
       "    .dataframe thead th {\n",
       "        text-align: right;\n",
       "    }\n",
       "</style>\n",
       "<table border=\"1\" class=\"dataframe\">\n",
       "  <thead>\n",
       "    <tr style=\"text-align: right;\">\n",
       "      <th></th>\n",
       "      <th>genre</th>\n",
       "      <th>interpret</th>\n",
       "      <th>album</th>\n",
       "      <th>release_year</th>\n",
       "      <th>songtitle</th>\n",
       "      <th>decade</th>\n",
       "      <th>song_id</th>\n",
       "      <th>full_title</th>\n",
       "      <th>release_date_components_raw</th>\n",
       "      <th>release_date_for_display</th>\n",
       "      <th>stats_raw</th>\n",
       "      <th>lyrics</th>\n",
       "    </tr>\n",
       "  </thead>\n",
       "  <tbody>\n",
       "    <tr>\n",
       "      <th>0</th>\n",
       "      <td>Pop</td>\n",
       "      <td>Adel Tawil</td>\n",
       "      <td>Lieder</td>\n",
       "      <td>2013</td>\n",
       "      <td>Immer da</td>\n",
       "      <td>2010</td>\n",
       "      <td>256740</td>\n",
       "      <td>Immer da by Adel Tawil</td>\n",
       "      <td>{'year': 2013, 'month': 11, 'day': 8}</td>\n",
       "      <td>November 8, 2013</td>\n",
       "      <td>{'unreviewed_annotations': 0, 'hot': False}</td>\n",
       "      <td>Immer da Lyrics\\n\\nManchmal hast du gar nichts...</td>\n",
       "    </tr>\n",
       "    <tr>\n",
       "      <th>1</th>\n",
       "      <td>Pop</td>\n",
       "      <td>Adel Tawil</td>\n",
       "      <td>Lieder</td>\n",
       "      <td>2013</td>\n",
       "      <td>Wenn Du liebst</td>\n",
       "      <td>2010</td>\n",
       "      <td>256742</td>\n",
       "      <td>Wenn du liebst by Adel Tawil</td>\n",
       "      <td>{'year': 2013, 'month': 11, 'day': 8}</td>\n",
       "      <td>November 8, 2013</td>\n",
       "      <td>{'unreviewed_annotations': 4, 'hot': False, 'p...</td>\n",
       "      <td>Wenn du liebst Lyrics\\nGanz allein im schwarze...</td>\n",
       "    </tr>\n",
       "    <tr>\n",
       "      <th>2</th>\n",
       "      <td>Pop</td>\n",
       "      <td>Adel Tawil</td>\n",
       "      <td>Lieder</td>\n",
       "      <td>2013</td>\n",
       "      <td>Lieder</td>\n",
       "      <td>2010</td>\n",
       "      <td>236655</td>\n",
       "      <td>Lieder by Adel Tawil</td>\n",
       "      <td>{'year': 2013, 'month': 11, 'day': 8}</td>\n",
       "      <td>November 8, 2013</td>\n",
       "      <td>{'unreviewed_annotations': 0, 'hot': False, 'p...</td>\n",
       "      <td>Lieder Lyrics\\n\\nIch ging wie ein Ägypter\\nHab...</td>\n",
       "    </tr>\n",
       "    <tr>\n",
       "      <th>3</th>\n",
       "      <td>Pop</td>\n",
       "      <td>Adel Tawil</td>\n",
       "      <td>Lieder</td>\n",
       "      <td>2013</td>\n",
       "      <td>Weinen</td>\n",
       "      <td>2010</td>\n",
       "      <td>256745</td>\n",
       "      <td>Weinen by Adel Tawil</td>\n",
       "      <td>{'year': 2013, 'month': 11, 'day': 8}</td>\n",
       "      <td>November 8, 2013</td>\n",
       "      <td>{'unreviewed_annotations': 0, 'hot': False, 'p...</td>\n",
       "      <td>Weinen Lyrics\\n\\nDu warst die ganze Welt für m...</td>\n",
       "    </tr>\n",
       "    <tr>\n",
       "      <th>4</th>\n",
       "      <td>Pop</td>\n",
       "      <td>Adel Tawil</td>\n",
       "      <td>Lieder</td>\n",
       "      <td>2013</td>\n",
       "      <td>Unter Wasser</td>\n",
       "      <td>2010</td>\n",
       "      <td>256747</td>\n",
       "      <td>Unter Wasser by Adel Tawil</td>\n",
       "      <td>{'year': 2013, 'month': 11, 'day': 8}</td>\n",
       "      <td>November 8, 2013</td>\n",
       "      <td>{'unreviewed_annotations': 0, 'hot': False}</td>\n",
       "      <td>Unter Wasser Lyrics\\n\\nKeine Chance, es ist vi...</td>\n",
       "    </tr>\n",
       "  </tbody>\n",
       "</table>\n",
       "</div>"
      ],
      "text/plain": [
       "  genre   interpret   album  release_year       songtitle  decade  song_id  \\\n",
       "0   Pop  Adel Tawil  Lieder          2013        Immer da    2010   256740   \n",
       "1   Pop  Adel Tawil  Lieder          2013  Wenn Du liebst    2010   256742   \n",
       "2   Pop  Adel Tawil  Lieder          2013          Lieder    2010   236655   \n",
       "3   Pop  Adel Tawil  Lieder          2013          Weinen    2010   256745   \n",
       "4   Pop  Adel Tawil  Lieder          2013    Unter Wasser    2010   256747   \n",
       "\n",
       "                     full_title            release_date_components_raw  \\\n",
       "0        Immer da by Adel Tawil  {'year': 2013, 'month': 11, 'day': 8}   \n",
       "1  Wenn du liebst by Adel Tawil  {'year': 2013, 'month': 11, 'day': 8}   \n",
       "2          Lieder by Adel Tawil  {'year': 2013, 'month': 11, 'day': 8}   \n",
       "3          Weinen by Adel Tawil  {'year': 2013, 'month': 11, 'day': 8}   \n",
       "4    Unter Wasser by Adel Tawil  {'year': 2013, 'month': 11, 'day': 8}   \n",
       "\n",
       "  release_date_for_display                                          stats_raw  \\\n",
       "0         November 8, 2013        {'unreviewed_annotations': 0, 'hot': False}   \n",
       "1         November 8, 2013  {'unreviewed_annotations': 4, 'hot': False, 'p...   \n",
       "2         November 8, 2013  {'unreviewed_annotations': 0, 'hot': False, 'p...   \n",
       "3         November 8, 2013  {'unreviewed_annotations': 0, 'hot': False, 'p...   \n",
       "4         November 8, 2013        {'unreviewed_annotations': 0, 'hot': False}   \n",
       "\n",
       "                                              lyrics  \n",
       "0  Immer da Lyrics\\n\\nManchmal hast du gar nichts...  \n",
       "1  Wenn du liebst Lyrics\\nGanz allein im schwarze...  \n",
       "2  Lieder Lyrics\\n\\nIch ging wie ein Ägypter\\nHab...  \n",
       "3  Weinen Lyrics\\n\\nDu warst die ganze Welt für m...  \n",
       "4  Unter Wasser Lyrics\\n\\nKeine Chance, es ist vi...  "
      ]
     },
     "execution_count": 353,
     "metadata": {},
     "output_type": "execute_result"
    }
   ],
   "source": [
    "# in der Spalttexte 'Lyrics' sind die Songtitel noch enthalten\n",
    "df.head()"
   ]
  },
  {
   "cell_type": "code",
   "execution_count": 334,
   "metadata": {},
   "outputs": [],
   "source": [
    "df['lyrics'] = df['lyrics'].str.replace(r'^.*?Lyrics', '', regex=True)\n",
    "df['lyrics'] = df['lyrics'].str.replace('^.*?\\n\\n|\\n', ' ', regex=True)"
   ]
  },
  {
   "cell_type": "code",
   "execution_count": 335,
   "metadata": {},
   "outputs": [
    {
     "data": {
      "text/plain": [
       "0        Manchmal hast du gar nichts mehr Nur noch dei...\n",
       "1        Ganz allein im schwarzen Licht wie hinter Gla...\n",
       "2        Ich ging wie ein Ägypter Hab' mit Tauben gewe...\n",
       "3        Du warst die ganze Welt für mich Warst das, w...\n",
       "4        Keine Chance, es ist viel zu tief Keine Chanc...\n",
       "                              ...                        \n",
       "4537     Du wolltest deine Freiheit haben Nun stehst d...\n",
       "4538     Wenn die Sonne untergeht in der Provinz, ho h...\n",
       "4539    Wolfgang Petry - Anfang Vom Ende Lyrics Briefe...\n",
       "4540                                                 E...\n",
       "4541     Der Albtraum, dem ich entstamme, steht auf Fü...\n",
       "Name: lyrics, Length: 4542, dtype: object"
      ]
     },
     "execution_count": 335,
     "metadata": {},
     "output_type": "execute_result"
    }
   ],
   "source": [
    "# in der Spalttexte 'Lyrics' sind die Songtitel noch enthalten\n",
    "df['lyrics']"
   ]
  },
  {
   "cell_type": "code",
   "execution_count": 162,
   "metadata": {},
   "outputs": [
    {
     "data": {
      "text/plain": [
       "genre                          object\n",
       "interpret                      object\n",
       "album                          object\n",
       "release_year                    int64\n",
       "songtitle                      object\n",
       "decade                          int64\n",
       "song_id                         int64\n",
       "full_title                     object\n",
       "release_date_components_raw    object\n",
       "release_date_for_display       object\n",
       "stats_raw                      object\n",
       "lyrics                         object\n",
       "dtype: object"
      ]
     },
     "execution_count": 162,
     "metadata": {},
     "output_type": "execute_result"
    }
   ],
   "source": [
    "df.dtypes"
   ]
  },
  {
   "cell_type": "code",
   "execution_count": 163,
   "metadata": {},
   "outputs": [
    {
     "data": {
      "text/plain": [
       "4542"
      ]
     },
     "execution_count": 163,
     "metadata": {},
     "output_type": "execute_result"
    }
   ],
   "source": [
    "len(df)"
   ]
  },
  {
   "cell_type": "code",
   "execution_count": 164,
   "metadata": {},
   "outputs": [
    {
     "data": {
      "text/plain": [
       "genre\n",
       "Rap         1544\n",
       "Rock        1262\n",
       "Pop         1125\n",
       "Schlager     611\n",
       "dtype: int64"
      ]
     },
     "execution_count": 164,
     "metadata": {},
     "output_type": "execute_result"
    }
   ],
   "source": [
    "df.value_counts('genre')"
   ]
  },
  {
   "cell_type": "code",
   "execution_count": 165,
   "metadata": {},
   "outputs": [
    {
     "data": {
      "text/plain": [
       "array([1966, 1967, 1968, 1970, 1971, 1972, 1973, 1974, 1975, 1976, 1977,\n",
       "       1978, 1979, 1980, 1981, 1982, 1983, 1984, 1985, 1986, 1987, 1988,\n",
       "       1989, 1990, 1991, 1992, 1993, 1994, 1995, 1996, 1997, 1998, 1999,\n",
       "       2000, 2001, 2002, 2003, 2004, 2005, 2006, 2007, 2008, 2009, 2010,\n",
       "       2011, 2012, 2013, 2014, 2015, 2016, 2017, 2018], dtype=int64)"
      ]
     },
     "execution_count": 165,
     "metadata": {},
     "output_type": "execute_result"
    }
   ],
   "source": [
    "df.release_year.sort_values().unique()"
   ]
  },
  {
   "cell_type": "code",
   "execution_count": 339,
   "metadata": {},
   "outputs": [],
   "source": [
    "# lyrics in Anzahl der Wörter umwandeln\n",
    "df['lyrics'] = df['lyrics'].apply(lambda x: len(x.split()))"
   ]
  },
  {
   "cell_type": "code",
   "execution_count": 349,
   "metadata": {},
   "outputs": [
    {
     "name": "stdout",
     "output_type": "stream",
     "text": [
      "genre\n",
      "Pop         255.538667\n",
      "Rap         577.444301\n",
      "Rock        303.981775\n",
      "Schlager    265.834697\n",
      "Name: lyrics, dtype: float64 \n",
      "\n",
      "\n",
      "            count        mean          std   min     25%    50%     75%  \\\n",
      "genre                                                                    \n",
      "Pop       1125.0  255.538667   516.019022   6.0  173.00  226.0  291.00   \n",
      "Rap       1544.0  577.444301  2447.212127   5.0  379.00  483.0  591.00   \n",
      "Rock      1262.0  303.981775  2700.448324   6.0  162.25  211.0  267.75   \n",
      "Schlager   611.0  265.834697   804.722160  32.0  158.00  204.0  248.00   \n",
      "\n",
      "              max  \n",
      "genre              \n",
      "Pop       17205.0  \n",
      "Rap       67616.0  \n",
      "Rock      95916.0  \n",
      "Schlager  15024.0  \n"
     ]
    }
   ],
   "source": [
    "# genres gruppieren\n",
    "df_genre = df.groupby('genre')\n",
    "\n",
    "# durchschnittliche Lyriclänge pro genre \n",
    "avg_lyrics_length = df_genre.mean()['lyrics']\n",
    "\n",
    "lyrics_length = df_genre.describe()['lyrics']\n",
    "\n",
    "\n",
    "print(avg_lyrics_length,\"\\n\\n\\n\", lyrics_length)"
   ]
  },
  {
   "cell_type": "code",
   "execution_count": 346,
   "metadata": {},
   "outputs": [
    {
     "name": "stdout",
     "output_type": "stream",
     "text": [
      "Der kürzeste Pop-Song ist 'Superlude' von Frittenbude mit insgesamt 6 Wörtern\n",
      "Der längste Pop-Song ist 'Lass es regnen' von Rosenstolz mit insgesamt 17205 Wörtern\n",
      "\n",
      "Der kürzeste Rap-Song ist 'Günther' von Deichkind mit insgesamt 5 Wörtern\n",
      "Der längste Rap-Song ist 'Gold sinkt nach unten' von Prinz Pi mit insgesamt 67616 Wörtern\n",
      "\n",
      "Der kürzeste Rock-Song ist 'Bullenschwein' von Die Ärzte mit insgesamt 6 Wörtern\n",
      "Der längste Rock-Song ist 'Trick 17 m.S.' von Die Ärzte mit insgesamt 95916 Wörtern\n",
      "\n",
      "Der kürzeste Schlager-Song ist 'Gloria Halleluja Amen' von Nina Hagen mit insgesamt 32 Wörtern\n",
      "Der längste Schlager-Song ist 'Keine Lust auf gar nichts' von Wolfgang Petry mit insgesamt 15024 Wörtern\n",
      "\n"
     ]
    }
   ],
   "source": [
    "## kürzester Song in dem df sind 5 Wörter; in Wirklichkeit über 100\n",
    "genres = df['genre'].unique()\n",
    "\n",
    "for genre in genres:\n",
    "# Filterung nach den genres\n",
    "    df_g = df[df['genre']== genre]\n",
    "\n",
    "# kürzeste Lyric herausfinden\n",
    "    shortest_lyric_title = df_g.loc[df_g['lyrics'].idxmin(), 'songtitle']\n",
    "    # shortest_lyrics = df.loc[df['lyrics'].apply(len).idxmin(), 'lyrics']\n",
    "    shortest_lyric_artist = df_g.loc[df_g['lyrics'].idxmin(), 'interpret']\n",
    "# Anzahl der Wörter in dem Song \n",
    "    word_count_short = df[df['genre']== genre]['lyrics'].min()\n",
    "\n",
    "# längste Lyric herausfinden\n",
    "    longest_lyric_title = df_g.loc[df_g['lyrics'].idxmax(), 'songtitle']\n",
    "    longest_lyric_artist = df_g.loc[df_g['lyrics'].idxmax(), 'interpret']\n",
    "# Anzahl der Wörter in dem Song \n",
    "    word_count_long = df[df['genre']== genre]['lyrics'].max()\n",
    "\n",
    "    print(f\"Der kürzeste {genre}-Song ist '{shortest_lyric_title}' von {shortest_lyric_artist} mit insgesamt {word_count_short} Wörtern\")\n",
    "    print(f\"Der längste {genre}-Song ist '{longest_lyric_title}' von {longest_lyric_artist} mit insgesamt {word_count_long} Wörtern\\n\")\n",
    "   \n"
   ]
  },
  {
   "cell_type": "code",
   "execution_count": 336,
   "metadata": {},
   "outputs": [
    {
     "data": {
      "text/plain": [
       "1537    Telefon DialogYou might also likeEmbed\n",
       "Name: lyrics, dtype: object"
      ]
     },
     "execution_count": 336,
     "metadata": {},
     "output_type": "execute_result"
    }
   ],
   "source": [
    "df[df['songtitle'] == 'Günther']['lyrics']"
   ]
  },
  {
   "cell_type": "code",
   "execution_count": 168,
   "metadata": {},
   "outputs": [],
   "source": [
    "pd.options.plotting.backend = \"plotly\""
   ]
  },
  {
   "cell_type": "code",
   "execution_count": 169,
   "metadata": {},
   "outputs": [
    {
     "data": {
      "application/vnd.plotly.v1+json": {
       "config": {
        "plotlyServerURL": "https://plot.ly"
       },
       "data": [
        {
         "alignmentgroup": "True",
         "hovertemplate": "variable=lyrics<br>genre=%{x}<br>value=%{y}<extra></extra>",
         "legendgroup": "lyrics",
         "marker": {
          "color": "#636efa",
          "pattern": {
           "shape": ""
          }
         },
         "name": "lyrics",
         "offsetgroup": "lyrics",
         "orientation": "v",
         "showlegend": true,
         "textposition": "auto",
         "type": "bar",
         "x": [
          "Pop",
          "Rap",
          "Rock",
          "Schlager"
         ],
         "xaxis": "x",
         "y": [
          255.53866666666667,
          577.4443005181347,
          303.98177496038033,
          265.83469721767597
         ],
         "yaxis": "y"
        }
       ],
       "layout": {
        "barmode": "relative",
        "legend": {
         "title": {
          "text": "variable"
         },
         "tracegroupgap": 0
        },
        "template": {
         "data": {
          "bar": [
           {
            "error_x": {
             "color": "#2a3f5f"
            },
            "error_y": {
             "color": "#2a3f5f"
            },
            "marker": {
             "line": {
              "color": "#E5ECF6",
              "width": 0.5
             },
             "pattern": {
              "fillmode": "overlay",
              "size": 10,
              "solidity": 0.2
             }
            },
            "type": "bar"
           }
          ],
          "barpolar": [
           {
            "marker": {
             "line": {
              "color": "#E5ECF6",
              "width": 0.5
             },
             "pattern": {
              "fillmode": "overlay",
              "size": 10,
              "solidity": 0.2
             }
            },
            "type": "barpolar"
           }
          ],
          "carpet": [
           {
            "aaxis": {
             "endlinecolor": "#2a3f5f",
             "gridcolor": "white",
             "linecolor": "white",
             "minorgridcolor": "white",
             "startlinecolor": "#2a3f5f"
            },
            "baxis": {
             "endlinecolor": "#2a3f5f",
             "gridcolor": "white",
             "linecolor": "white",
             "minorgridcolor": "white",
             "startlinecolor": "#2a3f5f"
            },
            "type": "carpet"
           }
          ],
          "choropleth": [
           {
            "colorbar": {
             "outlinewidth": 0,
             "ticks": ""
            },
            "type": "choropleth"
           }
          ],
          "contour": [
           {
            "colorbar": {
             "outlinewidth": 0,
             "ticks": ""
            },
            "colorscale": [
             [
              0,
              "#0d0887"
             ],
             [
              0.1111111111111111,
              "#46039f"
             ],
             [
              0.2222222222222222,
              "#7201a8"
             ],
             [
              0.3333333333333333,
              "#9c179e"
             ],
             [
              0.4444444444444444,
              "#bd3786"
             ],
             [
              0.5555555555555556,
              "#d8576b"
             ],
             [
              0.6666666666666666,
              "#ed7953"
             ],
             [
              0.7777777777777778,
              "#fb9f3a"
             ],
             [
              0.8888888888888888,
              "#fdca26"
             ],
             [
              1,
              "#f0f921"
             ]
            ],
            "type": "contour"
           }
          ],
          "contourcarpet": [
           {
            "colorbar": {
             "outlinewidth": 0,
             "ticks": ""
            },
            "type": "contourcarpet"
           }
          ],
          "heatmap": [
           {
            "colorbar": {
             "outlinewidth": 0,
             "ticks": ""
            },
            "colorscale": [
             [
              0,
              "#0d0887"
             ],
             [
              0.1111111111111111,
              "#46039f"
             ],
             [
              0.2222222222222222,
              "#7201a8"
             ],
             [
              0.3333333333333333,
              "#9c179e"
             ],
             [
              0.4444444444444444,
              "#bd3786"
             ],
             [
              0.5555555555555556,
              "#d8576b"
             ],
             [
              0.6666666666666666,
              "#ed7953"
             ],
             [
              0.7777777777777778,
              "#fb9f3a"
             ],
             [
              0.8888888888888888,
              "#fdca26"
             ],
             [
              1,
              "#f0f921"
             ]
            ],
            "type": "heatmap"
           }
          ],
          "heatmapgl": [
           {
            "colorbar": {
             "outlinewidth": 0,
             "ticks": ""
            },
            "colorscale": [
             [
              0,
              "#0d0887"
             ],
             [
              0.1111111111111111,
              "#46039f"
             ],
             [
              0.2222222222222222,
              "#7201a8"
             ],
             [
              0.3333333333333333,
              "#9c179e"
             ],
             [
              0.4444444444444444,
              "#bd3786"
             ],
             [
              0.5555555555555556,
              "#d8576b"
             ],
             [
              0.6666666666666666,
              "#ed7953"
             ],
             [
              0.7777777777777778,
              "#fb9f3a"
             ],
             [
              0.8888888888888888,
              "#fdca26"
             ],
             [
              1,
              "#f0f921"
             ]
            ],
            "type": "heatmapgl"
           }
          ],
          "histogram": [
           {
            "marker": {
             "pattern": {
              "fillmode": "overlay",
              "size": 10,
              "solidity": 0.2
             }
            },
            "type": "histogram"
           }
          ],
          "histogram2d": [
           {
            "colorbar": {
             "outlinewidth": 0,
             "ticks": ""
            },
            "colorscale": [
             [
              0,
              "#0d0887"
             ],
             [
              0.1111111111111111,
              "#46039f"
             ],
             [
              0.2222222222222222,
              "#7201a8"
             ],
             [
              0.3333333333333333,
              "#9c179e"
             ],
             [
              0.4444444444444444,
              "#bd3786"
             ],
             [
              0.5555555555555556,
              "#d8576b"
             ],
             [
              0.6666666666666666,
              "#ed7953"
             ],
             [
              0.7777777777777778,
              "#fb9f3a"
             ],
             [
              0.8888888888888888,
              "#fdca26"
             ],
             [
              1,
              "#f0f921"
             ]
            ],
            "type": "histogram2d"
           }
          ],
          "histogram2dcontour": [
           {
            "colorbar": {
             "outlinewidth": 0,
             "ticks": ""
            },
            "colorscale": [
             [
              0,
              "#0d0887"
             ],
             [
              0.1111111111111111,
              "#46039f"
             ],
             [
              0.2222222222222222,
              "#7201a8"
             ],
             [
              0.3333333333333333,
              "#9c179e"
             ],
             [
              0.4444444444444444,
              "#bd3786"
             ],
             [
              0.5555555555555556,
              "#d8576b"
             ],
             [
              0.6666666666666666,
              "#ed7953"
             ],
             [
              0.7777777777777778,
              "#fb9f3a"
             ],
             [
              0.8888888888888888,
              "#fdca26"
             ],
             [
              1,
              "#f0f921"
             ]
            ],
            "type": "histogram2dcontour"
           }
          ],
          "mesh3d": [
           {
            "colorbar": {
             "outlinewidth": 0,
             "ticks": ""
            },
            "type": "mesh3d"
           }
          ],
          "parcoords": [
           {
            "line": {
             "colorbar": {
              "outlinewidth": 0,
              "ticks": ""
             }
            },
            "type": "parcoords"
           }
          ],
          "pie": [
           {
            "automargin": true,
            "type": "pie"
           }
          ],
          "scatter": [
           {
            "marker": {
             "colorbar": {
              "outlinewidth": 0,
              "ticks": ""
             }
            },
            "type": "scatter"
           }
          ],
          "scatter3d": [
           {
            "line": {
             "colorbar": {
              "outlinewidth": 0,
              "ticks": ""
             }
            },
            "marker": {
             "colorbar": {
              "outlinewidth": 0,
              "ticks": ""
             }
            },
            "type": "scatter3d"
           }
          ],
          "scattercarpet": [
           {
            "marker": {
             "colorbar": {
              "outlinewidth": 0,
              "ticks": ""
             }
            },
            "type": "scattercarpet"
           }
          ],
          "scattergeo": [
           {
            "marker": {
             "colorbar": {
              "outlinewidth": 0,
              "ticks": ""
             }
            },
            "type": "scattergeo"
           }
          ],
          "scattergl": [
           {
            "marker": {
             "colorbar": {
              "outlinewidth": 0,
              "ticks": ""
             }
            },
            "type": "scattergl"
           }
          ],
          "scattermapbox": [
           {
            "marker": {
             "colorbar": {
              "outlinewidth": 0,
              "ticks": ""
             }
            },
            "type": "scattermapbox"
           }
          ],
          "scatterpolar": [
           {
            "marker": {
             "colorbar": {
              "outlinewidth": 0,
              "ticks": ""
             }
            },
            "type": "scatterpolar"
           }
          ],
          "scatterpolargl": [
           {
            "marker": {
             "colorbar": {
              "outlinewidth": 0,
              "ticks": ""
             }
            },
            "type": "scatterpolargl"
           }
          ],
          "scatterternary": [
           {
            "marker": {
             "colorbar": {
              "outlinewidth": 0,
              "ticks": ""
             }
            },
            "type": "scatterternary"
           }
          ],
          "surface": [
           {
            "colorbar": {
             "outlinewidth": 0,
             "ticks": ""
            },
            "colorscale": [
             [
              0,
              "#0d0887"
             ],
             [
              0.1111111111111111,
              "#46039f"
             ],
             [
              0.2222222222222222,
              "#7201a8"
             ],
             [
              0.3333333333333333,
              "#9c179e"
             ],
             [
              0.4444444444444444,
              "#bd3786"
             ],
             [
              0.5555555555555556,
              "#d8576b"
             ],
             [
              0.6666666666666666,
              "#ed7953"
             ],
             [
              0.7777777777777778,
              "#fb9f3a"
             ],
             [
              0.8888888888888888,
              "#fdca26"
             ],
             [
              1,
              "#f0f921"
             ]
            ],
            "type": "surface"
           }
          ],
          "table": [
           {
            "cells": {
             "fill": {
              "color": "#EBF0F8"
             },
             "line": {
              "color": "white"
             }
            },
            "header": {
             "fill": {
              "color": "#C8D4E3"
             },
             "line": {
              "color": "white"
             }
            },
            "type": "table"
           }
          ]
         },
         "layout": {
          "annotationdefaults": {
           "arrowcolor": "#2a3f5f",
           "arrowhead": 0,
           "arrowwidth": 1
          },
          "autotypenumbers": "strict",
          "coloraxis": {
           "colorbar": {
            "outlinewidth": 0,
            "ticks": ""
           }
          },
          "colorscale": {
           "diverging": [
            [
             0,
             "#8e0152"
            ],
            [
             0.1,
             "#c51b7d"
            ],
            [
             0.2,
             "#de77ae"
            ],
            [
             0.3,
             "#f1b6da"
            ],
            [
             0.4,
             "#fde0ef"
            ],
            [
             0.5,
             "#f7f7f7"
            ],
            [
             0.6,
             "#e6f5d0"
            ],
            [
             0.7,
             "#b8e186"
            ],
            [
             0.8,
             "#7fbc41"
            ],
            [
             0.9,
             "#4d9221"
            ],
            [
             1,
             "#276419"
            ]
           ],
           "sequential": [
            [
             0,
             "#0d0887"
            ],
            [
             0.1111111111111111,
             "#46039f"
            ],
            [
             0.2222222222222222,
             "#7201a8"
            ],
            [
             0.3333333333333333,
             "#9c179e"
            ],
            [
             0.4444444444444444,
             "#bd3786"
            ],
            [
             0.5555555555555556,
             "#d8576b"
            ],
            [
             0.6666666666666666,
             "#ed7953"
            ],
            [
             0.7777777777777778,
             "#fb9f3a"
            ],
            [
             0.8888888888888888,
             "#fdca26"
            ],
            [
             1,
             "#f0f921"
            ]
           ],
           "sequentialminus": [
            [
             0,
             "#0d0887"
            ],
            [
             0.1111111111111111,
             "#46039f"
            ],
            [
             0.2222222222222222,
             "#7201a8"
            ],
            [
             0.3333333333333333,
             "#9c179e"
            ],
            [
             0.4444444444444444,
             "#bd3786"
            ],
            [
             0.5555555555555556,
             "#d8576b"
            ],
            [
             0.6666666666666666,
             "#ed7953"
            ],
            [
             0.7777777777777778,
             "#fb9f3a"
            ],
            [
             0.8888888888888888,
             "#fdca26"
            ],
            [
             1,
             "#f0f921"
            ]
           ]
          },
          "colorway": [
           "#636efa",
           "#EF553B",
           "#00cc96",
           "#ab63fa",
           "#FFA15A",
           "#19d3f3",
           "#FF6692",
           "#B6E880",
           "#FF97FF",
           "#FECB52"
          ],
          "font": {
           "color": "#2a3f5f"
          },
          "geo": {
           "bgcolor": "white",
           "lakecolor": "white",
           "landcolor": "#E5ECF6",
           "showlakes": true,
           "showland": true,
           "subunitcolor": "white"
          },
          "hoverlabel": {
           "align": "left"
          },
          "hovermode": "closest",
          "mapbox": {
           "style": "light"
          },
          "paper_bgcolor": "white",
          "plot_bgcolor": "#E5ECF6",
          "polar": {
           "angularaxis": {
            "gridcolor": "white",
            "linecolor": "white",
            "ticks": ""
           },
           "bgcolor": "#E5ECF6",
           "radialaxis": {
            "gridcolor": "white",
            "linecolor": "white",
            "ticks": ""
           }
          },
          "scene": {
           "xaxis": {
            "backgroundcolor": "#E5ECF6",
            "gridcolor": "white",
            "gridwidth": 2,
            "linecolor": "white",
            "showbackground": true,
            "ticks": "",
            "zerolinecolor": "white"
           },
           "yaxis": {
            "backgroundcolor": "#E5ECF6",
            "gridcolor": "white",
            "gridwidth": 2,
            "linecolor": "white",
            "showbackground": true,
            "ticks": "",
            "zerolinecolor": "white"
           },
           "zaxis": {
            "backgroundcolor": "#E5ECF6",
            "gridcolor": "white",
            "gridwidth": 2,
            "linecolor": "white",
            "showbackground": true,
            "ticks": "",
            "zerolinecolor": "white"
           }
          },
          "shapedefaults": {
           "line": {
            "color": "#2a3f5f"
           }
          },
          "ternary": {
           "aaxis": {
            "gridcolor": "white",
            "linecolor": "white",
            "ticks": ""
           },
           "baxis": {
            "gridcolor": "white",
            "linecolor": "white",
            "ticks": ""
           },
           "bgcolor": "#E5ECF6",
           "caxis": {
            "gridcolor": "white",
            "linecolor": "white",
            "ticks": ""
           }
          },
          "title": {
           "x": 0.05
          },
          "xaxis": {
           "automargin": true,
           "gridcolor": "white",
           "linecolor": "white",
           "ticks": "",
           "title": {
            "standoff": 15
           },
           "zerolinecolor": "white",
           "zerolinewidth": 2
          },
          "yaxis": {
           "automargin": true,
           "gridcolor": "white",
           "linecolor": "white",
           "ticks": "",
           "title": {
            "standoff": 15
           },
           "zerolinecolor": "white",
           "zerolinewidth": 2
          }
         }
        },
        "title": {
         "text": "lyric length"
        },
        "xaxis": {
         "anchor": "y",
         "domain": [
          0,
          1
         ],
         "title": {
          "text": "genre"
         }
        },
        "yaxis": {
         "anchor": "x",
         "domain": [
          0,
          1
         ],
         "title": {
          "text": "value"
         }
        }
       }
      }
     },
     "metadata": {},
     "output_type": "display_data"
    }
   ],
   "source": [
    "lyric_fig = avg_lyrics_length.plot(kind='bar', title='lyric length')\n",
    "lyric_fig.show()"
   ]
  },
  {
   "cell_type": "code",
   "execution_count": 359,
   "metadata": {},
   "outputs": [
    {
     "name": "stdout",
     "output_type": "stream",
     "text": [
      "mehr:  1368\n",
      "immer:  1163\n",
      "might:  1121\n",
      "you:  889\n",
      "leben:  811\n",
      "mal:  758\n",
      "schon:  745\n",
      "zeit:  718\n",
      "nie:  708\n",
      "weiß:  650\n",
      "lyrics:  646\n",
      "liebe:  633\n",
      "welt:  631\n",
      "geht:  592\n",
      "hast:  544\n",
      "likeembed:  530\n",
      "nacht:  522\n",
      "tag:  519\n",
      "ganz:  517\n",
      "gut:  514\n"
     ]
    }
   ],
   "source": [
    "# Filtere das DataFrame, um nur das Genre \"Pop\" zu betrachten\n",
    "pop_data = df[df['genre'] == 'Pop']\n",
    "\n",
    "# Verbinde alle Lyrics-Texte zu einem einzigen langen Text\n",
    "lyrics_text = ' '.join(pop_data['lyrics'].astype(str).tolist())\n",
    "\n",
    "# Entferne Satzzeichen, Sonderzeichen und Zahlen aus dem Text\n",
    "lyrics_text = re.sub(r'[^\\w\\s]', '', lyrics_text)\n",
    "lyrics_text = re.sub(r'\\d+', '', lyrics_text)\n",
    "\n",
    "# Konvertiere den Text in eine Liste von Wörtern\n",
    "words = lyrics_text.lower().split()\n",
    "\n",
    "stop_words = set(stopwords.words('german'))\n",
    "filtered_words = [w for w in words if not w in stop_words]\n",
    "\n",
    "\n",
    "# Zähle die Häufigkeit der Wörter im Text\n",
    "word_counts = Counter(filtered_words)\n",
    "\n",
    "top_words = word_counts.most_common(20)\n",
    "top_words_dict = {}\n",
    "for word, count in top_words:\n",
    "    top_words_dict[word] = count\n",
    "    print(f\"{word}:  {count}\")\n",
    "\n",
    "\n",
    "\n",
    "# Idee: Wie deutsch ist deutscher Pop wirklich?\n",
    "## Anzahl der englischen Begriffe in deutschen Pop-Songs"
   ]
  },
  {
   "cell_type": "code",
   "execution_count": 361,
   "metadata": {},
   "outputs": [
    {
     "ename": "ValueError",
     "evalue": "If using all scalar values, you must pass an index",
     "output_type": "error",
     "traceback": [
      "\u001b[1;31m---------------------------------------------------------------------------\u001b[0m",
      "\u001b[1;31mValueError\u001b[0m                                Traceback (most recent call last)",
      "\u001b[1;32mc:\\Users\\linhn\\github-classroom\\Richard-Sieg-TH-Koln\\statistik-2-team-3\\notebooks\\german_lyrics.ipynb Cell 17\u001b[0m in \u001b[0;36m<cell line: 1>\u001b[1;34m()\u001b[0m\n\u001b[1;32m----> <a href='vscode-notebook-cell:/c%3A/Users/linhn/github-classroom/Richard-Sieg-TH-Koln/statistik-2-team-3/notebooks/german_lyrics.ipynb#X56sZmlsZQ%3D%3D?line=0'>1</a>\u001b[0m top_words_dg \u001b[39m=\u001b[39m pd\u001b[39m.\u001b[39;49mDataFrame(top_words_dict)\n\u001b[0;32m      <a href='vscode-notebook-cell:/c%3A/Users/linhn/github-classroom/Richard-Sieg-TH-Koln/statistik-2-team-3/notebooks/german_lyrics.ipynb#X56sZmlsZQ%3D%3D?line=1'>2</a>\u001b[0m top_word_fig \u001b[39m=\u001b[39m top_words_dg\u001b[39m.\u001b[39mplot(kind\u001b[39m=\u001b[39m\u001b[39m'\u001b[39m\u001b[39mbar\u001b[39m\u001b[39m'\u001b[39m, title\u001b[39m=\u001b[39m\u001b[39m'\u001b[39m\u001b[39mlyric length\u001b[39m\u001b[39m'\u001b[39m)\n\u001b[0;32m      <a href='vscode-notebook-cell:/c%3A/Users/linhn/github-classroom/Richard-Sieg-TH-Koln/statistik-2-team-3/notebooks/german_lyrics.ipynb#X56sZmlsZQ%3D%3D?line=2'>3</a>\u001b[0m top_word_fig\u001b[39m.\u001b[39mshow()\n",
      "File \u001b[1;32mc:\\Users\\linhn\\anaconda3\\lib\\site-packages\\pandas\\core\\frame.py:636\u001b[0m, in \u001b[0;36mDataFrame.__init__\u001b[1;34m(self, data, index, columns, dtype, copy)\u001b[0m\n\u001b[0;32m    630\u001b[0m     mgr \u001b[39m=\u001b[39m \u001b[39mself\u001b[39m\u001b[39m.\u001b[39m_init_mgr(\n\u001b[0;32m    631\u001b[0m         data, axes\u001b[39m=\u001b[39m{\u001b[39m\"\u001b[39m\u001b[39mindex\u001b[39m\u001b[39m\"\u001b[39m: index, \u001b[39m\"\u001b[39m\u001b[39mcolumns\u001b[39m\u001b[39m\"\u001b[39m: columns}, dtype\u001b[39m=\u001b[39mdtype, copy\u001b[39m=\u001b[39mcopy\n\u001b[0;32m    632\u001b[0m     )\n\u001b[0;32m    634\u001b[0m \u001b[39melif\u001b[39;00m \u001b[39misinstance\u001b[39m(data, \u001b[39mdict\u001b[39m):\n\u001b[0;32m    635\u001b[0m     \u001b[39m# GH#38939 de facto copy defaults to False only in non-dict cases\u001b[39;00m\n\u001b[1;32m--> 636\u001b[0m     mgr \u001b[39m=\u001b[39m dict_to_mgr(data, index, columns, dtype\u001b[39m=\u001b[39;49mdtype, copy\u001b[39m=\u001b[39;49mcopy, typ\u001b[39m=\u001b[39;49mmanager)\n\u001b[0;32m    637\u001b[0m \u001b[39melif\u001b[39;00m \u001b[39misinstance\u001b[39m(data, ma\u001b[39m.\u001b[39mMaskedArray):\n\u001b[0;32m    638\u001b[0m     \u001b[39mimport\u001b[39;00m \u001b[39mnumpy\u001b[39;00m\u001b[39m.\u001b[39;00m\u001b[39mma\u001b[39;00m\u001b[39m.\u001b[39;00m\u001b[39mmrecords\u001b[39;00m \u001b[39mas\u001b[39;00m \u001b[39mmrecords\u001b[39;00m\n",
      "File \u001b[1;32mc:\\Users\\linhn\\anaconda3\\lib\\site-packages\\pandas\\core\\internals\\construction.py:502\u001b[0m, in \u001b[0;36mdict_to_mgr\u001b[1;34m(data, index, columns, dtype, typ, copy)\u001b[0m\n\u001b[0;32m    494\u001b[0m     arrays \u001b[39m=\u001b[39m [\n\u001b[0;32m    495\u001b[0m         x\n\u001b[0;32m    496\u001b[0m         \u001b[39mif\u001b[39;00m \u001b[39mnot\u001b[39;00m \u001b[39mhasattr\u001b[39m(x, \u001b[39m\"\u001b[39m\u001b[39mdtype\u001b[39m\u001b[39m\"\u001b[39m) \u001b[39mor\u001b[39;00m \u001b[39mnot\u001b[39;00m \u001b[39misinstance\u001b[39m(x\u001b[39m.\u001b[39mdtype, ExtensionDtype)\n\u001b[0;32m    497\u001b[0m         \u001b[39melse\u001b[39;00m x\u001b[39m.\u001b[39mcopy()\n\u001b[0;32m    498\u001b[0m         \u001b[39mfor\u001b[39;00m x \u001b[39min\u001b[39;00m arrays\n\u001b[0;32m    499\u001b[0m     ]\n\u001b[0;32m    500\u001b[0m     \u001b[39m# TODO: can we get rid of the dt64tz special case above?\u001b[39;00m\n\u001b[1;32m--> 502\u001b[0m \u001b[39mreturn\u001b[39;00m arrays_to_mgr(arrays, columns, index, dtype\u001b[39m=\u001b[39;49mdtype, typ\u001b[39m=\u001b[39;49mtyp, consolidate\u001b[39m=\u001b[39;49mcopy)\n",
      "File \u001b[1;32mc:\\Users\\linhn\\anaconda3\\lib\\site-packages\\pandas\\core\\internals\\construction.py:120\u001b[0m, in \u001b[0;36marrays_to_mgr\u001b[1;34m(arrays, columns, index, dtype, verify_integrity, typ, consolidate)\u001b[0m\n\u001b[0;32m    117\u001b[0m \u001b[39mif\u001b[39;00m verify_integrity:\n\u001b[0;32m    118\u001b[0m     \u001b[39m# figure out the index, if necessary\u001b[39;00m\n\u001b[0;32m    119\u001b[0m     \u001b[39mif\u001b[39;00m index \u001b[39mis\u001b[39;00m \u001b[39mNone\u001b[39;00m:\n\u001b[1;32m--> 120\u001b[0m         index \u001b[39m=\u001b[39m _extract_index(arrays)\n\u001b[0;32m    121\u001b[0m     \u001b[39melse\u001b[39;00m:\n\u001b[0;32m    122\u001b[0m         index \u001b[39m=\u001b[39m ensure_index(index)\n",
      "File \u001b[1;32mc:\\Users\\linhn\\anaconda3\\lib\\site-packages\\pandas\\core\\internals\\construction.py:664\u001b[0m, in \u001b[0;36m_extract_index\u001b[1;34m(data)\u001b[0m\n\u001b[0;32m    661\u001b[0m         \u001b[39mraise\u001b[39;00m \u001b[39mValueError\u001b[39;00m(\u001b[39m\"\u001b[39m\u001b[39mPer-column arrays must each be 1-dimensional\u001b[39m\u001b[39m\"\u001b[39m)\n\u001b[0;32m    663\u001b[0m \u001b[39mif\u001b[39;00m \u001b[39mnot\u001b[39;00m indexes \u001b[39mand\u001b[39;00m \u001b[39mnot\u001b[39;00m raw_lengths:\n\u001b[1;32m--> 664\u001b[0m     \u001b[39mraise\u001b[39;00m \u001b[39mValueError\u001b[39;00m(\u001b[39m\"\u001b[39m\u001b[39mIf using all scalar values, you must pass an index\u001b[39m\u001b[39m\"\u001b[39m)\n\u001b[0;32m    666\u001b[0m \u001b[39melif\u001b[39;00m have_series:\n\u001b[0;32m    667\u001b[0m     index \u001b[39m=\u001b[39m union_indexes(indexes)\n",
      "\u001b[1;31mValueError\u001b[0m: If using all scalar values, you must pass an index"
     ]
    }
   ],
   "source": [
    "top_words_dg = pd.DataFrame(top_words_dict)\n",
    "top_word_fig = top_words_dg.plot(kind='bar', title='lyric length')\n",
    "top_word_fig.show()"
   ]
  }
 ],
 "metadata": {
  "kernelspec": {
   "display_name": "Python 3",
   "language": "python",
   "name": "python3"
  },
  "language_info": {
   "codemirror_mode": {
    "name": "ipython",
    "version": 3
   },
   "file_extension": ".py",
   "mimetype": "text/x-python",
   "name": "python",
   "nbconvert_exporter": "python",
   "pygments_lexer": "ipython3",
   "version": "3.9.12"
  },
  "orig_nbformat": 4
 },
 "nbformat": 4,
 "nbformat_minor": 2
}
