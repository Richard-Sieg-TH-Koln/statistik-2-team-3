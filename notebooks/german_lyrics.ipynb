{
 "cells": [
  {
   "cell_type": "code",
   "execution_count": 11,
   "metadata": {},
   "outputs": [],
   "source": [
    "import pandas as pd"
   ]
  },
  {
   "cell_type": "code",
   "execution_count": 23,
   "metadata": {},
   "outputs": [],
   "source": [
    "df = pd.read_csv('../data/first_dataset_lyrics_only.csv')"
   ]
  },
  {
   "cell_type": "code",
   "execution_count": 24,
   "metadata": {},
   "outputs": [
    {
     "data": {
      "text/html": [
       "<div>\n",
       "<style scoped>\n",
       "    .dataframe tbody tr th:only-of-type {\n",
       "        vertical-align: middle;\n",
       "    }\n",
       "\n",
       "    .dataframe tbody tr th {\n",
       "        vertical-align: top;\n",
       "    }\n",
       "\n",
       "    .dataframe thead th {\n",
       "        text-align: right;\n",
       "    }\n",
       "</style>\n",
       "<table border=\"1\" class=\"dataframe\">\n",
       "  <thead>\n",
       "    <tr style=\"text-align: right;\">\n",
       "      <th></th>\n",
       "      <th>genre</th>\n",
       "      <th>interpret</th>\n",
       "      <th>album</th>\n",
       "      <th>release_year</th>\n",
       "      <th>songtitle</th>\n",
       "      <th>decade</th>\n",
       "      <th>song_id</th>\n",
       "      <th>full_title</th>\n",
       "      <th>release_date_components_raw</th>\n",
       "      <th>release_date_for_display</th>\n",
       "      <th>stats_raw</th>\n",
       "      <th>lyrics</th>\n",
       "    </tr>\n",
       "  </thead>\n",
       "  <tbody>\n",
       "    <tr>\n",
       "      <th>0</th>\n",
       "      <td>Pop</td>\n",
       "      <td>Adel Tawil</td>\n",
       "      <td>Lieder</td>\n",
       "      <td>2013</td>\n",
       "      <td>Immer da</td>\n",
       "      <td>2010</td>\n",
       "      <td>256740</td>\n",
       "      <td>Immer da by Adel Tawil</td>\n",
       "      <td>{'year': 2013, 'month': 11, 'day': 8}</td>\n",
       "      <td>November 8, 2013</td>\n",
       "      <td>{'unreviewed_annotations': 0, 'hot': False}</td>\n",
       "      <td>Immer da Lyrics\\n\\nManchmal hast du gar nichts...</td>\n",
       "    </tr>\n",
       "    <tr>\n",
       "      <th>1</th>\n",
       "      <td>Pop</td>\n",
       "      <td>Adel Tawil</td>\n",
       "      <td>Lieder</td>\n",
       "      <td>2013</td>\n",
       "      <td>Wenn Du liebst</td>\n",
       "      <td>2010</td>\n",
       "      <td>256742</td>\n",
       "      <td>Wenn du liebst by Adel Tawil</td>\n",
       "      <td>{'year': 2013, 'month': 11, 'day': 8}</td>\n",
       "      <td>November 8, 2013</td>\n",
       "      <td>{'unreviewed_annotations': 4, 'hot': False, 'p...</td>\n",
       "      <td>Wenn du liebst Lyrics\\nGanz allein im schwarze...</td>\n",
       "    </tr>\n",
       "    <tr>\n",
       "      <th>2</th>\n",
       "      <td>Pop</td>\n",
       "      <td>Adel Tawil</td>\n",
       "      <td>Lieder</td>\n",
       "      <td>2013</td>\n",
       "      <td>Lieder</td>\n",
       "      <td>2010</td>\n",
       "      <td>236655</td>\n",
       "      <td>Lieder by Adel Tawil</td>\n",
       "      <td>{'year': 2013, 'month': 11, 'day': 8}</td>\n",
       "      <td>November 8, 2013</td>\n",
       "      <td>{'unreviewed_annotations': 0, 'hot': False, 'p...</td>\n",
       "      <td>Lieder Lyrics\\n\\nIch ging wie ein Ägypter\\nHab...</td>\n",
       "    </tr>\n",
       "    <tr>\n",
       "      <th>3</th>\n",
       "      <td>Pop</td>\n",
       "      <td>Adel Tawil</td>\n",
       "      <td>Lieder</td>\n",
       "      <td>2013</td>\n",
       "      <td>Weinen</td>\n",
       "      <td>2010</td>\n",
       "      <td>256745</td>\n",
       "      <td>Weinen by Adel Tawil</td>\n",
       "      <td>{'year': 2013, 'month': 11, 'day': 8}</td>\n",
       "      <td>November 8, 2013</td>\n",
       "      <td>{'unreviewed_annotations': 0, 'hot': False, 'p...</td>\n",
       "      <td>Weinen Lyrics\\n\\nDu warst die ganze Welt für m...</td>\n",
       "    </tr>\n",
       "    <tr>\n",
       "      <th>4</th>\n",
       "      <td>Pop</td>\n",
       "      <td>Adel Tawil</td>\n",
       "      <td>Lieder</td>\n",
       "      <td>2013</td>\n",
       "      <td>Unter Wasser</td>\n",
       "      <td>2010</td>\n",
       "      <td>256747</td>\n",
       "      <td>Unter Wasser by Adel Tawil</td>\n",
       "      <td>{'year': 2013, 'month': 11, 'day': 8}</td>\n",
       "      <td>November 8, 2013</td>\n",
       "      <td>{'unreviewed_annotations': 0, 'hot': False}</td>\n",
       "      <td>Unter Wasser Lyrics\\n\\nKeine Chance, es ist vi...</td>\n",
       "    </tr>\n",
       "  </tbody>\n",
       "</table>\n",
       "</div>"
      ],
      "text/plain": [
       "  genre   interpret   album  release_year       songtitle  decade  song_id  \\\n",
       "0   Pop  Adel Tawil  Lieder          2013        Immer da    2010   256740   \n",
       "1   Pop  Adel Tawil  Lieder          2013  Wenn Du liebst    2010   256742   \n",
       "2   Pop  Adel Tawil  Lieder          2013          Lieder    2010   236655   \n",
       "3   Pop  Adel Tawil  Lieder          2013          Weinen    2010   256745   \n",
       "4   Pop  Adel Tawil  Lieder          2013    Unter Wasser    2010   256747   \n",
       "\n",
       "                     full_title            release_date_components_raw  \\\n",
       "0        Immer da by Adel Tawil  {'year': 2013, 'month': 11, 'day': 8}   \n",
       "1  Wenn du liebst by Adel Tawil  {'year': 2013, 'month': 11, 'day': 8}   \n",
       "2          Lieder by Adel Tawil  {'year': 2013, 'month': 11, 'day': 8}   \n",
       "3          Weinen by Adel Tawil  {'year': 2013, 'month': 11, 'day': 8}   \n",
       "4    Unter Wasser by Adel Tawil  {'year': 2013, 'month': 11, 'day': 8}   \n",
       "\n",
       "  release_date_for_display                                          stats_raw  \\\n",
       "0         November 8, 2013        {'unreviewed_annotations': 0, 'hot': False}   \n",
       "1         November 8, 2013  {'unreviewed_annotations': 4, 'hot': False, 'p...   \n",
       "2         November 8, 2013  {'unreviewed_annotations': 0, 'hot': False, 'p...   \n",
       "3         November 8, 2013  {'unreviewed_annotations': 0, 'hot': False, 'p...   \n",
       "4         November 8, 2013        {'unreviewed_annotations': 0, 'hot': False}   \n",
       "\n",
       "                                              lyrics  \n",
       "0  Immer da Lyrics\\n\\nManchmal hast du gar nichts...  \n",
       "1  Wenn du liebst Lyrics\\nGanz allein im schwarze...  \n",
       "2  Lieder Lyrics\\n\\nIch ging wie ein Ägypter\\nHab...  \n",
       "3  Weinen Lyrics\\n\\nDu warst die ganze Welt für m...  \n",
       "4  Unter Wasser Lyrics\\n\\nKeine Chance, es ist vi...  "
      ]
     },
     "execution_count": 24,
     "metadata": {},
     "output_type": "execute_result"
    }
   ],
   "source": [
    "# in der Spalttexte 'Lyrics' sind die Songtitel noch enthalten\n",
    "df.head()"
   ]
  },
  {
   "cell_type": "code",
   "execution_count": 20,
   "metadata": {},
   "outputs": [],
   "source": [
    "df['lyrics'] = df['lyrics'].str.replace(r'^.*?Lyrics', '', regex=True)\n",
    "df['lyrics'] = df['lyrics'].str.replace('^.*?\\n\\n|\\n', ' ', regex=True)"
   ]
  },
  {
   "cell_type": "code",
   "execution_count": 21,
   "metadata": {},
   "outputs": [
    {
     "data": {
      "text/plain": [
       "0        Manchmal hast du gar nichts mehr Nur noch dei...\n",
       "1        Ganz allein im schwarzen Licht wie hinter Gla...\n",
       "2        Ich ging wie ein Ägypter Hab' mit Tauben gewe...\n",
       "3        Du warst die ganze Welt für mich Warst das, w...\n",
       "4        Keine Chance, es ist viel zu tief Keine Chanc...\n",
       "                              ...                        \n",
       "4537     Du wolltest deine Freiheit haben Nun stehst d...\n",
       "4538     Wenn die Sonne untergeht in der Provinz, ho h...\n",
       "4539     Briefe von gestern Längst schon verbrannt Mei...\n",
       "4540                                                 E...\n",
       "4541     Der Albtraum, dem ich entstamme, steht auf Fü...\n",
       "Name: lyrics, Length: 4542, dtype: object"
      ]
     },
     "execution_count": 21,
     "metadata": {},
     "output_type": "execute_result"
    }
   ],
   "source": [
    "df['lyrics']"
   ]
  },
  {
   "cell_type": "code",
   "execution_count": 27,
   "metadata": {},
   "outputs": [
    {
     "data": {
      "text/plain": [
       "genre                          object\n",
       "interpret                      object\n",
       "album                          object\n",
       "release_year                    int64\n",
       "songtitle                      object\n",
       "decade                          int64\n",
       "song_id                         int64\n",
       "full_title                     object\n",
       "release_date_components_raw    object\n",
       "release_date_for_display       object\n",
       "stats_raw                      object\n",
       "lyrics                          int64\n",
       "dtype: object"
      ]
     },
     "execution_count": 27,
     "metadata": {},
     "output_type": "execute_result"
    }
   ],
   "source": [
    "df.dtypes"
   ]
  },
  {
   "cell_type": "code",
   "execution_count": 28,
   "metadata": {},
   "outputs": [
    {
     "data": {
      "text/plain": [
       "4542"
      ]
     },
     "execution_count": 28,
     "metadata": {},
     "output_type": "execute_result"
    }
   ],
   "source": [
    "len(df)"
   ]
  },
  {
   "cell_type": "code",
   "execution_count": 25,
   "metadata": {},
   "outputs": [],
   "source": [
    "df['lyrics'] = df['lyrics'].apply(lambda x: len(x.split()))"
   ]
  },
  {
   "cell_type": "code",
   "execution_count": 29,
   "metadata": {},
   "outputs": [
    {
     "data": {
      "text/plain": [
       "genre\n",
       "Rap         1544\n",
       "Rock        1262\n",
       "Pop         1125\n",
       "Schlager     611\n",
       "dtype: int64"
      ]
     },
     "execution_count": 29,
     "metadata": {},
     "output_type": "execute_result"
    }
   ],
   "source": [
    "df.value_counts('genre')"
   ]
  },
  {
   "cell_type": "code",
   "execution_count": 47,
   "metadata": {},
   "outputs": [
    {
     "ename": "AttributeError",
     "evalue": "'Series' object has no attribute 'len'",
     "output_type": "error",
     "traceback": [
      "\u001b[1;31m---------------------------------------------------------------------------\u001b[0m",
      "\u001b[1;31mAttributeError\u001b[0m                            Traceback (most recent call last)",
      "\u001b[1;32mc:\\Users\\linhn\\github-classroom\\Richard-Sieg-TH-Koln\\statistik-2-team-3\\notebooks\\german_lyrics.ipynb Cell 10\u001b[0m in \u001b[0;36m<cell line: 4>\u001b[1;34m()\u001b[0m\n\u001b[0;32m      <a href='vscode-notebook-cell:/c%3A/Users/linhn/github-classroom/Richard-Sieg-TH-Koln/statistik-2-team-3/notebooks/german_lyrics.ipynb#X14sZmlsZQ%3D%3D?line=4'>5</a>\u001b[0m lyrics_genre \u001b[39m=\u001b[39m df\u001b[39m.\u001b[39mloc[df[\u001b[39m'\u001b[39m\u001b[39mgenre\u001b[39m\u001b[39m'\u001b[39m] \u001b[39m==\u001b[39m genre]\n\u001b[0;32m      <a href='vscode-notebook-cell:/c%3A/Users/linhn/github-classroom/Richard-Sieg-TH-Koln/statistik-2-team-3/notebooks/german_lyrics.ipynb#X14sZmlsZQ%3D%3D?line=6'>7</a>\u001b[0m \u001b[39m# # Berechnen der durchschnittlichen Länge der Lyrics\u001b[39;00m\n\u001b[1;32m----> <a href='vscode-notebook-cell:/c%3A/Users/linhn/github-classroom/Richard-Sieg-TH-Koln/statistik-2-team-3/notebooks/german_lyrics.ipynb#X14sZmlsZQ%3D%3D?line=7'>8</a>\u001b[0m lyrics_len \u001b[39m=\u001b[39m lyrics_genre[\u001b[39m'\u001b[39;49m\u001b[39mlyrics\u001b[39;49m\u001b[39m'\u001b[39;49m]\u001b[39m.\u001b[39;49mlen()\n\u001b[0;32m      <a href='vscode-notebook-cell:/c%3A/Users/linhn/github-classroom/Richard-Sieg-TH-Koln/statistik-2-team-3/notebooks/german_lyrics.ipynb#X14sZmlsZQ%3D%3D?line=8'>9</a>\u001b[0m \u001b[39m# avg_len = lyrics_len.mean()\u001b[39;00m\n\u001b[0;32m     <a href='vscode-notebook-cell:/c%3A/Users/linhn/github-classroom/Richard-Sieg-TH-Koln/statistik-2-team-3/notebooks/german_lyrics.ipynb#X14sZmlsZQ%3D%3D?line=10'>11</a>\u001b[0m \u001b[39mprint\u001b[39m(lyrics_genre)\n",
      "File \u001b[1;32mc:\\Users\\linhn\\anaconda3\\lib\\site-packages\\pandas\\core\\generic.py:5575\u001b[0m, in \u001b[0;36mNDFrame.__getattr__\u001b[1;34m(self, name)\u001b[0m\n\u001b[0;32m   5568\u001b[0m \u001b[39mif\u001b[39;00m (\n\u001b[0;32m   5569\u001b[0m     name \u001b[39mnot\u001b[39;00m \u001b[39min\u001b[39;00m \u001b[39mself\u001b[39m\u001b[39m.\u001b[39m_internal_names_set\n\u001b[0;32m   5570\u001b[0m     \u001b[39mand\u001b[39;00m name \u001b[39mnot\u001b[39;00m \u001b[39min\u001b[39;00m \u001b[39mself\u001b[39m\u001b[39m.\u001b[39m_metadata\n\u001b[0;32m   5571\u001b[0m     \u001b[39mand\u001b[39;00m name \u001b[39mnot\u001b[39;00m \u001b[39min\u001b[39;00m \u001b[39mself\u001b[39m\u001b[39m.\u001b[39m_accessors\n\u001b[0;32m   5572\u001b[0m     \u001b[39mand\u001b[39;00m \u001b[39mself\u001b[39m\u001b[39m.\u001b[39m_info_axis\u001b[39m.\u001b[39m_can_hold_identifiers_and_holds_name(name)\n\u001b[0;32m   5573\u001b[0m ):\n\u001b[0;32m   5574\u001b[0m     \u001b[39mreturn\u001b[39;00m \u001b[39mself\u001b[39m[name]\n\u001b[1;32m-> 5575\u001b[0m \u001b[39mreturn\u001b[39;00m \u001b[39mobject\u001b[39;49m\u001b[39m.\u001b[39;49m\u001b[39m__getattribute__\u001b[39;49m(\u001b[39mself\u001b[39;49m, name)\n",
      "\u001b[1;31mAttributeError\u001b[0m: 'Series' object has no attribute 'len'"
     ]
    }
   ],
   "source": [
    "# Filtern der Lyrics nach Genre\n",
    "genres = df['genre'].unique()\n",
    "genres_len = []\n",
    "for genre in genres:\n",
    "    lyrics_genre = df.loc[df['genre'] == genre]\n",
    "    \n",
    "    # # Berechnen der durchschnittlichen Länge der Lyrics\n",
    "    lyrics_len = lyrics_genre['lyrics'].len()\n",
    "    # avg_len = lyrics_len.mean()\n",
    "    \n",
    "    print(lyrics_genre)\n",
    "    # print(f\"Durchschnittliche Länge der Lyrics im Genre '{genre}': {avg_len:.2f} Zeichen\")\n",
    "# print(lyrics_genre)"
   ]
  },
  {
   "cell_type": "code",
   "execution_count": 30,
   "metadata": {},
   "outputs": [
    {
     "data": {
      "text/plain": [
       "Die Ärzte             302\n",
       "Udo Lindenberg        168\n",
       "Andrea Berg           147\n",
       "Bushido               132\n",
       "Herbert Grönemeyer    121\n",
       "                     ... \n",
       "DJ Tomekk               4\n",
       "Von wegen Lisbeth       3\n",
       "Karel Gott              2\n",
       "Guildo Horn             1\n",
       "Andreas Gabalier        1\n",
       "Name: interpret, Length: 91, dtype: int64"
      ]
     },
     "execution_count": 30,
     "metadata": {},
     "output_type": "execute_result"
    }
   ],
   "source": [
    "df.interpret.value_counts()"
   ]
  },
  {
   "cell_type": "code",
   "execution_count": 26,
   "metadata": {},
   "outputs": [
    {
     "name": "stdout",
     "output_type": "stream",
     "text": [
      "Mittelwert:  383.0482166446499\n",
      "Median:  264.0\n",
      "Standardabweichung:  2057.589137854281\n",
      "Maximum:  95921\n",
      "Minimum:  6\n"
     ]
    }
   ],
   "source": [
    "mean_length = df['lyrics'].mean()\n",
    "median_length = df['lyrics'].median()\n",
    "std_length = df['lyrics'].std()\n",
    "max_length = df['lyrics'].max()\n",
    "min_length = df['lyrics'].min()\n",
    "\n",
    "print('Mittelwert: ', mean_length)\n",
    "print('Median: ', median_length)\n",
    "print('Standardabweichung: ', std_length)\n",
    "print('Maximum: ', max_length)\n",
    "print('Minimum: ', min_length)"
   ]
  }
 ],
 "metadata": {
  "kernelspec": {
   "display_name": "Python 3",
   "language": "python",
   "name": "python3"
  },
  "language_info": {
   "codemirror_mode": {
    "name": "ipython",
    "version": 3
   },
   "file_extension": ".py",
   "mimetype": "text/x-python",
   "name": "python",
   "nbconvert_exporter": "python",
   "pygments_lexer": "ipython3",
   "version": "3.9.12"
  },
  "orig_nbformat": 4
 },
 "nbformat": 4,
 "nbformat_minor": 2
}
