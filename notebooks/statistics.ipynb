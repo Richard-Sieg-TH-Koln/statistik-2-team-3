{
 "cells": [
  {
   "attachments": {},
   "cell_type": "markdown",
   "metadata": {},
   "source": [
    "### Im welchen Genre treten die meisten Collaborationen auf? "
   ]
  },
  {
   "cell_type": "code",
   "execution_count": 1,
   "metadata": {},
   "outputs": [
    {
     "name": "stderr",
     "output_type": "stream",
     "text": [
      "c:\\Users\\lotus\\anaconda3\\lib\\site-packages\\pandas\\core\\computation\\expressions.py:20: UserWarning: Pandas requires version '2.7.3' or newer of 'numexpr' (version '2.7.1' currently installed).\n",
      "  from pandas.core.computation.check import NUMEXPR_INSTALLED\n"
     ]
    }
   ],
   "source": [
    "import pandas as pd\n",
    "import spacy\n",
    "import spacy.cli\n",
    "import plotly\n",
    "import plotly.express as px\n",
    "import matplotlib.pyplot as plt\n",
    "from language_tool_python import LanguageTool"
   ]
  },
  {
   "cell_type": "code",
   "execution_count": 79,
   "metadata": {},
   "outputs": [],
   "source": [
    "df = pd.read_csv('../data/dataset_cleaned_file_v5.csv')"
   ]
  },
  {
   "cell_type": "code",
   "execution_count": 80,
   "metadata": {},
   "outputs": [
    {
     "data": {
      "text/html": [
       "<div>\n",
       "<style scoped>\n",
       "    .dataframe tbody tr th:only-of-type {\n",
       "        vertical-align: middle;\n",
       "    }\n",
       "\n",
       "    .dataframe tbody tr th {\n",
       "        vertical-align: top;\n",
       "    }\n",
       "\n",
       "    .dataframe thead th {\n",
       "        text-align: right;\n",
       "    }\n",
       "</style>\n",
       "<table border=\"1\" class=\"dataframe\">\n",
       "  <thead>\n",
       "    <tr style=\"text-align: right;\">\n",
       "      <th></th>\n",
       "      <th>genre</th>\n",
       "      <th>interpret</th>\n",
       "      <th>album</th>\n",
       "      <th>release_year</th>\n",
       "      <th>songtitle</th>\n",
       "      <th>decade</th>\n",
       "      <th>song_id</th>\n",
       "      <th>full_title</th>\n",
       "      <th>release_date_components_raw</th>\n",
       "      <th>release_date_for_display</th>\n",
       "      <th>stats_raw</th>\n",
       "      <th>lyrics</th>\n",
       "      <th>weekday</th>\n",
       "      <th>word_count</th>\n",
       "    </tr>\n",
       "  </thead>\n",
       "  <tbody>\n",
       "    <tr>\n",
       "      <th>0</th>\n",
       "      <td>Pop</td>\n",
       "      <td>Adel Tawil</td>\n",
       "      <td>Lieder</td>\n",
       "      <td>2013</td>\n",
       "      <td>Immer da</td>\n",
       "      <td>2010</td>\n",
       "      <td>256740</td>\n",
       "      <td>Immer da by Adel Tawil</td>\n",
       "      <td>{'year': 2013, 'month': 11, 'day': 8}</td>\n",
       "      <td>2013-11-08</td>\n",
       "      <td>{'unreviewed_annotations': 0, 'hot': False}</td>\n",
       "      <td>Manchmal hast du gar nichts mehr Nur noch de...</td>\n",
       "      <td>Friday</td>\n",
       "      <td>60</td>\n",
       "    </tr>\n",
       "    <tr>\n",
       "      <th>1</th>\n",
       "      <td>Pop</td>\n",
       "      <td>Adel Tawil</td>\n",
       "      <td>Lieder</td>\n",
       "      <td>2013</td>\n",
       "      <td>Wenn Du liebst</td>\n",
       "      <td>2010</td>\n",
       "      <td>256742</td>\n",
       "      <td>Wenn du liebst by Adel Tawil</td>\n",
       "      <td>{'year': 2013, 'month': 11, 'day': 8}</td>\n",
       "      <td>2013-11-08</td>\n",
       "      <td>{'unreviewed_annotations': 4, 'hot': False, 'p...</td>\n",
       "      <td>Ganz allein im schwarzen Licht wie hinter Gla...</td>\n",
       "      <td>Friday</td>\n",
       "      <td>100</td>\n",
       "    </tr>\n",
       "    <tr>\n",
       "      <th>2</th>\n",
       "      <td>Pop</td>\n",
       "      <td>Adel Tawil</td>\n",
       "      <td>Lieder</td>\n",
       "      <td>2013</td>\n",
       "      <td>Lieder</td>\n",
       "      <td>2010</td>\n",
       "      <td>236655</td>\n",
       "      <td>Lieder by Adel Tawil</td>\n",
       "      <td>{'year': 2013, 'month': 11, 'day': 8}</td>\n",
       "      <td>2013-11-08</td>\n",
       "      <td>{'unreviewed_annotations': 0, 'hot': False, 'p...</td>\n",
       "      <td>Ich ging wie ein Ägypter Hab' mit Tauben gew...</td>\n",
       "      <td>Friday</td>\n",
       "      <td>145</td>\n",
       "    </tr>\n",
       "    <tr>\n",
       "      <th>3</th>\n",
       "      <td>Pop</td>\n",
       "      <td>Adel Tawil</td>\n",
       "      <td>Lieder</td>\n",
       "      <td>2013</td>\n",
       "      <td>Weinen</td>\n",
       "      <td>2010</td>\n",
       "      <td>256745</td>\n",
       "      <td>Weinen by Adel Tawil</td>\n",
       "      <td>{'year': 2013, 'month': 11, 'day': 8}</td>\n",
       "      <td>2013-11-08</td>\n",
       "      <td>{'unreviewed_annotations': 0, 'hot': False, 'p...</td>\n",
       "      <td>Du warst die ganze Welt für mich Warst das, ...</td>\n",
       "      <td>Friday</td>\n",
       "      <td>69</td>\n",
       "    </tr>\n",
       "    <tr>\n",
       "      <th>4</th>\n",
       "      <td>Pop</td>\n",
       "      <td>Adel Tawil</td>\n",
       "      <td>Lieder</td>\n",
       "      <td>2013</td>\n",
       "      <td>Unter Wasser</td>\n",
       "      <td>2010</td>\n",
       "      <td>256747</td>\n",
       "      <td>Unter Wasser by Adel Tawil</td>\n",
       "      <td>{'year': 2013, 'month': 11, 'day': 8}</td>\n",
       "      <td>2013-11-08</td>\n",
       "      <td>{'unreviewed_annotations': 0, 'hot': False}</td>\n",
       "      <td>Keine Chance, es ist viel zu tief Keine Chan...</td>\n",
       "      <td>Friday</td>\n",
       "      <td>108</td>\n",
       "    </tr>\n",
       "    <tr>\n",
       "      <th>...</th>\n",
       "      <td>...</td>\n",
       "      <td>...</td>\n",
       "      <td>...</td>\n",
       "      <td>...</td>\n",
       "      <td>...</td>\n",
       "      <td>...</td>\n",
       "      <td>...</td>\n",
       "      <td>...</td>\n",
       "      <td>...</td>\n",
       "      <td>...</td>\n",
       "      <td>...</td>\n",
       "      <td>...</td>\n",
       "      <td>...</td>\n",
       "      <td>...</td>\n",
       "    </tr>\n",
       "    <tr>\n",
       "      <th>4187</th>\n",
       "      <td>Schlager</td>\n",
       "      <td>Wolfgang Petry</td>\n",
       "      <td>Achterbahn</td>\n",
       "      <td>2001</td>\n",
       "      <td>Du hast mein Herz geklaut</td>\n",
       "      <td>2000</td>\n",
       "      <td>716319</td>\n",
       "      <td>Du hast mein Herz geklaut by Wolfgang Petry</td>\n",
       "      <td>NaN</td>\n",
       "      <td>NaN</td>\n",
       "      <td>{'unreviewed_annotations': 0, 'hot': False}</td>\n",
       "      <td>Die Luft ist raus - ich glaub nicht mehr an W...</td>\n",
       "      <td>NaN</td>\n",
       "      <td>53</td>\n",
       "    </tr>\n",
       "    <tr>\n",
       "      <th>4188</th>\n",
       "      <td>Schlager</td>\n",
       "      <td>Wolfgang Petry</td>\n",
       "      <td>Achterbahn</td>\n",
       "      <td>2001</td>\n",
       "      <td>Leg dein Gesicht an mein Gesicht</td>\n",
       "      <td>2000</td>\n",
       "      <td>716326</td>\n",
       "      <td>Leg dein Gesicht an mein Gesicht by Wolfgang P...</td>\n",
       "      <td>NaN</td>\n",
       "      <td>NaN</td>\n",
       "      <td>{'unreviewed_annotations': 0, 'hot': False}</td>\n",
       "      <td>Du wolltest deine Freiheit haben Nun stehst d...</td>\n",
       "      <td>NaN</td>\n",
       "      <td>51</td>\n",
       "    </tr>\n",
       "    <tr>\n",
       "      <th>4189</th>\n",
       "      <td>Schlager</td>\n",
       "      <td>Wolfgang Petry</td>\n",
       "      <td>Achterbahn</td>\n",
       "      <td>2001</td>\n",
       "      <td>Scheisse ist braun</td>\n",
       "      <td>2000</td>\n",
       "      <td>716331</td>\n",
       "      <td>Scheisse ist braun by Wolfgang Petry</td>\n",
       "      <td>NaN</td>\n",
       "      <td>NaN</td>\n",
       "      <td>{'unreviewed_annotations': 0, 'hot': False}</td>\n",
       "      <td>Wenn die Sonne untergeht in der Provinz, ho h...</td>\n",
       "      <td>NaN</td>\n",
       "      <td>94</td>\n",
       "    </tr>\n",
       "    <tr>\n",
       "      <th>4190</th>\n",
       "      <td>Schlager</td>\n",
       "      <td>Wolfgang Petry</td>\n",
       "      <td>Kein Grund zur Panik</td>\n",
       "      <td>2003</td>\n",
       "      <td>Jetzt oder nie</td>\n",
       "      <td>2000</td>\n",
       "      <td>1447255</td>\n",
       "      <td>Mit offenen Armen by Wolfgang Petry</td>\n",
       "      <td>NaN</td>\n",
       "      <td>NaN</td>\n",
       "      <td>{'unreviewed_annotations': 0, 'hot': False}</td>\n",
       "      <td>Wolfgang Petry - Anfang Vom Ende Lyrics Briefe...</td>\n",
       "      <td>NaN</td>\n",
       "      <td>50</td>\n",
       "    </tr>\n",
       "    <tr>\n",
       "      <th>4191</th>\n",
       "      <td>Schlager</td>\n",
       "      <td>Wolfgang Petry</td>\n",
       "      <td>Kein Grund zur Panik</td>\n",
       "      <td>2003</td>\n",
       "      <td>Wenn du bei mir bist</td>\n",
       "      <td>2000</td>\n",
       "      <td>548144</td>\n",
       "      <td>Rotkohl by Zugezogen Maskulin</td>\n",
       "      <td>{'year': 2011, 'month': None, 'day': None}</td>\n",
       "      <td>2011-01-01</td>\n",
       "      <td>{'unreviewed_annotations': 4, 'hot': False}</td>\n",
       "      <td>Der Albtraum, dem ich entstamme, steht auf Fü...</td>\n",
       "      <td>Saturday</td>\n",
       "      <td>213</td>\n",
       "    </tr>\n",
       "  </tbody>\n",
       "</table>\n",
       "<p>4192 rows × 14 columns</p>\n",
       "</div>"
      ],
      "text/plain": [
       "         genre       interpret                 album  release_year   \n",
       "0          Pop      Adel Tawil                Lieder          2013  \\\n",
       "1          Pop      Adel Tawil                Lieder          2013   \n",
       "2          Pop      Adel Tawil                Lieder          2013   \n",
       "3          Pop      Adel Tawil                Lieder          2013   \n",
       "4          Pop      Adel Tawil                Lieder          2013   \n",
       "...        ...             ...                   ...           ...   \n",
       "4187  Schlager  Wolfgang Petry            Achterbahn          2001   \n",
       "4188  Schlager  Wolfgang Petry            Achterbahn          2001   \n",
       "4189  Schlager  Wolfgang Petry            Achterbahn          2001   \n",
       "4190  Schlager  Wolfgang Petry  Kein Grund zur Panik          2003   \n",
       "4191  Schlager  Wolfgang Petry  Kein Grund zur Panik          2003   \n",
       "\n",
       "                             songtitle  decade  song_id   \n",
       "0                             Immer da    2010   256740  \\\n",
       "1                       Wenn Du liebst    2010   256742   \n",
       "2                               Lieder    2010   236655   \n",
       "3                               Weinen    2010   256745   \n",
       "4                         Unter Wasser    2010   256747   \n",
       "...                                ...     ...      ...   \n",
       "4187         Du hast mein Herz geklaut    2000   716319   \n",
       "4188  Leg dein Gesicht an mein Gesicht    2000   716326   \n",
       "4189                Scheisse ist braun    2000   716331   \n",
       "4190                    Jetzt oder nie    2000  1447255   \n",
       "4191              Wenn du bei mir bist    2000   548144   \n",
       "\n",
       "                                             full_title   \n",
       "0                                Immer da by Adel Tawil  \\\n",
       "1                          Wenn du liebst by Adel Tawil   \n",
       "2                                  Lieder by Adel Tawil   \n",
       "3                                  Weinen by Adel Tawil   \n",
       "4                            Unter Wasser by Adel Tawil   \n",
       "...                                                 ...   \n",
       "4187        Du hast mein Herz geklaut by Wolfgang Petry   \n",
       "4188  Leg dein Gesicht an mein Gesicht by Wolfgang P...   \n",
       "4189               Scheisse ist braun by Wolfgang Petry   \n",
       "4190                Mit offenen Armen by Wolfgang Petry   \n",
       "4191                      Rotkohl by Zugezogen Maskulin   \n",
       "\n",
       "                     release_date_components_raw release_date_for_display   \n",
       "0          {'year': 2013, 'month': 11, 'day': 8}               2013-11-08  \\\n",
       "1          {'year': 2013, 'month': 11, 'day': 8}               2013-11-08   \n",
       "2          {'year': 2013, 'month': 11, 'day': 8}               2013-11-08   \n",
       "3          {'year': 2013, 'month': 11, 'day': 8}               2013-11-08   \n",
       "4          {'year': 2013, 'month': 11, 'day': 8}               2013-11-08   \n",
       "...                                          ...                      ...   \n",
       "4187                                         NaN                      NaN   \n",
       "4188                                         NaN                      NaN   \n",
       "4189                                         NaN                      NaN   \n",
       "4190                                         NaN                      NaN   \n",
       "4191  {'year': 2011, 'month': None, 'day': None}               2011-01-01   \n",
       "\n",
       "                                              stats_raw   \n",
       "0           {'unreviewed_annotations': 0, 'hot': False}  \\\n",
       "1     {'unreviewed_annotations': 4, 'hot': False, 'p...   \n",
       "2     {'unreviewed_annotations': 0, 'hot': False, 'p...   \n",
       "3     {'unreviewed_annotations': 0, 'hot': False, 'p...   \n",
       "4           {'unreviewed_annotations': 0, 'hot': False}   \n",
       "...                                                 ...   \n",
       "4187        {'unreviewed_annotations': 0, 'hot': False}   \n",
       "4188        {'unreviewed_annotations': 0, 'hot': False}   \n",
       "4189        {'unreviewed_annotations': 0, 'hot': False}   \n",
       "4190        {'unreviewed_annotations': 0, 'hot': False}   \n",
       "4191        {'unreviewed_annotations': 4, 'hot': False}   \n",
       "\n",
       "                                                 lyrics   weekday  word_count  \n",
       "0       Manchmal hast du gar nichts mehr Nur noch de...    Friday          60  \n",
       "1      Ganz allein im schwarzen Licht wie hinter Gla...    Friday         100  \n",
       "2       Ich ging wie ein Ägypter Hab' mit Tauben gew...    Friday         145  \n",
       "3       Du warst die ganze Welt für mich Warst das, ...    Friday          69  \n",
       "4       Keine Chance, es ist viel zu tief Keine Chan...    Friday         108  \n",
       "...                                                 ...       ...         ...  \n",
       "4187   Die Luft ist raus - ich glaub nicht mehr an W...       NaN          53  \n",
       "4188   Du wolltest deine Freiheit haben Nun stehst d...       NaN          51  \n",
       "4189   Wenn die Sonne untergeht in der Provinz, ho h...       NaN          94  \n",
       "4190  Wolfgang Petry - Anfang Vom Ende Lyrics Briefe...       NaN          50  \n",
       "4191   Der Albtraum, dem ich entstamme, steht auf Fü...  Saturday         213  \n",
       "\n",
       "[4192 rows x 14 columns]"
      ]
     },
     "execution_count": 80,
     "metadata": {},
     "output_type": "execute_result"
    }
   ],
   "source": [
    "df"
   ]
  },
  {
   "cell_type": "code",
   "execution_count": 4,
   "metadata": {},
   "outputs": [],
   "source": [
    "df['full_title'].fillna('', inplace=True)\n",
    "\n",
    "colabs = df[df[\"full_title\"].str.contains(\"Ft\")]"
   ]
  },
  {
   "cell_type": "code",
   "execution_count": 5,
   "metadata": {},
   "outputs": [
    {
     "data": {
      "text/html": [
       "<div>\n",
       "<style scoped>\n",
       "    .dataframe tbody tr th:only-of-type {\n",
       "        vertical-align: middle;\n",
       "    }\n",
       "\n",
       "    .dataframe tbody tr th {\n",
       "        vertical-align: top;\n",
       "    }\n",
       "\n",
       "    .dataframe thead th {\n",
       "        text-align: right;\n",
       "    }\n",
       "</style>\n",
       "<table border=\"1\" class=\"dataframe\">\n",
       "  <thead>\n",
       "    <tr style=\"text-align: right;\">\n",
       "      <th></th>\n",
       "      <th>genre</th>\n",
       "      <th>interpret</th>\n",
       "      <th>album</th>\n",
       "      <th>release_year</th>\n",
       "      <th>songtitle</th>\n",
       "      <th>decade</th>\n",
       "      <th>song_id</th>\n",
       "      <th>full_title</th>\n",
       "      <th>release_date_components_raw</th>\n",
       "      <th>release_date_for_display</th>\n",
       "      <th>stats_raw</th>\n",
       "      <th>lyrics</th>\n",
       "      <th>weekday</th>\n",
       "    </tr>\n",
       "  </thead>\n",
       "  <tbody>\n",
       "    <tr>\n",
       "      <th>6</th>\n",
       "      <td>Pop</td>\n",
       "      <td>Adel Tawil</td>\n",
       "      <td>Lieder</td>\n",
       "      <td>2013</td>\n",
       "      <td>Aschenflug</td>\n",
       "      <td>2010</td>\n",
       "      <td>251117</td>\n",
       "      <td>Aschenflug by Adel Tawil (Ft. Prinz Pi &amp; Sido)</td>\n",
       "      <td>{'year': 2013, 'month': 11, 'day': 1}</td>\n",
       "      <td>2013-11-01</td>\n",
       "      <td>{'unreviewed_annotations': 0, 'hot': False, 'p...</td>\n",
       "      <td>Ey Kumpel, noch beim letzten Mal, da war in ...</td>\n",
       "      <td>Friday</td>\n",
       "    </tr>\n",
       "    <tr>\n",
       "      <th>7</th>\n",
       "      <td>Pop</td>\n",
       "      <td>Adel Tawil</td>\n",
       "      <td>Lieder</td>\n",
       "      <td>2013</td>\n",
       "      <td>Zuhause</td>\n",
       "      <td>2010</td>\n",
       "      <td>256752</td>\n",
       "      <td>Zuhause by Adel Tawil (Ft. Matisyahu)</td>\n",
       "      <td>{'year': 2013, 'month': 11, 'day': 8}</td>\n",
       "      <td>2013-11-08</td>\n",
       "      <td>{'unreviewed_annotations': 1, 'hot': False, 'p...</td>\n",
       "      <td>Glaub mir irgendwann wird die Liebe regieren...</td>\n",
       "      <td>Friday</td>\n",
       "    </tr>\n",
       "    <tr>\n",
       "      <th>9</th>\n",
       "      <td>Pop</td>\n",
       "      <td>Adel Tawil</td>\n",
       "      <td>Lieder</td>\n",
       "      <td>2013</td>\n",
       "      <td>Graffiti Love</td>\n",
       "      <td>2010</td>\n",
       "      <td>256754</td>\n",
       "      <td>Graffiti Love by Adel Tawil (Ft. Humpe)</td>\n",
       "      <td>{'year': 2013, 'month': 11, 'day': 8}</td>\n",
       "      <td>2013-11-08</td>\n",
       "      <td>{'unreviewed_annotations': 0, 'hot': False}</td>\n",
       "      <td>Ich liege wach in meinem Bett, ich kann nich...</td>\n",
       "      <td>Friday</td>\n",
       "    </tr>\n",
       "    <tr>\n",
       "      <th>12</th>\n",
       "      <td>Pop</td>\n",
       "      <td>Adel Tawil</td>\n",
       "      <td>Lieder</td>\n",
       "      <td>2013</td>\n",
       "      <td>Dunkelheit</td>\n",
       "      <td>2010</td>\n",
       "      <td>256757</td>\n",
       "      <td>Dunkelheit by Adel Tawil (Ft. Jasmin Tawil)</td>\n",
       "      <td>{'year': 2013, 'month': 11, 'day': 8}</td>\n",
       "      <td>2013-11-08</td>\n",
       "      <td>{'unreviewed_annotations': 0, 'hot': False}</td>\n",
       "      <td>Ich teil mit dir den größten Moment Ich teil...</td>\n",
       "      <td>Friday</td>\n",
       "    </tr>\n",
       "    <tr>\n",
       "      <th>145</th>\n",
       "      <td>Pop</td>\n",
       "      <td>Clueso</td>\n",
       "      <td>Gute Musik</td>\n",
       "      <td>2004</td>\n",
       "      <td>Dort wo du wohnst</td>\n",
       "      <td>2000</td>\n",
       "      <td>599400</td>\n",
       "      <td>Dort Wo Du Wohnst by Clueso (Ft. Delhia de Fra...</td>\n",
       "      <td>NaN</td>\n",
       "      <td>NaN</td>\n",
       "      <td>{'unreviewed_annotations': 0, 'hot': False}</td>\n",
       "      <td>Wie viel Seiten hat ein unbeschriebenes Blatt...</td>\n",
       "      <td>NaN</td>\n",
       "    </tr>\n",
       "    <tr>\n",
       "      <th>...</th>\n",
       "      <td>...</td>\n",
       "      <td>...</td>\n",
       "      <td>...</td>\n",
       "      <td>...</td>\n",
       "      <td>...</td>\n",
       "      <td>...</td>\n",
       "      <td>...</td>\n",
       "      <td>...</td>\n",
       "      <td>...</td>\n",
       "      <td>...</td>\n",
       "      <td>...</td>\n",
       "      <td>...</td>\n",
       "      <td>...</td>\n",
       "    </tr>\n",
       "    <tr>\n",
       "      <th>3905</th>\n",
       "      <td>Rock</td>\n",
       "      <td>Marius Müller-Westernhagen</td>\n",
       "      <td>Nahaufnahme</td>\n",
       "      <td>2005</td>\n",
       "      <td>Liebst Du mich</td>\n",
       "      <td>2000</td>\n",
       "      <td>483002</td>\n",
       "      <td>Nichts zu tun by DIA (Sime &amp; Audiomax) (Ft. Il...</td>\n",
       "      <td>{'year': 2009, 'month': 11, 'day': 13}</td>\n",
       "      <td>2009-11-13</td>\n",
       "      <td>{'unreviewed_annotations': 0, 'hot': False}</td>\n",
       "      <td>Du kratzt nur an der Oberfläche quasi Neurode...</td>\n",
       "      <td>Friday</td>\n",
       "    </tr>\n",
       "    <tr>\n",
       "      <th>3920</th>\n",
       "      <td>Rock</td>\n",
       "      <td>Marius Müller-Westernhagen</td>\n",
       "      <td>Williamsburg</td>\n",
       "      <td>2009</td>\n",
       "      <td>Komm schon</td>\n",
       "      <td>2000</td>\n",
       "      <td>280276</td>\n",
       "      <td>Grenzenlos by Sido (Ft. Westernhagen)</td>\n",
       "      <td>{'year': 2013, 'month': 11, 'day': 29}</td>\n",
       "      <td>2013-11-29</td>\n",
       "      <td>{'unreviewed_annotations': 4, 'hot': False, 'p...</td>\n",
       "      <td>Alles, was du fühlst – alles, was du denkst ...</td>\n",
       "      <td>Friday</td>\n",
       "    </tr>\n",
       "    <tr>\n",
       "      <th>4199</th>\n",
       "      <td>Schlager</td>\n",
       "      <td>Karel Gott</td>\n",
       "      <td>Weißt du wohin</td>\n",
       "      <td>1968</td>\n",
       "      <td>Maria</td>\n",
       "      <td>1960</td>\n",
       "      <td>3352651</td>\n",
       "      <td>Flexím ako Gott by Ego (Ft. Haha Crew &amp; Yzoman...</td>\n",
       "      <td>{'year': 2017, 'month': 12, 'day': 18}</td>\n",
       "      <td>2017-12-18</td>\n",
       "      <td>{'unreviewed_annotations': 11, 'hot': False, '...</td>\n",
       "      <td>Flexim ako Gott, ooh Flexim ako Gott, ooh Fle...</td>\n",
       "      <td>Monday</td>\n",
       "    </tr>\n",
       "    <tr>\n",
       "      <th>4291</th>\n",
       "      <td>Schlager</td>\n",
       "      <td>Nina Hagen</td>\n",
       "      <td>Irgendwo auf der Welt</td>\n",
       "      <td>2006</td>\n",
       "      <td>Bei mir bist du schön</td>\n",
       "      <td>2000</td>\n",
       "      <td>2885579</td>\n",
       "      <td>Vs. Talf - [HR Halbfinale - VBT Elite 2016] by...</td>\n",
       "      <td>{'year': 2016, 'month': 10, 'day': 15}</td>\n",
       "      <td>2016-10-15</td>\n",
       "      <td>{'unreviewed_annotations': 1, 'hot': False}</td>\n",
       "      <td>Ey Talf, du bist weiter. Digga, das ist ja wi...</td>\n",
       "      <td>Saturday</td>\n",
       "    </tr>\n",
       "    <tr>\n",
       "      <th>4294</th>\n",
       "      <td>Schlager</td>\n",
       "      <td>Nina Hagen</td>\n",
       "      <td>Return of the Mother</td>\n",
       "      <td>2000</td>\n",
       "      <td>Poetenclub</td>\n",
       "      <td>2000</td>\n",
       "      <td>1537806</td>\n",
       "      <td>Poetenclub by Nina Hagen (Ft. Falco)</td>\n",
       "      <td>{'year': 2000, 'month': 3, 'day': 28}</td>\n",
       "      <td>2000-03-28</td>\n",
       "      <td>{'unreviewed_annotations': 0, 'hot': False}</td>\n",
       "      <td>\"Kunst für's Volk, durch's Volk\" \"I want to ge...</td>\n",
       "      <td>Tuesday</td>\n",
       "    </tr>\n",
       "  </tbody>\n",
       "</table>\n",
       "<p>479 rows × 13 columns</p>\n",
       "</div>"
      ],
      "text/plain": [
       "         genre                   interpret                  album   \n",
       "6          Pop                  Adel Tawil                 Lieder  \\\n",
       "7          Pop                  Adel Tawil                 Lieder   \n",
       "9          Pop                  Adel Tawil                 Lieder   \n",
       "12         Pop                  Adel Tawil                 Lieder   \n",
       "145        Pop                      Clueso             Gute Musik   \n",
       "...        ...                         ...                    ...   \n",
       "3905      Rock  Marius Müller-Westernhagen            Nahaufnahme   \n",
       "3920      Rock  Marius Müller-Westernhagen           Williamsburg   \n",
       "4199  Schlager                  Karel Gott         Weißt du wohin   \n",
       "4291  Schlager                  Nina Hagen  Irgendwo auf der Welt   \n",
       "4294  Schlager                  Nina Hagen   Return of the Mother   \n",
       "\n",
       "      release_year              songtitle  decade  song_id   \n",
       "6             2013             Aschenflug    2010   251117  \\\n",
       "7             2013                Zuhause    2010   256752   \n",
       "9             2013          Graffiti Love    2010   256754   \n",
       "12            2013             Dunkelheit    2010   256757   \n",
       "145           2004      Dort wo du wohnst    2000   599400   \n",
       "...            ...                    ...     ...      ...   \n",
       "3905          2005         Liebst Du mich    2000   483002   \n",
       "3920          2009             Komm schon    2000   280276   \n",
       "4199          1968                  Maria    1960  3352651   \n",
       "4291          2006  Bei mir bist du schön    2000  2885579   \n",
       "4294          2000             Poetenclub    2000  1537806   \n",
       "\n",
       "                                             full_title   \n",
       "6        Aschenflug by Adel Tawil (Ft. Prinz Pi & Sido)  \\\n",
       "7                 Zuhause by Adel Tawil (Ft. Matisyahu)   \n",
       "9               Graffiti Love by Adel Tawil (Ft. Humpe)   \n",
       "12          Dunkelheit by Adel Tawil (Ft. Jasmin Tawil)   \n",
       "145   Dort Wo Du Wohnst by Clueso (Ft. Delhia de Fra...   \n",
       "...                                                 ...   \n",
       "3905  Nichts zu tun by DIA (Sime & Audiomax) (Ft. Il...   \n",
       "3920              Grenzenlos by Sido (Ft. Westernhagen)   \n",
       "4199  Flexím ako Gott by Ego (Ft. Haha Crew & Yzoman...   \n",
       "4291  Vs. Talf - [HR Halbfinale - VBT Elite 2016] by...   \n",
       "4294               Poetenclub by Nina Hagen (Ft. Falco)   \n",
       "\n",
       "                 release_date_components_raw release_date_for_display   \n",
       "6      {'year': 2013, 'month': 11, 'day': 1}               2013-11-01  \\\n",
       "7      {'year': 2013, 'month': 11, 'day': 8}               2013-11-08   \n",
       "9      {'year': 2013, 'month': 11, 'day': 8}               2013-11-08   \n",
       "12     {'year': 2013, 'month': 11, 'day': 8}               2013-11-08   \n",
       "145                                      NaN                      NaN   \n",
       "...                                      ...                      ...   \n",
       "3905  {'year': 2009, 'month': 11, 'day': 13}               2009-11-13   \n",
       "3920  {'year': 2013, 'month': 11, 'day': 29}               2013-11-29   \n",
       "4199  {'year': 2017, 'month': 12, 'day': 18}               2017-12-18   \n",
       "4291  {'year': 2016, 'month': 10, 'day': 15}               2016-10-15   \n",
       "4294   {'year': 2000, 'month': 3, 'day': 28}               2000-03-28   \n",
       "\n",
       "                                              stats_raw   \n",
       "6     {'unreviewed_annotations': 0, 'hot': False, 'p...  \\\n",
       "7     {'unreviewed_annotations': 1, 'hot': False, 'p...   \n",
       "9           {'unreviewed_annotations': 0, 'hot': False}   \n",
       "12          {'unreviewed_annotations': 0, 'hot': False}   \n",
       "145         {'unreviewed_annotations': 0, 'hot': False}   \n",
       "...                                                 ...   \n",
       "3905        {'unreviewed_annotations': 0, 'hot': False}   \n",
       "3920  {'unreviewed_annotations': 4, 'hot': False, 'p...   \n",
       "4199  {'unreviewed_annotations': 11, 'hot': False, '...   \n",
       "4291        {'unreviewed_annotations': 1, 'hot': False}   \n",
       "4294        {'unreviewed_annotations': 0, 'hot': False}   \n",
       "\n",
       "                                                 lyrics   weekday  \n",
       "6       Ey Kumpel, noch beim letzten Mal, da war in ...    Friday  \n",
       "7       Glaub mir irgendwann wird die Liebe regieren...    Friday  \n",
       "9       Ich liege wach in meinem Bett, ich kann nich...    Friday  \n",
       "12      Ich teil mit dir den größten Moment Ich teil...    Friday  \n",
       "145    Wie viel Seiten hat ein unbeschriebenes Blatt...       NaN  \n",
       "...                                                 ...       ...  \n",
       "3905   Du kratzt nur an der Oberfläche quasi Neurode...    Friday  \n",
       "3920    Alles, was du fühlst – alles, was du denkst ...    Friday  \n",
       "4199   Flexim ako Gott, ooh Flexim ako Gott, ooh Fle...    Monday  \n",
       "4291   Ey Talf, du bist weiter. Digga, das ist ja wi...  Saturday  \n",
       "4294  \"Kunst für's Volk, durch's Volk\" \"I want to ge...   Tuesday  \n",
       "\n",
       "[479 rows x 13 columns]"
      ]
     },
     "execution_count": 5,
     "metadata": {},
     "output_type": "execute_result"
    }
   ],
   "source": [
    "colabs"
   ]
  },
  {
   "cell_type": "code",
   "execution_count": 187,
   "metadata": {},
   "outputs": [
    {
     "name": "stderr",
     "output_type": "stream",
     "text": [
      "<ipython-input-187-356d67205115>:14: SettingWithCopyWarning:\n",
      "\n",
      "\n",
      "A value is trying to be set on a copy of a slice from a DataFrame.\n",
      "Try using .loc[row_indexer,col_indexer] = value instead\n",
      "\n",
      "See the caveats in the documentation: https://pandas.pydata.org/pandas-docs/stable/user_guide/indexing.html#returning-a-view-versus-a-copy\n",
      "\n"
     ]
    }
   ],
   "source": [
    "import re\n",
    "regex = r\"\\(Ft\\. ([^)]+)\\)\"\n",
    "\n",
    "def extract_collaborators(title):\n",
    "    start_index = title.find(\"(Ft.\")\n",
    "    end_index = title.find(\")\", start_index)\n",
    "    if start_index != -1 and end_index != -1:\n",
    "        collaborators = title[start_index+4:end_index].strip()\n",
    "        return collaborators\n",
    "    else:\n",
    "        return \"\"\n",
    "\n",
    "# Anwendung der Funktion auf die full_title-Spalte\n",
    "colabs['collaboration'] = colabs['full_title'].apply(extract_collaborators)\n"
   ]
  },
  {
   "cell_type": "code",
   "execution_count": 188,
   "metadata": {},
   "outputs": [
    {
     "data": {
      "text/html": [
       "<div>\n",
       "<style scoped>\n",
       "    .dataframe tbody tr th:only-of-type {\n",
       "        vertical-align: middle;\n",
       "    }\n",
       "\n",
       "    .dataframe tbody tr th {\n",
       "        vertical-align: top;\n",
       "    }\n",
       "\n",
       "    .dataframe thead th {\n",
       "        text-align: right;\n",
       "    }\n",
       "</style>\n",
       "<table border=\"1\" class=\"dataframe\">\n",
       "  <thead>\n",
       "    <tr style=\"text-align: right;\">\n",
       "      <th></th>\n",
       "      <th>genre</th>\n",
       "      <th>interpret</th>\n",
       "      <th>album</th>\n",
       "      <th>release_year</th>\n",
       "      <th>songtitle</th>\n",
       "      <th>decade</th>\n",
       "      <th>song_id</th>\n",
       "      <th>full_title</th>\n",
       "      <th>release_date_components_raw</th>\n",
       "      <th>release_date_for_display</th>\n",
       "      <th>stats_raw</th>\n",
       "      <th>lyrics</th>\n",
       "      <th>weekday</th>\n",
       "      <th>collaboration</th>\n",
       "      <th>collaboration_split</th>\n",
       "    </tr>\n",
       "  </thead>\n",
       "  <tbody>\n",
       "    <tr>\n",
       "      <th>6</th>\n",
       "      <td>Pop</td>\n",
       "      <td>Adel Tawil</td>\n",
       "      <td>Lieder</td>\n",
       "      <td>2013</td>\n",
       "      <td>Aschenflug</td>\n",
       "      <td>2010</td>\n",
       "      <td>251117</td>\n",
       "      <td>Aschenflug by Adel Tawil (Ft. Prinz Pi &amp; Sido)</td>\n",
       "      <td>{'year': 2013, 'month': 11, 'day': 1}</td>\n",
       "      <td>2013-11-01</td>\n",
       "      <td>{'unreviewed_annotations': 0, 'hot': False, 'p...</td>\n",
       "      <td>Ey Kumpel, noch beim letzten Mal, da war in ...</td>\n",
       "      <td>Friday</td>\n",
       "      <td>Prinz Pi &amp; Sido</td>\n",
       "      <td>[Prinz Pi ,  Sido]</td>\n",
       "    </tr>\n",
       "    <tr>\n",
       "      <th>7</th>\n",
       "      <td>Pop</td>\n",
       "      <td>Adel Tawil</td>\n",
       "      <td>Lieder</td>\n",
       "      <td>2013</td>\n",
       "      <td>Zuhause</td>\n",
       "      <td>2010</td>\n",
       "      <td>256752</td>\n",
       "      <td>Zuhause by Adel Tawil (Ft. Matisyahu)</td>\n",
       "      <td>{'year': 2013, 'month': 11, 'day': 8}</td>\n",
       "      <td>2013-11-08</td>\n",
       "      <td>{'unreviewed_annotations': 1, 'hot': False, 'p...</td>\n",
       "      <td>Glaub mir irgendwann wird die Liebe regieren...</td>\n",
       "      <td>Friday</td>\n",
       "      <td>Matisyahu</td>\n",
       "      <td>[Matisyahu]</td>\n",
       "    </tr>\n",
       "    <tr>\n",
       "      <th>9</th>\n",
       "      <td>Pop</td>\n",
       "      <td>Adel Tawil</td>\n",
       "      <td>Lieder</td>\n",
       "      <td>2013</td>\n",
       "      <td>Graffiti Love</td>\n",
       "      <td>2010</td>\n",
       "      <td>256754</td>\n",
       "      <td>Graffiti Love by Adel Tawil (Ft. Humpe)</td>\n",
       "      <td>{'year': 2013, 'month': 11, 'day': 8}</td>\n",
       "      <td>2013-11-08</td>\n",
       "      <td>{'unreviewed_annotations': 0, 'hot': False}</td>\n",
       "      <td>Ich liege wach in meinem Bett, ich kann nich...</td>\n",
       "      <td>Friday</td>\n",
       "      <td>Humpe</td>\n",
       "      <td>[Humpe]</td>\n",
       "    </tr>\n",
       "    <tr>\n",
       "      <th>12</th>\n",
       "      <td>Pop</td>\n",
       "      <td>Adel Tawil</td>\n",
       "      <td>Lieder</td>\n",
       "      <td>2013</td>\n",
       "      <td>Dunkelheit</td>\n",
       "      <td>2010</td>\n",
       "      <td>256757</td>\n",
       "      <td>Dunkelheit by Adel Tawil (Ft. Jasmin Tawil)</td>\n",
       "      <td>{'year': 2013, 'month': 11, 'day': 8}</td>\n",
       "      <td>2013-11-08</td>\n",
       "      <td>{'unreviewed_annotations': 0, 'hot': False}</td>\n",
       "      <td>Ich teil mit dir den größten Moment Ich teil...</td>\n",
       "      <td>Friday</td>\n",
       "      <td>Jasmin Tawil</td>\n",
       "      <td>[Jasmin Tawil]</td>\n",
       "    </tr>\n",
       "    <tr>\n",
       "      <th>145</th>\n",
       "      <td>Pop</td>\n",
       "      <td>Clueso</td>\n",
       "      <td>Gute Musik</td>\n",
       "      <td>2004</td>\n",
       "      <td>Dort wo du wohnst</td>\n",
       "      <td>2000</td>\n",
       "      <td>599400</td>\n",
       "      <td>Dort Wo Du Wohnst by Clueso (Ft. Delhia de Fra...</td>\n",
       "      <td>NaN</td>\n",
       "      <td>NaN</td>\n",
       "      <td>{'unreviewed_annotations': 0, 'hot': False}</td>\n",
       "      <td>Wie viel Seiten hat ein unbeschriebenes Blatt...</td>\n",
       "      <td>NaN</td>\n",
       "      <td>Delhia de France</td>\n",
       "      <td>[Delhia de France]</td>\n",
       "    </tr>\n",
       "    <tr>\n",
       "      <th>...</th>\n",
       "      <td>...</td>\n",
       "      <td>...</td>\n",
       "      <td>...</td>\n",
       "      <td>...</td>\n",
       "      <td>...</td>\n",
       "      <td>...</td>\n",
       "      <td>...</td>\n",
       "      <td>...</td>\n",
       "      <td>...</td>\n",
       "      <td>...</td>\n",
       "      <td>...</td>\n",
       "      <td>...</td>\n",
       "      <td>...</td>\n",
       "      <td>...</td>\n",
       "      <td>...</td>\n",
       "    </tr>\n",
       "    <tr>\n",
       "      <th>3905</th>\n",
       "      <td>Rock</td>\n",
       "      <td>Marius Müller-Westernhagen</td>\n",
       "      <td>Nahaufnahme</td>\n",
       "      <td>2005</td>\n",
       "      <td>Liebst Du mich</td>\n",
       "      <td>2000</td>\n",
       "      <td>483002</td>\n",
       "      <td>Nichts zu tun by DIA (Sime &amp; Audiomax) (Ft. Il...</td>\n",
       "      <td>{'year': 2009, 'month': 11, 'day': 13}</td>\n",
       "      <td>2009-11-13</td>\n",
       "      <td>{'unreviewed_annotations': 0, 'hot': False}</td>\n",
       "      <td>Du kratzt nur an der Oberfläche quasi Neurode...</td>\n",
       "      <td>Friday</td>\n",
       "      <td>Illoyal &amp; JAW</td>\n",
       "      <td>[Illoyal ,  JAW]</td>\n",
       "    </tr>\n",
       "    <tr>\n",
       "      <th>3920</th>\n",
       "      <td>Rock</td>\n",
       "      <td>Marius Müller-Westernhagen</td>\n",
       "      <td>Williamsburg</td>\n",
       "      <td>2009</td>\n",
       "      <td>Komm schon</td>\n",
       "      <td>2000</td>\n",
       "      <td>280276</td>\n",
       "      <td>Grenzenlos by Sido (Ft. Westernhagen)</td>\n",
       "      <td>{'year': 2013, 'month': 11, 'day': 29}</td>\n",
       "      <td>2013-11-29</td>\n",
       "      <td>{'unreviewed_annotations': 4, 'hot': False, 'p...</td>\n",
       "      <td>Alles, was du fühlst – alles, was du denkst ...</td>\n",
       "      <td>Friday</td>\n",
       "      <td>Westernhagen</td>\n",
       "      <td>[Westernhagen]</td>\n",
       "    </tr>\n",
       "    <tr>\n",
       "      <th>4199</th>\n",
       "      <td>Schlager</td>\n",
       "      <td>Karel Gott</td>\n",
       "      <td>Weißt du wohin</td>\n",
       "      <td>1968</td>\n",
       "      <td>Maria</td>\n",
       "      <td>1960</td>\n",
       "      <td>3352651</td>\n",
       "      <td>Flexím ako Gott by Ego (Ft. Haha Crew &amp; Yzoman...</td>\n",
       "      <td>{'year': 2017, 'month': 12, 'day': 18}</td>\n",
       "      <td>2017-12-18</td>\n",
       "      <td>{'unreviewed_annotations': 11, 'hot': False, '...</td>\n",
       "      <td>Flexim ako Gott, ooh Flexim ako Gott, ooh Fle...</td>\n",
       "      <td>Monday</td>\n",
       "      <td>Haha Crew &amp; Yzomandias</td>\n",
       "      <td>[Haha Crew ,  Yzomandias]</td>\n",
       "    </tr>\n",
       "    <tr>\n",
       "      <th>4291</th>\n",
       "      <td>Schlager</td>\n",
       "      <td>Nina Hagen</td>\n",
       "      <td>Irgendwo auf der Welt</td>\n",
       "      <td>2006</td>\n",
       "      <td>Bei mir bist du schön</td>\n",
       "      <td>2000</td>\n",
       "      <td>2885579</td>\n",
       "      <td>Vs. Talf - [HR Halbfinale - VBT Elite 2016] by...</td>\n",
       "      <td>{'year': 2016, 'month': 10, 'day': 15}</td>\n",
       "      <td>2016-10-15</td>\n",
       "      <td>{'unreviewed_annotations': 1, 'hot': False}</td>\n",
       "      <td>Ey Talf, du bist weiter. Digga, das ist ja wi...</td>\n",
       "      <td>Saturday</td>\n",
       "      <td>Dieser_Gordon</td>\n",
       "      <td>[Dieser_Gordon]</td>\n",
       "    </tr>\n",
       "    <tr>\n",
       "      <th>4294</th>\n",
       "      <td>Schlager</td>\n",
       "      <td>Nina Hagen</td>\n",
       "      <td>Return of the Mother</td>\n",
       "      <td>2000</td>\n",
       "      <td>Poetenclub</td>\n",
       "      <td>2000</td>\n",
       "      <td>1537806</td>\n",
       "      <td>Poetenclub by Nina Hagen (Ft. Falco)</td>\n",
       "      <td>{'year': 2000, 'month': 3, 'day': 28}</td>\n",
       "      <td>2000-03-28</td>\n",
       "      <td>{'unreviewed_annotations': 0, 'hot': False}</td>\n",
       "      <td>\"Kunst für's Volk, durch's Volk\" \"I want to ge...</td>\n",
       "      <td>Tuesday</td>\n",
       "      <td>Falco</td>\n",
       "      <td>[Falco]</td>\n",
       "    </tr>\n",
       "  </tbody>\n",
       "</table>\n",
       "<p>479 rows × 15 columns</p>\n",
       "</div>"
      ],
      "text/plain": [
       "         genre                   interpret                  album   \n",
       "6          Pop                  Adel Tawil                 Lieder  \\\n",
       "7          Pop                  Adel Tawil                 Lieder   \n",
       "9          Pop                  Adel Tawil                 Lieder   \n",
       "12         Pop                  Adel Tawil                 Lieder   \n",
       "145        Pop                      Clueso             Gute Musik   \n",
       "...        ...                         ...                    ...   \n",
       "3905      Rock  Marius Müller-Westernhagen            Nahaufnahme   \n",
       "3920      Rock  Marius Müller-Westernhagen           Williamsburg   \n",
       "4199  Schlager                  Karel Gott         Weißt du wohin   \n",
       "4291  Schlager                  Nina Hagen  Irgendwo auf der Welt   \n",
       "4294  Schlager                  Nina Hagen   Return of the Mother   \n",
       "\n",
       "      release_year              songtitle  decade  song_id   \n",
       "6             2013             Aschenflug    2010   251117  \\\n",
       "7             2013                Zuhause    2010   256752   \n",
       "9             2013          Graffiti Love    2010   256754   \n",
       "12            2013             Dunkelheit    2010   256757   \n",
       "145           2004      Dort wo du wohnst    2000   599400   \n",
       "...            ...                    ...     ...      ...   \n",
       "3905          2005         Liebst Du mich    2000   483002   \n",
       "3920          2009             Komm schon    2000   280276   \n",
       "4199          1968                  Maria    1960  3352651   \n",
       "4291          2006  Bei mir bist du schön    2000  2885579   \n",
       "4294          2000             Poetenclub    2000  1537806   \n",
       "\n",
       "                                             full_title   \n",
       "6        Aschenflug by Adel Tawil (Ft. Prinz Pi & Sido)  \\\n",
       "7                 Zuhause by Adel Tawil (Ft. Matisyahu)   \n",
       "9               Graffiti Love by Adel Tawil (Ft. Humpe)   \n",
       "12          Dunkelheit by Adel Tawil (Ft. Jasmin Tawil)   \n",
       "145   Dort Wo Du Wohnst by Clueso (Ft. Delhia de Fra...   \n",
       "...                                                 ...   \n",
       "3905  Nichts zu tun by DIA (Sime & Audiomax) (Ft. Il...   \n",
       "3920              Grenzenlos by Sido (Ft. Westernhagen)   \n",
       "4199  Flexím ako Gott by Ego (Ft. Haha Crew & Yzoman...   \n",
       "4291  Vs. Talf - [HR Halbfinale - VBT Elite 2016] by...   \n",
       "4294               Poetenclub by Nina Hagen (Ft. Falco)   \n",
       "\n",
       "                 release_date_components_raw release_date_for_display   \n",
       "6      {'year': 2013, 'month': 11, 'day': 1}               2013-11-01  \\\n",
       "7      {'year': 2013, 'month': 11, 'day': 8}               2013-11-08   \n",
       "9      {'year': 2013, 'month': 11, 'day': 8}               2013-11-08   \n",
       "12     {'year': 2013, 'month': 11, 'day': 8}               2013-11-08   \n",
       "145                                      NaN                      NaN   \n",
       "...                                      ...                      ...   \n",
       "3905  {'year': 2009, 'month': 11, 'day': 13}               2009-11-13   \n",
       "3920  {'year': 2013, 'month': 11, 'day': 29}               2013-11-29   \n",
       "4199  {'year': 2017, 'month': 12, 'day': 18}               2017-12-18   \n",
       "4291  {'year': 2016, 'month': 10, 'day': 15}               2016-10-15   \n",
       "4294   {'year': 2000, 'month': 3, 'day': 28}               2000-03-28   \n",
       "\n",
       "                                              stats_raw   \n",
       "6     {'unreviewed_annotations': 0, 'hot': False, 'p...  \\\n",
       "7     {'unreviewed_annotations': 1, 'hot': False, 'p...   \n",
       "9           {'unreviewed_annotations': 0, 'hot': False}   \n",
       "12          {'unreviewed_annotations': 0, 'hot': False}   \n",
       "145         {'unreviewed_annotations': 0, 'hot': False}   \n",
       "...                                                 ...   \n",
       "3905        {'unreviewed_annotations': 0, 'hot': False}   \n",
       "3920  {'unreviewed_annotations': 4, 'hot': False, 'p...   \n",
       "4199  {'unreviewed_annotations': 11, 'hot': False, '...   \n",
       "4291        {'unreviewed_annotations': 1, 'hot': False}   \n",
       "4294        {'unreviewed_annotations': 0, 'hot': False}   \n",
       "\n",
       "                                                 lyrics   weekday   \n",
       "6       Ey Kumpel, noch beim letzten Mal, da war in ...    Friday  \\\n",
       "7       Glaub mir irgendwann wird die Liebe regieren...    Friday   \n",
       "9       Ich liege wach in meinem Bett, ich kann nich...    Friday   \n",
       "12      Ich teil mit dir den größten Moment Ich teil...    Friday   \n",
       "145    Wie viel Seiten hat ein unbeschriebenes Blatt...       NaN   \n",
       "...                                                 ...       ...   \n",
       "3905   Du kratzt nur an der Oberfläche quasi Neurode...    Friday   \n",
       "3920    Alles, was du fühlst – alles, was du denkst ...    Friday   \n",
       "4199   Flexim ako Gott, ooh Flexim ako Gott, ooh Fle...    Monday   \n",
       "4291   Ey Talf, du bist weiter. Digga, das ist ja wi...  Saturday   \n",
       "4294  \"Kunst für's Volk, durch's Volk\" \"I want to ge...   Tuesday   \n",
       "\n",
       "               collaboration        collaboration_split  \n",
       "6            Prinz Pi & Sido         [Prinz Pi ,  Sido]  \n",
       "7                  Matisyahu                [Matisyahu]  \n",
       "9                      Humpe                    [Humpe]  \n",
       "12              Jasmin Tawil             [Jasmin Tawil]  \n",
       "145         Delhia de France         [Delhia de France]  \n",
       "...                      ...                        ...  \n",
       "3905           Illoyal & JAW           [Illoyal ,  JAW]  \n",
       "3920            Westernhagen             [Westernhagen]  \n",
       "4199  Haha Crew & Yzomandias  [Haha Crew ,  Yzomandias]  \n",
       "4291           Dieser_Gordon            [Dieser_Gordon]  \n",
       "4294                   Falco                    [Falco]  \n",
       "\n",
       "[479 rows x 15 columns]"
      ]
     },
     "execution_count": 188,
     "metadata": {},
     "output_type": "execute_result"
    }
   ],
   "source": [
    "colabs"
   ]
  },
  {
   "cell_type": "code",
   "execution_count": 7,
   "metadata": {},
   "outputs": [
    {
     "name": "stdout",
     "output_type": "stream",
     "text": [
      "genre\n",
      "Pop          28\n",
      "Rap         423\n",
      "Rock         25\n",
      "Schlager      3\n",
      "Name: collaboration, dtype: int64\n"
     ]
    }
   ],
   "source": [
    "colabs_per_genre = colabs.groupby('genre')['collaboration'].count()\n",
    "print(colabs_per_genre)\n"
   ]
  },
  {
   "cell_type": "code",
   "execution_count": 162,
   "metadata": {},
   "outputs": [],
   "source": [
    "colabs_per_genre_df = pd.DataFrame(list(colabs_per_genre.items()), columns=[\"genre\", \"count\"])"
   ]
  },
  {
   "cell_type": "code",
   "execution_count": 163,
   "metadata": {},
   "outputs": [
    {
     "data": {
      "text/html": [
       "<div>\n",
       "<style scoped>\n",
       "    .dataframe tbody tr th:only-of-type {\n",
       "        vertical-align: middle;\n",
       "    }\n",
       "\n",
       "    .dataframe tbody tr th {\n",
       "        vertical-align: top;\n",
       "    }\n",
       "\n",
       "    .dataframe thead th {\n",
       "        text-align: right;\n",
       "    }\n",
       "</style>\n",
       "<table border=\"1\" class=\"dataframe\">\n",
       "  <thead>\n",
       "    <tr style=\"text-align: right;\">\n",
       "      <th></th>\n",
       "      <th>genre</th>\n",
       "      <th>count</th>\n",
       "    </tr>\n",
       "  </thead>\n",
       "  <tbody>\n",
       "    <tr>\n",
       "      <th>0</th>\n",
       "      <td>Pop</td>\n",
       "      <td>28</td>\n",
       "    </tr>\n",
       "    <tr>\n",
       "      <th>1</th>\n",
       "      <td>Rap</td>\n",
       "      <td>423</td>\n",
       "    </tr>\n",
       "    <tr>\n",
       "      <th>2</th>\n",
       "      <td>Rock</td>\n",
       "      <td>25</td>\n",
       "    </tr>\n",
       "    <tr>\n",
       "      <th>3</th>\n",
       "      <td>Schlager</td>\n",
       "      <td>3</td>\n",
       "    </tr>\n",
       "  </tbody>\n",
       "</table>\n",
       "</div>"
      ],
      "text/plain": [
       "      genre  count\n",
       "0       Pop     28\n",
       "1       Rap    423\n",
       "2      Rock     25\n",
       "3  Schlager      3"
      ]
     },
     "execution_count": 163,
     "metadata": {},
     "output_type": "execute_result"
    }
   ],
   "source": [
    "colabs_per_genre_df"
   ]
  },
  {
   "cell_type": "code",
   "execution_count": 9,
   "metadata": {},
   "outputs": [],
   "source": [
    "pd.options.plotting.backend = \"plotly\""
   ]
  },
  {
   "cell_type": "code",
   "execution_count": 186,
   "metadata": {},
   "outputs": [
    {
     "data": {
      "application/vnd.plotly.v1+json": {
       "config": {
        "plotlyServerURL": "https://plot.ly"
       },
       "data": [
        {
         "alignmentgroup": "True",
         "hovertemplate": "genre=%{x}<br>count=%{y}<extra></extra>",
         "legendgroup": "",
         "marker": {
          "color": "#636efa",
          "pattern": {
           "shape": ""
          }
         },
         "name": "",
         "offsetgroup": "",
         "orientation": "v",
         "showlegend": false,
         "textposition": "auto",
         "type": "bar",
         "x": [
          "Pop",
          "Rap",
          "Rock",
          "Schlager"
         ],
         "xaxis": "x",
         "y": [
          28,
          423,
          25,
          3
         ],
         "yaxis": "y"
        }
       ],
       "layout": {
        "barmode": "relative",
        "legend": {
         "tracegroupgap": 0
        },
        "template": {
         "data": {
          "bar": [
           {
            "error_x": {
             "color": "#2a3f5f"
            },
            "error_y": {
             "color": "#2a3f5f"
            },
            "marker": {
             "line": {
              "color": "#E5ECF6",
              "width": 0.5
             },
             "pattern": {
              "fillmode": "overlay",
              "size": 10,
              "solidity": 0.2
             }
            },
            "type": "bar"
           }
          ],
          "barpolar": [
           {
            "marker": {
             "line": {
              "color": "#E5ECF6",
              "width": 0.5
             },
             "pattern": {
              "fillmode": "overlay",
              "size": 10,
              "solidity": 0.2
             }
            },
            "type": "barpolar"
           }
          ],
          "carpet": [
           {
            "aaxis": {
             "endlinecolor": "#2a3f5f",
             "gridcolor": "white",
             "linecolor": "white",
             "minorgridcolor": "white",
             "startlinecolor": "#2a3f5f"
            },
            "baxis": {
             "endlinecolor": "#2a3f5f",
             "gridcolor": "white",
             "linecolor": "white",
             "minorgridcolor": "white",
             "startlinecolor": "#2a3f5f"
            },
            "type": "carpet"
           }
          ],
          "choropleth": [
           {
            "colorbar": {
             "outlinewidth": 0,
             "ticks": ""
            },
            "type": "choropleth"
           }
          ],
          "contour": [
           {
            "colorbar": {
             "outlinewidth": 0,
             "ticks": ""
            },
            "colorscale": [
             [
              0,
              "#0d0887"
             ],
             [
              0.1111111111111111,
              "#46039f"
             ],
             [
              0.2222222222222222,
              "#7201a8"
             ],
             [
              0.3333333333333333,
              "#9c179e"
             ],
             [
              0.4444444444444444,
              "#bd3786"
             ],
             [
              0.5555555555555556,
              "#d8576b"
             ],
             [
              0.6666666666666666,
              "#ed7953"
             ],
             [
              0.7777777777777778,
              "#fb9f3a"
             ],
             [
              0.8888888888888888,
              "#fdca26"
             ],
             [
              1,
              "#f0f921"
             ]
            ],
            "type": "contour"
           }
          ],
          "contourcarpet": [
           {
            "colorbar": {
             "outlinewidth": 0,
             "ticks": ""
            },
            "type": "contourcarpet"
           }
          ],
          "heatmap": [
           {
            "colorbar": {
             "outlinewidth": 0,
             "ticks": ""
            },
            "colorscale": [
             [
              0,
              "#0d0887"
             ],
             [
              0.1111111111111111,
              "#46039f"
             ],
             [
              0.2222222222222222,
              "#7201a8"
             ],
             [
              0.3333333333333333,
              "#9c179e"
             ],
             [
              0.4444444444444444,
              "#bd3786"
             ],
             [
              0.5555555555555556,
              "#d8576b"
             ],
             [
              0.6666666666666666,
              "#ed7953"
             ],
             [
              0.7777777777777778,
              "#fb9f3a"
             ],
             [
              0.8888888888888888,
              "#fdca26"
             ],
             [
              1,
              "#f0f921"
             ]
            ],
            "type": "heatmap"
           }
          ],
          "heatmapgl": [
           {
            "colorbar": {
             "outlinewidth": 0,
             "ticks": ""
            },
            "colorscale": [
             [
              0,
              "#0d0887"
             ],
             [
              0.1111111111111111,
              "#46039f"
             ],
             [
              0.2222222222222222,
              "#7201a8"
             ],
             [
              0.3333333333333333,
              "#9c179e"
             ],
             [
              0.4444444444444444,
              "#bd3786"
             ],
             [
              0.5555555555555556,
              "#d8576b"
             ],
             [
              0.6666666666666666,
              "#ed7953"
             ],
             [
              0.7777777777777778,
              "#fb9f3a"
             ],
             [
              0.8888888888888888,
              "#fdca26"
             ],
             [
              1,
              "#f0f921"
             ]
            ],
            "type": "heatmapgl"
           }
          ],
          "histogram": [
           {
            "marker": {
             "pattern": {
              "fillmode": "overlay",
              "size": 10,
              "solidity": 0.2
             }
            },
            "type": "histogram"
           }
          ],
          "histogram2d": [
           {
            "colorbar": {
             "outlinewidth": 0,
             "ticks": ""
            },
            "colorscale": [
             [
              0,
              "#0d0887"
             ],
             [
              0.1111111111111111,
              "#46039f"
             ],
             [
              0.2222222222222222,
              "#7201a8"
             ],
             [
              0.3333333333333333,
              "#9c179e"
             ],
             [
              0.4444444444444444,
              "#bd3786"
             ],
             [
              0.5555555555555556,
              "#d8576b"
             ],
             [
              0.6666666666666666,
              "#ed7953"
             ],
             [
              0.7777777777777778,
              "#fb9f3a"
             ],
             [
              0.8888888888888888,
              "#fdca26"
             ],
             [
              1,
              "#f0f921"
             ]
            ],
            "type": "histogram2d"
           }
          ],
          "histogram2dcontour": [
           {
            "colorbar": {
             "outlinewidth": 0,
             "ticks": ""
            },
            "colorscale": [
             [
              0,
              "#0d0887"
             ],
             [
              0.1111111111111111,
              "#46039f"
             ],
             [
              0.2222222222222222,
              "#7201a8"
             ],
             [
              0.3333333333333333,
              "#9c179e"
             ],
             [
              0.4444444444444444,
              "#bd3786"
             ],
             [
              0.5555555555555556,
              "#d8576b"
             ],
             [
              0.6666666666666666,
              "#ed7953"
             ],
             [
              0.7777777777777778,
              "#fb9f3a"
             ],
             [
              0.8888888888888888,
              "#fdca26"
             ],
             [
              1,
              "#f0f921"
             ]
            ],
            "type": "histogram2dcontour"
           }
          ],
          "mesh3d": [
           {
            "colorbar": {
             "outlinewidth": 0,
             "ticks": ""
            },
            "type": "mesh3d"
           }
          ],
          "parcoords": [
           {
            "line": {
             "colorbar": {
              "outlinewidth": 0,
              "ticks": ""
             }
            },
            "type": "parcoords"
           }
          ],
          "pie": [
           {
            "automargin": true,
            "type": "pie"
           }
          ],
          "scatter": [
           {
            "fillpattern": {
             "fillmode": "overlay",
             "size": 10,
             "solidity": 0.2
            },
            "type": "scatter"
           }
          ],
          "scatter3d": [
           {
            "line": {
             "colorbar": {
              "outlinewidth": 0,
              "ticks": ""
             }
            },
            "marker": {
             "colorbar": {
              "outlinewidth": 0,
              "ticks": ""
             }
            },
            "type": "scatter3d"
           }
          ],
          "scattercarpet": [
           {
            "marker": {
             "colorbar": {
              "outlinewidth": 0,
              "ticks": ""
             }
            },
            "type": "scattercarpet"
           }
          ],
          "scattergeo": [
           {
            "marker": {
             "colorbar": {
              "outlinewidth": 0,
              "ticks": ""
             }
            },
            "type": "scattergeo"
           }
          ],
          "scattergl": [
           {
            "marker": {
             "colorbar": {
              "outlinewidth": 0,
              "ticks": ""
             }
            },
            "type": "scattergl"
           }
          ],
          "scattermapbox": [
           {
            "marker": {
             "colorbar": {
              "outlinewidth": 0,
              "ticks": ""
             }
            },
            "type": "scattermapbox"
           }
          ],
          "scatterpolar": [
           {
            "marker": {
             "colorbar": {
              "outlinewidth": 0,
              "ticks": ""
             }
            },
            "type": "scatterpolar"
           }
          ],
          "scatterpolargl": [
           {
            "marker": {
             "colorbar": {
              "outlinewidth": 0,
              "ticks": ""
             }
            },
            "type": "scatterpolargl"
           }
          ],
          "scatterternary": [
           {
            "marker": {
             "colorbar": {
              "outlinewidth": 0,
              "ticks": ""
             }
            },
            "type": "scatterternary"
           }
          ],
          "surface": [
           {
            "colorbar": {
             "outlinewidth": 0,
             "ticks": ""
            },
            "colorscale": [
             [
              0,
              "#0d0887"
             ],
             [
              0.1111111111111111,
              "#46039f"
             ],
             [
              0.2222222222222222,
              "#7201a8"
             ],
             [
              0.3333333333333333,
              "#9c179e"
             ],
             [
              0.4444444444444444,
              "#bd3786"
             ],
             [
              0.5555555555555556,
              "#d8576b"
             ],
             [
              0.6666666666666666,
              "#ed7953"
             ],
             [
              0.7777777777777778,
              "#fb9f3a"
             ],
             [
              0.8888888888888888,
              "#fdca26"
             ],
             [
              1,
              "#f0f921"
             ]
            ],
            "type": "surface"
           }
          ],
          "table": [
           {
            "cells": {
             "fill": {
              "color": "#EBF0F8"
             },
             "line": {
              "color": "white"
             }
            },
            "header": {
             "fill": {
              "color": "#C8D4E3"
             },
             "line": {
              "color": "white"
             }
            },
            "type": "table"
           }
          ]
         },
         "layout": {
          "annotationdefaults": {
           "arrowcolor": "#2a3f5f",
           "arrowhead": 0,
           "arrowwidth": 1
          },
          "autotypenumbers": "strict",
          "coloraxis": {
           "colorbar": {
            "outlinewidth": 0,
            "ticks": ""
           }
          },
          "colorscale": {
           "diverging": [
            [
             0,
             "#8e0152"
            ],
            [
             0.1,
             "#c51b7d"
            ],
            [
             0.2,
             "#de77ae"
            ],
            [
             0.3,
             "#f1b6da"
            ],
            [
             0.4,
             "#fde0ef"
            ],
            [
             0.5,
             "#f7f7f7"
            ],
            [
             0.6,
             "#e6f5d0"
            ],
            [
             0.7,
             "#b8e186"
            ],
            [
             0.8,
             "#7fbc41"
            ],
            [
             0.9,
             "#4d9221"
            ],
            [
             1,
             "#276419"
            ]
           ],
           "sequential": [
            [
             0,
             "#0d0887"
            ],
            [
             0.1111111111111111,
             "#46039f"
            ],
            [
             0.2222222222222222,
             "#7201a8"
            ],
            [
             0.3333333333333333,
             "#9c179e"
            ],
            [
             0.4444444444444444,
             "#bd3786"
            ],
            [
             0.5555555555555556,
             "#d8576b"
            ],
            [
             0.6666666666666666,
             "#ed7953"
            ],
            [
             0.7777777777777778,
             "#fb9f3a"
            ],
            [
             0.8888888888888888,
             "#fdca26"
            ],
            [
             1,
             "#f0f921"
            ]
           ],
           "sequentialminus": [
            [
             0,
             "#0d0887"
            ],
            [
             0.1111111111111111,
             "#46039f"
            ],
            [
             0.2222222222222222,
             "#7201a8"
            ],
            [
             0.3333333333333333,
             "#9c179e"
            ],
            [
             0.4444444444444444,
             "#bd3786"
            ],
            [
             0.5555555555555556,
             "#d8576b"
            ],
            [
             0.6666666666666666,
             "#ed7953"
            ],
            [
             0.7777777777777778,
             "#fb9f3a"
            ],
            [
             0.8888888888888888,
             "#fdca26"
            ],
            [
             1,
             "#f0f921"
            ]
           ]
          },
          "colorway": [
           "#636efa",
           "#EF553B",
           "#00cc96",
           "#ab63fa",
           "#FFA15A",
           "#19d3f3",
           "#FF6692",
           "#B6E880",
           "#FF97FF",
           "#FECB52"
          ],
          "font": {
           "color": "#2a3f5f"
          },
          "geo": {
           "bgcolor": "white",
           "lakecolor": "white",
           "landcolor": "#E5ECF6",
           "showlakes": true,
           "showland": true,
           "subunitcolor": "white"
          },
          "hoverlabel": {
           "align": "left"
          },
          "hovermode": "closest",
          "mapbox": {
           "style": "light"
          },
          "paper_bgcolor": "white",
          "plot_bgcolor": "#E5ECF6",
          "polar": {
           "angularaxis": {
            "gridcolor": "white",
            "linecolor": "white",
            "ticks": ""
           },
           "bgcolor": "#E5ECF6",
           "radialaxis": {
            "gridcolor": "white",
            "linecolor": "white",
            "ticks": ""
           }
          },
          "scene": {
           "xaxis": {
            "backgroundcolor": "#E5ECF6",
            "gridcolor": "white",
            "gridwidth": 2,
            "linecolor": "white",
            "showbackground": true,
            "ticks": "",
            "zerolinecolor": "white"
           },
           "yaxis": {
            "backgroundcolor": "#E5ECF6",
            "gridcolor": "white",
            "gridwidth": 2,
            "linecolor": "white",
            "showbackground": true,
            "ticks": "",
            "zerolinecolor": "white"
           },
           "zaxis": {
            "backgroundcolor": "#E5ECF6",
            "gridcolor": "white",
            "gridwidth": 2,
            "linecolor": "white",
            "showbackground": true,
            "ticks": "",
            "zerolinecolor": "white"
           }
          },
          "shapedefaults": {
           "line": {
            "color": "#2a3f5f"
           }
          },
          "ternary": {
           "aaxis": {
            "gridcolor": "white",
            "linecolor": "white",
            "ticks": ""
           },
           "baxis": {
            "gridcolor": "white",
            "linecolor": "white",
            "ticks": ""
           },
           "bgcolor": "#E5ECF6",
           "caxis": {
            "gridcolor": "white",
            "linecolor": "white",
            "ticks": ""
           }
          },
          "title": {
           "x": 0.05
          },
          "xaxis": {
           "automargin": true,
           "gridcolor": "white",
           "linecolor": "white",
           "ticks": "",
           "title": {
            "standoff": 15
           },
           "zerolinecolor": "white",
           "zerolinewidth": 2
          },
          "yaxis": {
           "automargin": true,
           "gridcolor": "white",
           "linecolor": "white",
           "ticks": "",
           "title": {
            "standoff": 15
           },
           "zerolinecolor": "white",
           "zerolinewidth": 2
          }
         }
        },
        "title": {
         "text": "Verteilung der Collaborators nach Genre"
        },
        "xaxis": {
         "anchor": "y",
         "domain": [
          0,
          1
         ],
         "title": {
          "text": "genre"
         }
        },
        "yaxis": {
         "anchor": "x",
         "domain": [
          0,
          1
         ],
         "title": {
          "text": "count"
         }
        }
       }
      }
     },
     "metadata": {},
     "output_type": "display_data"
    }
   ],
   "source": [
    "colabs_per_genre_fig = colabs_per_genre_df.plot(kind='bar', x='genre', y='count', title='Verteilung der Collaborators nach Genre')\n",
    "\n",
    "colabs_per_genre_fig.show()"
   ]
  },
  {
   "attachments": {},
   "cell_type": "markdown",
   "metadata": {},
   "source": [
    "##### Mit wie vielen Künstlern wird durchschnittich kollaboriert?"
   ]
  },
  {
   "cell_type": "code",
   "execution_count": 11,
   "metadata": {},
   "outputs": [
    {
     "name": "stderr",
     "output_type": "stream",
     "text": [
      "<ipython-input-11-864e33f0101b>:1: SettingWithCopyWarning:\n",
      "\n",
      "\n",
      "A value is trying to be set on a copy of a slice from a DataFrame.\n",
      "Try using .loc[row_indexer,col_indexer] = value instead\n",
      "\n",
      "See the caveats in the documentation: https://pandas.pydata.org/pandas-docs/stable/user_guide/indexing.html#returning-a-view-versus-a-copy\n",
      "\n"
     ]
    }
   ],
   "source": [
    "colabs['collaboration_split'] = colabs[\"collaboration\"].str.split(\"&\")\n",
    "    "
   ]
  },
  {
   "cell_type": "code",
   "execution_count": 12,
   "metadata": {},
   "outputs": [
    {
     "data": {
      "text/plain": [
       "1.1795407098121085"
      ]
     },
     "execution_count": 12,
     "metadata": {},
     "output_type": "execute_result"
    }
   ],
   "source": [
    "colabs[\"collaboration_split\"].apply(len).mean()"
   ]
  },
  {
   "cell_type": "code",
   "execution_count": 13,
   "metadata": {},
   "outputs": [
    {
     "data": {
      "text/plain": [
       "2"
      ]
     },
     "execution_count": 13,
     "metadata": {},
     "output_type": "execute_result"
    }
   ],
   "source": [
    "colabs[\"collaboration_split\"].apply(len).max()"
   ]
  },
  {
   "cell_type": "code",
   "execution_count": 14,
   "metadata": {},
   "outputs": [
    {
     "data": {
      "text/plain": [
       "count    479.000000\n",
       "mean       1.179541\n",
       "std        0.384206\n",
       "min        1.000000\n",
       "25%        1.000000\n",
       "50%        1.000000\n",
       "75%        1.000000\n",
       "max        2.000000\n",
       "Name: collaboration_split, dtype: float64"
      ]
     },
     "execution_count": 14,
     "metadata": {},
     "output_type": "execute_result"
    }
   ],
   "source": [
    "colabs['collaboration_split'].apply(len).describe()"
   ]
  },
  {
   "cell_type": "code",
   "execution_count": 15,
   "metadata": {},
   "outputs": [
    {
     "data": {
      "text/plain": [
       "count         479\n",
       "unique        316\n",
       "top       [Danju]\n",
       "freq           10\n",
       "Name: collaboration_split, dtype: object"
      ]
     },
     "execution_count": 15,
     "metadata": {},
     "output_type": "execute_result"
    }
   ],
   "source": [
    "colabs['collaboration_split'].describe()"
   ]
  },
  {
   "cell_type": "code",
   "execution_count": 16,
   "metadata": {},
   "outputs": [
    {
     "data": {
      "text/html": [
       "<div>\n",
       "<style scoped>\n",
       "    .dataframe tbody tr th:only-of-type {\n",
       "        vertical-align: middle;\n",
       "    }\n",
       "\n",
       "    .dataframe tbody tr th {\n",
       "        vertical-align: top;\n",
       "    }\n",
       "\n",
       "    .dataframe thead th {\n",
       "        text-align: right;\n",
       "    }\n",
       "</style>\n",
       "<table border=\"1\" class=\"dataframe\">\n",
       "  <thead>\n",
       "    <tr style=\"text-align: right;\">\n",
       "      <th></th>\n",
       "      <th>genre</th>\n",
       "      <th>interpret</th>\n",
       "      <th>album</th>\n",
       "      <th>release_year</th>\n",
       "      <th>songtitle</th>\n",
       "      <th>decade</th>\n",
       "      <th>song_id</th>\n",
       "      <th>full_title</th>\n",
       "      <th>release_date_components_raw</th>\n",
       "      <th>release_date_for_display</th>\n",
       "      <th>stats_raw</th>\n",
       "      <th>lyrics</th>\n",
       "      <th>weekday</th>\n",
       "      <th>collaboration</th>\n",
       "      <th>collaboration_split</th>\n",
       "    </tr>\n",
       "  </thead>\n",
       "  <tbody>\n",
       "    <tr>\n",
       "      <th>1452</th>\n",
       "      <td>Rap</td>\n",
       "      <td>Cro</td>\n",
       "      <td>Trash</td>\n",
       "      <td>2009</td>\n",
       "      <td>Dance</td>\n",
       "      <td>2000</td>\n",
       "      <td>146426</td>\n",
       "      <td>Dance by CRO (Ft. Caro (Germany) &amp; Danju)</td>\n",
       "      <td>{'year': 2009, 'month': None, 'day': None}</td>\n",
       "      <td>2009-01-01</td>\n",
       "      <td>{'unreviewed_annotations': 0, 'hot': False}</td>\n",
       "      <td>Hey baby shake that ass Shake, shake, shake t...</td>\n",
       "      <td>Thursday</td>\n",
       "      <td>Caro (Germany</td>\n",
       "      <td>[Caro (Germany]</td>\n",
       "    </tr>\n",
       "    <tr>\n",
       "      <th>1461</th>\n",
       "      <td>Rap</td>\n",
       "      <td>Cro</td>\n",
       "      <td>Meine Musik</td>\n",
       "      <td>2011</td>\n",
       "      <td>Sorry Girl</td>\n",
       "      <td>2010</td>\n",
       "      <td>112268</td>\n",
       "      <td>Sorry Girl by CRO (Ft. Danju)</td>\n",
       "      <td>{'year': 2011, 'month': 2, 'day': 2}</td>\n",
       "      <td>2011-02-02</td>\n",
       "      <td>{'unreviewed_annotations': 0, 'hot': False}</td>\n",
       "      <td>Mhh, yeah, Baby du bist wunderschön Und wir k...</td>\n",
       "      <td>Wednesday</td>\n",
       "      <td>Danju</td>\n",
       "      <td>[Danju]</td>\n",
       "    </tr>\n",
       "    <tr>\n",
       "      <th>1464</th>\n",
       "      <td>Rap</td>\n",
       "      <td>Cro</td>\n",
       "      <td>Meine Musik</td>\n",
       "      <td>2011</td>\n",
       "      <td>Mehr davon</td>\n",
       "      <td>2010</td>\n",
       "      <td>112271</td>\n",
       "      <td>Mehr davon by CRO (Ft. Danju)</td>\n",
       "      <td>{'year': 2011, 'month': 2, 'day': 2}</td>\n",
       "      <td>2011-02-02</td>\n",
       "      <td>{'unreviewed_annotations': 0, 'hot': False}</td>\n",
       "      <td>(Mehr) Gib mir mehr davon Gib mir mehr davon...</td>\n",
       "      <td>Wednesday</td>\n",
       "      <td>Danju</td>\n",
       "      <td>[Danju]</td>\n",
       "    </tr>\n",
       "    <tr>\n",
       "      <th>1465</th>\n",
       "      <td>Rap</td>\n",
       "      <td>Cro</td>\n",
       "      <td>Meine Musik</td>\n",
       "      <td>2011</td>\n",
       "      <td>Super gelaunt</td>\n",
       "      <td>2010</td>\n",
       "      <td>112274</td>\n",
       "      <td>Super gelaunt by CRO (Ft. Danju)</td>\n",
       "      <td>{'year': 2011, 'month': 2, 'day': 2}</td>\n",
       "      <td>2011-02-02</td>\n",
       "      <td>{'unreviewed_annotations': 0, 'hot': False}</td>\n",
       "      <td>Ja, ich bin so super gut gelaunt War schon l...</td>\n",
       "      <td>Wednesday</td>\n",
       "      <td>Danju</td>\n",
       "      <td>[Danju]</td>\n",
       "    </tr>\n",
       "    <tr>\n",
       "      <th>1466</th>\n",
       "      <td>Rap</td>\n",
       "      <td>Cro</td>\n",
       "      <td>Meine Musik</td>\n",
       "      <td>2011</td>\n",
       "      <td>Immer die Falschen</td>\n",
       "      <td>2010</td>\n",
       "      <td>112278</td>\n",
       "      <td>Immer die Falschen by CRO (Ft. Danju)</td>\n",
       "      <td>{'year': 2011, 'month': 2, 'day': 2}</td>\n",
       "      <td>2011-02-02</td>\n",
       "      <td>{'unreviewed_annotations': 0, 'hot': False}</td>\n",
       "      <td>Ok, wieder mal ein Track über Chicks (Über C...</td>\n",
       "      <td>Wednesday</td>\n",
       "      <td>Danju</td>\n",
       "      <td>[Danju]</td>\n",
       "    </tr>\n",
       "    <tr>\n",
       "      <th>1469</th>\n",
       "      <td>Rap</td>\n",
       "      <td>Cro</td>\n",
       "      <td>Meine Musik</td>\n",
       "      <td>2011</td>\n",
       "      <td>Higher</td>\n",
       "      <td>2010</td>\n",
       "      <td>112286</td>\n",
       "      <td>Higher by CRO (Ft. Danju)</td>\n",
       "      <td>{'year': 2011, 'month': 2, 'day': 2}</td>\n",
       "      <td>2011-02-02</td>\n",
       "      <td>{'unreviewed_annotations': 0, 'hot': False}</td>\n",
       "      <td>Sie seh'n endlich ein sie könn' machen was si...</td>\n",
       "      <td>Wednesday</td>\n",
       "      <td>Danju</td>\n",
       "      <td>[Danju]</td>\n",
       "    </tr>\n",
       "    <tr>\n",
       "      <th>1470</th>\n",
       "      <td>Rap</td>\n",
       "      <td>Cro</td>\n",
       "      <td>Meine Musik</td>\n",
       "      <td>2011</td>\n",
       "      <td>Frauen</td>\n",
       "      <td>2010</td>\n",
       "      <td>88671</td>\n",
       "      <td>Frauen by CRO (Ft. Danju)</td>\n",
       "      <td>{'year': 2011, 'month': 2, 'day': 3}</td>\n",
       "      <td>2011-02-03</td>\n",
       "      <td>{'unreviewed_annotations': 1, 'hot': False}</td>\n",
       "      <td>Komm bitte sag es mir Warum sind denn Frauen ...</td>\n",
       "      <td>Thursday</td>\n",
       "      <td>Danju</td>\n",
       "      <td>[Danju]</td>\n",
       "    </tr>\n",
       "    <tr>\n",
       "      <th>1478</th>\n",
       "      <td>Rap</td>\n",
       "      <td>Cro</td>\n",
       "      <td>Easy</td>\n",
       "      <td>2011</td>\n",
       "      <td>Vorbei</td>\n",
       "      <td>2010</td>\n",
       "      <td>106636</td>\n",
       "      <td>Vorbei by CRO (Ft. Danju)</td>\n",
       "      <td>{'year': 2011, 'month': 12, 'day': 2}</td>\n",
       "      <td>2011-12-02</td>\n",
       "      <td>{'unreviewed_annotations': 0, 'hot': False}</td>\n",
       "      <td>Ey, nein ich hab' kein Haus am Meer Kein Auto...</td>\n",
       "      <td>Friday</td>\n",
       "      <td>Danju</td>\n",
       "      <td>[Danju]</td>\n",
       "    </tr>\n",
       "    <tr>\n",
       "      <th>1498</th>\n",
       "      <td>Rap</td>\n",
       "      <td>Cro</td>\n",
       "      <td>Sunny</td>\n",
       "      <td>2013</td>\n",
       "      <td>Höhenangst</td>\n",
       "      <td>2010</td>\n",
       "      <td>181485</td>\n",
       "      <td>Höhenangst by CRO (Ft. Danju)</td>\n",
       "      <td>{'year': 2013, 'month': 10, 'day': 16}</td>\n",
       "      <td>2013-10-16</td>\n",
       "      <td>{'unreviewed_annotations': 3, 'hot': False, 'p...</td>\n",
       "      <td>Mach den Shit laut, Fenster weit auf Ich komm...</td>\n",
       "      <td>Wednesday</td>\n",
       "      <td>Danju</td>\n",
       "      <td>[Danju]</td>\n",
       "    </tr>\n",
       "    <tr>\n",
       "      <th>1501</th>\n",
       "      <td>Rap</td>\n",
       "      <td>Cro</td>\n",
       "      <td>Sunny</td>\n",
       "      <td>2013</td>\n",
       "      <td>Lange her</td>\n",
       "      <td>2010</td>\n",
       "      <td>3803827</td>\n",
       "      <td>Lange her by CRO (Ft. Danju)</td>\n",
       "      <td>{'year': 2013, 'month': 8, 'day': 7}</td>\n",
       "      <td>2013-08-07</td>\n",
       "      <td>{'unreviewed_annotations': 0, 'hot': False}</td>\n",
       "      <td>Schön dass du wieder da bist Wir haben uns so...</td>\n",
       "      <td>Wednesday</td>\n",
       "      <td>Danju</td>\n",
       "      <td>[Danju]</td>\n",
       "    </tr>\n",
       "    <tr>\n",
       "      <th>1502</th>\n",
       "      <td>Rap</td>\n",
       "      <td>Cro</td>\n",
       "      <td>Melodie</td>\n",
       "      <td>2014</td>\n",
       "      <td>Meine Gang (Bang Bang)</td>\n",
       "      <td>2010</td>\n",
       "      <td>444298</td>\n",
       "      <td>Meine Gang (Bang Bang) by CRO (Ft. Danju)</td>\n",
       "      <td>{'year': 2014, 'month': 6, 'day': 6}</td>\n",
       "      <td>2014-06-06</td>\n",
       "      <td>{'unreviewed_annotations': 2, 'hot': False, 'p...</td>\n",
       "      <td>Alles, was ich brauch', ist meine Gang, mein...</td>\n",
       "      <td>Friday</td>\n",
       "      <td>Danju</td>\n",
       "      <td>[Danju]</td>\n",
       "    </tr>\n",
       "  </tbody>\n",
       "</table>\n",
       "</div>"
      ],
      "text/plain": [
       "     genre interpret        album  release_year               songtitle   \n",
       "1452   Rap       Cro        Trash          2009                   Dance  \\\n",
       "1461   Rap       Cro  Meine Musik          2011              Sorry Girl   \n",
       "1464   Rap       Cro  Meine Musik          2011              Mehr davon   \n",
       "1465   Rap       Cro  Meine Musik          2011           Super gelaunt   \n",
       "1466   Rap       Cro  Meine Musik          2011      Immer die Falschen   \n",
       "1469   Rap       Cro  Meine Musik          2011                  Higher   \n",
       "1470   Rap       Cro  Meine Musik          2011                  Frauen   \n",
       "1478   Rap       Cro         Easy          2011                  Vorbei   \n",
       "1498   Rap       Cro        Sunny          2013              Höhenangst   \n",
       "1501   Rap       Cro        Sunny          2013               Lange her   \n",
       "1502   Rap       Cro      Melodie          2014  Meine Gang (Bang Bang)   \n",
       "\n",
       "      decade  song_id                                 full_title   \n",
       "1452    2000   146426  Dance by CRO (Ft. Caro (Germany) & Danju)  \\\n",
       "1461    2010   112268              Sorry Girl by CRO (Ft. Danju)   \n",
       "1464    2010   112271              Mehr davon by CRO (Ft. Danju)   \n",
       "1465    2010   112274           Super gelaunt by CRO (Ft. Danju)   \n",
       "1466    2010   112278      Immer die Falschen by CRO (Ft. Danju)   \n",
       "1469    2010   112286                  Higher by CRO (Ft. Danju)   \n",
       "1470    2010    88671                  Frauen by CRO (Ft. Danju)   \n",
       "1478    2010   106636                  Vorbei by CRO (Ft. Danju)   \n",
       "1498    2010   181485              Höhenangst by CRO (Ft. Danju)   \n",
       "1501    2010  3803827               Lange her by CRO (Ft. Danju)   \n",
       "1502    2010   444298  Meine Gang (Bang Bang) by CRO (Ft. Danju)   \n",
       "\n",
       "                     release_date_components_raw release_date_for_display   \n",
       "1452  {'year': 2009, 'month': None, 'day': None}               2009-01-01  \\\n",
       "1461        {'year': 2011, 'month': 2, 'day': 2}               2011-02-02   \n",
       "1464        {'year': 2011, 'month': 2, 'day': 2}               2011-02-02   \n",
       "1465        {'year': 2011, 'month': 2, 'day': 2}               2011-02-02   \n",
       "1466        {'year': 2011, 'month': 2, 'day': 2}               2011-02-02   \n",
       "1469        {'year': 2011, 'month': 2, 'day': 2}               2011-02-02   \n",
       "1470        {'year': 2011, 'month': 2, 'day': 3}               2011-02-03   \n",
       "1478       {'year': 2011, 'month': 12, 'day': 2}               2011-12-02   \n",
       "1498      {'year': 2013, 'month': 10, 'day': 16}               2013-10-16   \n",
       "1501        {'year': 2013, 'month': 8, 'day': 7}               2013-08-07   \n",
       "1502        {'year': 2014, 'month': 6, 'day': 6}               2014-06-06   \n",
       "\n",
       "                                              stats_raw   \n",
       "1452        {'unreviewed_annotations': 0, 'hot': False}  \\\n",
       "1461        {'unreviewed_annotations': 0, 'hot': False}   \n",
       "1464        {'unreviewed_annotations': 0, 'hot': False}   \n",
       "1465        {'unreviewed_annotations': 0, 'hot': False}   \n",
       "1466        {'unreviewed_annotations': 0, 'hot': False}   \n",
       "1469        {'unreviewed_annotations': 0, 'hot': False}   \n",
       "1470        {'unreviewed_annotations': 1, 'hot': False}   \n",
       "1478        {'unreviewed_annotations': 0, 'hot': False}   \n",
       "1498  {'unreviewed_annotations': 3, 'hot': False, 'p...   \n",
       "1501        {'unreviewed_annotations': 0, 'hot': False}   \n",
       "1502  {'unreviewed_annotations': 2, 'hot': False, 'p...   \n",
       "\n",
       "                                                 lyrics    weekday   \n",
       "1452   Hey baby shake that ass Shake, shake, shake t...   Thursday  \\\n",
       "1461   Mhh, yeah, Baby du bist wunderschön Und wir k...  Wednesday   \n",
       "1464    (Mehr) Gib mir mehr davon Gib mir mehr davon...  Wednesday   \n",
       "1465    Ja, ich bin so super gut gelaunt War schon l...  Wednesday   \n",
       "1466    Ok, wieder mal ein Track über Chicks (Über C...  Wednesday   \n",
       "1469   Sie seh'n endlich ein sie könn' machen was si...  Wednesday   \n",
       "1470   Komm bitte sag es mir Warum sind denn Frauen ...   Thursday   \n",
       "1478   Ey, nein ich hab' kein Haus am Meer Kein Auto...     Friday   \n",
       "1498   Mach den Shit laut, Fenster weit auf Ich komm...  Wednesday   \n",
       "1501   Schön dass du wieder da bist Wir haben uns so...  Wednesday   \n",
       "1502    Alles, was ich brauch', ist meine Gang, mein...     Friday   \n",
       "\n",
       "      collaboration collaboration_split  \n",
       "1452  Caro (Germany     [Caro (Germany]  \n",
       "1461          Danju             [Danju]  \n",
       "1464          Danju             [Danju]  \n",
       "1465          Danju             [Danju]  \n",
       "1466          Danju             [Danju]  \n",
       "1469          Danju             [Danju]  \n",
       "1470          Danju             [Danju]  \n",
       "1478          Danju             [Danju]  \n",
       "1498          Danju             [Danju]  \n",
       "1501          Danju             [Danju]  \n",
       "1502          Danju             [Danju]  "
      ]
     },
     "execution_count": 16,
     "metadata": {},
     "output_type": "execute_result"
    }
   ],
   "source": [
    "danju = colabs[colabs[\"full_title\"].str.contains(\"Danju\")]\n",
    "danju"
   ]
  },
  {
   "attachments": {},
   "cell_type": "markdown",
   "metadata": {},
   "source": [
    "### Wie grammatikalisch korrekt sind deutsche Songtexte?"
   ]
  },
  {
   "cell_type": "code",
   "execution_count": 17,
   "metadata": {},
   "outputs": [
    {
     "name": "stdout",
     "output_type": "stream",
     "text": [
      "\u001b[38;5;2m✔ Download and installation successful\u001b[0m\n",
      "You can now load the package via spacy.load('de_core_news_lg')\n"
     ]
    }
   ],
   "source": [
    "#! pip install contextualSpellCheck\n",
    "import contextualSpellCheck\n",
    "\n",
    "spacy.cli.download(\"de_core_news_lg\")\n",
    "\n",
    "\n",
    "nlp = spacy.load('de_core_news_lg')\n",
    "contextualSpellCheck.add_to_pipe(nlp)\n"
   ]
  },
  {
   "cell_type": "code",
   "execution_count": 18,
   "metadata": {},
   "outputs": [
    {
     "name": "stdout",
     "output_type": "stream",
     "text": [
      "Performed spell check: True\n",
      "Outcome of spell check:   Wast durch. Der die dieen. Und dast essen. Dunst diet und. Wast dien fort Und esser dir ins. Dies,e. Und der zu. Was das der? An das duch, den.  Was dung, das es die. Du war er dan Du war er dan Und es du gut, das dun dir., willr dann Für dir für dir dann  Das hinterfragst du. Wast. dasnacht zu Hitler im Reich und. Der dus du mits' Wast die,. Und immer und es das für die von Tag und. Som die,? Halt  Was das der? An das duch, den.  Was dung, das es die. Du war er dan Du war er dan Und es du gut, das dun dir., willr dann Für dir für die da,  ' bin da, der duch verurteilst, bin der, mit dem du dient, s' für die dir die. In will dir an den zu.  Was dung, das es die. Du war er dan Du war er dan Und es du gut, das dun dir., willr dann Für dir für dir dann und dung, das es dir. Du war er dan Du war er dan Und es du gut, das dun dir., willr dann Für dir für dir dann, darer dann Für dir für dir dann \n",
      "Performed spell check: True\n",
      "Outcome of spell check:  Mann an imen Lande die das mit verschwommen für den Fallt im. In dein'motf die Film, den dunen im die Kind, denen, dassen? Du s' den Mann, duch Ein Stern der Mann in. Du las eschen, dir den Herr hat der.  Und das hat für dir, hey Dat es in den. Is ha' was durch sot was du. Mann die fallenen, halter mit du dir und den. Du wille das. Mann du dir Mann du die Du lase dem und an Und dast dur. Dasock in die Land, und. In bin die Mann und die, in vont Du las eschen, dir den Herr hat der.  Und das hat für dir, hey Dat es in den. Is ha' was durch sot was du. Mann die fallenen, halter mit du dir und den. Du wille das. Wen du lie und du lie  I bin di, I die. Mann duch hat, du und die (Herr du wasz dert) I bin die (mit du die, die bin dus) Mann duch? (Herr du wasn dert)  Und das hat für dir, hey Dat es in den. Is ha' was durch sot was du. Mann die fallenen, halter mit du dir und den. Du wille das. Wen du dir und du die (mit du wasn dert) Die du die (mit du die, die son du dir) Du bin hat bin das? (Herr du wasz dert) Wen du lie und du dem \n",
      "Performed spell check: True\n",
      "Outcome of spell check:   In bin ' die die an' mit den. War in Voodookind Die - der. Im nun sang die für die, hat in den Wien, o ' s bin die Mann in untergehen In der der. Und, bin die der an' mit dem in den James in war für'n Tagen Held Und, an esch? Und du s' im dien I will die Herr in hatr dir dem. Und hatis die mit. , waren im. Und Land im den Land Ein Herr. Und im den total. Und is hatn,. Herr' i, d' i am. Som dir, den Land für die Kaiser? In war am in deren War in Herr, Baby, das dent in in Cover in der Hand War in Mann, der in den standt von Das dir, du bin es, dir bin  Und in bin die der an' mit der in den James Die war für'n Tag den Held Und, an esch? Und du s' im dien I will die Herr in hatr dir dem. Und hats die mit die , waren von den \" „One Minute“ \", da war'stent sang zu, fürch, für 'nenteten hat, zu. Und die er die die den mit. Und du dem den Stern , bint die der an' mit den. War on Voodoo-Kind Die - der. I bin die Mann in untergehen In den der.  Und zu bin in diender an' mit und in den James in war für'n Tagen Held Und, an esch? Und du s' im dien I will die Herr in hatr dir dem. Und hats und hat. Ein warden die deren mit Mann in den James die war für'n Tage Held Und, an esch? Und dirden im dien Der den Feuerstarter den Whitney in und dern Und hats und hat.\n",
      "Performed spell check: True\n",
      "Outcome of spell check:   Durch dienet für die war das, was war und das, wast Du war deren das, das es die Land., war blind und is war. Und hat wart?, hat, zu für mit gut und mit an die.  Was dung ein'n,, direnn? Du und die Mann, hat an in die den Bin um die die der. Und e' n bin die der anl, was durch. I willt bin zu. Dur 'nen für. Ein Ticket in das? Durch deren Stein, das es für die die die die zu hat dub' er der. Denster dun. So das dir is soller das dir, durch zur  Was dung ein'n,, direnn? Du und die Mann, hat an in die den Bin um die die der. Und e' n bin die der anl, was durch. I willt bin zu.  Durch zur  Was dung ein'n,, direnn? Du und die Mann, hat an in die den Bin um die die der. Und e' n bin die der anl, was durch. I willt bin zu.\n"
     ]
    },
    {
     "ename": "KeyboardInterrupt",
     "evalue": "",
     "output_type": "error",
     "traceback": [
      "\u001b[1;31m---------------------------------------------------------------------------\u001b[0m",
      "\u001b[1;31mKeyboardInterrupt\u001b[0m                         Traceback (most recent call last)",
      "\u001b[1;32m<ipython-input-18-f10940f2b680>\u001b[0m in \u001b[0;36m<module>\u001b[1;34m\u001b[0m\n\u001b[0;32m      8\u001b[0m \u001b[1;33m\u001b[0m\u001b[0m\n\u001b[0;32m      9\u001b[0m \u001b[1;33m\u001b[0m\u001b[0m\n\u001b[1;32m---> 10\u001b[1;33m \u001b[1;32mfor\u001b[0m \u001b[0mi\u001b[0m\u001b[1;33m,\u001b[0m \u001b[0mdoc\u001b[0m \u001b[1;32min\u001b[0m \u001b[0menumerate\u001b[0m\u001b[1;33m(\u001b[0m\u001b[0mdocs\u001b[0m\u001b[1;33m)\u001b[0m\u001b[1;33m:\u001b[0m\u001b[1;33m\u001b[0m\u001b[1;33m\u001b[0m\u001b[0m\n\u001b[0m\u001b[0;32m     11\u001b[0m     \u001b[0mrow\u001b[0m \u001b[1;33m=\u001b[0m \u001b[0mdf\u001b[0m\u001b[1;33m.\u001b[0m\u001b[0mloc\u001b[0m\u001b[1;33m[\u001b[0m\u001b[0mi\u001b[0m\u001b[1;33m,\u001b[0m \u001b[1;34m\"lyrics\"\u001b[0m\u001b[1;33m]\u001b[0m\u001b[1;33m\u001b[0m\u001b[1;33m\u001b[0m\u001b[0m\n\u001b[0;32m     12\u001b[0m     \u001b[0mperformed_spell_check\u001b[0m\u001b[1;33m,\u001b[0m \u001b[0moutcome_spell_check\u001b[0m \u001b[1;33m=\u001b[0m \u001b[0mgrammar_check\u001b[0m\u001b[1;33m(\u001b[0m\u001b[0mrow\u001b[0m\u001b[1;33m)\u001b[0m\u001b[1;33m\u001b[0m\u001b[1;33m\u001b[0m\u001b[0m\n",
      "\u001b[1;32mc:\\Users\\lotus\\anaconda3\\lib\\site-packages\\spacy\\language.py\u001b[0m in \u001b[0;36mpipe\u001b[1;34m(self, texts, as_tuples, batch_size, disable, component_cfg, n_process)\u001b[0m\n\u001b[0;32m   1572\u001b[0m             \u001b[1;32mfor\u001b[0m \u001b[0mpipe\u001b[0m \u001b[1;32min\u001b[0m \u001b[0mpipes\u001b[0m\u001b[1;33m:\u001b[0m\u001b[1;33m\u001b[0m\u001b[1;33m\u001b[0m\u001b[0m\n\u001b[0;32m   1573\u001b[0m                 \u001b[0mdocs\u001b[0m \u001b[1;33m=\u001b[0m \u001b[0mpipe\u001b[0m\u001b[1;33m(\u001b[0m\u001b[0mdocs\u001b[0m\u001b[1;33m)\u001b[0m\u001b[1;33m\u001b[0m\u001b[1;33m\u001b[0m\u001b[0m\n\u001b[1;32m-> 1574\u001b[1;33m         \u001b[1;32mfor\u001b[0m \u001b[0mdoc\u001b[0m \u001b[1;32min\u001b[0m \u001b[0mdocs\u001b[0m\u001b[1;33m:\u001b[0m\u001b[1;33m\u001b[0m\u001b[1;33m\u001b[0m\u001b[0m\n\u001b[0m\u001b[0;32m   1575\u001b[0m             \u001b[1;32myield\u001b[0m \u001b[0mdoc\u001b[0m\u001b[1;33m\u001b[0m\u001b[1;33m\u001b[0m\u001b[0m\n\u001b[0;32m   1576\u001b[0m \u001b[1;33m\u001b[0m\u001b[0m\n",
      "\u001b[1;32mc:\\Users\\lotus\\anaconda3\\lib\\site-packages\\spacy\\util.py\u001b[0m in \u001b[0;36m_pipe\u001b[1;34m(docs, proc, name, default_error_handler, kwargs)\u001b[0m\n\u001b[0;32m   1680\u001b[0m         \u001b[1;32mfor\u001b[0m \u001b[0mdoc\u001b[0m \u001b[1;32min\u001b[0m \u001b[0mdocs\u001b[0m\u001b[1;33m:\u001b[0m\u001b[1;33m\u001b[0m\u001b[1;33m\u001b[0m\u001b[0m\n\u001b[0;32m   1681\u001b[0m             \u001b[1;32mtry\u001b[0m\u001b[1;33m:\u001b[0m\u001b[1;33m\u001b[0m\u001b[1;33m\u001b[0m\u001b[0m\n\u001b[1;32m-> 1682\u001b[1;33m                 \u001b[0mdoc\u001b[0m \u001b[1;33m=\u001b[0m \u001b[0mproc\u001b[0m\u001b[1;33m(\u001b[0m\u001b[0mdoc\u001b[0m\u001b[1;33m,\u001b[0m \u001b[1;33m**\u001b[0m\u001b[0mkwargs\u001b[0m\u001b[1;33m)\u001b[0m  \u001b[1;31m# type: ignore[call-arg]\u001b[0m\u001b[1;33m\u001b[0m\u001b[1;33m\u001b[0m\u001b[0m\n\u001b[0m\u001b[0;32m   1683\u001b[0m                 \u001b[1;32myield\u001b[0m \u001b[0mdoc\u001b[0m\u001b[1;33m\u001b[0m\u001b[1;33m\u001b[0m\u001b[0m\n\u001b[0;32m   1684\u001b[0m             \u001b[1;32mexcept\u001b[0m \u001b[0mException\u001b[0m \u001b[1;32mas\u001b[0m \u001b[0me\u001b[0m\u001b[1;33m:\u001b[0m\u001b[1;33m\u001b[0m\u001b[1;33m\u001b[0m\u001b[0m\n",
      "\u001b[1;32mc:\\Users\\lotus\\anaconda3\\lib\\site-packages\\contextualSpellCheck\\contextualSpellCheck.py\u001b[0m in \u001b[0;36m__call__\u001b[1;34m(self, doc)\u001b[0m\n\u001b[0;32m    170\u001b[0m             \u001b[0mmisspell_tokens\u001b[0m\u001b[1;33m,\u001b[0m \u001b[0mdoc\u001b[0m \u001b[1;33m=\u001b[0m \u001b[0mself\u001b[0m\u001b[1;33m.\u001b[0m\u001b[0mmisspell_identify\u001b[0m\u001b[1;33m(\u001b[0m\u001b[0mdoc\u001b[0m\u001b[1;33m)\u001b[0m\u001b[1;33m\u001b[0m\u001b[1;33m\u001b[0m\u001b[0m\n\u001b[0;32m    171\u001b[0m             \u001b[1;32mif\u001b[0m \u001b[0mlen\u001b[0m\u001b[1;33m(\u001b[0m\u001b[0mmisspell_tokens\u001b[0m\u001b[1;33m)\u001b[0m \u001b[1;33m>\u001b[0m \u001b[1;36m0\u001b[0m\u001b[1;33m:\u001b[0m\u001b[1;33m\u001b[0m\u001b[1;33m\u001b[0m\u001b[0m\n\u001b[1;32m--> 172\u001b[1;33m                 \u001b[0mdoc\u001b[0m\u001b[1;33m,\u001b[0m \u001b[0mcandidate\u001b[0m \u001b[1;33m=\u001b[0m \u001b[0mself\u001b[0m\u001b[1;33m.\u001b[0m\u001b[0mcandidate_generator\u001b[0m\u001b[1;33m(\u001b[0m\u001b[0mdoc\u001b[0m\u001b[1;33m,\u001b[0m \u001b[0mmisspell_tokens\u001b[0m\u001b[1;33m)\u001b[0m\u001b[1;33m\u001b[0m\u001b[1;33m\u001b[0m\u001b[0m\n\u001b[0m\u001b[0;32m    173\u001b[0m                 \u001b[0mself\u001b[0m\u001b[1;33m.\u001b[0m\u001b[0mcandidate_ranking\u001b[0m\u001b[1;33m(\u001b[0m\u001b[0mdoc\u001b[0m\u001b[1;33m,\u001b[0m \u001b[0mcandidate\u001b[0m\u001b[1;33m)\u001b[0m\u001b[1;33m\u001b[0m\u001b[1;33m\u001b[0m\u001b[0m\n\u001b[0;32m    174\u001b[0m                 \u001b[0mraw_sentence\u001b[0m \u001b[1;33m=\u001b[0m \u001b[0mdoc\u001b[0m\u001b[1;33m.\u001b[0m\u001b[0m_\u001b[0m\u001b[1;33m.\u001b[0m\u001b[0moutcome_spellCheck\u001b[0m\u001b[1;33m.\u001b[0m\u001b[0msplit\u001b[0m\u001b[1;33m(\u001b[0m\u001b[1;34m\" \"\u001b[0m\u001b[1;33m)\u001b[0m\u001b[1;33m\u001b[0m\u001b[1;33m\u001b[0m\u001b[0m\n",
      "\u001b[1;32mc:\\Users\\lotus\\anaconda3\\lib\\site-packages\\contextualSpellCheck\\contextualSpellCheck.py\u001b[0m in \u001b[0;36mcandidate_generator\u001b[1;34m(self, doc, misspellings, top_n)\u001b[0m\n\u001b[0;32m    319\u001b[0m                 \u001b[0mmodel_input\u001b[0m \u001b[1;33m==\u001b[0m \u001b[0mself\u001b[0m\u001b[1;33m.\u001b[0m\u001b[0mBertTokenizer\u001b[0m\u001b[1;33m.\u001b[0m\u001b[0mmask_token_id\u001b[0m\u001b[1;33m\u001b[0m\u001b[1;33m\u001b[0m\u001b[0m\n\u001b[0;32m    320\u001b[0m             )[1]\n\u001b[1;32m--> 321\u001b[1;33m             \u001b[0mtoken_logits\u001b[0m \u001b[1;33m=\u001b[0m \u001b[0mself\u001b[0m\u001b[1;33m.\u001b[0m\u001b[0mBertModel\u001b[0m\u001b[1;33m(\u001b[0m\u001b[0mmodel_input\u001b[0m\u001b[1;33m)\u001b[0m\u001b[1;33m[\u001b[0m\u001b[1;36m0\u001b[0m\u001b[1;33m]\u001b[0m\u001b[1;33m\u001b[0m\u001b[1;33m\u001b[0m\u001b[0m\n\u001b[0m\u001b[0;32m    322\u001b[0m             \u001b[0mmask_token_logits\u001b[0m \u001b[1;33m=\u001b[0m \u001b[0mtoken_logits\u001b[0m\u001b[1;33m[\u001b[0m\u001b[1;36m0\u001b[0m\u001b[1;33m,\u001b[0m \u001b[0mmask_token_index\u001b[0m\u001b[1;33m,\u001b[0m \u001b[1;33m:\u001b[0m\u001b[1;33m]\u001b[0m\u001b[1;33m\u001b[0m\u001b[1;33m\u001b[0m\u001b[0m\n\u001b[0;32m    323\u001b[0m             token_probability = torch.nn.functional.softmax(\n",
      "\u001b[1;32mc:\\Users\\lotus\\anaconda3\\lib\\site-packages\\torch\\nn\\modules\\module.py\u001b[0m in \u001b[0;36m_call_impl\u001b[1;34m(self, *args, **kwargs)\u001b[0m\n\u001b[0;32m   1499\u001b[0m                 \u001b[1;32mor\u001b[0m \u001b[0m_global_backward_pre_hooks\u001b[0m \u001b[1;32mor\u001b[0m \u001b[0m_global_backward_hooks\u001b[0m\u001b[1;33m\u001b[0m\u001b[1;33m\u001b[0m\u001b[0m\n\u001b[0;32m   1500\u001b[0m                 or _global_forward_hooks or _global_forward_pre_hooks):\n\u001b[1;32m-> 1501\u001b[1;33m             \u001b[1;32mreturn\u001b[0m \u001b[0mforward_call\u001b[0m\u001b[1;33m(\u001b[0m\u001b[1;33m*\u001b[0m\u001b[0margs\u001b[0m\u001b[1;33m,\u001b[0m \u001b[1;33m**\u001b[0m\u001b[0mkwargs\u001b[0m\u001b[1;33m)\u001b[0m\u001b[1;33m\u001b[0m\u001b[1;33m\u001b[0m\u001b[0m\n\u001b[0m\u001b[0;32m   1502\u001b[0m         \u001b[1;31m# Do not call functions when jit is used\u001b[0m\u001b[1;33m\u001b[0m\u001b[1;33m\u001b[0m\u001b[1;33m\u001b[0m\u001b[0m\n\u001b[0;32m   1503\u001b[0m         \u001b[0mfull_backward_hooks\u001b[0m\u001b[1;33m,\u001b[0m \u001b[0mnon_full_backward_hooks\u001b[0m \u001b[1;33m=\u001b[0m \u001b[1;33m[\u001b[0m\u001b[1;33m]\u001b[0m\u001b[1;33m,\u001b[0m \u001b[1;33m[\u001b[0m\u001b[1;33m]\u001b[0m\u001b[1;33m\u001b[0m\u001b[1;33m\u001b[0m\u001b[0m\n",
      "\u001b[1;32mc:\\Users\\lotus\\anaconda3\\lib\\site-packages\\transformers\\models\\bert\\modeling_bert.py\u001b[0m in \u001b[0;36mforward\u001b[1;34m(self, input_ids, attention_mask, token_type_ids, position_ids, head_mask, inputs_embeds, encoder_hidden_states, encoder_attention_mask, labels, output_attentions, output_hidden_states, return_dict)\u001b[0m\n\u001b[0;32m   1356\u001b[0m         \u001b[0mreturn_dict\u001b[0m \u001b[1;33m=\u001b[0m \u001b[0mreturn_dict\u001b[0m \u001b[1;32mif\u001b[0m \u001b[0mreturn_dict\u001b[0m \u001b[1;32mis\u001b[0m \u001b[1;32mnot\u001b[0m \u001b[1;32mNone\u001b[0m \u001b[1;32melse\u001b[0m \u001b[0mself\u001b[0m\u001b[1;33m.\u001b[0m\u001b[0mconfig\u001b[0m\u001b[1;33m.\u001b[0m\u001b[0muse_return_dict\u001b[0m\u001b[1;33m\u001b[0m\u001b[1;33m\u001b[0m\u001b[0m\n\u001b[0;32m   1357\u001b[0m \u001b[1;33m\u001b[0m\u001b[0m\n\u001b[1;32m-> 1358\u001b[1;33m         outputs = self.bert(\n\u001b[0m\u001b[0;32m   1359\u001b[0m             \u001b[0minput_ids\u001b[0m\u001b[1;33m,\u001b[0m\u001b[1;33m\u001b[0m\u001b[1;33m\u001b[0m\u001b[0m\n\u001b[0;32m   1360\u001b[0m             \u001b[0mattention_mask\u001b[0m\u001b[1;33m=\u001b[0m\u001b[0mattention_mask\u001b[0m\u001b[1;33m,\u001b[0m\u001b[1;33m\u001b[0m\u001b[1;33m\u001b[0m\u001b[0m\n",
      "\u001b[1;32mc:\\Users\\lotus\\anaconda3\\lib\\site-packages\\torch\\nn\\modules\\module.py\u001b[0m in \u001b[0;36m_call_impl\u001b[1;34m(self, *args, **kwargs)\u001b[0m\n\u001b[0;32m   1499\u001b[0m                 \u001b[1;32mor\u001b[0m \u001b[0m_global_backward_pre_hooks\u001b[0m \u001b[1;32mor\u001b[0m \u001b[0m_global_backward_hooks\u001b[0m\u001b[1;33m\u001b[0m\u001b[1;33m\u001b[0m\u001b[0m\n\u001b[0;32m   1500\u001b[0m                 or _global_forward_hooks or _global_forward_pre_hooks):\n\u001b[1;32m-> 1501\u001b[1;33m             \u001b[1;32mreturn\u001b[0m \u001b[0mforward_call\u001b[0m\u001b[1;33m(\u001b[0m\u001b[1;33m*\u001b[0m\u001b[0margs\u001b[0m\u001b[1;33m,\u001b[0m \u001b[1;33m**\u001b[0m\u001b[0mkwargs\u001b[0m\u001b[1;33m)\u001b[0m\u001b[1;33m\u001b[0m\u001b[1;33m\u001b[0m\u001b[0m\n\u001b[0m\u001b[0;32m   1502\u001b[0m         \u001b[1;31m# Do not call functions when jit is used\u001b[0m\u001b[1;33m\u001b[0m\u001b[1;33m\u001b[0m\u001b[1;33m\u001b[0m\u001b[0m\n\u001b[0;32m   1503\u001b[0m         \u001b[0mfull_backward_hooks\u001b[0m\u001b[1;33m,\u001b[0m \u001b[0mnon_full_backward_hooks\u001b[0m \u001b[1;33m=\u001b[0m \u001b[1;33m[\u001b[0m\u001b[1;33m]\u001b[0m\u001b[1;33m,\u001b[0m \u001b[1;33m[\u001b[0m\u001b[1;33m]\u001b[0m\u001b[1;33m\u001b[0m\u001b[1;33m\u001b[0m\u001b[0m\n",
      "\u001b[1;32mc:\\Users\\lotus\\anaconda3\\lib\\site-packages\\transformers\\models\\bert\\modeling_bert.py\u001b[0m in \u001b[0;36mforward\u001b[1;34m(self, input_ids, attention_mask, token_type_ids, position_ids, head_mask, inputs_embeds, encoder_hidden_states, encoder_attention_mask, past_key_values, use_cache, output_attentions, output_hidden_states, return_dict)\u001b[0m\n\u001b[0;32m   1018\u001b[0m             \u001b[0mpast_key_values_length\u001b[0m\u001b[1;33m=\u001b[0m\u001b[0mpast_key_values_length\u001b[0m\u001b[1;33m,\u001b[0m\u001b[1;33m\u001b[0m\u001b[1;33m\u001b[0m\u001b[0m\n\u001b[0;32m   1019\u001b[0m         )\n\u001b[1;32m-> 1020\u001b[1;33m         encoder_outputs = self.encoder(\n\u001b[0m\u001b[0;32m   1021\u001b[0m             \u001b[0membedding_output\u001b[0m\u001b[1;33m,\u001b[0m\u001b[1;33m\u001b[0m\u001b[1;33m\u001b[0m\u001b[0m\n\u001b[0;32m   1022\u001b[0m             \u001b[0mattention_mask\u001b[0m\u001b[1;33m=\u001b[0m\u001b[0mextended_attention_mask\u001b[0m\u001b[1;33m,\u001b[0m\u001b[1;33m\u001b[0m\u001b[1;33m\u001b[0m\u001b[0m\n",
      "\u001b[1;32mc:\\Users\\lotus\\anaconda3\\lib\\site-packages\\torch\\nn\\modules\\module.py\u001b[0m in \u001b[0;36m_call_impl\u001b[1;34m(self, *args, **kwargs)\u001b[0m\n\u001b[0;32m   1499\u001b[0m                 \u001b[1;32mor\u001b[0m \u001b[0m_global_backward_pre_hooks\u001b[0m \u001b[1;32mor\u001b[0m \u001b[0m_global_backward_hooks\u001b[0m\u001b[1;33m\u001b[0m\u001b[1;33m\u001b[0m\u001b[0m\n\u001b[0;32m   1500\u001b[0m                 or _global_forward_hooks or _global_forward_pre_hooks):\n\u001b[1;32m-> 1501\u001b[1;33m             \u001b[1;32mreturn\u001b[0m \u001b[0mforward_call\u001b[0m\u001b[1;33m(\u001b[0m\u001b[1;33m*\u001b[0m\u001b[0margs\u001b[0m\u001b[1;33m,\u001b[0m \u001b[1;33m**\u001b[0m\u001b[0mkwargs\u001b[0m\u001b[1;33m)\u001b[0m\u001b[1;33m\u001b[0m\u001b[1;33m\u001b[0m\u001b[0m\n\u001b[0m\u001b[0;32m   1502\u001b[0m         \u001b[1;31m# Do not call functions when jit is used\u001b[0m\u001b[1;33m\u001b[0m\u001b[1;33m\u001b[0m\u001b[1;33m\u001b[0m\u001b[0m\n\u001b[0;32m   1503\u001b[0m         \u001b[0mfull_backward_hooks\u001b[0m\u001b[1;33m,\u001b[0m \u001b[0mnon_full_backward_hooks\u001b[0m \u001b[1;33m=\u001b[0m \u001b[1;33m[\u001b[0m\u001b[1;33m]\u001b[0m\u001b[1;33m,\u001b[0m \u001b[1;33m[\u001b[0m\u001b[1;33m]\u001b[0m\u001b[1;33m\u001b[0m\u001b[1;33m\u001b[0m\u001b[0m\n",
      "\u001b[1;32mc:\\Users\\lotus\\anaconda3\\lib\\site-packages\\transformers\\models\\bert\\modeling_bert.py\u001b[0m in \u001b[0;36mforward\u001b[1;34m(self, hidden_states, attention_mask, head_mask, encoder_hidden_states, encoder_attention_mask, past_key_values, use_cache, output_attentions, output_hidden_states, return_dict)\u001b[0m\n\u001b[0;32m    608\u001b[0m                 )\n\u001b[0;32m    609\u001b[0m             \u001b[1;32melse\u001b[0m\u001b[1;33m:\u001b[0m\u001b[1;33m\u001b[0m\u001b[1;33m\u001b[0m\u001b[0m\n\u001b[1;32m--> 610\u001b[1;33m                 layer_outputs = layer_module(\n\u001b[0m\u001b[0;32m    611\u001b[0m                     \u001b[0mhidden_states\u001b[0m\u001b[1;33m,\u001b[0m\u001b[1;33m\u001b[0m\u001b[1;33m\u001b[0m\u001b[0m\n\u001b[0;32m    612\u001b[0m                     \u001b[0mattention_mask\u001b[0m\u001b[1;33m,\u001b[0m\u001b[1;33m\u001b[0m\u001b[1;33m\u001b[0m\u001b[0m\n",
      "\u001b[1;32mc:\\Users\\lotus\\anaconda3\\lib\\site-packages\\torch\\nn\\modules\\module.py\u001b[0m in \u001b[0;36m_call_impl\u001b[1;34m(self, *args, **kwargs)\u001b[0m\n\u001b[0;32m   1499\u001b[0m                 \u001b[1;32mor\u001b[0m \u001b[0m_global_backward_pre_hooks\u001b[0m \u001b[1;32mor\u001b[0m \u001b[0m_global_backward_hooks\u001b[0m\u001b[1;33m\u001b[0m\u001b[1;33m\u001b[0m\u001b[0m\n\u001b[0;32m   1500\u001b[0m                 or _global_forward_hooks or _global_forward_pre_hooks):\n\u001b[1;32m-> 1501\u001b[1;33m             \u001b[1;32mreturn\u001b[0m \u001b[0mforward_call\u001b[0m\u001b[1;33m(\u001b[0m\u001b[1;33m*\u001b[0m\u001b[0margs\u001b[0m\u001b[1;33m,\u001b[0m \u001b[1;33m**\u001b[0m\u001b[0mkwargs\u001b[0m\u001b[1;33m)\u001b[0m\u001b[1;33m\u001b[0m\u001b[1;33m\u001b[0m\u001b[0m\n\u001b[0m\u001b[0;32m   1502\u001b[0m         \u001b[1;31m# Do not call functions when jit is used\u001b[0m\u001b[1;33m\u001b[0m\u001b[1;33m\u001b[0m\u001b[1;33m\u001b[0m\u001b[0m\n\u001b[0;32m   1503\u001b[0m         \u001b[0mfull_backward_hooks\u001b[0m\u001b[1;33m,\u001b[0m \u001b[0mnon_full_backward_hooks\u001b[0m \u001b[1;33m=\u001b[0m \u001b[1;33m[\u001b[0m\u001b[1;33m]\u001b[0m\u001b[1;33m,\u001b[0m \u001b[1;33m[\u001b[0m\u001b[1;33m]\u001b[0m\u001b[1;33m\u001b[0m\u001b[1;33m\u001b[0m\u001b[0m\n",
      "\u001b[1;32mc:\\Users\\lotus\\anaconda3\\lib\\site-packages\\transformers\\models\\bert\\modeling_bert.py\u001b[0m in \u001b[0;36mforward\u001b[1;34m(self, hidden_states, attention_mask, head_mask, encoder_hidden_states, encoder_attention_mask, past_key_value, output_attentions)\u001b[0m\n\u001b[0;32m    535\u001b[0m             \u001b[0mpresent_key_value\u001b[0m \u001b[1;33m=\u001b[0m \u001b[0mpresent_key_value\u001b[0m \u001b[1;33m+\u001b[0m \u001b[0mcross_attn_present_key_value\u001b[0m\u001b[1;33m\u001b[0m\u001b[1;33m\u001b[0m\u001b[0m\n\u001b[0;32m    536\u001b[0m \u001b[1;33m\u001b[0m\u001b[0m\n\u001b[1;32m--> 537\u001b[1;33m         layer_output = apply_chunking_to_forward(\n\u001b[0m\u001b[0;32m    538\u001b[0m             \u001b[0mself\u001b[0m\u001b[1;33m.\u001b[0m\u001b[0mfeed_forward_chunk\u001b[0m\u001b[1;33m,\u001b[0m \u001b[0mself\u001b[0m\u001b[1;33m.\u001b[0m\u001b[0mchunk_size_feed_forward\u001b[0m\u001b[1;33m,\u001b[0m \u001b[0mself\u001b[0m\u001b[1;33m.\u001b[0m\u001b[0mseq_len_dim\u001b[0m\u001b[1;33m,\u001b[0m \u001b[0mattention_output\u001b[0m\u001b[1;33m\u001b[0m\u001b[1;33m\u001b[0m\u001b[0m\n\u001b[0;32m    539\u001b[0m         )\n",
      "\u001b[1;32mc:\\Users\\lotus\\anaconda3\\lib\\site-packages\\transformers\\pytorch_utils.py\u001b[0m in \u001b[0;36mapply_chunking_to_forward\u001b[1;34m(forward_fn, chunk_size, chunk_dim, *input_tensors)\u001b[0m\n\u001b[0;32m    234\u001b[0m         \u001b[1;32mreturn\u001b[0m \u001b[0mtorch\u001b[0m\u001b[1;33m.\u001b[0m\u001b[0mcat\u001b[0m\u001b[1;33m(\u001b[0m\u001b[0moutput_chunks\u001b[0m\u001b[1;33m,\u001b[0m \u001b[0mdim\u001b[0m\u001b[1;33m=\u001b[0m\u001b[0mchunk_dim\u001b[0m\u001b[1;33m)\u001b[0m\u001b[1;33m\u001b[0m\u001b[1;33m\u001b[0m\u001b[0m\n\u001b[0;32m    235\u001b[0m \u001b[1;33m\u001b[0m\u001b[0m\n\u001b[1;32m--> 236\u001b[1;33m     \u001b[1;32mreturn\u001b[0m \u001b[0mforward_fn\u001b[0m\u001b[1;33m(\u001b[0m\u001b[1;33m*\u001b[0m\u001b[0minput_tensors\u001b[0m\u001b[1;33m)\u001b[0m\u001b[1;33m\u001b[0m\u001b[1;33m\u001b[0m\u001b[0m\n\u001b[0m\u001b[0;32m    237\u001b[0m \u001b[1;33m\u001b[0m\u001b[0m\n\u001b[0;32m    238\u001b[0m \u001b[1;33m\u001b[0m\u001b[0m\n",
      "\u001b[1;32mc:\\Users\\lotus\\anaconda3\\lib\\site-packages\\transformers\\models\\bert\\modeling_bert.py\u001b[0m in \u001b[0;36mfeed_forward_chunk\u001b[1;34m(self, attention_output)\u001b[0m\n\u001b[0;32m    547\u001b[0m \u001b[1;33m\u001b[0m\u001b[0m\n\u001b[0;32m    548\u001b[0m     \u001b[1;32mdef\u001b[0m \u001b[0mfeed_forward_chunk\u001b[0m\u001b[1;33m(\u001b[0m\u001b[0mself\u001b[0m\u001b[1;33m,\u001b[0m \u001b[0mattention_output\u001b[0m\u001b[1;33m)\u001b[0m\u001b[1;33m:\u001b[0m\u001b[1;33m\u001b[0m\u001b[1;33m\u001b[0m\u001b[0m\n\u001b[1;32m--> 549\u001b[1;33m         \u001b[0mintermediate_output\u001b[0m \u001b[1;33m=\u001b[0m \u001b[0mself\u001b[0m\u001b[1;33m.\u001b[0m\u001b[0mintermediate\u001b[0m\u001b[1;33m(\u001b[0m\u001b[0mattention_output\u001b[0m\u001b[1;33m)\u001b[0m\u001b[1;33m\u001b[0m\u001b[1;33m\u001b[0m\u001b[0m\n\u001b[0m\u001b[0;32m    550\u001b[0m         \u001b[0mlayer_output\u001b[0m \u001b[1;33m=\u001b[0m \u001b[0mself\u001b[0m\u001b[1;33m.\u001b[0m\u001b[0moutput\u001b[0m\u001b[1;33m(\u001b[0m\u001b[0mintermediate_output\u001b[0m\u001b[1;33m,\u001b[0m \u001b[0mattention_output\u001b[0m\u001b[1;33m)\u001b[0m\u001b[1;33m\u001b[0m\u001b[1;33m\u001b[0m\u001b[0m\n\u001b[0;32m    551\u001b[0m         \u001b[1;32mreturn\u001b[0m \u001b[0mlayer_output\u001b[0m\u001b[1;33m\u001b[0m\u001b[1;33m\u001b[0m\u001b[0m\n",
      "\u001b[1;32mc:\\Users\\lotus\\anaconda3\\lib\\site-packages\\torch\\nn\\modules\\module.py\u001b[0m in \u001b[0;36m_call_impl\u001b[1;34m(self, *args, **kwargs)\u001b[0m\n\u001b[0;32m   1499\u001b[0m                 \u001b[1;32mor\u001b[0m \u001b[0m_global_backward_pre_hooks\u001b[0m \u001b[1;32mor\u001b[0m \u001b[0m_global_backward_hooks\u001b[0m\u001b[1;33m\u001b[0m\u001b[1;33m\u001b[0m\u001b[0m\n\u001b[0;32m   1500\u001b[0m                 or _global_forward_hooks or _global_forward_pre_hooks):\n\u001b[1;32m-> 1501\u001b[1;33m             \u001b[1;32mreturn\u001b[0m \u001b[0mforward_call\u001b[0m\u001b[1;33m(\u001b[0m\u001b[1;33m*\u001b[0m\u001b[0margs\u001b[0m\u001b[1;33m,\u001b[0m \u001b[1;33m**\u001b[0m\u001b[0mkwargs\u001b[0m\u001b[1;33m)\u001b[0m\u001b[1;33m\u001b[0m\u001b[1;33m\u001b[0m\u001b[0m\n\u001b[0m\u001b[0;32m   1502\u001b[0m         \u001b[1;31m# Do not call functions when jit is used\u001b[0m\u001b[1;33m\u001b[0m\u001b[1;33m\u001b[0m\u001b[1;33m\u001b[0m\u001b[0m\n\u001b[0;32m   1503\u001b[0m         \u001b[0mfull_backward_hooks\u001b[0m\u001b[1;33m,\u001b[0m \u001b[0mnon_full_backward_hooks\u001b[0m \u001b[1;33m=\u001b[0m \u001b[1;33m[\u001b[0m\u001b[1;33m]\u001b[0m\u001b[1;33m,\u001b[0m \u001b[1;33m[\u001b[0m\u001b[1;33m]\u001b[0m\u001b[1;33m\u001b[0m\u001b[1;33m\u001b[0m\u001b[0m\n",
      "\u001b[1;32mc:\\Users\\lotus\\anaconda3\\lib\\site-packages\\transformers\\models\\bert\\modeling_bert.py\u001b[0m in \u001b[0;36mforward\u001b[1;34m(self, hidden_states)\u001b[0m\n\u001b[0;32m    447\u001b[0m \u001b[1;33m\u001b[0m\u001b[0m\n\u001b[0;32m    448\u001b[0m     \u001b[1;32mdef\u001b[0m \u001b[0mforward\u001b[0m\u001b[1;33m(\u001b[0m\u001b[0mself\u001b[0m\u001b[1;33m,\u001b[0m \u001b[0mhidden_states\u001b[0m\u001b[1;33m:\u001b[0m \u001b[0mtorch\u001b[0m\u001b[1;33m.\u001b[0m\u001b[0mTensor\u001b[0m\u001b[1;33m)\u001b[0m \u001b[1;33m->\u001b[0m \u001b[0mtorch\u001b[0m\u001b[1;33m.\u001b[0m\u001b[0mTensor\u001b[0m\u001b[1;33m:\u001b[0m\u001b[1;33m\u001b[0m\u001b[1;33m\u001b[0m\u001b[0m\n\u001b[1;32m--> 449\u001b[1;33m         \u001b[0mhidden_states\u001b[0m \u001b[1;33m=\u001b[0m \u001b[0mself\u001b[0m\u001b[1;33m.\u001b[0m\u001b[0mdense\u001b[0m\u001b[1;33m(\u001b[0m\u001b[0mhidden_states\u001b[0m\u001b[1;33m)\u001b[0m\u001b[1;33m\u001b[0m\u001b[1;33m\u001b[0m\u001b[0m\n\u001b[0m\u001b[0;32m    450\u001b[0m         \u001b[0mhidden_states\u001b[0m \u001b[1;33m=\u001b[0m \u001b[0mself\u001b[0m\u001b[1;33m.\u001b[0m\u001b[0mintermediate_act_fn\u001b[0m\u001b[1;33m(\u001b[0m\u001b[0mhidden_states\u001b[0m\u001b[1;33m)\u001b[0m\u001b[1;33m\u001b[0m\u001b[1;33m\u001b[0m\u001b[0m\n\u001b[0;32m    451\u001b[0m         \u001b[1;32mreturn\u001b[0m \u001b[0mhidden_states\u001b[0m\u001b[1;33m\u001b[0m\u001b[1;33m\u001b[0m\u001b[0m\n",
      "\u001b[1;32mc:\\Users\\lotus\\anaconda3\\lib\\site-packages\\torch\\nn\\modules\\module.py\u001b[0m in \u001b[0;36m_call_impl\u001b[1;34m(self, *args, **kwargs)\u001b[0m\n\u001b[0;32m   1499\u001b[0m                 \u001b[1;32mor\u001b[0m \u001b[0m_global_backward_pre_hooks\u001b[0m \u001b[1;32mor\u001b[0m \u001b[0m_global_backward_hooks\u001b[0m\u001b[1;33m\u001b[0m\u001b[1;33m\u001b[0m\u001b[0m\n\u001b[0;32m   1500\u001b[0m                 or _global_forward_hooks or _global_forward_pre_hooks):\n\u001b[1;32m-> 1501\u001b[1;33m             \u001b[1;32mreturn\u001b[0m \u001b[0mforward_call\u001b[0m\u001b[1;33m(\u001b[0m\u001b[1;33m*\u001b[0m\u001b[0margs\u001b[0m\u001b[1;33m,\u001b[0m \u001b[1;33m**\u001b[0m\u001b[0mkwargs\u001b[0m\u001b[1;33m)\u001b[0m\u001b[1;33m\u001b[0m\u001b[1;33m\u001b[0m\u001b[0m\n\u001b[0m\u001b[0;32m   1502\u001b[0m         \u001b[1;31m# Do not call functions when jit is used\u001b[0m\u001b[1;33m\u001b[0m\u001b[1;33m\u001b[0m\u001b[1;33m\u001b[0m\u001b[0m\n\u001b[0;32m   1503\u001b[0m         \u001b[0mfull_backward_hooks\u001b[0m\u001b[1;33m,\u001b[0m \u001b[0mnon_full_backward_hooks\u001b[0m \u001b[1;33m=\u001b[0m \u001b[1;33m[\u001b[0m\u001b[1;33m]\u001b[0m\u001b[1;33m,\u001b[0m \u001b[1;33m[\u001b[0m\u001b[1;33m]\u001b[0m\u001b[1;33m\u001b[0m\u001b[1;33m\u001b[0m\u001b[0m\n",
      "\u001b[1;32mc:\\Users\\lotus\\anaconda3\\lib\\site-packages\\torch\\nn\\modules\\linear.py\u001b[0m in \u001b[0;36mforward\u001b[1;34m(self, input)\u001b[0m\n\u001b[0;32m    112\u001b[0m \u001b[1;33m\u001b[0m\u001b[0m\n\u001b[0;32m    113\u001b[0m     \u001b[1;32mdef\u001b[0m \u001b[0mforward\u001b[0m\u001b[1;33m(\u001b[0m\u001b[0mself\u001b[0m\u001b[1;33m,\u001b[0m \u001b[0minput\u001b[0m\u001b[1;33m:\u001b[0m \u001b[0mTensor\u001b[0m\u001b[1;33m)\u001b[0m \u001b[1;33m->\u001b[0m \u001b[0mTensor\u001b[0m\u001b[1;33m:\u001b[0m\u001b[1;33m\u001b[0m\u001b[1;33m\u001b[0m\u001b[0m\n\u001b[1;32m--> 114\u001b[1;33m         \u001b[1;32mreturn\u001b[0m \u001b[0mF\u001b[0m\u001b[1;33m.\u001b[0m\u001b[0mlinear\u001b[0m\u001b[1;33m(\u001b[0m\u001b[0minput\u001b[0m\u001b[1;33m,\u001b[0m \u001b[0mself\u001b[0m\u001b[1;33m.\u001b[0m\u001b[0mweight\u001b[0m\u001b[1;33m,\u001b[0m \u001b[0mself\u001b[0m\u001b[1;33m.\u001b[0m\u001b[0mbias\u001b[0m\u001b[1;33m)\u001b[0m\u001b[1;33m\u001b[0m\u001b[1;33m\u001b[0m\u001b[0m\n\u001b[0m\u001b[0;32m    115\u001b[0m \u001b[1;33m\u001b[0m\u001b[0m\n\u001b[0;32m    116\u001b[0m     \u001b[1;32mdef\u001b[0m \u001b[0mextra_repr\u001b[0m\u001b[1;33m(\u001b[0m\u001b[0mself\u001b[0m\u001b[1;33m)\u001b[0m \u001b[1;33m->\u001b[0m \u001b[0mstr\u001b[0m\u001b[1;33m:\u001b[0m\u001b[1;33m\u001b[0m\u001b[1;33m\u001b[0m\u001b[0m\n",
      "\u001b[1;31mKeyboardInterrupt\u001b[0m: "
     ]
    }
   ],
   "source": [
    "# Funktion zur Überprüfung der Rechtschreibung\n",
    "def grammar_check(lyric):\n",
    "    doc = nlp(lyric)\n",
    "    return doc._.performed_spellCheck, doc._.outcome_spellCheck\n",
    "\n",
    "texts = list(df[\"lyrics\"].iloc[:50])\n",
    "docs = nlp.pipe(texts)  \n",
    "\n",
    "\n",
    "for i, doc in enumerate(docs):\n",
    "    row = df.loc[i, \"lyrics\"]\n",
    "    performed_spell_check, outcome_spell_check = grammar_check(row)\n",
    "    print(\"Performed spell check:\", performed_spell_check)\n",
    "    print(\"Outcome of spell check:\", outcome_spell_check)\n"
   ]
  },
  {
   "cell_type": "code",
   "execution_count": 142,
   "metadata": {},
   "outputs": [
    {
     "name": "stdout",
     "output_type": "stream",
     "text": [
      "  Manchmal hast du gar nichts mehr Nur noch deinen kleinen Traum Und dann wiegt es Tonnen schwer Du bist wie Luft ohne Raum Manchmal geht die Liebe fort Und es regnet dir ins Herz Die Welt begräbt dich lebend Und jeder Atemzug schmerzt Wenn nichts mehr bleibt Auf das du dich noch verlassen kannst  Wenn du denkst, dass alles vorbei ist Ich werde immer da sein Ich werde immer da sein Und wenn du glaubst, dass du ganz allein bist Ich werde immer da sein Für immer für dich da sein  Manchmal hinterfragst du alles Hörst damit auch Nachts nicht auf Sitzt im Treppenhaus und wartest Denn du traust dich nicht nachhaus' Manchmal geht die Liebe unter Und im Sommer wird es kalt Läufst die Straßen rauf und runter So wie ein Zug ohne Halt  Wenn nichts mehr bleibt Auf das du dich noch verlassen kannst  Wenn du denkst, dass alles vorbei ist Ich werde immer da sein Ich werde immer da sein Und wenn du glaubst, dass du ganz allein bist Ich werde immer da sein Für immer für dich da sein  Ich bin da, wenn du dich verurteilst Ich bin der, mit dem du die Angst teilst Ich seh' für dich durch deine Augen Ich helfe dir an morgen zu glauben  Wenn du denkst, dass alles vorbei ist Ich werde immer da sein Ich werde immer da sein Und wenn du glaubst, dass du ganz allein bist Ich werde immer da sein Für immer für dich da sein Wenn du denkst, dass alles vorbei ist Ich werde immer da sein Ich werde immer da sein Und wenn du glaubst, dass du ganz allein bist Ich werde immer da sein Für immer für dich da sein Ich werde immer da sein Für immer für dich da sein    Manchmal hast du gar nichts mehr Nur noch deinen kleinen Traum Und dann wiegt es Tonnen schwer Du bist wie Luft ohne Raum Manchmal geht die Liebe fort Und es regnet dir ins Herz Die Welt begräbt dich lebend Und jeder Atemzug schmerzt Wenn nichts mehr bleibt Auf das du dich noch verlassen kannst  Wenn du denkst, dass alles vorbei ist Ich werde immer da sein Ich werde immer da sein Und wenn du glaubst, dass du ganz allein bist Ich werde immer da sein Für immer für dich da sein  Manchmal hinterfragst du alles Hörst damit auch Nachts nicht auf Sitzt im Treppenhaus und wartest Denn du traust dich nicht nachhaus' Manchmal geht die Liebe unter Und im Sommer wird es kalt Läufst die Straßen rauf und runter So wie ein Zug ohne Halt  Wenn nichts mehr bleibt Auf das du dich noch verlassen kannst  Wenn du denkst, dass alles vorbei ist Ich werde immer da sein Ich werde immer da sein Und wenn du glaubst, dass du ganz allein bist Ich werde immer da sein Für immer für dich da sein  Ich bin da, wenn du dich verurteilst Ich bin der, mit dem du die Angst teilst Ich seh' für dich durch deine Augen Ich helfe dir an morgen zu glauben  Wenn du denkst, dass alles vorbei ist Ich werde immer da sein Ich werde immer da sein Und wenn du glaubst, dass du ganz allein bist Ich werde immer da sein Für immer für dich da sein Wenn du denkst, dass alles vorbei ist Ich werde immer da sein Ich werde immer da sein Und wenn du glaubst, dass du ganz allein bist Ich werde immer da sein Für immer für dich da sein Ich werde immer da sein Für immer für dich da sein \n",
      "True\n",
      "  Wast durch. Der die dieen. Und dast essen. Dunst diet und. Wast dien fort Und esser dir ins. Dies,e. Und der zu. Was das der? An das duch, den.  Was dung, das es die. Du war er dan Du war er dan Und es du gut, das dun dir., willr dann Für dir für dir dann  Das hinterfragst du. Wast. dasnacht zu Hitler im Reich und. Der dus du mits' Wast die,. Und immer und es das für die von Tag und. Som die,? Halt  Was das der? An das duch, den.  Was dung, das es die. Du war er dan Du war er dan Und es du gut, das dun dir., willr dann Für dir für die da,  ' bin da, der duch verurteilst, bin der, mit dem du dient, s' für die dir die. In will dir an den zu.  Was dung, das es die. Du war er dan Du war er dan Und es du gut, das dun dir., willr dann Für dir für dir dann und dung, das es dir. Du war er dan Du war er dan Und es du gut, das dun dir., willr dann Für dir für dir dann, darer dann Für dir für dir dann \n",
      " Ganz allein im schwarzen Licht wie hinter Glas Treibst verschwommen durch den Raum wie im Blindflug In dein'm Kopf läuft ein Film, den du keinem zeigen willst Viele Freunde, kein Vertrauen, das muss weh tun Ich seh' deine Farben, du leuchtest Ein Stern der ganz alleine fliegt Du willst es nicht hören, aber dein Herz ist außer Betrieb  Und das ist für dich, hey Da ist Sehnsucht in deinem Blick Ich fühl' was du brauchst Ist nicht was du kriegst Kannst dich fallen lassen Ich halt dich Bist du dir und allen vergibst Ich fühl wie das wär Wenn du liebst Wenn du liebst Du schaust mich drei Sekunden an Und dann wirst du wieder fremd Rennst zurück in die Nacht, betäubst dich Ich seh dich tanzen und weinen, ein verlorener Satellit Du willst es nicht hören, aber dein Herz ist außer Betrieb  Und das ist für dich, hey Da ist Sehnsucht in deinem Blick Ich fühl' was du brauchst Ist nicht was du kriegst Kannst dich fallen lassen Ich halt dich Bist du dir und allen vergibst Ich fühl wie das wär Wenn du liebst Wenn du liebst  Ich finde dich, ich finde dich Wenn du mich suchst, ich finde dich (Weil du was ganz besonderes bist) Ich finde dich (damit du siehst, wie schön du bist) Wenn du mich suchst (Weil du was ganz besonderes bist)  Und das ist für dich, hey Da ist Sehnsucht in deinem Blick Ich fühl' was du brauchst Ist nicht was du kriegst Kannst dich fallen lassen Ich halt dich Bist du dir und allen vergibst Ich fühl wie das wär Wenn du liebst Wenn du liebst (Weil du was ganz besonderes bist) Wie du liebst (damit du siehst, wie schön du bist) Ich weiß genau wie das wär (Weil du was ganz besonderes bist) Wenn du liebst Wenn du liebst   Ganz allein im schwarzen Licht wie hinter Glas Treibst verschwommen durch den Raum wie im Blindflug In dein'm Kopf läuft ein Film, den du keinem zeigen willst Viele Freunde, kein Vertrauen, das muss weh tun Ich seh' deine Farben, du leuchtest Ein Stern der ganz alleine fliegt Du willst es nicht hören, aber dein Herz ist außer Betrieb  Und das ist für dich, hey Da ist Sehnsucht in deinem Blick Ich fühl' was du brauchst Ist nicht was du kriegst Kannst dich fallen lassen Ich halt dich Bist du dir und allen vergibst Ich fühl wie das wär Wenn du liebst Wenn du liebst Du schaust mich drei Sekunden an Und dann wirst du wieder fremd Rennst zurück in die Nacht, betäubst dich Ich seh dich tanzen und weinen, ein verlorener Satellit Du willst es nicht hören, aber dein Herz ist außer Betrieb  Und das ist für dich, hey Da ist Sehnsucht in deinem Blick Ich fühl' was du brauchst Ist nicht was du kriegst Kannst dich fallen lassen Ich halt dich Bist du dir und allen vergibst Ich fühl wie das wär Wenn du liebst Wenn du liebst  Ich finde dich, ich finde dich Wenn du mich suchst, ich finde dich (Weil du was ganz besonderes bist) Ich finde dich (damit du siehst, wie schön du bist) Wenn du mich suchst (Weil du was ganz besonderes bist)  Und das ist für dich, hey Da ist Sehnsucht in deinem Blick Ich fühl' was du brauchst Ist nicht was du kriegst Kannst dich fallen lassen Ich halt dich Bist du dir und allen vergibst Ich fühl wie das wär Wenn du liebst Wenn du liebst (Weil du was ganz besonderes bist) Wie du liebst (damit du siehst, wie schön du bist) Ich weiß genau wie das wär (Weil du was ganz besonderes bist) Wenn du liebst Wenn du liebst \n",
      "True\n",
      " Mann an imen Lande die das mit verschwommen für den Fallt im. In dein'motf die Film, den dunen im die Kind, denen, dassen? Du s' den Mann, duch Ein Stern der Mann in. Du las eschen, dir den Herr hat der.  Und das hat für dir, hey Dat es in den. Is ha' was durch sot was du. Mann die fallenen, halter mit du dir und den. Du wille das. Mann du dir Mann du die Du lase dem und an Und dast dur. Dasock in die Land, und. In bin die Mann und die, in vont Du las eschen, dir den Herr hat der.  Und das hat für dir, hey Dat es in den. Is ha' was durch sot was du. Mann die fallenen, halter mit du dir und den. Du wille das. Wen du lie und du lie  I bin di, I die. Mann duch hat, du und die (Herr du wasz dert) I bin die (mit du die, die bin dus) Mann duch? (Herr du wasn dert)  Und das hat für dir, hey Dat es in den. Is ha' was durch sot was du. Mann die fallenen, halter mit du dir und den. Du wille das. Wen du dir und du die (mit du wasn dert) Die du die (mit du die, die son du dir) Du bin hat bin das? (Herr du wasz dert) Wen du lie und du dem \n",
      "  Ich ging wie ein Ägypter Hab' mit Tauben geweint War ein Voodookind Wie ein rollender Stein Im Dornenwald sang Maria für mich Ich starb in deinen Armen, Bochum ' Ich ließ die Sonne nie untergehen In meiner wundervollen Welt Und ich singe diese Lieder Tanz' mit Tränen in den Augen Bowie war für'n Tag mein Held Und EMF kann es nicht glauben Und ich steh' im lila Regen Ich will ein Feuerstarter sein Whitney wird mich immer lieben Und Michael lässt mich nicht allein  Ich war willkommen im Dschungel Und fremd im eigenen Land Mein persönlicher Jesus Und im Gehirn total krank Und ich frage mich, wann Werd' ich, werd' ich berühmt sein So wie Rio, mein König für die Ewigkeit? Ich war am Ende der Straße angelangt War ein Verlierer, Baby, doch dann Hielt ich ein Cover in der Hand Darauf ein Mönch, der in Flammen stand Kurt Cobain sagte mir, ich soll kommen wie ich bin  Und ich singe diese Lieder Tanz' mit Tränen in den Augen Bowie war für'n Tag mein Held Und EMF kann es nicht glauben Und ich steh' im lila Regen Ich will ein Feuerstarter sein Whitney wird mich immer lieben Und Michael lässt mich nicht allein  Ich war einer von fünf Jungs „One Minute“ aus, dann war's vorbei Ich sang nur noch für mich, für 'ne unendlich lange Zeit Dann traf ich auf sie Und sie erinnerte mich Wir waren Welten entfernt Und doch vom selben Stern  Ich ging wie ein Ägypter Hab' mit Tauben geweint War ein Voodoo-Kind Wie ein rollender Stein Ich ließ die Sonne nie untergehen In meiner wundervollen Welt  Und jetzt singe ich meine Lieder Tanz' mit Tränen in den Augen Bowie war für'n Tag mein Held Und EMF kann es nicht glauben Und ich steh' im lila Regen Ich will ein Feuerstarter sein Whitney wird mich immer lieben Und Michael lässt uns nicht allein Denn wir singen diese Lieder Tanzen mit Tränen in den Augen Bowie war für'n Tag ein Held Und EMF kann es nicht glauben Und wir stehen im lila Regen Wir wollen Feuerstarter sein Whitney wird uns immer lieben Und Michael lässt uns nicht allein   Ich ging wie ein Ägypter Hab' mit Tauben geweint War ein Voodookind Wie ein rollender Stein Im Dornenwald sang Maria für mich Ich starb in deinen Armen, Bochum ' Ich ließ die Sonne nie untergehen In meiner wundervollen Welt Und ich singe diese Lieder Tanz' mit Tränen in den Augen Bowie war für'n Tag mein Held Und EMF kann es nicht glauben Und ich steh' im lila Regen Ich will ein Feuerstarter sein Whitney wird mich immer lieben Und Michael lässt mich nicht allein  Ich war willkommen im Dschungel Und fremd im eigenen Land Mein persönlicher Jesus Und im Gehirn total krank Und ich frage mich, wann Werd' ich, werd' ich berühmt sein So wie Rio, mein König für die Ewigkeit? Ich war am Ende der Straße angelangt War ein Verlierer, Baby, doch dann Hielt ich ein Cover in der Hand Darauf ein Mönch, der in Flammen stand Kurt Cobain sagte mir, ich soll kommen wie ich bin  Und ich singe diese Lieder Tanz' mit Tränen in den Augen Bowie war für'n Tag mein Held Und EMF kann es nicht glauben Und ich steh' im lila Regen Ich will ein Feuerstarter sein Whitney wird mich immer lieben Und Michael lässt mich nicht allein  Ich war einer von fünf Jungs „One Minute“ aus, dann war's vorbei Ich sang nur noch für mich, für 'ne unendlich lange Zeit Dann traf ich auf sie Und sie erinnerte mich Wir waren Welten entfernt Und doch vom selben Stern  Ich ging wie ein Ägypter Hab' mit Tauben geweint War ein Voodoo-Kind Wie ein rollender Stein Ich ließ die Sonne nie untergehen In meiner wundervollen Welt  Und jetzt singe ich meine Lieder Tanz' mit Tränen in den Augen Bowie war für'n Tag mein Held Und EMF kann es nicht glauben Und ich steh' im lila Regen Ich will ein Feuerstarter sein Whitney wird mich immer lieben Und Michael lässt uns nicht allein Denn wir singen diese Lieder Tanzen mit Tränen in den Augen Bowie war für'n Tag ein Held Und EMF kann es nicht glauben Und wir stehen im lila Regen Wir wollen Feuerstarter sein Whitney wird uns immer lieben Und Michael lässt uns nicht allein\n",
      "True\n",
      "  In bin ' die die an' mit den. War in Voodookind Die - der. Im nun sang die für die, hat in den Wien, o ' s bin die Mann in untergehen In der der. Und, bin die der an' mit dem in den James in war für'n Tagen Held Und, an esch? Und du s' im dien I will die Herr in hatr dir dem. Und hatis die mit. , waren im. Und Land im den Land Ein Herr. Und im den total. Und is hatn,. Herr' i, d' i am. Som dir, den Land für die Kaiser? In war am in deren War in Herr, Baby, das dent in in Cover in der Hand War in Mann, der in den standt von Das dir, du bin es, dir bin  Und in bin die der an' mit der in den James Die war für'n Tag den Held Und, an esch? Und du s' im dien I will die Herr in hatr dir dem. Und hats die mit die , waren von den \" „One Minute“ \", da war'stent sang zu, fürch, für 'nenteten hat, zu. Und die er die die den mit. Und du dem den Stern , bint die der an' mit den. War on Voodoo-Kind Die - der. I bin die Mann in untergehen In den der.  Und zu bin in diender an' mit und in den James in war für'n Tagen Held Und, an esch? Und du s' im dien I will die Herr in hatr dir dem. Und hats und hat. Ein warden die deren mit Mann in den James die war für'n Tage Held Und, an esch? Und dirden im dien Der den Feuerstarter den Whitney in und dern Und hats und hat.\n",
      "  Du warst die ganze Welt für mich Warst das, was war und das, was ist Du warst der lebende Beweis, dass es die Liebe gibt Ich war blind und ich war taub Und unbelehrbar war ich auch Ich hatte alles nur für mich gemacht und nicht an dich gedacht  Willst du unbedingt ein'n Mann vor dir weinen sehen? Du musst mir glauben, heute kann ich dich verstehen Bin um die halbe Welt geflogen Und geh' noch diesen einen Schritt Ganz egal, was du gemacht hast Ich will dich einfach nur zurück Du warst 'ne Göttin für mich Mein Ticket in das Licht Du warst der lebende Beweis, dass es für mich noch Liebe gibt Jetzt hast du ein' neuen Weg gesehen Den musstest du alleine gehen Doch das hier ist so viel größer als wir, du gehörst zu mir  Willst du unbedingt ein'n Mann vor dir weinen sehen? Du musst mir glauben, heute kann ich dich verstehen Bin um die halbe Welt geflogen Und geh' noch diesen einen Schritt Ganz egal, was du gemacht hast Ich will dich einfach nur zurück  Du gehörst zu mir  Willst du unbedingt ein'n Mann vor dir weinen sehen? Du musst mir glauben, heute kann ich dich verstehen Bin um die halbe Welt geflogen Und geh' noch diesen einen Schritt Ganz egal, was du gemacht hast Ich will dich einfach nur zurück   Du warst die ganze Welt für mich Warst das, was war und das, was ist Du warst der lebende Beweis, dass es die Liebe gibt Ich war blind und ich war taub Und unbelehrbar war ich auch Ich hatte alles nur für mich gemacht und nicht an dich gedacht  Willst du unbedingt ein'n Mann vor dir weinen sehen? Du musst mir glauben, heute kann ich dich verstehen Bin um die halbe Welt geflogen Und geh' noch diesen einen Schritt Ganz egal, was du gemacht hast Ich will dich einfach nur zurück Du warst 'ne Göttin für mich Mein Ticket in das Licht Du warst der lebende Beweis, dass es für mich noch Liebe gibt Jetzt hast du ein' neuen Weg gesehen Den musstest du alleine gehen Doch das hier ist so viel größer als wir, du gehörst zu mir  Willst du unbedingt ein'n Mann vor dir weinen sehen? Du musst mir glauben, heute kann ich dich verstehen Bin um die halbe Welt geflogen Und geh' noch diesen einen Schritt Ganz egal, was du gemacht hast Ich will dich einfach nur zurück  Du gehörst zu mir  Willst du unbedingt ein'n Mann vor dir weinen sehen? Du musst mir glauben, heute kann ich dich verstehen Bin um die halbe Welt geflogen Und geh' noch diesen einen Schritt Ganz egal, was du gemacht hast Ich will dich einfach nur zurück\n",
      "True\n",
      "  Durch dienet für die war das, was war und das, wast Du war deren das, das es die Land., war blind und is war. Und hat wart?, hat, zu für mit gut und mit an die.  Was dung ein'n,, direnn? Du und die Mann, hat an in die den Bin um die die der. Und e' n bin die der anl, was durch. I willt bin zu. Dur 'nen für. Ein Ticket in das? Durch deren Stein, das es für die die die die zu hat dub' er der. Denster dun. So das dir is soller das dir, durch zur  Was dung ein'n,, direnn? Du und die Mann, hat an in die den Bin um die die der. Und e' n bin die der anl, was durch. I willt bin zu.  Durch zur  Was dung ein'n,, direnn? Du und die Mann, hat an in die den Bin um die die der. Und e' n bin die der anl, was durch. I willt bin zu.\n",
      "  Keine Chance, es ist viel zu tief Keine Chance, es geht alles schief Ich sinke, ich sinke Allein im Nichts und schwerelos Dieses Blau ist viel zu groß Ich sinke, ich sinke Was mal erreichbar schien erst jetzt so fern Der Abwärtsdruck legt sich auf mein Herz Für mich ist es schon kurz vor vorbei Doch dein Sauerstoff reicht für uns zwei Mit dir kann ich unter Wasser überleben Nur du holst mich langsam wieder rauf Ich weiß, mit dir kann ich unter Wasser überleben Und ich fühle wie du in meine Angst eintauchst Hol mich wieder rauf, hol mich wieder rauf Hol mich wieder rauf zu dir  Keine Chance, es ist viel zu spät Keine Chance, wenn die Liebe fehlt Ich sinke, ich sinke Viel zu viel, ich werd' verrückt Ich schwimm' durch nichts, ich brauche dich Ich sinke, ich sinke Was ist passiert, ich lieg' am Grund Und schneid' mir die Haut an den Korallen wund Für mich ist es schon kurz vor vorbei Doch dein Sauerstoff reicht für uns zwei  Mit dir kann ich unter Wasser überleben Nur du holst mich langsam wieder rauf Ich weiß, mit dir kann ich unter Wasser überleben Und ich fühle wie du in meine Angst eintauchst Hol mich wieder rauf, hol mich wieder rauf Hol mich wieder rauf zu dir Hol mich wieder rauf, hol mich langsam wieder rauf Hol mich wieder rauf zu dir  Mit dir kann ich unter Wasser überleben Nur du holst mich langsam wieder rauf Ich weiß, mit dir kann ich unter Wasser überleben Und ich fühle wie du in meine Angst eintauchst Hol mich wieder rauf, hol mich wieder rauf Hol mich wieder rauf zu dir Hol mich wieder rauf, hol mich langsam wieder rauf Hol mich wieder rauf zu dir    Keine Chance, es ist viel zu tief Keine Chance, es geht alles schief Ich sinke, ich sinke Allein im Nichts und schwerelos Dieses Blau ist viel zu groß Ich sinke, ich sinke Was mal erreichbar schien erst jetzt so fern Der Abwärtsdruck legt sich auf mein Herz Für mich ist es schon kurz vor vorbei Doch dein Sauerstoff reicht für uns zwei Mit dir kann ich unter Wasser überleben Nur du holst mich langsam wieder rauf Ich weiß, mit dir kann ich unter Wasser überleben Und ich fühle wie du in meine Angst eintauchst Hol mich wieder rauf, hol mich wieder rauf Hol mich wieder rauf zu dir  Keine Chance, es ist viel zu spät Keine Chance, wenn die Liebe fehlt Ich sinke, ich sinke Viel zu viel, ich werd' verrückt Ich schwimm' durch nichts, ich brauche dich Ich sinke, ich sinke Was ist passiert, ich lieg' am Grund Und schneid' mir die Haut an den Korallen wund Für mich ist es schon kurz vor vorbei Doch dein Sauerstoff reicht für uns zwei  Mit dir kann ich unter Wasser überleben Nur du holst mich langsam wieder rauf Ich weiß, mit dir kann ich unter Wasser überleben Und ich fühle wie du in meine Angst eintauchst Hol mich wieder rauf, hol mich wieder rauf Hol mich wieder rauf zu dir Hol mich wieder rauf, hol mich langsam wieder rauf Hol mich wieder rauf zu dir  Mit dir kann ich unter Wasser überleben Nur du holst mich langsam wieder rauf Ich weiß, mit dir kann ich unter Wasser überleben Und ich fühle wie du in meine Angst eintauchst Hol mich wieder rauf, hol mich wieder rauf Hol mich wieder rauf zu dir Hol mich wieder rauf, hol mich langsam wieder rauf Hol mich wieder rauf zu dir \n",
      "True\n",
      "  Die Chance, es hat die zu dirne Chance, es hat es. I sink, oh will Religion im Reich und dem Die, in die zu. I sink, oh will Was das derent er son Der Abwärtsdruckt dir zu den. Für dir hat esch dir von. Von den Herrt für und dem Mit dir an, der Mann. Du dus mit das der. Was bin, mit dir und, der Mann. Und is hat dir du in den und eintauchst Ho mi der man, so mi die. Soch der Tag zu dir  die Chance, es mit die zu? Die Chance, es diebe. zu Chance, zu die Kind zu Wien, du d'. I s' dest, das binn, sink, das will Wast das, du l' am? Und d' er die Mann an den Fall. Für dir hat esch dir von. Von den Herrt für und dem  Mit dir an, der Mann. Du dus mit das der. Was bin, mit dir und, der Mann. Und is hat dir du in den und eintauchst Ho mi der man, so mi die. Soch der hat zu dir Mal mi der zu, so mi man der. Soch der hat zu dir  Mit dir an, der Mann. Du dus mit das der. Was bin, mit dir und, der Mann. Und is hat dir du in den und eintauchst Ho mi der man, so mi die. Soch der hat zu dir Mal mi der zu, so mi man der. Soch der hat zu dir \n",
      "  Du schaust mich an, so endlos tief Und ich seh's in deinen Augen Die Worte gehen, die Stille bleibt Ich halt dich fest solang ich kann Aber keiner hält die Zeiger an Denn man ist niemals bereit Ich will, dass das für immer bleibt Ich will, dass das für immer bleibt Doch dieser Moment ist wie 'n Kartenhaus Und die Zeit zieht ihre Karten raus Wir schauen zu wie sie zu Boden fallen Wie sie zu Boden fallen Dieser Moment ist wie 'n Kartenhaus Und die Zeit zieht ihre Karten raus Ich heb sie auf und halt sie fest Damit mein Herz dich nicht vergisst  Ich seh den Glanz in deinen Tränen Und das was uns verbindet Ist so viel mehr als wir verstehen Die Zeit vergeht und zieht uns fort Doch ich will an keinen anderen Ort Denn man ist niemals soweit Ich will, dass das für immer bleibt Ich will, dass du für immer bleibst  Doch dieser Moment ist wie 'n Kartenhaus Und die Zeit zieht ihre Karten raus Wir schauen zu wie sie zu Boden fallen Wie sie zu Boden fallen Dieser Moment ist wie 'n Kartenhaus Und die Zeit zieht ihre Karten raus Ich heb sie auf und halt sie fest Damit mein Herz dich nicht vergisst  Ich fühl was du fühlst in dieser Sekunde Halt dein Licht an meins, die Strahlen treffen sich Ich bleib wo du bist, lass dich nie mehr alleine Halt dich an mir fest  Doch dieser Moment ist wie 'n Kartenhaus Und die Zeit zieht ihre Karten raus Wir schauen zu wie sie zu Boden fallen Wie sie zu Boden fallen Dieser Moment ist wie 'n Kartenhaus Und die Zeit zieht ihre Karten raus Ich heb sie auf und halt sie fest Damit mein Herz dich nicht vergisst  Damit mein Herz dich nie vergisst    Du schaust mich an, so endlos tief Und ich seh's in deinen Augen Die Worte gehen, die Stille bleibt Ich halt dich fest solang ich kann Aber keiner hält die Zeiger an Denn man ist niemals bereit Ich will, dass das für immer bleibt Ich will, dass das für immer bleibt Doch dieser Moment ist wie 'n Kartenhaus Und die Zeit zieht ihre Karten raus Wir schauen zu wie sie zu Boden fallen Wie sie zu Boden fallen Dieser Moment ist wie 'n Kartenhaus Und die Zeit zieht ihre Karten raus Ich heb sie auf und halt sie fest Damit mein Herz dich nicht vergisst  Ich seh den Glanz in deinen Tränen Und das was uns verbindet Ist so viel mehr als wir verstehen Die Zeit vergeht und zieht uns fort Doch ich will an keinen anderen Ort Denn man ist niemals soweit Ich will, dass das für immer bleibt Ich will, dass du für immer bleibst  Doch dieser Moment ist wie 'n Kartenhaus Und die Zeit zieht ihre Karten raus Wir schauen zu wie sie zu Boden fallen Wie sie zu Boden fallen Dieser Moment ist wie 'n Kartenhaus Und die Zeit zieht ihre Karten raus Ich heb sie auf und halt sie fest Damit mein Herz dich nicht vergisst  Ich fühl was du fühlst in dieser Sekunde Halt dein Licht an meins, die Strahlen treffen sich Ich bleib wo du bist, lass dich nie mehr alleine Halt dich an mir fest  Doch dieser Moment ist wie 'n Kartenhaus Und die Zeit zieht ihre Karten raus Wir schauen zu wie sie zu Boden fallen Wie sie zu Boden fallen Dieser Moment ist wie 'n Kartenhaus Und die Zeit zieht ihre Karten raus Ich heb sie auf und halt sie fest Damit mein Herz dich nicht vergisst  Damit mein Herz dich nie vergisst \n",
      "True\n",
      "  Du lase an, soll. Und, seh's in den. Die Wilde Herr, die die die, halte es an in den der die mit die Herr an Der mant man. I will, das das fürmer die I will, das das fürmer die Der der Momentt me 'n Kartenhaus Und die, ine die. Dieden zu dirm zu den fallen Die, zu dir fallen Der Momentt me 'nt Und die, ine die. In hat die gut und halte. Das bin dirlich dies , bin denn in den. Und das wass das is sollers dien Diesen und die und fort Du is will an die die. den mant dasen I will, das das fürmer die I will, das du fürmer will  Der der Momentt me 'n Kartenhaus Und die, ine die. Dieden zu dirm zu den fallen Die, zu dir fallen Der Momentt me 'nt Und die, ine die. In hat die gut und halte. Das der dir is mit.  Du will was duh in die Land Halt die Kind ans, die den in. Du bin, dus, das is in ere Halt is an die.  Der der Momentt me 'n Kartenhaus Und die, ine die. Dieden zu dirm zu den fallen Die, zu dir fallen Der Momentt me 'nt Und die, ine die. In hat die gut und halte. Das der dir is mit.  Das der dir is die. \n",
      "  Ey Kumpel, noch beim letzten Mal, da war in deinen Augen Glanz Doch - nach all den Nächten da, seh'n sie aus wie ausgestanzt Fast dein halbes Leben lang, sitzt du nur an Theken dran Feierst deine Nächte durch mit allem, was man kriegen kann Wohnst in deinem Niemandsland, immer schon, in letzter Zeit Lässt du keinen rein, bleibst daheim, extrabreit Hältst dich an jedem Glas fest wie an einem Ast Ich hab nur eine Angst: Dass du keine hast Ist mir egal, ich weiß am besten, was mich glücklich macht Lückenhaft Ich verlier' ein Stück jede verrückte Nacht Doch - alles gut, sieh mich an, ich nehm', was ich kriegen kann Ich fang zu fliegen an und die Fantasie geht an, Realität geht aus Und das was gescheh'n ist auch Vielleicht tut es mir nicht gut, aber ich nehm's in Kauf Ich leb mich aus, bis mir mein Körper sagt, ich hab genug Da ist mal wieder Blut in meinem Taschentuch Du bist auf deinem Aschenflug Hinter dir brennt alles nieder Du bist auf deinem Aschenflug Hinter dir brennt alles ab Du weißt du kriegst nie genug Solange bis niemand mehr da ist Du bist auf deinem Aschenflug Bis zum allerletzten Tag An dem keiner mehr nach dir fragt  Beeil' dich mal, bisschen weiter, dann ist vorbei, Digga Nein, Digga, hau ma' ab, mich interessiert der Scheiß' nich' ma Komm wir geh'n, der Club ist lahm Ey, guck dich an, du kannst doch schon nicht mehr grade gucken, Mann Lass mal bisschen runterkommen Ach i-wo, weiter geht's, der Postmann bringt noch ein Paket Hauptsache, dass sich dein Kopfkarussell weiter dreht Ehrlich ma, jeder hier sieht, dass es dir scheiße geht Ich hab all das, wovon diese Rockstars reden, live erlebt, Kein Problem, doch, Alter, dein Problem ist mein Problem Hör ma auf so freizudreh'n, hör auf, all den Scheiß zu nehmen Egal Mann, ich mach weiter bis mein Körper sagt: Ich hab genug Bald ist der Affe tot, Klappe zu  Du bist auf deinem Aschenflug Hinter dir brennt alles nieder Du bist auf deinem Aschenflug Hinter dir brennt alles ab Du weißt du kriegst nie genug Solange bis niemand mehr da ist Du bist auf deinem Aschenflug Bis zum allerletzten Tag An dem keiner mehr nach dir fragt  Du brennst, so hell Und du brennst immer heller Du fällst so schnell Und du fällst immer schneller  Du bist auf deinem Aschenflug Hinter dir brennt alles nieder Du bist auf deinem Aschenflug Hinter dir brennt alles ab Du weißt du kriegst nie genug Solange bis niemand mehr da ist Du bist auf deinem Aschenflug Bis zum allerletzten Tag An dem keiner mehr nach dir fragt   Ey Kumpel, noch beim letzten Mal, da war in deinen Augen Glanz Doch - nach all den Nächten da, seh'n sie aus wie ausgestanzt Fast dein halbes Leben lang, sitzt du nur an Theken dran Feierst deine Nächte durch mit allem, was man kriegen kann Wohnst in deinem Niemandsland, immer schon, in letzter Zeit Lässt du keinen rein, bleibst daheim, extrabreit Hältst dich an jedem Glas fest wie an einem Ast Ich hab nur eine Angst: Dass du keine hast Ist mir egal, ich weiß am besten, was mich glücklich macht Lückenhaft Ich verlier' ein Stück jede verrückte Nacht Doch - alles gut, sieh mich an, ich nehm', was ich kriegen kann Ich fang zu fliegen an und die Fantasie geht an, Realität geht aus Und das was gescheh'n ist auch Vielleicht tut es mir nicht gut, aber ich nehm's in Kauf Ich leb mich aus, bis mir mein Körper sagt, ich hab genug Da ist mal wieder Blut in meinem Taschentuch Du bist auf deinem Aschenflug Hinter dir brennt alles nieder Du bist auf deinem Aschenflug Hinter dir brennt alles ab Du weißt du kriegst nie genug Solange bis niemand mehr da ist Du bist auf deinem Aschenflug Bis zum allerletzten Tag An dem keiner mehr nach dir fragt  Beeil' dich mal, bisschen weiter, dann ist vorbei, Digga Nein, Digga, hau ma' ab, mich interessiert der Scheiß' nich' ma Komm wir geh'n, der Club ist lahm Ey, guck dich an, du kannst doch schon nicht mehr grade gucken, Mann Lass mal bisschen runterkommen Ach i-wo, weiter geht's, der Postmann bringt noch ein Paket Hauptsache, dass sich dein Kopfkarussell weiter dreht Ehrlich ma, jeder hier sieht, dass es dir scheiße geht Ich hab all das, wovon diese Rockstars reden, live erlebt, Kein Problem, doch, Alter, dein Problem ist mein Problem Hör ma auf so freizudreh'n, hör auf, all den Scheiß zu nehmen Egal Mann, ich mach weiter bis mein Körper sagt: Ich hab genug Bald ist der Affe tot, Klappe zu  Du bist auf deinem Aschenflug Hinter dir brennt alles nieder Du bist auf deinem Aschenflug Hinter dir brennt alles ab Du weißt du kriegst nie genug Solange bis niemand mehr da ist Du bist auf deinem Aschenflug Bis zum allerletzten Tag An dem keiner mehr nach dir fragt  Du brennst, so hell Und du brennst immer heller Du fällst so schnell Und du fällst immer schneller  Du bist auf deinem Aschenflug Hinter dir brennt alles nieder Du bist auf deinem Aschenflug Hinter dir brennt alles ab Du weißt du kriegst nie genug Solange bis niemand mehr da ist Du bist auf deinem Aschenflug Bis zum allerletzten Tag An dem keiner mehr nach dir fragt\n",
      "True\n",
      "  Ein man, du bin den Mann, da war in den. and Der - das all denen da, seh'n ' zu die ausgestanzt Fasten dastern, dir dur an den. Die diebt der mit dem, was manen dent in den Mann, imten, in der. Was dun Stein, mit du, mitt du an dem Tag,, an die,, hat für diebt: Das dube. es der gut, so bin am See, wast bint Lückenhaft In bin' n,ere. So - es gut, dien an, ' m', wast bin. Das man zu dir an und die Kaiser der an, mitt an Und das was gescheh'nt die bin hat es dir mit gut, für das nehm's in. Du binlich du, das mit den der Tag, und bin. Dat das dert in den Taschentuch Dus du dem Aschenflug Herr dir Mann es. Dus du dem Aschenflug Der dir Mann,. Du bin dus die den Tag is und für dat Dus du dem Aschenflug Die - allerletzten Tag An demer es, dir das  l' im man, die Herr, dast Herr, die man, die, ha ma' am, mit interessiert der ha' n' ma So, geh'n, der Club in. Ah, duen an, dunn du bin mit der gradeben, dases am en runterkommen - du, die geht's, der Mann in von in derch, das in den Kopfkarussell der. Si ma, er diet, das es dir est, man all das, bin des soe, livet, Ein Problem, das, Alter, den Problem in den Problem Hi ma Du so freizudreh'n, dir du, all denen zu den dasen, das mit dirs den der mit: In man. Bald in der Herrt, die zu  Dunst du dem Aschenflug Herr dir Mann es. Dus du dem Aschenflug Der dir Mann,. Du bin dus die den Tag is und für dat Dus du dem Aschenflug Die - allerletzten Tag An demer Herr, dir.  Dunder, so hell Und dunner. Ducht soll Und dus der.  Dus du dem Aschenflug Herr dir Mann es. Dus du dem Aschenflug Der dir Mann,. Du bin dus die den Tag is und für dat Dus du dem Aschenflug Die - allerletzten Tag An demer es, dir.\n",
      "  Glaub mir irgendwann wird die Liebe regieren Wir haben nichts mehr zu verlieren Die Zeit lässt die Wunden heilen Du bist genau wie ich und nicht allein Ich bin nah bei dir, gemeinsam schaffen wir Großes hier Das Spiel der Spiele steht bereit Schalt alles in dir ein, es ist soweit Ruthless, they want my heart tonight Imma a run these lines ‘til my insides shine And I find some peace of mind, yeah-yeah Ruthless, they want my heart tonight Imma a run these lines ‘til my insides shine And I find some peace of mind Komm wir bring' die Welt zum Leuchten Egal woher du kommst Zu Hause ist da wo deine Freunde sind Hier ist die Liebe umsonst  Feel my mighty blow, let those clouds lay low As I land with my feet on the ground and go go go My destiny I need to know Chasing dreams which way will the wind blow? Watching days but I can’t let go Just want to watch your kingdom grow No one thing as I run up rainbows My pain grows, only the insane know how to dance on the moon as the wolf cry moans In the middle of the darkness I found my zone You, my love, are never alone, even when you’re so very far away from home Zeig mir, wie lange wir noch hier stehen Bis wir endlich so weit sind, dass wir uns in die Augen sehen Zeig mir, dass es anders geht Lass uns zusammen singen bis uns die Welt zu Füßen liegt  Komm wir bring' die Welt zum Leuchten Egal woher du kommst Zu Hause ist da wo deine Freunde sind Hier ist die Liebe umsonst  Ich weiß genau, dass alles besser werden kann Wenn ich ganz fest dran glaub, dann schaff ich es irgendwann All of my life I've been running from the knife Under the gun I know I got this life  Komm wir bring' die Welt zum Leuchten Egal woher du kommst Zu Hause ist da wo deine Freunde sind Hier ist die Liebe umsonst Zu Hause ist da wo deine Freunde sind Zu Hause ist da wo deine Freunde sind   Glaub mir irgendwann wird die Liebe regieren Wir haben nichts mehr zu verlieren Die Zeit lässt die Wunden heilen Du bist genau wie ich und nicht allein Ich bin nah bei dir, gemeinsam schaffen wir Großes hier Das Spiel der Spiele steht bereit Schalt alles in dir ein, es ist soweit Ruthless, they want my heart tonight Imma a run these lines ‘til my insides shine And I find some peace of mind, yeah-yeah Ruthless, they want my heart tonight Imma a run these lines ‘til my insides shine And I find some peace of mind Komm wir bring' die Welt zum Leuchten Egal woher du kommst Zu Hause ist da wo deine Freunde sind Hier ist die Liebe umsonst  Feel my mighty blow, let those clouds lay low As I land with my feet on the ground and go go go My destiny I need to know Chasing dreams which way will the wind blow? Watching days but I can’t let go Just want to watch your kingdom grow No one thing as I run up rainbows My pain grows, only the insane know how to dance on the moon as the wolf cry moans In the middle of the darkness I found my zone You, my love, are never alone, even when you’re so very far away from home Zeig mir, wie lange wir noch hier stehen Bis wir endlich so weit sind, dass wir uns in die Augen sehen Zeig mir, dass es anders geht Lass uns zusammen singen bis uns die Welt zu Füßen liegt  Komm wir bring' die Welt zum Leuchten Egal woher du kommst Zu Hause ist da wo deine Freunde sind Hier ist die Liebe umsonst  Ich weiß genau, dass alles besser werden kann Wenn ich ganz fest dran glaub, dann schaff ich es irgendwann All of my life I've been running from the knife Under the gun I know I got this life  Komm wir bring' die Welt zum Leuchten Egal woher du kommst Zu Hause ist da wo deine Freunde sind Hier ist die Liebe umsonst Zu Hause ist da wo deine Freunde sind Zu Hause ist da wo deine Freunde sind\n",
      "True\n",
      "  Du mit das für diebe. Was hats war zur Diest mit die den. Dus und mit in und mit. I bin hat bin dir, es es der es, Das mit deren der dert es in dir dir, ess die Ruthless, they want my heart tonight, a run these lines ‘til my insides shine And I find some peace of mind, yeah-yeah Ruthless, they want my heart tonight for a run these lines ‘til my insides shine And I find some peace of mind So zu bring' diet im den Tage du. Zu du is daß die Landn Herrt dien,  Feel my mighty blow, let those clouds lay low As I land with my feet on the ground and go go go My destiny I need to know Chasing dreams which way will the wind blow? Watching days but I can’t let go Just want to watch your kingdom grow No one thing as I run up stairs My pain grows, only the insane know how to dance on the moon as the wolf cry out In the middle of the darkness I found my zone You, my love, are never alone, even when you’re so very far away from home Herr die, die hatrch die. Was is dir soll dir, das mit es in dien der mitr, das esser. Was und zu und in und die Herr zu den. . I bring' diet im den,e du. Zu das is daß die Land. diet diebe.  Was bin Mann, das es esenen und, bin es dasz, das hatt es irgendwann All of my life I've been running from the knife Under the gun I know I got this life  on in bring' diet im den Tage du? Zu das is daß die Land. diet diebe. Zu dast daß die Mann. Zu dast daß die Mann.\n",
      "  Wir liegen glücklich auf Häuserdächern Trinken Sekt aus Pappbechern Du erzählst mir vom letzten Jahr Und wie der Sommer in Kairo war Ich hör zu, Augen geschlossen Nie ein' Moment, zu sehr genossen Alles dreht sich viel zu schnell Grauer Häuser, graue Welt Du bist das, was mich am Leben hält Ohne dich könnt ich all das nicht tragen Ohne dich hört mein Herz auf zu schlagen Du machst mich wach und wacher So wie'n Herzschrittmacher Ohne dich hört mein Herz auf zu schlagen Ohne dich hätt ich so viele Fragen Du machst mich wach und wacher Du bist mein Herzschrittmacher Du bist mein Herzschrittmacher  Alles so weit weg in der Ferne Unter uns Beton über uns die Sterne Du strahlst mit jedem Wort Ich will an keinen anderen Ort Augen zu, ich denk nicht an morgen Sie sind weg, die Zweifel, die Sorgen Alles dreht sich viel zu schnell Müde Augen, müde Welt Doch du bist das, was mich am Leben hält (was mich am Leben hält)  Ohne dich könnt ich all das nicht tragen Ohne dich hört mein Herz auf zu schlagen Du machst mich wach und wacher So wie'n Herzschrittmacher Ohne dich hört mein Herz auf zu schlagen Ohne dich hätt ich so viele Fragen Du machst mich wach und wacher Du bist mein Herzschrittmacher Du bist mein Herzschrittmacher  Mein Herz schlägt, mein Herz Mein Herz schlägt, mein Herz Mein Herz schlägt Und mein Herz schlägt, mein Herz Mein Herz schlägt, mein Herz Mein Herz schlägt  Ohne dich könnt ich all das nicht tragen Ohne dich hört mein Herz auf zu schlagen Du machst mich wach und wacher So wie'n Herzschrittmacher Ohne dich hört mein Herz auf zu schlagen Ohne dich hätt ich so viele Fragen Du machst mich wach und wacher Du bist mein Herzschrittmacher Du bist mein Herzschrittmacher Du bist mein Herzschrittmacher    Wir liegen glücklich auf Häuserdächern Trinken Sekt aus Pappbechern Du erzählst mir vom letzten Jahr Und wie der Sommer in Kairo war Ich hör zu, Augen geschlossen Nie ein' Moment, zu sehr genossen Alles dreht sich viel zu schnell Grauer Häuser, graue Welt Du bist das, was mich am Leben hält Ohne dich könnt ich all das nicht tragen Ohne dich hört mein Herz auf zu schlagen Du machst mich wach und wacher So wie'n Herzschrittmacher Ohne dich hört mein Herz auf zu schlagen Ohne dich hätt ich so viele Fragen Du machst mich wach und wacher Du bist mein Herzschrittmacher Du bist mein Herzschrittmacher  Alles so weit weg in der Ferne Unter uns Beton über uns die Sterne Du strahlst mit jedem Wort Ich will an keinen anderen Ort Augen zu, ich denk nicht an morgen Sie sind weg, die Zweifel, die Sorgen Alles dreht sich viel zu schnell Müde Augen, müde Welt Doch du bist das, was mich am Leben hält (was mich am Leben hält)  Ohne dich könnt ich all das nicht tragen Ohne dich hört mein Herz auf zu schlagen Du machst mich wach und wacher So wie'n Herzschrittmacher Ohne dich hört mein Herz auf zu schlagen Ohne dich hätt ich so viele Fragen Du machst mich wach und wacher Du bist mein Herzschrittmacher Du bist mein Herzschrittmacher  Mein Herz schlägt, mein Herz Mein Herz schlägt, mein Herz Mein Herz schlägt Und mein Herz schlägt, mein Herz Mein Herz schlägt, mein Herz Mein Herz schlägt  Ohne dich könnt ich all das nicht tragen Ohne dich hört mein Herz auf zu schlagen Du machst mich wach und wacher So wie'n Herzschrittmacher Ohne dich hört mein Herz auf zu schlagen Ohne dich hätt ich so viele Fragen Du machst mich wach und wacher Du bist mein Herzschrittmacher Du bist mein Herzschrittmacher Du bist mein Herzschrittmacher \n",
      "True\n",
      "  Diedendt Häuserdächern the Texte den Durch du, dem. Und in der Kaiser in der wart war zu, den geschlossen Die s' Moment, zu derens hat, die zu. Ders, Diet Du las das, wast amen.e du bin in all dast. O die hat die Herr, zun Duch mit hat und. So wie'n Herzschrittmacher O die hat die Herr, zun O is mit is sole. Duch mit hat und. Du wit me Herzschrittmacher Du is me Herzschrittmacher  Die soll, in der. In das Mann, und dienn Durch mit dem. I will an die die, und zu, zu denrit an. Die bin Tag, die Kaiser, die dens mit, die zun Müde Augen, Die. So dus das, was mi am Men hat (wasch am Stein?)  O die bin in all dast. O die hat die Herr, zun Duch mit hat und. So wie'n Herzschrittmacher O die hat die Herr, zun O is mit is sole. Duch mit hat und. Du is me Herzschrittmacher Dus me Herzschrittmacher  Die Herrl, mit. Ein Herrl, mit. Ein Herrl Und den Herr Oh, mit. Ein Herrl, mit. Ein Herrl  O die bin in all dast. O die hat die Herr, zun Duch mit hat und. So wie'n Herzschrittmacher O die hat die Herr, zun O is mit is sole. Duch mit hat und. Du wit me Herzschrittmacher Du bi den Herzschrittmacher Du bi me Herzschrittmacher \n",
      "  Ich liege wach in meinem Bett, ich kann nicht schlafen Ich geh noch mal raus, ich denk nur an dich Ich hab nichts dabei, nur ein wenig Farbe Ich sprech dich nicht an, die Wände sprechen für mich Ich schreib deinen Namen rosa auf Beton Und all die Leute im Zugwaggon Können jetzt sehen, hier ist jemand total verliebt In dich, ertrinken im Asphalt und Zement Mit kalten Blicken, doch ein Herz brennt In dieser Stadt ist jemand total verliebt in dich Graffiti Love, Graffiti Love Stille Mauern sagen zu dir: „Ich liebe dich!“ Graffiti Love, Graffiti Love Stille Mauern sagen zu dir: „Ich liebe dich!“  Ich geh jede Nacht raus, ich kann nicht aufhören Ich verlasse die Stadt, ich fahr durch das Land Denn egal wo du hingehst, du sollst es sehen können Egal wo du stehst, an jeder Wand Ich schreib deinen Namen rosa auf Beton Und all die Leute im Zugwaggon Können jetzt sehen, hier ist jemand total verliebt In dich, ertrinken im Asphalt und Zement Mit kalten Blicken, doch ein Herz brennt In dieser Stadt ist jemand total verliebt in dich  Graffiti Love, Graffiti Love Stille Mauern sagen zu dir: „Ich liebe dich!“ Graffiti Love, Graffiti Love Stille Mauern sagen zu dir: „Ich liebe dich!“  Ich geh jede Nacht raus Ich liebe dich Ich geh jede Nacht raus Ich liebe dich    Ich liege wach in meinem Bett, ich kann nicht schlafen Ich geh noch mal raus, ich denk nur an dich Ich hab nichts dabei, nur ein wenig Farbe Ich sprech dich nicht an, die Wände sprechen für mich Ich schreib deinen Namen rosa auf Beton Und all die Leute im Zugwaggon Können jetzt sehen, hier ist jemand total verliebt In dich, ertrinken im Asphalt und Zement Mit kalten Blicken, doch ein Herz brennt In dieser Stadt ist jemand total verliebt in dich Graffiti Love, Graffiti Love Stille Mauern sagen zu dir: „Ich liebe dich!“ Graffiti Love, Graffiti Love Stille Mauern sagen zu dir: „Ich liebe dich!“  Ich geh jede Nacht raus, ich kann nicht aufhören Ich verlasse die Stadt, ich fahr durch das Land Denn egal wo du hingehst, du sollst es sehen können Egal wo du stehst, an jeder Wand Ich schreib deinen Namen rosa auf Beton Und all die Leute im Zugwaggon Können jetzt sehen, hier ist jemand total verliebt In dich, ertrinken im Asphalt und Zement Mit kalten Blicken, doch ein Herz brennt In dieser Stadt ist jemand total verliebt in dich  Graffiti Love, Graffiti Love Stille Mauern sagen zu dir: „Ich liebe dich!“ Graffiti Love, Graffiti Love Stille Mauern sagen zu dir: „Ich liebe dich!“  Ich geh jede Nacht raus Ich liebe dich Ich geh jede Nacht raus Ich liebe dich \n",
      "True\n",
      "  In bin Mann in dent, das man mit. Was est das s, das bin du an. In hatlich die, für bin den. Du dir mit mit an, die undln für. In bin die Dame vonr dem Und all die Land im denn zu die, dirt das total. In Wien, Herr im Asphalt und. Mit denen, das die Herr. In der hat is und totale in die Graffiti Love, Graffiti Lovely und an zu dir: „Was bin dir!“ Graffiti Love, Graffiti Lovely und an zu dir: „Was bin dir!“  In gutets, du binlich. In es die Stern, du war zu das Land Der man w du gut, dus es denen hat w duch, an der. In bin die Dame vonr dem Und all die Land im denn zu die, dirt das total. In Wien, Herr im Asphalt und. Mit denen, das die Herr. In der hat is und totale in die  Graffiti Love, Graffiti Lovely und an zu dir: „Was bin dir!“ Graffiti Love, Graffiti Lovely und an zu dir: „Was bin dir!“  In gutet. Was bin will In gutet. Was bin will \n"
     ]
    }
   ],
   "source": [
    "texts = df[\"lyrics\"].iloc[:10]  # Konvertiere die Spalte \"lyrics\" in eine Liste von Texten\n",
    "#docs = nlp(texts) \n",
    "\n",
    "for row in texts:\n",
    "    doc = nlp(row)\n",
    "    print(row, doc)\n",
    "    print(doc._.performed_spellCheck) #Should be True\n",
    "    print(doc._.outcome_spellCheck)"
   ]
  },
  {
   "cell_type": "code",
   "execution_count": 19,
   "metadata": {},
   "outputs": [],
   "source": [
    "tool = LanguageTool('de')\n",
    "results = []\n",
    "\n",
    "# Funktion zur Überprüfung der Grammatik\n",
    "def grammar_check(lyric):\n",
    "    matches = tool.check(lyric)\n",
    "    total_errors = len(matches)\n",
    "    total_words = len(lyric.split())\n",
    "    percentage_correct = ((total_words - total_errors) / total_words) * 100\n",
    "\n",
    "    return percentage_correct\n",
    "\n",
    "df_copy = df.sample(frac=1).reset_index(drop=True)\n",
    "\n",
    "count = 0\n",
    "for idx, row in df_copy.iterrows():\n",
    "    if count >= 200:\n",
    "        break\n",
    "    text = row['lyrics']\n",
    "    count+= 1\n",
    "    song_title = row['songtitle']\n",
    "    genre = row['genre']\n",
    "    lyric_num = idx\n",
    "    score_correct = f\"{grammar_check(text):.2f}\"\n",
    "    score_incorrect = 100 -float(score_correct)\n",
    "\n",
    "    matches = tool.check(text)\n",
    "    for match in matches:\n",
    "        message = match.message\n",
    "        \n",
    "    result = {'song_title': song_title, 'lyric_num': lyric_num, 'genres': genre, \"score_correct\": score_correct , \"score_incorrect\": score_incorrect , \"message\": message}\n",
    "\n",
    "    results.append(result)\n",
    "\n"
   ]
  },
  {
   "cell_type": "code",
   "execution_count": 20,
   "metadata": {},
   "outputs": [
    {
     "data": {
      "text/html": [
       "<div>\n",
       "<style scoped>\n",
       "    .dataframe tbody tr th:only-of-type {\n",
       "        vertical-align: middle;\n",
       "    }\n",
       "\n",
       "    .dataframe tbody tr th {\n",
       "        vertical-align: top;\n",
       "    }\n",
       "\n",
       "    .dataframe thead th {\n",
       "        text-align: right;\n",
       "    }\n",
       "</style>\n",
       "<table border=\"1\" class=\"dataframe\">\n",
       "  <thead>\n",
       "    <tr style=\"text-align: right;\">\n",
       "      <th></th>\n",
       "      <th>song_title</th>\n",
       "      <th>lyric_num</th>\n",
       "      <th>genres</th>\n",
       "      <th>score_correct</th>\n",
       "      <th>score_incorrect</th>\n",
       "      <th>message</th>\n",
       "    </tr>\n",
       "  </thead>\n",
       "  <tbody>\n",
       "    <tr>\n",
       "      <th>0</th>\n",
       "      <td>Danke</td>\n",
       "      <td>0</td>\n",
       "      <td>Pop</td>\n",
       "      <td>87.82</td>\n",
       "      <td>12.18</td>\n",
       "      <td>Außer am Satzanfang werden nur Nomen und Eigen...</td>\n",
       "    </tr>\n",
       "    <tr>\n",
       "      <th>1</th>\n",
       "      <td>Die Suche geht weiter</td>\n",
       "      <td>1</td>\n",
       "      <td>Pop</td>\n",
       "      <td>81.82</td>\n",
       "      <td>18.18</td>\n",
       "      <td>Außer am Satzanfang werden nur Nomen und Eigen...</td>\n",
       "    </tr>\n",
       "    <tr>\n",
       "      <th>2</th>\n",
       "      <td>Gegen die Wand</td>\n",
       "      <td>2</td>\n",
       "      <td>Rap</td>\n",
       "      <td>92.22</td>\n",
       "      <td>7.78</td>\n",
       "      <td>Außer in der Redewendung „Ein und Alles“ wird ...</td>\n",
       "    </tr>\n",
       "    <tr>\n",
       "      <th>3</th>\n",
       "      <td>Der Malocher</td>\n",
       "      <td>3</td>\n",
       "      <td>Rock</td>\n",
       "      <td>91.33</td>\n",
       "      <td>8.67</td>\n",
       "      <td>Außer am Satzanfang werden nur Nomen und Eigen...</td>\n",
       "    </tr>\n",
       "    <tr>\n",
       "      <th>4</th>\n",
       "      <td>Ins Blaue</td>\n",
       "      <td>4</td>\n",
       "      <td>Pop</td>\n",
       "      <td>87.19</td>\n",
       "      <td>12.81</td>\n",
       "      <td>Außer am Satzanfang werden nur Nomen und Eigen...</td>\n",
       "    </tr>\n",
       "    <tr>\n",
       "      <th>...</th>\n",
       "      <td>...</td>\n",
       "      <td>...</td>\n",
       "      <td>...</td>\n",
       "      <td>...</td>\n",
       "      <td>...</td>\n",
       "      <td>...</td>\n",
       "    </tr>\n",
       "    <tr>\n",
       "      <th>195</th>\n",
       "      <td>Die Welt Steht Still</td>\n",
       "      <td>195</td>\n",
       "      <td>Rap</td>\n",
       "      <td>94.06</td>\n",
       "      <td>5.94</td>\n",
       "      <td>Außer am Satzanfang werden nur Nomen und Eigen...</td>\n",
       "    </tr>\n",
       "    <tr>\n",
       "      <th>196</th>\n",
       "      <td>Rap Lexikon</td>\n",
       "      <td>196</td>\n",
       "      <td>Rap</td>\n",
       "      <td>91.01</td>\n",
       "      <td>8.99</td>\n",
       "      <td>Außer am Satzanfang werden nur Nomen und Eigen...</td>\n",
       "    </tr>\n",
       "    <tr>\n",
       "      <th>197</th>\n",
       "      <td>Halli, Hallo</td>\n",
       "      <td>197</td>\n",
       "      <td>Schlager</td>\n",
       "      <td>86.99</td>\n",
       "      <td>13.01</td>\n",
       "      <td>Außer am Satzanfang werden nur Nomen und Eigen...</td>\n",
       "    </tr>\n",
       "    <tr>\n",
       "      <th>198</th>\n",
       "      <td>Unbewohnt</td>\n",
       "      <td>198</td>\n",
       "      <td>Pop</td>\n",
       "      <td>90.48</td>\n",
       "      <td>9.52</td>\n",
       "      <td>Außer am Satzanfang werden nur Nomen und Eigen...</td>\n",
       "    </tr>\n",
       "    <tr>\n",
       "      <th>199</th>\n",
       "      <td>Müßiggang</td>\n",
       "      <td>199</td>\n",
       "      <td>Pop</td>\n",
       "      <td>80.00</td>\n",
       "      <td>20.00</td>\n",
       "      <td>Außer am Satzanfang werden nur Nomen und Eigen...</td>\n",
       "    </tr>\n",
       "  </tbody>\n",
       "</table>\n",
       "<p>200 rows × 6 columns</p>\n",
       "</div>"
      ],
      "text/plain": [
       "                song_title  lyric_num    genres score_correct   \n",
       "0                    Danke          0       Pop         87.82  \\\n",
       "1    Die Suche geht weiter          1       Pop         81.82   \n",
       "2           Gegen die Wand          2       Rap         92.22   \n",
       "3             Der Malocher          3      Rock         91.33   \n",
       "4                Ins Blaue          4       Pop         87.19   \n",
       "..                     ...        ...       ...           ...   \n",
       "195   Die Welt Steht Still        195       Rap         94.06   \n",
       "196            Rap Lexikon        196       Rap         91.01   \n",
       "197           Halli, Hallo        197  Schlager         86.99   \n",
       "198              Unbewohnt        198       Pop         90.48   \n",
       "199              Müßiggang        199       Pop         80.00   \n",
       "\n",
       "     score_incorrect                                            message  \n",
       "0              12.18  Außer am Satzanfang werden nur Nomen und Eigen...  \n",
       "1              18.18  Außer am Satzanfang werden nur Nomen und Eigen...  \n",
       "2               7.78  Außer in der Redewendung „Ein und Alles“ wird ...  \n",
       "3               8.67  Außer am Satzanfang werden nur Nomen und Eigen...  \n",
       "4              12.81  Außer am Satzanfang werden nur Nomen und Eigen...  \n",
       "..               ...                                                ...  \n",
       "195             5.94  Außer am Satzanfang werden nur Nomen und Eigen...  \n",
       "196             8.99  Außer am Satzanfang werden nur Nomen und Eigen...  \n",
       "197            13.01  Außer am Satzanfang werden nur Nomen und Eigen...  \n",
       "198             9.52  Außer am Satzanfang werden nur Nomen und Eigen...  \n",
       "199            20.00  Außer am Satzanfang werden nur Nomen und Eigen...  \n",
       "\n",
       "[200 rows x 6 columns]"
      ]
     },
     "execution_count": 20,
     "metadata": {},
     "output_type": "execute_result"
    }
   ],
   "source": [
    "grammar_results = pd.DataFrame(results)\n",
    "grammar_results"
   ]
  },
  {
   "cell_type": "code",
   "execution_count": 22,
   "metadata": {},
   "outputs": [
    {
     "data": {
      "text/plain": [
       "genres\n",
       "Pop         12.889592\n",
       "Rap          8.115000\n",
       "Rock        11.158909\n",
       "Schlager    10.766154\n",
       "Name: score_incorrect, dtype: float64"
      ]
     },
     "execution_count": 22,
     "metadata": {},
     "output_type": "execute_result"
    }
   ],
   "source": [
    "grammar_results['score_correct'] = pd.to_numeric(grammar_results['score_correct'])\n",
    "grammar_results['score_incorrect'] = pd.to_numeric(grammar_results['score_incorrect'])\n",
    "\n",
    "grammar_total_correct = grammar_results.groupby('genres')['score_correct'].mean()\n",
    "grammar_total_incorrect =  grammar_results.groupby('genres')['score_incorrect'].mean()\n",
    "\n",
    "grammar_total_incorrect\n"
   ]
  },
  {
   "cell_type": "code",
   "execution_count": 23,
   "metadata": {},
   "outputs": [
    {
     "data": {
      "text/plain": [
       "genres\n",
       "Pop         87.110408\n",
       "Rap         91.885000\n",
       "Rock        88.841091\n",
       "Schlager    89.233846\n",
       "Name: score_correct, dtype: float64"
      ]
     },
     "execution_count": 23,
     "metadata": {},
     "output_type": "execute_result"
    }
   ],
   "source": [
    "grammar_total_correct"
   ]
  },
  {
   "cell_type": "code",
   "execution_count": 24,
   "metadata": {},
   "outputs": [],
   "source": [
    "grammar_per_genre = pd.concat([grammar_total_correct, grammar_total_incorrect], axis=1).reset_index()\n",
    "grammar_per_genre.columns = ['genres', 'score_correct', 'score_incorrect']"
   ]
  },
  {
   "cell_type": "code",
   "execution_count": 25,
   "metadata": {},
   "outputs": [],
   "source": [
    "grammar_per_genre_new = pd.melt(grammar_per_genre, id_vars='genres', var_name='score_type', value_name='score')\n",
    "grammar_per_genre_new['score_type'] = grammar_per_genre_new['score_type'].map({'score_correct': 'Korrekt', 'score_incorrect': 'Inkorrekt'})\n"
   ]
  },
  {
   "cell_type": "code",
   "execution_count": 26,
   "metadata": {},
   "outputs": [
    {
     "data": {
      "text/html": [
       "<div>\n",
       "<style scoped>\n",
       "    .dataframe tbody tr th:only-of-type {\n",
       "        vertical-align: middle;\n",
       "    }\n",
       "\n",
       "    .dataframe tbody tr th {\n",
       "        vertical-align: top;\n",
       "    }\n",
       "\n",
       "    .dataframe thead th {\n",
       "        text-align: right;\n",
       "    }\n",
       "</style>\n",
       "<table border=\"1\" class=\"dataframe\">\n",
       "  <thead>\n",
       "    <tr style=\"text-align: right;\">\n",
       "      <th></th>\n",
       "      <th>genres</th>\n",
       "      <th>score_type</th>\n",
       "      <th>score</th>\n",
       "    </tr>\n",
       "  </thead>\n",
       "  <tbody>\n",
       "    <tr>\n",
       "      <th>0</th>\n",
       "      <td>Pop</td>\n",
       "      <td>Korrekt</td>\n",
       "      <td>87.110408</td>\n",
       "    </tr>\n",
       "    <tr>\n",
       "      <th>1</th>\n",
       "      <td>Rap</td>\n",
       "      <td>Korrekt</td>\n",
       "      <td>91.885000</td>\n",
       "    </tr>\n",
       "    <tr>\n",
       "      <th>2</th>\n",
       "      <td>Rock</td>\n",
       "      <td>Korrekt</td>\n",
       "      <td>88.841091</td>\n",
       "    </tr>\n",
       "    <tr>\n",
       "      <th>3</th>\n",
       "      <td>Schlager</td>\n",
       "      <td>Korrekt</td>\n",
       "      <td>89.233846</td>\n",
       "    </tr>\n",
       "    <tr>\n",
       "      <th>4</th>\n",
       "      <td>Pop</td>\n",
       "      <td>Inkorrekt</td>\n",
       "      <td>12.889592</td>\n",
       "    </tr>\n",
       "    <tr>\n",
       "      <th>5</th>\n",
       "      <td>Rap</td>\n",
       "      <td>Inkorrekt</td>\n",
       "      <td>8.115000</td>\n",
       "    </tr>\n",
       "    <tr>\n",
       "      <th>6</th>\n",
       "      <td>Rock</td>\n",
       "      <td>Inkorrekt</td>\n",
       "      <td>11.158909</td>\n",
       "    </tr>\n",
       "    <tr>\n",
       "      <th>7</th>\n",
       "      <td>Schlager</td>\n",
       "      <td>Inkorrekt</td>\n",
       "      <td>10.766154</td>\n",
       "    </tr>\n",
       "  </tbody>\n",
       "</table>\n",
       "</div>"
      ],
      "text/plain": [
       "     genres score_type      score\n",
       "0       Pop    Korrekt  87.110408\n",
       "1       Rap    Korrekt  91.885000\n",
       "2      Rock    Korrekt  88.841091\n",
       "3  Schlager    Korrekt  89.233846\n",
       "4       Pop  Inkorrekt  12.889592\n",
       "5       Rap  Inkorrekt   8.115000\n",
       "6      Rock  Inkorrekt  11.158909\n",
       "7  Schlager  Inkorrekt  10.766154"
      ]
     },
     "execution_count": 26,
     "metadata": {},
     "output_type": "execute_result"
    }
   ],
   "source": [
    "grammar_per_genre_new"
   ]
  },
  {
   "cell_type": "code",
   "execution_count": 52,
   "metadata": {},
   "outputs": [
    {
     "data": {
      "application/vnd.plotly.v1+json": {
       "config": {
        "plotlyServerURL": "https://plot.ly"
       },
       "data": [
        {
         "branchvalues": "total",
         "domain": {
          "x": [
           0,
           1
          ],
          "y": [
           0,
           1
          ]
         },
         "hovertemplate": "labels=%{label}<br>score=%{value}<br>parent=%{parent}<br>id=%{id}<extra></extra>",
         "ids": [
          "Pop/Inkorrekt",
          "Rap/Inkorrekt",
          "Rock/Inkorrekt",
          "Schlager/Inkorrekt",
          "Pop/Korrekt",
          "Rap/Korrekt",
          "Rock/Korrekt",
          "Schlager/Korrekt",
          "Pop",
          "Rap",
          "Rock",
          "Schlager"
         ],
         "labels": [
          "Inkorrekt",
          "Inkorrekt",
          "Inkorrekt",
          "Inkorrekt",
          "Korrekt",
          "Korrekt",
          "Korrekt",
          "Korrekt",
          "Pop",
          "Rap",
          "Rock",
          "Schlager"
         ],
         "name": "",
         "parents": [
          "Pop",
          "Rap",
          "Rock",
          "Schlager",
          "Pop",
          "Rap",
          "Rock",
          "Schlager",
          "",
          "",
          "",
          ""
         ],
         "type": "sunburst",
         "values": [
          12.889591836734695,
          8.115,
          11.158909090909091,
          10.766153846153848,
          87.1104081632653,
          91.88499999999999,
          88.84109090909091,
          89.23384615384614,
          100,
          99.99999999999999,
          100,
          100
         ]
        }
       ],
       "layout": {
        "legend": {
         "tracegroupgap": 0
        },
        "margin": {
         "t": 60
        },
        "template": {
         "data": {
          "bar": [
           {
            "error_x": {
             "color": "#2a3f5f"
            },
            "error_y": {
             "color": "#2a3f5f"
            },
            "marker": {
             "line": {
              "color": "#E5ECF6",
              "width": 0.5
             },
             "pattern": {
              "fillmode": "overlay",
              "size": 10,
              "solidity": 0.2
             }
            },
            "type": "bar"
           }
          ],
          "barpolar": [
           {
            "marker": {
             "line": {
              "color": "#E5ECF6",
              "width": 0.5
             },
             "pattern": {
              "fillmode": "overlay",
              "size": 10,
              "solidity": 0.2
             }
            },
            "type": "barpolar"
           }
          ],
          "carpet": [
           {
            "aaxis": {
             "endlinecolor": "#2a3f5f",
             "gridcolor": "white",
             "linecolor": "white",
             "minorgridcolor": "white",
             "startlinecolor": "#2a3f5f"
            },
            "baxis": {
             "endlinecolor": "#2a3f5f",
             "gridcolor": "white",
             "linecolor": "white",
             "minorgridcolor": "white",
             "startlinecolor": "#2a3f5f"
            },
            "type": "carpet"
           }
          ],
          "choropleth": [
           {
            "colorbar": {
             "outlinewidth": 0,
             "ticks": ""
            },
            "type": "choropleth"
           }
          ],
          "contour": [
           {
            "colorbar": {
             "outlinewidth": 0,
             "ticks": ""
            },
            "colorscale": [
             [
              0,
              "#0d0887"
             ],
             [
              0.1111111111111111,
              "#46039f"
             ],
             [
              0.2222222222222222,
              "#7201a8"
             ],
             [
              0.3333333333333333,
              "#9c179e"
             ],
             [
              0.4444444444444444,
              "#bd3786"
             ],
             [
              0.5555555555555556,
              "#d8576b"
             ],
             [
              0.6666666666666666,
              "#ed7953"
             ],
             [
              0.7777777777777778,
              "#fb9f3a"
             ],
             [
              0.8888888888888888,
              "#fdca26"
             ],
             [
              1,
              "#f0f921"
             ]
            ],
            "type": "contour"
           }
          ],
          "contourcarpet": [
           {
            "colorbar": {
             "outlinewidth": 0,
             "ticks": ""
            },
            "type": "contourcarpet"
           }
          ],
          "heatmap": [
           {
            "colorbar": {
             "outlinewidth": 0,
             "ticks": ""
            },
            "colorscale": [
             [
              0,
              "#0d0887"
             ],
             [
              0.1111111111111111,
              "#46039f"
             ],
             [
              0.2222222222222222,
              "#7201a8"
             ],
             [
              0.3333333333333333,
              "#9c179e"
             ],
             [
              0.4444444444444444,
              "#bd3786"
             ],
             [
              0.5555555555555556,
              "#d8576b"
             ],
             [
              0.6666666666666666,
              "#ed7953"
             ],
             [
              0.7777777777777778,
              "#fb9f3a"
             ],
             [
              0.8888888888888888,
              "#fdca26"
             ],
             [
              1,
              "#f0f921"
             ]
            ],
            "type": "heatmap"
           }
          ],
          "heatmapgl": [
           {
            "colorbar": {
             "outlinewidth": 0,
             "ticks": ""
            },
            "colorscale": [
             [
              0,
              "#0d0887"
             ],
             [
              0.1111111111111111,
              "#46039f"
             ],
             [
              0.2222222222222222,
              "#7201a8"
             ],
             [
              0.3333333333333333,
              "#9c179e"
             ],
             [
              0.4444444444444444,
              "#bd3786"
             ],
             [
              0.5555555555555556,
              "#d8576b"
             ],
             [
              0.6666666666666666,
              "#ed7953"
             ],
             [
              0.7777777777777778,
              "#fb9f3a"
             ],
             [
              0.8888888888888888,
              "#fdca26"
             ],
             [
              1,
              "#f0f921"
             ]
            ],
            "type": "heatmapgl"
           }
          ],
          "histogram": [
           {
            "marker": {
             "pattern": {
              "fillmode": "overlay",
              "size": 10,
              "solidity": 0.2
             }
            },
            "type": "histogram"
           }
          ],
          "histogram2d": [
           {
            "colorbar": {
             "outlinewidth": 0,
             "ticks": ""
            },
            "colorscale": [
             [
              0,
              "#0d0887"
             ],
             [
              0.1111111111111111,
              "#46039f"
             ],
             [
              0.2222222222222222,
              "#7201a8"
             ],
             [
              0.3333333333333333,
              "#9c179e"
             ],
             [
              0.4444444444444444,
              "#bd3786"
             ],
             [
              0.5555555555555556,
              "#d8576b"
             ],
             [
              0.6666666666666666,
              "#ed7953"
             ],
             [
              0.7777777777777778,
              "#fb9f3a"
             ],
             [
              0.8888888888888888,
              "#fdca26"
             ],
             [
              1,
              "#f0f921"
             ]
            ],
            "type": "histogram2d"
           }
          ],
          "histogram2dcontour": [
           {
            "colorbar": {
             "outlinewidth": 0,
             "ticks": ""
            },
            "colorscale": [
             [
              0,
              "#0d0887"
             ],
             [
              0.1111111111111111,
              "#46039f"
             ],
             [
              0.2222222222222222,
              "#7201a8"
             ],
             [
              0.3333333333333333,
              "#9c179e"
             ],
             [
              0.4444444444444444,
              "#bd3786"
             ],
             [
              0.5555555555555556,
              "#d8576b"
             ],
             [
              0.6666666666666666,
              "#ed7953"
             ],
             [
              0.7777777777777778,
              "#fb9f3a"
             ],
             [
              0.8888888888888888,
              "#fdca26"
             ],
             [
              1,
              "#f0f921"
             ]
            ],
            "type": "histogram2dcontour"
           }
          ],
          "mesh3d": [
           {
            "colorbar": {
             "outlinewidth": 0,
             "ticks": ""
            },
            "type": "mesh3d"
           }
          ],
          "parcoords": [
           {
            "line": {
             "colorbar": {
              "outlinewidth": 0,
              "ticks": ""
             }
            },
            "type": "parcoords"
           }
          ],
          "pie": [
           {
            "automargin": true,
            "type": "pie"
           }
          ],
          "scatter": [
           {
            "fillpattern": {
             "fillmode": "overlay",
             "size": 10,
             "solidity": 0.2
            },
            "type": "scatter"
           }
          ],
          "scatter3d": [
           {
            "line": {
             "colorbar": {
              "outlinewidth": 0,
              "ticks": ""
             }
            },
            "marker": {
             "colorbar": {
              "outlinewidth": 0,
              "ticks": ""
             }
            },
            "type": "scatter3d"
           }
          ],
          "scattercarpet": [
           {
            "marker": {
             "colorbar": {
              "outlinewidth": 0,
              "ticks": ""
             }
            },
            "type": "scattercarpet"
           }
          ],
          "scattergeo": [
           {
            "marker": {
             "colorbar": {
              "outlinewidth": 0,
              "ticks": ""
             }
            },
            "type": "scattergeo"
           }
          ],
          "scattergl": [
           {
            "marker": {
             "colorbar": {
              "outlinewidth": 0,
              "ticks": ""
             }
            },
            "type": "scattergl"
           }
          ],
          "scattermapbox": [
           {
            "marker": {
             "colorbar": {
              "outlinewidth": 0,
              "ticks": ""
             }
            },
            "type": "scattermapbox"
           }
          ],
          "scatterpolar": [
           {
            "marker": {
             "colorbar": {
              "outlinewidth": 0,
              "ticks": ""
             }
            },
            "type": "scatterpolar"
           }
          ],
          "scatterpolargl": [
           {
            "marker": {
             "colorbar": {
              "outlinewidth": 0,
              "ticks": ""
             }
            },
            "type": "scatterpolargl"
           }
          ],
          "scatterternary": [
           {
            "marker": {
             "colorbar": {
              "outlinewidth": 0,
              "ticks": ""
             }
            },
            "type": "scatterternary"
           }
          ],
          "surface": [
           {
            "colorbar": {
             "outlinewidth": 0,
             "ticks": ""
            },
            "colorscale": [
             [
              0,
              "#0d0887"
             ],
             [
              0.1111111111111111,
              "#46039f"
             ],
             [
              0.2222222222222222,
              "#7201a8"
             ],
             [
              0.3333333333333333,
              "#9c179e"
             ],
             [
              0.4444444444444444,
              "#bd3786"
             ],
             [
              0.5555555555555556,
              "#d8576b"
             ],
             [
              0.6666666666666666,
              "#ed7953"
             ],
             [
              0.7777777777777778,
              "#fb9f3a"
             ],
             [
              0.8888888888888888,
              "#fdca26"
             ],
             [
              1,
              "#f0f921"
             ]
            ],
            "type": "surface"
           }
          ],
          "table": [
           {
            "cells": {
             "fill": {
              "color": "#EBF0F8"
             },
             "line": {
              "color": "white"
             }
            },
            "header": {
             "fill": {
              "color": "#C8D4E3"
             },
             "line": {
              "color": "white"
             }
            },
            "type": "table"
           }
          ]
         },
         "layout": {
          "annotationdefaults": {
           "arrowcolor": "#2a3f5f",
           "arrowhead": 0,
           "arrowwidth": 1
          },
          "autotypenumbers": "strict",
          "coloraxis": {
           "colorbar": {
            "outlinewidth": 0,
            "ticks": ""
           }
          },
          "colorscale": {
           "diverging": [
            [
             0,
             "#8e0152"
            ],
            [
             0.1,
             "#c51b7d"
            ],
            [
             0.2,
             "#de77ae"
            ],
            [
             0.3,
             "#f1b6da"
            ],
            [
             0.4,
             "#fde0ef"
            ],
            [
             0.5,
             "#f7f7f7"
            ],
            [
             0.6,
             "#e6f5d0"
            ],
            [
             0.7,
             "#b8e186"
            ],
            [
             0.8,
             "#7fbc41"
            ],
            [
             0.9,
             "#4d9221"
            ],
            [
             1,
             "#276419"
            ]
           ],
           "sequential": [
            [
             0,
             "#0d0887"
            ],
            [
             0.1111111111111111,
             "#46039f"
            ],
            [
             0.2222222222222222,
             "#7201a8"
            ],
            [
             0.3333333333333333,
             "#9c179e"
            ],
            [
             0.4444444444444444,
             "#bd3786"
            ],
            [
             0.5555555555555556,
             "#d8576b"
            ],
            [
             0.6666666666666666,
             "#ed7953"
            ],
            [
             0.7777777777777778,
             "#fb9f3a"
            ],
            [
             0.8888888888888888,
             "#fdca26"
            ],
            [
             1,
             "#f0f921"
            ]
           ],
           "sequentialminus": [
            [
             0,
             "#0d0887"
            ],
            [
             0.1111111111111111,
             "#46039f"
            ],
            [
             0.2222222222222222,
             "#7201a8"
            ],
            [
             0.3333333333333333,
             "#9c179e"
            ],
            [
             0.4444444444444444,
             "#bd3786"
            ],
            [
             0.5555555555555556,
             "#d8576b"
            ],
            [
             0.6666666666666666,
             "#ed7953"
            ],
            [
             0.7777777777777778,
             "#fb9f3a"
            ],
            [
             0.8888888888888888,
             "#fdca26"
            ],
            [
             1,
             "#f0f921"
            ]
           ]
          },
          "colorway": [
           "#636efa",
           "#EF553B",
           "#00cc96",
           "#ab63fa",
           "#FFA15A",
           "#19d3f3",
           "#FF6692",
           "#B6E880",
           "#FF97FF",
           "#FECB52"
          ],
          "font": {
           "color": "#2a3f5f"
          },
          "geo": {
           "bgcolor": "white",
           "lakecolor": "white",
           "landcolor": "#E5ECF6",
           "showlakes": true,
           "showland": true,
           "subunitcolor": "white"
          },
          "hoverlabel": {
           "align": "left"
          },
          "hovermode": "closest",
          "mapbox": {
           "style": "light"
          },
          "paper_bgcolor": "white",
          "plot_bgcolor": "#E5ECF6",
          "polar": {
           "angularaxis": {
            "gridcolor": "white",
            "linecolor": "white",
            "ticks": ""
           },
           "bgcolor": "#E5ECF6",
           "radialaxis": {
            "gridcolor": "white",
            "linecolor": "white",
            "ticks": ""
           }
          },
          "scene": {
           "xaxis": {
            "backgroundcolor": "#E5ECF6",
            "gridcolor": "white",
            "gridwidth": 2,
            "linecolor": "white",
            "showbackground": true,
            "ticks": "",
            "zerolinecolor": "white"
           },
           "yaxis": {
            "backgroundcolor": "#E5ECF6",
            "gridcolor": "white",
            "gridwidth": 2,
            "linecolor": "white",
            "showbackground": true,
            "ticks": "",
            "zerolinecolor": "white"
           },
           "zaxis": {
            "backgroundcolor": "#E5ECF6",
            "gridcolor": "white",
            "gridwidth": 2,
            "linecolor": "white",
            "showbackground": true,
            "ticks": "",
            "zerolinecolor": "white"
           }
          },
          "shapedefaults": {
           "line": {
            "color": "#2a3f5f"
           }
          },
          "ternary": {
           "aaxis": {
            "gridcolor": "white",
            "linecolor": "white",
            "ticks": ""
           },
           "baxis": {
            "gridcolor": "white",
            "linecolor": "white",
            "ticks": ""
           },
           "bgcolor": "#E5ECF6",
           "caxis": {
            "gridcolor": "white",
            "linecolor": "white",
            "ticks": ""
           }
          },
          "title": {
           "x": 0.05
          },
          "xaxis": {
           "automargin": true,
           "gridcolor": "white",
           "linecolor": "white",
           "ticks": "",
           "title": {
            "standoff": 15
           },
           "zerolinecolor": "white",
           "zerolinewidth": 2
          },
          "yaxis": {
           "automargin": true,
           "gridcolor": "white",
           "linecolor": "white",
           "ticks": "",
           "title": {
            "standoff": 15
           },
           "zerolinecolor": "white",
           "zerolinewidth": 2
          }
         }
        },
        "title": {
         "text": "Grammatikalische Korrektheit von Songtexten",
         "x": 0.5
        }
       }
      }
     },
     "metadata": {},
     "output_type": "display_data"
    }
   ],
   "source": [
    "fig = px.sunburst(grammar_per_genre_new, path=['genres', \"score_type\"], values='score' )\n",
    "\n",
    "fig.update_layout(\n",
    "    title={\n",
    "        'text': \"Grammatikalische Korrektheit von Songtexten\",\n",
    "        'x': 0.5\n",
    "    }\n",
    ")\n",
    "\n",
    "fig.show()\n"
   ]
  },
  {
   "attachments": {},
   "cell_type": "markdown",
   "metadata": {},
   "source": [
    "### Wie vielfältig sind deutsche Songtexte?"
   ]
  },
  {
   "cell_type": "code",
   "execution_count": null,
   "metadata": {},
   "outputs": [],
   "source": [
    "song_variety = []\n",
    "\n",
    "\n",
    "count = 0\n",
    "for idx, row in df_copy.iterrows():\n",
    "    if count >= 100:\n",
    "        break\n",
    "    text = row['lyrics']\n",
    "    song_title = row['songtitle']\n",
    "    genre = row['genre']\n",
    "    count+= 1\n",
    "    \n",
    "    # Text mit Spacy analysieren\n",
    "    doc = nlp(text)\n",
    "    \n",
    "    wortarten = ['NOUN', 'VERB', 'ADJ', 'ADV']\n",
    "    unique_words = set()\n",
    "    for token in doc:\n",
    "        if not token.is_stop and token.is_alpha and token.pos_ in wortarten:\n",
    "            unique_words.add(token.lemma_)\n",
    "    \n",
    "\n",
    "    song_uniqueness =  {'song_title': song_title, 'lyric_num': idx, 'genres': genre, \"unique_words\": unique_words}\n",
    "\n",
    "    \n",
    "    song_variety.append(song_uniqueness)\n"
   ]
  },
  {
   "cell_type": "code",
   "execution_count": 96,
   "metadata": {},
   "outputs": [],
   "source": [
    "song_variety_df = pd.DataFrame(song_variety)"
   ]
  },
  {
   "cell_type": "code",
   "execution_count": 97,
   "metadata": {},
   "outputs": [
    {
     "data": {
      "text/html": [
       "<div>\n",
       "<style scoped>\n",
       "    .dataframe tbody tr th:only-of-type {\n",
       "        vertical-align: middle;\n",
       "    }\n",
       "\n",
       "    .dataframe tbody tr th {\n",
       "        vertical-align: top;\n",
       "    }\n",
       "\n",
       "    .dataframe thead th {\n",
       "        text-align: right;\n",
       "    }\n",
       "</style>\n",
       "<table border=\"1\" class=\"dataframe\">\n",
       "  <thead>\n",
       "    <tr style=\"text-align: right;\">\n",
       "      <th></th>\n",
       "      <th>song_title</th>\n",
       "      <th>lyric_num</th>\n",
       "      <th>genres</th>\n",
       "      <th>unique_words</th>\n",
       "    </tr>\n",
       "  </thead>\n",
       "  <tbody>\n",
       "    <tr>\n",
       "      <th>0</th>\n",
       "      <td>Danke</td>\n",
       "      <td>0</td>\n",
       "      <td>Pop</td>\n",
       "      <td>{stattdessen, spenden, tun, hinterlassen, Welt...</td>\n",
       "    </tr>\n",
       "    <tr>\n",
       "      <th>1</th>\n",
       "      <td>Die Suche geht weiter</td>\n",
       "      <td>1</td>\n",
       "      <td>Pop</td>\n",
       "      <td>{scheinen, strahlen, Atem, fragen, einfach, ha...</td>\n",
       "    </tr>\n",
       "    <tr>\n",
       "      <th>2</th>\n",
       "      <td>Gegen die Wand</td>\n",
       "      <td>2</td>\n",
       "      <td>Rap</td>\n",
       "      <td>{reden, erreichen, frontet, Competition, schre...</td>\n",
       "    </tr>\n",
       "    <tr>\n",
       "      <th>3</th>\n",
       "      <td>Der Malocher</td>\n",
       "      <td>3</td>\n",
       "      <td>Rock</td>\n",
       "      <td>{schlucken, Weib, Zuhaus, TV, Klasse, glauben,...</td>\n",
       "    </tr>\n",
       "    <tr>\n",
       "      <th>4</th>\n",
       "      <td>Ins Blaue</td>\n",
       "      <td>4</td>\n",
       "      <td>Pop</td>\n",
       "      <td>{egal, Stadt, scheinen, yeah, einfach, fließen...</td>\n",
       "    </tr>\n",
       "    <tr>\n",
       "      <th>5</th>\n",
       "      <td>Die Welt Dreht sich</td>\n",
       "      <td>5</td>\n",
       "      <td>Pop</td>\n",
       "      <td>{längst, Wintertag, fast, Bedeutung, Welt, fra...</td>\n",
       "    </tr>\n",
       "    <tr>\n",
       "      <th>6</th>\n",
       "      <td>Wenn wir schlafen</td>\n",
       "      <td>6</td>\n",
       "      <td>Pop</td>\n",
       "      <td>{Stadt, Kiosk, sauber, Balkon, Haus, Pisse, üb...</td>\n",
       "    </tr>\n",
       "    <tr>\n",
       "      <th>7</th>\n",
       "      <td>Irgendwo dazwischen</td>\n",
       "      <td>7</td>\n",
       "      <td>Pop</td>\n",
       "      <td>{Freund, tuts, verleihen, fern, kaputt, Bauch,...</td>\n",
       "    </tr>\n",
       "    <tr>\n",
       "      <th>8</th>\n",
       "      <td>Unkenrufe</td>\n",
       "      <td>8</td>\n",
       "      <td>Pop</td>\n",
       "      <td>{egal, Sicht, Gesicht, Stunde, Bild, Fuß, Hint...</td>\n",
       "    </tr>\n",
       "    <tr>\n",
       "      <th>9</th>\n",
       "      <td>Player 4 Life</td>\n",
       "      <td>9</td>\n",
       "      <td>Rap</td>\n",
       "      <td>{einfach, heut, schreiben, wissen, Weg, erkenn...</td>\n",
       "    </tr>\n",
       "    <tr>\n",
       "      <th>10</th>\n",
       "      <td>Zwoa Zigarettn</td>\n",
       "      <td>10</td>\n",
       "      <td>Schlager</td>\n",
       "      <td>{brauchen, verdufen, fast, umanand, echt, wiss...</td>\n",
       "    </tr>\n",
       "    <tr>\n",
       "      <th>11</th>\n",
       "      <td>Rapgame</td>\n",
       "      <td>11</td>\n",
       "      <td>Rap</td>\n",
       "      <td>{mitten, versprechen, halten, Geduld, abwarten...</td>\n",
       "    </tr>\n",
       "    <tr>\n",
       "      <th>12</th>\n",
       "      <td>Mein Blut</td>\n",
       "      <td>12</td>\n",
       "      <td>Rap</td>\n",
       "      <td>{Sicht, ausdrücken, Schuh, Stube, Besonderer, ...</td>\n",
       "    </tr>\n",
       "    <tr>\n",
       "      <th>13</th>\n",
       "      <td>Dschungel im Kopf</td>\n",
       "      <td>13</td>\n",
       "      <td>Pop</td>\n",
       "      <td>{Baumkrone, mach, Kämpf, weg, Fang, Dschungel,...</td>\n",
       "    </tr>\n",
       "    <tr>\n",
       "      <th>14</th>\n",
       "      <td>Wellenreiten</td>\n",
       "      <td>14</td>\n",
       "      <td>Rock</td>\n",
       "      <td>{längst, umgiben, Suchender, perfeckt, Surfer,...</td>\n",
       "    </tr>\n",
       "    <tr>\n",
       "      <th>15</th>\n",
       "      <td>Was würde Manny Marc tun</td>\n",
       "      <td>15</td>\n",
       "      <td>Rap</td>\n",
       "      <td>{längst, einfach, abgetrieben, heut, geistig, ...</td>\n",
       "    </tr>\n",
       "    <tr>\n",
       "      <th>16</th>\n",
       "      <td>Nick bis dein Genick bricht</td>\n",
       "      <td>16</td>\n",
       "      <td>Rap</td>\n",
       "      <td>{Braut, Start, Clique, schreiben, wissen, Ärsc...</td>\n",
       "    </tr>\n",
       "    <tr>\n",
       "      <th>17</th>\n",
       "      <td>Anna</td>\n",
       "      <td>17</td>\n",
       "      <td>Pop</td>\n",
       "      <td>{brauchen, lässt, Hältst, wirken, Gesicht, ein...</td>\n",
       "    </tr>\n",
       "    <tr>\n",
       "      <th>18</th>\n",
       "      <td>Richtig Scheiße</td>\n",
       "      <td>18</td>\n",
       "      <td>Rock</td>\n",
       "      <td>{kennen, Züruck, kratzen, mach, Refrain, weiss...</td>\n",
       "    </tr>\n",
       "    <tr>\n",
       "      <th>19</th>\n",
       "      <td>Alice im Wunderland</td>\n",
       "      <td>19</td>\n",
       "      <td>Schlager</td>\n",
       "      <td>{Freund, Ziel, Wahrheit, Welt, Sonnenlicht, ha...</td>\n",
       "    </tr>\n",
       "    <tr>\n",
       "      <th>20</th>\n",
       "      <td>Jerusalem</td>\n",
       "      <td>20</td>\n",
       "      <td>Rap</td>\n",
       "      <td>{Stadt, Pilger, spenden, ol, Berg, verlangen, ...</td>\n",
       "    </tr>\n",
       "    <tr>\n",
       "      <th>21</th>\n",
       "      <td>Einmal</td>\n",
       "      <td>21</td>\n",
       "      <td>Pop</td>\n",
       "      <td>{verbrennen, Katze, Bild, Fuß, Fahrräd, Taube,...</td>\n",
       "    </tr>\n",
       "    <tr>\n",
       "      <th>22</th>\n",
       "      <td>German Dream 2012</td>\n",
       "      <td>22</td>\n",
       "      <td>Rap</td>\n",
       "      <td>{längst, Hoff, einfach, wissen, Türe, fährst, ...</td>\n",
       "    </tr>\n",
       "    <tr>\n",
       "      <th>23</th>\n",
       "      <td>Mein Teil</td>\n",
       "      <td>23</td>\n",
       "      <td>Rock</td>\n",
       "      <td>{dreißigjährig, schneideen, Wolkendach, Wein, ...</td>\n",
       "    </tr>\n",
       "    <tr>\n",
       "      <th>24</th>\n",
       "      <td>Metapher Than Leather</td>\n",
       "      <td>24</td>\n",
       "      <td>Rap</td>\n",
       "      <td>{zuletzt, wissen, setz, Zacke, Stellung, Schlu...</td>\n",
       "    </tr>\n",
       "    <tr>\n",
       "      <th>25</th>\n",
       "      <td>Aber Besser Wär's</td>\n",
       "      <td>25</td>\n",
       "      <td>Rock</td>\n",
       "      <td>{einfach, klein, schreiben, Fernseher, manchma...</td>\n",
       "    </tr>\n",
       "    <tr>\n",
       "      <th>26</th>\n",
       "      <td>Raubkopierah</td>\n",
       "      <td>26</td>\n",
       "      <td>Rap</td>\n",
       "      <td>{gucken, Space, kaputt, Berg, einfach, halten,...</td>\n",
       "    </tr>\n",
       "    <tr>\n",
       "      <th>27</th>\n",
       "      <td>Fornika</td>\n",
       "      <td>27</td>\n",
       "      <td>Rap</td>\n",
       "      <td>{reden, Rohr, lebend, durchdringen, Land, umsc...</td>\n",
       "    </tr>\n",
       "    <tr>\n",
       "      <th>28</th>\n",
       "      <td>Noch Zu Lernen</td>\n",
       "      <td>28</td>\n",
       "      <td>Rap</td>\n",
       "      <td>{würdeen, denkn, freuen, Hoff, einfach, Wein, ...</td>\n",
       "    </tr>\n",
       "    <tr>\n",
       "      <th>29</th>\n",
       "      <td>Alter Mann</td>\n",
       "      <td>29</td>\n",
       "      <td>Rock</td>\n",
       "      <td>{brauchen, Vulkan, scheinen, fragen, legen, ru...</td>\n",
       "    </tr>\n",
       "    <tr>\n",
       "      <th>30</th>\n",
       "      <td>Nacht</td>\n",
       "      <td>30</td>\n",
       "      <td>Rock</td>\n",
       "      <td>{Stufe, Flur, brauchen, Welt, heut, fühlen, Sc...</td>\n",
       "    </tr>\n",
       "    <tr>\n",
       "      <th>31</th>\n",
       "      <td>Für immer</td>\n",
       "      <td>31</td>\n",
       "      <td>Rock</td>\n",
       "      <td>{brauchen, kennen, fühlsen, still, unerreichba...</td>\n",
       "    </tr>\n",
       "    <tr>\n",
       "      <th>32</th>\n",
       "      <td>Mehr als lebensgefährlich</td>\n",
       "      <td>32</td>\n",
       "      <td>Rap</td>\n",
       "      <td>{Mach, Dauert, Katze, einstellen, Domain, dros...</td>\n",
       "    </tr>\n",
       "    <tr>\n",
       "      <th>33</th>\n",
       "      <td>Panic</td>\n",
       "      <td>33</td>\n",
       "      <td>Rap</td>\n",
       "      <td>{reden, Tier, Marsmensch, Bong, Ladekabel, Tab...</td>\n",
       "    </tr>\n",
       "    <tr>\n",
       "      <th>34</th>\n",
       "      <td>Für immer die Menschen</td>\n",
       "      <td>34</td>\n",
       "      <td>Rock</td>\n",
       "      <td>{liebst, lassen, Welt, fern, Trost, glauben, L...</td>\n",
       "    </tr>\n",
       "    <tr>\n",
       "      <th>35</th>\n",
       "      <td>Rost</td>\n",
       "      <td>35</td>\n",
       "      <td>Rap</td>\n",
       "      <td>{Scham, Nadelstreif, fern, Schuh, freuen, zule...</td>\n",
       "    </tr>\n",
       "    <tr>\n",
       "      <th>36</th>\n",
       "      <td>Alphatier</td>\n",
       "      <td>36</td>\n",
       "      <td>Rock</td>\n",
       "      <td>{durchkommen, Glaube, leiden, genieren, Leben,...</td>\n",
       "    </tr>\n",
       "    <tr>\n",
       "      <th>37</th>\n",
       "      <td>Sonntagmorgen</td>\n",
       "      <td>37</td>\n",
       "      <td>Schlager</td>\n",
       "      <td>{selber, strahlen, Ruhe, Zuhaus, Welt, lang, S...</td>\n",
       "    </tr>\n",
       "    <tr>\n",
       "      <th>38</th>\n",
       "      <td>Unterwegs</td>\n",
       "      <td>38</td>\n",
       "      <td>Schlager</td>\n",
       "      <td>{Freund, Braut, verspielen, Feuer, verbrennen,...</td>\n",
       "    </tr>\n",
       "    <tr>\n",
       "      <th>39</th>\n",
       "      <td>Nein danke</td>\n",
       "      <td>39</td>\n",
       "      <td>Pop</td>\n",
       "      <td>{brauchen, längst, tun, besitzen, Regel, steck...</td>\n",
       "    </tr>\n",
       "    <tr>\n",
       "      <th>40</th>\n",
       "      <td>Warten auf den starken Mann</td>\n",
       "      <td>40</td>\n",
       "      <td>Rock</td>\n",
       "      <td>{brauchen, reden, lässt, Wand, irgendwann, Lüg...</td>\n",
       "    </tr>\n",
       "    <tr>\n",
       "      <th>41</th>\n",
       "      <td>SeXy</td>\n",
       "      <td>41</td>\n",
       "      <td>Rock</td>\n",
       "      <td>{lässt, tun, lang, mach, Hof, Waffe, aufwachen...</td>\n",
       "    </tr>\n",
       "    <tr>\n",
       "      <th>42</th>\n",
       "      <td>Frag mich nicht</td>\n",
       "      <td>42</td>\n",
       "      <td>Pop</td>\n",
       "      <td>{brauchen, lähmen, tun, spür, verlangen, zerre...</td>\n",
       "    </tr>\n",
       "    <tr>\n",
       "      <th>43</th>\n",
       "      <td>Einer fehlt</td>\n",
       "      <td>43</td>\n",
       "      <td>Schlager</td>\n",
       "      <td>{Stadt, abend, Freund, Gesicht, Refrain, Motor...</td>\n",
       "    </tr>\n",
       "    <tr>\n",
       "      <th>44</th>\n",
       "      <td>Rasierklingenliebe</td>\n",
       "      <td>44</td>\n",
       "      <td>Rap</td>\n",
       "      <td>{Sicht, Berg, einfach, Herd, miefend, Dreck, w...</td>\n",
       "    </tr>\n",
       "    <tr>\n",
       "      <th>45</th>\n",
       "      <td>Gloria Halleluja Amen</td>\n",
       "      <td>45</td>\n",
       "      <td>Schlager</td>\n",
       "      <td>{Mensch, Komm, Samen, rein, Schwein, rufen, Se...</td>\n",
       "    </tr>\n",
       "    <tr>\n",
       "      <th>46</th>\n",
       "      <td>Straße 2</td>\n",
       "      <td>46</td>\n",
       "      <td>Rap</td>\n",
       "      <td>{reden, mollig, schminken, Rumgebelle, kriegst...</td>\n",
       "    </tr>\n",
       "    <tr>\n",
       "      <th>47</th>\n",
       "      <td>Es muss was Wunderbares sein von mir geliebt ...</td>\n",
       "      <td>47</td>\n",
       "      <td>Rock</td>\n",
       "      <td>{Name, Hobby, Stunde, Bisswunde, Flair, Herzen...</td>\n",
       "    </tr>\n",
       "    <tr>\n",
       "      <th>48</th>\n",
       "      <td>Jack</td>\n",
       "      <td>48</td>\n",
       "      <td>Rock</td>\n",
       "      <td>{Freund, Überholverbot, abend, erreichen, vors...</td>\n",
       "    </tr>\n",
       "    <tr>\n",
       "      <th>49</th>\n",
       "      <td>Schlaffmittel</td>\n",
       "      <td>49</td>\n",
       "      <td>Rap</td>\n",
       "      <td>{reden, Hobby, pur, Suche, Kohle, Toilette, Me...</td>\n",
       "    </tr>\n",
       "    <tr>\n",
       "      <th>50</th>\n",
       "      <td>Sonnensystem</td>\n",
       "      <td>50</td>\n",
       "      <td>Rock</td>\n",
       "      <td>{egal, Freund, halten, verbrennen, Arm, glaube...</td>\n",
       "    </tr>\n",
       "    <tr>\n",
       "      <th>51</th>\n",
       "      <td>Kadett</td>\n",
       "      <td>51</td>\n",
       "      <td>Pop</td>\n",
       "      <td>{beleuchten, lässt, Autonummer, groß, scharf, ...</td>\n",
       "    </tr>\n",
       "    <tr>\n",
       "      <th>52</th>\n",
       "      <td>Gestern Nacht</td>\n",
       "      <td>52</td>\n",
       "      <td>Pop</td>\n",
       "      <td>{gestern, Wahrheit, Welt, glauben, weissen, wi...</td>\n",
       "    </tr>\n",
       "    <tr>\n",
       "      <th>53</th>\n",
       "      <td>Zu Straße</td>\n",
       "      <td>53</td>\n",
       "      <td>Rap</td>\n",
       "      <td>{Schlagstock, Quere, einfach, Briefkasten, Woh...</td>\n",
       "    </tr>\n",
       "    <tr>\n",
       "      <th>54</th>\n",
       "      <td>Du gehörst zu mir</td>\n",
       "      <td>54</td>\n",
       "      <td>Schlager</td>\n",
       "      <td>{kennen, hingehören, Glaube, halten, Königin, ...</td>\n",
       "    </tr>\n",
       "    <tr>\n",
       "      <th>55</th>\n",
       "      <td>Teenager vom Mars</td>\n",
       "      <td>55</td>\n",
       "      <td>Rap</td>\n",
       "      <td>{Stacheldraht, gucken, Welt, landen, drücken, ...</td>\n",
       "    </tr>\n",
       "    <tr>\n",
       "      <th>56</th>\n",
       "      <td>Baby</td>\n",
       "      <td>56</td>\n",
       "      <td>Rock</td>\n",
       "      <td>{längst, Tier, kriegst, sorgen, Haltung, Mensc...</td>\n",
       "    </tr>\n",
       "    <tr>\n",
       "      <th>57</th>\n",
       "      <td>Ich hasse Dich</td>\n",
       "      <td>57</td>\n",
       "      <td>Rap</td>\n",
       "      <td>{erreichen, kaputt, einfach, schreiben, Waffe,...</td>\n",
       "    </tr>\n",
       "    <tr>\n",
       "      <th>58</th>\n",
       "      <td>Keine Angst</td>\n",
       "      <td>58</td>\n",
       "      <td>Pop</td>\n",
       "      <td>{egal, gestern, reden, befreien, Vergangenheit...</td>\n",
       "    </tr>\n",
       "  </tbody>\n",
       "</table>\n",
       "</div>"
      ],
      "text/plain": [
       "                                           song_title  lyric_num    genres   \n",
       "0                                               Danke          0       Pop  \\\n",
       "1                               Die Suche geht weiter          1       Pop   \n",
       "2                                      Gegen die Wand          2       Rap   \n",
       "3                                        Der Malocher          3      Rock   \n",
       "4                                           Ins Blaue          4       Pop   \n",
       "5                                 Die Welt Dreht sich          5       Pop   \n",
       "6                                   Wenn wir schlafen          6       Pop   \n",
       "7                                 Irgendwo dazwischen          7       Pop   \n",
       "8                                           Unkenrufe          8       Pop   \n",
       "9                                       Player 4 Life          9       Rap   \n",
       "10                                     Zwoa Zigarettn         10  Schlager   \n",
       "11                                            Rapgame         11       Rap   \n",
       "12                                          Mein Blut         12       Rap   \n",
       "13                                  Dschungel im Kopf         13       Pop   \n",
       "14                                       Wellenreiten         14      Rock   \n",
       "15                           Was würde Manny Marc tun         15       Rap   \n",
       "16                        Nick bis dein Genick bricht         16       Rap   \n",
       "17                                               Anna         17       Pop   \n",
       "18                                    Richtig Scheiße         18      Rock   \n",
       "19                                Alice im Wunderland         19  Schlager   \n",
       "20                                          Jerusalem         20       Rap   \n",
       "21                                             Einmal         21       Pop   \n",
       "22                                  German Dream 2012         22       Rap   \n",
       "23                                          Mein Teil         23      Rock   \n",
       "24                              Metapher Than Leather         24       Rap   \n",
       "25                                  Aber Besser Wär's         25      Rock   \n",
       "26                                       Raubkopierah         26       Rap   \n",
       "27                                            Fornika         27       Rap   \n",
       "28                                     Noch Zu Lernen         28       Rap   \n",
       "29                                         Alter Mann         29      Rock   \n",
       "30                                              Nacht         30      Rock   \n",
       "31                                          Für immer         31      Rock   \n",
       "32                          Mehr als lebensgefährlich         32       Rap   \n",
       "33                                              Panic         33       Rap   \n",
       "34                             Für immer die Menschen         34      Rock   \n",
       "35                                               Rost         35       Rap   \n",
       "36                                          Alphatier         36      Rock   \n",
       "37                                      Sonntagmorgen         37  Schlager   \n",
       "38                                          Unterwegs         38  Schlager   \n",
       "39                                         Nein danke         39       Pop   \n",
       "40                        Warten auf den starken Mann         40      Rock   \n",
       "41                                               SeXy         41      Rock   \n",
       "42                                    Frag mich nicht         42       Pop   \n",
       "43                                        Einer fehlt         43  Schlager   \n",
       "44                                 Rasierklingenliebe         44       Rap   \n",
       "45                              Gloria Halleluja Amen         45  Schlager   \n",
       "46                                           Straße 2         46       Rap   \n",
       "47   Es muss was Wunderbares sein von mir geliebt ...         47      Rock   \n",
       "48                                               Jack         48      Rock   \n",
       "49                                      Schlaffmittel         49       Rap   \n",
       "50                                       Sonnensystem         50      Rock   \n",
       "51                                             Kadett         51       Pop   \n",
       "52                                      Gestern Nacht         52       Pop   \n",
       "53                                          Zu Straße         53       Rap   \n",
       "54                                  Du gehörst zu mir         54  Schlager   \n",
       "55                                  Teenager vom Mars         55       Rap   \n",
       "56                                               Baby         56      Rock   \n",
       "57                                     Ich hasse Dich         57       Rap   \n",
       "58                                        Keine Angst         58       Pop   \n",
       "\n",
       "                                         unique_words  \n",
       "0   {stattdessen, spenden, tun, hinterlassen, Welt...  \n",
       "1   {scheinen, strahlen, Atem, fragen, einfach, ha...  \n",
       "2   {reden, erreichen, frontet, Competition, schre...  \n",
       "3   {schlucken, Weib, Zuhaus, TV, Klasse, glauben,...  \n",
       "4   {egal, Stadt, scheinen, yeah, einfach, fließen...  \n",
       "5   {längst, Wintertag, fast, Bedeutung, Welt, fra...  \n",
       "6   {Stadt, Kiosk, sauber, Balkon, Haus, Pisse, üb...  \n",
       "7   {Freund, tuts, verleihen, fern, kaputt, Bauch,...  \n",
       "8   {egal, Sicht, Gesicht, Stunde, Bild, Fuß, Hint...  \n",
       "9   {einfach, heut, schreiben, wissen, Weg, erkenn...  \n",
       "10  {brauchen, verdufen, fast, umanand, echt, wiss...  \n",
       "11  {mitten, versprechen, halten, Geduld, abwarten...  \n",
       "12  {Sicht, ausdrücken, Schuh, Stube, Besonderer, ...  \n",
       "13  {Baumkrone, mach, Kämpf, weg, Fang, Dschungel,...  \n",
       "14  {längst, umgiben, Suchender, perfeckt, Surfer,...  \n",
       "15  {längst, einfach, abgetrieben, heut, geistig, ...  \n",
       "16  {Braut, Start, Clique, schreiben, wissen, Ärsc...  \n",
       "17  {brauchen, lässt, Hältst, wirken, Gesicht, ein...  \n",
       "18  {kennen, Züruck, kratzen, mach, Refrain, weiss...  \n",
       "19  {Freund, Ziel, Wahrheit, Welt, Sonnenlicht, ha...  \n",
       "20  {Stadt, Pilger, spenden, ol, Berg, verlangen, ...  \n",
       "21  {verbrennen, Katze, Bild, Fuß, Fahrräd, Taube,...  \n",
       "22  {längst, Hoff, einfach, wissen, Türe, fährst, ...  \n",
       "23  {dreißigjährig, schneideen, Wolkendach, Wein, ...  \n",
       "24  {zuletzt, wissen, setz, Zacke, Stellung, Schlu...  \n",
       "25  {einfach, klein, schreiben, Fernseher, manchma...  \n",
       "26  {gucken, Space, kaputt, Berg, einfach, halten,...  \n",
       "27  {reden, Rohr, lebend, durchdringen, Land, umsc...  \n",
       "28  {würdeen, denkn, freuen, Hoff, einfach, Wein, ...  \n",
       "29  {brauchen, Vulkan, scheinen, fragen, legen, ru...  \n",
       "30  {Stufe, Flur, brauchen, Welt, heut, fühlen, Sc...  \n",
       "31  {brauchen, kennen, fühlsen, still, unerreichba...  \n",
       "32  {Mach, Dauert, Katze, einstellen, Domain, dros...  \n",
       "33  {reden, Tier, Marsmensch, Bong, Ladekabel, Tab...  \n",
       "34  {liebst, lassen, Welt, fern, Trost, glauben, L...  \n",
       "35  {Scham, Nadelstreif, fern, Schuh, freuen, zule...  \n",
       "36  {durchkommen, Glaube, leiden, genieren, Leben,...  \n",
       "37  {selber, strahlen, Ruhe, Zuhaus, Welt, lang, S...  \n",
       "38  {Freund, Braut, verspielen, Feuer, verbrennen,...  \n",
       "39  {brauchen, längst, tun, besitzen, Regel, steck...  \n",
       "40  {brauchen, reden, lässt, Wand, irgendwann, Lüg...  \n",
       "41  {lässt, tun, lang, mach, Hof, Waffe, aufwachen...  \n",
       "42  {brauchen, lähmen, tun, spür, verlangen, zerre...  \n",
       "43  {Stadt, abend, Freund, Gesicht, Refrain, Motor...  \n",
       "44  {Sicht, Berg, einfach, Herd, miefend, Dreck, w...  \n",
       "45  {Mensch, Komm, Samen, rein, Schwein, rufen, Se...  \n",
       "46  {reden, mollig, schminken, Rumgebelle, kriegst...  \n",
       "47  {Name, Hobby, Stunde, Bisswunde, Flair, Herzen...  \n",
       "48  {Freund, Überholverbot, abend, erreichen, vors...  \n",
       "49  {reden, Hobby, pur, Suche, Kohle, Toilette, Me...  \n",
       "50  {egal, Freund, halten, verbrennen, Arm, glaube...  \n",
       "51  {beleuchten, lässt, Autonummer, groß, scharf, ...  \n",
       "52  {gestern, Wahrheit, Welt, glauben, weissen, wi...  \n",
       "53  {Schlagstock, Quere, einfach, Briefkasten, Woh...  \n",
       "54  {kennen, hingehören, Glaube, halten, Königin, ...  \n",
       "55  {Stacheldraht, gucken, Welt, landen, drücken, ...  \n",
       "56  {längst, Tier, kriegst, sorgen, Haltung, Mensc...  \n",
       "57  {erreichen, kaputt, einfach, schreiben, Waffe,...  \n",
       "58  {egal, gestern, reden, befreien, Vergangenheit...  "
      ]
     },
     "execution_count": 97,
     "metadata": {},
     "output_type": "execute_result"
    }
   ],
   "source": [
    "song_variety_df"
   ]
  },
  {
   "cell_type": "code",
   "execution_count": 98,
   "metadata": {},
   "outputs": [],
   "source": [
    "unique_words_len = []\n",
    "for row in song_variety_df[\"unique_words\"]:\n",
    "    unique_words_len.append(len(row))\n",
    "\n",
    "song_variety_df[\"unique_words_len\"] = unique_words_len"
   ]
  },
  {
   "cell_type": "code",
   "execution_count": 99,
   "metadata": {},
   "outputs": [
    {
     "data": {
      "text/html": [
       "<div>\n",
       "<style scoped>\n",
       "    .dataframe tbody tr th:only-of-type {\n",
       "        vertical-align: middle;\n",
       "    }\n",
       "\n",
       "    .dataframe tbody tr th {\n",
       "        vertical-align: top;\n",
       "    }\n",
       "\n",
       "    .dataframe thead th {\n",
       "        text-align: right;\n",
       "    }\n",
       "</style>\n",
       "<table border=\"1\" class=\"dataframe\">\n",
       "  <thead>\n",
       "    <tr style=\"text-align: right;\">\n",
       "      <th></th>\n",
       "      <th>song_title</th>\n",
       "      <th>lyric_num</th>\n",
       "      <th>genres</th>\n",
       "      <th>unique_words</th>\n",
       "      <th>unique_words_len</th>\n",
       "    </tr>\n",
       "  </thead>\n",
       "  <tbody>\n",
       "    <tr>\n",
       "      <th>0</th>\n",
       "      <td>Danke</td>\n",
       "      <td>0</td>\n",
       "      <td>Pop</td>\n",
       "      <td>{stattdessen, spenden, tun, hinterlassen, Welt...</td>\n",
       "      <td>57</td>\n",
       "    </tr>\n",
       "    <tr>\n",
       "      <th>1</th>\n",
       "      <td>Die Suche geht weiter</td>\n",
       "      <td>1</td>\n",
       "      <td>Pop</td>\n",
       "      <td>{scheinen, strahlen, Atem, fragen, einfach, ha...</td>\n",
       "      <td>37</td>\n",
       "    </tr>\n",
       "    <tr>\n",
       "      <th>2</th>\n",
       "      <td>Gegen die Wand</td>\n",
       "      <td>2</td>\n",
       "      <td>Rap</td>\n",
       "      <td>{reden, erreichen, frontet, Competition, schre...</td>\n",
       "      <td>95</td>\n",
       "    </tr>\n",
       "    <tr>\n",
       "      <th>3</th>\n",
       "      <td>Der Malocher</td>\n",
       "      <td>3</td>\n",
       "      <td>Rock</td>\n",
       "      <td>{schlucken, Weib, Zuhaus, TV, Klasse, glauben,...</td>\n",
       "      <td>74</td>\n",
       "    </tr>\n",
       "    <tr>\n",
       "      <th>4</th>\n",
       "      <td>Ins Blaue</td>\n",
       "      <td>4</td>\n",
       "      <td>Pop</td>\n",
       "      <td>{egal, Stadt, scheinen, yeah, einfach, fließen...</td>\n",
       "      <td>48</td>\n",
       "    </tr>\n",
       "    <tr>\n",
       "      <th>5</th>\n",
       "      <td>Die Welt Dreht sich</td>\n",
       "      <td>5</td>\n",
       "      <td>Pop</td>\n",
       "      <td>{längst, Wintertag, fast, Bedeutung, Welt, fra...</td>\n",
       "      <td>69</td>\n",
       "    </tr>\n",
       "    <tr>\n",
       "      <th>6</th>\n",
       "      <td>Wenn wir schlafen</td>\n",
       "      <td>6</td>\n",
       "      <td>Pop</td>\n",
       "      <td>{Stadt, Kiosk, sauber, Balkon, Haus, Pisse, üb...</td>\n",
       "      <td>22</td>\n",
       "    </tr>\n",
       "    <tr>\n",
       "      <th>7</th>\n",
       "      <td>Irgendwo dazwischen</td>\n",
       "      <td>7</td>\n",
       "      <td>Pop</td>\n",
       "      <td>{Freund, tuts, verleihen, fern, kaputt, Bauch,...</td>\n",
       "      <td>31</td>\n",
       "    </tr>\n",
       "    <tr>\n",
       "      <th>8</th>\n",
       "      <td>Unkenrufe</td>\n",
       "      <td>8</td>\n",
       "      <td>Pop</td>\n",
       "      <td>{egal, Sicht, Gesicht, Stunde, Bild, Fuß, Hint...</td>\n",
       "      <td>48</td>\n",
       "    </tr>\n",
       "    <tr>\n",
       "      <th>9</th>\n",
       "      <td>Player 4 Life</td>\n",
       "      <td>9</td>\n",
       "      <td>Rap</td>\n",
       "      <td>{einfach, heut, schreiben, wissen, Weg, erkenn...</td>\n",
       "      <td>94</td>\n",
       "    </tr>\n",
       "    <tr>\n",
       "      <th>10</th>\n",
       "      <td>Zwoa Zigarettn</td>\n",
       "      <td>10</td>\n",
       "      <td>Schlager</td>\n",
       "      <td>{brauchen, verdufen, fast, umanand, echt, wiss...</td>\n",
       "      <td>51</td>\n",
       "    </tr>\n",
       "    <tr>\n",
       "      <th>11</th>\n",
       "      <td>Rapgame</td>\n",
       "      <td>11</td>\n",
       "      <td>Rap</td>\n",
       "      <td>{mitten, versprechen, halten, Geduld, abwarten...</td>\n",
       "      <td>140</td>\n",
       "    </tr>\n",
       "    <tr>\n",
       "      <th>12</th>\n",
       "      <td>Mein Blut</td>\n",
       "      <td>12</td>\n",
       "      <td>Rap</td>\n",
       "      <td>{Sicht, ausdrücken, Schuh, Stube, Besonderer, ...</td>\n",
       "      <td>116</td>\n",
       "    </tr>\n",
       "    <tr>\n",
       "      <th>13</th>\n",
       "      <td>Dschungel im Kopf</td>\n",
       "      <td>13</td>\n",
       "      <td>Pop</td>\n",
       "      <td>{Baumkrone, mach, Kämpf, weg, Fang, Dschungel,...</td>\n",
       "      <td>52</td>\n",
       "    </tr>\n",
       "    <tr>\n",
       "      <th>14</th>\n",
       "      <td>Wellenreiten</td>\n",
       "      <td>14</td>\n",
       "      <td>Rock</td>\n",
       "      <td>{längst, umgiben, Suchender, perfeckt, Surfer,...</td>\n",
       "      <td>41</td>\n",
       "    </tr>\n",
       "    <tr>\n",
       "      <th>15</th>\n",
       "      <td>Was würde Manny Marc tun</td>\n",
       "      <td>15</td>\n",
       "      <td>Rap</td>\n",
       "      <td>{längst, einfach, abgetrieben, heut, geistig, ...</td>\n",
       "      <td>145</td>\n",
       "    </tr>\n",
       "    <tr>\n",
       "      <th>16</th>\n",
       "      <td>Nick bis dein Genick bricht</td>\n",
       "      <td>16</td>\n",
       "      <td>Rap</td>\n",
       "      <td>{Braut, Start, Clique, schreiben, wissen, Ärsc...</td>\n",
       "      <td>84</td>\n",
       "    </tr>\n",
       "    <tr>\n",
       "      <th>17</th>\n",
       "      <td>Anna</td>\n",
       "      <td>17</td>\n",
       "      <td>Pop</td>\n",
       "      <td>{brauchen, lässt, Hältst, wirken, Gesicht, ein...</td>\n",
       "      <td>59</td>\n",
       "    </tr>\n",
       "    <tr>\n",
       "      <th>18</th>\n",
       "      <td>Richtig Scheiße</td>\n",
       "      <td>18</td>\n",
       "      <td>Rock</td>\n",
       "      <td>{kennen, Züruck, kratzen, mach, Refrain, weiss...</td>\n",
       "      <td>57</td>\n",
       "    </tr>\n",
       "    <tr>\n",
       "      <th>19</th>\n",
       "      <td>Alice im Wunderland</td>\n",
       "      <td>19</td>\n",
       "      <td>Schlager</td>\n",
       "      <td>{Freund, Ziel, Wahrheit, Welt, Sonnenlicht, ha...</td>\n",
       "      <td>57</td>\n",
       "    </tr>\n",
       "    <tr>\n",
       "      <th>20</th>\n",
       "      <td>Jerusalem</td>\n",
       "      <td>20</td>\n",
       "      <td>Rap</td>\n",
       "      <td>{Stadt, Pilger, spenden, ol, Berg, verlangen, ...</td>\n",
       "      <td>34</td>\n",
       "    </tr>\n",
       "    <tr>\n",
       "      <th>21</th>\n",
       "      <td>Einmal</td>\n",
       "      <td>21</td>\n",
       "      <td>Pop</td>\n",
       "      <td>{verbrennen, Katze, Bild, Fuß, Fahrräd, Taube,...</td>\n",
       "      <td>27</td>\n",
       "    </tr>\n",
       "    <tr>\n",
       "      <th>22</th>\n",
       "      <td>German Dream 2012</td>\n",
       "      <td>22</td>\n",
       "      <td>Rap</td>\n",
       "      <td>{längst, Hoff, einfach, wissen, Türe, fährst, ...</td>\n",
       "      <td>91</td>\n",
       "    </tr>\n",
       "    <tr>\n",
       "      <th>23</th>\n",
       "      <td>Mein Teil</td>\n",
       "      <td>23</td>\n",
       "      <td>Rock</td>\n",
       "      <td>{dreißigjährig, schneideen, Wolkendach, Wein, ...</td>\n",
       "      <td>44</td>\n",
       "    </tr>\n",
       "    <tr>\n",
       "      <th>24</th>\n",
       "      <td>Metapher Than Leather</td>\n",
       "      <td>24</td>\n",
       "      <td>Rap</td>\n",
       "      <td>{zuletzt, wissen, setz, Zacke, Stellung, Schlu...</td>\n",
       "      <td>89</td>\n",
       "    </tr>\n",
       "    <tr>\n",
       "      <th>25</th>\n",
       "      <td>Aber Besser Wär's</td>\n",
       "      <td>25</td>\n",
       "      <td>Rock</td>\n",
       "      <td>{einfach, klein, schreiben, Fernseher, manchma...</td>\n",
       "      <td>27</td>\n",
       "    </tr>\n",
       "    <tr>\n",
       "      <th>26</th>\n",
       "      <td>Raubkopierah</td>\n",
       "      <td>26</td>\n",
       "      <td>Rap</td>\n",
       "      <td>{gucken, Space, kaputt, Berg, einfach, halten,...</td>\n",
       "      <td>133</td>\n",
       "    </tr>\n",
       "    <tr>\n",
       "      <th>27</th>\n",
       "      <td>Fornika</td>\n",
       "      <td>27</td>\n",
       "      <td>Rap</td>\n",
       "      <td>{reden, Rohr, lebend, durchdringen, Land, umsc...</td>\n",
       "      <td>135</td>\n",
       "    </tr>\n",
       "    <tr>\n",
       "      <th>28</th>\n",
       "      <td>Noch Zu Lernen</td>\n",
       "      <td>28</td>\n",
       "      <td>Rap</td>\n",
       "      <td>{würdeen, denkn, freuen, Hoff, einfach, Wein, ...</td>\n",
       "      <td>107</td>\n",
       "    </tr>\n",
       "    <tr>\n",
       "      <th>29</th>\n",
       "      <td>Alter Mann</td>\n",
       "      <td>29</td>\n",
       "      <td>Rock</td>\n",
       "      <td>{brauchen, Vulkan, scheinen, fragen, legen, ru...</td>\n",
       "      <td>52</td>\n",
       "    </tr>\n",
       "    <tr>\n",
       "      <th>30</th>\n",
       "      <td>Nacht</td>\n",
       "      <td>30</td>\n",
       "      <td>Rock</td>\n",
       "      <td>{Stufe, Flur, brauchen, Welt, heut, fühlen, Sc...</td>\n",
       "      <td>34</td>\n",
       "    </tr>\n",
       "    <tr>\n",
       "      <th>31</th>\n",
       "      <td>Für immer</td>\n",
       "      <td>31</td>\n",
       "      <td>Rock</td>\n",
       "      <td>{brauchen, kennen, fühlsen, still, unerreichba...</td>\n",
       "      <td>25</td>\n",
       "    </tr>\n",
       "    <tr>\n",
       "      <th>32</th>\n",
       "      <td>Mehr als lebensgefährlich</td>\n",
       "      <td>32</td>\n",
       "      <td>Rap</td>\n",
       "      <td>{Mach, Dauert, Katze, einstellen, Domain, dros...</td>\n",
       "      <td>91</td>\n",
       "    </tr>\n",
       "    <tr>\n",
       "      <th>33</th>\n",
       "      <td>Panic</td>\n",
       "      <td>33</td>\n",
       "      <td>Rap</td>\n",
       "      <td>{reden, Tier, Marsmensch, Bong, Ladekabel, Tab...</td>\n",
       "      <td>158</td>\n",
       "    </tr>\n",
       "    <tr>\n",
       "      <th>34</th>\n",
       "      <td>Für immer die Menschen</td>\n",
       "      <td>34</td>\n",
       "      <td>Rock</td>\n",
       "      <td>{liebst, lassen, Welt, fern, Trost, glauben, L...</td>\n",
       "      <td>44</td>\n",
       "    </tr>\n",
       "    <tr>\n",
       "      <th>35</th>\n",
       "      <td>Rost</td>\n",
       "      <td>35</td>\n",
       "      <td>Rap</td>\n",
       "      <td>{Scham, Nadelstreif, fern, Schuh, freuen, zule...</td>\n",
       "      <td>166</td>\n",
       "    </tr>\n",
       "    <tr>\n",
       "      <th>36</th>\n",
       "      <td>Alphatier</td>\n",
       "      <td>36</td>\n",
       "      <td>Rock</td>\n",
       "      <td>{durchkommen, Glaube, leiden, genieren, Leben,...</td>\n",
       "      <td>37</td>\n",
       "    </tr>\n",
       "    <tr>\n",
       "      <th>37</th>\n",
       "      <td>Sonntagmorgen</td>\n",
       "      <td>37</td>\n",
       "      <td>Schlager</td>\n",
       "      <td>{selber, strahlen, Ruhe, Zuhaus, Welt, lang, S...</td>\n",
       "      <td>35</td>\n",
       "    </tr>\n",
       "    <tr>\n",
       "      <th>38</th>\n",
       "      <td>Unterwegs</td>\n",
       "      <td>38</td>\n",
       "      <td>Schlager</td>\n",
       "      <td>{Freund, Braut, verspielen, Feuer, verbrennen,...</td>\n",
       "      <td>41</td>\n",
       "    </tr>\n",
       "    <tr>\n",
       "      <th>39</th>\n",
       "      <td>Nein danke</td>\n",
       "      <td>39</td>\n",
       "      <td>Pop</td>\n",
       "      <td>{brauchen, längst, tun, besitzen, Regel, steck...</td>\n",
       "      <td>43</td>\n",
       "    </tr>\n",
       "    <tr>\n",
       "      <th>40</th>\n",
       "      <td>Warten auf den starken Mann</td>\n",
       "      <td>40</td>\n",
       "      <td>Rock</td>\n",
       "      <td>{brauchen, reden, lässt, Wand, irgendwann, Lüg...</td>\n",
       "      <td>76</td>\n",
       "    </tr>\n",
       "    <tr>\n",
       "      <th>41</th>\n",
       "      <td>SeXy</td>\n",
       "      <td>41</td>\n",
       "      <td>Rock</td>\n",
       "      <td>{lässt, tun, lang, mach, Hof, Waffe, aufwachen...</td>\n",
       "      <td>31</td>\n",
       "    </tr>\n",
       "    <tr>\n",
       "      <th>42</th>\n",
       "      <td>Frag mich nicht</td>\n",
       "      <td>42</td>\n",
       "      <td>Pop</td>\n",
       "      <td>{brauchen, lähmen, tun, spür, verlangen, zerre...</td>\n",
       "      <td>30</td>\n",
       "    </tr>\n",
       "    <tr>\n",
       "      <th>43</th>\n",
       "      <td>Einer fehlt</td>\n",
       "      <td>43</td>\n",
       "      <td>Schlager</td>\n",
       "      <td>{Stadt, abend, Freund, Gesicht, Refrain, Motor...</td>\n",
       "      <td>40</td>\n",
       "    </tr>\n",
       "    <tr>\n",
       "      <th>44</th>\n",
       "      <td>Rasierklingenliebe</td>\n",
       "      <td>44</td>\n",
       "      <td>Rap</td>\n",
       "      <td>{Sicht, Berg, einfach, Herd, miefend, Dreck, w...</td>\n",
       "      <td>152</td>\n",
       "    </tr>\n",
       "    <tr>\n",
       "      <th>45</th>\n",
       "      <td>Gloria Halleluja Amen</td>\n",
       "      <td>45</td>\n",
       "      <td>Schlager</td>\n",
       "      <td>{Mensch, Komm, Samen, rein, Schwein, rufen, Se...</td>\n",
       "      <td>7</td>\n",
       "    </tr>\n",
       "    <tr>\n",
       "      <th>46</th>\n",
       "      <td>Straße 2</td>\n",
       "      <td>46</td>\n",
       "      <td>Rap</td>\n",
       "      <td>{reden, mollig, schminken, Rumgebelle, kriegst...</td>\n",
       "      <td>92</td>\n",
       "    </tr>\n",
       "    <tr>\n",
       "      <th>47</th>\n",
       "      <td>Es muss was Wunderbares sein von mir geliebt ...</td>\n",
       "      <td>47</td>\n",
       "      <td>Rock</td>\n",
       "      <td>{Name, Hobby, Stunde, Bisswunde, Flair, Herzen...</td>\n",
       "      <td>58</td>\n",
       "    </tr>\n",
       "    <tr>\n",
       "      <th>48</th>\n",
       "      <td>Jack</td>\n",
       "      <td>48</td>\n",
       "      <td>Rock</td>\n",
       "      <td>{Freund, Überholverbot, abend, erreichen, vors...</td>\n",
       "      <td>57</td>\n",
       "    </tr>\n",
       "    <tr>\n",
       "      <th>49</th>\n",
       "      <td>Schlaffmittel</td>\n",
       "      <td>49</td>\n",
       "      <td>Rap</td>\n",
       "      <td>{reden, Hobby, pur, Suche, Kohle, Toilette, Me...</td>\n",
       "      <td>134</td>\n",
       "    </tr>\n",
       "    <tr>\n",
       "      <th>50</th>\n",
       "      <td>Sonnensystem</td>\n",
       "      <td>50</td>\n",
       "      <td>Rock</td>\n",
       "      <td>{egal, Freund, halten, verbrennen, Arm, glaube...</td>\n",
       "      <td>43</td>\n",
       "    </tr>\n",
       "    <tr>\n",
       "      <th>51</th>\n",
       "      <td>Kadett</td>\n",
       "      <td>51</td>\n",
       "      <td>Pop</td>\n",
       "      <td>{beleuchten, lässt, Autonummer, groß, scharf, ...</td>\n",
       "      <td>60</td>\n",
       "    </tr>\n",
       "    <tr>\n",
       "      <th>52</th>\n",
       "      <td>Gestern Nacht</td>\n",
       "      <td>52</td>\n",
       "      <td>Pop</td>\n",
       "      <td>{gestern, Wahrheit, Welt, glauben, weissen, wi...</td>\n",
       "      <td>25</td>\n",
       "    </tr>\n",
       "    <tr>\n",
       "      <th>53</th>\n",
       "      <td>Zu Straße</td>\n",
       "      <td>53</td>\n",
       "      <td>Rap</td>\n",
       "      <td>{Schlagstock, Quere, einfach, Briefkasten, Woh...</td>\n",
       "      <td>99</td>\n",
       "    </tr>\n",
       "    <tr>\n",
       "      <th>54</th>\n",
       "      <td>Du gehörst zu mir</td>\n",
       "      <td>54</td>\n",
       "      <td>Schlager</td>\n",
       "      <td>{kennen, hingehören, Glaube, halten, Königin, ...</td>\n",
       "      <td>37</td>\n",
       "    </tr>\n",
       "    <tr>\n",
       "      <th>55</th>\n",
       "      <td>Teenager vom Mars</td>\n",
       "      <td>55</td>\n",
       "      <td>Rap</td>\n",
       "      <td>{Stacheldraht, gucken, Welt, landen, drücken, ...</td>\n",
       "      <td>52</td>\n",
       "    </tr>\n",
       "    <tr>\n",
       "      <th>56</th>\n",
       "      <td>Baby</td>\n",
       "      <td>56</td>\n",
       "      <td>Rock</td>\n",
       "      <td>{längst, Tier, kriegst, sorgen, Haltung, Mensc...</td>\n",
       "      <td>100</td>\n",
       "    </tr>\n",
       "    <tr>\n",
       "      <th>57</th>\n",
       "      <td>Ich hasse Dich</td>\n",
       "      <td>57</td>\n",
       "      <td>Rap</td>\n",
       "      <td>{erreichen, kaputt, einfach, schreiben, Waffe,...</td>\n",
       "      <td>122</td>\n",
       "    </tr>\n",
       "    <tr>\n",
       "      <th>58</th>\n",
       "      <td>Keine Angst</td>\n",
       "      <td>58</td>\n",
       "      <td>Pop</td>\n",
       "      <td>{egal, gestern, reden, befreien, Vergangenheit...</td>\n",
       "      <td>54</td>\n",
       "    </tr>\n",
       "  </tbody>\n",
       "</table>\n",
       "</div>"
      ],
      "text/plain": [
       "                                           song_title  lyric_num    genres   \n",
       "0                                               Danke          0       Pop  \\\n",
       "1                               Die Suche geht weiter          1       Pop   \n",
       "2                                      Gegen die Wand          2       Rap   \n",
       "3                                        Der Malocher          3      Rock   \n",
       "4                                           Ins Blaue          4       Pop   \n",
       "5                                 Die Welt Dreht sich          5       Pop   \n",
       "6                                   Wenn wir schlafen          6       Pop   \n",
       "7                                 Irgendwo dazwischen          7       Pop   \n",
       "8                                           Unkenrufe          8       Pop   \n",
       "9                                       Player 4 Life          9       Rap   \n",
       "10                                     Zwoa Zigarettn         10  Schlager   \n",
       "11                                            Rapgame         11       Rap   \n",
       "12                                          Mein Blut         12       Rap   \n",
       "13                                  Dschungel im Kopf         13       Pop   \n",
       "14                                       Wellenreiten         14      Rock   \n",
       "15                           Was würde Manny Marc tun         15       Rap   \n",
       "16                        Nick bis dein Genick bricht         16       Rap   \n",
       "17                                               Anna         17       Pop   \n",
       "18                                    Richtig Scheiße         18      Rock   \n",
       "19                                Alice im Wunderland         19  Schlager   \n",
       "20                                          Jerusalem         20       Rap   \n",
       "21                                             Einmal         21       Pop   \n",
       "22                                  German Dream 2012         22       Rap   \n",
       "23                                          Mein Teil         23      Rock   \n",
       "24                              Metapher Than Leather         24       Rap   \n",
       "25                                  Aber Besser Wär's         25      Rock   \n",
       "26                                       Raubkopierah         26       Rap   \n",
       "27                                            Fornika         27       Rap   \n",
       "28                                     Noch Zu Lernen         28       Rap   \n",
       "29                                         Alter Mann         29      Rock   \n",
       "30                                              Nacht         30      Rock   \n",
       "31                                          Für immer         31      Rock   \n",
       "32                          Mehr als lebensgefährlich         32       Rap   \n",
       "33                                              Panic         33       Rap   \n",
       "34                             Für immer die Menschen         34      Rock   \n",
       "35                                               Rost         35       Rap   \n",
       "36                                          Alphatier         36      Rock   \n",
       "37                                      Sonntagmorgen         37  Schlager   \n",
       "38                                          Unterwegs         38  Schlager   \n",
       "39                                         Nein danke         39       Pop   \n",
       "40                        Warten auf den starken Mann         40      Rock   \n",
       "41                                               SeXy         41      Rock   \n",
       "42                                    Frag mich nicht         42       Pop   \n",
       "43                                        Einer fehlt         43  Schlager   \n",
       "44                                 Rasierklingenliebe         44       Rap   \n",
       "45                              Gloria Halleluja Amen         45  Schlager   \n",
       "46                                           Straße 2         46       Rap   \n",
       "47   Es muss was Wunderbares sein von mir geliebt ...         47      Rock   \n",
       "48                                               Jack         48      Rock   \n",
       "49                                      Schlaffmittel         49       Rap   \n",
       "50                                       Sonnensystem         50      Rock   \n",
       "51                                             Kadett         51       Pop   \n",
       "52                                      Gestern Nacht         52       Pop   \n",
       "53                                          Zu Straße         53       Rap   \n",
       "54                                  Du gehörst zu mir         54  Schlager   \n",
       "55                                  Teenager vom Mars         55       Rap   \n",
       "56                                               Baby         56      Rock   \n",
       "57                                     Ich hasse Dich         57       Rap   \n",
       "58                                        Keine Angst         58       Pop   \n",
       "\n",
       "                                         unique_words  unique_words_len  \n",
       "0   {stattdessen, spenden, tun, hinterlassen, Welt...                57  \n",
       "1   {scheinen, strahlen, Atem, fragen, einfach, ha...                37  \n",
       "2   {reden, erreichen, frontet, Competition, schre...                95  \n",
       "3   {schlucken, Weib, Zuhaus, TV, Klasse, glauben,...                74  \n",
       "4   {egal, Stadt, scheinen, yeah, einfach, fließen...                48  \n",
       "5   {längst, Wintertag, fast, Bedeutung, Welt, fra...                69  \n",
       "6   {Stadt, Kiosk, sauber, Balkon, Haus, Pisse, üb...                22  \n",
       "7   {Freund, tuts, verleihen, fern, kaputt, Bauch,...                31  \n",
       "8   {egal, Sicht, Gesicht, Stunde, Bild, Fuß, Hint...                48  \n",
       "9   {einfach, heut, schreiben, wissen, Weg, erkenn...                94  \n",
       "10  {brauchen, verdufen, fast, umanand, echt, wiss...                51  \n",
       "11  {mitten, versprechen, halten, Geduld, abwarten...               140  \n",
       "12  {Sicht, ausdrücken, Schuh, Stube, Besonderer, ...               116  \n",
       "13  {Baumkrone, mach, Kämpf, weg, Fang, Dschungel,...                52  \n",
       "14  {längst, umgiben, Suchender, perfeckt, Surfer,...                41  \n",
       "15  {längst, einfach, abgetrieben, heut, geistig, ...               145  \n",
       "16  {Braut, Start, Clique, schreiben, wissen, Ärsc...                84  \n",
       "17  {brauchen, lässt, Hältst, wirken, Gesicht, ein...                59  \n",
       "18  {kennen, Züruck, kratzen, mach, Refrain, weiss...                57  \n",
       "19  {Freund, Ziel, Wahrheit, Welt, Sonnenlicht, ha...                57  \n",
       "20  {Stadt, Pilger, spenden, ol, Berg, verlangen, ...                34  \n",
       "21  {verbrennen, Katze, Bild, Fuß, Fahrräd, Taube,...                27  \n",
       "22  {längst, Hoff, einfach, wissen, Türe, fährst, ...                91  \n",
       "23  {dreißigjährig, schneideen, Wolkendach, Wein, ...                44  \n",
       "24  {zuletzt, wissen, setz, Zacke, Stellung, Schlu...                89  \n",
       "25  {einfach, klein, schreiben, Fernseher, manchma...                27  \n",
       "26  {gucken, Space, kaputt, Berg, einfach, halten,...               133  \n",
       "27  {reden, Rohr, lebend, durchdringen, Land, umsc...               135  \n",
       "28  {würdeen, denkn, freuen, Hoff, einfach, Wein, ...               107  \n",
       "29  {brauchen, Vulkan, scheinen, fragen, legen, ru...                52  \n",
       "30  {Stufe, Flur, brauchen, Welt, heut, fühlen, Sc...                34  \n",
       "31  {brauchen, kennen, fühlsen, still, unerreichba...                25  \n",
       "32  {Mach, Dauert, Katze, einstellen, Domain, dros...                91  \n",
       "33  {reden, Tier, Marsmensch, Bong, Ladekabel, Tab...               158  \n",
       "34  {liebst, lassen, Welt, fern, Trost, glauben, L...                44  \n",
       "35  {Scham, Nadelstreif, fern, Schuh, freuen, zule...               166  \n",
       "36  {durchkommen, Glaube, leiden, genieren, Leben,...                37  \n",
       "37  {selber, strahlen, Ruhe, Zuhaus, Welt, lang, S...                35  \n",
       "38  {Freund, Braut, verspielen, Feuer, verbrennen,...                41  \n",
       "39  {brauchen, längst, tun, besitzen, Regel, steck...                43  \n",
       "40  {brauchen, reden, lässt, Wand, irgendwann, Lüg...                76  \n",
       "41  {lässt, tun, lang, mach, Hof, Waffe, aufwachen...                31  \n",
       "42  {brauchen, lähmen, tun, spür, verlangen, zerre...                30  \n",
       "43  {Stadt, abend, Freund, Gesicht, Refrain, Motor...                40  \n",
       "44  {Sicht, Berg, einfach, Herd, miefend, Dreck, w...               152  \n",
       "45  {Mensch, Komm, Samen, rein, Schwein, rufen, Se...                 7  \n",
       "46  {reden, mollig, schminken, Rumgebelle, kriegst...                92  \n",
       "47  {Name, Hobby, Stunde, Bisswunde, Flair, Herzen...                58  \n",
       "48  {Freund, Überholverbot, abend, erreichen, vors...                57  \n",
       "49  {reden, Hobby, pur, Suche, Kohle, Toilette, Me...               134  \n",
       "50  {egal, Freund, halten, verbrennen, Arm, glaube...                43  \n",
       "51  {beleuchten, lässt, Autonummer, groß, scharf, ...                60  \n",
       "52  {gestern, Wahrheit, Welt, glauben, weissen, wi...                25  \n",
       "53  {Schlagstock, Quere, einfach, Briefkasten, Woh...                99  \n",
       "54  {kennen, hingehören, Glaube, halten, Königin, ...                37  \n",
       "55  {Stacheldraht, gucken, Welt, landen, drücken, ...                52  \n",
       "56  {längst, Tier, kriegst, sorgen, Haltung, Mensc...               100  \n",
       "57  {erreichen, kaputt, einfach, schreiben, Waffe,...               122  \n",
       "58  {egal, gestern, reden, befreien, Vergangenheit...                54  "
      ]
     },
     "execution_count": 99,
     "metadata": {},
     "output_type": "execute_result"
    }
   ],
   "source": [
    "song_variety_df"
   ]
  },
  {
   "cell_type": "code",
   "execution_count": 105,
   "metadata": {},
   "outputs": [
    {
     "data": {
      "text/html": [
       "<div>\n",
       "<style scoped>\n",
       "    .dataframe tbody tr th:only-of-type {\n",
       "        vertical-align: middle;\n",
       "    }\n",
       "\n",
       "    .dataframe tbody tr th {\n",
       "        vertical-align: top;\n",
       "    }\n",
       "\n",
       "    .dataframe thead th {\n",
       "        text-align: right;\n",
       "    }\n",
       "</style>\n",
       "<table border=\"1\" class=\"dataframe\">\n",
       "  <thead>\n",
       "    <tr style=\"text-align: right;\">\n",
       "      <th></th>\n",
       "      <th>genres</th>\n",
       "      <th>count</th>\n",
       "      <th>mean</th>\n",
       "      <th>std</th>\n",
       "      <th>min</th>\n",
       "      <th>25%</th>\n",
       "      <th>50%</th>\n",
       "      <th>75%</th>\n",
       "      <th>max</th>\n",
       "    </tr>\n",
       "  </thead>\n",
       "  <tbody>\n",
       "    <tr>\n",
       "      <th>0</th>\n",
       "      <td>Pop</td>\n",
       "      <td>15.0</td>\n",
       "      <td>44.133333</td>\n",
       "      <td>14.686567</td>\n",
       "      <td>22.0</td>\n",
       "      <td>30.50</td>\n",
       "      <td>48.0</td>\n",
       "      <td>55.50</td>\n",
       "      <td>69.0</td>\n",
       "    </tr>\n",
       "    <tr>\n",
       "      <th>1</th>\n",
       "      <td>Rap</td>\n",
       "      <td>21.0</td>\n",
       "      <td>110.904762</td>\n",
       "      <td>34.011623</td>\n",
       "      <td>34.0</td>\n",
       "      <td>91.00</td>\n",
       "      <td>107.0</td>\n",
       "      <td>135.00</td>\n",
       "      <td>166.0</td>\n",
       "    </tr>\n",
       "    <tr>\n",
       "      <th>2</th>\n",
       "      <td>Rock</td>\n",
       "      <td>16.0</td>\n",
       "      <td>50.000000</td>\n",
       "      <td>20.099751</td>\n",
       "      <td>25.0</td>\n",
       "      <td>36.25</td>\n",
       "      <td>44.0</td>\n",
       "      <td>57.25</td>\n",
       "      <td>100.0</td>\n",
       "    </tr>\n",
       "    <tr>\n",
       "      <th>3</th>\n",
       "      <td>Schlager</td>\n",
       "      <td>7.0</td>\n",
       "      <td>38.285714</td>\n",
       "      <td>15.882005</td>\n",
       "      <td>7.0</td>\n",
       "      <td>36.00</td>\n",
       "      <td>40.0</td>\n",
       "      <td>46.00</td>\n",
       "      <td>57.0</td>\n",
       "    </tr>\n",
       "  </tbody>\n",
       "</table>\n",
       "</div>"
      ],
      "text/plain": [
       "     genres  count        mean        std   min    25%    50%     75%    max\n",
       "0       Pop   15.0   44.133333  14.686567  22.0  30.50   48.0   55.50   69.0\n",
       "1       Rap   21.0  110.904762  34.011623  34.0  91.00  107.0  135.00  166.0\n",
       "2      Rock   16.0   50.000000  20.099751  25.0  36.25   44.0   57.25  100.0\n",
       "3  Schlager    7.0   38.285714  15.882005   7.0  36.00   40.0   46.00   57.0"
      ]
     },
     "execution_count": 105,
     "metadata": {},
     "output_type": "execute_result"
    }
   ],
   "source": [
    "unique_words_stats = song_variety_df.groupby('genres')['unique_words_len'].describe()\n",
    "unique_words_stats.reset_index()"
   ]
  },
  {
   "cell_type": "code",
   "execution_count": 101,
   "metadata": {},
   "outputs": [],
   "source": [
    "unique_score =[]\n",
    "\n",
    "for row in song_variety_df[\"unique_words\"]:\n",
    "    unique_words_total = ' '.join(unique_words)\n",
    "    doc = nlp(unique_words_total)\n",
    "    \n",
    "    "
   ]
  },
  {
   "cell_type": "code",
   "execution_count": 102,
   "metadata": {},
   "outputs": [],
   "source": [
    "song_variety_df[\"score\"] = unique_score"
   ]
  },
  {
   "cell_type": "code",
   "execution_count": 103,
   "metadata": {},
   "outputs": [
    {
     "data": {
      "text/html": [
       "<div>\n",
       "<style scoped>\n",
       "    .dataframe tbody tr th:only-of-type {\n",
       "        vertical-align: middle;\n",
       "    }\n",
       "\n",
       "    .dataframe tbody tr th {\n",
       "        vertical-align: top;\n",
       "    }\n",
       "\n",
       "    .dataframe thead th {\n",
       "        text-align: right;\n",
       "    }\n",
       "</style>\n",
       "<table border=\"1\" class=\"dataframe\">\n",
       "  <thead>\n",
       "    <tr style=\"text-align: right;\">\n",
       "      <th></th>\n",
       "      <th>song_title</th>\n",
       "      <th>lyric_num</th>\n",
       "      <th>genres</th>\n",
       "      <th>unique_words</th>\n",
       "      <th>unique_words_len</th>\n",
       "      <th>score</th>\n",
       "    </tr>\n",
       "  </thead>\n",
       "  <tbody>\n",
       "    <tr>\n",
       "      <th>0</th>\n",
       "      <td>Danke</td>\n",
       "      <td>0</td>\n",
       "      <td>Pop</td>\n",
       "      <td>{stattdessen, spenden, tun, hinterlassen, Welt...</td>\n",
       "      <td>57</td>\n",
       "      <td>1.0</td>\n",
       "    </tr>\n",
       "    <tr>\n",
       "      <th>1</th>\n",
       "      <td>Die Suche geht weiter</td>\n",
       "      <td>1</td>\n",
       "      <td>Pop</td>\n",
       "      <td>{scheinen, strahlen, Atem, fragen, einfach, ha...</td>\n",
       "      <td>37</td>\n",
       "      <td>1.0</td>\n",
       "    </tr>\n",
       "    <tr>\n",
       "      <th>2</th>\n",
       "      <td>Gegen die Wand</td>\n",
       "      <td>2</td>\n",
       "      <td>Rap</td>\n",
       "      <td>{reden, erreichen, frontet, Competition, schre...</td>\n",
       "      <td>95</td>\n",
       "      <td>1.0</td>\n",
       "    </tr>\n",
       "    <tr>\n",
       "      <th>3</th>\n",
       "      <td>Der Malocher</td>\n",
       "      <td>3</td>\n",
       "      <td>Rock</td>\n",
       "      <td>{schlucken, Weib, Zuhaus, TV, Klasse, glauben,...</td>\n",
       "      <td>74</td>\n",
       "      <td>1.0</td>\n",
       "    </tr>\n",
       "    <tr>\n",
       "      <th>4</th>\n",
       "      <td>Ins Blaue</td>\n",
       "      <td>4</td>\n",
       "      <td>Pop</td>\n",
       "      <td>{egal, Stadt, scheinen, yeah, einfach, fließen...</td>\n",
       "      <td>48</td>\n",
       "      <td>1.0</td>\n",
       "    </tr>\n",
       "    <tr>\n",
       "      <th>5</th>\n",
       "      <td>Die Welt Dreht sich</td>\n",
       "      <td>5</td>\n",
       "      <td>Pop</td>\n",
       "      <td>{längst, Wintertag, fast, Bedeutung, Welt, fra...</td>\n",
       "      <td>69</td>\n",
       "      <td>1.0</td>\n",
       "    </tr>\n",
       "    <tr>\n",
       "      <th>6</th>\n",
       "      <td>Wenn wir schlafen</td>\n",
       "      <td>6</td>\n",
       "      <td>Pop</td>\n",
       "      <td>{Stadt, Kiosk, sauber, Balkon, Haus, Pisse, üb...</td>\n",
       "      <td>22</td>\n",
       "      <td>1.0</td>\n",
       "    </tr>\n",
       "    <tr>\n",
       "      <th>7</th>\n",
       "      <td>Irgendwo dazwischen</td>\n",
       "      <td>7</td>\n",
       "      <td>Pop</td>\n",
       "      <td>{Freund, tuts, verleihen, fern, kaputt, Bauch,...</td>\n",
       "      <td>31</td>\n",
       "      <td>1.0</td>\n",
       "    </tr>\n",
       "    <tr>\n",
       "      <th>8</th>\n",
       "      <td>Unkenrufe</td>\n",
       "      <td>8</td>\n",
       "      <td>Pop</td>\n",
       "      <td>{egal, Sicht, Gesicht, Stunde, Bild, Fuß, Hint...</td>\n",
       "      <td>48</td>\n",
       "      <td>1.0</td>\n",
       "    </tr>\n",
       "    <tr>\n",
       "      <th>9</th>\n",
       "      <td>Player 4 Life</td>\n",
       "      <td>9</td>\n",
       "      <td>Rap</td>\n",
       "      <td>{einfach, heut, schreiben, wissen, Weg, erkenn...</td>\n",
       "      <td>94</td>\n",
       "      <td>1.0</td>\n",
       "    </tr>\n",
       "    <tr>\n",
       "      <th>10</th>\n",
       "      <td>Zwoa Zigarettn</td>\n",
       "      <td>10</td>\n",
       "      <td>Schlager</td>\n",
       "      <td>{brauchen, verdufen, fast, umanand, echt, wiss...</td>\n",
       "      <td>51</td>\n",
       "      <td>1.0</td>\n",
       "    </tr>\n",
       "    <tr>\n",
       "      <th>11</th>\n",
       "      <td>Rapgame</td>\n",
       "      <td>11</td>\n",
       "      <td>Rap</td>\n",
       "      <td>{mitten, versprechen, halten, Geduld, abwarten...</td>\n",
       "      <td>140</td>\n",
       "      <td>1.0</td>\n",
       "    </tr>\n",
       "    <tr>\n",
       "      <th>12</th>\n",
       "      <td>Mein Blut</td>\n",
       "      <td>12</td>\n",
       "      <td>Rap</td>\n",
       "      <td>{Sicht, ausdrücken, Schuh, Stube, Besonderer, ...</td>\n",
       "      <td>116</td>\n",
       "      <td>1.0</td>\n",
       "    </tr>\n",
       "    <tr>\n",
       "      <th>13</th>\n",
       "      <td>Dschungel im Kopf</td>\n",
       "      <td>13</td>\n",
       "      <td>Pop</td>\n",
       "      <td>{Baumkrone, mach, Kämpf, weg, Fang, Dschungel,...</td>\n",
       "      <td>52</td>\n",
       "      <td>1.0</td>\n",
       "    </tr>\n",
       "    <tr>\n",
       "      <th>14</th>\n",
       "      <td>Wellenreiten</td>\n",
       "      <td>14</td>\n",
       "      <td>Rock</td>\n",
       "      <td>{längst, umgiben, Suchender, perfeckt, Surfer,...</td>\n",
       "      <td>41</td>\n",
       "      <td>1.0</td>\n",
       "    </tr>\n",
       "    <tr>\n",
       "      <th>15</th>\n",
       "      <td>Was würde Manny Marc tun</td>\n",
       "      <td>15</td>\n",
       "      <td>Rap</td>\n",
       "      <td>{längst, einfach, abgetrieben, heut, geistig, ...</td>\n",
       "      <td>145</td>\n",
       "      <td>1.0</td>\n",
       "    </tr>\n",
       "    <tr>\n",
       "      <th>16</th>\n",
       "      <td>Nick bis dein Genick bricht</td>\n",
       "      <td>16</td>\n",
       "      <td>Rap</td>\n",
       "      <td>{Braut, Start, Clique, schreiben, wissen, Ärsc...</td>\n",
       "      <td>84</td>\n",
       "      <td>1.0</td>\n",
       "    </tr>\n",
       "    <tr>\n",
       "      <th>17</th>\n",
       "      <td>Anna</td>\n",
       "      <td>17</td>\n",
       "      <td>Pop</td>\n",
       "      <td>{brauchen, lässt, Hältst, wirken, Gesicht, ein...</td>\n",
       "      <td>59</td>\n",
       "      <td>1.0</td>\n",
       "    </tr>\n",
       "    <tr>\n",
       "      <th>18</th>\n",
       "      <td>Richtig Scheiße</td>\n",
       "      <td>18</td>\n",
       "      <td>Rock</td>\n",
       "      <td>{kennen, Züruck, kratzen, mach, Refrain, weiss...</td>\n",
       "      <td>57</td>\n",
       "      <td>1.0</td>\n",
       "    </tr>\n",
       "    <tr>\n",
       "      <th>19</th>\n",
       "      <td>Alice im Wunderland</td>\n",
       "      <td>19</td>\n",
       "      <td>Schlager</td>\n",
       "      <td>{Freund, Ziel, Wahrheit, Welt, Sonnenlicht, ha...</td>\n",
       "      <td>57</td>\n",
       "      <td>1.0</td>\n",
       "    </tr>\n",
       "    <tr>\n",
       "      <th>20</th>\n",
       "      <td>Jerusalem</td>\n",
       "      <td>20</td>\n",
       "      <td>Rap</td>\n",
       "      <td>{Stadt, Pilger, spenden, ol, Berg, verlangen, ...</td>\n",
       "      <td>34</td>\n",
       "      <td>1.0</td>\n",
       "    </tr>\n",
       "    <tr>\n",
       "      <th>21</th>\n",
       "      <td>Einmal</td>\n",
       "      <td>21</td>\n",
       "      <td>Pop</td>\n",
       "      <td>{verbrennen, Katze, Bild, Fuß, Fahrräd, Taube,...</td>\n",
       "      <td>27</td>\n",
       "      <td>1.0</td>\n",
       "    </tr>\n",
       "    <tr>\n",
       "      <th>22</th>\n",
       "      <td>German Dream 2012</td>\n",
       "      <td>22</td>\n",
       "      <td>Rap</td>\n",
       "      <td>{längst, Hoff, einfach, wissen, Türe, fährst, ...</td>\n",
       "      <td>91</td>\n",
       "      <td>1.0</td>\n",
       "    </tr>\n",
       "    <tr>\n",
       "      <th>23</th>\n",
       "      <td>Mein Teil</td>\n",
       "      <td>23</td>\n",
       "      <td>Rock</td>\n",
       "      <td>{dreißigjährig, schneideen, Wolkendach, Wein, ...</td>\n",
       "      <td>44</td>\n",
       "      <td>1.0</td>\n",
       "    </tr>\n",
       "    <tr>\n",
       "      <th>24</th>\n",
       "      <td>Metapher Than Leather</td>\n",
       "      <td>24</td>\n",
       "      <td>Rap</td>\n",
       "      <td>{zuletzt, wissen, setz, Zacke, Stellung, Schlu...</td>\n",
       "      <td>89</td>\n",
       "      <td>1.0</td>\n",
       "    </tr>\n",
       "    <tr>\n",
       "      <th>25</th>\n",
       "      <td>Aber Besser Wär's</td>\n",
       "      <td>25</td>\n",
       "      <td>Rock</td>\n",
       "      <td>{einfach, klein, schreiben, Fernseher, manchma...</td>\n",
       "      <td>27</td>\n",
       "      <td>1.0</td>\n",
       "    </tr>\n",
       "    <tr>\n",
       "      <th>26</th>\n",
       "      <td>Raubkopierah</td>\n",
       "      <td>26</td>\n",
       "      <td>Rap</td>\n",
       "      <td>{gucken, Space, kaputt, Berg, einfach, halten,...</td>\n",
       "      <td>133</td>\n",
       "      <td>1.0</td>\n",
       "    </tr>\n",
       "    <tr>\n",
       "      <th>27</th>\n",
       "      <td>Fornika</td>\n",
       "      <td>27</td>\n",
       "      <td>Rap</td>\n",
       "      <td>{reden, Rohr, lebend, durchdringen, Land, umsc...</td>\n",
       "      <td>135</td>\n",
       "      <td>1.0</td>\n",
       "    </tr>\n",
       "    <tr>\n",
       "      <th>28</th>\n",
       "      <td>Noch Zu Lernen</td>\n",
       "      <td>28</td>\n",
       "      <td>Rap</td>\n",
       "      <td>{würdeen, denkn, freuen, Hoff, einfach, Wein, ...</td>\n",
       "      <td>107</td>\n",
       "      <td>1.0</td>\n",
       "    </tr>\n",
       "    <tr>\n",
       "      <th>29</th>\n",
       "      <td>Alter Mann</td>\n",
       "      <td>29</td>\n",
       "      <td>Rock</td>\n",
       "      <td>{brauchen, Vulkan, scheinen, fragen, legen, ru...</td>\n",
       "      <td>52</td>\n",
       "      <td>1.0</td>\n",
       "    </tr>\n",
       "    <tr>\n",
       "      <th>30</th>\n",
       "      <td>Nacht</td>\n",
       "      <td>30</td>\n",
       "      <td>Rock</td>\n",
       "      <td>{Stufe, Flur, brauchen, Welt, heut, fühlen, Sc...</td>\n",
       "      <td>34</td>\n",
       "      <td>1.0</td>\n",
       "    </tr>\n",
       "    <tr>\n",
       "      <th>31</th>\n",
       "      <td>Für immer</td>\n",
       "      <td>31</td>\n",
       "      <td>Rock</td>\n",
       "      <td>{brauchen, kennen, fühlsen, still, unerreichba...</td>\n",
       "      <td>25</td>\n",
       "      <td>1.0</td>\n",
       "    </tr>\n",
       "    <tr>\n",
       "      <th>32</th>\n",
       "      <td>Mehr als lebensgefährlich</td>\n",
       "      <td>32</td>\n",
       "      <td>Rap</td>\n",
       "      <td>{Mach, Dauert, Katze, einstellen, Domain, dros...</td>\n",
       "      <td>91</td>\n",
       "      <td>1.0</td>\n",
       "    </tr>\n",
       "    <tr>\n",
       "      <th>33</th>\n",
       "      <td>Panic</td>\n",
       "      <td>33</td>\n",
       "      <td>Rap</td>\n",
       "      <td>{reden, Tier, Marsmensch, Bong, Ladekabel, Tab...</td>\n",
       "      <td>158</td>\n",
       "      <td>1.0</td>\n",
       "    </tr>\n",
       "    <tr>\n",
       "      <th>34</th>\n",
       "      <td>Für immer die Menschen</td>\n",
       "      <td>34</td>\n",
       "      <td>Rock</td>\n",
       "      <td>{liebst, lassen, Welt, fern, Trost, glauben, L...</td>\n",
       "      <td>44</td>\n",
       "      <td>1.0</td>\n",
       "    </tr>\n",
       "    <tr>\n",
       "      <th>35</th>\n",
       "      <td>Rost</td>\n",
       "      <td>35</td>\n",
       "      <td>Rap</td>\n",
       "      <td>{Scham, Nadelstreif, fern, Schuh, freuen, zule...</td>\n",
       "      <td>166</td>\n",
       "      <td>1.0</td>\n",
       "    </tr>\n",
       "    <tr>\n",
       "      <th>36</th>\n",
       "      <td>Alphatier</td>\n",
       "      <td>36</td>\n",
       "      <td>Rock</td>\n",
       "      <td>{durchkommen, Glaube, leiden, genieren, Leben,...</td>\n",
       "      <td>37</td>\n",
       "      <td>1.0</td>\n",
       "    </tr>\n",
       "    <tr>\n",
       "      <th>37</th>\n",
       "      <td>Sonntagmorgen</td>\n",
       "      <td>37</td>\n",
       "      <td>Schlager</td>\n",
       "      <td>{selber, strahlen, Ruhe, Zuhaus, Welt, lang, S...</td>\n",
       "      <td>35</td>\n",
       "      <td>1.0</td>\n",
       "    </tr>\n",
       "    <tr>\n",
       "      <th>38</th>\n",
       "      <td>Unterwegs</td>\n",
       "      <td>38</td>\n",
       "      <td>Schlager</td>\n",
       "      <td>{Freund, Braut, verspielen, Feuer, verbrennen,...</td>\n",
       "      <td>41</td>\n",
       "      <td>1.0</td>\n",
       "    </tr>\n",
       "    <tr>\n",
       "      <th>39</th>\n",
       "      <td>Nein danke</td>\n",
       "      <td>39</td>\n",
       "      <td>Pop</td>\n",
       "      <td>{brauchen, längst, tun, besitzen, Regel, steck...</td>\n",
       "      <td>43</td>\n",
       "      <td>1.0</td>\n",
       "    </tr>\n",
       "    <tr>\n",
       "      <th>40</th>\n",
       "      <td>Warten auf den starken Mann</td>\n",
       "      <td>40</td>\n",
       "      <td>Rock</td>\n",
       "      <td>{brauchen, reden, lässt, Wand, irgendwann, Lüg...</td>\n",
       "      <td>76</td>\n",
       "      <td>1.0</td>\n",
       "    </tr>\n",
       "    <tr>\n",
       "      <th>41</th>\n",
       "      <td>SeXy</td>\n",
       "      <td>41</td>\n",
       "      <td>Rock</td>\n",
       "      <td>{lässt, tun, lang, mach, Hof, Waffe, aufwachen...</td>\n",
       "      <td>31</td>\n",
       "      <td>1.0</td>\n",
       "    </tr>\n",
       "    <tr>\n",
       "      <th>42</th>\n",
       "      <td>Frag mich nicht</td>\n",
       "      <td>42</td>\n",
       "      <td>Pop</td>\n",
       "      <td>{brauchen, lähmen, tun, spür, verlangen, zerre...</td>\n",
       "      <td>30</td>\n",
       "      <td>1.0</td>\n",
       "    </tr>\n",
       "    <tr>\n",
       "      <th>43</th>\n",
       "      <td>Einer fehlt</td>\n",
       "      <td>43</td>\n",
       "      <td>Schlager</td>\n",
       "      <td>{Stadt, abend, Freund, Gesicht, Refrain, Motor...</td>\n",
       "      <td>40</td>\n",
       "      <td>1.0</td>\n",
       "    </tr>\n",
       "    <tr>\n",
       "      <th>44</th>\n",
       "      <td>Rasierklingenliebe</td>\n",
       "      <td>44</td>\n",
       "      <td>Rap</td>\n",
       "      <td>{Sicht, Berg, einfach, Herd, miefend, Dreck, w...</td>\n",
       "      <td>152</td>\n",
       "      <td>1.0</td>\n",
       "    </tr>\n",
       "    <tr>\n",
       "      <th>45</th>\n",
       "      <td>Gloria Halleluja Amen</td>\n",
       "      <td>45</td>\n",
       "      <td>Schlager</td>\n",
       "      <td>{Mensch, Komm, Samen, rein, Schwein, rufen, Se...</td>\n",
       "      <td>7</td>\n",
       "      <td>1.0</td>\n",
       "    </tr>\n",
       "    <tr>\n",
       "      <th>46</th>\n",
       "      <td>Straße 2</td>\n",
       "      <td>46</td>\n",
       "      <td>Rap</td>\n",
       "      <td>{reden, mollig, schminken, Rumgebelle, kriegst...</td>\n",
       "      <td>92</td>\n",
       "      <td>1.0</td>\n",
       "    </tr>\n",
       "    <tr>\n",
       "      <th>47</th>\n",
       "      <td>Es muss was Wunderbares sein von mir geliebt ...</td>\n",
       "      <td>47</td>\n",
       "      <td>Rock</td>\n",
       "      <td>{Name, Hobby, Stunde, Bisswunde, Flair, Herzen...</td>\n",
       "      <td>58</td>\n",
       "      <td>1.0</td>\n",
       "    </tr>\n",
       "    <tr>\n",
       "      <th>48</th>\n",
       "      <td>Jack</td>\n",
       "      <td>48</td>\n",
       "      <td>Rock</td>\n",
       "      <td>{Freund, Überholverbot, abend, erreichen, vors...</td>\n",
       "      <td>57</td>\n",
       "      <td>1.0</td>\n",
       "    </tr>\n",
       "    <tr>\n",
       "      <th>49</th>\n",
       "      <td>Schlaffmittel</td>\n",
       "      <td>49</td>\n",
       "      <td>Rap</td>\n",
       "      <td>{reden, Hobby, pur, Suche, Kohle, Toilette, Me...</td>\n",
       "      <td>134</td>\n",
       "      <td>1.0</td>\n",
       "    </tr>\n",
       "    <tr>\n",
       "      <th>50</th>\n",
       "      <td>Sonnensystem</td>\n",
       "      <td>50</td>\n",
       "      <td>Rock</td>\n",
       "      <td>{egal, Freund, halten, verbrennen, Arm, glaube...</td>\n",
       "      <td>43</td>\n",
       "      <td>1.0</td>\n",
       "    </tr>\n",
       "    <tr>\n",
       "      <th>51</th>\n",
       "      <td>Kadett</td>\n",
       "      <td>51</td>\n",
       "      <td>Pop</td>\n",
       "      <td>{beleuchten, lässt, Autonummer, groß, scharf, ...</td>\n",
       "      <td>60</td>\n",
       "      <td>1.0</td>\n",
       "    </tr>\n",
       "    <tr>\n",
       "      <th>52</th>\n",
       "      <td>Gestern Nacht</td>\n",
       "      <td>52</td>\n",
       "      <td>Pop</td>\n",
       "      <td>{gestern, Wahrheit, Welt, glauben, weissen, wi...</td>\n",
       "      <td>25</td>\n",
       "      <td>1.0</td>\n",
       "    </tr>\n",
       "    <tr>\n",
       "      <th>53</th>\n",
       "      <td>Zu Straße</td>\n",
       "      <td>53</td>\n",
       "      <td>Rap</td>\n",
       "      <td>{Schlagstock, Quere, einfach, Briefkasten, Woh...</td>\n",
       "      <td>99</td>\n",
       "      <td>1.0</td>\n",
       "    </tr>\n",
       "    <tr>\n",
       "      <th>54</th>\n",
       "      <td>Du gehörst zu mir</td>\n",
       "      <td>54</td>\n",
       "      <td>Schlager</td>\n",
       "      <td>{kennen, hingehören, Glaube, halten, Königin, ...</td>\n",
       "      <td>37</td>\n",
       "      <td>1.0</td>\n",
       "    </tr>\n",
       "    <tr>\n",
       "      <th>55</th>\n",
       "      <td>Teenager vom Mars</td>\n",
       "      <td>55</td>\n",
       "      <td>Rap</td>\n",
       "      <td>{Stacheldraht, gucken, Welt, landen, drücken, ...</td>\n",
       "      <td>52</td>\n",
       "      <td>1.0</td>\n",
       "    </tr>\n",
       "    <tr>\n",
       "      <th>56</th>\n",
       "      <td>Baby</td>\n",
       "      <td>56</td>\n",
       "      <td>Rock</td>\n",
       "      <td>{längst, Tier, kriegst, sorgen, Haltung, Mensc...</td>\n",
       "      <td>100</td>\n",
       "      <td>1.0</td>\n",
       "    </tr>\n",
       "    <tr>\n",
       "      <th>57</th>\n",
       "      <td>Ich hasse Dich</td>\n",
       "      <td>57</td>\n",
       "      <td>Rap</td>\n",
       "      <td>{erreichen, kaputt, einfach, schreiben, Waffe,...</td>\n",
       "      <td>122</td>\n",
       "      <td>1.0</td>\n",
       "    </tr>\n",
       "    <tr>\n",
       "      <th>58</th>\n",
       "      <td>Keine Angst</td>\n",
       "      <td>58</td>\n",
       "      <td>Pop</td>\n",
       "      <td>{egal, gestern, reden, befreien, Vergangenheit...</td>\n",
       "      <td>54</td>\n",
       "      <td>1.0</td>\n",
       "    </tr>\n",
       "  </tbody>\n",
       "</table>\n",
       "</div>"
      ],
      "text/plain": [
       "                                           song_title  lyric_num    genres   \n",
       "0                                               Danke          0       Pop  \\\n",
       "1                               Die Suche geht weiter          1       Pop   \n",
       "2                                      Gegen die Wand          2       Rap   \n",
       "3                                        Der Malocher          3      Rock   \n",
       "4                                           Ins Blaue          4       Pop   \n",
       "5                                 Die Welt Dreht sich          5       Pop   \n",
       "6                                   Wenn wir schlafen          6       Pop   \n",
       "7                                 Irgendwo dazwischen          7       Pop   \n",
       "8                                           Unkenrufe          8       Pop   \n",
       "9                                       Player 4 Life          9       Rap   \n",
       "10                                     Zwoa Zigarettn         10  Schlager   \n",
       "11                                            Rapgame         11       Rap   \n",
       "12                                          Mein Blut         12       Rap   \n",
       "13                                  Dschungel im Kopf         13       Pop   \n",
       "14                                       Wellenreiten         14      Rock   \n",
       "15                           Was würde Manny Marc tun         15       Rap   \n",
       "16                        Nick bis dein Genick bricht         16       Rap   \n",
       "17                                               Anna         17       Pop   \n",
       "18                                    Richtig Scheiße         18      Rock   \n",
       "19                                Alice im Wunderland         19  Schlager   \n",
       "20                                          Jerusalem         20       Rap   \n",
       "21                                             Einmal         21       Pop   \n",
       "22                                  German Dream 2012         22       Rap   \n",
       "23                                          Mein Teil         23      Rock   \n",
       "24                              Metapher Than Leather         24       Rap   \n",
       "25                                  Aber Besser Wär's         25      Rock   \n",
       "26                                       Raubkopierah         26       Rap   \n",
       "27                                            Fornika         27       Rap   \n",
       "28                                     Noch Zu Lernen         28       Rap   \n",
       "29                                         Alter Mann         29      Rock   \n",
       "30                                              Nacht         30      Rock   \n",
       "31                                          Für immer         31      Rock   \n",
       "32                          Mehr als lebensgefährlich         32       Rap   \n",
       "33                                              Panic         33       Rap   \n",
       "34                             Für immer die Menschen         34      Rock   \n",
       "35                                               Rost         35       Rap   \n",
       "36                                          Alphatier         36      Rock   \n",
       "37                                      Sonntagmorgen         37  Schlager   \n",
       "38                                          Unterwegs         38  Schlager   \n",
       "39                                         Nein danke         39       Pop   \n",
       "40                        Warten auf den starken Mann         40      Rock   \n",
       "41                                               SeXy         41      Rock   \n",
       "42                                    Frag mich nicht         42       Pop   \n",
       "43                                        Einer fehlt         43  Schlager   \n",
       "44                                 Rasierklingenliebe         44       Rap   \n",
       "45                              Gloria Halleluja Amen         45  Schlager   \n",
       "46                                           Straße 2         46       Rap   \n",
       "47   Es muss was Wunderbares sein von mir geliebt ...         47      Rock   \n",
       "48                                               Jack         48      Rock   \n",
       "49                                      Schlaffmittel         49       Rap   \n",
       "50                                       Sonnensystem         50      Rock   \n",
       "51                                             Kadett         51       Pop   \n",
       "52                                      Gestern Nacht         52       Pop   \n",
       "53                                          Zu Straße         53       Rap   \n",
       "54                                  Du gehörst zu mir         54  Schlager   \n",
       "55                                  Teenager vom Mars         55       Rap   \n",
       "56                                               Baby         56      Rock   \n",
       "57                                     Ich hasse Dich         57       Rap   \n",
       "58                                        Keine Angst         58       Pop   \n",
       "\n",
       "                                         unique_words  unique_words_len  score  \n",
       "0   {stattdessen, spenden, tun, hinterlassen, Welt...                57    1.0  \n",
       "1   {scheinen, strahlen, Atem, fragen, einfach, ha...                37    1.0  \n",
       "2   {reden, erreichen, frontet, Competition, schre...                95    1.0  \n",
       "3   {schlucken, Weib, Zuhaus, TV, Klasse, glauben,...                74    1.0  \n",
       "4   {egal, Stadt, scheinen, yeah, einfach, fließen...                48    1.0  \n",
       "5   {längst, Wintertag, fast, Bedeutung, Welt, fra...                69    1.0  \n",
       "6   {Stadt, Kiosk, sauber, Balkon, Haus, Pisse, üb...                22    1.0  \n",
       "7   {Freund, tuts, verleihen, fern, kaputt, Bauch,...                31    1.0  \n",
       "8   {egal, Sicht, Gesicht, Stunde, Bild, Fuß, Hint...                48    1.0  \n",
       "9   {einfach, heut, schreiben, wissen, Weg, erkenn...                94    1.0  \n",
       "10  {brauchen, verdufen, fast, umanand, echt, wiss...                51    1.0  \n",
       "11  {mitten, versprechen, halten, Geduld, abwarten...               140    1.0  \n",
       "12  {Sicht, ausdrücken, Schuh, Stube, Besonderer, ...               116    1.0  \n",
       "13  {Baumkrone, mach, Kämpf, weg, Fang, Dschungel,...                52    1.0  \n",
       "14  {längst, umgiben, Suchender, perfeckt, Surfer,...                41    1.0  \n",
       "15  {längst, einfach, abgetrieben, heut, geistig, ...               145    1.0  \n",
       "16  {Braut, Start, Clique, schreiben, wissen, Ärsc...                84    1.0  \n",
       "17  {brauchen, lässt, Hältst, wirken, Gesicht, ein...                59    1.0  \n",
       "18  {kennen, Züruck, kratzen, mach, Refrain, weiss...                57    1.0  \n",
       "19  {Freund, Ziel, Wahrheit, Welt, Sonnenlicht, ha...                57    1.0  \n",
       "20  {Stadt, Pilger, spenden, ol, Berg, verlangen, ...                34    1.0  \n",
       "21  {verbrennen, Katze, Bild, Fuß, Fahrräd, Taube,...                27    1.0  \n",
       "22  {längst, Hoff, einfach, wissen, Türe, fährst, ...                91    1.0  \n",
       "23  {dreißigjährig, schneideen, Wolkendach, Wein, ...                44    1.0  \n",
       "24  {zuletzt, wissen, setz, Zacke, Stellung, Schlu...                89    1.0  \n",
       "25  {einfach, klein, schreiben, Fernseher, manchma...                27    1.0  \n",
       "26  {gucken, Space, kaputt, Berg, einfach, halten,...               133    1.0  \n",
       "27  {reden, Rohr, lebend, durchdringen, Land, umsc...               135    1.0  \n",
       "28  {würdeen, denkn, freuen, Hoff, einfach, Wein, ...               107    1.0  \n",
       "29  {brauchen, Vulkan, scheinen, fragen, legen, ru...                52    1.0  \n",
       "30  {Stufe, Flur, brauchen, Welt, heut, fühlen, Sc...                34    1.0  \n",
       "31  {brauchen, kennen, fühlsen, still, unerreichba...                25    1.0  \n",
       "32  {Mach, Dauert, Katze, einstellen, Domain, dros...                91    1.0  \n",
       "33  {reden, Tier, Marsmensch, Bong, Ladekabel, Tab...               158    1.0  \n",
       "34  {liebst, lassen, Welt, fern, Trost, glauben, L...                44    1.0  \n",
       "35  {Scham, Nadelstreif, fern, Schuh, freuen, zule...               166    1.0  \n",
       "36  {durchkommen, Glaube, leiden, genieren, Leben,...                37    1.0  \n",
       "37  {selber, strahlen, Ruhe, Zuhaus, Welt, lang, S...                35    1.0  \n",
       "38  {Freund, Braut, verspielen, Feuer, verbrennen,...                41    1.0  \n",
       "39  {brauchen, längst, tun, besitzen, Regel, steck...                43    1.0  \n",
       "40  {brauchen, reden, lässt, Wand, irgendwann, Lüg...                76    1.0  \n",
       "41  {lässt, tun, lang, mach, Hof, Waffe, aufwachen...                31    1.0  \n",
       "42  {brauchen, lähmen, tun, spür, verlangen, zerre...                30    1.0  \n",
       "43  {Stadt, abend, Freund, Gesicht, Refrain, Motor...                40    1.0  \n",
       "44  {Sicht, Berg, einfach, Herd, miefend, Dreck, w...               152    1.0  \n",
       "45  {Mensch, Komm, Samen, rein, Schwein, rufen, Se...                 7    1.0  \n",
       "46  {reden, mollig, schminken, Rumgebelle, kriegst...                92    1.0  \n",
       "47  {Name, Hobby, Stunde, Bisswunde, Flair, Herzen...                58    1.0  \n",
       "48  {Freund, Überholverbot, abend, erreichen, vors...                57    1.0  \n",
       "49  {reden, Hobby, pur, Suche, Kohle, Toilette, Me...               134    1.0  \n",
       "50  {egal, Freund, halten, verbrennen, Arm, glaube...                43    1.0  \n",
       "51  {beleuchten, lässt, Autonummer, groß, scharf, ...                60    1.0  \n",
       "52  {gestern, Wahrheit, Welt, glauben, weissen, wi...                25    1.0  \n",
       "53  {Schlagstock, Quere, einfach, Briefkasten, Woh...                99    1.0  \n",
       "54  {kennen, hingehören, Glaube, halten, Königin, ...                37    1.0  \n",
       "55  {Stacheldraht, gucken, Welt, landen, drücken, ...                52    1.0  \n",
       "56  {längst, Tier, kriegst, sorgen, Haltung, Mensc...               100    1.0  \n",
       "57  {erreichen, kaputt, einfach, schreiben, Waffe,...               122    1.0  \n",
       "58  {egal, gestern, reden, befreien, Vergangenheit...                54    1.0  "
      ]
     },
     "execution_count": 103,
     "metadata": {},
     "output_type": "execute_result"
    }
   ],
   "source": [
    "song_variety_df"
   ]
  },
  {
   "cell_type": "code",
   "execution_count": 115,
   "metadata": {},
   "outputs": [
    {
     "data": {
      "application/vnd.plotly.v1+json": {
       "config": {
        "plotlyServerURL": "https://plot.ly"
       },
       "data": [
        {
         "alignmentgroup": "True",
         "hovertemplate": "genres=%{x}<br>unique_words_len=%{y}<extra></extra>",
         "legendgroup": "",
         "marker": {
          "color": "#636efa"
         },
         "name": "",
         "notched": false,
         "offsetgroup": "",
         "orientation": "v",
         "showlegend": false,
         "type": "box",
         "x": [
          "Pop",
          "Pop",
          "Rap",
          "Rock",
          "Pop",
          "Pop",
          "Pop",
          "Pop",
          "Pop",
          "Rap",
          "Schlager",
          "Rap",
          "Rap",
          "Pop",
          "Rock",
          "Rap",
          "Rap",
          "Pop",
          "Rock",
          "Schlager",
          "Rap",
          "Pop",
          "Rap",
          "Rock",
          "Rap",
          "Rock",
          "Rap",
          "Rap",
          "Rap",
          "Rock",
          "Rock",
          "Rock",
          "Rap",
          "Rap",
          "Rock",
          "Rap",
          "Rock",
          "Schlager",
          "Schlager",
          "Pop",
          "Rock",
          "Rock",
          "Pop",
          "Schlager",
          "Rap",
          "Schlager",
          "Rap",
          "Rock",
          "Rock",
          "Rap",
          "Rock",
          "Pop",
          "Pop",
          "Rap",
          "Schlager",
          "Rap",
          "Rock",
          "Rap",
          "Pop"
         ],
         "x0": " ",
         "xaxis": "x",
         "y": [
          57,
          37,
          95,
          74,
          48,
          69,
          22,
          31,
          48,
          94,
          51,
          140,
          116,
          52,
          41,
          145,
          84,
          59,
          57,
          57,
          34,
          27,
          91,
          44,
          89,
          27,
          133,
          135,
          107,
          52,
          34,
          25,
          91,
          158,
          44,
          166,
          37,
          35,
          41,
          43,
          76,
          31,
          30,
          40,
          152,
          7,
          92,
          58,
          57,
          134,
          43,
          60,
          25,
          99,
          37,
          52,
          100,
          122,
          54
         ],
         "y0": " ",
         "yaxis": "y"
        }
       ],
       "layout": {
        "boxmode": "group",
        "legend": {
         "tracegroupgap": 0
        },
        "template": {
         "data": {
          "bar": [
           {
            "error_x": {
             "color": "#2a3f5f"
            },
            "error_y": {
             "color": "#2a3f5f"
            },
            "marker": {
             "line": {
              "color": "#E5ECF6",
              "width": 0.5
             },
             "pattern": {
              "fillmode": "overlay",
              "size": 10,
              "solidity": 0.2
             }
            },
            "type": "bar"
           }
          ],
          "barpolar": [
           {
            "marker": {
             "line": {
              "color": "#E5ECF6",
              "width": 0.5
             },
             "pattern": {
              "fillmode": "overlay",
              "size": 10,
              "solidity": 0.2
             }
            },
            "type": "barpolar"
           }
          ],
          "carpet": [
           {
            "aaxis": {
             "endlinecolor": "#2a3f5f",
             "gridcolor": "white",
             "linecolor": "white",
             "minorgridcolor": "white",
             "startlinecolor": "#2a3f5f"
            },
            "baxis": {
             "endlinecolor": "#2a3f5f",
             "gridcolor": "white",
             "linecolor": "white",
             "minorgridcolor": "white",
             "startlinecolor": "#2a3f5f"
            },
            "type": "carpet"
           }
          ],
          "choropleth": [
           {
            "colorbar": {
             "outlinewidth": 0,
             "ticks": ""
            },
            "type": "choropleth"
           }
          ],
          "contour": [
           {
            "colorbar": {
             "outlinewidth": 0,
             "ticks": ""
            },
            "colorscale": [
             [
              0,
              "#0d0887"
             ],
             [
              0.1111111111111111,
              "#46039f"
             ],
             [
              0.2222222222222222,
              "#7201a8"
             ],
             [
              0.3333333333333333,
              "#9c179e"
             ],
             [
              0.4444444444444444,
              "#bd3786"
             ],
             [
              0.5555555555555556,
              "#d8576b"
             ],
             [
              0.6666666666666666,
              "#ed7953"
             ],
             [
              0.7777777777777778,
              "#fb9f3a"
             ],
             [
              0.8888888888888888,
              "#fdca26"
             ],
             [
              1,
              "#f0f921"
             ]
            ],
            "type": "contour"
           }
          ],
          "contourcarpet": [
           {
            "colorbar": {
             "outlinewidth": 0,
             "ticks": ""
            },
            "type": "contourcarpet"
           }
          ],
          "heatmap": [
           {
            "colorbar": {
             "outlinewidth": 0,
             "ticks": ""
            },
            "colorscale": [
             [
              0,
              "#0d0887"
             ],
             [
              0.1111111111111111,
              "#46039f"
             ],
             [
              0.2222222222222222,
              "#7201a8"
             ],
             [
              0.3333333333333333,
              "#9c179e"
             ],
             [
              0.4444444444444444,
              "#bd3786"
             ],
             [
              0.5555555555555556,
              "#d8576b"
             ],
             [
              0.6666666666666666,
              "#ed7953"
             ],
             [
              0.7777777777777778,
              "#fb9f3a"
             ],
             [
              0.8888888888888888,
              "#fdca26"
             ],
             [
              1,
              "#f0f921"
             ]
            ],
            "type": "heatmap"
           }
          ],
          "heatmapgl": [
           {
            "colorbar": {
             "outlinewidth": 0,
             "ticks": ""
            },
            "colorscale": [
             [
              0,
              "#0d0887"
             ],
             [
              0.1111111111111111,
              "#46039f"
             ],
             [
              0.2222222222222222,
              "#7201a8"
             ],
             [
              0.3333333333333333,
              "#9c179e"
             ],
             [
              0.4444444444444444,
              "#bd3786"
             ],
             [
              0.5555555555555556,
              "#d8576b"
             ],
             [
              0.6666666666666666,
              "#ed7953"
             ],
             [
              0.7777777777777778,
              "#fb9f3a"
             ],
             [
              0.8888888888888888,
              "#fdca26"
             ],
             [
              1,
              "#f0f921"
             ]
            ],
            "type": "heatmapgl"
           }
          ],
          "histogram": [
           {
            "marker": {
             "pattern": {
              "fillmode": "overlay",
              "size": 10,
              "solidity": 0.2
             }
            },
            "type": "histogram"
           }
          ],
          "histogram2d": [
           {
            "colorbar": {
             "outlinewidth": 0,
             "ticks": ""
            },
            "colorscale": [
             [
              0,
              "#0d0887"
             ],
             [
              0.1111111111111111,
              "#46039f"
             ],
             [
              0.2222222222222222,
              "#7201a8"
             ],
             [
              0.3333333333333333,
              "#9c179e"
             ],
             [
              0.4444444444444444,
              "#bd3786"
             ],
             [
              0.5555555555555556,
              "#d8576b"
             ],
             [
              0.6666666666666666,
              "#ed7953"
             ],
             [
              0.7777777777777778,
              "#fb9f3a"
             ],
             [
              0.8888888888888888,
              "#fdca26"
             ],
             [
              1,
              "#f0f921"
             ]
            ],
            "type": "histogram2d"
           }
          ],
          "histogram2dcontour": [
           {
            "colorbar": {
             "outlinewidth": 0,
             "ticks": ""
            },
            "colorscale": [
             [
              0,
              "#0d0887"
             ],
             [
              0.1111111111111111,
              "#46039f"
             ],
             [
              0.2222222222222222,
              "#7201a8"
             ],
             [
              0.3333333333333333,
              "#9c179e"
             ],
             [
              0.4444444444444444,
              "#bd3786"
             ],
             [
              0.5555555555555556,
              "#d8576b"
             ],
             [
              0.6666666666666666,
              "#ed7953"
             ],
             [
              0.7777777777777778,
              "#fb9f3a"
             ],
             [
              0.8888888888888888,
              "#fdca26"
             ],
             [
              1,
              "#f0f921"
             ]
            ],
            "type": "histogram2dcontour"
           }
          ],
          "mesh3d": [
           {
            "colorbar": {
             "outlinewidth": 0,
             "ticks": ""
            },
            "type": "mesh3d"
           }
          ],
          "parcoords": [
           {
            "line": {
             "colorbar": {
              "outlinewidth": 0,
              "ticks": ""
             }
            },
            "type": "parcoords"
           }
          ],
          "pie": [
           {
            "automargin": true,
            "type": "pie"
           }
          ],
          "scatter": [
           {
            "fillpattern": {
             "fillmode": "overlay",
             "size": 10,
             "solidity": 0.2
            },
            "type": "scatter"
           }
          ],
          "scatter3d": [
           {
            "line": {
             "colorbar": {
              "outlinewidth": 0,
              "ticks": ""
             }
            },
            "marker": {
             "colorbar": {
              "outlinewidth": 0,
              "ticks": ""
             }
            },
            "type": "scatter3d"
           }
          ],
          "scattercarpet": [
           {
            "marker": {
             "colorbar": {
              "outlinewidth": 0,
              "ticks": ""
             }
            },
            "type": "scattercarpet"
           }
          ],
          "scattergeo": [
           {
            "marker": {
             "colorbar": {
              "outlinewidth": 0,
              "ticks": ""
             }
            },
            "type": "scattergeo"
           }
          ],
          "scattergl": [
           {
            "marker": {
             "colorbar": {
              "outlinewidth": 0,
              "ticks": ""
             }
            },
            "type": "scattergl"
           }
          ],
          "scattermapbox": [
           {
            "marker": {
             "colorbar": {
              "outlinewidth": 0,
              "ticks": ""
             }
            },
            "type": "scattermapbox"
           }
          ],
          "scatterpolar": [
           {
            "marker": {
             "colorbar": {
              "outlinewidth": 0,
              "ticks": ""
             }
            },
            "type": "scatterpolar"
           }
          ],
          "scatterpolargl": [
           {
            "marker": {
             "colorbar": {
              "outlinewidth": 0,
              "ticks": ""
             }
            },
            "type": "scatterpolargl"
           }
          ],
          "scatterternary": [
           {
            "marker": {
             "colorbar": {
              "outlinewidth": 0,
              "ticks": ""
             }
            },
            "type": "scatterternary"
           }
          ],
          "surface": [
           {
            "colorbar": {
             "outlinewidth": 0,
             "ticks": ""
            },
            "colorscale": [
             [
              0,
              "#0d0887"
             ],
             [
              0.1111111111111111,
              "#46039f"
             ],
             [
              0.2222222222222222,
              "#7201a8"
             ],
             [
              0.3333333333333333,
              "#9c179e"
             ],
             [
              0.4444444444444444,
              "#bd3786"
             ],
             [
              0.5555555555555556,
              "#d8576b"
             ],
             [
              0.6666666666666666,
              "#ed7953"
             ],
             [
              0.7777777777777778,
              "#fb9f3a"
             ],
             [
              0.8888888888888888,
              "#fdca26"
             ],
             [
              1,
              "#f0f921"
             ]
            ],
            "type": "surface"
           }
          ],
          "table": [
           {
            "cells": {
             "fill": {
              "color": "#EBF0F8"
             },
             "line": {
              "color": "white"
             }
            },
            "header": {
             "fill": {
              "color": "#C8D4E3"
             },
             "line": {
              "color": "white"
             }
            },
            "type": "table"
           }
          ]
         },
         "layout": {
          "annotationdefaults": {
           "arrowcolor": "#2a3f5f",
           "arrowhead": 0,
           "arrowwidth": 1
          },
          "autotypenumbers": "strict",
          "coloraxis": {
           "colorbar": {
            "outlinewidth": 0,
            "ticks": ""
           }
          },
          "colorscale": {
           "diverging": [
            [
             0,
             "#8e0152"
            ],
            [
             0.1,
             "#c51b7d"
            ],
            [
             0.2,
             "#de77ae"
            ],
            [
             0.3,
             "#f1b6da"
            ],
            [
             0.4,
             "#fde0ef"
            ],
            [
             0.5,
             "#f7f7f7"
            ],
            [
             0.6,
             "#e6f5d0"
            ],
            [
             0.7,
             "#b8e186"
            ],
            [
             0.8,
             "#7fbc41"
            ],
            [
             0.9,
             "#4d9221"
            ],
            [
             1,
             "#276419"
            ]
           ],
           "sequential": [
            [
             0,
             "#0d0887"
            ],
            [
             0.1111111111111111,
             "#46039f"
            ],
            [
             0.2222222222222222,
             "#7201a8"
            ],
            [
             0.3333333333333333,
             "#9c179e"
            ],
            [
             0.4444444444444444,
             "#bd3786"
            ],
            [
             0.5555555555555556,
             "#d8576b"
            ],
            [
             0.6666666666666666,
             "#ed7953"
            ],
            [
             0.7777777777777778,
             "#fb9f3a"
            ],
            [
             0.8888888888888888,
             "#fdca26"
            ],
            [
             1,
             "#f0f921"
            ]
           ],
           "sequentialminus": [
            [
             0,
             "#0d0887"
            ],
            [
             0.1111111111111111,
             "#46039f"
            ],
            [
             0.2222222222222222,
             "#7201a8"
            ],
            [
             0.3333333333333333,
             "#9c179e"
            ],
            [
             0.4444444444444444,
             "#bd3786"
            ],
            [
             0.5555555555555556,
             "#d8576b"
            ],
            [
             0.6666666666666666,
             "#ed7953"
            ],
            [
             0.7777777777777778,
             "#fb9f3a"
            ],
            [
             0.8888888888888888,
             "#fdca26"
            ],
            [
             1,
             "#f0f921"
            ]
           ]
          },
          "colorway": [
           "#636efa",
           "#EF553B",
           "#00cc96",
           "#ab63fa",
           "#FFA15A",
           "#19d3f3",
           "#FF6692",
           "#B6E880",
           "#FF97FF",
           "#FECB52"
          ],
          "font": {
           "color": "#2a3f5f"
          },
          "geo": {
           "bgcolor": "white",
           "lakecolor": "white",
           "landcolor": "#E5ECF6",
           "showlakes": true,
           "showland": true,
           "subunitcolor": "white"
          },
          "hoverlabel": {
           "align": "left"
          },
          "hovermode": "closest",
          "mapbox": {
           "style": "light"
          },
          "paper_bgcolor": "white",
          "plot_bgcolor": "#E5ECF6",
          "polar": {
           "angularaxis": {
            "gridcolor": "white",
            "linecolor": "white",
            "ticks": ""
           },
           "bgcolor": "#E5ECF6",
           "radialaxis": {
            "gridcolor": "white",
            "linecolor": "white",
            "ticks": ""
           }
          },
          "scene": {
           "xaxis": {
            "backgroundcolor": "#E5ECF6",
            "gridcolor": "white",
            "gridwidth": 2,
            "linecolor": "white",
            "showbackground": true,
            "ticks": "",
            "zerolinecolor": "white"
           },
           "yaxis": {
            "backgroundcolor": "#E5ECF6",
            "gridcolor": "white",
            "gridwidth": 2,
            "linecolor": "white",
            "showbackground": true,
            "ticks": "",
            "zerolinecolor": "white"
           },
           "zaxis": {
            "backgroundcolor": "#E5ECF6",
            "gridcolor": "white",
            "gridwidth": 2,
            "linecolor": "white",
            "showbackground": true,
            "ticks": "",
            "zerolinecolor": "white"
           }
          },
          "shapedefaults": {
           "line": {
            "color": "#2a3f5f"
           }
          },
          "ternary": {
           "aaxis": {
            "gridcolor": "white",
            "linecolor": "white",
            "ticks": ""
           },
           "baxis": {
            "gridcolor": "white",
            "linecolor": "white",
            "ticks": ""
           },
           "bgcolor": "#E5ECF6",
           "caxis": {
            "gridcolor": "white",
            "linecolor": "white",
            "ticks": ""
           }
          },
          "title": {
           "x": 0.05
          },
          "xaxis": {
           "automargin": true,
           "gridcolor": "white",
           "linecolor": "white",
           "ticks": "",
           "title": {
            "standoff": 15
           },
           "zerolinecolor": "white",
           "zerolinewidth": 2
          },
          "yaxis": {
           "automargin": true,
           "gridcolor": "white",
           "linecolor": "white",
           "ticks": "",
           "title": {
            "standoff": 15
           },
           "zerolinecolor": "white",
           "zerolinewidth": 2
          }
         }
        },
        "title": {
         "text": "Wie viele einzigartige Wörter gibt es in deutschen Songetxten"
        },
        "xaxis": {
         "anchor": "y",
         "domain": [
          0,
          1
         ],
         "title": {
          "text": "genres"
         }
        },
        "yaxis": {
         "anchor": "x",
         "domain": [
          0,
          1
         ],
         "title": {
          "text": "unique_words_len"
         }
        }
       }
      }
     },
     "metadata": {},
     "output_type": "display_data"
    }
   ],
   "source": [
    "song_variety_fig = song_variety_df.plot(kind=\"box\",  x=\"genres\", y=\"unique_words_len\", title=\"Wie viele einzigartige Wörter gibt es in deutschen Songetxten\")\n",
    "song_variety_fig.show()"
   ]
  },
  {
   "cell_type": "code",
   "execution_count": 119,
   "metadata": {},
   "outputs": [
    {
     "data": {
      "text/plain": [
       "4059"
      ]
     },
     "execution_count": 119,
     "metadata": {},
     "output_type": "execute_result"
    }
   ],
   "source": [
    "song_variety_df[\"unique_words_len\"].sum()"
   ]
  },
  {
   "cell_type": "code",
   "execution_count": 124,
   "metadata": {},
   "outputs": [
    {
     "data": {
      "text/html": [
       "<div>\n",
       "<style scoped>\n",
       "    .dataframe tbody tr th:only-of-type {\n",
       "        vertical-align: middle;\n",
       "    }\n",
       "\n",
       "    .dataframe tbody tr th {\n",
       "        vertical-align: top;\n",
       "    }\n",
       "\n",
       "    .dataframe thead th {\n",
       "        text-align: right;\n",
       "    }\n",
       "</style>\n",
       "<table border=\"1\" class=\"dataframe\">\n",
       "  <thead>\n",
       "    <tr style=\"text-align: right;\">\n",
       "      <th></th>\n",
       "      <th>word</th>\n",
       "      <th>count</th>\n",
       "    </tr>\n",
       "  </thead>\n",
       "  <tbody>\n",
       "    <tr>\n",
       "      <th>0</th>\n",
       "      <td>stattdessen</td>\n",
       "      <td>1</td>\n",
       "    </tr>\n",
       "    <tr>\n",
       "      <th>1</th>\n",
       "      <td>spenden</td>\n",
       "      <td>2</td>\n",
       "    </tr>\n",
       "    <tr>\n",
       "      <th>2</th>\n",
       "      <td>tun</td>\n",
       "      <td>10</td>\n",
       "    </tr>\n",
       "    <tr>\n",
       "      <th>3</th>\n",
       "      <td>hinterlassen</td>\n",
       "      <td>1</td>\n",
       "    </tr>\n",
       "    <tr>\n",
       "      <th>4</th>\n",
       "      <td>Welt</td>\n",
       "      <td>15</td>\n",
       "    </tr>\n",
       "    <tr>\n",
       "      <th>...</th>\n",
       "      <td>...</td>\n",
       "      <td>...</td>\n",
       "    </tr>\n",
       "    <tr>\n",
       "      <th>2442</th>\n",
       "      <td>Scheinwerfer</td>\n",
       "      <td>1</td>\n",
       "    </tr>\n",
       "    <tr>\n",
       "      <th>2443</th>\n",
       "      <td>Schlüssel</td>\n",
       "      <td>1</td>\n",
       "    </tr>\n",
       "    <tr>\n",
       "      <th>2444</th>\n",
       "      <td>angstn</td>\n",
       "      <td>1</td>\n",
       "    </tr>\n",
       "    <tr>\n",
       "      <th>2445</th>\n",
       "      <td>Bereeeit</td>\n",
       "      <td>1</td>\n",
       "    </tr>\n",
       "    <tr>\n",
       "      <th>2446</th>\n",
       "      <td>erleben</td>\n",
       "      <td>1</td>\n",
       "    </tr>\n",
       "  </tbody>\n",
       "</table>\n",
       "<p>2447 rows × 2 columns</p>\n",
       "</div>"
      ],
      "text/plain": [
       "              word  count\n",
       "0      stattdessen      1\n",
       "1          spenden      2\n",
       "2              tun     10\n",
       "3     hinterlassen      1\n",
       "4             Welt     15\n",
       "...            ...    ...\n",
       "2442  Scheinwerfer      1\n",
       "2443     Schlüssel      1\n",
       "2444        angstn      1\n",
       "2445      Bereeeit      1\n",
       "2446       erleben      1\n",
       "\n",
       "[2447 rows x 2 columns]"
      ]
     },
     "execution_count": 124,
     "metadata": {},
     "output_type": "execute_result"
    }
   ],
   "source": [
    "words_total_list = [ word for row in song_variety_df[\"unique_words\"] for word in row ]\n",
    "\n",
    "unique_word_count = {}\n",
    "for word in words_total_list:\n",
    "    if word in unique_word_count:\n",
    "        unique_word_count[word] += 1\n",
    "    else:\n",
    "        unique_word_count[word] = 1\n",
    "\n",
    "unique_word_count_df = pd.DataFrame(list(unique_word_count.items()), columns=['word', 'count'])\n",
    "unique_word_count_df\n"
   ]
  },
  {
   "cell_type": "code",
   "execution_count": 149,
   "metadata": {},
   "outputs": [
    {
     "data": {
      "application/vnd.plotly.v1+json": {
       "config": {
        "plotlyServerURL": "https://plot.ly"
       },
       "data": [
        {
         "hovertemplate": "Word: %{x}<br>Count: %{y}<br>Text: %{text}",
         "legendgroup": "",
         "line": {
          "color": "#636efa",
          "dash": "solid"
         },
         "marker": {
          "symbol": "circle"
         },
         "mode": "lines",
         "name": "",
         "orientation": "v",
         "showlegend": false,
         "type": "scatter",
         "x": [
          "wissen",
          "Leben",
          "schön",
          "sagen",
          "Nacht",
          "Welt",
          "sehen",
          "stehen",
          "bleiben",
          "einfach",
          "mal",
          "leben",
          "brauchen",
          "Hand",
          "Herz",
          "Mann",
          "Haus",
          "denken",
          "Kopf",
          "Gesicht",
          "schwer",
          "tun",
          "weg",
          "Weg",
          "letzter",
          "schnell",
          "lieben",
          "liegen",
          "verlieren",
          "Liebe",
          "raus",
          "Auge",
          "kommen",
          "Freund",
          "Straße",
          "heut",
          "schreien",
          "laufen",
          "schreiben",
          "fallen",
          "Traum",
          "passieren",
          "fühlen",
          "glauben",
          "kennen",
          "Bett",
          "kalt",
          "egal",
          "Kind",
          "reden"
         ],
         "xaxis": "x",
         "y": [
          23,
          17,
          16,
          16,
          15,
          15,
          15,
          15,
          14,
          14,
          13,
          13,
          13,
          12,
          12,
          12,
          12,
          12,
          11,
          10,
          10,
          10,
          10,
          10,
          10,
          10,
          10,
          9,
          9,
          9,
          9,
          9,
          9,
          9,
          9,
          9,
          8,
          8,
          8,
          8,
          8,
          8,
          8,
          8,
          8,
          8,
          7,
          7,
          7,
          7
         ],
         "yaxis": "y"
        }
       ],
       "layout": {
        "legend": {
         "tracegroupgap": 0
        },
        "template": {
         "data": {
          "bar": [
           {
            "error_x": {
             "color": "#2a3f5f"
            },
            "error_y": {
             "color": "#2a3f5f"
            },
            "marker": {
             "line": {
              "color": "#E5ECF6",
              "width": 0.5
             },
             "pattern": {
              "fillmode": "overlay",
              "size": 10,
              "solidity": 0.2
             }
            },
            "type": "bar"
           }
          ],
          "barpolar": [
           {
            "marker": {
             "line": {
              "color": "#E5ECF6",
              "width": 0.5
             },
             "pattern": {
              "fillmode": "overlay",
              "size": 10,
              "solidity": 0.2
             }
            },
            "type": "barpolar"
           }
          ],
          "carpet": [
           {
            "aaxis": {
             "endlinecolor": "#2a3f5f",
             "gridcolor": "white",
             "linecolor": "white",
             "minorgridcolor": "white",
             "startlinecolor": "#2a3f5f"
            },
            "baxis": {
             "endlinecolor": "#2a3f5f",
             "gridcolor": "white",
             "linecolor": "white",
             "minorgridcolor": "white",
             "startlinecolor": "#2a3f5f"
            },
            "type": "carpet"
           }
          ],
          "choropleth": [
           {
            "colorbar": {
             "outlinewidth": 0,
             "ticks": ""
            },
            "type": "choropleth"
           }
          ],
          "contour": [
           {
            "colorbar": {
             "outlinewidth": 0,
             "ticks": ""
            },
            "colorscale": [
             [
              0,
              "#0d0887"
             ],
             [
              0.1111111111111111,
              "#46039f"
             ],
             [
              0.2222222222222222,
              "#7201a8"
             ],
             [
              0.3333333333333333,
              "#9c179e"
             ],
             [
              0.4444444444444444,
              "#bd3786"
             ],
             [
              0.5555555555555556,
              "#d8576b"
             ],
             [
              0.6666666666666666,
              "#ed7953"
             ],
             [
              0.7777777777777778,
              "#fb9f3a"
             ],
             [
              0.8888888888888888,
              "#fdca26"
             ],
             [
              1,
              "#f0f921"
             ]
            ],
            "type": "contour"
           }
          ],
          "contourcarpet": [
           {
            "colorbar": {
             "outlinewidth": 0,
             "ticks": ""
            },
            "type": "contourcarpet"
           }
          ],
          "heatmap": [
           {
            "colorbar": {
             "outlinewidth": 0,
             "ticks": ""
            },
            "colorscale": [
             [
              0,
              "#0d0887"
             ],
             [
              0.1111111111111111,
              "#46039f"
             ],
             [
              0.2222222222222222,
              "#7201a8"
             ],
             [
              0.3333333333333333,
              "#9c179e"
             ],
             [
              0.4444444444444444,
              "#bd3786"
             ],
             [
              0.5555555555555556,
              "#d8576b"
             ],
             [
              0.6666666666666666,
              "#ed7953"
             ],
             [
              0.7777777777777778,
              "#fb9f3a"
             ],
             [
              0.8888888888888888,
              "#fdca26"
             ],
             [
              1,
              "#f0f921"
             ]
            ],
            "type": "heatmap"
           }
          ],
          "heatmapgl": [
           {
            "colorbar": {
             "outlinewidth": 0,
             "ticks": ""
            },
            "colorscale": [
             [
              0,
              "#0d0887"
             ],
             [
              0.1111111111111111,
              "#46039f"
             ],
             [
              0.2222222222222222,
              "#7201a8"
             ],
             [
              0.3333333333333333,
              "#9c179e"
             ],
             [
              0.4444444444444444,
              "#bd3786"
             ],
             [
              0.5555555555555556,
              "#d8576b"
             ],
             [
              0.6666666666666666,
              "#ed7953"
             ],
             [
              0.7777777777777778,
              "#fb9f3a"
             ],
             [
              0.8888888888888888,
              "#fdca26"
             ],
             [
              1,
              "#f0f921"
             ]
            ],
            "type": "heatmapgl"
           }
          ],
          "histogram": [
           {
            "marker": {
             "pattern": {
              "fillmode": "overlay",
              "size": 10,
              "solidity": 0.2
             }
            },
            "type": "histogram"
           }
          ],
          "histogram2d": [
           {
            "colorbar": {
             "outlinewidth": 0,
             "ticks": ""
            },
            "colorscale": [
             [
              0,
              "#0d0887"
             ],
             [
              0.1111111111111111,
              "#46039f"
             ],
             [
              0.2222222222222222,
              "#7201a8"
             ],
             [
              0.3333333333333333,
              "#9c179e"
             ],
             [
              0.4444444444444444,
              "#bd3786"
             ],
             [
              0.5555555555555556,
              "#d8576b"
             ],
             [
              0.6666666666666666,
              "#ed7953"
             ],
             [
              0.7777777777777778,
              "#fb9f3a"
             ],
             [
              0.8888888888888888,
              "#fdca26"
             ],
             [
              1,
              "#f0f921"
             ]
            ],
            "type": "histogram2d"
           }
          ],
          "histogram2dcontour": [
           {
            "colorbar": {
             "outlinewidth": 0,
             "ticks": ""
            },
            "colorscale": [
             [
              0,
              "#0d0887"
             ],
             [
              0.1111111111111111,
              "#46039f"
             ],
             [
              0.2222222222222222,
              "#7201a8"
             ],
             [
              0.3333333333333333,
              "#9c179e"
             ],
             [
              0.4444444444444444,
              "#bd3786"
             ],
             [
              0.5555555555555556,
              "#d8576b"
             ],
             [
              0.6666666666666666,
              "#ed7953"
             ],
             [
              0.7777777777777778,
              "#fb9f3a"
             ],
             [
              0.8888888888888888,
              "#fdca26"
             ],
             [
              1,
              "#f0f921"
             ]
            ],
            "type": "histogram2dcontour"
           }
          ],
          "mesh3d": [
           {
            "colorbar": {
             "outlinewidth": 0,
             "ticks": ""
            },
            "type": "mesh3d"
           }
          ],
          "parcoords": [
           {
            "line": {
             "colorbar": {
              "outlinewidth": 0,
              "ticks": ""
             }
            },
            "type": "parcoords"
           }
          ],
          "pie": [
           {
            "automargin": true,
            "type": "pie"
           }
          ],
          "scatter": [
           {
            "fillpattern": {
             "fillmode": "overlay",
             "size": 10,
             "solidity": 0.2
            },
            "type": "scatter"
           }
          ],
          "scatter3d": [
           {
            "line": {
             "colorbar": {
              "outlinewidth": 0,
              "ticks": ""
             }
            },
            "marker": {
             "colorbar": {
              "outlinewidth": 0,
              "ticks": ""
             }
            },
            "type": "scatter3d"
           }
          ],
          "scattercarpet": [
           {
            "marker": {
             "colorbar": {
              "outlinewidth": 0,
              "ticks": ""
             }
            },
            "type": "scattercarpet"
           }
          ],
          "scattergeo": [
           {
            "marker": {
             "colorbar": {
              "outlinewidth": 0,
              "ticks": ""
             }
            },
            "type": "scattergeo"
           }
          ],
          "scattergl": [
           {
            "marker": {
             "colorbar": {
              "outlinewidth": 0,
              "ticks": ""
             }
            },
            "type": "scattergl"
           }
          ],
          "scattermapbox": [
           {
            "marker": {
             "colorbar": {
              "outlinewidth": 0,
              "ticks": ""
             }
            },
            "type": "scattermapbox"
           }
          ],
          "scatterpolar": [
           {
            "marker": {
             "colorbar": {
              "outlinewidth": 0,
              "ticks": ""
             }
            },
            "type": "scatterpolar"
           }
          ],
          "scatterpolargl": [
           {
            "marker": {
             "colorbar": {
              "outlinewidth": 0,
              "ticks": ""
             }
            },
            "type": "scatterpolargl"
           }
          ],
          "scatterternary": [
           {
            "marker": {
             "colorbar": {
              "outlinewidth": 0,
              "ticks": ""
             }
            },
            "type": "scatterternary"
           }
          ],
          "surface": [
           {
            "colorbar": {
             "outlinewidth": 0,
             "ticks": ""
            },
            "colorscale": [
             [
              0,
              "#0d0887"
             ],
             [
              0.1111111111111111,
              "#46039f"
             ],
             [
              0.2222222222222222,
              "#7201a8"
             ],
             [
              0.3333333333333333,
              "#9c179e"
             ],
             [
              0.4444444444444444,
              "#bd3786"
             ],
             [
              0.5555555555555556,
              "#d8576b"
             ],
             [
              0.6666666666666666,
              "#ed7953"
             ],
             [
              0.7777777777777778,
              "#fb9f3a"
             ],
             [
              0.8888888888888888,
              "#fdca26"
             ],
             [
              1,
              "#f0f921"
             ]
            ],
            "type": "surface"
           }
          ],
          "table": [
           {
            "cells": {
             "fill": {
              "color": "#EBF0F8"
             },
             "line": {
              "color": "white"
             }
            },
            "header": {
             "fill": {
              "color": "#C8D4E3"
             },
             "line": {
              "color": "white"
             }
            },
            "type": "table"
           }
          ]
         },
         "layout": {
          "annotationdefaults": {
           "arrowcolor": "#2a3f5f",
           "arrowhead": 0,
           "arrowwidth": 1
          },
          "autotypenumbers": "strict",
          "coloraxis": {
           "colorbar": {
            "outlinewidth": 0,
            "ticks": ""
           }
          },
          "colorscale": {
           "diverging": [
            [
             0,
             "#8e0152"
            ],
            [
             0.1,
             "#c51b7d"
            ],
            [
             0.2,
             "#de77ae"
            ],
            [
             0.3,
             "#f1b6da"
            ],
            [
             0.4,
             "#fde0ef"
            ],
            [
             0.5,
             "#f7f7f7"
            ],
            [
             0.6,
             "#e6f5d0"
            ],
            [
             0.7,
             "#b8e186"
            ],
            [
             0.8,
             "#7fbc41"
            ],
            [
             0.9,
             "#4d9221"
            ],
            [
             1,
             "#276419"
            ]
           ],
           "sequential": [
            [
             0,
             "#0d0887"
            ],
            [
             0.1111111111111111,
             "#46039f"
            ],
            [
             0.2222222222222222,
             "#7201a8"
            ],
            [
             0.3333333333333333,
             "#9c179e"
            ],
            [
             0.4444444444444444,
             "#bd3786"
            ],
            [
             0.5555555555555556,
             "#d8576b"
            ],
            [
             0.6666666666666666,
             "#ed7953"
            ],
            [
             0.7777777777777778,
             "#fb9f3a"
            ],
            [
             0.8888888888888888,
             "#fdca26"
            ],
            [
             1,
             "#f0f921"
            ]
           ],
           "sequentialminus": [
            [
             0,
             "#0d0887"
            ],
            [
             0.1111111111111111,
             "#46039f"
            ],
            [
             0.2222222222222222,
             "#7201a8"
            ],
            [
             0.3333333333333333,
             "#9c179e"
            ],
            [
             0.4444444444444444,
             "#bd3786"
            ],
            [
             0.5555555555555556,
             "#d8576b"
            ],
            [
             0.6666666666666666,
             "#ed7953"
            ],
            [
             0.7777777777777778,
             "#fb9f3a"
            ],
            [
             0.8888888888888888,
             "#fdca26"
            ],
            [
             1,
             "#f0f921"
            ]
           ]
          },
          "colorway": [
           "#636efa",
           "#EF553B",
           "#00cc96",
           "#ab63fa",
           "#FFA15A",
           "#19d3f3",
           "#FF6692",
           "#B6E880",
           "#FF97FF",
           "#FECB52"
          ],
          "font": {
           "color": "#2a3f5f"
          },
          "geo": {
           "bgcolor": "white",
           "lakecolor": "white",
           "landcolor": "#E5ECF6",
           "showlakes": true,
           "showland": true,
           "subunitcolor": "white"
          },
          "hoverlabel": {
           "align": "left"
          },
          "hovermode": "closest",
          "mapbox": {
           "style": "light"
          },
          "paper_bgcolor": "white",
          "plot_bgcolor": "#E5ECF6",
          "polar": {
           "angularaxis": {
            "gridcolor": "white",
            "linecolor": "white",
            "ticks": ""
           },
           "bgcolor": "#E5ECF6",
           "radialaxis": {
            "gridcolor": "white",
            "linecolor": "white",
            "ticks": ""
           }
          },
          "scene": {
           "xaxis": {
            "backgroundcolor": "#E5ECF6",
            "gridcolor": "white",
            "gridwidth": 2,
            "linecolor": "white",
            "showbackground": true,
            "ticks": "",
            "zerolinecolor": "white"
           },
           "yaxis": {
            "backgroundcolor": "#E5ECF6",
            "gridcolor": "white",
            "gridwidth": 2,
            "linecolor": "white",
            "showbackground": true,
            "ticks": "",
            "zerolinecolor": "white"
           },
           "zaxis": {
            "backgroundcolor": "#E5ECF6",
            "gridcolor": "white",
            "gridwidth": 2,
            "linecolor": "white",
            "showbackground": true,
            "ticks": "",
            "zerolinecolor": "white"
           }
          },
          "shapedefaults": {
           "line": {
            "color": "#2a3f5f"
           }
          },
          "ternary": {
           "aaxis": {
            "gridcolor": "white",
            "linecolor": "white",
            "ticks": ""
           },
           "baxis": {
            "gridcolor": "white",
            "linecolor": "white",
            "ticks": ""
           },
           "bgcolor": "#E5ECF6",
           "caxis": {
            "gridcolor": "white",
            "linecolor": "white",
            "ticks": ""
           }
          },
          "title": {
           "x": 0.05
          },
          "xaxis": {
           "automargin": true,
           "gridcolor": "white",
           "linecolor": "white",
           "ticks": "",
           "title": {
            "standoff": 15
           },
           "zerolinecolor": "white",
           "zerolinewidth": 2
          },
          "yaxis": {
           "automargin": true,
           "gridcolor": "white",
           "linecolor": "white",
           "ticks": "",
           "title": {
            "standoff": 15
           },
           "zerolinecolor": "white",
           "zerolinewidth": 2
          }
         }
        },
        "title": {
         "text": "Wie viele einzigartige Wörter gibt es in deutschen Songetxten"
        },
        "xaxis": {
         "anchor": "y",
         "domain": [
          0,
          1
         ],
         "tickangle": 45,
         "title": {
          "text": "word"
         }
        },
        "yaxis": {
         "anchor": "x",
         "domain": [
          0,
          1
         ],
         "title": {
          "text": "count"
         }
        }
       }
      }
     },
     "metadata": {},
     "output_type": "display_data"
    }
   ],
   "source": [
    "unique_word_count_fig = unique_word_count_df.sort_values('count', ascending=False).iloc[:50].plot(kind=\"line\",x=\"word\",y=\"count\", title=\"Welche Wörter kommen am meisten vor\")\n",
    "unique_word_count_fig.update_layout(xaxis_tickangle=45)\n",
    "unique_word_count_fig.update_traces(hovertemplate='Word: %{x}<br>Count: %{y}<br>Text: %{text}')\n",
    "\n",
    "unique_word_count_fig.show()"
   ]
  }
 ],
 "metadata": {
  "kernelspec": {
   "display_name": "base",
   "language": "python",
   "name": "python3"
  },
  "language_info": {
   "codemirror_mode": {
    "name": "ipython",
    "version": 3
   },
   "file_extension": ".py",
   "mimetype": "text/x-python",
   "name": "python",
   "nbconvert_exporter": "python",
   "pygments_lexer": "ipython3",
   "version": "3.8.5"
  },
  "orig_nbformat": 4
 },
 "nbformat": 4,
 "nbformat_minor": 2
}
