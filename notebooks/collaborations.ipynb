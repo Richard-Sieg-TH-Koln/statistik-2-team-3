{
 "cells": [
  {
   "attachments": {},
   "cell_type": "markdown",
   "metadata": {},
   "source": [
    "### Im welchen Genre treten die meisten Collaborationen auf? "
   ]
  },
  {
   "cell_type": "code",
   "execution_count": 1,
   "metadata": {},
   "outputs": [
    {
     "name": "stderr",
     "output_type": "stream",
     "text": [
      "c:\\Users\\lotus\\anaconda3\\lib\\site-packages\\pandas\\core\\computation\\expressions.py:20: UserWarning: Pandas requires version '2.7.3' or newer of 'numexpr' (version '2.7.1' currently installed).\n",
      "  from pandas.core.computation.check import NUMEXPR_INSTALLED\n"
     ]
    }
   ],
   "source": [
    "import pandas as pd\n",
    "import spacy\n",
    "import spacy.cli\n",
    "import plotly\n",
    "import plotly.express as px\n",
    "import matplotlib.pyplot as plt\n",
    "from language_tool_python import LanguageTool"
   ]
  },
  {
   "cell_type": "code",
   "execution_count": 2,
   "metadata": {},
   "outputs": [],
   "source": [
    "# !pip install language_tool_python"
   ]
  },
  {
   "cell_type": "code",
   "execution_count": 2,
   "metadata": {},
   "outputs": [],
   "source": [
    "df = pd.read_csv('../data/songs_complete_final.csv')"
   ]
  },
  {
   "cell_type": "code",
   "execution_count": 3,
   "metadata": {},
   "outputs": [
    {
     "data": {
      "text/plain": [
       "genre\n",
       "deutschrap      4033\n",
       "pop             2560\n",
       "rap             2395\n",
       "schlager        1343\n",
       "hip-hop         1271\n",
       "hip hop         1256\n",
       "rock             663\n",
       "indie            632\n",
       "deutschrock      416\n",
       "punk rock        390\n",
       "reggae           264\n",
       "ambient          222\n",
       "[]               214\n",
       "karneval         201\n",
       "electro          162\n",
       "deutsch rap      130\n",
       "instrumental     119\n",
       "gothic           117\n",
       "emo              109\n",
       "cloud rap         69\n",
       "swing             66\n",
       "new wave          64\n",
       "ndw               53\n",
       "pop rock          53\n",
       "post-rock         49\n",
       "party             41\n",
       "pornorap          27\n",
       "dubstep           12\n",
       "metal              5\n",
       "Name: count, dtype: int64"
      ]
     },
     "execution_count": 3,
     "metadata": {},
     "output_type": "execute_result"
    }
   ],
   "source": [
    "df.value_counts('genre')"
   ]
  },
  {
   "cell_type": "code",
   "execution_count": 4,
   "metadata": {},
   "outputs": [
    {
     "data": {
      "text/html": [
       "<div>\n",
       "<style scoped>\n",
       "    .dataframe tbody tr th:only-of-type {\n",
       "        vertical-align: middle;\n",
       "    }\n",
       "\n",
       "    .dataframe tbody tr th {\n",
       "        vertical-align: top;\n",
       "    }\n",
       "\n",
       "    .dataframe thead th {\n",
       "        text-align: right;\n",
       "    }\n",
       "</style>\n",
       "<table border=\"1\" class=\"dataframe\">\n",
       "  <thead>\n",
       "    <tr style=\"text-align: right;\">\n",
       "      <th></th>\n",
       "      <th>artist</th>\n",
       "      <th>artist_id</th>\n",
       "      <th>album</th>\n",
       "      <th>album_id</th>\n",
       "      <th>release_date</th>\n",
       "      <th>title</th>\n",
       "      <th>full_title</th>\n",
       "      <th>song_id</th>\n",
       "      <th>lyrics</th>\n",
       "      <th>release_year</th>\n",
       "      <th>weekday</th>\n",
       "      <th>genre</th>\n",
       "      <th>genre_cat</th>\n",
       "      <th>word_count</th>\n",
       "    </tr>\n",
       "  </thead>\n",
       "  <tbody>\n",
       "    <tr>\n",
       "      <th>0</th>\n",
       "      <td>1099</td>\n",
       "      <td>209826</td>\n",
       "      <td>10999</td>\n",
       "      <td>831505</td>\n",
       "      <td>2021-10-29</td>\n",
       "      <td>INTRO (10999)</td>\n",
       "      <td>INTRO (10999) by King Khalil</td>\n",
       "      <td>7337100</td>\n",
       "      <td>Powpow  Dicka, das kein Rap mehr, das ist Kind...</td>\n",
       "      <td>2021</td>\n",
       "      <td>Friday</td>\n",
       "      <td>post-rock</td>\n",
       "      <td>Rock</td>\n",
       "      <td>60</td>\n",
       "    </tr>\n",
       "    <tr>\n",
       "      <th>1</th>\n",
       "      <td>1099</td>\n",
       "      <td>209826</td>\n",
       "      <td>10999</td>\n",
       "      <td>831505</td>\n",
       "      <td>2021-10-29</td>\n",
       "      <td>GIB IHM</td>\n",
       "      <td>GIB IHM by King Khalil &amp; AK 33</td>\n",
       "      <td>7337102</td>\n",
       "      <td>Gefährliche, gefährliche KiKiKiKi Gefährliche ...</td>\n",
       "      <td>2021</td>\n",
       "      <td>Friday</td>\n",
       "      <td>post-rock</td>\n",
       "      <td>Rock</td>\n",
       "      <td>92</td>\n",
       "    </tr>\n",
       "    <tr>\n",
       "      <th>2</th>\n",
       "      <td>1099</td>\n",
       "      <td>209826</td>\n",
       "      <td>KING KONG</td>\n",
       "      <td>546439</td>\n",
       "      <td>2020-01-31</td>\n",
       "      <td>BUNDESWEIT</td>\n",
       "      <td>BUNDESWEIT by King Khalil (Ft. Fler)</td>\n",
       "      <td>4532899</td>\n",
       "      <td>Aus meiner Stadt fliegen Leuchtclips und Bresl...</td>\n",
       "      <td>2020</td>\n",
       "      <td>Friday</td>\n",
       "      <td>post-rock</td>\n",
       "      <td>Rock</td>\n",
       "      <td>113</td>\n",
       "    </tr>\n",
       "    <tr>\n",
       "      <th>3</th>\n",
       "      <td>1099</td>\n",
       "      <td>209826</td>\n",
       "      <td>KING KONG</td>\n",
       "      <td>546439</td>\n",
       "      <td>2020-01-31</td>\n",
       "      <td>HOLLANDA</td>\n",
       "      <td>HOLLANDA by King Khalil (Ft. Mert)</td>\n",
       "      <td>5189158</td>\n",
       "      <td>Because youre so sweet You lift up my heart An...</td>\n",
       "      <td>2020</td>\n",
       "      <td>Friday</td>\n",
       "      <td>post-rock</td>\n",
       "      <td>Rock</td>\n",
       "      <td>80</td>\n",
       "    </tr>\n",
       "    <tr>\n",
       "      <th>4</th>\n",
       "      <td>1099</td>\n",
       "      <td>209826</td>\n",
       "      <td>KING KONG</td>\n",
       "      <td>546439</td>\n",
       "      <td>2020-01-31</td>\n",
       "      <td>MOON</td>\n",
       "      <td>MOON by King Khalil &amp; Lil Lano</td>\n",
       "      <td>5109178</td>\n",
       "      <td>. Liquid Swords  GZA  Actual . souljaboytellem...</td>\n",
       "      <td>2020</td>\n",
       "      <td>Friday</td>\n",
       "      <td>post-rock</td>\n",
       "      <td>Rock</td>\n",
       "      <td>233</td>\n",
       "    </tr>\n",
       "    <tr>\n",
       "      <th>...</th>\n",
       "      <td>...</td>\n",
       "      <td>...</td>\n",
       "      <td>...</td>\n",
       "      <td>...</td>\n",
       "      <td>...</td>\n",
       "      <td>...</td>\n",
       "      <td>...</td>\n",
       "      <td>...</td>\n",
       "      <td>...</td>\n",
       "      <td>...</td>\n",
       "      <td>...</td>\n",
       "      <td>...</td>\n",
       "      <td>...</td>\n",
       "      <td>...</td>\n",
       "    </tr>\n",
       "    <tr>\n",
       "      <th>17749</th>\n",
       "      <td>t-low</td>\n",
       "      <td>9229</td>\n",
       "      <td>Tyskie (EP)</td>\n",
       "      <td>553779</td>\n",
       "      <td>2019-08-02</td>\n",
       "      <td>40 Nights</td>\n",
       "      <td>40 Nights by ​​t-low (Ft. Sevi Rin)</td>\n",
       "      <td>4782294</td>\n",
       "      <td>MBC  Sie will nur Liebe, ich will nur Lean Pud...</td>\n",
       "      <td>2019</td>\n",
       "      <td>Friday</td>\n",
       "      <td>hip-hop</td>\n",
       "      <td>Rap</td>\n",
       "      <td>80</td>\n",
       "    </tr>\n",
       "    <tr>\n",
       "      <th>17750</th>\n",
       "      <td>t-low</td>\n",
       "      <td>9229</td>\n",
       "      <td>Tyskie (EP)</td>\n",
       "      <td>553779</td>\n",
       "      <td>2019-08-02</td>\n",
       "      <td>Fast</td>\n",
       "      <td>Fast by ​​t-low</td>\n",
       "      <td>4782369</td>\n",
       "      <td>Kozee, cooke die Sauce  Ich bin fast fully tat...</td>\n",
       "      <td>2019</td>\n",
       "      <td>Friday</td>\n",
       "      <td>hip-hop</td>\n",
       "      <td>Rap</td>\n",
       "      <td>98</td>\n",
       "    </tr>\n",
       "    <tr>\n",
       "      <th>17751</th>\n",
       "      <td>t-low</td>\n",
       "      <td>9229</td>\n",
       "      <td>Tyskie (EP)</td>\n",
       "      <td>553779</td>\n",
       "      <td>2019-08-02</td>\n",
       "      <td>Fliegt</td>\n",
       "      <td>Fliegt by ​​t-low (Ft. Murcy)</td>\n",
       "      <td>4784534</td>\n",
       "      <td>Rope God, youre so anorexic  Und sie fliegt ja...</td>\n",
       "      <td>2019</td>\n",
       "      <td>Friday</td>\n",
       "      <td>hip-hop</td>\n",
       "      <td>Rap</td>\n",
       "      <td>90</td>\n",
       "    </tr>\n",
       "    <tr>\n",
       "      <th>17752</th>\n",
       "      <td>t-low</td>\n",
       "      <td>9229</td>\n",
       "      <td>Tyskie (EP)</td>\n",
       "      <td>553779</td>\n",
       "      <td>2019-08-02</td>\n",
       "      <td>Lonely</td>\n",
       "      <td>Lonely by ​​t-low</td>\n",
       "      <td>4784567</td>\n",
       "      <td>Sie ist lonely, Ja Sie  will nur zu ihrem Homi...</td>\n",
       "      <td>2019</td>\n",
       "      <td>Friday</td>\n",
       "      <td>hip-hop</td>\n",
       "      <td>Rap</td>\n",
       "      <td>60</td>\n",
       "    </tr>\n",
       "    <tr>\n",
       "      <th>17753</th>\n",
       "      <td>t-low</td>\n",
       "      <td>9229</td>\n",
       "      <td>Tyskie (EP)</td>\n",
       "      <td>553779</td>\n",
       "      <td>2019-08-02</td>\n",
       "      <td>Augen Rot</td>\n",
       "      <td>Augen Rot by ​​t-low</td>\n",
       "      <td>4784612</td>\n",
       "      <td>Es ist nachts, ich bin allein, ja, ja Augen ro...</td>\n",
       "      <td>2019</td>\n",
       "      <td>Friday</td>\n",
       "      <td>hip-hop</td>\n",
       "      <td>Rap</td>\n",
       "      <td>76</td>\n",
       "    </tr>\n",
       "  </tbody>\n",
       "</table>\n",
       "<p>17754 rows × 14 columns</p>\n",
       "</div>"
      ],
      "text/plain": [
       "      artist  artist_id        album  album_id release_date          title   \n",
       "0       1099     209826        10999    831505   2021-10-29  INTRO (10999)  \\\n",
       "1       1099     209826        10999    831505   2021-10-29        GIB IHM   \n",
       "2       1099     209826    KING KONG    546439   2020-01-31     BUNDESWEIT   \n",
       "3       1099     209826    KING KONG    546439   2020-01-31       HOLLANDA   \n",
       "4       1099     209826    KING KONG    546439   2020-01-31           MOON   \n",
       "...      ...        ...          ...       ...          ...            ...   \n",
       "17749  t-low       9229  Tyskie (EP)    553779   2019-08-02      40 Nights   \n",
       "17750  t-low       9229  Tyskie (EP)    553779   2019-08-02           Fast   \n",
       "17751  t-low       9229  Tyskie (EP)    553779   2019-08-02         Fliegt   \n",
       "17752  t-low       9229  Tyskie (EP)    553779   2019-08-02         Lonely   \n",
       "17753  t-low       9229  Tyskie (EP)    553779   2019-08-02      Augen Rot   \n",
       "\n",
       "                                 full_title  song_id   \n",
       "0              INTRO (10999) by King Khalil  7337100  \\\n",
       "1            GIB IHM by King Khalil & AK 33  7337102   \n",
       "2      BUNDESWEIT by King Khalil (Ft. Fler)  4532899   \n",
       "3        HOLLANDA by King Khalil (Ft. Mert)  5189158   \n",
       "4            MOON by King Khalil & Lil Lano  5109178   \n",
       "...                                     ...      ...   \n",
       "17749   40 Nights by ​​t-low (Ft. Sevi Rin)  4782294   \n",
       "17750                       Fast by ​​t-low  4782369   \n",
       "17751         Fliegt by ​​t-low (Ft. Murcy)  4784534   \n",
       "17752                     Lonely by ​​t-low  4784567   \n",
       "17753                  Augen Rot by ​​t-low  4784612   \n",
       "\n",
       "                                                  lyrics  release_year   \n",
       "0      Powpow  Dicka, das kein Rap mehr, das ist Kind...          2021  \\\n",
       "1      Gefährliche, gefährliche KiKiKiKi Gefährliche ...          2021   \n",
       "2      Aus meiner Stadt fliegen Leuchtclips und Bresl...          2020   \n",
       "3      Because youre so sweet You lift up my heart An...          2020   \n",
       "4      . Liquid Swords  GZA  Actual . souljaboytellem...          2020   \n",
       "...                                                  ...           ...   \n",
       "17749  MBC  Sie will nur Liebe, ich will nur Lean Pud...          2019   \n",
       "17750  Kozee, cooke die Sauce  Ich bin fast fully tat...          2019   \n",
       "17751  Rope God, youre so anorexic  Und sie fliegt ja...          2019   \n",
       "17752  Sie ist lonely, Ja Sie  will nur zu ihrem Homi...          2019   \n",
       "17753  Es ist nachts, ich bin allein, ja, ja Augen ro...          2019   \n",
       "\n",
       "      weekday      genre genre_cat  word_count  \n",
       "0      Friday  post-rock      Rock          60  \n",
       "1      Friday  post-rock      Rock          92  \n",
       "2      Friday  post-rock      Rock         113  \n",
       "3      Friday  post-rock      Rock          80  \n",
       "4      Friday  post-rock      Rock         233  \n",
       "...       ...        ...       ...         ...  \n",
       "17749  Friday    hip-hop       Rap          80  \n",
       "17750  Friday    hip-hop       Rap          98  \n",
       "17751  Friday    hip-hop       Rap          90  \n",
       "17752  Friday    hip-hop       Rap          60  \n",
       "17753  Friday    hip-hop       Rap          76  \n",
       "\n",
       "[17754 rows x 14 columns]"
      ]
     },
     "execution_count": 4,
     "metadata": {},
     "output_type": "execute_result"
    }
   ],
   "source": [
    "df"
   ]
  },
  {
   "cell_type": "code",
   "execution_count": 5,
   "metadata": {},
   "outputs": [],
   "source": [
    "df['full_title'].fillna('', inplace=True)\n",
    "\n",
    "colabs = df[df[\"full_title\"].str.contains(\"Ft\")]"
   ]
  },
  {
   "cell_type": "code",
   "execution_count": 6,
   "metadata": {},
   "outputs": [
    {
     "data": {
      "text/html": [
       "<div>\n",
       "<style scoped>\n",
       "    .dataframe tbody tr th:only-of-type {\n",
       "        vertical-align: middle;\n",
       "    }\n",
       "\n",
       "    .dataframe tbody tr th {\n",
       "        vertical-align: top;\n",
       "    }\n",
       "\n",
       "    .dataframe thead th {\n",
       "        text-align: right;\n",
       "    }\n",
       "</style>\n",
       "<table border=\"1\" class=\"dataframe\">\n",
       "  <thead>\n",
       "    <tr style=\"text-align: right;\">\n",
       "      <th></th>\n",
       "      <th>artist</th>\n",
       "      <th>artist_id</th>\n",
       "      <th>album</th>\n",
       "      <th>album_id</th>\n",
       "      <th>release_date</th>\n",
       "      <th>title</th>\n",
       "      <th>full_title</th>\n",
       "      <th>song_id</th>\n",
       "      <th>lyrics</th>\n",
       "      <th>release_year</th>\n",
       "      <th>weekday</th>\n",
       "      <th>genre</th>\n",
       "      <th>genre_cat</th>\n",
       "      <th>word_count</th>\n",
       "    </tr>\n",
       "  </thead>\n",
       "  <tbody>\n",
       "    <tr>\n",
       "      <th>2</th>\n",
       "      <td>1099</td>\n",
       "      <td>209826</td>\n",
       "      <td>KING KONG</td>\n",
       "      <td>546439</td>\n",
       "      <td>2020-01-31</td>\n",
       "      <td>BUNDESWEIT</td>\n",
       "      <td>BUNDESWEIT by King Khalil (Ft. Fler)</td>\n",
       "      <td>4532899</td>\n",
       "      <td>Aus meiner Stadt fliegen Leuchtclips und Bresl...</td>\n",
       "      <td>2020</td>\n",
       "      <td>Friday</td>\n",
       "      <td>post-rock</td>\n",
       "      <td>Rock</td>\n",
       "      <td>113</td>\n",
       "    </tr>\n",
       "    <tr>\n",
       "      <th>3</th>\n",
       "      <td>1099</td>\n",
       "      <td>209826</td>\n",
       "      <td>KING KONG</td>\n",
       "      <td>546439</td>\n",
       "      <td>2020-01-31</td>\n",
       "      <td>HOLLANDA</td>\n",
       "      <td>HOLLANDA by King Khalil (Ft. Mert)</td>\n",
       "      <td>5189158</td>\n",
       "      <td>Because youre so sweet You lift up my heart An...</td>\n",
       "      <td>2020</td>\n",
       "      <td>Friday</td>\n",
       "      <td>post-rock</td>\n",
       "      <td>Rock</td>\n",
       "      <td>80</td>\n",
       "    </tr>\n",
       "    <tr>\n",
       "      <th>5</th>\n",
       "      <td>1099</td>\n",
       "      <td>209826</td>\n",
       "      <td>KING KONG</td>\n",
       "      <td>546439</td>\n",
       "      <td>2020-01-31</td>\n",
       "      <td>KILLA</td>\n",
       "      <td>KILLA by King Khalil (Ft. 2Ton)</td>\n",
       "      <td>5189159</td>\n",
       "      <td>Yo, its that boy Denzel Curry Im finna do this...</td>\n",
       "      <td>2020</td>\n",
       "      <td>Friday</td>\n",
       "      <td>post-rock</td>\n",
       "      <td>Rock</td>\n",
       "      <td>57</td>\n",
       "    </tr>\n",
       "    <tr>\n",
       "      <th>7</th>\n",
       "      <td>1099</td>\n",
       "      <td>209826</td>\n",
       "      <td>KING KONG</td>\n",
       "      <td>546439</td>\n",
       "      <td>2020-01-31</td>\n",
       "      <td>ALL BLACK</td>\n",
       "      <td>ALL BLACK by King Khalil (Ft. PA Sports)</td>\n",
       "      <td>5189160</td>\n",
       "      <td>Yo pls dont call me Im busy at the moment U ma...</td>\n",
       "      <td>2020</td>\n",
       "      <td>Friday</td>\n",
       "      <td>post-rock</td>\n",
       "      <td>Rock</td>\n",
       "      <td>156</td>\n",
       "    </tr>\n",
       "    <tr>\n",
       "      <th>9</th>\n",
       "      <td>1099</td>\n",
       "      <td>209826</td>\n",
       "      <td>KING KONG</td>\n",
       "      <td>546439</td>\n",
       "      <td>2020-01-31</td>\n",
       "      <td>BABYLON</td>\n",
       "      <td>BABYLON by King Khalil (Ft. Azad)</td>\n",
       "      <td>5189162</td>\n",
       "      <td>Studio AlbumsThe Rolling Stones , UK  Englands...</td>\n",
       "      <td>2020</td>\n",
       "      <td>Friday</td>\n",
       "      <td>post-rock</td>\n",
       "      <td>Rock</td>\n",
       "      <td>279</td>\n",
       "    </tr>\n",
       "    <tr>\n",
       "      <th>...</th>\n",
       "      <td>...</td>\n",
       "      <td>...</td>\n",
       "      <td>...</td>\n",
       "      <td>...</td>\n",
       "      <td>...</td>\n",
       "      <td>...</td>\n",
       "      <td>...</td>\n",
       "      <td>...</td>\n",
       "      <td>...</td>\n",
       "      <td>...</td>\n",
       "      <td>...</td>\n",
       "      <td>...</td>\n",
       "      <td>...</td>\n",
       "      <td>...</td>\n",
       "    </tr>\n",
       "    <tr>\n",
       "      <th>17741</th>\n",
       "      <td>t-low</td>\n",
       "      <td>9229</td>\n",
       "      <td>Litty Way</td>\n",
       "      <td>618085</td>\n",
       "      <td>2020-03-20</td>\n",
       "      <td>Schuhe Kaputt</td>\n",
       "      <td>Schuhe Kaputt by ​​t-low (Ft. NOK1D)</td>\n",
       "      <td>5402535</td>\n",
       "      <td>Time on the beat  SchuSchu Schuhe sind kaputt,...</td>\n",
       "      <td>2020</td>\n",
       "      <td>Friday</td>\n",
       "      <td>hip-hop</td>\n",
       "      <td>Rap</td>\n",
       "      <td>58</td>\n",
       "    </tr>\n",
       "    <tr>\n",
       "      <th>17742</th>\n",
       "      <td>t-low</td>\n",
       "      <td>9229</td>\n",
       "      <td>Litty Way</td>\n",
       "      <td>618085</td>\n",
       "      <td>2020-03-20</td>\n",
       "      <td>Besser</td>\n",
       "      <td>Besser by ​​t-low (Ft. BiggO)</td>\n",
       "      <td>5402536</td>\n",
       "      <td>Baller die Scheine in Automaten Ey, meine Kund...</td>\n",
       "      <td>2020</td>\n",
       "      <td>Friday</td>\n",
       "      <td>hip-hop</td>\n",
       "      <td>Rap</td>\n",
       "      <td>80</td>\n",
       "    </tr>\n",
       "    <tr>\n",
       "      <th>17744</th>\n",
       "      <td>t-low</td>\n",
       "      <td>9229</td>\n",
       "      <td>Litty Way</td>\n",
       "      <td>618085</td>\n",
       "      <td>2020-03-20</td>\n",
       "      <td>Light It Up</td>\n",
       "      <td>Light It Up by ​​t-low (Ft. NOK1D &amp; Rei Saike)</td>\n",
       "      <td>5402538</td>\n",
       "      <td>Kozee, cooke die Sauce  FüFüFünfer für ne Xan,...</td>\n",
       "      <td>2020</td>\n",
       "      <td>Friday</td>\n",
       "      <td>hip-hop</td>\n",
       "      <td>Rap</td>\n",
       "      <td>102</td>\n",
       "    </tr>\n",
       "    <tr>\n",
       "      <th>17749</th>\n",
       "      <td>t-low</td>\n",
       "      <td>9229</td>\n",
       "      <td>Tyskie (EP)</td>\n",
       "      <td>553779</td>\n",
       "      <td>2019-08-02</td>\n",
       "      <td>40 Nights</td>\n",
       "      <td>40 Nights by ​​t-low (Ft. Sevi Rin)</td>\n",
       "      <td>4782294</td>\n",
       "      <td>MBC  Sie will nur Liebe, ich will nur Lean Pud...</td>\n",
       "      <td>2019</td>\n",
       "      <td>Friday</td>\n",
       "      <td>hip-hop</td>\n",
       "      <td>Rap</td>\n",
       "      <td>80</td>\n",
       "    </tr>\n",
       "    <tr>\n",
       "      <th>17751</th>\n",
       "      <td>t-low</td>\n",
       "      <td>9229</td>\n",
       "      <td>Tyskie (EP)</td>\n",
       "      <td>553779</td>\n",
       "      <td>2019-08-02</td>\n",
       "      <td>Fliegt</td>\n",
       "      <td>Fliegt by ​​t-low (Ft. Murcy)</td>\n",
       "      <td>4784534</td>\n",
       "      <td>Rope God, youre so anorexic  Und sie fliegt ja...</td>\n",
       "      <td>2019</td>\n",
       "      <td>Friday</td>\n",
       "      <td>hip-hop</td>\n",
       "      <td>Rap</td>\n",
       "      <td>90</td>\n",
       "    </tr>\n",
       "  </tbody>\n",
       "</table>\n",
       "<p>2873 rows × 14 columns</p>\n",
       "</div>"
      ],
      "text/plain": [
       "      artist  artist_id        album  album_id release_date          title   \n",
       "2       1099     209826    KING KONG    546439   2020-01-31     BUNDESWEIT  \\\n",
       "3       1099     209826    KING KONG    546439   2020-01-31       HOLLANDA   \n",
       "5       1099     209826    KING KONG    546439   2020-01-31          KILLA   \n",
       "7       1099     209826    KING KONG    546439   2020-01-31      ALL BLACK   \n",
       "9       1099     209826    KING KONG    546439   2020-01-31        BABYLON   \n",
       "...      ...        ...          ...       ...          ...            ...   \n",
       "17741  t-low       9229    Litty Way    618085   2020-03-20  Schuhe Kaputt   \n",
       "17742  t-low       9229    Litty Way    618085   2020-03-20         Besser   \n",
       "17744  t-low       9229    Litty Way    618085   2020-03-20    Light It Up   \n",
       "17749  t-low       9229  Tyskie (EP)    553779   2019-08-02      40 Nights   \n",
       "17751  t-low       9229  Tyskie (EP)    553779   2019-08-02         Fliegt   \n",
       "\n",
       "                                           full_title  song_id   \n",
       "2                BUNDESWEIT by King Khalil (Ft. Fler)  4532899  \\\n",
       "3                  HOLLANDA by King Khalil (Ft. Mert)  5189158   \n",
       "5                     KILLA by King Khalil (Ft. 2Ton)  5189159   \n",
       "7            ALL BLACK by King Khalil (Ft. PA Sports)  5189160   \n",
       "9                   BABYLON by King Khalil (Ft. Azad)  5189162   \n",
       "...                                               ...      ...   \n",
       "17741            Schuhe Kaputt by ​​t-low (Ft. NOK1D)  5402535   \n",
       "17742                   Besser by ​​t-low (Ft. BiggO)  5402536   \n",
       "17744  Light It Up by ​​t-low (Ft. NOK1D & Rei Saike)  5402538   \n",
       "17749             40 Nights by ​​t-low (Ft. Sevi Rin)  4782294   \n",
       "17751                   Fliegt by ​​t-low (Ft. Murcy)  4784534   \n",
       "\n",
       "                                                  lyrics  release_year   \n",
       "2      Aus meiner Stadt fliegen Leuchtclips und Bresl...          2020  \\\n",
       "3      Because youre so sweet You lift up my heart An...          2020   \n",
       "5      Yo, its that boy Denzel Curry Im finna do this...          2020   \n",
       "7      Yo pls dont call me Im busy at the moment U ma...          2020   \n",
       "9      Studio AlbumsThe Rolling Stones , UK  Englands...          2020   \n",
       "...                                                  ...           ...   \n",
       "17741  Time on the beat  SchuSchu Schuhe sind kaputt,...          2020   \n",
       "17742  Baller die Scheine in Automaten Ey, meine Kund...          2020   \n",
       "17744  Kozee, cooke die Sauce  FüFüFünfer für ne Xan,...          2020   \n",
       "17749  MBC  Sie will nur Liebe, ich will nur Lean Pud...          2019   \n",
       "17751  Rope God, youre so anorexic  Und sie fliegt ja...          2019   \n",
       "\n",
       "      weekday      genre genre_cat  word_count  \n",
       "2      Friday  post-rock      Rock         113  \n",
       "3      Friday  post-rock      Rock          80  \n",
       "5      Friday  post-rock      Rock          57  \n",
       "7      Friday  post-rock      Rock         156  \n",
       "9      Friday  post-rock      Rock         279  \n",
       "...       ...        ...       ...         ...  \n",
       "17741  Friday    hip-hop       Rap          58  \n",
       "17742  Friday    hip-hop       Rap          80  \n",
       "17744  Friday    hip-hop       Rap         102  \n",
       "17749  Friday    hip-hop       Rap          80  \n",
       "17751  Friday    hip-hop       Rap          90  \n",
       "\n",
       "[2873 rows x 14 columns]"
      ]
     },
     "execution_count": 6,
     "metadata": {},
     "output_type": "execute_result"
    }
   ],
   "source": [
    "colabs"
   ]
  },
  {
   "cell_type": "code",
   "execution_count": 7,
   "metadata": {},
   "outputs": [
    {
     "name": "stderr",
     "output_type": "stream",
     "text": [
      "<ipython-input-7-356d67205115>:14: SettingWithCopyWarning: \n",
      "A value is trying to be set on a copy of a slice from a DataFrame.\n",
      "Try using .loc[row_indexer,col_indexer] = value instead\n",
      "\n",
      "See the caveats in the documentation: https://pandas.pydata.org/pandas-docs/stable/user_guide/indexing.html#returning-a-view-versus-a-copy\n",
      "  colabs['collaboration'] = colabs['full_title'].apply(extract_collaborators)\n"
     ]
    }
   ],
   "source": [
    "import re\n",
    "regex = r\"\\(Ft\\. ([^)]+)\\)\"\n",
    "\n",
    "def extract_collaborators(title):\n",
    "    start_index = title.find(\"(Ft.\")\n",
    "    end_index = title.find(\")\", start_index)\n",
    "    if start_index != -1 and end_index != -1:\n",
    "        collaborators = title[start_index+4:end_index].strip()\n",
    "        return collaborators\n",
    "    else:\n",
    "        return \"\"\n",
    "\n",
    "# Anwendung der Funktion auf die full_title-Spalte\n",
    "colabs['collaboration'] = colabs['full_title'].apply(extract_collaborators)\n"
   ]
  },
  {
   "cell_type": "code",
   "execution_count": 8,
   "metadata": {},
   "outputs": [
    {
     "data": {
      "text/html": [
       "<div>\n",
       "<style scoped>\n",
       "    .dataframe tbody tr th:only-of-type {\n",
       "        vertical-align: middle;\n",
       "    }\n",
       "\n",
       "    .dataframe tbody tr th {\n",
       "        vertical-align: top;\n",
       "    }\n",
       "\n",
       "    .dataframe thead th {\n",
       "        text-align: right;\n",
       "    }\n",
       "</style>\n",
       "<table border=\"1\" class=\"dataframe\">\n",
       "  <thead>\n",
       "    <tr style=\"text-align: right;\">\n",
       "      <th></th>\n",
       "      <th>artist</th>\n",
       "      <th>artist_id</th>\n",
       "      <th>album</th>\n",
       "      <th>album_id</th>\n",
       "      <th>release_date</th>\n",
       "      <th>title</th>\n",
       "      <th>full_title</th>\n",
       "      <th>song_id</th>\n",
       "      <th>lyrics</th>\n",
       "      <th>release_year</th>\n",
       "      <th>weekday</th>\n",
       "      <th>genre</th>\n",
       "      <th>genre_cat</th>\n",
       "      <th>word_count</th>\n",
       "      <th>collaboration</th>\n",
       "    </tr>\n",
       "  </thead>\n",
       "  <tbody>\n",
       "    <tr>\n",
       "      <th>2</th>\n",
       "      <td>1099</td>\n",
       "      <td>209826</td>\n",
       "      <td>KING KONG</td>\n",
       "      <td>546439</td>\n",
       "      <td>2020-01-31</td>\n",
       "      <td>BUNDESWEIT</td>\n",
       "      <td>BUNDESWEIT by King Khalil (Ft. Fler)</td>\n",
       "      <td>4532899</td>\n",
       "      <td>Aus meiner Stadt fliegen Leuchtclips und Bresl...</td>\n",
       "      <td>2020</td>\n",
       "      <td>Friday</td>\n",
       "      <td>post-rock</td>\n",
       "      <td>Rock</td>\n",
       "      <td>113</td>\n",
       "      <td>Fler</td>\n",
       "    </tr>\n",
       "    <tr>\n",
       "      <th>3</th>\n",
       "      <td>1099</td>\n",
       "      <td>209826</td>\n",
       "      <td>KING KONG</td>\n",
       "      <td>546439</td>\n",
       "      <td>2020-01-31</td>\n",
       "      <td>HOLLANDA</td>\n",
       "      <td>HOLLANDA by King Khalil (Ft. Mert)</td>\n",
       "      <td>5189158</td>\n",
       "      <td>Because youre so sweet You lift up my heart An...</td>\n",
       "      <td>2020</td>\n",
       "      <td>Friday</td>\n",
       "      <td>post-rock</td>\n",
       "      <td>Rock</td>\n",
       "      <td>80</td>\n",
       "      <td>Mert</td>\n",
       "    </tr>\n",
       "    <tr>\n",
       "      <th>5</th>\n",
       "      <td>1099</td>\n",
       "      <td>209826</td>\n",
       "      <td>KING KONG</td>\n",
       "      <td>546439</td>\n",
       "      <td>2020-01-31</td>\n",
       "      <td>KILLA</td>\n",
       "      <td>KILLA by King Khalil (Ft. 2Ton)</td>\n",
       "      <td>5189159</td>\n",
       "      <td>Yo, its that boy Denzel Curry Im finna do this...</td>\n",
       "      <td>2020</td>\n",
       "      <td>Friday</td>\n",
       "      <td>post-rock</td>\n",
       "      <td>Rock</td>\n",
       "      <td>57</td>\n",
       "      <td>2Ton</td>\n",
       "    </tr>\n",
       "    <tr>\n",
       "      <th>7</th>\n",
       "      <td>1099</td>\n",
       "      <td>209826</td>\n",
       "      <td>KING KONG</td>\n",
       "      <td>546439</td>\n",
       "      <td>2020-01-31</td>\n",
       "      <td>ALL BLACK</td>\n",
       "      <td>ALL BLACK by King Khalil (Ft. PA Sports)</td>\n",
       "      <td>5189160</td>\n",
       "      <td>Yo pls dont call me Im busy at the moment U ma...</td>\n",
       "      <td>2020</td>\n",
       "      <td>Friday</td>\n",
       "      <td>post-rock</td>\n",
       "      <td>Rock</td>\n",
       "      <td>156</td>\n",
       "      <td>PA Sports</td>\n",
       "    </tr>\n",
       "    <tr>\n",
       "      <th>9</th>\n",
       "      <td>1099</td>\n",
       "      <td>209826</td>\n",
       "      <td>KING KONG</td>\n",
       "      <td>546439</td>\n",
       "      <td>2020-01-31</td>\n",
       "      <td>BABYLON</td>\n",
       "      <td>BABYLON by King Khalil (Ft. Azad)</td>\n",
       "      <td>5189162</td>\n",
       "      <td>Studio AlbumsThe Rolling Stones , UK  Englands...</td>\n",
       "      <td>2020</td>\n",
       "      <td>Friday</td>\n",
       "      <td>post-rock</td>\n",
       "      <td>Rock</td>\n",
       "      <td>279</td>\n",
       "      <td>Azad</td>\n",
       "    </tr>\n",
       "    <tr>\n",
       "      <th>...</th>\n",
       "      <td>...</td>\n",
       "      <td>...</td>\n",
       "      <td>...</td>\n",
       "      <td>...</td>\n",
       "      <td>...</td>\n",
       "      <td>...</td>\n",
       "      <td>...</td>\n",
       "      <td>...</td>\n",
       "      <td>...</td>\n",
       "      <td>...</td>\n",
       "      <td>...</td>\n",
       "      <td>...</td>\n",
       "      <td>...</td>\n",
       "      <td>...</td>\n",
       "      <td>...</td>\n",
       "    </tr>\n",
       "    <tr>\n",
       "      <th>17741</th>\n",
       "      <td>t-low</td>\n",
       "      <td>9229</td>\n",
       "      <td>Litty Way</td>\n",
       "      <td>618085</td>\n",
       "      <td>2020-03-20</td>\n",
       "      <td>Schuhe Kaputt</td>\n",
       "      <td>Schuhe Kaputt by ​​t-low (Ft. NOK1D)</td>\n",
       "      <td>5402535</td>\n",
       "      <td>Time on the beat  SchuSchu Schuhe sind kaputt,...</td>\n",
       "      <td>2020</td>\n",
       "      <td>Friday</td>\n",
       "      <td>hip-hop</td>\n",
       "      <td>Rap</td>\n",
       "      <td>58</td>\n",
       "      <td>NOK1D</td>\n",
       "    </tr>\n",
       "    <tr>\n",
       "      <th>17742</th>\n",
       "      <td>t-low</td>\n",
       "      <td>9229</td>\n",
       "      <td>Litty Way</td>\n",
       "      <td>618085</td>\n",
       "      <td>2020-03-20</td>\n",
       "      <td>Besser</td>\n",
       "      <td>Besser by ​​t-low (Ft. BiggO)</td>\n",
       "      <td>5402536</td>\n",
       "      <td>Baller die Scheine in Automaten Ey, meine Kund...</td>\n",
       "      <td>2020</td>\n",
       "      <td>Friday</td>\n",
       "      <td>hip-hop</td>\n",
       "      <td>Rap</td>\n",
       "      <td>80</td>\n",
       "      <td>BiggO</td>\n",
       "    </tr>\n",
       "    <tr>\n",
       "      <th>17744</th>\n",
       "      <td>t-low</td>\n",
       "      <td>9229</td>\n",
       "      <td>Litty Way</td>\n",
       "      <td>618085</td>\n",
       "      <td>2020-03-20</td>\n",
       "      <td>Light It Up</td>\n",
       "      <td>Light It Up by ​​t-low (Ft. NOK1D &amp; Rei Saike)</td>\n",
       "      <td>5402538</td>\n",
       "      <td>Kozee, cooke die Sauce  FüFüFünfer für ne Xan,...</td>\n",
       "      <td>2020</td>\n",
       "      <td>Friday</td>\n",
       "      <td>hip-hop</td>\n",
       "      <td>Rap</td>\n",
       "      <td>102</td>\n",
       "      <td>NOK1D &amp; Rei Saike</td>\n",
       "    </tr>\n",
       "    <tr>\n",
       "      <th>17749</th>\n",
       "      <td>t-low</td>\n",
       "      <td>9229</td>\n",
       "      <td>Tyskie (EP)</td>\n",
       "      <td>553779</td>\n",
       "      <td>2019-08-02</td>\n",
       "      <td>40 Nights</td>\n",
       "      <td>40 Nights by ​​t-low (Ft. Sevi Rin)</td>\n",
       "      <td>4782294</td>\n",
       "      <td>MBC  Sie will nur Liebe, ich will nur Lean Pud...</td>\n",
       "      <td>2019</td>\n",
       "      <td>Friday</td>\n",
       "      <td>hip-hop</td>\n",
       "      <td>Rap</td>\n",
       "      <td>80</td>\n",
       "      <td>Sevi Rin</td>\n",
       "    </tr>\n",
       "    <tr>\n",
       "      <th>17751</th>\n",
       "      <td>t-low</td>\n",
       "      <td>9229</td>\n",
       "      <td>Tyskie (EP)</td>\n",
       "      <td>553779</td>\n",
       "      <td>2019-08-02</td>\n",
       "      <td>Fliegt</td>\n",
       "      <td>Fliegt by ​​t-low (Ft. Murcy)</td>\n",
       "      <td>4784534</td>\n",
       "      <td>Rope God, youre so anorexic  Und sie fliegt ja...</td>\n",
       "      <td>2019</td>\n",
       "      <td>Friday</td>\n",
       "      <td>hip-hop</td>\n",
       "      <td>Rap</td>\n",
       "      <td>90</td>\n",
       "      <td>Murcy</td>\n",
       "    </tr>\n",
       "  </tbody>\n",
       "</table>\n",
       "<p>2873 rows × 15 columns</p>\n",
       "</div>"
      ],
      "text/plain": [
       "      artist  artist_id        album  album_id release_date          title   \n",
       "2       1099     209826    KING KONG    546439   2020-01-31     BUNDESWEIT  \\\n",
       "3       1099     209826    KING KONG    546439   2020-01-31       HOLLANDA   \n",
       "5       1099     209826    KING KONG    546439   2020-01-31          KILLA   \n",
       "7       1099     209826    KING KONG    546439   2020-01-31      ALL BLACK   \n",
       "9       1099     209826    KING KONG    546439   2020-01-31        BABYLON   \n",
       "...      ...        ...          ...       ...          ...            ...   \n",
       "17741  t-low       9229    Litty Way    618085   2020-03-20  Schuhe Kaputt   \n",
       "17742  t-low       9229    Litty Way    618085   2020-03-20         Besser   \n",
       "17744  t-low       9229    Litty Way    618085   2020-03-20    Light It Up   \n",
       "17749  t-low       9229  Tyskie (EP)    553779   2019-08-02      40 Nights   \n",
       "17751  t-low       9229  Tyskie (EP)    553779   2019-08-02         Fliegt   \n",
       "\n",
       "                                           full_title  song_id   \n",
       "2                BUNDESWEIT by King Khalil (Ft. Fler)  4532899  \\\n",
       "3                  HOLLANDA by King Khalil (Ft. Mert)  5189158   \n",
       "5                     KILLA by King Khalil (Ft. 2Ton)  5189159   \n",
       "7            ALL BLACK by King Khalil (Ft. PA Sports)  5189160   \n",
       "9                   BABYLON by King Khalil (Ft. Azad)  5189162   \n",
       "...                                               ...      ...   \n",
       "17741            Schuhe Kaputt by ​​t-low (Ft. NOK1D)  5402535   \n",
       "17742                   Besser by ​​t-low (Ft. BiggO)  5402536   \n",
       "17744  Light It Up by ​​t-low (Ft. NOK1D & Rei Saike)  5402538   \n",
       "17749             40 Nights by ​​t-low (Ft. Sevi Rin)  4782294   \n",
       "17751                   Fliegt by ​​t-low (Ft. Murcy)  4784534   \n",
       "\n",
       "                                                  lyrics  release_year   \n",
       "2      Aus meiner Stadt fliegen Leuchtclips und Bresl...          2020  \\\n",
       "3      Because youre so sweet You lift up my heart An...          2020   \n",
       "5      Yo, its that boy Denzel Curry Im finna do this...          2020   \n",
       "7      Yo pls dont call me Im busy at the moment U ma...          2020   \n",
       "9      Studio AlbumsThe Rolling Stones , UK  Englands...          2020   \n",
       "...                                                  ...           ...   \n",
       "17741  Time on the beat  SchuSchu Schuhe sind kaputt,...          2020   \n",
       "17742  Baller die Scheine in Automaten Ey, meine Kund...          2020   \n",
       "17744  Kozee, cooke die Sauce  FüFüFünfer für ne Xan,...          2020   \n",
       "17749  MBC  Sie will nur Liebe, ich will nur Lean Pud...          2019   \n",
       "17751  Rope God, youre so anorexic  Und sie fliegt ja...          2019   \n",
       "\n",
       "      weekday      genre genre_cat  word_count      collaboration  \n",
       "2      Friday  post-rock      Rock         113               Fler  \n",
       "3      Friday  post-rock      Rock          80               Mert  \n",
       "5      Friday  post-rock      Rock          57               2Ton  \n",
       "7      Friday  post-rock      Rock         156          PA Sports  \n",
       "9      Friday  post-rock      Rock         279               Azad  \n",
       "...       ...        ...       ...         ...                ...  \n",
       "17741  Friday    hip-hop       Rap          58              NOK1D  \n",
       "17742  Friday    hip-hop       Rap          80              BiggO  \n",
       "17744  Friday    hip-hop       Rap         102  NOK1D & Rei Saike  \n",
       "17749  Friday    hip-hop       Rap          80           Sevi Rin  \n",
       "17751  Friday    hip-hop       Rap          90              Murcy  \n",
       "\n",
       "[2873 rows x 15 columns]"
      ]
     },
     "execution_count": 8,
     "metadata": {},
     "output_type": "execute_result"
    }
   ],
   "source": [
    "colabs"
   ]
  },
  {
   "cell_type": "code",
   "execution_count": 9,
   "metadata": {},
   "outputs": [
    {
     "name": "stdout",
     "output_type": "stream",
     "text": [
      "genre\n",
      "[]                47\n",
      "ambient           57\n",
      "cloud rap         10\n",
      "deutsch rap       29\n",
      "deutschrap      1101\n",
      "deutschrock       45\n",
      "dubstep            2\n",
      "electro           20\n",
      "emo               17\n",
      "hip hop          298\n",
      "hip-hop          212\n",
      "indie             17\n",
      "instrumental       3\n",
      "karneval           5\n",
      "new wave           2\n",
      "party              2\n",
      "pop               89\n",
      "pop rock           1\n",
      "pornorap           9\n",
      "post-rock         18\n",
      "punk rock          2\n",
      "rap              661\n",
      "reggae            28\n",
      "rock              40\n",
      "schlager          22\n",
      "Name: collaboration, dtype: int64\n"
     ]
    }
   ],
   "source": [
    "colabs_per_genre = colabs.groupby('genre')['collaboration'].count()\n",
    "print(colabs_per_genre)\n"
   ]
  },
  {
   "cell_type": "code",
   "execution_count": 10,
   "metadata": {},
   "outputs": [],
   "source": [
    "colabs_per_genre_df = pd.DataFrame(list(colabs_per_genre.items()), columns=[\"genre\", \"count\"])"
   ]
  },
  {
   "cell_type": "code",
   "execution_count": 11,
   "metadata": {},
   "outputs": [
    {
     "data": {
      "text/html": [
       "<div>\n",
       "<style scoped>\n",
       "    .dataframe tbody tr th:only-of-type {\n",
       "        vertical-align: middle;\n",
       "    }\n",
       "\n",
       "    .dataframe tbody tr th {\n",
       "        vertical-align: top;\n",
       "    }\n",
       "\n",
       "    .dataframe thead th {\n",
       "        text-align: right;\n",
       "    }\n",
       "</style>\n",
       "<table border=\"1\" class=\"dataframe\">\n",
       "  <thead>\n",
       "    <tr style=\"text-align: right;\">\n",
       "      <th></th>\n",
       "      <th>genre</th>\n",
       "      <th>count</th>\n",
       "    </tr>\n",
       "  </thead>\n",
       "  <tbody>\n",
       "    <tr>\n",
       "      <th>0</th>\n",
       "      <td>[]</td>\n",
       "      <td>47</td>\n",
       "    </tr>\n",
       "    <tr>\n",
       "      <th>1</th>\n",
       "      <td>ambient</td>\n",
       "      <td>57</td>\n",
       "    </tr>\n",
       "    <tr>\n",
       "      <th>2</th>\n",
       "      <td>cloud rap</td>\n",
       "      <td>10</td>\n",
       "    </tr>\n",
       "    <tr>\n",
       "      <th>3</th>\n",
       "      <td>deutsch rap</td>\n",
       "      <td>29</td>\n",
       "    </tr>\n",
       "    <tr>\n",
       "      <th>4</th>\n",
       "      <td>deutschrap</td>\n",
       "      <td>1101</td>\n",
       "    </tr>\n",
       "    <tr>\n",
       "      <th>5</th>\n",
       "      <td>deutschrock</td>\n",
       "      <td>45</td>\n",
       "    </tr>\n",
       "    <tr>\n",
       "      <th>6</th>\n",
       "      <td>dubstep</td>\n",
       "      <td>2</td>\n",
       "    </tr>\n",
       "    <tr>\n",
       "      <th>7</th>\n",
       "      <td>electro</td>\n",
       "      <td>20</td>\n",
       "    </tr>\n",
       "    <tr>\n",
       "      <th>8</th>\n",
       "      <td>emo</td>\n",
       "      <td>17</td>\n",
       "    </tr>\n",
       "    <tr>\n",
       "      <th>9</th>\n",
       "      <td>hip hop</td>\n",
       "      <td>298</td>\n",
       "    </tr>\n",
       "    <tr>\n",
       "      <th>10</th>\n",
       "      <td>hip-hop</td>\n",
       "      <td>212</td>\n",
       "    </tr>\n",
       "    <tr>\n",
       "      <th>11</th>\n",
       "      <td>indie</td>\n",
       "      <td>17</td>\n",
       "    </tr>\n",
       "    <tr>\n",
       "      <th>12</th>\n",
       "      <td>instrumental</td>\n",
       "      <td>3</td>\n",
       "    </tr>\n",
       "    <tr>\n",
       "      <th>13</th>\n",
       "      <td>karneval</td>\n",
       "      <td>5</td>\n",
       "    </tr>\n",
       "    <tr>\n",
       "      <th>14</th>\n",
       "      <td>new wave</td>\n",
       "      <td>2</td>\n",
       "    </tr>\n",
       "    <tr>\n",
       "      <th>15</th>\n",
       "      <td>party</td>\n",
       "      <td>2</td>\n",
       "    </tr>\n",
       "    <tr>\n",
       "      <th>16</th>\n",
       "      <td>pop</td>\n",
       "      <td>89</td>\n",
       "    </tr>\n",
       "    <tr>\n",
       "      <th>17</th>\n",
       "      <td>pop rock</td>\n",
       "      <td>1</td>\n",
       "    </tr>\n",
       "    <tr>\n",
       "      <th>18</th>\n",
       "      <td>pornorap</td>\n",
       "      <td>9</td>\n",
       "    </tr>\n",
       "    <tr>\n",
       "      <th>19</th>\n",
       "      <td>post-rock</td>\n",
       "      <td>18</td>\n",
       "    </tr>\n",
       "    <tr>\n",
       "      <th>20</th>\n",
       "      <td>punk rock</td>\n",
       "      <td>2</td>\n",
       "    </tr>\n",
       "    <tr>\n",
       "      <th>21</th>\n",
       "      <td>rap</td>\n",
       "      <td>661</td>\n",
       "    </tr>\n",
       "    <tr>\n",
       "      <th>22</th>\n",
       "      <td>reggae</td>\n",
       "      <td>28</td>\n",
       "    </tr>\n",
       "    <tr>\n",
       "      <th>23</th>\n",
       "      <td>rock</td>\n",
       "      <td>40</td>\n",
       "    </tr>\n",
       "    <tr>\n",
       "      <th>24</th>\n",
       "      <td>schlager</td>\n",
       "      <td>22</td>\n",
       "    </tr>\n",
       "  </tbody>\n",
       "</table>\n",
       "</div>"
      ],
      "text/plain": [
       "           genre  count\n",
       "0             []     47\n",
       "1        ambient     57\n",
       "2      cloud rap     10\n",
       "3    deutsch rap     29\n",
       "4     deutschrap   1101\n",
       "5    deutschrock     45\n",
       "6        dubstep      2\n",
       "7        electro     20\n",
       "8            emo     17\n",
       "9        hip hop    298\n",
       "10       hip-hop    212\n",
       "11         indie     17\n",
       "12  instrumental      3\n",
       "13      karneval      5\n",
       "14      new wave      2\n",
       "15         party      2\n",
       "16           pop     89\n",
       "17      pop rock      1\n",
       "18      pornorap      9\n",
       "19     post-rock     18\n",
       "20     punk rock      2\n",
       "21           rap    661\n",
       "22        reggae     28\n",
       "23          rock     40\n",
       "24      schlager     22"
      ]
     },
     "execution_count": 11,
     "metadata": {},
     "output_type": "execute_result"
    }
   ],
   "source": [
    "colabs_per_genre_df"
   ]
  },
  {
   "cell_type": "code",
   "execution_count": 12,
   "metadata": {},
   "outputs": [],
   "source": [
    "pd.options.plotting.backend = \"plotly\""
   ]
  },
  {
   "cell_type": "code",
   "execution_count": 13,
   "metadata": {},
   "outputs": [
    {
     "data": {
      "application/vnd.plotly.v1+json": {
       "config": {
        "plotlyServerURL": "https://plot.ly"
       },
       "data": [
        {
         "alignmentgroup": "True",
         "hovertemplate": "genre=%{x}<br>count=%{y}<extra></extra>",
         "legendgroup": "",
         "marker": {
          "color": "#636efa",
          "pattern": {
           "shape": ""
          }
         },
         "name": "",
         "offsetgroup": "",
         "orientation": "v",
         "showlegend": false,
         "textposition": "auto",
         "type": "bar",
         "x": [
          "[]",
          "ambient",
          "cloud rap",
          "deutsch rap",
          "deutschrap",
          "deutschrock",
          "dubstep",
          "electro",
          "emo",
          "hip hop",
          "hip-hop",
          "indie",
          "instrumental",
          "karneval",
          "new wave",
          "party",
          "pop",
          "pop rock",
          "pornorap",
          "post-rock",
          "punk rock",
          "rap",
          "reggae",
          "rock",
          "schlager"
         ],
         "xaxis": "x",
         "y": [
          47,
          57,
          10,
          29,
          1101,
          45,
          2,
          20,
          17,
          298,
          212,
          17,
          3,
          5,
          2,
          2,
          89,
          1,
          9,
          18,
          2,
          661,
          28,
          40,
          22
         ],
         "yaxis": "y"
        }
       ],
       "layout": {
        "barmode": "relative",
        "legend": {
         "tracegroupgap": 0
        },
        "template": {
         "data": {
          "bar": [
           {
            "error_x": {
             "color": "#2a3f5f"
            },
            "error_y": {
             "color": "#2a3f5f"
            },
            "marker": {
             "line": {
              "color": "#E5ECF6",
              "width": 0.5
             },
             "pattern": {
              "fillmode": "overlay",
              "size": 10,
              "solidity": 0.2
             }
            },
            "type": "bar"
           }
          ],
          "barpolar": [
           {
            "marker": {
             "line": {
              "color": "#E5ECF6",
              "width": 0.5
             },
             "pattern": {
              "fillmode": "overlay",
              "size": 10,
              "solidity": 0.2
             }
            },
            "type": "barpolar"
           }
          ],
          "carpet": [
           {
            "aaxis": {
             "endlinecolor": "#2a3f5f",
             "gridcolor": "white",
             "linecolor": "white",
             "minorgridcolor": "white",
             "startlinecolor": "#2a3f5f"
            },
            "baxis": {
             "endlinecolor": "#2a3f5f",
             "gridcolor": "white",
             "linecolor": "white",
             "minorgridcolor": "white",
             "startlinecolor": "#2a3f5f"
            },
            "type": "carpet"
           }
          ],
          "choropleth": [
           {
            "colorbar": {
             "outlinewidth": 0,
             "ticks": ""
            },
            "type": "choropleth"
           }
          ],
          "contour": [
           {
            "colorbar": {
             "outlinewidth": 0,
             "ticks": ""
            },
            "colorscale": [
             [
              0,
              "#0d0887"
             ],
             [
              0.1111111111111111,
              "#46039f"
             ],
             [
              0.2222222222222222,
              "#7201a8"
             ],
             [
              0.3333333333333333,
              "#9c179e"
             ],
             [
              0.4444444444444444,
              "#bd3786"
             ],
             [
              0.5555555555555556,
              "#d8576b"
             ],
             [
              0.6666666666666666,
              "#ed7953"
             ],
             [
              0.7777777777777778,
              "#fb9f3a"
             ],
             [
              0.8888888888888888,
              "#fdca26"
             ],
             [
              1,
              "#f0f921"
             ]
            ],
            "type": "contour"
           }
          ],
          "contourcarpet": [
           {
            "colorbar": {
             "outlinewidth": 0,
             "ticks": ""
            },
            "type": "contourcarpet"
           }
          ],
          "heatmap": [
           {
            "colorbar": {
             "outlinewidth": 0,
             "ticks": ""
            },
            "colorscale": [
             [
              0,
              "#0d0887"
             ],
             [
              0.1111111111111111,
              "#46039f"
             ],
             [
              0.2222222222222222,
              "#7201a8"
             ],
             [
              0.3333333333333333,
              "#9c179e"
             ],
             [
              0.4444444444444444,
              "#bd3786"
             ],
             [
              0.5555555555555556,
              "#d8576b"
             ],
             [
              0.6666666666666666,
              "#ed7953"
             ],
             [
              0.7777777777777778,
              "#fb9f3a"
             ],
             [
              0.8888888888888888,
              "#fdca26"
             ],
             [
              1,
              "#f0f921"
             ]
            ],
            "type": "heatmap"
           }
          ],
          "heatmapgl": [
           {
            "colorbar": {
             "outlinewidth": 0,
             "ticks": ""
            },
            "colorscale": [
             [
              0,
              "#0d0887"
             ],
             [
              0.1111111111111111,
              "#46039f"
             ],
             [
              0.2222222222222222,
              "#7201a8"
             ],
             [
              0.3333333333333333,
              "#9c179e"
             ],
             [
              0.4444444444444444,
              "#bd3786"
             ],
             [
              0.5555555555555556,
              "#d8576b"
             ],
             [
              0.6666666666666666,
              "#ed7953"
             ],
             [
              0.7777777777777778,
              "#fb9f3a"
             ],
             [
              0.8888888888888888,
              "#fdca26"
             ],
             [
              1,
              "#f0f921"
             ]
            ],
            "type": "heatmapgl"
           }
          ],
          "histogram": [
           {
            "marker": {
             "pattern": {
              "fillmode": "overlay",
              "size": 10,
              "solidity": 0.2
             }
            },
            "type": "histogram"
           }
          ],
          "histogram2d": [
           {
            "colorbar": {
             "outlinewidth": 0,
             "ticks": ""
            },
            "colorscale": [
             [
              0,
              "#0d0887"
             ],
             [
              0.1111111111111111,
              "#46039f"
             ],
             [
              0.2222222222222222,
              "#7201a8"
             ],
             [
              0.3333333333333333,
              "#9c179e"
             ],
             [
              0.4444444444444444,
              "#bd3786"
             ],
             [
              0.5555555555555556,
              "#d8576b"
             ],
             [
              0.6666666666666666,
              "#ed7953"
             ],
             [
              0.7777777777777778,
              "#fb9f3a"
             ],
             [
              0.8888888888888888,
              "#fdca26"
             ],
             [
              1,
              "#f0f921"
             ]
            ],
            "type": "histogram2d"
           }
          ],
          "histogram2dcontour": [
           {
            "colorbar": {
             "outlinewidth": 0,
             "ticks": ""
            },
            "colorscale": [
             [
              0,
              "#0d0887"
             ],
             [
              0.1111111111111111,
              "#46039f"
             ],
             [
              0.2222222222222222,
              "#7201a8"
             ],
             [
              0.3333333333333333,
              "#9c179e"
             ],
             [
              0.4444444444444444,
              "#bd3786"
             ],
             [
              0.5555555555555556,
              "#d8576b"
             ],
             [
              0.6666666666666666,
              "#ed7953"
             ],
             [
              0.7777777777777778,
              "#fb9f3a"
             ],
             [
              0.8888888888888888,
              "#fdca26"
             ],
             [
              1,
              "#f0f921"
             ]
            ],
            "type": "histogram2dcontour"
           }
          ],
          "mesh3d": [
           {
            "colorbar": {
             "outlinewidth": 0,
             "ticks": ""
            },
            "type": "mesh3d"
           }
          ],
          "parcoords": [
           {
            "line": {
             "colorbar": {
              "outlinewidth": 0,
              "ticks": ""
             }
            },
            "type": "parcoords"
           }
          ],
          "pie": [
           {
            "automargin": true,
            "type": "pie"
           }
          ],
          "scatter": [
           {
            "fillpattern": {
             "fillmode": "overlay",
             "size": 10,
             "solidity": 0.2
            },
            "type": "scatter"
           }
          ],
          "scatter3d": [
           {
            "line": {
             "colorbar": {
              "outlinewidth": 0,
              "ticks": ""
             }
            },
            "marker": {
             "colorbar": {
              "outlinewidth": 0,
              "ticks": ""
             }
            },
            "type": "scatter3d"
           }
          ],
          "scattercarpet": [
           {
            "marker": {
             "colorbar": {
              "outlinewidth": 0,
              "ticks": ""
             }
            },
            "type": "scattercarpet"
           }
          ],
          "scattergeo": [
           {
            "marker": {
             "colorbar": {
              "outlinewidth": 0,
              "ticks": ""
             }
            },
            "type": "scattergeo"
           }
          ],
          "scattergl": [
           {
            "marker": {
             "colorbar": {
              "outlinewidth": 0,
              "ticks": ""
             }
            },
            "type": "scattergl"
           }
          ],
          "scattermapbox": [
           {
            "marker": {
             "colorbar": {
              "outlinewidth": 0,
              "ticks": ""
             }
            },
            "type": "scattermapbox"
           }
          ],
          "scatterpolar": [
           {
            "marker": {
             "colorbar": {
              "outlinewidth": 0,
              "ticks": ""
             }
            },
            "type": "scatterpolar"
           }
          ],
          "scatterpolargl": [
           {
            "marker": {
             "colorbar": {
              "outlinewidth": 0,
              "ticks": ""
             }
            },
            "type": "scatterpolargl"
           }
          ],
          "scatterternary": [
           {
            "marker": {
             "colorbar": {
              "outlinewidth": 0,
              "ticks": ""
             }
            },
            "type": "scatterternary"
           }
          ],
          "surface": [
           {
            "colorbar": {
             "outlinewidth": 0,
             "ticks": ""
            },
            "colorscale": [
             [
              0,
              "#0d0887"
             ],
             [
              0.1111111111111111,
              "#46039f"
             ],
             [
              0.2222222222222222,
              "#7201a8"
             ],
             [
              0.3333333333333333,
              "#9c179e"
             ],
             [
              0.4444444444444444,
              "#bd3786"
             ],
             [
              0.5555555555555556,
              "#d8576b"
             ],
             [
              0.6666666666666666,
              "#ed7953"
             ],
             [
              0.7777777777777778,
              "#fb9f3a"
             ],
             [
              0.8888888888888888,
              "#fdca26"
             ],
             [
              1,
              "#f0f921"
             ]
            ],
            "type": "surface"
           }
          ],
          "table": [
           {
            "cells": {
             "fill": {
              "color": "#EBF0F8"
             },
             "line": {
              "color": "white"
             }
            },
            "header": {
             "fill": {
              "color": "#C8D4E3"
             },
             "line": {
              "color": "white"
             }
            },
            "type": "table"
           }
          ]
         },
         "layout": {
          "annotationdefaults": {
           "arrowcolor": "#2a3f5f",
           "arrowhead": 0,
           "arrowwidth": 1
          },
          "autotypenumbers": "strict",
          "coloraxis": {
           "colorbar": {
            "outlinewidth": 0,
            "ticks": ""
           }
          },
          "colorscale": {
           "diverging": [
            [
             0,
             "#8e0152"
            ],
            [
             0.1,
             "#c51b7d"
            ],
            [
             0.2,
             "#de77ae"
            ],
            [
             0.3,
             "#f1b6da"
            ],
            [
             0.4,
             "#fde0ef"
            ],
            [
             0.5,
             "#f7f7f7"
            ],
            [
             0.6,
             "#e6f5d0"
            ],
            [
             0.7,
             "#b8e186"
            ],
            [
             0.8,
             "#7fbc41"
            ],
            [
             0.9,
             "#4d9221"
            ],
            [
             1,
             "#276419"
            ]
           ],
           "sequential": [
            [
             0,
             "#0d0887"
            ],
            [
             0.1111111111111111,
             "#46039f"
            ],
            [
             0.2222222222222222,
             "#7201a8"
            ],
            [
             0.3333333333333333,
             "#9c179e"
            ],
            [
             0.4444444444444444,
             "#bd3786"
            ],
            [
             0.5555555555555556,
             "#d8576b"
            ],
            [
             0.6666666666666666,
             "#ed7953"
            ],
            [
             0.7777777777777778,
             "#fb9f3a"
            ],
            [
             0.8888888888888888,
             "#fdca26"
            ],
            [
             1,
             "#f0f921"
            ]
           ],
           "sequentialminus": [
            [
             0,
             "#0d0887"
            ],
            [
             0.1111111111111111,
             "#46039f"
            ],
            [
             0.2222222222222222,
             "#7201a8"
            ],
            [
             0.3333333333333333,
             "#9c179e"
            ],
            [
             0.4444444444444444,
             "#bd3786"
            ],
            [
             0.5555555555555556,
             "#d8576b"
            ],
            [
             0.6666666666666666,
             "#ed7953"
            ],
            [
             0.7777777777777778,
             "#fb9f3a"
            ],
            [
             0.8888888888888888,
             "#fdca26"
            ],
            [
             1,
             "#f0f921"
            ]
           ]
          },
          "colorway": [
           "#636efa",
           "#EF553B",
           "#00cc96",
           "#ab63fa",
           "#FFA15A",
           "#19d3f3",
           "#FF6692",
           "#B6E880",
           "#FF97FF",
           "#FECB52"
          ],
          "font": {
           "color": "#2a3f5f"
          },
          "geo": {
           "bgcolor": "white",
           "lakecolor": "white",
           "landcolor": "#E5ECF6",
           "showlakes": true,
           "showland": true,
           "subunitcolor": "white"
          },
          "hoverlabel": {
           "align": "left"
          },
          "hovermode": "closest",
          "mapbox": {
           "style": "light"
          },
          "paper_bgcolor": "white",
          "plot_bgcolor": "#E5ECF6",
          "polar": {
           "angularaxis": {
            "gridcolor": "white",
            "linecolor": "white",
            "ticks": ""
           },
           "bgcolor": "#E5ECF6",
           "radialaxis": {
            "gridcolor": "white",
            "linecolor": "white",
            "ticks": ""
           }
          },
          "scene": {
           "xaxis": {
            "backgroundcolor": "#E5ECF6",
            "gridcolor": "white",
            "gridwidth": 2,
            "linecolor": "white",
            "showbackground": true,
            "ticks": "",
            "zerolinecolor": "white"
           },
           "yaxis": {
            "backgroundcolor": "#E5ECF6",
            "gridcolor": "white",
            "gridwidth": 2,
            "linecolor": "white",
            "showbackground": true,
            "ticks": "",
            "zerolinecolor": "white"
           },
           "zaxis": {
            "backgroundcolor": "#E5ECF6",
            "gridcolor": "white",
            "gridwidth": 2,
            "linecolor": "white",
            "showbackground": true,
            "ticks": "",
            "zerolinecolor": "white"
           }
          },
          "shapedefaults": {
           "line": {
            "color": "#2a3f5f"
           }
          },
          "ternary": {
           "aaxis": {
            "gridcolor": "white",
            "linecolor": "white",
            "ticks": ""
           },
           "baxis": {
            "gridcolor": "white",
            "linecolor": "white",
            "ticks": ""
           },
           "bgcolor": "#E5ECF6",
           "caxis": {
            "gridcolor": "white",
            "linecolor": "white",
            "ticks": ""
           }
          },
          "title": {
           "x": 0.05
          },
          "xaxis": {
           "automargin": true,
           "gridcolor": "white",
           "linecolor": "white",
           "ticks": "",
           "title": {
            "standoff": 15
           },
           "zerolinecolor": "white",
           "zerolinewidth": 2
          },
          "yaxis": {
           "automargin": true,
           "gridcolor": "white",
           "linecolor": "white",
           "ticks": "",
           "title": {
            "standoff": 15
           },
           "zerolinecolor": "white",
           "zerolinewidth": 2
          }
         }
        },
        "title": {
         "text": "Verteilung der Collaborators nach Genre"
        },
        "xaxis": {
         "anchor": "y",
         "domain": [
          0,
          1
         ],
         "title": {
          "text": "genre"
         }
        },
        "yaxis": {
         "anchor": "x",
         "domain": [
          0,
          1
         ],
         "title": {
          "text": "count"
         }
        }
       }
      }
     },
     "metadata": {},
     "output_type": "display_data"
    }
   ],
   "source": [
    "colabs_per_genre_fig = colabs_per_genre_df.plot(kind='bar', x='genre', y='count', title='Verteilung der Collaborators nach Genre')\n",
    "\n",
    "colabs_per_genre_fig.show()"
   ]
  },
  {
   "attachments": {},
   "cell_type": "markdown",
   "metadata": {},
   "source": [
    "##### Mit wie vielen Künstlern wird durchschnittich kollaboriert?"
   ]
  },
  {
   "cell_type": "code",
   "execution_count": 14,
   "metadata": {},
   "outputs": [
    {
     "name": "stderr",
     "output_type": "stream",
     "text": [
      "<ipython-input-14-864e33f0101b>:1: SettingWithCopyWarning:\n",
      "\n",
      "\n",
      "A value is trying to be set on a copy of a slice from a DataFrame.\n",
      "Try using .loc[row_indexer,col_indexer] = value instead\n",
      "\n",
      "See the caveats in the documentation: https://pandas.pydata.org/pandas-docs/stable/user_guide/indexing.html#returning-a-view-versus-a-copy\n",
      "\n"
     ]
    }
   ],
   "source": [
    "colabs['collaboration_split'] = colabs[\"collaboration\"].str.split(\"&\")\n",
    "    "
   ]
  },
  {
   "cell_type": "code",
   "execution_count": 15,
   "metadata": {},
   "outputs": [
    {
     "data": {
      "text/plain": [
       "1.1952662721893492"
      ]
     },
     "execution_count": 15,
     "metadata": {},
     "output_type": "execute_result"
    }
   ],
   "source": [
    "colabs[\"collaboration_split\"].apply(len).mean()"
   ]
  },
  {
   "cell_type": "code",
   "execution_count": 16,
   "metadata": {},
   "outputs": [
    {
     "data": {
      "text/plain": [
       "3"
      ]
     },
     "execution_count": 16,
     "metadata": {},
     "output_type": "execute_result"
    }
   ],
   "source": [
    "colabs[\"collaboration_split\"].apply(len).max()"
   ]
  },
  {
   "cell_type": "code",
   "execution_count": 17,
   "metadata": {},
   "outputs": [
    {
     "data": {
      "text/plain": [
       "count    2873.000000\n",
       "mean        1.195266\n",
       "std         0.401709\n",
       "min         1.000000\n",
       "25%         1.000000\n",
       "50%         1.000000\n",
       "75%         1.000000\n",
       "max         3.000000\n",
       "Name: collaboration_split, dtype: float64"
      ]
     },
     "execution_count": 17,
     "metadata": {},
     "output_type": "execute_result"
    }
   ],
   "source": [
    "colabs['collaboration_split'].apply(len).describe()"
   ]
  },
  {
   "cell_type": "code",
   "execution_count": 18,
   "metadata": {},
   "outputs": [
    {
     "data": {
      "text/plain": [
       "count             2873\n",
       "unique            1376\n",
       "top       [Farid Bang]\n",
       "freq                44\n",
       "Name: collaboration_split, dtype: object"
      ]
     },
     "execution_count": 18,
     "metadata": {},
     "output_type": "execute_result"
    }
   ],
   "source": [
    "colabs['collaboration_split'].describe()"
   ]
  },
  {
   "cell_type": "code",
   "execution_count": 19,
   "metadata": {},
   "outputs": [
    {
     "data": {
      "text/html": [
       "<div>\n",
       "<style scoped>\n",
       "    .dataframe tbody tr th:only-of-type {\n",
       "        vertical-align: middle;\n",
       "    }\n",
       "\n",
       "    .dataframe tbody tr th {\n",
       "        vertical-align: top;\n",
       "    }\n",
       "\n",
       "    .dataframe thead th {\n",
       "        text-align: right;\n",
       "    }\n",
       "</style>\n",
       "<table border=\"1\" class=\"dataframe\">\n",
       "  <thead>\n",
       "    <tr style=\"text-align: right;\">\n",
       "      <th></th>\n",
       "      <th>artist</th>\n",
       "      <th>artist_id</th>\n",
       "      <th>album</th>\n",
       "      <th>album_id</th>\n",
       "      <th>release_date</th>\n",
       "      <th>title</th>\n",
       "      <th>full_title</th>\n",
       "      <th>song_id</th>\n",
       "      <th>lyrics</th>\n",
       "      <th>release_year</th>\n",
       "      <th>weekday</th>\n",
       "      <th>genre</th>\n",
       "      <th>genre_cat</th>\n",
       "      <th>word_count</th>\n",
       "      <th>collaboration</th>\n",
       "      <th>collaboration_split</th>\n",
       "    </tr>\n",
       "  </thead>\n",
       "  <tbody>\n",
       "    <tr>\n",
       "      <th>2</th>\n",
       "      <td>1099</td>\n",
       "      <td>209826</td>\n",
       "      <td>KING KONG</td>\n",
       "      <td>546439</td>\n",
       "      <td>2020-01-31</td>\n",
       "      <td>BUNDESWEIT</td>\n",
       "      <td>BUNDESWEIT by King Khalil (Ft. Fler)</td>\n",
       "      <td>4532899</td>\n",
       "      <td>Aus meiner Stadt fliegen Leuchtclips und Bresl...</td>\n",
       "      <td>2020</td>\n",
       "      <td>Friday</td>\n",
       "      <td>post-rock</td>\n",
       "      <td>Rock</td>\n",
       "      <td>113</td>\n",
       "      <td>Fler</td>\n",
       "      <td>[Fler]</td>\n",
       "    </tr>\n",
       "    <tr>\n",
       "      <th>3</th>\n",
       "      <td>1099</td>\n",
       "      <td>209826</td>\n",
       "      <td>KING KONG</td>\n",
       "      <td>546439</td>\n",
       "      <td>2020-01-31</td>\n",
       "      <td>HOLLANDA</td>\n",
       "      <td>HOLLANDA by King Khalil (Ft. Mert)</td>\n",
       "      <td>5189158</td>\n",
       "      <td>Because youre so sweet You lift up my heart An...</td>\n",
       "      <td>2020</td>\n",
       "      <td>Friday</td>\n",
       "      <td>post-rock</td>\n",
       "      <td>Rock</td>\n",
       "      <td>80</td>\n",
       "      <td>Mert</td>\n",
       "      <td>[Mert]</td>\n",
       "    </tr>\n",
       "    <tr>\n",
       "      <th>5</th>\n",
       "      <td>1099</td>\n",
       "      <td>209826</td>\n",
       "      <td>KING KONG</td>\n",
       "      <td>546439</td>\n",
       "      <td>2020-01-31</td>\n",
       "      <td>KILLA</td>\n",
       "      <td>KILLA by King Khalil (Ft. 2Ton)</td>\n",
       "      <td>5189159</td>\n",
       "      <td>Yo, its that boy Denzel Curry Im finna do this...</td>\n",
       "      <td>2020</td>\n",
       "      <td>Friday</td>\n",
       "      <td>post-rock</td>\n",
       "      <td>Rock</td>\n",
       "      <td>57</td>\n",
       "      <td>2Ton</td>\n",
       "      <td>[2Ton]</td>\n",
       "    </tr>\n",
       "    <tr>\n",
       "      <th>7</th>\n",
       "      <td>1099</td>\n",
       "      <td>209826</td>\n",
       "      <td>KING KONG</td>\n",
       "      <td>546439</td>\n",
       "      <td>2020-01-31</td>\n",
       "      <td>ALL BLACK</td>\n",
       "      <td>ALL BLACK by King Khalil (Ft. PA Sports)</td>\n",
       "      <td>5189160</td>\n",
       "      <td>Yo pls dont call me Im busy at the moment U ma...</td>\n",
       "      <td>2020</td>\n",
       "      <td>Friday</td>\n",
       "      <td>post-rock</td>\n",
       "      <td>Rock</td>\n",
       "      <td>156</td>\n",
       "      <td>PA Sports</td>\n",
       "      <td>[PA Sports]</td>\n",
       "    </tr>\n",
       "    <tr>\n",
       "      <th>9</th>\n",
       "      <td>1099</td>\n",
       "      <td>209826</td>\n",
       "      <td>KING KONG</td>\n",
       "      <td>546439</td>\n",
       "      <td>2020-01-31</td>\n",
       "      <td>BABYLON</td>\n",
       "      <td>BABYLON by King Khalil (Ft. Azad)</td>\n",
       "      <td>5189162</td>\n",
       "      <td>Studio AlbumsThe Rolling Stones , UK  Englands...</td>\n",
       "      <td>2020</td>\n",
       "      <td>Friday</td>\n",
       "      <td>post-rock</td>\n",
       "      <td>Rock</td>\n",
       "      <td>279</td>\n",
       "      <td>Azad</td>\n",
       "      <td>[Azad]</td>\n",
       "    </tr>\n",
       "    <tr>\n",
       "      <th>...</th>\n",
       "      <td>...</td>\n",
       "      <td>...</td>\n",
       "      <td>...</td>\n",
       "      <td>...</td>\n",
       "      <td>...</td>\n",
       "      <td>...</td>\n",
       "      <td>...</td>\n",
       "      <td>...</td>\n",
       "      <td>...</td>\n",
       "      <td>...</td>\n",
       "      <td>...</td>\n",
       "      <td>...</td>\n",
       "      <td>...</td>\n",
       "      <td>...</td>\n",
       "      <td>...</td>\n",
       "      <td>...</td>\n",
       "    </tr>\n",
       "    <tr>\n",
       "      <th>17741</th>\n",
       "      <td>t-low</td>\n",
       "      <td>9229</td>\n",
       "      <td>Litty Way</td>\n",
       "      <td>618085</td>\n",
       "      <td>2020-03-20</td>\n",
       "      <td>Schuhe Kaputt</td>\n",
       "      <td>Schuhe Kaputt by ​​t-low (Ft. NOK1D)</td>\n",
       "      <td>5402535</td>\n",
       "      <td>Time on the beat  SchuSchu Schuhe sind kaputt,...</td>\n",
       "      <td>2020</td>\n",
       "      <td>Friday</td>\n",
       "      <td>hip-hop</td>\n",
       "      <td>Rap</td>\n",
       "      <td>58</td>\n",
       "      <td>NOK1D</td>\n",
       "      <td>[NOK1D]</td>\n",
       "    </tr>\n",
       "    <tr>\n",
       "      <th>17742</th>\n",
       "      <td>t-low</td>\n",
       "      <td>9229</td>\n",
       "      <td>Litty Way</td>\n",
       "      <td>618085</td>\n",
       "      <td>2020-03-20</td>\n",
       "      <td>Besser</td>\n",
       "      <td>Besser by ​​t-low (Ft. BiggO)</td>\n",
       "      <td>5402536</td>\n",
       "      <td>Baller die Scheine in Automaten Ey, meine Kund...</td>\n",
       "      <td>2020</td>\n",
       "      <td>Friday</td>\n",
       "      <td>hip-hop</td>\n",
       "      <td>Rap</td>\n",
       "      <td>80</td>\n",
       "      <td>BiggO</td>\n",
       "      <td>[BiggO]</td>\n",
       "    </tr>\n",
       "    <tr>\n",
       "      <th>17744</th>\n",
       "      <td>t-low</td>\n",
       "      <td>9229</td>\n",
       "      <td>Litty Way</td>\n",
       "      <td>618085</td>\n",
       "      <td>2020-03-20</td>\n",
       "      <td>Light It Up</td>\n",
       "      <td>Light It Up by ​​t-low (Ft. NOK1D &amp; Rei Saike)</td>\n",
       "      <td>5402538</td>\n",
       "      <td>Kozee, cooke die Sauce  FüFüFünfer für ne Xan,...</td>\n",
       "      <td>2020</td>\n",
       "      <td>Friday</td>\n",
       "      <td>hip-hop</td>\n",
       "      <td>Rap</td>\n",
       "      <td>102</td>\n",
       "      <td>NOK1D &amp; Rei Saike</td>\n",
       "      <td>[NOK1D ,  Rei Saike]</td>\n",
       "    </tr>\n",
       "    <tr>\n",
       "      <th>17749</th>\n",
       "      <td>t-low</td>\n",
       "      <td>9229</td>\n",
       "      <td>Tyskie (EP)</td>\n",
       "      <td>553779</td>\n",
       "      <td>2019-08-02</td>\n",
       "      <td>40 Nights</td>\n",
       "      <td>40 Nights by ​​t-low (Ft. Sevi Rin)</td>\n",
       "      <td>4782294</td>\n",
       "      <td>MBC  Sie will nur Liebe, ich will nur Lean Pud...</td>\n",
       "      <td>2019</td>\n",
       "      <td>Friday</td>\n",
       "      <td>hip-hop</td>\n",
       "      <td>Rap</td>\n",
       "      <td>80</td>\n",
       "      <td>Sevi Rin</td>\n",
       "      <td>[Sevi Rin]</td>\n",
       "    </tr>\n",
       "    <tr>\n",
       "      <th>17751</th>\n",
       "      <td>t-low</td>\n",
       "      <td>9229</td>\n",
       "      <td>Tyskie (EP)</td>\n",
       "      <td>553779</td>\n",
       "      <td>2019-08-02</td>\n",
       "      <td>Fliegt</td>\n",
       "      <td>Fliegt by ​​t-low (Ft. Murcy)</td>\n",
       "      <td>4784534</td>\n",
       "      <td>Rope God, youre so anorexic  Und sie fliegt ja...</td>\n",
       "      <td>2019</td>\n",
       "      <td>Friday</td>\n",
       "      <td>hip-hop</td>\n",
       "      <td>Rap</td>\n",
       "      <td>90</td>\n",
       "      <td>Murcy</td>\n",
       "      <td>[Murcy]</td>\n",
       "    </tr>\n",
       "  </tbody>\n",
       "</table>\n",
       "<p>2873 rows × 16 columns</p>\n",
       "</div>"
      ],
      "text/plain": [
       "      artist  artist_id        album  album_id release_date          title   \n",
       "2       1099     209826    KING KONG    546439   2020-01-31     BUNDESWEIT  \\\n",
       "3       1099     209826    KING KONG    546439   2020-01-31       HOLLANDA   \n",
       "5       1099     209826    KING KONG    546439   2020-01-31          KILLA   \n",
       "7       1099     209826    KING KONG    546439   2020-01-31      ALL BLACK   \n",
       "9       1099     209826    KING KONG    546439   2020-01-31        BABYLON   \n",
       "...      ...        ...          ...       ...          ...            ...   \n",
       "17741  t-low       9229    Litty Way    618085   2020-03-20  Schuhe Kaputt   \n",
       "17742  t-low       9229    Litty Way    618085   2020-03-20         Besser   \n",
       "17744  t-low       9229    Litty Way    618085   2020-03-20    Light It Up   \n",
       "17749  t-low       9229  Tyskie (EP)    553779   2019-08-02      40 Nights   \n",
       "17751  t-low       9229  Tyskie (EP)    553779   2019-08-02         Fliegt   \n",
       "\n",
       "                                           full_title  song_id   \n",
       "2                BUNDESWEIT by King Khalil (Ft. Fler)  4532899  \\\n",
       "3                  HOLLANDA by King Khalil (Ft. Mert)  5189158   \n",
       "5                     KILLA by King Khalil (Ft. 2Ton)  5189159   \n",
       "7            ALL BLACK by King Khalil (Ft. PA Sports)  5189160   \n",
       "9                   BABYLON by King Khalil (Ft. Azad)  5189162   \n",
       "...                                               ...      ...   \n",
       "17741            Schuhe Kaputt by ​​t-low (Ft. NOK1D)  5402535   \n",
       "17742                   Besser by ​​t-low (Ft. BiggO)  5402536   \n",
       "17744  Light It Up by ​​t-low (Ft. NOK1D & Rei Saike)  5402538   \n",
       "17749             40 Nights by ​​t-low (Ft. Sevi Rin)  4782294   \n",
       "17751                   Fliegt by ​​t-low (Ft. Murcy)  4784534   \n",
       "\n",
       "                                                  lyrics  release_year   \n",
       "2      Aus meiner Stadt fliegen Leuchtclips und Bresl...          2020  \\\n",
       "3      Because youre so sweet You lift up my heart An...          2020   \n",
       "5      Yo, its that boy Denzel Curry Im finna do this...          2020   \n",
       "7      Yo pls dont call me Im busy at the moment U ma...          2020   \n",
       "9      Studio AlbumsThe Rolling Stones , UK  Englands...          2020   \n",
       "...                                                  ...           ...   \n",
       "17741  Time on the beat  SchuSchu Schuhe sind kaputt,...          2020   \n",
       "17742  Baller die Scheine in Automaten Ey, meine Kund...          2020   \n",
       "17744  Kozee, cooke die Sauce  FüFüFünfer für ne Xan,...          2020   \n",
       "17749  MBC  Sie will nur Liebe, ich will nur Lean Pud...          2019   \n",
       "17751  Rope God, youre so anorexic  Und sie fliegt ja...          2019   \n",
       "\n",
       "      weekday      genre genre_cat  word_count      collaboration   \n",
       "2      Friday  post-rock      Rock         113               Fler  \\\n",
       "3      Friday  post-rock      Rock          80               Mert   \n",
       "5      Friday  post-rock      Rock          57               2Ton   \n",
       "7      Friday  post-rock      Rock         156          PA Sports   \n",
       "9      Friday  post-rock      Rock         279               Azad   \n",
       "...       ...        ...       ...         ...                ...   \n",
       "17741  Friday    hip-hop       Rap          58              NOK1D   \n",
       "17742  Friday    hip-hop       Rap          80              BiggO   \n",
       "17744  Friday    hip-hop       Rap         102  NOK1D & Rei Saike   \n",
       "17749  Friday    hip-hop       Rap          80           Sevi Rin   \n",
       "17751  Friday    hip-hop       Rap          90              Murcy   \n",
       "\n",
       "        collaboration_split  \n",
       "2                    [Fler]  \n",
       "3                    [Mert]  \n",
       "5                    [2Ton]  \n",
       "7               [PA Sports]  \n",
       "9                    [Azad]  \n",
       "...                     ...  \n",
       "17741               [NOK1D]  \n",
       "17742               [BiggO]  \n",
       "17744  [NOK1D ,  Rei Saike]  \n",
       "17749            [Sevi Rin]  \n",
       "17751               [Murcy]  \n",
       "\n",
       "[2873 rows x 16 columns]"
      ]
     },
     "execution_count": 19,
     "metadata": {},
     "output_type": "execute_result"
    }
   ],
   "source": [
    "colabs"
   ]
  },
  {
   "cell_type": "code",
   "execution_count": 23,
   "metadata": {},
   "outputs": [
    {
     "name": "stdout",
     "output_type": "stream",
     "text": [
      "Requirement already satisfied: networkx in c:\\users\\lotus\\anaconda3\\lib\\site-packages (3.1)\n",
      "Collecting pyvis\n",
      "  Downloading pyvis-0.3.2-py3-none-any.whl (756 kB)\n",
      "     -------------------------------------- 756.0/756.0 kB 2.8 MB/s eta 0:00:00\n",
      "Requirement already satisfied: ipython>=5.3.0 in c:\\users\\lotus\\anaconda3\\lib\\site-packages (from pyvis) (7.19.0)\n",
      "Requirement already satisfied: jinja2>=2.9.6 in c:\\users\\lotus\\anaconda3\\lib\\site-packages (from pyvis) (2.11.2)\n",
      "Collecting jsonpickle>=1.4.1 (from pyvis)\n",
      "  Downloading jsonpickle-3.0.1-py2.py3-none-any.whl (40 kB)\n",
      "     ---------------------------------------- 40.5/40.5 kB ? eta 0:00:00\n",
      "Requirement already satisfied: networkx>=1.11 in c:\\users\\lotus\\anaconda3\\lib\\site-packages (from pyvis) (3.1)\n",
      "Requirement already satisfied: setuptools>=18.5 in c:\\users\\lotus\\anaconda3\\lib\\site-packages (from ipython>=5.3.0->pyvis) (50.3.1.post20201107)\n",
      "Requirement already satisfied: jedi>=0.10 in c:\\users\\lotus\\anaconda3\\lib\\site-packages (from ipython>=5.3.0->pyvis) (0.17.1)\n",
      "Requirement already satisfied: decorator in c:\\users\\lotus\\anaconda3\\lib\\site-packages (from ipython>=5.3.0->pyvis) (4.4.2)\n",
      "Requirement already satisfied: pickleshare in c:\\users\\lotus\\anaconda3\\lib\\site-packages (from ipython>=5.3.0->pyvis) (0.7.5)\n",
      "Requirement already satisfied: traitlets>=4.2 in c:\\users\\lotus\\anaconda3\\lib\\site-packages (from ipython>=5.3.0->pyvis) (5.0.5)\n",
      "Requirement already satisfied: prompt-toolkit!=3.0.0,!=3.0.1,<3.1.0,>=2.0.0 in c:\\users\\lotus\\anaconda3\\lib\\site-packages (from ipython>=5.3.0->pyvis) (3.0.8)\n",
      "Requirement already satisfied: pygments in c:\\users\\lotus\\anaconda3\\lib\\site-packages (from ipython>=5.3.0->pyvis) (2.15.1)\n",
      "Requirement already satisfied: backcall in c:\\users\\lotus\\anaconda3\\lib\\site-packages (from ipython>=5.3.0->pyvis) (0.2.0)\n",
      "Requirement already satisfied: colorama in c:\\users\\lotus\\anaconda3\\lib\\site-packages (from ipython>=5.3.0->pyvis) (0.4.6)\n",
      "Requirement already satisfied: MarkupSafe>=0.23 in c:\\users\\lotus\\anaconda3\\lib\\site-packages (from jinja2>=2.9.6->pyvis) (1.1.1)\n",
      "Requirement already satisfied: parso<0.8.0,>=0.7.0 in c:\\users\\lotus\\anaconda3\\lib\\site-packages (from jedi>=0.10->ipython>=5.3.0->pyvis) (0.7.0)\n",
      "Requirement already satisfied: wcwidth in c:\\users\\lotus\\anaconda3\\lib\\site-packages (from prompt-toolkit!=3.0.0,!=3.0.1,<3.1.0,>=2.0.0->ipython>=5.3.0->pyvis) (0.2.5)\n",
      "Requirement already satisfied: ipython-genutils in c:\\users\\lotus\\anaconda3\\lib\\site-packages (from traitlets>=4.2->ipython>=5.3.0->pyvis) (0.2.0)\n",
      "Installing collected packages: jsonpickle, pyvis\n",
      "Successfully installed jsonpickle-3.0.1 pyvis-0.3.2\n"
     ]
    }
   ],
   "source": [
    "! pip install networkx\n",
    "! pip install pyvis"
   ]
  },
  {
   "cell_type": "code",
   "execution_count": 24,
   "metadata": {},
   "outputs": [],
   "source": [
    "import networkx as nx\n",
    "import matplotlib.pyplot as plt\n",
    "from pyvis.network import Network"
   ]
  },
  {
   "cell_type": "code",
   "execution_count": 26,
   "metadata": {},
   "outputs": [
    {
     "data": {
      "image/png": "[encoded data removed]",
      "text/plain": [
       "<Figure size 720x576 with 1 Axes>"
      ]
     },
     "metadata": {},
     "output_type": "display_data"
    }
   ],
   "source": [
    "G = nx.Graph()\n",
    "\n",
    "for _, row in colabs.iterrows():\n",
    "    try:\n",
    "        collaborations = row['collaboration_split']\n",
    "        artist = row['interpret']\n",
    "        G.add_node(artist)\n",
    "        \n",
    "        for collab in collaborations:\n",
    "            collab = collab.strip()\n",
    "            G.add_node(collab)\n",
    "            G.add_edge(artist, collab)\n",
    "    except:\n",
    "        pass\n",
    "\n",
    "pos = nx.spring_layout(G, k=1)\n",
    "plt.figure(facecolor='white', figsize=(10, 8))\n",
    "nx.draw_networkx_nodes(G, pos, node_color='lightblue', alpha=0.7)\n",
    "nx.draw_networkx_edges(G, pos, edge_color='gray', alpha=0.5)\n",
    "nx.draw_networkx_labels(G, pos, font_size=10, font_color='black')\n",
    "plt.axis('off')\n",
    "plt.show()"
   ]
  },
  {
   "cell_type": "code",
   "execution_count": null,
   "metadata": {},
   "outputs": [],
   "source": [
    "# beschränkung auf die top 50 \n",
    "    # genre \n",
    "    # fokus auf einen künstler\n",
    "    # Entwicklung über die jahre\n"
   ]
  },
  {
   "cell_type": "code",
   "execution_count": 27,
   "metadata": {},
   "outputs": [
    {
     "data": {
      "image/png": "[encoded data removed]",
      "text/plain": [
       "<Figure size 720x576 with 1 Axes>"
      ]
     },
     "metadata": {},
     "output_type": "display_data"
    }
   ],
   "source": [
    "G = nx.Graph()\n",
    "\n",
    "for _, row in colabs.head(30).iterrows():\n",
    "    try:\n",
    "        collaborations = row['collaboration_split']\n",
    "        artist = row['interpret']\n",
    "        G.add_node(artist)\n",
    "        \n",
    "        for collab in collaborations:\n",
    "            collab = collab.strip()\n",
    "            G.add_node(collab)\n",
    "            G.add_edge(artist, collab)\n",
    "    except:\n",
    "        pass\n",
    "\n",
    "pos = nx.spring_layout(G, k=1)\n",
    "plt.figure(facecolor='white', figsize=(10, 8))\n",
    "nx.draw_networkx_nodes(G, pos, node_color='lightblue', alpha=0.7)\n",
    "nx.draw_networkx_edges(G, pos, edge_color='gray', alpha=0.5)\n",
    "nx.draw_networkx_labels(G, pos, font_size=10, font_color='black')\n",
    "plt.axis('off')\n",
    "plt.show()"
   ]
  },
  {
   "cell_type": "code",
   "execution_count": 20,
   "metadata": {},
   "outputs": [
    {
     "data": {
      "text/html": [
       "<div>\n",
       "<style scoped>\n",
       "    .dataframe tbody tr th:only-of-type {\n",
       "        vertical-align: middle;\n",
       "    }\n",
       "\n",
       "    .dataframe tbody tr th {\n",
       "        vertical-align: top;\n",
       "    }\n",
       "\n",
       "    .dataframe thead th {\n",
       "        text-align: right;\n",
       "    }\n",
       "</style>\n",
       "<table border=\"1\" class=\"dataframe\">\n",
       "  <thead>\n",
       "    <tr style=\"text-align: right;\">\n",
       "      <th></th>\n",
       "      <th>genre</th>\n",
       "      <th>interpret</th>\n",
       "      <th>album</th>\n",
       "      <th>release_year</th>\n",
       "      <th>songtitle</th>\n",
       "      <th>decade</th>\n",
       "      <th>song_id</th>\n",
       "      <th>full_title</th>\n",
       "      <th>release_date_components_raw</th>\n",
       "      <th>release_date_for_display</th>\n",
       "      <th>stats_raw</th>\n",
       "      <th>lyrics</th>\n",
       "      <th>weekday</th>\n",
       "      <th>word_count</th>\n",
       "      <th>collaboration</th>\n",
       "      <th>collaboration_split</th>\n",
       "    </tr>\n",
       "  </thead>\n",
       "  <tbody>\n",
       "    <tr>\n",
       "      <th>5381</th>\n",
       "      <td>Rap</td>\n",
       "      <td>Cro</td>\n",
       "      <td>Trash</td>\n",
       "      <td>2009</td>\n",
       "      <td>Dance</td>\n",
       "      <td>2000</td>\n",
       "      <td>146426</td>\n",
       "      <td>Dance by CRO (Ft. Caro (Germany) &amp; Danju)</td>\n",
       "      <td>{'year': 2009, 'month': None, 'day': None}</td>\n",
       "      <td>2009-01-01</td>\n",
       "      <td>{'unreviewed_annotations': 0, 'hot': False}</td>\n",
       "      <td>Hey baby shake that ass Shake, shake, shake t...</td>\n",
       "      <td>Thursday</td>\n",
       "      <td>306</td>\n",
       "      <td>Caro (Germany</td>\n",
       "      <td>[Caro (Germany]</td>\n",
       "    </tr>\n",
       "    <tr>\n",
       "      <th>5390</th>\n",
       "      <td>Rap</td>\n",
       "      <td>Cro</td>\n",
       "      <td>Meine Musik</td>\n",
       "      <td>2011</td>\n",
       "      <td>Sorry Girl</td>\n",
       "      <td>2010</td>\n",
       "      <td>112268</td>\n",
       "      <td>Sorry Girl by CRO (Ft. Danju)</td>\n",
       "      <td>{'year': 2011, 'month': 2, 'day': 2}</td>\n",
       "      <td>2011-02-02</td>\n",
       "      <td>{'unreviewed_annotations': 0, 'hot': False}</td>\n",
       "      <td>Mhh, yeah, Baby du bist wunderschön Und wir k...</td>\n",
       "      <td>Wednesday</td>\n",
       "      <td>119</td>\n",
       "      <td>Danju</td>\n",
       "      <td>[Danju]</td>\n",
       "    </tr>\n",
       "    <tr>\n",
       "      <th>5393</th>\n",
       "      <td>Rap</td>\n",
       "      <td>Cro</td>\n",
       "      <td>Meine Musik</td>\n",
       "      <td>2011</td>\n",
       "      <td>Mehr davon</td>\n",
       "      <td>2010</td>\n",
       "      <td>112271</td>\n",
       "      <td>Mehr davon by CRO (Ft. Danju)</td>\n",
       "      <td>{'year': 2011, 'month': 2, 'day': 2}</td>\n",
       "      <td>2011-02-02</td>\n",
       "      <td>{'unreviewed_annotations': 0, 'hot': False}</td>\n",
       "      <td>(Mehr) Gib mir mehr davon Gib mir mehr davon...</td>\n",
       "      <td>Wednesday</td>\n",
       "      <td>75</td>\n",
       "      <td>Danju</td>\n",
       "      <td>[Danju]</td>\n",
       "    </tr>\n",
       "    <tr>\n",
       "      <th>5394</th>\n",
       "      <td>Rap</td>\n",
       "      <td>Cro</td>\n",
       "      <td>Meine Musik</td>\n",
       "      <td>2011</td>\n",
       "      <td>Super gelaunt</td>\n",
       "      <td>2010</td>\n",
       "      <td>112274</td>\n",
       "      <td>Super gelaunt by CRO (Ft. Danju)</td>\n",
       "      <td>{'year': 2011, 'month': 2, 'day': 2}</td>\n",
       "      <td>2011-02-02</td>\n",
       "      <td>{'unreviewed_annotations': 0, 'hot': False}</td>\n",
       "      <td>Ja, ich bin so super gut gelaunt War schon l...</td>\n",
       "      <td>Wednesday</td>\n",
       "      <td>123</td>\n",
       "      <td>Danju</td>\n",
       "      <td>[Danju]</td>\n",
       "    </tr>\n",
       "    <tr>\n",
       "      <th>5395</th>\n",
       "      <td>Rap</td>\n",
       "      <td>Cro</td>\n",
       "      <td>Meine Musik</td>\n",
       "      <td>2011</td>\n",
       "      <td>Immer die Falschen</td>\n",
       "      <td>2010</td>\n",
       "      <td>112278</td>\n",
       "      <td>Immer die Falschen by CRO (Ft. Danju)</td>\n",
       "      <td>{'year': 2011, 'month': 2, 'day': 2}</td>\n",
       "      <td>2011-02-02</td>\n",
       "      <td>{'unreviewed_annotations': 0, 'hot': False}</td>\n",
       "      <td>Ok, wieder mal ein Track über Chicks (Über C...</td>\n",
       "      <td>Wednesday</td>\n",
       "      <td>126</td>\n",
       "      <td>Danju</td>\n",
       "      <td>[Danju]</td>\n",
       "    </tr>\n",
       "    <tr>\n",
       "      <th>5398</th>\n",
       "      <td>Rap</td>\n",
       "      <td>Cro</td>\n",
       "      <td>Meine Musik</td>\n",
       "      <td>2011</td>\n",
       "      <td>Higher</td>\n",
       "      <td>2010</td>\n",
       "      <td>112286</td>\n",
       "      <td>Higher by CRO (Ft. Danju)</td>\n",
       "      <td>{'year': 2011, 'month': 2, 'day': 2}</td>\n",
       "      <td>2011-02-02</td>\n",
       "      <td>{'unreviewed_annotations': 0, 'hot': False}</td>\n",
       "      <td>Sie seh'n endlich ein sie könn' machen was si...</td>\n",
       "      <td>Wednesday</td>\n",
       "      <td>125</td>\n",
       "      <td>Danju</td>\n",
       "      <td>[Danju]</td>\n",
       "    </tr>\n",
       "    <tr>\n",
       "      <th>5399</th>\n",
       "      <td>Rap</td>\n",
       "      <td>Cro</td>\n",
       "      <td>Meine Musik</td>\n",
       "      <td>2011</td>\n",
       "      <td>Frauen</td>\n",
       "      <td>2010</td>\n",
       "      <td>88671</td>\n",
       "      <td>Frauen by CRO (Ft. Danju)</td>\n",
       "      <td>{'year': 2011, 'month': 2, 'day': 3}</td>\n",
       "      <td>2011-02-03</td>\n",
       "      <td>{'unreviewed_annotations': 1, 'hot': False}</td>\n",
       "      <td>Komm bitte sag es mir Warum sind denn Frauen ...</td>\n",
       "      <td>Thursday</td>\n",
       "      <td>188</td>\n",
       "      <td>Danju</td>\n",
       "      <td>[Danju]</td>\n",
       "    </tr>\n",
       "    <tr>\n",
       "      <th>5406</th>\n",
       "      <td>Rap</td>\n",
       "      <td>Cro</td>\n",
       "      <td>Easy</td>\n",
       "      <td>2011</td>\n",
       "      <td>Vorbei</td>\n",
       "      <td>2010</td>\n",
       "      <td>106636</td>\n",
       "      <td>Vorbei by CRO (Ft. Danju)</td>\n",
       "      <td>{'year': 2011, 'month': 12, 'day': 2}</td>\n",
       "      <td>2011-12-02</td>\n",
       "      <td>{'unreviewed_annotations': 0, 'hot': False}</td>\n",
       "      <td>Ey, nein ich hab' kein Haus am Meer Kein Auto...</td>\n",
       "      <td>Friday</td>\n",
       "      <td>246</td>\n",
       "      <td>Danju</td>\n",
       "      <td>[Danju]</td>\n",
       "    </tr>\n",
       "    <tr>\n",
       "      <th>5425</th>\n",
       "      <td>Rap</td>\n",
       "      <td>Cro</td>\n",
       "      <td>Sunny</td>\n",
       "      <td>2013</td>\n",
       "      <td>Höhenangst</td>\n",
       "      <td>2010</td>\n",
       "      <td>181485</td>\n",
       "      <td>Höhenangst by CRO (Ft. Danju)</td>\n",
       "      <td>{'year': 2013, 'month': 10, 'day': 16}</td>\n",
       "      <td>2013-10-16</td>\n",
       "      <td>{'unreviewed_annotations': 3, 'hot': False, 'p...</td>\n",
       "      <td>Mach den Shit laut, Fenster weit auf Ich komm...</td>\n",
       "      <td>Wednesday</td>\n",
       "      <td>114</td>\n",
       "      <td>Danju</td>\n",
       "      <td>[Danju]</td>\n",
       "    </tr>\n",
       "    <tr>\n",
       "      <th>5428</th>\n",
       "      <td>Rap</td>\n",
       "      <td>Cro</td>\n",
       "      <td>Sunny</td>\n",
       "      <td>2013</td>\n",
       "      <td>Lange her</td>\n",
       "      <td>2010</td>\n",
       "      <td>3803827</td>\n",
       "      <td>Lange her by CRO (Ft. Danju)</td>\n",
       "      <td>{'year': 2013, 'month': 8, 'day': 7}</td>\n",
       "      <td>2013-08-07</td>\n",
       "      <td>{'unreviewed_annotations': 0, 'hot': False}</td>\n",
       "      <td>Schön dass du wieder da bist Wir haben uns so...</td>\n",
       "      <td>Wednesday</td>\n",
       "      <td>99</td>\n",
       "      <td>Danju</td>\n",
       "      <td>[Danju]</td>\n",
       "    </tr>\n",
       "    <tr>\n",
       "      <th>5429</th>\n",
       "      <td>Rap</td>\n",
       "      <td>Cro</td>\n",
       "      <td>Melodie</td>\n",
       "      <td>2014</td>\n",
       "      <td>Meine Gang (Bang Bang)</td>\n",
       "      <td>2010</td>\n",
       "      <td>444298</td>\n",
       "      <td>Meine Gang (Bang Bang) by CRO (Ft. Danju)</td>\n",
       "      <td>{'year': 2014, 'month': 6, 'day': 6}</td>\n",
       "      <td>2014-06-06</td>\n",
       "      <td>{'unreviewed_annotations': 2, 'hot': False, 'p...</td>\n",
       "      <td>Alles, was ich brauch', ist meine Gang, mein...</td>\n",
       "      <td>Friday</td>\n",
       "      <td>347</td>\n",
       "      <td>Danju</td>\n",
       "      <td>[Danju]</td>\n",
       "    </tr>\n",
       "  </tbody>\n",
       "</table>\n",
       "</div>"
      ],
      "text/plain": [
       "     genre interpret        album  release_year               songtitle  \\\n",
       "5381   Rap       Cro        Trash          2009                   Dance   \n",
       "5390   Rap       Cro  Meine Musik          2011              Sorry Girl   \n",
       "5393   Rap       Cro  Meine Musik          2011              Mehr davon   \n",
       "5394   Rap       Cro  Meine Musik          2011           Super gelaunt   \n",
       "5395   Rap       Cro  Meine Musik          2011      Immer die Falschen   \n",
       "5398   Rap       Cro  Meine Musik          2011                  Higher   \n",
       "5399   Rap       Cro  Meine Musik          2011                  Frauen   \n",
       "5406   Rap       Cro         Easy          2011                  Vorbei   \n",
       "5425   Rap       Cro        Sunny          2013              Höhenangst   \n",
       "5428   Rap       Cro        Sunny          2013               Lange her   \n",
       "5429   Rap       Cro      Melodie          2014  Meine Gang (Bang Bang)   \n",
       "\n",
       "      decade  song_id                                 full_title  \\\n",
       "5381    2000   146426  Dance by CRO (Ft. Caro (Germany) & Danju)   \n",
       "5390    2010   112268              Sorry Girl by CRO (Ft. Danju)   \n",
       "5393    2010   112271              Mehr davon by CRO (Ft. Danju)   \n",
       "5394    2010   112274           Super gelaunt by CRO (Ft. Danju)   \n",
       "5395    2010   112278      Immer die Falschen by CRO (Ft. Danju)   \n",
       "5398    2010   112286                  Higher by CRO (Ft. Danju)   \n",
       "5399    2010    88671                  Frauen by CRO (Ft. Danju)   \n",
       "5406    2010   106636                  Vorbei by CRO (Ft. Danju)   \n",
       "5425    2010   181485              Höhenangst by CRO (Ft. Danju)   \n",
       "5428    2010  3803827               Lange her by CRO (Ft. Danju)   \n",
       "5429    2010   444298  Meine Gang (Bang Bang) by CRO (Ft. Danju)   \n",
       "\n",
       "                     release_date_components_raw release_date_for_display  \\\n",
       "5381  {'year': 2009, 'month': None, 'day': None}               2009-01-01   \n",
       "5390        {'year': 2011, 'month': 2, 'day': 2}               2011-02-02   \n",
       "5393        {'year': 2011, 'month': 2, 'day': 2}               2011-02-02   \n",
       "5394        {'year': 2011, 'month': 2, 'day': 2}               2011-02-02   \n",
       "5395        {'year': 2011, 'month': 2, 'day': 2}               2011-02-02   \n",
       "5398        {'year': 2011, 'month': 2, 'day': 2}               2011-02-02   \n",
       "5399        {'year': 2011, 'month': 2, 'day': 3}               2011-02-03   \n",
       "5406       {'year': 2011, 'month': 12, 'day': 2}               2011-12-02   \n",
       "5425      {'year': 2013, 'month': 10, 'day': 16}               2013-10-16   \n",
       "5428        {'year': 2013, 'month': 8, 'day': 7}               2013-08-07   \n",
       "5429        {'year': 2014, 'month': 6, 'day': 6}               2014-06-06   \n",
       "\n",
       "                                              stats_raw  \\\n",
       "5381        {'unreviewed_annotations': 0, 'hot': False}   \n",
       "5390        {'unreviewed_annotations': 0, 'hot': False}   \n",
       "5393        {'unreviewed_annotations': 0, 'hot': False}   \n",
       "5394        {'unreviewed_annotations': 0, 'hot': False}   \n",
       "5395        {'unreviewed_annotations': 0, 'hot': False}   \n",
       "5398        {'unreviewed_annotations': 0, 'hot': False}   \n",
       "5399        {'unreviewed_annotations': 1, 'hot': False}   \n",
       "5406        {'unreviewed_annotations': 0, 'hot': False}   \n",
       "5425  {'unreviewed_annotations': 3, 'hot': False, 'p...   \n",
       "5428        {'unreviewed_annotations': 0, 'hot': False}   \n",
       "5429  {'unreviewed_annotations': 2, 'hot': False, 'p...   \n",
       "\n",
       "                                                 lyrics    weekday  \\\n",
       "5381   Hey baby shake that ass Shake, shake, shake t...   Thursday   \n",
       "5390   Mhh, yeah, Baby du bist wunderschön Und wir k...  Wednesday   \n",
       "5393    (Mehr) Gib mir mehr davon Gib mir mehr davon...  Wednesday   \n",
       "5394    Ja, ich bin so super gut gelaunt War schon l...  Wednesday   \n",
       "5395    Ok, wieder mal ein Track über Chicks (Über C...  Wednesday   \n",
       "5398   Sie seh'n endlich ein sie könn' machen was si...  Wednesday   \n",
       "5399   Komm bitte sag es mir Warum sind denn Frauen ...   Thursday   \n",
       "5406   Ey, nein ich hab' kein Haus am Meer Kein Auto...     Friday   \n",
       "5425   Mach den Shit laut, Fenster weit auf Ich komm...  Wednesday   \n",
       "5428   Schön dass du wieder da bist Wir haben uns so...  Wednesday   \n",
       "5429    Alles, was ich brauch', ist meine Gang, mein...     Friday   \n",
       "\n",
       "      word_count  collaboration collaboration_split  \n",
       "5381         306  Caro (Germany     [Caro (Germany]  \n",
       "5390         119          Danju             [Danju]  \n",
       "5393          75          Danju             [Danju]  \n",
       "5394         123          Danju             [Danju]  \n",
       "5395         126          Danju             [Danju]  \n",
       "5398         125          Danju             [Danju]  \n",
       "5399         188          Danju             [Danju]  \n",
       "5406         246          Danju             [Danju]  \n",
       "5425         114          Danju             [Danju]  \n",
       "5428          99          Danju             [Danju]  \n",
       "5429         347          Danju             [Danju]  "
      ]
     },
     "execution_count": 20,
     "metadata": {},
     "output_type": "execute_result"
    }
   ],
   "source": [
    "danju = colabs[colabs[\"full_title\"].str.contains(\"Danju\")]\n",
    "danju"
   ]
  },
  {
   "attachments": {},
   "cell_type": "markdown",
   "metadata": {},
   "source": [
    "### Wie grammatikalisch korrekt sind deutsche Songtexte?"
   ]
  },
  {
   "cell_type": "code",
   "execution_count": 28,
   "metadata": {},
   "outputs": [],
   "source": [
    "# !pip install contextualSpellCheck\n",
    "import contextualSpellCheck\n",
    "\n",
    "# spacy.cli.download(\"de_core_news_lg\")\n",
    "\n",
    "\n",
    "nlp = spacy.load('de_core_news_lg')\n",
    "contextualSpellCheck.add_to_pipe(nlp)\n"
   ]
  },
  {
   "cell_type": "code",
   "execution_count": 29,
   "metadata": {},
   "outputs": [
    {
     "name": "stdout",
     "output_type": "stream",
     "text": [
      "Performed spell check: True\n",
      "Outcome of spell check: Peter ce, das im Raper, dast Kindergarten, hat es Mann, das das hat in dieben. Es. KUKU TEAM, bin zu demt für hat miten, das bin is so ##m die., mit dem Bastard mit die Gnadenschuss Der die die Mann, der hat und die Mannn Herr, den den und, mit im Fladenbrot Was die Stern, Sofa so die das Packs, Max, Die, Die, das dien Was is das für dieen, das zu die Mann? Die Aura -? Der verschwinde zu den Radius Der die Tag so die den, der Herr, das in Ein die,en und mit scheißegal. legal, illegal, mit der scheißegal\n",
      "Performed spell check: True\n",
      "Outcome of spell check: Berlin, Die. The. The. Ther -t Je, j, ha, diet  Ducht du, du, es, Herr escht, Die bin Tag, das in Tag, Tag ims der Tag. Es gut mit die, in is Tag in Es bed es dir, es is Tag, So est die hat. Du, es, Herr escht. Derben zu dir dir dir das hene zu dir, ese mit, dir Herr und die an, easy Die denennät von dem. Ein Film in dir zu doll, dir von der forland, der wart mit diee dut, Memory Lost, cest la \" Not Die wart Herr und der Enemy rot Diablo Das Lie willt dem Idiot im Idiot undg, das im Lot and Die der Tag, die die, den, nun, den der die, die dieler zu für den. und denten Ton... für dieen, Michael. no. Stern immer oh no Was die zu der dem In hat mit. von dem von\n",
      "Performed spell check: True\n",
      "Outcome of spell check: Das der das in Berlin und der undig, das durchs, und dir dir die die dere 50er Terror an der Deutsche?, 50er terror für die Eintracht 100er Mozart, 50er Drogengeld Wasgen es ma, mit dieen und die socht Von, binnen für die Streetchabos In man den, und das die Chaost, die mit die Stein, in durch,. Die Land, in der undlen Kaiser,. Die Stern, in der dienen kontrolliern, der im in du dem Action in die Bank und dunst,. 20er in au dem Asphalt 20er Tag für die Schmockschen zu den Steinen mit die, und durch schwächelst Der man dir dieig, das die Wangenknochener  mit die Jahrn mit es zu den Fall mit dem Land ams Und es in von dem Rest der und der. inn. In der Land, um die war zu den Ton? Und man die mitit, von dentein in zur dem In warliche und die für die. Ein Herr und die Leidenschaften für die. 50 der Stadionverboten in der. Mit derden, die die Stern, also de die, du. I bin den Kind, die die dere mit er mitlich und zu, des dieen miten, bin Ultra und den BallermannIdiot Und die Crewe des und von Alemania in zur.\n",
      "Performed spell check: True\n",
      "Outcome of spell check: Because your so sweet You lift up my heart And Ill fall back again But I do know Quite which way to turn  The light in your eyes Touches the sky And Im your man again And you hold me As close as close can be  And all the time That you saved me I want you back Here in my loving arms For eternity   You look and you smile Warm me inside Cause You so good to me A beauty Filled with the blood of spring\n",
      "Performed spell check: True\n",
      "Outcome of spell check: . Liquid Swords  GZA  Actual. souljaboytellem.com  Google Boy . Only Built  by and  version . Enter the WuTang  Chambers  WuTang Clan . Death Certificate  Ice Cube . The  OutKast . The Infamous  Mobb Deep . by  and Vol . and  Man . Ready to Die  Like Vol . Stress The Extinction Agenda  Organized Action . Aquemini  OutKast . The Low End Theory  A Tribe Called Quest . The Thee Album  feat . Live  Let Die  by G Rap . Polo . It Takes a Nation of Millions to Hold Us Back  Public Enemy . and  Magazine . The Most Wanted  Ice Cube . and  and Vol . The Sun Rises in the East , the Great .  Midnight Marauders  A Tribe Called Quest .,,  of G Rap . Resurrection  Common . The Chronic  Dr. Dre . The Diary  Service . Reasonable Doubt  J . Bizarre Ride II The Ride  The Man . Capital Punishment  Big Pun . The Late Show  Live . Fear of a Black Planet  Public Enemy . Supreme Chief  of Vol . The Def  and who are Black Star  Black Star . the. da Poor  Dangerous  Big L . Paid in Full  by B.  Smith . Me Against the World  Vol . To Kill a Butterfly  David Lamar . Dare is a Mr  demon . Southernplayalisticadillacmuzik  OutKast . The College Dropout  Kanye West . Illadelph Halflife  The Roots . Like Water for Chocolate  Common . My Beautiful Dark Twisted Fantasy  Books West . Hell on Earth  Down Deep . Its Dark and Hell is Hot ! . The Black Album  Vol . The Marshall Mathers LP  Eminem . of   O.C. . Moment of Truth  Ganga . Breaking Atoms  Main Source . of  for  A.G. . and Da Stage  Black Moon\n",
      "Performed spell check: True\n",
      "Outcome of spell check: Yo, its that boy,. Im gonna do this for my kids, and Its the intro, it I hope ya enjoy, it nigga, ya know what Im saying This the King Remembered Underground Tape  to motherfuckin, my Air and that is in this bitch, shoutout to SpaceGhostPurrp, my god was better like... you better support a girl, but Oh,.\n",
      "Performed spell check: True\n",
      "Outcome of spell check: Dienen und Herr diemen S und S das was gutt, in safee in und die derden in mit Die Poppe Bottles und in bine bin die Kind Die er is es zu es die der is is will been, willen in will wasch will Der,e denrt, und legen den daslich und in hat mit an. I will mit dem System interagieren und zu die mit. Herrnt bin in der Mann von in in imener, bint in der und deren und es dieter Motherfucker Du bint da für diet in an in von dem. Was die bin esch, bind, es in fürst den Upper I bint der dir, den. Das hat mit dem die desen. So will inst. Acid,erfn dir bint down Die es in mit dir an und den.. In willnn und im. Und den die für die fürte  Tag. Copy paste der Tag Ein und mit da Und die hat bin zuch und dieret mit mit. Herrnt bin in der Mann von in in imener, bint in der und deren und es dieter Motherfucker Du bint da für diet in an in von dem. Was die bin esch, bind, es in fürst den Upper\n",
      "Performed spell check: True\n",
      "Outcome of spell check: Yost call me Im busy at the moment U may call the police He will pass the call to me Chorus Started from the bottom now we here All my brain is invested in my head Lost my life now Im trying get it back Who are u u look like u drive a van Pretty deep cause you know Im kinda black  we were all together Reminiscing alot of things about the past Moneys Im the man behind the mask Verse Its a long journey of my life Long trips to bite now I show I get paid No please not pretend Im proud cause Im self made I survive when they set traps Long shots on my lane No please not pretend Repeat when they play mine Press skip when they play -ii nangutatakho No trip Nda U You get shot When u Yes Do u get that Do u dig that Do u know that on my part\n",
      "Performed spell check: True\n",
      "Outcome of spell check: Ankaral hükümetinin irm, yazýlmýþtýr... I unti. Amýlððili ik. Die ae i.... Si ked, i.. Ye ii \"u na. Di. Den i i ae il a bee..\n",
      "Performed spell check: True\n",
      "Outcome of spell check: Studio AlbumsThe Rolling Stones, UK  Englands Newest Hit Makers, US  X , US The Rolling Stones No. , UK  The Rolling Stones, Now, US Out of Our Heads  Decembers Children And Everybodys, US Aftermath Between the Buttons  Their Satanic Majesties Request  Beggars Banquet  Let It Bleed  Sticky Fingers  Exile on Main Stage  Goats Head Soup  Its Only Rock n Roll  Black and Blue  Some Girls  Emotional Rescue  Tattoo You  Undercover  Dirty Work  Steel Wheels  Voodoo Lounge  Bridges to Babylon  A Bigger Bang  Blue  Lonesome Live albums \tGot Live If You Want It  \tGet Yer Way Out The Rolling Stones in Concert  \tLove You Live  \tStill Life  \tAlmost  \tStripped  \tThe Rolling Stones Rock and Roll Circus  \tNo Security  \tLive in  \tShine a Light  \tCurrent Affair Live   Some Girls Live in The   \tHampton Roads Live   L.A. City Live   Live at the Mercury Lounge, Chicago   Live at the Tokyo Dome Live   Light the Fire Live   Live at the Live   Sweet Summer Sun  Culture Club Live   Sticky Fingers Live  and compilation albums \tBig Hits High Tide and Green Grass  \tFlowers  \tThrough the Past, Past Big Hits Vol.   \tStone Age  Stone Shelter  Hot Rocks   \tMilestones  Rock n Rolling Stones  More Hot Rocks Big Hits  Fazed Cookies  \tNo Stoned  \tDiamonds   Made in the Shade  Rolled Gold The Very Best of the Rolling Stones  \tGet Stoned  Greatest Hits  \tTime Waits for No One  \tSolid Rock  \tSlow Rock  \tSucking in the Sun  \tStory of The Stones  \tLive   \tSingles Collection The Wonder Years  \tJump Back The Best of The Rolling Stones  \tForty Licks  \tRecords   \t.  \tNo Stoner Vol.   Box set Master Recordings  The Rolling Stones   The Rolling Stones   You Get What You Need  The Rolling Stones Ink Special reissuesSome Girls  Exile On Main St.\n",
      "Performed spell check: True\n",
      "Outcome of spell check: Den hat in die Fensterscheibe, die war ins dem. Ein dert das dir, das binnen. Died von mit red Du mit die, das bin dir. Was, in das Reich, das der die an der. I bin von demen, die zu dir an In will die Stern, mit den. , bin den Kaiser an der.  I binn , hat diet es von dir für, hat, es hat dir gut Du ist an die den, die is bin die mit in. In die Mann, das es hat und mit mit  hat, bin, will denhen, das in war amen binn die, die dieten, mit es die bin. Du mit und die hat, den bin an h bin so mit hat, and den , binn  Den hat in die Fensterscheibe, die war ins dem. Ein dert das dir, das binnen. Died von mit red Du mit die, das bin dir. Was, in das Reich, das der die an der. I bin von demen, die zu dir an Was will die Stern, mit den an  in bin den Kaiser an der.\n",
      "Performed spell check: True\n",
      "Outcome of spell check: Min en en i en de.ent var din. Der ens og dun Det a og glad, den. Per ena dens eng og ingenstans -g er til. Det er enm en. \", en en. en eran, var. En en de,t i... En, og en. En en tillaar og denke en en ermer og. Min en en i en de.ent var din. Der ens en mint justa s skullr all. En de tala om våren enne i er En en er till.e, en de.. the En en en man og en. En er er en er en en. Tal en,, dinn. Tal din tillar. Du er du den er de kvartererna and Non -. var en.m en en de. justt, den man.. \" en en mint justa your skullr all. En de, og. Min en en, der en. and Per. andnnatg Tille state park Si i.. liljekonvaljer, en til, mann. En, er. Per. and Det er du, en er en ding er en en. Dut, var de en. I dinnat, en till in \" Med någon som de göra mej glad Som visste nåt om att älska och hata Min en en i de mark Den. and Per i man\n",
      "Performed spell check: True\n",
      "Outcome of spell check: You say Im a free man but what does that mean To a social security number A grey suit as sharp as a new gun Bought and paid for while Bring us under Tell me what use is a citizens charter When blood is the ink for the new and Wars - style weapons in feudal societies Fingers on buttons that twitch with anxiety Brought to our knees by the powers that maybe Not care if humanity lives or it dies But you alright Jack, so you pulled up the ladder And hook, line and line, you swallowed their lies Now it seems that the truth is not easy to say Mouth stuffed with the stories they sample Stripped by their clothes, tied up and beaten Like paths that would lead by example Not enough answers and cash paid for questions Waste paper the filled with good suggestions Show me a promise they made that has lasted Successes have fathers but failures a bastard Brought to our knees by the powers that maybe Not care if humanity lives or it dies But you alright Jack, so you pulled up the ladder And hook, line and line, you swallowed their lies\n",
      "Performed spell check: True\n",
      "Outcome of spell check: I, i en i en bar, en var  i te u, i te. film -. En dur i, og er, ent pappersservett Den den, og hemmer till saga en.na en varna, en var en. En till saga i. En duste., man i en en i dur ten   En sedan den den, i en ich Park O, er er.. the Enm, a gap O dun i min \",r, men. Du du du tilla till dig t, dumme Charles de Paula Det en till i flight Du varna og war, Henry. -ra. En manr i min What, mint dum dig O er man den var. Tagv sons anorektisk \" Mens dig i. a var. A a. Du sat er dig, det kan levas på så Dent En og. Det och döden, min i sinn.\n",
      "Performed spell check: True\n",
      "Outcome of spell check: Ecstasy, is how I feel you feel for me But loving you has only just begun like racing sun your way You so sure You seem to have the one like you by loving me Its not that nice But freedom is the price to pay, to pay, to pay By  not push, not push me baby You and Ill be fine to push, not push me baby Twenty years from now to push, not push me baby We can see if we belong together By  your push, not push me baby Ill give you a sign to push, not push me baby Oh maybe today  you push, not push me baby I might stay Id stay with you forever All things pass And I was caught in the looking glass But why not try to make a lovely dream Strangers see their dreams come true Time will tell If I would fly on rocket ships to Mars To make ways of stars with you With you, with you oh\n",
      "Performed spell check: True\n",
      "Outcome of spell check: Luigi and BrassKnuckles e an der Tag an der Fall, der. Und es hat das Plan, das dat mit die. Ein die Tag, die, KushSorte der die zu das Berlin, und um die de,ha, das, den Tager Das Hazem i vakuumisiert. Es din dat, low gradeth,. Des hat von der Tag und das der.  Die bin dere dir, er die der. Der die Mann mit die, den die mit. Mit demen, in den ins. Ein dir des zu und das die Reichs dem, mit bin ins Grabe. Du las es an deinn Lügen, an die da halte.  Du bin all, du bin. Die und in die Mann und, mit dem in die. the the\n",
      "Performed spell check: True\n",
      "Outcome of spell check: FNSHRS  Mange, derent hat hat dem demt, dasde reingegangn Das dir hat in, dem. in hat bind bin zu den. Mange, derent hat hat dem demt, dasde reingegangn Das dir hat in, dem. in hat bind bin zu den. Yeah , warten am. Dieden, die die. Und, denrat, in die die Herr, das in mit Mann an der Mann, Papat die der undn is von der die Lady. Diekemann vonn Die war in der der Rede die von dir, und war die. Herr ist, bin es hat, in die Mann in. Und die das will, hat dir an die in den, der die und hat am Block. Was der Name, so die.\n",
      "Performed spell check: True\n",
      "Outcome of spell check: In war grader, das dasen mit und hat en,d Deutschland Duht an die der Kind, in dem. Und, die die und mit denen. Du is hat ess, und, hat den den. In war graden und in die die hat deren, und die war mit die. Im Asylantenheim, in er die Lines Von die Herr mit den Bull und denen und in so cool Ein und, für den Dame im. Und in dietge, es zu an die. In wart, und die war mit dienener der warnt dir, das die dir, mit der Zeit Fing in an zu dir und zu mit, das esch es an in den in mit und hat, die für die Stern, denn  Ein Kind für die Mom, die Land für den Dad Ein Kind für die., Die Land für die Gang Ein Kind für die Mom, die Land für den Dad Ein Kind für die., Die Land für die Gang Ein Kind für die Mom, die Land für den Dad Ein Kind für die., Die Land für die Gang Ein Kind für die Mom, die Land für den Dad Ein Kind für die., Die Land für die Gang\n",
      "Performed spell check: True\n",
      "Outcome of spell check: Bibliographie Berlin, 1864 Dern des Arts. In addition, in u. a. Hrsg., zur Theater der Art. and,. Müller, in Die kulturpoetische Tradition und das Reich. Ein literaturwissenschaftliche TextKontextTheorie... Berlin, Hans  and in Hrsg. Literaturwissenschaftliches Religion. Grundbegriffe der Wehrmacht... Roche, John Wast in? In 2008, in u. a. Hrsg. Text zur Theater der Logic. and,. 1, piano Impliziertere, Pierre. In 2008, in u. a. Hrsg. Text zur Theater der Logic. and,. 2005, Die und Rap im Spannungsfelden Institut und Kommerzialität. Magisterarbeit im Studiengebiets... In, Die Globalisierung und Lokalisierung von Berlin am die amerikanischer und der Kaiser... 2001, The composition and sampling Kulturelleschichte und Intertextualität im Wien. In Androutsopoulos, in Hrsg. p. Die et  und Berlin. and,. Berlin, Ernst  and in Kulturellesungen und Intertextualität Grundbegriffe und Forschungsansätze zur Kontextualisierung von Berlin. In Berlin, Berlin u. a. Hrsg. zurungen und Intertextualität. Theoriekonzeptionen und System zur Kontextualisierung von Berlin..,. Wagner, Anna : Die der und von Die Internationale dieung des Europa. In Meyer, and  in in Hrsg. Hip Hop und Rap in den Theater. Von der den Museum. Frankfurt am Main,. 2001, Der : in Das und der Museum zur pädagogischer Revolution... Berlin, Der Die Land und Text. zur progressiver Universalpoesie F. :  ine... 2011, The Rap as Art Some Thoughts on the Aesthetics of Rap. In Berlin, von  and with Hrsg. Rap. HamburgBerlin,. Love, and Verbal ; Ein universeller Sprachspieltypus und die Metamorphosen im USamerikanischen, Deutsche und den Rap. In Winter, Jan Hrsg. Rap More Than Words. Frankfurt am Main, . Fischer, Der Die der Internationale derine und Evolution. No. 2013, Die von : die unden  für die Deutscheden des Rap. In Androutsopoulos, in Hrsg. p. Die et  und Berlin. and,. 2013, John Rapocalypse. Der Mann des Rap und das Land der Rap... Berlin, in The Rap. Ein Vision des Institut von der Berg. Diskographie and Peoples The Platform, Capitol Records. and Derät du Reich, EntourageBusiness rough trade. K.I.Z. Verlag der Berlin, Vertigo Berlin Universal. - and Aura, Essah Entertainment Groove Attack. João Peel Story  First Edition, Epic Records Groove Attack. 1 der Land, SubwordBMG Sony Music. Dien Lennon Story, Epic Records Groove Attack. KRS ONE D.I.G.I.T.A.L., or II. Sonic City, Urban Universal. - Banjo Music, Headrush Records Groove Attack,. Westberlin andes, Flows, Songs, Music ManagementHome Recordings Put Da Needle To Da Records,. Zeitschriften Juice Special Issue of der Sonderausgabe. London, 2008 JanuarFebruar. Wood, Brent Understanding Rap as FolkPoetry. In Mosaic  Science,. Internet bars.de Interviewsvasar,Aura, httpwww.bars.demagazininterviewkoolsavasueberaura,... Laut.dee de., httpwww.laut.deKoolSavas,...\n",
      "Performed spell check: True\n",
      "Outcome of spell check: Die voten für die Track, deren mit da stehtWieso und, mit der votenVOTING BEENDETERGEBNIS. Super TrackAntilopen Gang  VerliebtBTight er EinzEdgar Wasser  One Momento Fresh erl feat. SidoHaftbefehl  Was dien des ZooInglebirds  IntroMemento  Purple SmokeSchwesta - de SchwestaSummer -  -M feat. The FreshPrinz and gram. The Cool As i x ChucksBTight er Girl  Hey So Fresh   2 feat. So Fresh   Thel feat. SidoFavorite  und der MannHaftbefehl e will mit dem the Joe Remix feat. MarteriaMortis  -bach  in.  Das ware der TagTrailerpark  Poo Tang ClanVega  I wills mit dir. Ben Da Fresh , feat. Jay Fresh  Fettsackstyle feat. and DeluxeFatoni  An der Tor feat. der WasserHaftbefehl  Was dien. Zoo Joe Remix feat. K.I.Z.Haftbefehl e will mit dem the Joe Remix feat. MarteriaHaftbefehl  Anna Maria feat. Miss PlatnumInglebirds   Dosseposse feat. Smith, So Fresh, Road Trip   Twisted ands  Limit feat. The ands  Intro feat. The BendzkoSilla  Ders die Rapper feat. FlerSilla r , feat. No. MeistgehörtAntilopen Gang  Die der von GangAntilopen Gang e is! the Gang  OutlawsEdgare  Joe - , feat. Jay Fresh  Real Life feat. Das EwaFavorite  und der MannHaftbefehl  t. The -  S A zu dem Herr  BefehlsketteMoney Boy  Van in derrs .  Ein von M. The TextAntilopen Gang en IAntilopen Gang .  Die dere ..and  Big the Fresh  and in feat. DCVDNSKontra K reisen and  ParfumSilla  Audio Network. The Just As i x The Fresh man Dream Favorite  Das der MannHaftbefehl  t. Peter e im Herr, Herr im KopfKoola a SumarumOldboy s  Die Bomber der Nation feat. 1, Hans ;  TaylerSummer Cem  RegenbogenBestes AlbumAntilopen Gang  AversionInglebirds  Big Bad Girlss  TouretteSyndrom So Fresh er TraumHaftbefehl  Russian RouletteKools tra in  HollywoodpsychoseNanos  Get Okay Music  re  Audio Records\n",
      "Performed spell check: True\n",
      "Outcome of spell check: Yo yonder, t das im Film und Herr Jakob Yo Oh Yo, hat das an  Der hat in den Rest halt in. Der der Flownt. dens der dir es seriouse die Tribe Called Quest Im Was mit der Wind permanent in den Alte Ein Partneren zu Herr man und zu mit den Assistant Dase Elemente Rapper Shitt. Von der Track mit dem Rest es, und. Zu die Rapperen im Wien und den der? - checker und dieß zu den Flashback  Der est hat. Cash. In bin in is in Websites The rap Fights is int es. Du so an das duben im den. Du,dt? I bring Zeitlupenmoves in. Is bin hat der Crack. Was hatt son ners mit Fat Caps Was duch hat im den. De du?\n",
      "Performed spell check: True\n",
      "Outcome of spell check: Yeah, SI Blut und Kizzle, my littler us was in here. Alter, es mit zu. I... Das Rap im du der  Mit  das, in denten Plattenspieler Zu der die in die Seen Hall immer der, an dem Basketballplatz Sorry, Ma, Ma dase das Gymnasiums Was dennt an der Mann. Was in den Herr, und du Star der das Audiol, Sound der die. Ein hat von dir, wast los mit dir undn, in duch. Tag. Herrt den Tag, du will, das dust Also esch, hat und mit das mit warh high, und war die Höhenangst Dere Von Hulk am Hell, yeahtbar, Thor,.  This was the that hey This was the that hey This was the that hey This was the that hey Die Dameent dir, das die. für die Fans, der demen, und dirn\n",
      "Performed spell check: True\n",
      "Outcome of spell check: Die Vita mit der Fall zu dem. Die hat hat in die Land der. yeah Und die die der die und den Stein ders Tattoo an dem Don. Oh, die erteit und Pause Pause Bin in  the. Du mit die Herr hat die dasen,t der Stein für die Steinnen  die dast in der Mann und die. In der Nachbarschaft,  miter um dem Briеfumschlag in bin undiden dir im Berlin, im Berlin, das das in die und der. Ein is das Mann der mit das hatr n Plan sol bin hat dast für den Ego , dunst,, la. Ein, der die eni, lembellisement de la Dame, imie, das die und zu dir, die, ça cest there et du son,, la. Ein, der die eni, lembellisement de la Dame, imie, das die und zu dir, die, ça cest there\n",
      "Performed spell check: True\n",
      "Outcome of spell check: Der mit die Mann, i will von der der Steintafeln Und zu von Menschenopfern der Mammutfellen einschlafen Back in the days, and Ein in das hat an die Du las was du das, um es zurückzubringen, so du das. Und was Es, das Was? Das Land was für Kind de war, dir du Christ du. Du las es du, bin es dir zu die hat es. So du is, in du,. Die, in dent. Und die man, hatnets Jazz, duch, ess das. Also in is real, das in, so hat der. Und dieme Religion, die für dir die Party, das des. Was die Herr zu zu des Kind Mann. Duch dert, Herr von der die in der dir, mit den  Was back in the days, back in the days Jammt von den is back in the days, bint, mit denen Vergreisung und hat du soll zun Was back in the days, back in the days Jammt von den is back in the days, bint, mit denen Vergreisung und mit und zu soll zun  Wastage versus Samples Alter, das halten Die Beat Dumm du und die, und dase von für dir zu in der und. Weakness hat den Geburtsjahr, esst und die in er. Einen und ise, du offensichtlich, das und was zu der. Es is zu Mann, die fasten die diene der und Vollidioten In denen in den mitn und hat diel von Back in the days, das,, in den. Und die dir an dem Battle das dem, mit und.s dasen von die für dierch und in denen zu Graf und der zu Mann, mit die EmoSchwärmer Des man, back in the days, Was es dasch, dir es es gut für. Es imen zu Berlin in der Mann, das den und zucht. Dag dir den Reich, die die Mann in der Herr.,, dunst, das die Rückwärtsgewandtheit mit die Mann von dir, und zu die Freud, die die der der, zu Mann, die zu den und zu den dir in die Mann, von in Verbrechen\n",
      "Performed spell check: True\n",
      "Outcome of spell check: und  - , und der international verständlich Was besetzn botschaftn mit den von und  fk , und in international verständlich mit besetzn botschaftn mit den von der mitnis in bundesdeutschn. Und,r zur Der tupac amaru des ten. Der Kind is der die des schmelztigels in in hiphopsound, in dem mit die der. Was für denkern und die des es, das is für die heads dies zu  denwind, das mit der music, donne man, dem die Dies streetpoetry, ne la was für le genre und die der rap , it is rapse, das ess die dir, die zulich am See, die de definition von dir is ner, der it was für dern Der der Linden in am. Ein die kopfschmerzn von dieben, das fkr dir die in den von., es,ts, wass zu und, es, wass.eden der das hat in die deen et lange de. Il a que est á leant et á le que, son est en.\n",
      "Performed spell check: True\n",
      "Outcome of spell check: In hat um und zu Mann und die Herr zun An dem Smarte das an im dem,t den Best, du passe mit an hat den Beatus, dir, und die bouncen die Drumsen Berlin, die den hat mit demch bin Champions League in Hazard der Chelsea Herr du dennes der Hitler im hat im. Das dies dut und die du den Ziffernblatt Es in dir, dier  in Highlight, die Lines amen inst in Stein in Mann, du dir, dus. Die Mann hat Existenzangst von und Hitler,  mit den Beat Herr in die Herr, diem in. Der Herr, und mit die Land im Block Duten Muffensausen, Mann den Album mit  du. du In die der von ders. In theer, Cash. Die is von dem MessageScheiß and. du In die der von ders. Und dem Resten der und est der des Lines and. du In will den imponieren Herrn die der die Status mit. and. du I will der profitieren Die Mannren, mit der die konkurrieren\n",
      "Performed spell check: True\n",
      "Outcome of spell check: Giving you my life to share Giving you my life to share Giving you my life to share Its all on me   Yeah, ah, ah ahan Herr, die die Freundeskreis Der die Mann von  den,. diech  deutschlandweit Mann diem in von und und den und ahl der Mann,.. Und die und mit in Wien an der. Du is okay, diet der Verehrerinnen int Stern, daszen Ah, est mit superse Tag zu, diemente Ein Ein Lang, escht es das und der Tuberkulose Der die inn ans mit der Dose, ahl, ah bin fame Bitch, das und,. a with Dasnda Flame Das Kind war, das dasder Das mit dien Fuck it, here is my life\n",
      "Performed spell check: True\n",
      "Outcome of spell check: Die dieen der das Fall und dastenn das in der Unendlichkeit Die zu dat und dann dieren von für zu mit und in das den der in in und mit, dern in. Das in und Mann, an der MörderMonstermuschel Derden der Mann und die das Lied, dast die Für die in den den dient deren...... und das. Für mit, derch. Der vons zurück. Der von diet unde Und die - zu. Und dusück, die und. die dung in das fasten von dir. Und es hat die zu? Von du zurückgelehntt und die derin...  Eint ene? Und es dir er es dir den den von, som die Herr und das das das MörderMonstermuscheln und Halt die Mann, Mann.\n",
      "Performed spell check: True\n",
      "Outcome of spell check: Duch, da da, du da da ne. Bring der da was for den. Das man, das für diene der interessieren Und hat in die,  B zu dem z, Mixtape, Nicknamess The Haze, Oh, sort dasse, das Berlin, High Fame, Fame, das Mann mit bin dassl Flex Digga, Raiders Capper  die serman, Stern, and Ritter imm Easy, das dir deinn Track, das mit in die,t dus, Hello, Baby, Berlin Dienlich, in binch, wass, der und mit essen, bin duch mit dest, dast in, dergen, die den die in ammer dersten von im Nord, Berlin von U, vonin, zu krass, UBahnhof PacFlow, in sel mit die Mann Berlin, mit die Stern, HardcoreSound, der der im Berlin, Dieten, Die zu die  Berg, bunker Haze  City of God von der Boss, Circus d, mitten dert zu den Brieferde, Berlin, Selbstjustiz underland, Schraubenziehern für im Studio und zur anneren, sot mit in Un. Die die die Land in die Kieferorthopäde Das SchwarzkopfSystem, und in denken. Und im Hard Rock Cafe, die derder. Dur zu dem Tag, lak, die dir an die Trends Reimschematik mit der den lich, die Land in den den der M.V.P., das diel und. In hatre unden, Modern Styleln, das.  Tschechoslowakei Aerur   Das. Track und dem Ein direr.\n",
      "Performed spell check: True\n",
      "Outcome of spell check: . the Die Neunzehndreiundneunzig , bin die Herr und diemenenz Vergangenheit und. Du den de ##tn ##n in die Land Die für und. In bin so bin ess wares hat war. - du war die er mit es den der der, stand mit den derten in da Der hat hats Tag und das Tag für Tag Was amen Tag dus in sohner von es dir in den der der der der Wasn in das der des Ähnlichkeit Du las den Kind und du will dir esch. In die hatt hat und zu bin es Ein zu. Die für die Deutsche Mann und die Schlägerein Es gut die is für die Mann in der. Ein den war ne Last is in ware Chorus Chorus\n",
      "Performed spell check: True\n",
      "Outcome of spell check: , Live in Bach am Main Der Gastarbeiter, das,, in die Blocks. An der Stein mit den Linden, der mit von denn Herr hat die Winter, das und fürde desten in wart dir, diede. Von durst und durch in der den. hat wart dir, hat und wart an Religion Mann ducht, dir, das Herr hat und zum denen. Dernt die in der Herr in Notenn, den zu, den die, den der den Weed, and da, er, wasen, der imt und in mit die. Die den Jointe in mit diren. Du für im will, für Ein BenzerCoupé. bin es gut, die Mann is in. Der hat zu, es den, in der die, ah , hat es so, wast den mit, es hat zult, es zu mit dir, ahr mit es, was dir diren das is die hat von das, was she so. Du man das Herr, dasn, der Mann im dasde des. Den es den den, den von an die Damen zu von der Land, wasser Das Boxhandschuh, die packe, in die Niketasche\n",
      "Performed spell check: True\n",
      "Outcome of spell check: Was dun, mit die die und das und. Herrt, es für diend mit der Fall in zu das, nun, denen in fehlerfrei In bin diern, die so mit die die. Du war, dir, das, du warer er die, binrten, zu die eren für die die die,bt und Herre der in in das, wast zum hat mit Mann und. In denet zu dem See zu dem Tag das denen mit an den von des das. Ein der Kaiser der Kaiser der die. Er zu von der Herr und es in die. I fall mit dir, Herr, im. I bet in die den. Und zu diet deren von Herr an in diebe.  Du hat in diebe in x ert diet und derden in deren. Die Mann ersten und die Land für die. Der hat in diem.be. In dem Angelegenheiten mith bin ehrt?,, die diert und zu. Dere ise die ch hat dir zu die die. Anl The. Die Mann hat die diebte Sohnt zu dem Steinen Die die Herr für diem. An der die von und duch graden Du das du den demch hatt., und dun der in. Man is das est und und den ess du. es,, durch es dien. Das Tag der die in zur Selbsterkenntnis Die Dame für die von inen in der Fall in der in.\n"
     ]
    },
    {
     "ename": "MemoryError",
     "evalue": "",
     "output_type": "error",
     "traceback": [
      "\u001b[1;31m---------------------------------------------------------------------------\u001b[0m",
      "\u001b[1;31mMemoryError\u001b[0m                               Traceback (most recent call last)",
      "\u001b[1;32m<ipython-input-29-f10940f2b680>\u001b[0m in \u001b[0;36m<module>\u001b[1;34m\u001b[0m\n\u001b[0;32m     10\u001b[0m \u001b[1;32mfor\u001b[0m \u001b[0mi\u001b[0m\u001b[1;33m,\u001b[0m \u001b[0mdoc\u001b[0m \u001b[1;32min\u001b[0m \u001b[0menumerate\u001b[0m\u001b[1;33m(\u001b[0m\u001b[0mdocs\u001b[0m\u001b[1;33m)\u001b[0m\u001b[1;33m:\u001b[0m\u001b[1;33m\u001b[0m\u001b[1;33m\u001b[0m\u001b[0m\n\u001b[0;32m     11\u001b[0m     \u001b[0mrow\u001b[0m \u001b[1;33m=\u001b[0m \u001b[0mdf\u001b[0m\u001b[1;33m.\u001b[0m\u001b[0mloc\u001b[0m\u001b[1;33m[\u001b[0m\u001b[0mi\u001b[0m\u001b[1;33m,\u001b[0m \u001b[1;34m\"lyrics\"\u001b[0m\u001b[1;33m]\u001b[0m\u001b[1;33m\u001b[0m\u001b[1;33m\u001b[0m\u001b[0m\n\u001b[1;32m---> 12\u001b[1;33m     \u001b[0mperformed_spell_check\u001b[0m\u001b[1;33m,\u001b[0m \u001b[0moutcome_spell_check\u001b[0m \u001b[1;33m=\u001b[0m \u001b[0mgrammar_check\u001b[0m\u001b[1;33m(\u001b[0m\u001b[0mrow\u001b[0m\u001b[1;33m)\u001b[0m\u001b[1;33m\u001b[0m\u001b[1;33m\u001b[0m\u001b[0m\n\u001b[0m\u001b[0;32m     13\u001b[0m     \u001b[0mprint\u001b[0m\u001b[1;33m(\u001b[0m\u001b[1;34m\"Performed spell check:\"\u001b[0m\u001b[1;33m,\u001b[0m \u001b[0mperformed_spell_check\u001b[0m\u001b[1;33m)\u001b[0m\u001b[1;33m\u001b[0m\u001b[1;33m\u001b[0m\u001b[0m\n\u001b[0;32m     14\u001b[0m     \u001b[0mprint\u001b[0m\u001b[1;33m(\u001b[0m\u001b[1;34m\"Outcome of spell check:\"\u001b[0m\u001b[1;33m,\u001b[0m \u001b[0moutcome_spell_check\u001b[0m\u001b[1;33m)\u001b[0m\u001b[1;33m\u001b[0m\u001b[1;33m\u001b[0m\u001b[0m\n",
      "\u001b[1;32m<ipython-input-29-f10940f2b680>\u001b[0m in \u001b[0;36mgrammar_check\u001b[1;34m(lyric)\u001b[0m\n\u001b[0;32m      1\u001b[0m \u001b[1;31m# Funktion zur Überprüfung der Rechtschreibung\u001b[0m\u001b[1;33m\u001b[0m\u001b[1;33m\u001b[0m\u001b[1;33m\u001b[0m\u001b[0m\n\u001b[0;32m      2\u001b[0m \u001b[1;32mdef\u001b[0m \u001b[0mgrammar_check\u001b[0m\u001b[1;33m(\u001b[0m\u001b[0mlyric\u001b[0m\u001b[1;33m)\u001b[0m\u001b[1;33m:\u001b[0m\u001b[1;33m\u001b[0m\u001b[1;33m\u001b[0m\u001b[0m\n\u001b[1;32m----> 3\u001b[1;33m     \u001b[0mdoc\u001b[0m \u001b[1;33m=\u001b[0m \u001b[0mnlp\u001b[0m\u001b[1;33m(\u001b[0m\u001b[0mlyric\u001b[0m\u001b[1;33m)\u001b[0m\u001b[1;33m\u001b[0m\u001b[1;33m\u001b[0m\u001b[0m\n\u001b[0m\u001b[0;32m      4\u001b[0m     \u001b[1;32mreturn\u001b[0m \u001b[0mdoc\u001b[0m\u001b[1;33m.\u001b[0m\u001b[0m_\u001b[0m\u001b[1;33m.\u001b[0m\u001b[0mperformed_spellCheck\u001b[0m\u001b[1;33m,\u001b[0m \u001b[0mdoc\u001b[0m\u001b[1;33m.\u001b[0m\u001b[0m_\u001b[0m\u001b[1;33m.\u001b[0m\u001b[0moutcome_spellCheck\u001b[0m\u001b[1;33m\u001b[0m\u001b[1;33m\u001b[0m\u001b[0m\n\u001b[0;32m      5\u001b[0m \u001b[1;33m\u001b[0m\u001b[0m\n",
      "\u001b[1;32mc:\\Users\\lotus\\anaconda3\\lib\\site-packages\\spacy\\language.py\u001b[0m in \u001b[0;36m__call__\u001b[1;34m(self, text, disable, component_cfg)\u001b[0m\n\u001b[0;32m   1014\u001b[0m                 \u001b[1;32mraise\u001b[0m \u001b[0mValueError\u001b[0m\u001b[1;33m(\u001b[0m\u001b[0mErrors\u001b[0m\u001b[1;33m.\u001b[0m\u001b[0mE109\u001b[0m\u001b[1;33m.\u001b[0m\u001b[0mformat\u001b[0m\u001b[1;33m(\u001b[0m\u001b[0mname\u001b[0m\u001b[1;33m=\u001b[0m\u001b[0mname\u001b[0m\u001b[1;33m)\u001b[0m\u001b[1;33m)\u001b[0m \u001b[1;32mfrom\u001b[0m \u001b[0me\u001b[0m\u001b[1;33m\u001b[0m\u001b[1;33m\u001b[0m\u001b[0m\n\u001b[0;32m   1015\u001b[0m             \u001b[1;32mexcept\u001b[0m \u001b[0mException\u001b[0m \u001b[1;32mas\u001b[0m \u001b[0me\u001b[0m\u001b[1;33m:\u001b[0m\u001b[1;33m\u001b[0m\u001b[1;33m\u001b[0m\u001b[0m\n\u001b[1;32m-> 1016\u001b[1;33m                 \u001b[0merror_handler\u001b[0m\u001b[1;33m(\u001b[0m\u001b[0mname\u001b[0m\u001b[1;33m,\u001b[0m \u001b[0mproc\u001b[0m\u001b[1;33m,\u001b[0m \u001b[1;33m[\u001b[0m\u001b[0mdoc\u001b[0m\u001b[1;33m]\u001b[0m\u001b[1;33m,\u001b[0m \u001b[0me\u001b[0m\u001b[1;33m)\u001b[0m\u001b[1;33m\u001b[0m\u001b[1;33m\u001b[0m\u001b[0m\n\u001b[0m\u001b[0;32m   1017\u001b[0m             \u001b[1;32mif\u001b[0m \u001b[1;32mnot\u001b[0m \u001b[0misinstance\u001b[0m\u001b[1;33m(\u001b[0m\u001b[0mdoc\u001b[0m\u001b[1;33m,\u001b[0m \u001b[0mDoc\u001b[0m\u001b[1;33m)\u001b[0m\u001b[1;33m:\u001b[0m\u001b[1;33m\u001b[0m\u001b[1;33m\u001b[0m\u001b[0m\n\u001b[0;32m   1018\u001b[0m                 \u001b[1;32mraise\u001b[0m \u001b[0mValueError\u001b[0m\u001b[1;33m(\u001b[0m\u001b[0mErrors\u001b[0m\u001b[1;33m.\u001b[0m\u001b[0mE005\u001b[0m\u001b[1;33m.\u001b[0m\u001b[0mformat\u001b[0m\u001b[1;33m(\u001b[0m\u001b[0mname\u001b[0m\u001b[1;33m=\u001b[0m\u001b[0mname\u001b[0m\u001b[1;33m,\u001b[0m \u001b[0mreturned_type\u001b[0m\u001b[1;33m=\u001b[0m\u001b[0mtype\u001b[0m\u001b[1;33m(\u001b[0m\u001b[0mdoc\u001b[0m\u001b[1;33m)\u001b[0m\u001b[1;33m)\u001b[0m\u001b[1;33m)\u001b[0m\u001b[1;33m\u001b[0m\u001b[1;33m\u001b[0m\u001b[0m\n",
      "\u001b[1;32mc:\\Users\\lotus\\anaconda3\\lib\\site-packages\\spacy\\util.py\u001b[0m in \u001b[0;36mraise_error\u001b[1;34m(proc_name, proc, docs, e)\u001b[0m\n\u001b[0;32m   1687\u001b[0m \u001b[1;33m\u001b[0m\u001b[0m\n\u001b[0;32m   1688\u001b[0m \u001b[1;32mdef\u001b[0m \u001b[0mraise_error\u001b[0m\u001b[1;33m(\u001b[0m\u001b[0mproc_name\u001b[0m\u001b[1;33m,\u001b[0m \u001b[0mproc\u001b[0m\u001b[1;33m,\u001b[0m \u001b[0mdocs\u001b[0m\u001b[1;33m,\u001b[0m \u001b[0me\u001b[0m\u001b[1;33m)\u001b[0m\u001b[1;33m:\u001b[0m\u001b[1;33m\u001b[0m\u001b[1;33m\u001b[0m\u001b[0m\n\u001b[1;32m-> 1689\u001b[1;33m     \u001b[1;32mraise\u001b[0m \u001b[0me\u001b[0m\u001b[1;33m\u001b[0m\u001b[1;33m\u001b[0m\u001b[0m\n\u001b[0m\u001b[0;32m   1690\u001b[0m \u001b[1;33m\u001b[0m\u001b[0m\n\u001b[0;32m   1691\u001b[0m \u001b[1;33m\u001b[0m\u001b[0m\n",
      "\u001b[1;32mc:\\Users\\lotus\\anaconda3\\lib\\site-packages\\spacy\\language.py\u001b[0m in \u001b[0;36m__call__\u001b[1;34m(self, text, disable, component_cfg)\u001b[0m\n\u001b[0;32m   1009\u001b[0m                 \u001b[0merror_handler\u001b[0m \u001b[1;33m=\u001b[0m \u001b[0mproc\u001b[0m\u001b[1;33m.\u001b[0m\u001b[0mget_error_handler\u001b[0m\u001b[1;33m(\u001b[0m\u001b[1;33m)\u001b[0m\u001b[1;33m\u001b[0m\u001b[1;33m\u001b[0m\u001b[0m\n\u001b[0;32m   1010\u001b[0m             \u001b[1;32mtry\u001b[0m\u001b[1;33m:\u001b[0m\u001b[1;33m\u001b[0m\u001b[1;33m\u001b[0m\u001b[0m\n\u001b[1;32m-> 1011\u001b[1;33m                 \u001b[0mdoc\u001b[0m \u001b[1;33m=\u001b[0m \u001b[0mproc\u001b[0m\u001b[1;33m(\u001b[0m\u001b[0mdoc\u001b[0m\u001b[1;33m,\u001b[0m \u001b[1;33m**\u001b[0m\u001b[0mcomponent_cfg\u001b[0m\u001b[1;33m.\u001b[0m\u001b[0mget\u001b[0m\u001b[1;33m(\u001b[0m\u001b[0mname\u001b[0m\u001b[1;33m,\u001b[0m \u001b[1;33m{\u001b[0m\u001b[1;33m}\u001b[0m\u001b[1;33m)\u001b[0m\u001b[1;33m)\u001b[0m  \u001b[1;31m# type: ignore[call-arg]\u001b[0m\u001b[1;33m\u001b[0m\u001b[1;33m\u001b[0m\u001b[0m\n\u001b[0m\u001b[0;32m   1012\u001b[0m             \u001b[1;32mexcept\u001b[0m \u001b[0mKeyError\u001b[0m \u001b[1;32mas\u001b[0m \u001b[0me\u001b[0m\u001b[1;33m:\u001b[0m\u001b[1;33m\u001b[0m\u001b[1;33m\u001b[0m\u001b[0m\n\u001b[0;32m   1013\u001b[0m                 \u001b[1;31m# This typically happens if a component is not initialized\u001b[0m\u001b[1;33m\u001b[0m\u001b[1;33m\u001b[0m\u001b[1;33m\u001b[0m\u001b[0m\n",
      "\u001b[1;32mc:\\Users\\lotus\\anaconda3\\lib\\site-packages\\contextualSpellCheck\\contextualSpellCheck.py\u001b[0m in \u001b[0;36m__call__\u001b[1;34m(self, doc)\u001b[0m\n\u001b[0;32m    168\u001b[0m                 \u001b[0mdoc\u001b[0m\u001b[1;33m.\u001b[0m\u001b[0m_\u001b[0m\u001b[1;33m.\u001b[0m\u001b[0mset\u001b[0m\u001b[1;33m(\u001b[0m\u001b[1;34m\"outcome_spellCheck\"\u001b[0m\u001b[1;33m,\u001b[0m \u001b[0mcleaned_sentence\u001b[0m\u001b[1;33m)\u001b[0m\u001b[1;33m\u001b[0m\u001b[1;33m\u001b[0m\u001b[0m\n\u001b[0;32m    169\u001b[0m         \u001b[1;32melse\u001b[0m\u001b[1;33m:\u001b[0m\u001b[1;33m\u001b[0m\u001b[1;33m\u001b[0m\u001b[0m\n\u001b[1;32m--> 170\u001b[1;33m             \u001b[0mmisspell_tokens\u001b[0m\u001b[1;33m,\u001b[0m \u001b[0mdoc\u001b[0m \u001b[1;33m=\u001b[0m \u001b[0mself\u001b[0m\u001b[1;33m.\u001b[0m\u001b[0mmisspell_identify\u001b[0m\u001b[1;33m(\u001b[0m\u001b[0mdoc\u001b[0m\u001b[1;33m)\u001b[0m\u001b[1;33m\u001b[0m\u001b[1;33m\u001b[0m\u001b[0m\n\u001b[0m\u001b[0;32m    171\u001b[0m             \u001b[1;32mif\u001b[0m \u001b[0mlen\u001b[0m\u001b[1;33m(\u001b[0m\u001b[0mmisspell_tokens\u001b[0m\u001b[1;33m)\u001b[0m \u001b[1;33m>\u001b[0m \u001b[1;36m0\u001b[0m\u001b[1;33m:\u001b[0m\u001b[1;33m\u001b[0m\u001b[1;33m\u001b[0m\u001b[0m\n\u001b[0;32m    172\u001b[0m                 \u001b[0mdoc\u001b[0m\u001b[1;33m,\u001b[0m \u001b[0mcandidate\u001b[0m \u001b[1;33m=\u001b[0m \u001b[0mself\u001b[0m\u001b[1;33m.\u001b[0m\u001b[0mcandidate_generator\u001b[0m\u001b[1;33m(\u001b[0m\u001b[0mdoc\u001b[0m\u001b[1;33m,\u001b[0m \u001b[0mmisspell_tokens\u001b[0m\u001b[1;33m)\u001b[0m\u001b[1;33m\u001b[0m\u001b[1;33m\u001b[0m\u001b[0m\n",
      "\u001b[1;32mc:\\Users\\lotus\\anaconda3\\lib\\site-packages\\contextualSpellCheck\\contextualSpellCheck.py\u001b[0m in \u001b[0;36mmisspell_identify\u001b[1;34m(self, doc, query)\u001b[0m\n\u001b[0;32m    244\u001b[0m         \u001b[1;31m# from objects in pipeline which can modify token info\u001b[0m\u001b[1;33m\u001b[0m\u001b[1;33m\u001b[0m\u001b[1;33m\u001b[0m\u001b[0m\n\u001b[0;32m    245\u001b[0m         \u001b[1;31m# like merge_entities\u001b[0m\u001b[1;33m\u001b[0m\u001b[1;33m\u001b[0m\u001b[1;33m\u001b[0m\u001b[0m\n\u001b[1;32m--> 246\u001b[1;33m         \u001b[0mdocCopy\u001b[0m \u001b[1;33m=\u001b[0m \u001b[0mcopy\u001b[0m\u001b[1;33m.\u001b[0m\u001b[0mdeepcopy\u001b[0m\u001b[1;33m(\u001b[0m\u001b[0mdoc\u001b[0m\u001b[1;33m)\u001b[0m\u001b[1;33m\u001b[0m\u001b[1;33m\u001b[0m\u001b[0m\n\u001b[0m\u001b[0;32m    247\u001b[0m \u001b[1;33m\u001b[0m\u001b[0m\n\u001b[0;32m    248\u001b[0m         \u001b[0mmisspell\u001b[0m \u001b[1;33m=\u001b[0m \u001b[1;33m[\u001b[0m\u001b[1;33m]\u001b[0m\u001b[1;33m\u001b[0m\u001b[1;33m\u001b[0m\u001b[0m\n",
      "\u001b[1;32mc:\\Users\\lotus\\anaconda3\\lib\\copy.py\u001b[0m in \u001b[0;36mdeepcopy\u001b[1;34m(x, memo, _nil)\u001b[0m\n\u001b[0;32m    170\u001b[0m                     \u001b[0my\u001b[0m \u001b[1;33m=\u001b[0m \u001b[0mx\u001b[0m\u001b[1;33m\u001b[0m\u001b[1;33m\u001b[0m\u001b[0m\n\u001b[0;32m    171\u001b[0m                 \u001b[1;32melse\u001b[0m\u001b[1;33m:\u001b[0m\u001b[1;33m\u001b[0m\u001b[1;33m\u001b[0m\u001b[0m\n\u001b[1;32m--> 172\u001b[1;33m                     \u001b[0my\u001b[0m \u001b[1;33m=\u001b[0m \u001b[0m_reconstruct\u001b[0m\u001b[1;33m(\u001b[0m\u001b[0mx\u001b[0m\u001b[1;33m,\u001b[0m \u001b[0mmemo\u001b[0m\u001b[1;33m,\u001b[0m \u001b[1;33m*\u001b[0m\u001b[0mrv\u001b[0m\u001b[1;33m)\u001b[0m\u001b[1;33m\u001b[0m\u001b[1;33m\u001b[0m\u001b[0m\n\u001b[0m\u001b[0;32m    173\u001b[0m \u001b[1;33m\u001b[0m\u001b[0m\n\u001b[0;32m    174\u001b[0m     \u001b[1;31m# If is its own copy, don't memoize.\u001b[0m\u001b[1;33m\u001b[0m\u001b[1;33m\u001b[0m\u001b[1;33m\u001b[0m\u001b[0m\n",
      "\u001b[1;32mc:\\Users\\lotus\\anaconda3\\lib\\copy.py\u001b[0m in \u001b[0;36m_reconstruct\u001b[1;34m(x, memo, func, args, state, listiter, dictiter, deepcopy)\u001b[0m\n\u001b[0;32m    262\u001b[0m     \u001b[1;32mif\u001b[0m \u001b[0mdeep\u001b[0m \u001b[1;32mand\u001b[0m \u001b[0margs\u001b[0m\u001b[1;33m:\u001b[0m\u001b[1;33m\u001b[0m\u001b[1;33m\u001b[0m\u001b[0m\n\u001b[0;32m    263\u001b[0m         \u001b[0margs\u001b[0m \u001b[1;33m=\u001b[0m \u001b[1;33m(\u001b[0m\u001b[0mdeepcopy\u001b[0m\u001b[1;33m(\u001b[0m\u001b[0marg\u001b[0m\u001b[1;33m,\u001b[0m \u001b[0mmemo\u001b[0m\u001b[1;33m)\u001b[0m \u001b[1;32mfor\u001b[0m \u001b[0marg\u001b[0m \u001b[1;32min\u001b[0m \u001b[0margs\u001b[0m\u001b[1;33m)\u001b[0m\u001b[1;33m\u001b[0m\u001b[1;33m\u001b[0m\u001b[0m\n\u001b[1;32m--> 264\u001b[1;33m     \u001b[0my\u001b[0m \u001b[1;33m=\u001b[0m \u001b[0mfunc\u001b[0m\u001b[1;33m(\u001b[0m\u001b[1;33m*\u001b[0m\u001b[0margs\u001b[0m\u001b[1;33m)\u001b[0m\u001b[1;33m\u001b[0m\u001b[1;33m\u001b[0m\u001b[0m\n\u001b[0m\u001b[0;32m    265\u001b[0m     \u001b[1;32mif\u001b[0m \u001b[0mdeep\u001b[0m\u001b[1;33m:\u001b[0m\u001b[1;33m\u001b[0m\u001b[1;33m\u001b[0m\u001b[0m\n\u001b[0;32m    266\u001b[0m         \u001b[0mmemo\u001b[0m\u001b[1;33m[\u001b[0m\u001b[0mid\u001b[0m\u001b[1;33m(\u001b[0m\u001b[0mx\u001b[0m\u001b[1;33m)\u001b[0m\u001b[1;33m]\u001b[0m \u001b[1;33m=\u001b[0m \u001b[0my\u001b[0m\u001b[1;33m\u001b[0m\u001b[1;33m\u001b[0m\u001b[0m\n",
      "\u001b[1;32mc:\\Users\\lotus\\anaconda3\\lib\\copy.py\u001b[0m in \u001b[0;36m<genexpr>\u001b[1;34m(.0)\u001b[0m\n\u001b[0;32m    261\u001b[0m     \u001b[0mdeep\u001b[0m \u001b[1;33m=\u001b[0m \u001b[0mmemo\u001b[0m \u001b[1;32mis\u001b[0m \u001b[1;32mnot\u001b[0m \u001b[1;32mNone\u001b[0m\u001b[1;33m\u001b[0m\u001b[1;33m\u001b[0m\u001b[0m\n\u001b[0;32m    262\u001b[0m     \u001b[1;32mif\u001b[0m \u001b[0mdeep\u001b[0m \u001b[1;32mand\u001b[0m \u001b[0margs\u001b[0m\u001b[1;33m:\u001b[0m\u001b[1;33m\u001b[0m\u001b[1;33m\u001b[0m\u001b[0m\n\u001b[1;32m--> 263\u001b[1;33m         \u001b[0margs\u001b[0m \u001b[1;33m=\u001b[0m \u001b[1;33m(\u001b[0m\u001b[0mdeepcopy\u001b[0m\u001b[1;33m(\u001b[0m\u001b[0marg\u001b[0m\u001b[1;33m,\u001b[0m \u001b[0mmemo\u001b[0m\u001b[1;33m)\u001b[0m \u001b[1;32mfor\u001b[0m \u001b[0marg\u001b[0m \u001b[1;32min\u001b[0m \u001b[0margs\u001b[0m\u001b[1;33m)\u001b[0m\u001b[1;33m\u001b[0m\u001b[1;33m\u001b[0m\u001b[0m\n\u001b[0m\u001b[0;32m    264\u001b[0m     \u001b[0my\u001b[0m \u001b[1;33m=\u001b[0m \u001b[0mfunc\u001b[0m\u001b[1;33m(\u001b[0m\u001b[1;33m*\u001b[0m\u001b[0margs\u001b[0m\u001b[1;33m)\u001b[0m\u001b[1;33m\u001b[0m\u001b[1;33m\u001b[0m\u001b[0m\n\u001b[0;32m    265\u001b[0m     \u001b[1;32mif\u001b[0m \u001b[0mdeep\u001b[0m\u001b[1;33m:\u001b[0m\u001b[1;33m\u001b[0m\u001b[1;33m\u001b[0m\u001b[0m\n",
      "\u001b[1;32mc:\\Users\\lotus\\anaconda3\\lib\\copy.py\u001b[0m in \u001b[0;36mdeepcopy\u001b[1;34m(x, memo, _nil)\u001b[0m\n\u001b[0;32m    170\u001b[0m                     \u001b[0my\u001b[0m \u001b[1;33m=\u001b[0m \u001b[0mx\u001b[0m\u001b[1;33m\u001b[0m\u001b[1;33m\u001b[0m\u001b[0m\n\u001b[0;32m    171\u001b[0m                 \u001b[1;32melse\u001b[0m\u001b[1;33m:\u001b[0m\u001b[1;33m\u001b[0m\u001b[1;33m\u001b[0m\u001b[0m\n\u001b[1;32m--> 172\u001b[1;33m                     \u001b[0my\u001b[0m \u001b[1;33m=\u001b[0m \u001b[0m_reconstruct\u001b[0m\u001b[1;33m(\u001b[0m\u001b[0mx\u001b[0m\u001b[1;33m,\u001b[0m \u001b[0mmemo\u001b[0m\u001b[1;33m,\u001b[0m \u001b[1;33m*\u001b[0m\u001b[0mrv\u001b[0m\u001b[1;33m)\u001b[0m\u001b[1;33m\u001b[0m\u001b[1;33m\u001b[0m\u001b[0m\n\u001b[0m\u001b[0;32m    173\u001b[0m \u001b[1;33m\u001b[0m\u001b[0m\n\u001b[0;32m    174\u001b[0m     \u001b[1;31m# If is its own copy, don't memoize.\u001b[0m\u001b[1;33m\u001b[0m\u001b[1;33m\u001b[0m\u001b[1;33m\u001b[0m\u001b[0m\n",
      "\u001b[1;32mc:\\Users\\lotus\\anaconda3\\lib\\copy.py\u001b[0m in \u001b[0;36m_reconstruct\u001b[1;34m(x, memo, func, args, state, listiter, dictiter, deepcopy)\u001b[0m\n\u001b[0;32m    262\u001b[0m     \u001b[1;32mif\u001b[0m \u001b[0mdeep\u001b[0m \u001b[1;32mand\u001b[0m \u001b[0margs\u001b[0m\u001b[1;33m:\u001b[0m\u001b[1;33m\u001b[0m\u001b[1;33m\u001b[0m\u001b[0m\n\u001b[0;32m    263\u001b[0m         \u001b[0margs\u001b[0m \u001b[1;33m=\u001b[0m \u001b[1;33m(\u001b[0m\u001b[0mdeepcopy\u001b[0m\u001b[1;33m(\u001b[0m\u001b[0marg\u001b[0m\u001b[1;33m,\u001b[0m \u001b[0mmemo\u001b[0m\u001b[1;33m)\u001b[0m \u001b[1;32mfor\u001b[0m \u001b[0marg\u001b[0m \u001b[1;32min\u001b[0m \u001b[0margs\u001b[0m\u001b[1;33m)\u001b[0m\u001b[1;33m\u001b[0m\u001b[1;33m\u001b[0m\u001b[0m\n\u001b[1;32m--> 264\u001b[1;33m     \u001b[0my\u001b[0m \u001b[1;33m=\u001b[0m \u001b[0mfunc\u001b[0m\u001b[1;33m(\u001b[0m\u001b[1;33m*\u001b[0m\u001b[0margs\u001b[0m\u001b[1;33m)\u001b[0m\u001b[1;33m\u001b[0m\u001b[1;33m\u001b[0m\u001b[0m\n\u001b[0m\u001b[0;32m    265\u001b[0m     \u001b[1;32mif\u001b[0m \u001b[0mdeep\u001b[0m\u001b[1;33m:\u001b[0m\u001b[1;33m\u001b[0m\u001b[1;33m\u001b[0m\u001b[0m\n\u001b[0;32m    266\u001b[0m         \u001b[0mmemo\u001b[0m\u001b[1;33m[\u001b[0m\u001b[0mid\u001b[0m\u001b[1;33m(\u001b[0m\u001b[0mx\u001b[0m\u001b[1;33m)\u001b[0m\u001b[1;33m]\u001b[0m \u001b[1;33m=\u001b[0m \u001b[0my\u001b[0m\u001b[1;33m\u001b[0m\u001b[1;33m\u001b[0m\u001b[0m\n",
      "\u001b[1;32mc:\\Users\\lotus\\anaconda3\\lib\\copy.py\u001b[0m in \u001b[0;36m<genexpr>\u001b[1;34m(.0)\u001b[0m\n\u001b[0;32m    261\u001b[0m     \u001b[0mdeep\u001b[0m \u001b[1;33m=\u001b[0m \u001b[0mmemo\u001b[0m \u001b[1;32mis\u001b[0m \u001b[1;32mnot\u001b[0m \u001b[1;32mNone\u001b[0m\u001b[1;33m\u001b[0m\u001b[1;33m\u001b[0m\u001b[0m\n\u001b[0;32m    262\u001b[0m     \u001b[1;32mif\u001b[0m \u001b[0mdeep\u001b[0m \u001b[1;32mand\u001b[0m \u001b[0margs\u001b[0m\u001b[1;33m:\u001b[0m\u001b[1;33m\u001b[0m\u001b[1;33m\u001b[0m\u001b[0m\n\u001b[1;32m--> 263\u001b[1;33m         \u001b[0margs\u001b[0m \u001b[1;33m=\u001b[0m \u001b[1;33m(\u001b[0m\u001b[0mdeepcopy\u001b[0m\u001b[1;33m(\u001b[0m\u001b[0marg\u001b[0m\u001b[1;33m,\u001b[0m \u001b[0mmemo\u001b[0m\u001b[1;33m)\u001b[0m \u001b[1;32mfor\u001b[0m \u001b[0marg\u001b[0m \u001b[1;32min\u001b[0m \u001b[0margs\u001b[0m\u001b[1;33m)\u001b[0m\u001b[1;33m\u001b[0m\u001b[1;33m\u001b[0m\u001b[0m\n\u001b[0m\u001b[0;32m    264\u001b[0m     \u001b[0my\u001b[0m \u001b[1;33m=\u001b[0m \u001b[0mfunc\u001b[0m\u001b[1;33m(\u001b[0m\u001b[1;33m*\u001b[0m\u001b[0margs\u001b[0m\u001b[1;33m)\u001b[0m\u001b[1;33m\u001b[0m\u001b[1;33m\u001b[0m\u001b[0m\n\u001b[0;32m    265\u001b[0m     \u001b[1;32mif\u001b[0m \u001b[0mdeep\u001b[0m\u001b[1;33m:\u001b[0m\u001b[1;33m\u001b[0m\u001b[1;33m\u001b[0m\u001b[0m\n",
      "\u001b[1;32mc:\\Users\\lotus\\anaconda3\\lib\\copy.py\u001b[0m in \u001b[0;36mdeepcopy\u001b[1;34m(x, memo, _nil)\u001b[0m\n\u001b[0;32m    159\u001b[0m                     \u001b[0mreductor\u001b[0m \u001b[1;33m=\u001b[0m \u001b[0mgetattr\u001b[0m\u001b[1;33m(\u001b[0m\u001b[0mx\u001b[0m\u001b[1;33m,\u001b[0m \u001b[1;34m\"__reduce_ex__\"\u001b[0m\u001b[1;33m,\u001b[0m \u001b[1;32mNone\u001b[0m\u001b[1;33m)\u001b[0m\u001b[1;33m\u001b[0m\u001b[1;33m\u001b[0m\u001b[0m\n\u001b[0;32m    160\u001b[0m                     \u001b[1;32mif\u001b[0m \u001b[0mreductor\u001b[0m \u001b[1;32mis\u001b[0m \u001b[1;32mnot\u001b[0m \u001b[1;32mNone\u001b[0m\u001b[1;33m:\u001b[0m\u001b[1;33m\u001b[0m\u001b[1;33m\u001b[0m\u001b[0m\n\u001b[1;32m--> 161\u001b[1;33m                         \u001b[0mrv\u001b[0m \u001b[1;33m=\u001b[0m \u001b[0mreductor\u001b[0m\u001b[1;33m(\u001b[0m\u001b[1;36m4\u001b[0m\u001b[1;33m)\u001b[0m\u001b[1;33m\u001b[0m\u001b[1;33m\u001b[0m\u001b[0m\n\u001b[0m\u001b[0;32m    162\u001b[0m                     \u001b[1;32melse\u001b[0m\u001b[1;33m:\u001b[0m\u001b[1;33m\u001b[0m\u001b[1;33m\u001b[0m\u001b[0m\n\u001b[0;32m    163\u001b[0m                         \u001b[0mreductor\u001b[0m \u001b[1;33m=\u001b[0m \u001b[0mgetattr\u001b[0m\u001b[1;33m(\u001b[0m\u001b[0mx\u001b[0m\u001b[1;33m,\u001b[0m \u001b[1;34m\"__reduce__\"\u001b[0m\u001b[1;33m,\u001b[0m \u001b[1;32mNone\u001b[0m\u001b[1;33m)\u001b[0m\u001b[1;33m\u001b[0m\u001b[1;33m\u001b[0m\u001b[0m\n",
      "\u001b[1;32mc:\\Users\\lotus\\anaconda3\\lib\\site-packages\\spacy\\vectors.pyx\u001b[0m in \u001b[0;36mspacy.vectors.Vectors.__reduce__\u001b[1;34m()\u001b[0m\n",
      "\u001b[1;32mc:\\Users\\lotus\\anaconda3\\lib\\site-packages\\spacy\\vectors.pyx\u001b[0m in \u001b[0;36mspacy.vectors.Vectors.to_bytes\u001b[1;34m()\u001b[0m\n",
      "\u001b[1;32mc:\\Users\\lotus\\anaconda3\\lib\\site-packages\\spacy\\util.py\u001b[0m in \u001b[0;36mto_bytes\u001b[1;34m(getters, exclude)\u001b[0m\n\u001b[0;32m   1309\u001b[0m \u001b[1;33m\u001b[0m\u001b[0m\n\u001b[0;32m   1310\u001b[0m \u001b[1;32mdef\u001b[0m \u001b[0mto_bytes\u001b[0m\u001b[1;33m(\u001b[0m\u001b[0mgetters\u001b[0m\u001b[1;33m:\u001b[0m \u001b[0mDict\u001b[0m\u001b[1;33m[\u001b[0m\u001b[0mstr\u001b[0m\u001b[1;33m,\u001b[0m \u001b[0mCallable\u001b[0m\u001b[1;33m[\u001b[0m\u001b[1;33m[\u001b[0m\u001b[1;33m]\u001b[0m\u001b[1;33m,\u001b[0m \u001b[0mbytes\u001b[0m\u001b[1;33m]\u001b[0m\u001b[1;33m]\u001b[0m\u001b[1;33m,\u001b[0m \u001b[0mexclude\u001b[0m\u001b[1;33m:\u001b[0m \u001b[0mIterable\u001b[0m\u001b[1;33m[\u001b[0m\u001b[0mstr\u001b[0m\u001b[1;33m]\u001b[0m\u001b[1;33m)\u001b[0m \u001b[1;33m->\u001b[0m \u001b[0mbytes\u001b[0m\u001b[1;33m:\u001b[0m\u001b[1;33m\u001b[0m\u001b[1;33m\u001b[0m\u001b[0m\n\u001b[1;32m-> 1311\u001b[1;33m     \u001b[1;32mreturn\u001b[0m \u001b[0msrsly\u001b[0m\u001b[1;33m.\u001b[0m\u001b[0mmsgpack_dumps\u001b[0m\u001b[1;33m(\u001b[0m\u001b[0mto_dict\u001b[0m\u001b[1;33m(\u001b[0m\u001b[0mgetters\u001b[0m\u001b[1;33m,\u001b[0m \u001b[0mexclude\u001b[0m\u001b[1;33m)\u001b[0m\u001b[1;33m)\u001b[0m\u001b[1;33m\u001b[0m\u001b[1;33m\u001b[0m\u001b[0m\n\u001b[0m\u001b[0;32m   1312\u001b[0m \u001b[1;33m\u001b[0m\u001b[0m\n\u001b[0;32m   1313\u001b[0m \u001b[1;33m\u001b[0m\u001b[0m\n",
      "\u001b[1;32mc:\\Users\\lotus\\anaconda3\\lib\\site-packages\\spacy\\util.py\u001b[0m in \u001b[0;36mto_dict\u001b[1;34m(getters, exclude)\u001b[0m\n\u001b[0;32m   1327\u001b[0m         \u001b[1;31m# Split to support file names like meta.json\u001b[0m\u001b[1;33m\u001b[0m\u001b[1;33m\u001b[0m\u001b[1;33m\u001b[0m\u001b[0m\n\u001b[0;32m   1328\u001b[0m         \u001b[1;32mif\u001b[0m \u001b[0mkey\u001b[0m\u001b[1;33m.\u001b[0m\u001b[0msplit\u001b[0m\u001b[1;33m(\u001b[0m\u001b[1;34m\".\"\u001b[0m\u001b[1;33m)\u001b[0m\u001b[1;33m[\u001b[0m\u001b[1;36m0\u001b[0m\u001b[1;33m]\u001b[0m \u001b[1;32mnot\u001b[0m \u001b[1;32min\u001b[0m \u001b[0mexclude\u001b[0m\u001b[1;33m:\u001b[0m\u001b[1;33m\u001b[0m\u001b[1;33m\u001b[0m\u001b[0m\n\u001b[1;32m-> 1329\u001b[1;33m             \u001b[0mserialized\u001b[0m\u001b[1;33m[\u001b[0m\u001b[0mkey\u001b[0m\u001b[1;33m]\u001b[0m \u001b[1;33m=\u001b[0m \u001b[0mgetter\u001b[0m\u001b[1;33m(\u001b[0m\u001b[1;33m)\u001b[0m\u001b[1;33m\u001b[0m\u001b[1;33m\u001b[0m\u001b[0m\n\u001b[0m\u001b[0;32m   1330\u001b[0m     \u001b[1;32mreturn\u001b[0m \u001b[0mserialized\u001b[0m\u001b[1;33m\u001b[0m\u001b[1;33m\u001b[0m\u001b[0m\n\u001b[0;32m   1331\u001b[0m \u001b[1;33m\u001b[0m\u001b[0m\n",
      "\u001b[1;32mc:\\Users\\lotus\\anaconda3\\lib\\site-packages\\spacy\\vectors.pyx\u001b[0m in \u001b[0;36mspacy.vectors.Vectors.to_bytes.serialize_weights\u001b[1;34m()\u001b[0m\n",
      "\u001b[1;32mc:\\Users\\lotus\\anaconda3\\lib\\site-packages\\srsly\\_msgpack_api.py\u001b[0m in \u001b[0;36mmsgpack_dumps\u001b[1;34m(data)\u001b[0m\n\u001b[0;32m     12\u001b[0m     \u001b[0mRETURNS\u001b[0m \u001b[1;33m(\u001b[0m\u001b[0mbytes\u001b[0m\u001b[1;33m)\u001b[0m\u001b[1;33m:\u001b[0m \u001b[0mThe\u001b[0m \u001b[0mserialized\u001b[0m \u001b[0mbytes\u001b[0m\u001b[1;33m.\u001b[0m\u001b[1;33m\u001b[0m\u001b[1;33m\u001b[0m\u001b[0m\n\u001b[0;32m     13\u001b[0m     \"\"\"\n\u001b[1;32m---> 14\u001b[1;33m     \u001b[1;32mreturn\u001b[0m \u001b[0mmsgpack\u001b[0m\u001b[1;33m.\u001b[0m\u001b[0mdumps\u001b[0m\u001b[1;33m(\u001b[0m\u001b[0mdata\u001b[0m\u001b[1;33m,\u001b[0m \u001b[0muse_bin_type\u001b[0m\u001b[1;33m=\u001b[0m\u001b[1;32mTrue\u001b[0m\u001b[1;33m)\u001b[0m\u001b[1;33m\u001b[0m\u001b[1;33m\u001b[0m\u001b[0m\n\u001b[0m\u001b[0;32m     15\u001b[0m \u001b[1;33m\u001b[0m\u001b[0m\n\u001b[0;32m     16\u001b[0m \u001b[1;33m\u001b[0m\u001b[0m\n",
      "\u001b[1;32mc:\\Users\\lotus\\anaconda3\\lib\\site-packages\\srsly\\msgpack\\__init__.py\u001b[0m in \u001b[0;36mpackb\u001b[1;34m(o, **kwargs)\u001b[0m\n\u001b[0;32m     53\u001b[0m     \u001b[0mPack\u001b[0m \u001b[0man\u001b[0m \u001b[0mobject\u001b[0m \u001b[1;32mand\u001b[0m \u001b[1;32mreturn\u001b[0m \u001b[0mthe\u001b[0m \u001b[0mpacked\u001b[0m \u001b[0mbytes\u001b[0m\u001b[1;33m.\u001b[0m\u001b[1;33m\u001b[0m\u001b[1;33m\u001b[0m\u001b[0m\n\u001b[0;32m     54\u001b[0m     \"\"\"\n\u001b[1;32m---> 55\u001b[1;33m     \u001b[1;32mreturn\u001b[0m \u001b[0mPacker\u001b[0m\u001b[1;33m(\u001b[0m\u001b[1;33m**\u001b[0m\u001b[0mkwargs\u001b[0m\u001b[1;33m)\u001b[0m\u001b[1;33m.\u001b[0m\u001b[0mpack\u001b[0m\u001b[1;33m(\u001b[0m\u001b[0mo\u001b[0m\u001b[1;33m)\u001b[0m\u001b[1;33m\u001b[0m\u001b[1;33m\u001b[0m\u001b[0m\n\u001b[0m\u001b[0;32m     56\u001b[0m \u001b[1;33m\u001b[0m\u001b[0m\n\u001b[0;32m     57\u001b[0m \u001b[1;33m\u001b[0m\u001b[0m\n",
      "\u001b[1;32mc:\\Users\\lotus\\anaconda3\\lib\\site-packages\\srsly\\msgpack\\_packer.pyx\u001b[0m in \u001b[0;36msrsly.msgpack._packer.Packer.pack\u001b[1;34m()\u001b[0m\n",
      "\u001b[1;32mc:\\Users\\lotus\\anaconda3\\lib\\site-packages\\srsly\\msgpack\\_packer.pyx\u001b[0m in \u001b[0;36msrsly.msgpack._packer.Packer.pack\u001b[1;34m()\u001b[0m\n",
      "\u001b[1;31mMemoryError\u001b[0m: "
     ]
    }
   ],
   "source": [
    "# Funktion zur Überprüfung der Rechtschreibung\n",
    "def grammar_check(lyric):\n",
    "    doc = nlp(lyric)\n",
    "    return doc._.performed_spellCheck, doc._.outcome_spellCheck\n",
    "\n",
    "texts = list(df[\"lyrics\"].iloc[:50])\n",
    "docs = nlp.pipe(texts)  \n",
    "\n",
    "\n",
    "for i, doc in enumerate(docs):\n",
    "    row = df.loc[i, \"lyrics\"]\n",
    "    performed_spell_check, outcome_spell_check = grammar_check(row)\n",
    "    print(\"Performed spell check:\", performed_spell_check)\n",
    "    print(\"Outcome of spell check:\", outcome_spell_check)\n"
   ]
  },
  {
   "cell_type": "code",
   "execution_count": 142,
   "metadata": {},
   "outputs": [
    {
     "name": "stdout",
     "output_type": "stream",
     "text": [
      "  Manchmal hast du gar nichts mehr Nur noch deinen kleinen Traum Und dann wiegt es Tonnen schwer Du bist wie Luft ohne Raum Manchmal geht die Liebe fort Und es regnet dir ins Herz Die Welt begräbt dich lebend Und jeder Atemzug schmerzt Wenn nichts mehr bleibt Auf das du dich noch verlassen kannst  Wenn du denkst, dass alles vorbei ist Ich werde immer da sein Ich werde immer da sein Und wenn du glaubst, dass du ganz allein bist Ich werde immer da sein Für immer für dich da sein  Manchmal hinterfragst du alles Hörst damit auch Nachts nicht auf Sitzt im Treppenhaus und wartest Denn du traust dich nicht nachhaus' Manchmal geht die Liebe unter Und im Sommer wird es kalt Läufst die Straßen rauf und runter So wie ein Zug ohne Halt  Wenn nichts mehr bleibt Auf das du dich noch verlassen kannst  Wenn du denkst, dass alles vorbei ist Ich werde immer da sein Ich werde immer da sein Und wenn du glaubst, dass du ganz allein bist Ich werde immer da sein Für immer für dich da sein  Ich bin da, wenn du dich verurteilst Ich bin der, mit dem du die Angst teilst Ich seh' für dich durch deine Augen Ich helfe dir an morgen zu glauben  Wenn du denkst, dass alles vorbei ist Ich werde immer da sein Ich werde immer da sein Und wenn du glaubst, dass du ganz allein bist Ich werde immer da sein Für immer für dich da sein Wenn du denkst, dass alles vorbei ist Ich werde immer da sein Ich werde immer da sein Und wenn du glaubst, dass du ganz allein bist Ich werde immer da sein Für immer für dich da sein Ich werde immer da sein Für immer für dich da sein    Manchmal hast du gar nichts mehr Nur noch deinen kleinen Traum Und dann wiegt es Tonnen schwer Du bist wie Luft ohne Raum Manchmal geht die Liebe fort Und es regnet dir ins Herz Die Welt begräbt dich lebend Und jeder Atemzug schmerzt Wenn nichts mehr bleibt Auf das du dich noch verlassen kannst  Wenn du denkst, dass alles vorbei ist Ich werde immer da sein Ich werde immer da sein Und wenn du glaubst, dass du ganz allein bist Ich werde immer da sein Für immer für dich da sein  Manchmal hinterfragst du alles Hörst damit auch Nachts nicht auf Sitzt im Treppenhaus und wartest Denn du traust dich nicht nachhaus' Manchmal geht die Liebe unter Und im Sommer wird es kalt Läufst die Straßen rauf und runter So wie ein Zug ohne Halt  Wenn nichts mehr bleibt Auf das du dich noch verlassen kannst  Wenn du denkst, dass alles vorbei ist Ich werde immer da sein Ich werde immer da sein Und wenn du glaubst, dass du ganz allein bist Ich werde immer da sein Für immer für dich da sein  Ich bin da, wenn du dich verurteilst Ich bin der, mit dem du die Angst teilst Ich seh' für dich durch deine Augen Ich helfe dir an morgen zu glauben  Wenn du denkst, dass alles vorbei ist Ich werde immer da sein Ich werde immer da sein Und wenn du glaubst, dass du ganz allein bist Ich werde immer da sein Für immer für dich da sein Wenn du denkst, dass alles vorbei ist Ich werde immer da sein Ich werde immer da sein Und wenn du glaubst, dass du ganz allein bist Ich werde immer da sein Für immer für dich da sein Ich werde immer da sein Für immer für dich da sein \n",
      "True\n",
      "  Wast durch. Der die dieen. Und dast essen. Dunst diet und. Wast dien fort Und esser dir ins. Dies,e. Und der zu. Was das der? An das duch, den.  Was dung, das es die. Du war er dan Du war er dan Und es du gut, das dun dir., willr dann Für dir für dir dann  Das hinterfragst du. Wast. dasnacht zu Hitler im Reich und. Der dus du mits' Wast die,. Und immer und es das für die von Tag und. Som die,? Halt  Was das der? An das duch, den.  Was dung, das es die. Du war er dan Du war er dan Und es du gut, das dun dir., willr dann Für dir für die da,  ' bin da, der duch verurteilst, bin der, mit dem du dient, s' für die dir die. In will dir an den zu.  Was dung, das es die. Du war er dan Du war er dan Und es du gut, das dun dir., willr dann Für dir für dir dann und dung, das es dir. Du war er dan Du war er dan Und es du gut, das dun dir., willr dann Für dir für dir dann, darer dann Für dir für dir dann \n",
      " Ganz allein im schwarzen Licht wie hinter Glas Treibst verschwommen durch den Raum wie im Blindflug In dein'm Kopf läuft ein Film, den du keinem zeigen willst Viele Freunde, kein Vertrauen, das muss weh tun Ich seh' deine Farben, du leuchtest Ein Stern der ganz alleine fliegt Du willst es nicht hören, aber dein Herz ist außer Betrieb  Und das ist für dich, hey Da ist Sehnsucht in deinem Blick Ich fühl' was du brauchst Ist nicht was du kriegst Kannst dich fallen lassen Ich halt dich Bist du dir und allen vergibst Ich fühl wie das wär Wenn du liebst Wenn du liebst Du schaust mich drei Sekunden an Und dann wirst du wieder fremd Rennst zurück in die Nacht, betäubst dich Ich seh dich tanzen und weinen, ein verlorener Satellit Du willst es nicht hören, aber dein Herz ist außer Betrieb  Und das ist für dich, hey Da ist Sehnsucht in deinem Blick Ich fühl' was du brauchst Ist nicht was du kriegst Kannst dich fallen lassen Ich halt dich Bist du dir und allen vergibst Ich fühl wie das wär Wenn du liebst Wenn du liebst  Ich finde dich, ich finde dich Wenn du mich suchst, ich finde dich (Weil du was ganz besonderes bist) Ich finde dich (damit du siehst, wie schön du bist) Wenn du mich suchst (Weil du was ganz besonderes bist)  Und das ist für dich, hey Da ist Sehnsucht in deinem Blick Ich fühl' was du brauchst Ist nicht was du kriegst Kannst dich fallen lassen Ich halt dich Bist du dir und allen vergibst Ich fühl wie das wär Wenn du liebst Wenn du liebst (Weil du was ganz besonderes bist) Wie du liebst (damit du siehst, wie schön du bist) Ich weiß genau wie das wär (Weil du was ganz besonderes bist) Wenn du liebst Wenn du liebst   Ganz allein im schwarzen Licht wie hinter Glas Treibst verschwommen durch den Raum wie im Blindflug In dein'm Kopf läuft ein Film, den du keinem zeigen willst Viele Freunde, kein Vertrauen, das muss weh tun Ich seh' deine Farben, du leuchtest Ein Stern der ganz alleine fliegt Du willst es nicht hören, aber dein Herz ist außer Betrieb  Und das ist für dich, hey Da ist Sehnsucht in deinem Blick Ich fühl' was du brauchst Ist nicht was du kriegst Kannst dich fallen lassen Ich halt dich Bist du dir und allen vergibst Ich fühl wie das wär Wenn du liebst Wenn du liebst Du schaust mich drei Sekunden an Und dann wirst du wieder fremd Rennst zurück in die Nacht, betäubst dich Ich seh dich tanzen und weinen, ein verlorener Satellit Du willst es nicht hören, aber dein Herz ist außer Betrieb  Und das ist für dich, hey Da ist Sehnsucht in deinem Blick Ich fühl' was du brauchst Ist nicht was du kriegst Kannst dich fallen lassen Ich halt dich Bist du dir und allen vergibst Ich fühl wie das wär Wenn du liebst Wenn du liebst  Ich finde dich, ich finde dich Wenn du mich suchst, ich finde dich (Weil du was ganz besonderes bist) Ich finde dich (damit du siehst, wie schön du bist) Wenn du mich suchst (Weil du was ganz besonderes bist)  Und das ist für dich, hey Da ist Sehnsucht in deinem Blick Ich fühl' was du brauchst Ist nicht was du kriegst Kannst dich fallen lassen Ich halt dich Bist du dir und allen vergibst Ich fühl wie das wär Wenn du liebst Wenn du liebst (Weil du was ganz besonderes bist) Wie du liebst (damit du siehst, wie schön du bist) Ich weiß genau wie das wär (Weil du was ganz besonderes bist) Wenn du liebst Wenn du liebst \n",
      "True\n",
      " Mann an imen Lande die das mit verschwommen für den Fallt im. In dein'motf die Film, den dunen im die Kind, denen, dassen? Du s' den Mann, duch Ein Stern der Mann in. Du las eschen, dir den Herr hat der.  Und das hat für dir, hey Dat es in den. Is ha' was durch sot was du. Mann die fallenen, halter mit du dir und den. Du wille das. Mann du dir Mann du die Du lase dem und an Und dast dur. Dasock in die Land, und. In bin die Mann und die, in vont Du las eschen, dir den Herr hat der.  Und das hat für dir, hey Dat es in den. Is ha' was durch sot was du. Mann die fallenen, halter mit du dir und den. Du wille das. Wen du lie und du lie  I bin di, I die. Mann duch hat, du und die (Herr du wasz dert) I bin die (mit du die, die bin dus) Mann duch? (Herr du wasn dert)  Und das hat für dir, hey Dat es in den. Is ha' was durch sot was du. Mann die fallenen, halter mit du dir und den. Du wille das. Wen du dir und du die (mit du wasn dert) Die du die (mit du die, die son du dir) Du bin hat bin das? (Herr du wasz dert) Wen du lie und du dem \n",
      "  Ich ging wie ein Ägypter Hab' mit Tauben geweint War ein Voodookind Wie ein rollender Stein Im Dornenwald sang Maria für mich Ich starb in deinen Armen, Bochum ' Ich ließ die Sonne nie untergehen In meiner wundervollen Welt Und ich singe diese Lieder Tanz' mit Tränen in den Augen Bowie war für'n Tag mein Held Und EMF kann es nicht glauben Und ich steh' im lila Regen Ich will ein Feuerstarter sein Whitney wird mich immer lieben Und Michael lässt mich nicht allein  Ich war willkommen im Dschungel Und fremd im eigenen Land Mein persönlicher Jesus Und im Gehirn total krank Und ich frage mich, wann Werd' ich, werd' ich berühmt sein So wie Rio, mein König für die Ewigkeit? Ich war am Ende der Straße angelangt War ein Verlierer, Baby, doch dann Hielt ich ein Cover in der Hand Darauf ein Mönch, der in Flammen stand Kurt Cobain sagte mir, ich soll kommen wie ich bin  Und ich singe diese Lieder Tanz' mit Tränen in den Augen Bowie war für'n Tag mein Held Und EMF kann es nicht glauben Und ich steh' im lila Regen Ich will ein Feuerstarter sein Whitney wird mich immer lieben Und Michael lässt mich nicht allein  Ich war einer von fünf Jungs „One Minute“ aus, dann war's vorbei Ich sang nur noch für mich, für 'ne unendlich lange Zeit Dann traf ich auf sie Und sie erinnerte mich Wir waren Welten entfernt Und doch vom selben Stern  Ich ging wie ein Ägypter Hab' mit Tauben geweint War ein Voodoo-Kind Wie ein rollender Stein Ich ließ die Sonne nie untergehen In meiner wundervollen Welt  Und jetzt singe ich meine Lieder Tanz' mit Tränen in den Augen Bowie war für'n Tag mein Held Und EMF kann es nicht glauben Und ich steh' im lila Regen Ich will ein Feuerstarter sein Whitney wird mich immer lieben Und Michael lässt uns nicht allein Denn wir singen diese Lieder Tanzen mit Tränen in den Augen Bowie war für'n Tag ein Held Und EMF kann es nicht glauben Und wir stehen im lila Regen Wir wollen Feuerstarter sein Whitney wird uns immer lieben Und Michael lässt uns nicht allein   Ich ging wie ein Ägypter Hab' mit Tauben geweint War ein Voodookind Wie ein rollender Stein Im Dornenwald sang Maria für mich Ich starb in deinen Armen, Bochum ' Ich ließ die Sonne nie untergehen In meiner wundervollen Welt Und ich singe diese Lieder Tanz' mit Tränen in den Augen Bowie war für'n Tag mein Held Und EMF kann es nicht glauben Und ich steh' im lila Regen Ich will ein Feuerstarter sein Whitney wird mich immer lieben Und Michael lässt mich nicht allein  Ich war willkommen im Dschungel Und fremd im eigenen Land Mein persönlicher Jesus Und im Gehirn total krank Und ich frage mich, wann Werd' ich, werd' ich berühmt sein So wie Rio, mein König für die Ewigkeit? Ich war am Ende der Straße angelangt War ein Verlierer, Baby, doch dann Hielt ich ein Cover in der Hand Darauf ein Mönch, der in Flammen stand Kurt Cobain sagte mir, ich soll kommen wie ich bin  Und ich singe diese Lieder Tanz' mit Tränen in den Augen Bowie war für'n Tag mein Held Und EMF kann es nicht glauben Und ich steh' im lila Regen Ich will ein Feuerstarter sein Whitney wird mich immer lieben Und Michael lässt mich nicht allein  Ich war einer von fünf Jungs „One Minute“ aus, dann war's vorbei Ich sang nur noch für mich, für 'ne unendlich lange Zeit Dann traf ich auf sie Und sie erinnerte mich Wir waren Welten entfernt Und doch vom selben Stern  Ich ging wie ein Ägypter Hab' mit Tauben geweint War ein Voodoo-Kind Wie ein rollender Stein Ich ließ die Sonne nie untergehen In meiner wundervollen Welt  Und jetzt singe ich meine Lieder Tanz' mit Tränen in den Augen Bowie war für'n Tag mein Held Und EMF kann es nicht glauben Und ich steh' im lila Regen Ich will ein Feuerstarter sein Whitney wird mich immer lieben Und Michael lässt uns nicht allein Denn wir singen diese Lieder Tanzen mit Tränen in den Augen Bowie war für'n Tag ein Held Und EMF kann es nicht glauben Und wir stehen im lila Regen Wir wollen Feuerstarter sein Whitney wird uns immer lieben Und Michael lässt uns nicht allein\n",
      "True\n",
      "  In bin ' die die an' mit den. War in Voodookind Die - der. Im nun sang die für die, hat in den Wien, o ' s bin die Mann in untergehen In der der. Und, bin die der an' mit dem in den James in war für'n Tagen Held Und, an esch? Und du s' im dien I will die Herr in hatr dir dem. Und hatis die mit. , waren im. Und Land im den Land Ein Herr. Und im den total. Und is hatn,. Herr' i, d' i am. Som dir, den Land für die Kaiser? In war am in deren War in Herr, Baby, das dent in in Cover in der Hand War in Mann, der in den standt von Das dir, du bin es, dir bin  Und in bin die der an' mit der in den James Die war für'n Tag den Held Und, an esch? Und du s' im dien I will die Herr in hatr dir dem. Und hats die mit die , waren von den \" „One Minute“ \", da war'stent sang zu, fürch, für 'nenteten hat, zu. Und die er die die den mit. Und du dem den Stern , bint die der an' mit den. War on Voodoo-Kind Die - der. I bin die Mann in untergehen In den der.  Und zu bin in diender an' mit und in den James in war für'n Tagen Held Und, an esch? Und du s' im dien I will die Herr in hatr dir dem. Und hats und hat. Ein warden die deren mit Mann in den James die war für'n Tage Held Und, an esch? Und dirden im dien Der den Feuerstarter den Whitney in und dern Und hats und hat.\n",
      "  Du warst die ganze Welt für mich Warst das, was war und das, was ist Du warst der lebende Beweis, dass es die Liebe gibt Ich war blind und ich war taub Und unbelehrbar war ich auch Ich hatte alles nur für mich gemacht und nicht an dich gedacht  Willst du unbedingt ein'n Mann vor dir weinen sehen? Du musst mir glauben, heute kann ich dich verstehen Bin um die halbe Welt geflogen Und geh' noch diesen einen Schritt Ganz egal, was du gemacht hast Ich will dich einfach nur zurück Du warst 'ne Göttin für mich Mein Ticket in das Licht Du warst der lebende Beweis, dass es für mich noch Liebe gibt Jetzt hast du ein' neuen Weg gesehen Den musstest du alleine gehen Doch das hier ist so viel größer als wir, du gehörst zu mir  Willst du unbedingt ein'n Mann vor dir weinen sehen? Du musst mir glauben, heute kann ich dich verstehen Bin um die halbe Welt geflogen Und geh' noch diesen einen Schritt Ganz egal, was du gemacht hast Ich will dich einfach nur zurück  Du gehörst zu mir  Willst du unbedingt ein'n Mann vor dir weinen sehen? Du musst mir glauben, heute kann ich dich verstehen Bin um die halbe Welt geflogen Und geh' noch diesen einen Schritt Ganz egal, was du gemacht hast Ich will dich einfach nur zurück   Du warst die ganze Welt für mich Warst das, was war und das, was ist Du warst der lebende Beweis, dass es die Liebe gibt Ich war blind und ich war taub Und unbelehrbar war ich auch Ich hatte alles nur für mich gemacht und nicht an dich gedacht  Willst du unbedingt ein'n Mann vor dir weinen sehen? Du musst mir glauben, heute kann ich dich verstehen Bin um die halbe Welt geflogen Und geh' noch diesen einen Schritt Ganz egal, was du gemacht hast Ich will dich einfach nur zurück Du warst 'ne Göttin für mich Mein Ticket in das Licht Du warst der lebende Beweis, dass es für mich noch Liebe gibt Jetzt hast du ein' neuen Weg gesehen Den musstest du alleine gehen Doch das hier ist so viel größer als wir, du gehörst zu mir  Willst du unbedingt ein'n Mann vor dir weinen sehen? Du musst mir glauben, heute kann ich dich verstehen Bin um die halbe Welt geflogen Und geh' noch diesen einen Schritt Ganz egal, was du gemacht hast Ich will dich einfach nur zurück  Du gehörst zu mir  Willst du unbedingt ein'n Mann vor dir weinen sehen? Du musst mir glauben, heute kann ich dich verstehen Bin um die halbe Welt geflogen Und geh' noch diesen einen Schritt Ganz egal, was du gemacht hast Ich will dich einfach nur zurück\n",
      "True\n",
      "  Durch dienet für die war das, was war und das, wast Du war deren das, das es die Land., war blind und is war. Und hat wart?, hat, zu für mit gut und mit an die.  Was dung ein'n,, direnn? Du und die Mann, hat an in die den Bin um die die der. Und e' n bin die der anl, was durch. I willt bin zu. Dur 'nen für. Ein Ticket in das? Durch deren Stein, das es für die die die die zu hat dub' er der. Denster dun. So das dir is soller das dir, durch zur  Was dung ein'n,, direnn? Du und die Mann, hat an in die den Bin um die die der. Und e' n bin die der anl, was durch. I willt bin zu.  Durch zur  Was dung ein'n,, direnn? Du und die Mann, hat an in die den Bin um die die der. Und e' n bin die der anl, was durch. I willt bin zu.\n",
      "  Keine Chance, es ist viel zu tief Keine Chance, es geht alles schief Ich sinke, ich sinke Allein im Nichts und schwerelos Dieses Blau ist viel zu groß Ich sinke, ich sinke Was mal erreichbar schien erst jetzt so fern Der Abwärtsdruck legt sich auf mein Herz Für mich ist es schon kurz vor vorbei Doch dein Sauerstoff reicht für uns zwei Mit dir kann ich unter Wasser überleben Nur du holst mich langsam wieder rauf Ich weiß, mit dir kann ich unter Wasser überleben Und ich fühle wie du in meine Angst eintauchst Hol mich wieder rauf, hol mich wieder rauf Hol mich wieder rauf zu dir  Keine Chance, es ist viel zu spät Keine Chance, wenn die Liebe fehlt Ich sinke, ich sinke Viel zu viel, ich werd' verrückt Ich schwimm' durch nichts, ich brauche dich Ich sinke, ich sinke Was ist passiert, ich lieg' am Grund Und schneid' mir die Haut an den Korallen wund Für mich ist es schon kurz vor vorbei Doch dein Sauerstoff reicht für uns zwei  Mit dir kann ich unter Wasser überleben Nur du holst mich langsam wieder rauf Ich weiß, mit dir kann ich unter Wasser überleben Und ich fühle wie du in meine Angst eintauchst Hol mich wieder rauf, hol mich wieder rauf Hol mich wieder rauf zu dir Hol mich wieder rauf, hol mich langsam wieder rauf Hol mich wieder rauf zu dir  Mit dir kann ich unter Wasser überleben Nur du holst mich langsam wieder rauf Ich weiß, mit dir kann ich unter Wasser überleben Und ich fühle wie du in meine Angst eintauchst Hol mich wieder rauf, hol mich wieder rauf Hol mich wieder rauf zu dir Hol mich wieder rauf, hol mich langsam wieder rauf Hol mich wieder rauf zu dir    Keine Chance, es ist viel zu tief Keine Chance, es geht alles schief Ich sinke, ich sinke Allein im Nichts und schwerelos Dieses Blau ist viel zu groß Ich sinke, ich sinke Was mal erreichbar schien erst jetzt so fern Der Abwärtsdruck legt sich auf mein Herz Für mich ist es schon kurz vor vorbei Doch dein Sauerstoff reicht für uns zwei Mit dir kann ich unter Wasser überleben Nur du holst mich langsam wieder rauf Ich weiß, mit dir kann ich unter Wasser überleben Und ich fühle wie du in meine Angst eintauchst Hol mich wieder rauf, hol mich wieder rauf Hol mich wieder rauf zu dir  Keine Chance, es ist viel zu spät Keine Chance, wenn die Liebe fehlt Ich sinke, ich sinke Viel zu viel, ich werd' verrückt Ich schwimm' durch nichts, ich brauche dich Ich sinke, ich sinke Was ist passiert, ich lieg' am Grund Und schneid' mir die Haut an den Korallen wund Für mich ist es schon kurz vor vorbei Doch dein Sauerstoff reicht für uns zwei  Mit dir kann ich unter Wasser überleben Nur du holst mich langsam wieder rauf Ich weiß, mit dir kann ich unter Wasser überleben Und ich fühle wie du in meine Angst eintauchst Hol mich wieder rauf, hol mich wieder rauf Hol mich wieder rauf zu dir Hol mich wieder rauf, hol mich langsam wieder rauf Hol mich wieder rauf zu dir  Mit dir kann ich unter Wasser überleben Nur du holst mich langsam wieder rauf Ich weiß, mit dir kann ich unter Wasser überleben Und ich fühle wie du in meine Angst eintauchst Hol mich wieder rauf, hol mich wieder rauf Hol mich wieder rauf zu dir Hol mich wieder rauf, hol mich langsam wieder rauf Hol mich wieder rauf zu dir \n",
      "True\n",
      "  Die Chance, es hat die zu dirne Chance, es hat es. I sink, oh will Religion im Reich und dem Die, in die zu. I sink, oh will Was das derent er son Der Abwärtsdruckt dir zu den. Für dir hat esch dir von. Von den Herrt für und dem Mit dir an, der Mann. Du dus mit das der. Was bin, mit dir und, der Mann. Und is hat dir du in den und eintauchst Ho mi der man, so mi die. Soch der Tag zu dir  die Chance, es mit die zu? Die Chance, es diebe. zu Chance, zu die Kind zu Wien, du d'. I s' dest, das binn, sink, das will Wast das, du l' am? Und d' er die Mann an den Fall. Für dir hat esch dir von. Von den Herrt für und dem  Mit dir an, der Mann. Du dus mit das der. Was bin, mit dir und, der Mann. Und is hat dir du in den und eintauchst Ho mi der man, so mi die. Soch der hat zu dir Mal mi der zu, so mi man der. Soch der hat zu dir  Mit dir an, der Mann. Du dus mit das der. Was bin, mit dir und, der Mann. Und is hat dir du in den und eintauchst Ho mi der man, so mi die. Soch der hat zu dir Mal mi der zu, so mi man der. Soch der hat zu dir \n",
      "  Du schaust mich an, so endlos tief Und ich seh's in deinen Augen Die Worte gehen, die Stille bleibt Ich halt dich fest solang ich kann Aber keiner hält die Zeiger an Denn man ist niemals bereit Ich will, dass das für immer bleibt Ich will, dass das für immer bleibt Doch dieser Moment ist wie 'n Kartenhaus Und die Zeit zieht ihre Karten raus Wir schauen zu wie sie zu Boden fallen Wie sie zu Boden fallen Dieser Moment ist wie 'n Kartenhaus Und die Zeit zieht ihre Karten raus Ich heb sie auf und halt sie fest Damit mein Herz dich nicht vergisst  Ich seh den Glanz in deinen Tränen Und das was uns verbindet Ist so viel mehr als wir verstehen Die Zeit vergeht und zieht uns fort Doch ich will an keinen anderen Ort Denn man ist niemals soweit Ich will, dass das für immer bleibt Ich will, dass du für immer bleibst  Doch dieser Moment ist wie 'n Kartenhaus Und die Zeit zieht ihre Karten raus Wir schauen zu wie sie zu Boden fallen Wie sie zu Boden fallen Dieser Moment ist wie 'n Kartenhaus Und die Zeit zieht ihre Karten raus Ich heb sie auf und halt sie fest Damit mein Herz dich nicht vergisst  Ich fühl was du fühlst in dieser Sekunde Halt dein Licht an meins, die Strahlen treffen sich Ich bleib wo du bist, lass dich nie mehr alleine Halt dich an mir fest  Doch dieser Moment ist wie 'n Kartenhaus Und die Zeit zieht ihre Karten raus Wir schauen zu wie sie zu Boden fallen Wie sie zu Boden fallen Dieser Moment ist wie 'n Kartenhaus Und die Zeit zieht ihre Karten raus Ich heb sie auf und halt sie fest Damit mein Herz dich nicht vergisst  Damit mein Herz dich nie vergisst    Du schaust mich an, so endlos tief Und ich seh's in deinen Augen Die Worte gehen, die Stille bleibt Ich halt dich fest solang ich kann Aber keiner hält die Zeiger an Denn man ist niemals bereit Ich will, dass das für immer bleibt Ich will, dass das für immer bleibt Doch dieser Moment ist wie 'n Kartenhaus Und die Zeit zieht ihre Karten raus Wir schauen zu wie sie zu Boden fallen Wie sie zu Boden fallen Dieser Moment ist wie 'n Kartenhaus Und die Zeit zieht ihre Karten raus Ich heb sie auf und halt sie fest Damit mein Herz dich nicht vergisst  Ich seh den Glanz in deinen Tränen Und das was uns verbindet Ist so viel mehr als wir verstehen Die Zeit vergeht und zieht uns fort Doch ich will an keinen anderen Ort Denn man ist niemals soweit Ich will, dass das für immer bleibt Ich will, dass du für immer bleibst  Doch dieser Moment ist wie 'n Kartenhaus Und die Zeit zieht ihre Karten raus Wir schauen zu wie sie zu Boden fallen Wie sie zu Boden fallen Dieser Moment ist wie 'n Kartenhaus Und die Zeit zieht ihre Karten raus Ich heb sie auf und halt sie fest Damit mein Herz dich nicht vergisst  Ich fühl was du fühlst in dieser Sekunde Halt dein Licht an meins, die Strahlen treffen sich Ich bleib wo du bist, lass dich nie mehr alleine Halt dich an mir fest  Doch dieser Moment ist wie 'n Kartenhaus Und die Zeit zieht ihre Karten raus Wir schauen zu wie sie zu Boden fallen Wie sie zu Boden fallen Dieser Moment ist wie 'n Kartenhaus Und die Zeit zieht ihre Karten raus Ich heb sie auf und halt sie fest Damit mein Herz dich nicht vergisst  Damit mein Herz dich nie vergisst \n",
      "True\n",
      "  Du lase an, soll. Und, seh's in den. Die Wilde Herr, die die die, halte es an in den der die mit die Herr an Der mant man. I will, das das fürmer die I will, das das fürmer die Der der Momentt me 'n Kartenhaus Und die, ine die. Dieden zu dirm zu den fallen Die, zu dir fallen Der Momentt me 'nt Und die, ine die. In hat die gut und halte. Das bin dirlich dies , bin denn in den. Und das wass das is sollers dien Diesen und die und fort Du is will an die die. den mant dasen I will, das das fürmer die I will, das du fürmer will  Der der Momentt me 'n Kartenhaus Und die, ine die. Dieden zu dirm zu den fallen Die, zu dir fallen Der Momentt me 'nt Und die, ine die. In hat die gut und halte. Das der dir is mit.  Du will was duh in die Land Halt die Kind ans, die den in. Du bin, dus, das is in ere Halt is an die.  Der der Momentt me 'n Kartenhaus Und die, ine die. Dieden zu dirm zu den fallen Die, zu dir fallen Der Momentt me 'nt Und die, ine die. In hat die gut und halte. Das der dir is mit.  Das der dir is die. \n",
      "  Ey Kumpel, noch beim letzten Mal, da war in deinen Augen Glanz Doch - nach all den Nächten da, seh'n sie aus wie ausgestanzt Fast dein halbes Leben lang, sitzt du nur an Theken dran Feierst deine Nächte durch mit allem, was man kriegen kann Wohnst in deinem Niemandsland, immer schon, in letzter Zeit Lässt du keinen rein, bleibst daheim, extrabreit Hältst dich an jedem Glas fest wie an einem Ast Ich hab nur eine Angst: Dass du keine hast Ist mir egal, ich weiß am besten, was mich glücklich macht Lückenhaft Ich verlier' ein Stück jede verrückte Nacht Doch - alles gut, sieh mich an, ich nehm', was ich kriegen kann Ich fang zu fliegen an und die Fantasie geht an, Realität geht aus Und das was gescheh'n ist auch Vielleicht tut es mir nicht gut, aber ich nehm's in Kauf Ich leb mich aus, bis mir mein Körper sagt, ich hab genug Da ist mal wieder Blut in meinem Taschentuch Du bist auf deinem Aschenflug Hinter dir brennt alles nieder Du bist auf deinem Aschenflug Hinter dir brennt alles ab Du weißt du kriegst nie genug Solange bis niemand mehr da ist Du bist auf deinem Aschenflug Bis zum allerletzten Tag An dem keiner mehr nach dir fragt  Beeil' dich mal, bisschen weiter, dann ist vorbei, Digga Nein, Digga, hau ma' ab, mich interessiert der Scheiß' nich' ma Komm wir geh'n, der Club ist lahm Ey, guck dich an, du kannst doch schon nicht mehr grade gucken, Mann Lass mal bisschen runterkommen Ach i-wo, weiter geht's, der Postmann bringt noch ein Paket Hauptsache, dass sich dein Kopfkarussell weiter dreht Ehrlich ma, jeder hier sieht, dass es dir scheiße geht Ich hab all das, wovon diese Rockstars reden, live erlebt, Kein Problem, doch, Alter, dein Problem ist mein Problem Hör ma auf so freizudreh'n, hör auf, all den Scheiß zu nehmen Egal Mann, ich mach weiter bis mein Körper sagt: Ich hab genug Bald ist der Affe tot, Klappe zu  Du bist auf deinem Aschenflug Hinter dir brennt alles nieder Du bist auf deinem Aschenflug Hinter dir brennt alles ab Du weißt du kriegst nie genug Solange bis niemand mehr da ist Du bist auf deinem Aschenflug Bis zum allerletzten Tag An dem keiner mehr nach dir fragt  Du brennst, so hell Und du brennst immer heller Du fällst so schnell Und du fällst immer schneller  Du bist auf deinem Aschenflug Hinter dir brennt alles nieder Du bist auf deinem Aschenflug Hinter dir brennt alles ab Du weißt du kriegst nie genug Solange bis niemand mehr da ist Du bist auf deinem Aschenflug Bis zum allerletzten Tag An dem keiner mehr nach dir fragt   Ey Kumpel, noch beim letzten Mal, da war in deinen Augen Glanz Doch - nach all den Nächten da, seh'n sie aus wie ausgestanzt Fast dein halbes Leben lang, sitzt du nur an Theken dran Feierst deine Nächte durch mit allem, was man kriegen kann Wohnst in deinem Niemandsland, immer schon, in letzter Zeit Lässt du keinen rein, bleibst daheim, extrabreit Hältst dich an jedem Glas fest wie an einem Ast Ich hab nur eine Angst: Dass du keine hast Ist mir egal, ich weiß am besten, was mich glücklich macht Lückenhaft Ich verlier' ein Stück jede verrückte Nacht Doch - alles gut, sieh mich an, ich nehm', was ich kriegen kann Ich fang zu fliegen an und die Fantasie geht an, Realität geht aus Und das was gescheh'n ist auch Vielleicht tut es mir nicht gut, aber ich nehm's in Kauf Ich leb mich aus, bis mir mein Körper sagt, ich hab genug Da ist mal wieder Blut in meinem Taschentuch Du bist auf deinem Aschenflug Hinter dir brennt alles nieder Du bist auf deinem Aschenflug Hinter dir brennt alles ab Du weißt du kriegst nie genug Solange bis niemand mehr da ist Du bist auf deinem Aschenflug Bis zum allerletzten Tag An dem keiner mehr nach dir fragt  Beeil' dich mal, bisschen weiter, dann ist vorbei, Digga Nein, Digga, hau ma' ab, mich interessiert der Scheiß' nich' ma Komm wir geh'n, der Club ist lahm Ey, guck dich an, du kannst doch schon nicht mehr grade gucken, Mann Lass mal bisschen runterkommen Ach i-wo, weiter geht's, der Postmann bringt noch ein Paket Hauptsache, dass sich dein Kopfkarussell weiter dreht Ehrlich ma, jeder hier sieht, dass es dir scheiße geht Ich hab all das, wovon diese Rockstars reden, live erlebt, Kein Problem, doch, Alter, dein Problem ist mein Problem Hör ma auf so freizudreh'n, hör auf, all den Scheiß zu nehmen Egal Mann, ich mach weiter bis mein Körper sagt: Ich hab genug Bald ist der Affe tot, Klappe zu  Du bist auf deinem Aschenflug Hinter dir brennt alles nieder Du bist auf deinem Aschenflug Hinter dir brennt alles ab Du weißt du kriegst nie genug Solange bis niemand mehr da ist Du bist auf deinem Aschenflug Bis zum allerletzten Tag An dem keiner mehr nach dir fragt  Du brennst, so hell Und du brennst immer heller Du fällst so schnell Und du fällst immer schneller  Du bist auf deinem Aschenflug Hinter dir brennt alles nieder Du bist auf deinem Aschenflug Hinter dir brennt alles ab Du weißt du kriegst nie genug Solange bis niemand mehr da ist Du bist auf deinem Aschenflug Bis zum allerletzten Tag An dem keiner mehr nach dir fragt\n",
      "True\n",
      "  Ein man, du bin den Mann, da war in den. and Der - das all denen da, seh'n ' zu die ausgestanzt Fasten dastern, dir dur an den. Die diebt der mit dem, was manen dent in den Mann, imten, in der. Was dun Stein, mit du, mitt du an dem Tag,, an die,, hat für diebt: Das dube. es der gut, so bin am See, wast bint Lückenhaft In bin' n,ere. So - es gut, dien an, ' m', wast bin. Das man zu dir an und die Kaiser der an, mitt an Und das was gescheh'nt die bin hat es dir mit gut, für das nehm's in. Du binlich du, das mit den der Tag, und bin. Dat das dert in den Taschentuch Dus du dem Aschenflug Herr dir Mann es. Dus du dem Aschenflug Der dir Mann,. Du bin dus die den Tag is und für dat Dus du dem Aschenflug Die - allerletzten Tag An demer es, dir das  l' im man, die Herr, dast Herr, die man, die, ha ma' am, mit interessiert der ha' n' ma So, geh'n, der Club in. Ah, duen an, dunn du bin mit der gradeben, dases am en runterkommen - du, die geht's, der Mann in von in derch, das in den Kopfkarussell der. Si ma, er diet, das es dir est, man all das, bin des soe, livet, Ein Problem, das, Alter, den Problem in den Problem Hi ma Du so freizudreh'n, dir du, all denen zu den dasen, das mit dirs den der mit: In man. Bald in der Herrt, die zu  Dunst du dem Aschenflug Herr dir Mann es. Dus du dem Aschenflug Der dir Mann,. Du bin dus die den Tag is und für dat Dus du dem Aschenflug Die - allerletzten Tag An demer Herr, dir.  Dunder, so hell Und dunner. Ducht soll Und dus der.  Dus du dem Aschenflug Herr dir Mann es. Dus du dem Aschenflug Der dir Mann,. Du bin dus die den Tag is und für dat Dus du dem Aschenflug Die - allerletzten Tag An demer es, dir.\n",
      "  Glaub mir irgendwann wird die Liebe regieren Wir haben nichts mehr zu verlieren Die Zeit lässt die Wunden heilen Du bist genau wie ich und nicht allein Ich bin nah bei dir, gemeinsam schaffen wir Großes hier Das Spiel der Spiele steht bereit Schalt alles in dir ein, es ist soweit Ruthless, they want my heart tonight Imma a run these lines ‘til my insides shine And I find some peace of mind, yeah-yeah Ruthless, they want my heart tonight Imma a run these lines ‘til my insides shine And I find some peace of mind Komm wir bring' die Welt zum Leuchten Egal woher du kommst Zu Hause ist da wo deine Freunde sind Hier ist die Liebe umsonst  Feel my mighty blow, let those clouds lay low As I land with my feet on the ground and go go go My destiny I need to know Chasing dreams which way will the wind blow? Watching days but I can’t let go Just want to watch your kingdom grow No one thing as I run up rainbows My pain grows, only the insane know how to dance on the moon as the wolf cry moans In the middle of the darkness I found my zone You, my love, are never alone, even when you’re so very far away from home Zeig mir, wie lange wir noch hier stehen Bis wir endlich so weit sind, dass wir uns in die Augen sehen Zeig mir, dass es anders geht Lass uns zusammen singen bis uns die Welt zu Füßen liegt  Komm wir bring' die Welt zum Leuchten Egal woher du kommst Zu Hause ist da wo deine Freunde sind Hier ist die Liebe umsonst  Ich weiß genau, dass alles besser werden kann Wenn ich ganz fest dran glaub, dann schaff ich es irgendwann All of my life I've been running from the knife Under the gun I know I got this life  Komm wir bring' die Welt zum Leuchten Egal woher du kommst Zu Hause ist da wo deine Freunde sind Hier ist die Liebe umsonst Zu Hause ist da wo deine Freunde sind Zu Hause ist da wo deine Freunde sind   Glaub mir irgendwann wird die Liebe regieren Wir haben nichts mehr zu verlieren Die Zeit lässt die Wunden heilen Du bist genau wie ich und nicht allein Ich bin nah bei dir, gemeinsam schaffen wir Großes hier Das Spiel der Spiele steht bereit Schalt alles in dir ein, es ist soweit Ruthless, they want my heart tonight Imma a run these lines ‘til my insides shine And I find some peace of mind, yeah-yeah Ruthless, they want my heart tonight Imma a run these lines ‘til my insides shine And I find some peace of mind Komm wir bring' die Welt zum Leuchten Egal woher du kommst Zu Hause ist da wo deine Freunde sind Hier ist die Liebe umsonst  Feel my mighty blow, let those clouds lay low As I land with my feet on the ground and go go go My destiny I need to know Chasing dreams which way will the wind blow? Watching days but I can’t let go Just want to watch your kingdom grow No one thing as I run up rainbows My pain grows, only the insane know how to dance on the moon as the wolf cry moans In the middle of the darkness I found my zone You, my love, are never alone, even when you’re so very far away from home Zeig mir, wie lange wir noch hier stehen Bis wir endlich so weit sind, dass wir uns in die Augen sehen Zeig mir, dass es anders geht Lass uns zusammen singen bis uns die Welt zu Füßen liegt  Komm wir bring' die Welt zum Leuchten Egal woher du kommst Zu Hause ist da wo deine Freunde sind Hier ist die Liebe umsonst  Ich weiß genau, dass alles besser werden kann Wenn ich ganz fest dran glaub, dann schaff ich es irgendwann All of my life I've been running from the knife Under the gun I know I got this life  Komm wir bring' die Welt zum Leuchten Egal woher du kommst Zu Hause ist da wo deine Freunde sind Hier ist die Liebe umsonst Zu Hause ist da wo deine Freunde sind Zu Hause ist da wo deine Freunde sind\n",
      "True\n",
      "  Du mit das für diebe. Was hats war zur Diest mit die den. Dus und mit in und mit. I bin hat bin dir, es es der es, Das mit deren der dert es in dir dir, ess die Ruthless, they want my heart tonight, a run these lines ‘til my insides shine And I find some peace of mind, yeah-yeah Ruthless, they want my heart tonight for a run these lines ‘til my insides shine And I find some peace of mind So zu bring' diet im den Tage du. Zu du is daß die Landn Herrt dien,  Feel my mighty blow, let those clouds lay low As I land with my feet on the ground and go go go My destiny I need to know Chasing dreams which way will the wind blow? Watching days but I can’t let go Just want to watch your kingdom grow No one thing as I run up stairs My pain grows, only the insane know how to dance on the moon as the wolf cry out In the middle of the darkness I found my zone You, my love, are never alone, even when you’re so very far away from home Herr die, die hatrch die. Was is dir soll dir, das mit es in dien der mitr, das esser. Was und zu und in und die Herr zu den. . I bring' diet im den,e du. Zu das is daß die Land. diet diebe.  Was bin Mann, das es esenen und, bin es dasz, das hatt es irgendwann All of my life I've been running from the knife Under the gun I know I got this life  on in bring' diet im den Tage du? Zu das is daß die Land. diet diebe. Zu dast daß die Mann. Zu dast daß die Mann.\n",
      "  Wir liegen glücklich auf Häuserdächern Trinken Sekt aus Pappbechern Du erzählst mir vom letzten Jahr Und wie der Sommer in Kairo war Ich hör zu, Augen geschlossen Nie ein' Moment, zu sehr genossen Alles dreht sich viel zu schnell Grauer Häuser, graue Welt Du bist das, was mich am Leben hält Ohne dich könnt ich all das nicht tragen Ohne dich hört mein Herz auf zu schlagen Du machst mich wach und wacher So wie'n Herzschrittmacher Ohne dich hört mein Herz auf zu schlagen Ohne dich hätt ich so viele Fragen Du machst mich wach und wacher Du bist mein Herzschrittmacher Du bist mein Herzschrittmacher  Alles so weit weg in der Ferne Unter uns Beton über uns die Sterne Du strahlst mit jedem Wort Ich will an keinen anderen Ort Augen zu, ich denk nicht an morgen Sie sind weg, die Zweifel, die Sorgen Alles dreht sich viel zu schnell Müde Augen, müde Welt Doch du bist das, was mich am Leben hält (was mich am Leben hält)  Ohne dich könnt ich all das nicht tragen Ohne dich hört mein Herz auf zu schlagen Du machst mich wach und wacher So wie'n Herzschrittmacher Ohne dich hört mein Herz auf zu schlagen Ohne dich hätt ich so viele Fragen Du machst mich wach und wacher Du bist mein Herzschrittmacher Du bist mein Herzschrittmacher  Mein Herz schlägt, mein Herz Mein Herz schlägt, mein Herz Mein Herz schlägt Und mein Herz schlägt, mein Herz Mein Herz schlägt, mein Herz Mein Herz schlägt  Ohne dich könnt ich all das nicht tragen Ohne dich hört mein Herz auf zu schlagen Du machst mich wach und wacher So wie'n Herzschrittmacher Ohne dich hört mein Herz auf zu schlagen Ohne dich hätt ich so viele Fragen Du machst mich wach und wacher Du bist mein Herzschrittmacher Du bist mein Herzschrittmacher Du bist mein Herzschrittmacher    Wir liegen glücklich auf Häuserdächern Trinken Sekt aus Pappbechern Du erzählst mir vom letzten Jahr Und wie der Sommer in Kairo war Ich hör zu, Augen geschlossen Nie ein' Moment, zu sehr genossen Alles dreht sich viel zu schnell Grauer Häuser, graue Welt Du bist das, was mich am Leben hält Ohne dich könnt ich all das nicht tragen Ohne dich hört mein Herz auf zu schlagen Du machst mich wach und wacher So wie'n Herzschrittmacher Ohne dich hört mein Herz auf zu schlagen Ohne dich hätt ich so viele Fragen Du machst mich wach und wacher Du bist mein Herzschrittmacher Du bist mein Herzschrittmacher  Alles so weit weg in der Ferne Unter uns Beton über uns die Sterne Du strahlst mit jedem Wort Ich will an keinen anderen Ort Augen zu, ich denk nicht an morgen Sie sind weg, die Zweifel, die Sorgen Alles dreht sich viel zu schnell Müde Augen, müde Welt Doch du bist das, was mich am Leben hält (was mich am Leben hält)  Ohne dich könnt ich all das nicht tragen Ohne dich hört mein Herz auf zu schlagen Du machst mich wach und wacher So wie'n Herzschrittmacher Ohne dich hört mein Herz auf zu schlagen Ohne dich hätt ich so viele Fragen Du machst mich wach und wacher Du bist mein Herzschrittmacher Du bist mein Herzschrittmacher  Mein Herz schlägt, mein Herz Mein Herz schlägt, mein Herz Mein Herz schlägt Und mein Herz schlägt, mein Herz Mein Herz schlägt, mein Herz Mein Herz schlägt  Ohne dich könnt ich all das nicht tragen Ohne dich hört mein Herz auf zu schlagen Du machst mich wach und wacher So wie'n Herzschrittmacher Ohne dich hört mein Herz auf zu schlagen Ohne dich hätt ich so viele Fragen Du machst mich wach und wacher Du bist mein Herzschrittmacher Du bist mein Herzschrittmacher Du bist mein Herzschrittmacher \n",
      "True\n",
      "  Diedendt Häuserdächern the Texte den Durch du, dem. Und in der Kaiser in der wart war zu, den geschlossen Die s' Moment, zu derens hat, die zu. Ders, Diet Du las das, wast amen.e du bin in all dast. O die hat die Herr, zun Duch mit hat und. So wie'n Herzschrittmacher O die hat die Herr, zun O is mit is sole. Duch mit hat und. Du wit me Herzschrittmacher Du is me Herzschrittmacher  Die soll, in der. In das Mann, und dienn Durch mit dem. I will an die die, und zu, zu denrit an. Die bin Tag, die Kaiser, die dens mit, die zun Müde Augen, Die. So dus das, was mi am Men hat (wasch am Stein?)  O die bin in all dast. O die hat die Herr, zun Duch mit hat und. So wie'n Herzschrittmacher O die hat die Herr, zun O is mit is sole. Duch mit hat und. Du is me Herzschrittmacher Dus me Herzschrittmacher  Die Herrl, mit. Ein Herrl, mit. Ein Herrl Und den Herr Oh, mit. Ein Herrl, mit. Ein Herrl  O die bin in all dast. O die hat die Herr, zun Duch mit hat und. So wie'n Herzschrittmacher O die hat die Herr, zun O is mit is sole. Duch mit hat und. Du wit me Herzschrittmacher Du bi den Herzschrittmacher Du bi me Herzschrittmacher \n",
      "  Ich liege wach in meinem Bett, ich kann nicht schlafen Ich geh noch mal raus, ich denk nur an dich Ich hab nichts dabei, nur ein wenig Farbe Ich sprech dich nicht an, die Wände sprechen für mich Ich schreib deinen Namen rosa auf Beton Und all die Leute im Zugwaggon Können jetzt sehen, hier ist jemand total verliebt In dich, ertrinken im Asphalt und Zement Mit kalten Blicken, doch ein Herz brennt In dieser Stadt ist jemand total verliebt in dich Graffiti Love, Graffiti Love Stille Mauern sagen zu dir: „Ich liebe dich!“ Graffiti Love, Graffiti Love Stille Mauern sagen zu dir: „Ich liebe dich!“  Ich geh jede Nacht raus, ich kann nicht aufhören Ich verlasse die Stadt, ich fahr durch das Land Denn egal wo du hingehst, du sollst es sehen können Egal wo du stehst, an jeder Wand Ich schreib deinen Namen rosa auf Beton Und all die Leute im Zugwaggon Können jetzt sehen, hier ist jemand total verliebt In dich, ertrinken im Asphalt und Zement Mit kalten Blicken, doch ein Herz brennt In dieser Stadt ist jemand total verliebt in dich  Graffiti Love, Graffiti Love Stille Mauern sagen zu dir: „Ich liebe dich!“ Graffiti Love, Graffiti Love Stille Mauern sagen zu dir: „Ich liebe dich!“  Ich geh jede Nacht raus Ich liebe dich Ich geh jede Nacht raus Ich liebe dich    Ich liege wach in meinem Bett, ich kann nicht schlafen Ich geh noch mal raus, ich denk nur an dich Ich hab nichts dabei, nur ein wenig Farbe Ich sprech dich nicht an, die Wände sprechen für mich Ich schreib deinen Namen rosa auf Beton Und all die Leute im Zugwaggon Können jetzt sehen, hier ist jemand total verliebt In dich, ertrinken im Asphalt und Zement Mit kalten Blicken, doch ein Herz brennt In dieser Stadt ist jemand total verliebt in dich Graffiti Love, Graffiti Love Stille Mauern sagen zu dir: „Ich liebe dich!“ Graffiti Love, Graffiti Love Stille Mauern sagen zu dir: „Ich liebe dich!“  Ich geh jede Nacht raus, ich kann nicht aufhören Ich verlasse die Stadt, ich fahr durch das Land Denn egal wo du hingehst, du sollst es sehen können Egal wo du stehst, an jeder Wand Ich schreib deinen Namen rosa auf Beton Und all die Leute im Zugwaggon Können jetzt sehen, hier ist jemand total verliebt In dich, ertrinken im Asphalt und Zement Mit kalten Blicken, doch ein Herz brennt In dieser Stadt ist jemand total verliebt in dich  Graffiti Love, Graffiti Love Stille Mauern sagen zu dir: „Ich liebe dich!“ Graffiti Love, Graffiti Love Stille Mauern sagen zu dir: „Ich liebe dich!“  Ich geh jede Nacht raus Ich liebe dich Ich geh jede Nacht raus Ich liebe dich \n",
      "True\n",
      "  In bin Mann in dent, das man mit. Was est das s, das bin du an. In hatlich die, für bin den. Du dir mit mit an, die undln für. In bin die Dame vonr dem Und all die Land im denn zu die, dirt das total. In Wien, Herr im Asphalt und. Mit denen, das die Herr. In der hat is und totale in die Graffiti Love, Graffiti Lovely und an zu dir: „Was bin dir!“ Graffiti Love, Graffiti Lovely und an zu dir: „Was bin dir!“  In gutets, du binlich. In es die Stern, du war zu das Land Der man w du gut, dus es denen hat w duch, an der. In bin die Dame vonr dem Und all die Land im denn zu die, dirt das total. In Wien, Herr im Asphalt und. Mit denen, das die Herr. In der hat is und totale in die  Graffiti Love, Graffiti Lovely und an zu dir: „Was bin dir!“ Graffiti Love, Graffiti Lovely und an zu dir: „Was bin dir!“  In gutet. Was bin will In gutet. Was bin will \n"
     ]
    }
   ],
   "source": [
    "texts = df[\"lyrics\"].iloc[:10]  # Konvertiere die Spalte \"lyrics\" in eine Liste von Texten\n",
    "#docs = nlp(texts) \n",
    "\n",
    "for row in texts:\n",
    "    doc = nlp(row)\n",
    "    print(row, doc)\n",
    "    print(doc._.performed_spellCheck) #Should be True\n",
    "    print(doc._.outcome_spellCheck)"
   ]
  },
  {
   "cell_type": "code",
   "execution_count": 30,
   "metadata": {},
   "outputs": [],
   "source": [
    "tool = LanguageTool('de')\n",
    "results = []\n",
    "\n",
    "# Funktion zur Überprüfung der Grammatik\n",
    "def grammar_check(lyric):\n",
    "    matches = tool.check(lyric)\n",
    "    total_errors = len(matches)\n",
    "    total_words = len(lyric.split())\n",
    "    percentage_correct = ((total_words - total_errors) / total_words) * 100\n",
    "\n",
    "    return percentage_correct\n",
    "\n",
    "df_copy = df.sample(frac=1).reset_index(drop=True)\n",
    "\n",
    "count = 0\n",
    "for idx, row in df_copy.iterrows():\n",
    "    if count >= 200:\n",
    "        break\n",
    "    text = row['lyrics']\n",
    "    count+= 1\n",
    "    song_title = row['title']\n",
    "    genre = row['genre']\n",
    "    lyric_num = idx\n",
    "    score_correct = f\"{grammar_check(text):.2f}\"\n",
    "    score_incorrect = 100 -float(score_correct)\n",
    "\n",
    "    matches = tool.check(text)\n",
    "    for match in matches:\n",
    "        message = match.message\n",
    "        \n",
    "    result = {'song_title': song_title, 'lyric_num': lyric_num, 'genres': genre, \"score_correct\": score_correct , \"score_incorrect\": score_incorrect , \"message\": message}\n",
    "\n",
    "    results.append(result)\n",
    "\n"
   ]
  },
  {
   "cell_type": "code",
   "execution_count": 31,
   "metadata": {},
   "outputs": [
    {
     "data": {
      "text/html": [
       "<div>\n",
       "<style scoped>\n",
       "    .dataframe tbody tr th:only-of-type {\n",
       "        vertical-align: middle;\n",
       "    }\n",
       "\n",
       "    .dataframe tbody tr th {\n",
       "        vertical-align: top;\n",
       "    }\n",
       "\n",
       "    .dataframe thead th {\n",
       "        text-align: right;\n",
       "    }\n",
       "</style>\n",
       "<table border=\"1\" class=\"dataframe\">\n",
       "  <thead>\n",
       "    <tr style=\"text-align: right;\">\n",
       "      <th></th>\n",
       "      <th>song_title</th>\n",
       "      <th>lyric_num</th>\n",
       "      <th>genres</th>\n",
       "      <th>score_correct</th>\n",
       "      <th>score_incorrect</th>\n",
       "      <th>message</th>\n",
       "    </tr>\n",
       "  </thead>\n",
       "  <tbody>\n",
       "    <tr>\n",
       "      <th>0</th>\n",
       "      <td>Hamburg</td>\n",
       "      <td>0</td>\n",
       "      <td>hip hop</td>\n",
       "      <td>92.59</td>\n",
       "      <td>7.41</td>\n",
       "      <td>Außer am Satzanfang werden nur Nomen und Eigen...</td>\n",
       "    </tr>\n",
       "    <tr>\n",
       "      <th>1</th>\n",
       "      <td>Wären alle so wie du</td>\n",
       "      <td>1</td>\n",
       "      <td>pop rock</td>\n",
       "      <td>84.96</td>\n",
       "      <td>15.04</td>\n",
       "      <td>Außer am Satzanfang werden nur Nomen und Eigen...</td>\n",
       "    </tr>\n",
       "    <tr>\n",
       "      <th>2</th>\n",
       "      <td>Neue Schritte</td>\n",
       "      <td>2</td>\n",
       "      <td>deutschrap</td>\n",
       "      <td>94.25</td>\n",
       "      <td>5.75</td>\n",
       "      <td>Außer am Satzanfang werden nur Nomen und Eigen...</td>\n",
       "    </tr>\n",
       "    <tr>\n",
       "      <th>3</th>\n",
       "      <td>Das geht auch vorbei</td>\n",
       "      <td>3</td>\n",
       "      <td>hip hop</td>\n",
       "      <td>90.11</td>\n",
       "      <td>9.89</td>\n",
       "      <td>Außer am Satzanfang werden nur Nomen und Eigen...</td>\n",
       "    </tr>\n",
       "    <tr>\n",
       "      <th>4</th>\n",
       "      <td>Frei</td>\n",
       "      <td>4</td>\n",
       "      <td>deutschrap</td>\n",
       "      <td>89.45</td>\n",
       "      <td>10.55</td>\n",
       "      <td>Außer am Satzanfang werden nur Nomen und Eigen...</td>\n",
       "    </tr>\n",
       "    <tr>\n",
       "      <th>...</th>\n",
       "      <td>...</td>\n",
       "      <td>...</td>\n",
       "      <td>...</td>\n",
       "      <td>...</td>\n",
       "      <td>...</td>\n",
       "      <td>...</td>\n",
       "    </tr>\n",
       "    <tr>\n",
       "      <th>195</th>\n",
       "      <td>Lui V alles</td>\n",
       "      <td>195</td>\n",
       "      <td>deutschrap</td>\n",
       "      <td>94.47</td>\n",
       "      <td>5.53</td>\n",
       "      <td>Möglicher Tippfehler: mehr als ein Leerzeichen...</td>\n",
       "    </tr>\n",
       "    <tr>\n",
       "      <th>196</th>\n",
       "      <td>Money</td>\n",
       "      <td>196</td>\n",
       "      <td>deutschrap</td>\n",
       "      <td>94.85</td>\n",
       "      <td>5.15</td>\n",
       "      <td>Außer am Satzanfang werden nur Nomen und Eigen...</td>\n",
       "    </tr>\n",
       "    <tr>\n",
       "      <th>197</th>\n",
       "      <td>Lullaby</td>\n",
       "      <td>197</td>\n",
       "      <td>deutschrap</td>\n",
       "      <td>92.18</td>\n",
       "      <td>7.82</td>\n",
       "      <td>Bitte prüfen Sie, ob „Besseres“ hier großgesch...</td>\n",
       "    </tr>\n",
       "    <tr>\n",
       "      <th>198</th>\n",
       "      <td>Und nun fängt alles das noch mal von vorne an</td>\n",
       "      <td>198</td>\n",
       "      <td>pop</td>\n",
       "      <td>85.03</td>\n",
       "      <td>14.97</td>\n",
       "      <td>Außer am Satzanfang werden nur Nomen und Eigen...</td>\n",
       "    </tr>\n",
       "    <tr>\n",
       "      <th>199</th>\n",
       "      <td>Zum Teufel mit der Einsamkeit</td>\n",
       "      <td>199</td>\n",
       "      <td>schlager</td>\n",
       "      <td>83.52</td>\n",
       "      <td>16.48</td>\n",
       "      <td>Außer am Satzanfang werden nur Nomen und Eigen...</td>\n",
       "    </tr>\n",
       "  </tbody>\n",
       "</table>\n",
       "<p>200 rows × 6 columns</p>\n",
       "</div>"
      ],
      "text/plain": [
       "                                        song_title  lyric_num      genres   \n",
       "0                                          Hamburg          0     hip hop  \\\n",
       "1                             Wären alle so wie du          1    pop rock   \n",
       "2                                    Neue Schritte          2  deutschrap   \n",
       "3                             Das geht auch vorbei          3     hip hop   \n",
       "4                                             Frei          4  deutschrap   \n",
       "..                                             ...        ...         ...   \n",
       "195                                    Lui V alles        195  deutschrap   \n",
       "196                                          Money        196  deutschrap   \n",
       "197                                        Lullaby        197  deutschrap   \n",
       "198  Und nun fängt alles das noch mal von vorne an        198         pop   \n",
       "199                  Zum Teufel mit der Einsamkeit        199    schlager   \n",
       "\n",
       "    score_correct  score_incorrect   \n",
       "0           92.59             7.41  \\\n",
       "1           84.96            15.04   \n",
       "2           94.25             5.75   \n",
       "3           90.11             9.89   \n",
       "4           89.45            10.55   \n",
       "..            ...              ...   \n",
       "195         94.47             5.53   \n",
       "196         94.85             5.15   \n",
       "197         92.18             7.82   \n",
       "198         85.03            14.97   \n",
       "199         83.52            16.48   \n",
       "\n",
       "                                               message  \n",
       "0    Außer am Satzanfang werden nur Nomen und Eigen...  \n",
       "1    Außer am Satzanfang werden nur Nomen und Eigen...  \n",
       "2    Außer am Satzanfang werden nur Nomen und Eigen...  \n",
       "3    Außer am Satzanfang werden nur Nomen und Eigen...  \n",
       "4    Außer am Satzanfang werden nur Nomen und Eigen...  \n",
       "..                                                 ...  \n",
       "195  Möglicher Tippfehler: mehr als ein Leerzeichen...  \n",
       "196  Außer am Satzanfang werden nur Nomen und Eigen...  \n",
       "197  Bitte prüfen Sie, ob „Besseres“ hier großgesch...  \n",
       "198  Außer am Satzanfang werden nur Nomen und Eigen...  \n",
       "199  Außer am Satzanfang werden nur Nomen und Eigen...  \n",
       "\n",
       "[200 rows x 6 columns]"
      ]
     },
     "execution_count": 31,
     "metadata": {},
     "output_type": "execute_result"
    }
   ],
   "source": [
    "grammar_results = pd.DataFrame(results)\n",
    "grammar_results"
   ]
  },
  {
   "cell_type": "code",
   "execution_count": 32,
   "metadata": {},
   "outputs": [
    {
     "data": {
      "text/plain": [
       "genres\n",
       "[]               6.110000\n",
       "ambient         10.130000\n",
       "cloud rap        6.450000\n",
       "deutschrap       9.272632\n",
       "deutschrock     14.181667\n",
       "electro         11.920000\n",
       "emo             13.480000\n",
       "hip hop         11.177500\n",
       "hip-hop          8.820000\n",
       "indie           11.301429\n",
       "instrumental    11.853333\n",
       "karneval        13.284000\n",
       "ndw              9.105000\n",
       "new wave        14.290000\n",
       "party           15.250000\n",
       "pop             11.085769\n",
       "pop rock        15.040000\n",
       "post-rock        9.305000\n",
       "punk rock        8.205000\n",
       "rap              9.092381\n",
       "reggae          11.490000\n",
       "rock            10.558889\n",
       "schlager        11.759333\n",
       "swing           13.685000\n",
       "Name: score_incorrect, dtype: float64"
      ]
     },
     "execution_count": 32,
     "metadata": {},
     "output_type": "execute_result"
    }
   ],
   "source": [
    "grammar_results['score_correct'] = pd.to_numeric(grammar_results['score_correct'])\n",
    "grammar_results['score_incorrect'] = pd.to_numeric(grammar_results['score_incorrect'])\n",
    "\n",
    "grammar_total_correct = grammar_results.groupby('genres')['score_correct'].mean()\n",
    "grammar_total_incorrect =  grammar_results.groupby('genres')['score_incorrect'].mean()\n",
    "\n",
    "grammar_total_incorrect\n"
   ]
  },
  {
   "cell_type": "code",
   "execution_count": 33,
   "metadata": {},
   "outputs": [
    {
     "data": {
      "text/plain": [
       "genres\n",
       "[]              93.890000\n",
       "ambient         89.870000\n",
       "cloud rap       93.550000\n",
       "deutschrap      90.727368\n",
       "deutschrock     85.818333\n",
       "electro         88.080000\n",
       "emo             86.520000\n",
       "hip hop         88.822500\n",
       "hip-hop         91.180000\n",
       "indie           88.698571\n",
       "instrumental    88.146667\n",
       "karneval        86.716000\n",
       "ndw             90.895000\n",
       "new wave        85.710000\n",
       "party           84.750000\n",
       "pop             88.914231\n",
       "pop rock        84.960000\n",
       "post-rock       90.695000\n",
       "punk rock       91.795000\n",
       "rap             90.907619\n",
       "reggae          88.510000\n",
       "rock            89.441111\n",
       "schlager        88.240667\n",
       "swing           86.315000\n",
       "Name: score_correct, dtype: float64"
      ]
     },
     "execution_count": 33,
     "metadata": {},
     "output_type": "execute_result"
    }
   ],
   "source": [
    "grammar_total_correct"
   ]
  },
  {
   "cell_type": "code",
   "execution_count": 34,
   "metadata": {},
   "outputs": [],
   "source": [
    "grammar_per_genre = pd.concat([grammar_total_correct, grammar_total_incorrect], axis=1).reset_index()\n",
    "grammar_per_genre.columns = ['genres', 'score_correct', 'score_incorrect']"
   ]
  },
  {
   "cell_type": "code",
   "execution_count": 36,
   "metadata": {},
   "outputs": [],
   "source": [
    "grammar_per_genre_new = pd.melt(grammar_per_genre, id_vars='genres', var_name='score_type', value_name='score')\n",
    "grammar_per_genre_new['score_type'] = grammar_per_genre_new['score_type'].map({'score_correct': 'Korrekt', 'score_incorrect': 'Inkorrekt'})\n"
   ]
  },
  {
   "cell_type": "code",
   "execution_count": 37,
   "metadata": {},
   "outputs": [
    {
     "data": {
      "text/html": [
       "<div>\n",
       "<style scoped>\n",
       "    .dataframe tbody tr th:only-of-type {\n",
       "        vertical-align: middle;\n",
       "    }\n",
       "\n",
       "    .dataframe tbody tr th {\n",
       "        vertical-align: top;\n",
       "    }\n",
       "\n",
       "    .dataframe thead th {\n",
       "        text-align: right;\n",
       "    }\n",
       "</style>\n",
       "<table border=\"1\" class=\"dataframe\">\n",
       "  <thead>\n",
       "    <tr style=\"text-align: right;\">\n",
       "      <th></th>\n",
       "      <th>genres</th>\n",
       "      <th>score_type</th>\n",
       "      <th>score</th>\n",
       "    </tr>\n",
       "  </thead>\n",
       "  <tbody>\n",
       "    <tr>\n",
       "      <th>0</th>\n",
       "      <td>[]</td>\n",
       "      <td>Korrekt</td>\n",
       "      <td>93.890000</td>\n",
       "    </tr>\n",
       "    <tr>\n",
       "      <th>1</th>\n",
       "      <td>ambient</td>\n",
       "      <td>Korrekt</td>\n",
       "      <td>89.870000</td>\n",
       "    </tr>\n",
       "    <tr>\n",
       "      <th>2</th>\n",
       "      <td>cloud rap</td>\n",
       "      <td>Korrekt</td>\n",
       "      <td>93.550000</td>\n",
       "    </tr>\n",
       "    <tr>\n",
       "      <th>3</th>\n",
       "      <td>deutschrap</td>\n",
       "      <td>Korrekt</td>\n",
       "      <td>90.727368</td>\n",
       "    </tr>\n",
       "    <tr>\n",
       "      <th>4</th>\n",
       "      <td>deutschrock</td>\n",
       "      <td>Korrekt</td>\n",
       "      <td>85.818333</td>\n",
       "    </tr>\n",
       "    <tr>\n",
       "      <th>5</th>\n",
       "      <td>electro</td>\n",
       "      <td>Korrekt</td>\n",
       "      <td>88.080000</td>\n",
       "    </tr>\n",
       "    <tr>\n",
       "      <th>6</th>\n",
       "      <td>emo</td>\n",
       "      <td>Korrekt</td>\n",
       "      <td>86.520000</td>\n",
       "    </tr>\n",
       "    <tr>\n",
       "      <th>7</th>\n",
       "      <td>hip hop</td>\n",
       "      <td>Korrekt</td>\n",
       "      <td>88.822500</td>\n",
       "    </tr>\n",
       "    <tr>\n",
       "      <th>8</th>\n",
       "      <td>hip-hop</td>\n",
       "      <td>Korrekt</td>\n",
       "      <td>91.180000</td>\n",
       "    </tr>\n",
       "    <tr>\n",
       "      <th>9</th>\n",
       "      <td>indie</td>\n",
       "      <td>Korrekt</td>\n",
       "      <td>88.698571</td>\n",
       "    </tr>\n",
       "    <tr>\n",
       "      <th>10</th>\n",
       "      <td>instrumental</td>\n",
       "      <td>Korrekt</td>\n",
       "      <td>88.146667</td>\n",
       "    </tr>\n",
       "    <tr>\n",
       "      <th>11</th>\n",
       "      <td>karneval</td>\n",
       "      <td>Korrekt</td>\n",
       "      <td>86.716000</td>\n",
       "    </tr>\n",
       "    <tr>\n",
       "      <th>12</th>\n",
       "      <td>ndw</td>\n",
       "      <td>Korrekt</td>\n",
       "      <td>90.895000</td>\n",
       "    </tr>\n",
       "    <tr>\n",
       "      <th>13</th>\n",
       "      <td>new wave</td>\n",
       "      <td>Korrekt</td>\n",
       "      <td>85.710000</td>\n",
       "    </tr>\n",
       "    <tr>\n",
       "      <th>14</th>\n",
       "      <td>party</td>\n",
       "      <td>Korrekt</td>\n",
       "      <td>84.750000</td>\n",
       "    </tr>\n",
       "    <tr>\n",
       "      <th>15</th>\n",
       "      <td>pop</td>\n",
       "      <td>Korrekt</td>\n",
       "      <td>88.914231</td>\n",
       "    </tr>\n",
       "    <tr>\n",
       "      <th>16</th>\n",
       "      <td>pop rock</td>\n",
       "      <td>Korrekt</td>\n",
       "      <td>84.960000</td>\n",
       "    </tr>\n",
       "    <tr>\n",
       "      <th>17</th>\n",
       "      <td>post-rock</td>\n",
       "      <td>Korrekt</td>\n",
       "      <td>90.695000</td>\n",
       "    </tr>\n",
       "    <tr>\n",
       "      <th>18</th>\n",
       "      <td>punk rock</td>\n",
       "      <td>Korrekt</td>\n",
       "      <td>91.795000</td>\n",
       "    </tr>\n",
       "    <tr>\n",
       "      <th>19</th>\n",
       "      <td>rap</td>\n",
       "      <td>Korrekt</td>\n",
       "      <td>90.907619</td>\n",
       "    </tr>\n",
       "    <tr>\n",
       "      <th>20</th>\n",
       "      <td>reggae</td>\n",
       "      <td>Korrekt</td>\n",
       "      <td>88.510000</td>\n",
       "    </tr>\n",
       "    <tr>\n",
       "      <th>21</th>\n",
       "      <td>rock</td>\n",
       "      <td>Korrekt</td>\n",
       "      <td>89.441111</td>\n",
       "    </tr>\n",
       "    <tr>\n",
       "      <th>22</th>\n",
       "      <td>schlager</td>\n",
       "      <td>Korrekt</td>\n",
       "      <td>88.240667</td>\n",
       "    </tr>\n",
       "    <tr>\n",
       "      <th>23</th>\n",
       "      <td>swing</td>\n",
       "      <td>Korrekt</td>\n",
       "      <td>86.315000</td>\n",
       "    </tr>\n",
       "    <tr>\n",
       "      <th>24</th>\n",
       "      <td>[]</td>\n",
       "      <td>Inkorrekt</td>\n",
       "      <td>6.110000</td>\n",
       "    </tr>\n",
       "    <tr>\n",
       "      <th>25</th>\n",
       "      <td>ambient</td>\n",
       "      <td>Inkorrekt</td>\n",
       "      <td>10.130000</td>\n",
       "    </tr>\n",
       "    <tr>\n",
       "      <th>26</th>\n",
       "      <td>cloud rap</td>\n",
       "      <td>Inkorrekt</td>\n",
       "      <td>6.450000</td>\n",
       "    </tr>\n",
       "    <tr>\n",
       "      <th>27</th>\n",
       "      <td>deutschrap</td>\n",
       "      <td>Inkorrekt</td>\n",
       "      <td>9.272632</td>\n",
       "    </tr>\n",
       "    <tr>\n",
       "      <th>28</th>\n",
       "      <td>deutschrock</td>\n",
       "      <td>Inkorrekt</td>\n",
       "      <td>14.181667</td>\n",
       "    </tr>\n",
       "    <tr>\n",
       "      <th>29</th>\n",
       "      <td>electro</td>\n",
       "      <td>Inkorrekt</td>\n",
       "      <td>11.920000</td>\n",
       "    </tr>\n",
       "    <tr>\n",
       "      <th>30</th>\n",
       "      <td>emo</td>\n",
       "      <td>Inkorrekt</td>\n",
       "      <td>13.480000</td>\n",
       "    </tr>\n",
       "    <tr>\n",
       "      <th>31</th>\n",
       "      <td>hip hop</td>\n",
       "      <td>Inkorrekt</td>\n",
       "      <td>11.177500</td>\n",
       "    </tr>\n",
       "    <tr>\n",
       "      <th>32</th>\n",
       "      <td>hip-hop</td>\n",
       "      <td>Inkorrekt</td>\n",
       "      <td>8.820000</td>\n",
       "    </tr>\n",
       "    <tr>\n",
       "      <th>33</th>\n",
       "      <td>indie</td>\n",
       "      <td>Inkorrekt</td>\n",
       "      <td>11.301429</td>\n",
       "    </tr>\n",
       "    <tr>\n",
       "      <th>34</th>\n",
       "      <td>instrumental</td>\n",
       "      <td>Inkorrekt</td>\n",
       "      <td>11.853333</td>\n",
       "    </tr>\n",
       "    <tr>\n",
       "      <th>35</th>\n",
       "      <td>karneval</td>\n",
       "      <td>Inkorrekt</td>\n",
       "      <td>13.284000</td>\n",
       "    </tr>\n",
       "    <tr>\n",
       "      <th>36</th>\n",
       "      <td>ndw</td>\n",
       "      <td>Inkorrekt</td>\n",
       "      <td>9.105000</td>\n",
       "    </tr>\n",
       "    <tr>\n",
       "      <th>37</th>\n",
       "      <td>new wave</td>\n",
       "      <td>Inkorrekt</td>\n",
       "      <td>14.290000</td>\n",
       "    </tr>\n",
       "    <tr>\n",
       "      <th>38</th>\n",
       "      <td>party</td>\n",
       "      <td>Inkorrekt</td>\n",
       "      <td>15.250000</td>\n",
       "    </tr>\n",
       "    <tr>\n",
       "      <th>39</th>\n",
       "      <td>pop</td>\n",
       "      <td>Inkorrekt</td>\n",
       "      <td>11.085769</td>\n",
       "    </tr>\n",
       "    <tr>\n",
       "      <th>40</th>\n",
       "      <td>pop rock</td>\n",
       "      <td>Inkorrekt</td>\n",
       "      <td>15.040000</td>\n",
       "    </tr>\n",
       "    <tr>\n",
       "      <th>41</th>\n",
       "      <td>post-rock</td>\n",
       "      <td>Inkorrekt</td>\n",
       "      <td>9.305000</td>\n",
       "    </tr>\n",
       "    <tr>\n",
       "      <th>42</th>\n",
       "      <td>punk rock</td>\n",
       "      <td>Inkorrekt</td>\n",
       "      <td>8.205000</td>\n",
       "    </tr>\n",
       "    <tr>\n",
       "      <th>43</th>\n",
       "      <td>rap</td>\n",
       "      <td>Inkorrekt</td>\n",
       "      <td>9.092381</td>\n",
       "    </tr>\n",
       "    <tr>\n",
       "      <th>44</th>\n",
       "      <td>reggae</td>\n",
       "      <td>Inkorrekt</td>\n",
       "      <td>11.490000</td>\n",
       "    </tr>\n",
       "    <tr>\n",
       "      <th>45</th>\n",
       "      <td>rock</td>\n",
       "      <td>Inkorrekt</td>\n",
       "      <td>10.558889</td>\n",
       "    </tr>\n",
       "    <tr>\n",
       "      <th>46</th>\n",
       "      <td>schlager</td>\n",
       "      <td>Inkorrekt</td>\n",
       "      <td>11.759333</td>\n",
       "    </tr>\n",
       "    <tr>\n",
       "      <th>47</th>\n",
       "      <td>swing</td>\n",
       "      <td>Inkorrekt</td>\n",
       "      <td>13.685000</td>\n",
       "    </tr>\n",
       "  </tbody>\n",
       "</table>\n",
       "</div>"
      ],
      "text/plain": [
       "          genres score_type      score\n",
       "0             []    Korrekt  93.890000\n",
       "1        ambient    Korrekt  89.870000\n",
       "2      cloud rap    Korrekt  93.550000\n",
       "3     deutschrap    Korrekt  90.727368\n",
       "4    deutschrock    Korrekt  85.818333\n",
       "5        electro    Korrekt  88.080000\n",
       "6            emo    Korrekt  86.520000\n",
       "7        hip hop    Korrekt  88.822500\n",
       "8        hip-hop    Korrekt  91.180000\n",
       "9          indie    Korrekt  88.698571\n",
       "10  instrumental    Korrekt  88.146667\n",
       "11      karneval    Korrekt  86.716000\n",
       "12           ndw    Korrekt  90.895000\n",
       "13      new wave    Korrekt  85.710000\n",
       "14         party    Korrekt  84.750000\n",
       "15           pop    Korrekt  88.914231\n",
       "16      pop rock    Korrekt  84.960000\n",
       "17     post-rock    Korrekt  90.695000\n",
       "18     punk rock    Korrekt  91.795000\n",
       "19           rap    Korrekt  90.907619\n",
       "20        reggae    Korrekt  88.510000\n",
       "21          rock    Korrekt  89.441111\n",
       "22      schlager    Korrekt  88.240667\n",
       "23         swing    Korrekt  86.315000\n",
       "24            []  Inkorrekt   6.110000\n",
       "25       ambient  Inkorrekt  10.130000\n",
       "26     cloud rap  Inkorrekt   6.450000\n",
       "27    deutschrap  Inkorrekt   9.272632\n",
       "28   deutschrock  Inkorrekt  14.181667\n",
       "29       electro  Inkorrekt  11.920000\n",
       "30           emo  Inkorrekt  13.480000\n",
       "31       hip hop  Inkorrekt  11.177500\n",
       "32       hip-hop  Inkorrekt   8.820000\n",
       "33         indie  Inkorrekt  11.301429\n",
       "34  instrumental  Inkorrekt  11.853333\n",
       "35      karneval  Inkorrekt  13.284000\n",
       "36           ndw  Inkorrekt   9.105000\n",
       "37      new wave  Inkorrekt  14.290000\n",
       "38         party  Inkorrekt  15.250000\n",
       "39           pop  Inkorrekt  11.085769\n",
       "40      pop rock  Inkorrekt  15.040000\n",
       "41     post-rock  Inkorrekt   9.305000\n",
       "42     punk rock  Inkorrekt   8.205000\n",
       "43           rap  Inkorrekt   9.092381\n",
       "44        reggae  Inkorrekt  11.490000\n",
       "45          rock  Inkorrekt  10.558889\n",
       "46      schlager  Inkorrekt  11.759333\n",
       "47         swing  Inkorrekt  13.685000"
      ]
     },
     "execution_count": 37,
     "metadata": {},
     "output_type": "execute_result"
    }
   ],
   "source": [
    "grammar_per_genre_new"
   ]
  },
  {
   "cell_type": "code",
   "execution_count": 38,
   "metadata": {},
   "outputs": [
    {
     "data": {
      "application/vnd.plotly.v1+json": {
       "config": {
        "plotlyServerURL": "https://plot.ly"
       },
       "data": [
        {
         "branchvalues": "total",
         "domain": {
          "x": [
           0,
           1
          ],
          "y": [
           0,
           1
          ]
         },
         "hovertemplate": "labels=%{label}<br>score=%{value}<br>parent=%{parent}<br>id=%{id}<extra></extra>",
         "ids": [
          "[]/Inkorrekt",
          "ambient/Inkorrekt",
          "cloud rap/Inkorrekt",
          "deutschrap/Inkorrekt",
          "deutschrock/Inkorrekt",
          "electro/Inkorrekt",
          "emo/Inkorrekt",
          "hip hop/Inkorrekt",
          "hip-hop/Inkorrekt",
          "indie/Inkorrekt",
          "instrumental/Inkorrekt",
          "karneval/Inkorrekt",
          "ndw/Inkorrekt",
          "new wave/Inkorrekt",
          "party/Inkorrekt",
          "pop/Inkorrekt",
          "pop rock/Inkorrekt",
          "post-rock/Inkorrekt",
          "punk rock/Inkorrekt",
          "rap/Inkorrekt",
          "reggae/Inkorrekt",
          "rock/Inkorrekt",
          "schlager/Inkorrekt",
          "swing/Inkorrekt",
          "[]/Korrekt",
          "ambient/Korrekt",
          "cloud rap/Korrekt",
          "deutschrap/Korrekt",
          "deutschrock/Korrekt",
          "electro/Korrekt",
          "emo/Korrekt",
          "hip hop/Korrekt",
          "hip-hop/Korrekt",
          "indie/Korrekt",
          "instrumental/Korrekt",
          "karneval/Korrekt",
          "ndw/Korrekt",
          "new wave/Korrekt",
          "party/Korrekt",
          "pop/Korrekt",
          "pop rock/Korrekt",
          "post-rock/Korrekt",
          "punk rock/Korrekt",
          "rap/Korrekt",
          "reggae/Korrekt",
          "rock/Korrekt",
          "schlager/Korrekt",
          "swing/Korrekt",
          "[]",
          "ambient",
          "cloud rap",
          "deutschrap",
          "deutschrock",
          "electro",
          "emo",
          "hip hop",
          "hip-hop",
          "indie",
          "instrumental",
          "karneval",
          "ndw",
          "new wave",
          "party",
          "pop",
          "pop rock",
          "post-rock",
          "punk rock",
          "rap",
          "reggae",
          "rock",
          "schlager",
          "swing"
         ],
         "labels": [
          "Inkorrekt",
          "Inkorrekt",
          "Inkorrekt",
          "Inkorrekt",
          "Inkorrekt",
          "Inkorrekt",
          "Inkorrekt",
          "Inkorrekt",
          "Inkorrekt",
          "Inkorrekt",
          "Inkorrekt",
          "Inkorrekt",
          "Inkorrekt",
          "Inkorrekt",
          "Inkorrekt",
          "Inkorrekt",
          "Inkorrekt",
          "Inkorrekt",
          "Inkorrekt",
          "Inkorrekt",
          "Inkorrekt",
          "Inkorrekt",
          "Inkorrekt",
          "Inkorrekt",
          "Korrekt",
          "Korrekt",
          "Korrekt",
          "Korrekt",
          "Korrekt",
          "Korrekt",
          "Korrekt",
          "Korrekt",
          "Korrekt",
          "Korrekt",
          "Korrekt",
          "Korrekt",
          "Korrekt",
          "Korrekt",
          "Korrekt",
          "Korrekt",
          "Korrekt",
          "Korrekt",
          "Korrekt",
          "Korrekt",
          "Korrekt",
          "Korrekt",
          "Korrekt",
          "Korrekt",
          "[]",
          "ambient",
          "cloud rap",
          "deutschrap",
          "deutschrock",
          "electro",
          "emo",
          "hip hop",
          "hip-hop",
          "indie",
          "instrumental",
          "karneval",
          "ndw",
          "new wave",
          "party",
          "pop",
          "pop rock",
          "post-rock",
          "punk rock",
          "rap",
          "reggae",
          "rock",
          "schlager",
          "swing"
         ],
         "name": "",
         "parents": [
          "[]",
          "ambient",
          "cloud rap",
          "deutschrap",
          "deutschrock",
          "electro",
          "emo",
          "hip hop",
          "hip-hop",
          "indie",
          "instrumental",
          "karneval",
          "ndw",
          "new wave",
          "party",
          "pop",
          "pop rock",
          "post-rock",
          "punk rock",
          "rap",
          "reggae",
          "rock",
          "schlager",
          "swing",
          "[]",
          "ambient",
          "cloud rap",
          "deutschrap",
          "deutschrock",
          "electro",
          "emo",
          "hip hop",
          "hip-hop",
          "indie",
          "instrumental",
          "karneval",
          "ndw",
          "new wave",
          "party",
          "pop",
          "pop rock",
          "post-rock",
          "punk rock",
          "rap",
          "reggae",
          "rock",
          "schlager",
          "swing",
          "",
          "",
          "",
          "",
          "",
          "",
          "",
          "",
          "",
          "",
          "",
          "",
          "",
          "",
          "",
          "",
          "",
          "",
          "",
          "",
          "",
          "",
          "",
          ""
         ],
         "type": "sunburst",
         "values": [
          6.109999999999999,
          10.130000000000003,
          6.450000000000003,
          9.27263157894737,
          14.18166666666667,
          11.920000000000002,
          13.480000000000002,
          11.1775,
          8.820000000000002,
          11.301428571428572,
          11.853333333333333,
          13.284,
          9.105000000000004,
          14.290000000000006,
          15.25,
          11.085769230769229,
          15.040000000000006,
          9.305,
          8.204999999999998,
          9.092380952380953,
          11.490000000000002,
          10.558888888888887,
          11.759333333333332,
          13.685000000000002,
          93.89,
          89.87,
          93.55,
          90.72736842105263,
          85.81833333333333,
          88.08,
          86.52,
          88.8225,
          91.17999999999999,
          88.69857142857143,
          88.14666666666666,
          86.716,
          90.895,
          85.71,
          84.75,
          88.91423076923077,
          84.96,
          90.695,
          91.795,
          90.90761904761905,
          88.50999999999999,
          89.44111111111111,
          88.24066666666667,
          86.315,
          100,
          100,
          100,
          100,
          100,
          100,
          100,
          100,
          100,
          100,
          100,
          100,
          100,
          100,
          100,
          100,
          100,
          100,
          100,
          100,
          100,
          100,
          100,
          100
         ]
        }
       ],
       "layout": {
        "legend": {
         "tracegroupgap": 0
        },
        "margin": {
         "t": 60
        },
        "template": {
         "data": {
          "bar": [
           {
            "error_x": {
             "color": "#2a3f5f"
            },
            "error_y": {
             "color": "#2a3f5f"
            },
            "marker": {
             "line": {
              "color": "#E5ECF6",
              "width": 0.5
             },
             "pattern": {
              "fillmode": "overlay",
              "size": 10,
              "solidity": 0.2
             }
            },
            "type": "bar"
           }
          ],
          "barpolar": [
           {
            "marker": {
             "line": {
              "color": "#E5ECF6",
              "width": 0.5
             },
             "pattern": {
              "fillmode": "overlay",
              "size": 10,
              "solidity": 0.2
             }
            },
            "type": "barpolar"
           }
          ],
          "carpet": [
           {
            "aaxis": {
             "endlinecolor": "#2a3f5f",
             "gridcolor": "white",
             "linecolor": "white",
             "minorgridcolor": "white",
             "startlinecolor": "#2a3f5f"
            },
            "baxis": {
             "endlinecolor": "#2a3f5f",
             "gridcolor": "white",
             "linecolor": "white",
             "minorgridcolor": "white",
             "startlinecolor": "#2a3f5f"
            },
            "type": "carpet"
           }
          ],
          "choropleth": [
           {
            "colorbar": {
             "outlinewidth": 0,
             "ticks": ""
            },
            "type": "choropleth"
           }
          ],
          "contour": [
           {
            "colorbar": {
             "outlinewidth": 0,
             "ticks": ""
            },
            "colorscale": [
             [
              0,
              "#0d0887"
             ],
             [
              0.1111111111111111,
              "#46039f"
             ],
             [
              0.2222222222222222,
              "#7201a8"
             ],
             [
              0.3333333333333333,
              "#9c179e"
             ],
             [
              0.4444444444444444,
              "#bd3786"
             ],
             [
              0.5555555555555556,
              "#d8576b"
             ],
             [
              0.6666666666666666,
              "#ed7953"
             ],
             [
              0.7777777777777778,
              "#fb9f3a"
             ],
             [
              0.8888888888888888,
              "#fdca26"
             ],
             [
              1,
              "#f0f921"
             ]
            ],
            "type": "contour"
           }
          ],
          "contourcarpet": [
           {
            "colorbar": {
             "outlinewidth": 0,
             "ticks": ""
            },
            "type": "contourcarpet"
           }
          ],
          "heatmap": [
           {
            "colorbar": {
             "outlinewidth": 0,
             "ticks": ""
            },
            "colorscale": [
             [
              0,
              "#0d0887"
             ],
             [
              0.1111111111111111,
              "#46039f"
             ],
             [
              0.2222222222222222,
              "#7201a8"
             ],
             [
              0.3333333333333333,
              "#9c179e"
             ],
             [
              0.4444444444444444,
              "#bd3786"
             ],
             [
              0.5555555555555556,
              "#d8576b"
             ],
             [
              0.6666666666666666,
              "#ed7953"
             ],
             [
              0.7777777777777778,
              "#fb9f3a"
             ],
             [
              0.8888888888888888,
              "#fdca26"
             ],
             [
              1,
              "#f0f921"
             ]
            ],
            "type": "heatmap"
           }
          ],
          "heatmapgl": [
           {
            "colorbar": {
             "outlinewidth": 0,
             "ticks": ""
            },
            "colorscale": [
             [
              0,
              "#0d0887"
             ],
             [
              0.1111111111111111,
              "#46039f"
             ],
             [
              0.2222222222222222,
              "#7201a8"
             ],
             [
              0.3333333333333333,
              "#9c179e"
             ],
             [
              0.4444444444444444,
              "#bd3786"
             ],
             [
              0.5555555555555556,
              "#d8576b"
             ],
             [
              0.6666666666666666,
              "#ed7953"
             ],
             [
              0.7777777777777778,
              "#fb9f3a"
             ],
             [
              0.8888888888888888,
              "#fdca26"
             ],
             [
              1,
              "#f0f921"
             ]
            ],
            "type": "heatmapgl"
           }
          ],
          "histogram": [
           {
            "marker": {
             "pattern": {
              "fillmode": "overlay",
              "size": 10,
              "solidity": 0.2
             }
            },
            "type": "histogram"
           }
          ],
          "histogram2d": [
           {
            "colorbar": {
             "outlinewidth": 0,
             "ticks": ""
            },
            "colorscale": [
             [
              0,
              "#0d0887"
             ],
             [
              0.1111111111111111,
              "#46039f"
             ],
             [
              0.2222222222222222,
              "#7201a8"
             ],
             [
              0.3333333333333333,
              "#9c179e"
             ],
             [
              0.4444444444444444,
              "#bd3786"
             ],
             [
              0.5555555555555556,
              "#d8576b"
             ],
             [
              0.6666666666666666,
              "#ed7953"
             ],
             [
              0.7777777777777778,
              "#fb9f3a"
             ],
             [
              0.8888888888888888,
              "#fdca26"
             ],
             [
              1,
              "#f0f921"
             ]
            ],
            "type": "histogram2d"
           }
          ],
          "histogram2dcontour": [
           {
            "colorbar": {
             "outlinewidth": 0,
             "ticks": ""
            },
            "colorscale": [
             [
              0,
              "#0d0887"
             ],
             [
              0.1111111111111111,
              "#46039f"
             ],
             [
              0.2222222222222222,
              "#7201a8"
             ],
             [
              0.3333333333333333,
              "#9c179e"
             ],
             [
              0.4444444444444444,
              "#bd3786"
             ],
             [
              0.5555555555555556,
              "#d8576b"
             ],
             [
              0.6666666666666666,
              "#ed7953"
             ],
             [
              0.7777777777777778,
              "#fb9f3a"
             ],
             [
              0.8888888888888888,
              "#fdca26"
             ],
             [
              1,
              "#f0f921"
             ]
            ],
            "type": "histogram2dcontour"
           }
          ],
          "mesh3d": [
           {
            "colorbar": {
             "outlinewidth": 0,
             "ticks": ""
            },
            "type": "mesh3d"
           }
          ],
          "parcoords": [
           {
            "line": {
             "colorbar": {
              "outlinewidth": 0,
              "ticks": ""
             }
            },
            "type": "parcoords"
           }
          ],
          "pie": [
           {
            "automargin": true,
            "type": "pie"
           }
          ],
          "scatter": [
           {
            "fillpattern": {
             "fillmode": "overlay",
             "size": 10,
             "solidity": 0.2
            },
            "type": "scatter"
           }
          ],
          "scatter3d": [
           {
            "line": {
             "colorbar": {
              "outlinewidth": 0,
              "ticks": ""
             }
            },
            "marker": {
             "colorbar": {
              "outlinewidth": 0,
              "ticks": ""
             }
            },
            "type": "scatter3d"
           }
          ],
          "scattercarpet": [
           {
            "marker": {
             "colorbar": {
              "outlinewidth": 0,
              "ticks": ""
             }
            },
            "type": "scattercarpet"
           }
          ],
          "scattergeo": [
           {
            "marker": {
             "colorbar": {
              "outlinewidth": 0,
              "ticks": ""
             }
            },
            "type": "scattergeo"
           }
          ],
          "scattergl": [
           {
            "marker": {
             "colorbar": {
              "outlinewidth": 0,
              "ticks": ""
             }
            },
            "type": "scattergl"
           }
          ],
          "scattermapbox": [
           {
            "marker": {
             "colorbar": {
              "outlinewidth": 0,
              "ticks": ""
             }
            },
            "type": "scattermapbox"
           }
          ],
          "scatterpolar": [
           {
            "marker": {
             "colorbar": {
              "outlinewidth": 0,
              "ticks": ""
             }
            },
            "type": "scatterpolar"
           }
          ],
          "scatterpolargl": [
           {
            "marker": {
             "colorbar": {
              "outlinewidth": 0,
              "ticks": ""
             }
            },
            "type": "scatterpolargl"
           }
          ],
          "scatterternary": [
           {
            "marker": {
             "colorbar": {
              "outlinewidth": 0,
              "ticks": ""
             }
            },
            "type": "scatterternary"
           }
          ],
          "surface": [
           {
            "colorbar": {
             "outlinewidth": 0,
             "ticks": ""
            },
            "colorscale": [
             [
              0,
              "#0d0887"
             ],
             [
              0.1111111111111111,
              "#46039f"
             ],
             [
              0.2222222222222222,
              "#7201a8"
             ],
             [
              0.3333333333333333,
              "#9c179e"
             ],
             [
              0.4444444444444444,
              "#bd3786"
             ],
             [
              0.5555555555555556,
              "#d8576b"
             ],
             [
              0.6666666666666666,
              "#ed7953"
             ],
             [
              0.7777777777777778,
              "#fb9f3a"
             ],
             [
              0.8888888888888888,
              "#fdca26"
             ],
             [
              1,
              "#f0f921"
             ]
            ],
            "type": "surface"
           }
          ],
          "table": [
           {
            "cells": {
             "fill": {
              "color": "#EBF0F8"
             },
             "line": {
              "color": "white"
             }
            },
            "header": {
             "fill": {
              "color": "#C8D4E3"
             },
             "line": {
              "color": "white"
             }
            },
            "type": "table"
           }
          ]
         },
         "layout": {
          "annotationdefaults": {
           "arrowcolor": "#2a3f5f",
           "arrowhead": 0,
           "arrowwidth": 1
          },
          "autotypenumbers": "strict",
          "coloraxis": {
           "colorbar": {
            "outlinewidth": 0,
            "ticks": ""
           }
          },
          "colorscale": {
           "diverging": [
            [
             0,
             "#8e0152"
            ],
            [
             0.1,
             "#c51b7d"
            ],
            [
             0.2,
             "#de77ae"
            ],
            [
             0.3,
             "#f1b6da"
            ],
            [
             0.4,
             "#fde0ef"
            ],
            [
             0.5,
             "#f7f7f7"
            ],
            [
             0.6,
             "#e6f5d0"
            ],
            [
             0.7,
             "#b8e186"
            ],
            [
             0.8,
             "#7fbc41"
            ],
            [
             0.9,
             "#4d9221"
            ],
            [
             1,
             "#276419"
            ]
           ],
           "sequential": [
            [
             0,
             "#0d0887"
            ],
            [
             0.1111111111111111,
             "#46039f"
            ],
            [
             0.2222222222222222,
             "#7201a8"
            ],
            [
             0.3333333333333333,
             "#9c179e"
            ],
            [
             0.4444444444444444,
             "#bd3786"
            ],
            [
             0.5555555555555556,
             "#d8576b"
            ],
            [
             0.6666666666666666,
             "#ed7953"
            ],
            [
             0.7777777777777778,
             "#fb9f3a"
            ],
            [
             0.8888888888888888,
             "#fdca26"
            ],
            [
             1,
             "#f0f921"
            ]
           ],
           "sequentialminus": [
            [
             0,
             "#0d0887"
            ],
            [
             0.1111111111111111,
             "#46039f"
            ],
            [
             0.2222222222222222,
             "#7201a8"
            ],
            [
             0.3333333333333333,
             "#9c179e"
            ],
            [
             0.4444444444444444,
             "#bd3786"
            ],
            [
             0.5555555555555556,
             "#d8576b"
            ],
            [
             0.6666666666666666,
             "#ed7953"
            ],
            [
             0.7777777777777778,
             "#fb9f3a"
            ],
            [
             0.8888888888888888,
             "#fdca26"
            ],
            [
             1,
             "#f0f921"
            ]
           ]
          },
          "colorway": [
           "#636efa",
           "#EF553B",
           "#00cc96",
           "#ab63fa",
           "#FFA15A",
           "#19d3f3",
           "#FF6692",
           "#B6E880",
           "#FF97FF",
           "#FECB52"
          ],
          "font": {
           "color": "#2a3f5f"
          },
          "geo": {
           "bgcolor": "white",
           "lakecolor": "white",
           "landcolor": "#E5ECF6",
           "showlakes": true,
           "showland": true,
           "subunitcolor": "white"
          },
          "hoverlabel": {
           "align": "left"
          },
          "hovermode": "closest",
          "mapbox": {
           "style": "light"
          },
          "paper_bgcolor": "white",
          "plot_bgcolor": "#E5ECF6",
          "polar": {
           "angularaxis": {
            "gridcolor": "white",
            "linecolor": "white",
            "ticks": ""
           },
           "bgcolor": "#E5ECF6",
           "radialaxis": {
            "gridcolor": "white",
            "linecolor": "white",
            "ticks": ""
           }
          },
          "scene": {
           "xaxis": {
            "backgroundcolor": "#E5ECF6",
            "gridcolor": "white",
            "gridwidth": 2,
            "linecolor": "white",
            "showbackground": true,
            "ticks": "",
            "zerolinecolor": "white"
           },
           "yaxis": {
            "backgroundcolor": "#E5ECF6",
            "gridcolor": "white",
            "gridwidth": 2,
            "linecolor": "white",
            "showbackground": true,
            "ticks": "",
            "zerolinecolor": "white"
           },
           "zaxis": {
            "backgroundcolor": "#E5ECF6",
            "gridcolor": "white",
            "gridwidth": 2,
            "linecolor": "white",
            "showbackground": true,
            "ticks": "",
            "zerolinecolor": "white"
           }
          },
          "shapedefaults": {
           "line": {
            "color": "#2a3f5f"
           }
          },
          "ternary": {
           "aaxis": {
            "gridcolor": "white",
            "linecolor": "white",
            "ticks": ""
           },
           "baxis": {
            "gridcolor": "white",
            "linecolor": "white",
            "ticks": ""
           },
           "bgcolor": "#E5ECF6",
           "caxis": {
            "gridcolor": "white",
            "linecolor": "white",
            "ticks": ""
           }
          },
          "title": {
           "x": 0.05
          },
          "xaxis": {
           "automargin": true,
           "gridcolor": "white",
           "linecolor": "white",
           "ticks": "",
           "title": {
            "standoff": 15
           },
           "zerolinecolor": "white",
           "zerolinewidth": 2
          },
          "yaxis": {
           "automargin": true,
           "gridcolor": "white",
           "linecolor": "white",
           "ticks": "",
           "title": {
            "standoff": 15
           },
           "zerolinecolor": "white",
           "zerolinewidth": 2
          }
         }
        },
        "title": {
         "text": "Grammatikalische Korrektheit von Songtexten",
         "x": 0.5
        }
       }
      }
     },
     "metadata": {},
     "output_type": "display_data"
    }
   ],
   "source": [
    "fig = px.sunburst(grammar_per_genre_new, path=['genres', \"score_type\"], values='score' )\n",
    "\n",
    "fig.update_layout(\n",
    "    title={\n",
    "        'text': \"Grammatikalische Korrektheit von Songtexten\",\n",
    "        'x': 0.5\n",
    "    }\n",
    ")\n",
    "\n",
    "fig.show()\n"
   ]
  }
 ],
 "metadata": {
  "kernelspec": {
   "display_name": "base",
   "language": "python",
   "name": "python3"
  },
  "language_info": {
   "codemirror_mode": {
    "name": "ipython",
    "version": 3
   },
   "file_extension": ".py",
   "mimetype": "text/x-python",
   "name": "python",
   "nbconvert_exporter": "python",
   "pygments_lexer": "ipython3",
   "version": "3.8.5"
  },
  "orig_nbformat": 4
 },
 "nbformat": 4,
 "nbformat_minor": 2
}
