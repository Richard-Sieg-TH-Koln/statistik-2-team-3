{
 "cells": [
  {
   "cell_type": "code",
   "execution_count": 5,
   "metadata": {},
   "outputs": [
    {
     "name": "stdout",
     "output_type": "stream",
     "text": [
      "\u001b[38;5;2m✔ Download and installation successful\u001b[0m\n",
      "You can now load the package via spacy.load('de_core_news_lg')\n"
     ]
    }
   ],
   "source": [
    "import spacy\n",
    "import spacy.cli\n",
    "spacy.cli.download(\"de_core_news_lg\")\n",
    "from spacy.language import Language\n",
    "from spacy_language_detection import LanguageDetector"
   ]
  },
  {
   "cell_type": "code",
   "execution_count": 6,
   "metadata": {},
   "outputs": [
    {
     "name": "stdout",
     "output_type": "stream",
     "text": [
      "Requirement already satisfied: spacy-language-detection in c:\\users\\lotus\\anaconda3\\lib\\site-packages (0.2.1)Note: you may need to restart the kernel to use updated packages.\n",
      "Requirement already satisfied: spacy>=3.0.0 in c:\\users\\lotus\\anaconda3\\lib\\site-packages (from spacy-language-detection) (3.5.2)\n",
      "Requirement already satisfied: langdetect==1.0.9 in c:\\users\\lotus\\anaconda3\\lib\\site-packages (from spacy-language-detection) (1.0.9)\n",
      "Requirement already satisfied: six in c:\\users\\lotus\\anaconda3\\lib\\site-packages (from langdetect==1.0.9->spacy-language-detection) (1.15.0)\n",
      "Requirement already satisfied: spacy-legacy<3.1.0,>=3.0.11 in c:\\users\\lotus\\anaconda3\\lib\\site-packages (from spacy>=3.0.0->spacy-language-detection) (3.0.12)\n",
      "\n",
      "Requirement already satisfied: spacy-loggers<2.0.0,>=1.0.0 in c:\\users\\lotus\\anaconda3\\lib\\site-packages (from spacy>=3.0.0->spacy-language-detection) (1.0.4)\n",
      "Requirement already satisfied: murmurhash<1.1.0,>=0.28.0 in c:\\users\\lotus\\anaconda3\\lib\\site-packages (from spacy>=3.0.0->spacy-language-detection) (1.0.9)\n",
      "Requirement already satisfied: cymem<2.1.0,>=2.0.2 in c:\\users\\lotus\\anaconda3\\lib\\site-packages (from spacy>=3.0.0->spacy-language-detection) (2.0.7)\n",
      "Requirement already satisfied: preshed<3.1.0,>=3.0.2 in c:\\users\\lotus\\anaconda3\\lib\\site-packages (from spacy>=3.0.0->spacy-language-detection) (3.0.8)\n",
      "Requirement already satisfied: thinc<8.2.0,>=8.1.8 in c:\\users\\lotus\\anaconda3\\lib\\site-packages (from spacy>=3.0.0->spacy-language-detection) (8.1.9)\n",
      "Requirement already satisfied: wasabi<1.2.0,>=0.9.1 in c:\\users\\lotus\\anaconda3\\lib\\site-packages (from spacy>=3.0.0->spacy-language-detection) (1.1.1)\n",
      "Requirement already satisfied: srsly<3.0.0,>=2.4.3 in c:\\users\\lotus\\anaconda3\\lib\\site-packages (from spacy>=3.0.0->spacy-language-detection) (2.4.6)\n",
      "Requirement already satisfied: catalogue<2.1.0,>=2.0.6 in c:\\users\\lotus\\anaconda3\\lib\\site-packages (from spacy>=3.0.0->spacy-language-detection) (2.0.8)\n",
      "Requirement already satisfied: typer<0.8.0,>=0.3.0 in c:\\users\\lotus\\anaconda3\\lib\\site-packages (from spacy>=3.0.0->spacy-language-detection) (0.7.0)\n",
      "Requirement already satisfied: pathy>=0.10.0 in c:\\users\\lotus\\anaconda3\\lib\\site-packages (from spacy>=3.0.0->spacy-language-detection) (0.10.1)\n",
      "Requirement already satisfied: smart-open<7.0.0,>=5.2.1 in c:\\users\\lotus\\anaconda3\\lib\\site-packages (from spacy>=3.0.0->spacy-language-detection) (6.3.0)\n",
      "Requirement already satisfied: tqdm<5.0.0,>=4.38.0 in c:\\users\\lotus\\anaconda3\\lib\\site-packages (from spacy>=3.0.0->spacy-language-detection) (4.50.2)\n",
      "Requirement already satisfied: numpy>=1.15.0 in c:\\users\\lotus\\anaconda3\\lib\\site-packages (from spacy>=3.0.0->spacy-language-detection) (1.21.0)\n",
      "Requirement already satisfied: requests<3.0.0,>=2.13.0 in c:\\users\\lotus\\anaconda3\\lib\\site-packages (from spacy>=3.0.0->spacy-language-detection) (2.24.0)\n",
      "Requirement already satisfied: pydantic!=1.8,!=1.8.1,<1.11.0,>=1.7.4 in c:\\users\\lotus\\anaconda3\\lib\\site-packages (from spacy>=3.0.0->spacy-language-detection) (1.10.7)\n",
      "Requirement already satisfied: jinja2 in c:\\users\\lotus\\anaconda3\\lib\\site-packages (from spacy>=3.0.0->spacy-language-detection) (2.11.2)\n",
      "Requirement already satisfied: setuptools in c:\\users\\lotus\\anaconda3\\lib\\site-packages (from spacy>=3.0.0->spacy-language-detection) (50.3.1.post20201107)\n",
      "Requirement already satisfied: packaging>=20.0 in c:\\users\\lotus\\anaconda3\\lib\\site-packages (from spacy>=3.0.0->spacy-language-detection) (20.4)\n",
      "Requirement already satisfied: langcodes<4.0.0,>=3.2.0 in c:\\users\\lotus\\anaconda3\\lib\\site-packages (from spacy>=3.0.0->spacy-language-detection) (3.3.0)\n",
      "Requirement already satisfied: pyparsing>=2.0.2 in c:\\users\\lotus\\anaconda3\\lib\\site-packages (from packaging>=20.0->spacy>=3.0.0->spacy-language-detection) (2.4.7)\n",
      "Requirement already satisfied: typing-extensions>=4.2.0 in c:\\users\\lotus\\anaconda3\\lib\\site-packages (from pydantic!=1.8,!=1.8.1,<1.11.0,>=1.7.4->spacy>=3.0.0->spacy-language-detection) (4.5.0)\n",
      "Requirement already satisfied: chardet<4,>=3.0.2 in c:\\users\\lotus\\anaconda3\\lib\\site-packages (from requests<3.0.0,>=2.13.0->spacy>=3.0.0->spacy-language-detection) (3.0.4)\n",
      "Requirement already satisfied: idna<3,>=2.5 in c:\\users\\lotus\\anaconda3\\lib\\site-packages (from requests<3.0.0,>=2.13.0->spacy>=3.0.0->spacy-language-detection) (2.10)\n",
      "Requirement already satisfied: urllib3!=1.25.0,!=1.25.1,<1.26,>=1.21.1 in c:\\users\\lotus\\anaconda3\\lib\\site-packages (from requests<3.0.0,>=2.13.0->spacy>=3.0.0->spacy-language-detection) (1.25.11)\n",
      "Requirement already satisfied: certifi>=2017.4.17 in c:\\users\\lotus\\anaconda3\\lib\\site-packages (from requests<3.0.0,>=2.13.0->spacy>=3.0.0->spacy-language-detection) (2020.6.20)\n",
      "Requirement already satisfied: blis<0.8.0,>=0.7.8 in c:\\users\\lotus\\anaconda3\\lib\\site-packages (from thinc<8.2.0,>=8.1.8->spacy>=3.0.0->spacy-language-detection) (0.7.9)\n",
      "Requirement already satisfied: confection<1.0.0,>=0.0.1 in c:\\users\\lotus\\anaconda3\\lib\\site-packages (from thinc<8.2.0,>=8.1.8->spacy>=3.0.0->spacy-language-detection) (0.0.4)\n",
      "Requirement already satisfied: click<9.0.0,>=7.1.1 in c:\\users\\lotus\\anaconda3\\lib\\site-packages (from typer<0.8.0,>=0.3.0->spacy>=3.0.0->spacy-language-detection) (7.1.2)\n",
      "Requirement already satisfied: colorama>=0.4.6 in c:\\users\\lotus\\anaconda3\\lib\\site-packages (from wasabi<1.2.0,>=0.9.1->spacy>=3.0.0->spacy-language-detection) (0.4.6)\n",
      "Requirement already satisfied: MarkupSafe>=0.23 in c:\\users\\lotus\\anaconda3\\lib\\site-packages (from jinja2->spacy>=3.0.0->spacy-language-detection) (1.1.1)\n"
     ]
    }
   ],
   "source": [
    "%pip install spacy-language-detection"
   ]
  },
  {
   "cell_type": "code",
   "execution_count": 9,
   "metadata": {},
   "outputs": [],
   "source": [
    "import pandas as pd"
   ]
  },
  {
   "cell_type": "code",
   "execution_count": 10,
   "metadata": {},
   "outputs": [],
   "source": [
    "df = pd.read_csv('../data/dataset_cleaned_file_v4.csv')"
   ]
  },
  {
   "cell_type": "code",
   "execution_count": 12,
   "metadata": {},
   "outputs": [],
   "source": [
    "nlp = spacy.load(\"de_core_news_lg\")"
   ]
  },
  {
   "cell_type": "code",
   "execution_count": 18,
   "metadata": {},
   "outputs": [
    {
     "ename": "KeyboardInterrupt",
     "evalue": "",
     "output_type": "error",
     "traceback": [
      "\u001b[1;31m---------------------------------------------------------------------------\u001b[0m",
      "\u001b[1;31mKeyboardInterrupt\u001b[0m                         Traceback (most recent call last)",
      "\u001b[1;32m<ipython-input-18-52e9da5620cd>\u001b[0m in \u001b[0;36m<module>\u001b[1;34m\u001b[0m\n\u001b[0;32m      2\u001b[0m \u001b[1;33m\u001b[0m\u001b[0m\n\u001b[0;32m      3\u001b[0m \u001b[1;32mfor\u001b[0m \u001b[0msong\u001b[0m \u001b[1;32min\u001b[0m \u001b[0mdf\u001b[0m\u001b[1;33m[\u001b[0m\u001b[1;34m\"lyrics\"\u001b[0m\u001b[1;33m]\u001b[0m\u001b[1;33m:\u001b[0m\u001b[1;33m\u001b[0m\u001b[1;33m\u001b[0m\u001b[0m\n\u001b[1;32m----> 4\u001b[1;33m     \u001b[0mdoc\u001b[0m \u001b[1;33m=\u001b[0m \u001b[0mnlp\u001b[0m\u001b[1;33m(\u001b[0m\u001b[0msong\u001b[0m\u001b[1;33m)\u001b[0m\u001b[1;33m\u001b[0m\u001b[1;33m\u001b[0m\u001b[0m\n\u001b[0m\u001b[0;32m      5\u001b[0m     \u001b[1;32mfor\u001b[0m \u001b[0ment\u001b[0m \u001b[1;32min\u001b[0m \u001b[0mdoc\u001b[0m\u001b[1;33m.\u001b[0m\u001b[0ments\u001b[0m\u001b[1;33m:\u001b[0m\u001b[1;33m\u001b[0m\u001b[1;33m\u001b[0m\u001b[0m\n\u001b[0;32m      6\u001b[0m         \u001b[1;32mif\u001b[0m \u001b[0ment\u001b[0m\u001b[1;33m.\u001b[0m\u001b[0mlabel_\u001b[0m \u001b[1;33m==\u001b[0m \u001b[1;34m\"LOC\"\u001b[0m\u001b[1;33m:\u001b[0m\u001b[1;33m\u001b[0m\u001b[1;33m\u001b[0m\u001b[0m\n",
      "\u001b[1;32mc:\\Users\\lotus\\anaconda3\\lib\\site-packages\\spacy\\language.py\u001b[0m in \u001b[0;36m__call__\u001b[1;34m(self, text, disable, component_cfg)\u001b[0m\n\u001b[0;32m   1009\u001b[0m                 \u001b[0merror_handler\u001b[0m \u001b[1;33m=\u001b[0m \u001b[0mproc\u001b[0m\u001b[1;33m.\u001b[0m\u001b[0mget_error_handler\u001b[0m\u001b[1;33m(\u001b[0m\u001b[1;33m)\u001b[0m\u001b[1;33m\u001b[0m\u001b[1;33m\u001b[0m\u001b[0m\n\u001b[0;32m   1010\u001b[0m             \u001b[1;32mtry\u001b[0m\u001b[1;33m:\u001b[0m\u001b[1;33m\u001b[0m\u001b[1;33m\u001b[0m\u001b[0m\n\u001b[1;32m-> 1011\u001b[1;33m                 \u001b[0mdoc\u001b[0m \u001b[1;33m=\u001b[0m \u001b[0mproc\u001b[0m\u001b[1;33m(\u001b[0m\u001b[0mdoc\u001b[0m\u001b[1;33m,\u001b[0m \u001b[1;33m**\u001b[0m\u001b[0mcomponent_cfg\u001b[0m\u001b[1;33m.\u001b[0m\u001b[0mget\u001b[0m\u001b[1;33m(\u001b[0m\u001b[0mname\u001b[0m\u001b[1;33m,\u001b[0m \u001b[1;33m{\u001b[0m\u001b[1;33m}\u001b[0m\u001b[1;33m)\u001b[0m\u001b[1;33m)\u001b[0m  \u001b[1;31m# type: ignore[call-arg]\u001b[0m\u001b[1;33m\u001b[0m\u001b[1;33m\u001b[0m\u001b[0m\n\u001b[0m\u001b[0;32m   1012\u001b[0m             \u001b[1;32mexcept\u001b[0m \u001b[0mKeyError\u001b[0m \u001b[1;32mas\u001b[0m \u001b[0me\u001b[0m\u001b[1;33m:\u001b[0m\u001b[1;33m\u001b[0m\u001b[1;33m\u001b[0m\u001b[0m\n\u001b[0;32m   1013\u001b[0m                 \u001b[1;31m# This typically happens if a component is not initialized\u001b[0m\u001b[1;33m\u001b[0m\u001b[1;33m\u001b[0m\u001b[1;33m\u001b[0m\u001b[0m\n",
      "\u001b[1;32mc:\\Users\\lotus\\anaconda3\\lib\\site-packages\\spacy\\pipeline\\trainable_pipe.pyx\u001b[0m in \u001b[0;36mspacy.pipeline.trainable_pipe.TrainablePipe.__call__\u001b[1;34m()\u001b[0m\n",
      "\u001b[1;32mc:\\Users\\lotus\\anaconda3\\lib\\site-packages\\spacy\\pipeline\\transition_parser.pyx\u001b[0m in \u001b[0;36mspacy.pipeline.transition_parser.Parser.set_annotations\u001b[1;34m()\u001b[0m\n",
      "\u001b[1;32mc:\\Users\\lotus\\anaconda3\\lib\\site-packages\\spacy\\pipeline\\_parser_internals\\ner.pyx\u001b[0m in \u001b[0;36mspacy.pipeline._parser_internals.ner.BiluoPushDown.set_annotations\u001b[1;34m()\u001b[0m\n",
      "\u001b[1;32mc:\\Users\\lotus\\anaconda3\\lib\\site-packages\\spacy\\tokens\\doc.pyx\u001b[0m in \u001b[0;36mspacy.tokens.doc.Doc.set_ents\u001b[1;34m()\u001b[0m\n",
      "\u001b[1;32mc:\\Users\\lotus\\anaconda3\\lib\\site-packages\\spacy\\tokens\\doc.pyx\u001b[0m in \u001b[0;36mspacy.tokens.doc.SetEntsDefault.values\u001b[1;34m()\u001b[0m\n",
      "\u001b[1;32mc:\\Users\\lotus\\anaconda3\\lib\\enum.py\u001b[0m in \u001b[0;36m__members__\u001b[1;34m(cls)\u001b[0m\n\u001b[0;32m    355\u001b[0m         \u001b[1;32mreturn\u001b[0m \u001b[0mlen\u001b[0m\u001b[1;33m(\u001b[0m\u001b[0mcls\u001b[0m\u001b[1;33m.\u001b[0m\u001b[0m_member_names_\u001b[0m\u001b[1;33m)\u001b[0m\u001b[1;33m\u001b[0m\u001b[1;33m\u001b[0m\u001b[0m\n\u001b[0;32m    356\u001b[0m \u001b[1;33m\u001b[0m\u001b[0m\n\u001b[1;32m--> 357\u001b[1;33m     \u001b[1;33m@\u001b[0m\u001b[0mproperty\u001b[0m\u001b[1;33m\u001b[0m\u001b[1;33m\u001b[0m\u001b[0m\n\u001b[0m\u001b[0;32m    358\u001b[0m     \u001b[1;32mdef\u001b[0m \u001b[0m__members__\u001b[0m\u001b[1;33m(\u001b[0m\u001b[0mcls\u001b[0m\u001b[1;33m)\u001b[0m\u001b[1;33m:\u001b[0m\u001b[1;33m\u001b[0m\u001b[1;33m\u001b[0m\u001b[0m\n\u001b[0;32m    359\u001b[0m         \"\"\"Returns a mapping of member name->value.\n",
      "\u001b[1;31mKeyboardInterrupt\u001b[0m: "
     ]
    }
   ],
   "source": [
    "locations = {}\n",
    "\n",
    "for song in df[\"lyrics\"]:\n",
    "    doc = nlp(song)\n",
    "    for ent in doc.ents:\n",
    "        if ent.label_ == \"LOC\":\n",
    "            locations[ent.text] = ent.label_\n",
    "\n",
    "print(locations)"
   ]
  }
 ],
 "metadata": {
  "kernelspec": {
   "display_name": "base",
   "language": "python",
   "name": "python3"
  },
  "language_info": {
   "codemirror_mode": {
    "name": "ipython",
    "version": 3
   },
   "file_extension": ".py",
   "mimetype": "text/x-python",
   "name": "python",
   "nbconvert_exporter": "python",
   "pygments_lexer": "ipython3",
   "version": "3.8.5"
  },
  "orig_nbformat": 4
 },
 "nbformat": 4,
 "nbformat_minor": 2
}
