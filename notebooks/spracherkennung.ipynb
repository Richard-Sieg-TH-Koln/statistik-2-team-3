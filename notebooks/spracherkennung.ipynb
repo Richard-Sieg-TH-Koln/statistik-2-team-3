{
 "cells": [
  {
   "attachments": {},
   "cell_type": "markdown",
   "metadata": {},
   "source": [
    "# Spracherkennung"
   ]
  },
  {
   "attachments": {},
   "cell_type": "markdown",
   "metadata": {},
   "source": [
    "Dieses Jupyter Notebook dient dazu die in den Lyrics aufkommenden Sprachen etwas näher zu analysieren. Dabei haben wir uns zuerst auf nicht-deutsche Lyrics fokussiert und uns später etwas genauer auf die Sprachen Englisch und Türkisch angeschaut. Ziel ist es herauszufinden, welche Fremdsprachen am häufigsten auftreten und in welchen genres sie auftauchen. Hierbei wird das Jupyter Notebook in folgende Unterthemen aufgeteilt:\n",
    "\n",
    "- Wie deutsch sind deutsche Songs?\n",
    "- Wie verteilen sich die Sprachen pro genre?\n",
    "    - Top 10 Sprachen\n",
    "    - Welches genre weist die meisten englischen/türkischen Lyrics auf?"
   ]
  },
  {
   "attachments": {},
   "cell_type": "markdown",
   "metadata": {},
   "source": [
    "### Setup"
   ]
  },
  {
   "cell_type": "code",
   "execution_count": 1,
   "metadata": {},
   "outputs": [],
   "source": [
    "import pandas as pd\n",
    "import spacy\n",
    "import spacy.cli\n",
    "# spacy.cli.download(\"de_core_news_lg\")\n",
    "# spacy.cli.download(\"de_core_news_md\")\n",
    "from spacy.language import Language\n",
    "from spacy_language_detection import LanguageDetector\n",
    "from spacy.tokens import Doc"
   ]
  },
  {
   "cell_type": "code",
   "execution_count": 2,
   "metadata": {},
   "outputs": [],
   "source": [
    "df = pd.read_csv(\"../data/songs_complete_final.csv\")"
   ]
  },
  {
   "attachments": {},
   "cell_type": "markdown",
   "metadata": {},
   "source": [
    "für jede der drei Sprachen haben ein Modell geladen, um die Texte dementsprechen zu verarbeiten und zu analysieren"
   ]
  },
  {
   "cell_type": "code",
   "execution_count": 3,
   "metadata": {},
   "outputs": [],
   "source": [
    "# deutsches Modell\n",
    "nlp_de = spacy.load(\"de_core_news_md\")\n",
    "\n",
    "def get_lang_detector_de(nlp, name):\n",
    "    return LanguageDetector()"
   ]
  },
  {
   "cell_type": "code",
   "execution_count": 4,
   "metadata": {},
   "outputs": [],
   "source": [
    "# englisches Modell\n",
    "nlp_en = spacy.load(\"en_core_web_sm\")\n",
    "words_en = set(nlp_en.vocab.strings)\n",
    "\n",
    "def get_lang_detector_en(nlp, name):\n",
    "    return LanguageDetector()"
   ]
  },
  {
   "cell_type": "code",
   "execution_count": 5,
   "metadata": {},
   "outputs": [],
   "source": [
    "# trainiertes Modell von Github https://github.com/spacyturk/spacyturk\n",
    "import spacyturk\n",
    "\n",
    "# türkisches Modell\n",
    "nlp_tr = spacy.load(\"tr_floret_web_md\")\n",
    "words_tr = set(nlp_tr.vocab.strings)\n",
    "\n",
    "def get_lang_detector_tr(nlp, name):\n",
    "    return LanguageDetector()"
   ]
  },
  {
   "cell_type": "code",
   "execution_count": 9,
   "metadata": {},
   "outputs": [
    {
     "data": {
      "text/plain": [
       "<spacy_language_detection.spacy_language_detector.LanguageDetector at 0x1aeb7cc55b0>"
      ]
     },
     "execution_count": 9,
     "metadata": {},
     "output_type": "execute_result"
    }
   ],
   "source": [
    "Language.factory(\"language_detector_de\", func=get_lang_detector_de)\n",
    "Language.factory(\"language_detector_en\", func=get_lang_detector_en)\n",
    "\n",
    "nlp_de.add_pipe('language_detector_de', last=True)\n",
    "nlp_en.add_pipe('language_detector_en', last=True)"
   ]
  },
  {
   "cell_type": "code",
   "execution_count": 6,
   "metadata": {},
   "outputs": [
    {
     "data": {
      "text/plain": [
       "<spacy.pipeline.sentencizer.Sentencizer at 0x1e5abe6d1c0>"
      ]
     },
     "execution_count": 6,
     "metadata": {},
     "output_type": "execute_result"
    }
   ],
   "source": [
    "Language.factory(\"language_detector_tr\", func=get_lang_detector_tr)\n",
    "nlp_tr.add_pipe('language_detector_en', last=True)\n",
    "# Error: \"Sentence boundaries unset. You can add the 'sentencizer' component\"\n",
    "nlp_tr.add_pipe('sentencizer')\n"
   ]
  },
  {
   "cell_type": "code",
   "execution_count": 10,
   "metadata": {},
   "outputs": [
    {
     "data": {
      "text/plain": [
       "<spacy_language_detection.spacy_language_detector.LanguageDetector at 0x1e58e297a00>"
      ]
     },
     "execution_count": 10,
     "metadata": {},
     "output_type": "execute_result"
    }
   ],
   "source": [
    "nlp_tr.add_pipe('language_detector_tr', last=True)\n",
    "# Error: \"Sentence boundaries unset. You can add the 'sentencizer' component\"\n",
    "#nlp_tr.add_pipe('sentencizer')"
   ]
  },
  {
   "attachments": {},
   "cell_type": "markdown",
   "metadata": {},
   "source": [
    "### Wie deutsch sind deutsche Songs?"
   ]
  },
  {
   "attachments": {},
   "cell_type": "markdown",
   "metadata": {},
   "source": [
    "Die Spracherkennung setzen wir auf die Lyrics an, indem wir mit spacy herausfiltern, welche Sätze in den Songtexten nicht deutsch sind. Da es oft vorkommt, dass Sprachen nicht erkannt werden, wurden die unbekannten Werte entfernt. Ausgegeben sollen unter anderem Songtitel, vorkommende Fremdsprachen, Score, Genre und Lyrics werden. Anfangs bestand die Idee, die Sprachen vielleicht nach score auszugeben, um zu schauen welche Sprache den höchsten Score hat, allerdings wurde der Score letztendlich nicht mehr aufgegriffen.\n",
    "\n",
    "Ein Problem, welches die ganze Zeit besteht ist, dass Sprachen oft falscht eingeschätzt werden. So war der Anteil für die Sprache Afrikaans beim ersten Durchlauf unrealistisch hoch, da es den Anteil für englischsprachige Sätze übertroffen hatte. Für die Sprache Englisch konnte eine von spacy vordefiniertes Sprachmodell zur Überprüfung eingesetzt werden. Für die nicht-deutschen Lyrics würde es wiederrum keinen Einfluss haben, da sehr viele Sprachen vorhanden sind und man nicht das deutsche spacy.vocab einsetzen kann."
   ]
  },
  {
   "cell_type": "code",
   "execution_count": 103,
   "metadata": {},
   "outputs": [],
   "source": [
    "non_ger_results = []\n",
    "count = 0\n",
    "\n",
    "# without Unkown\n",
    "for idx, row in df.iterrows():\n",
    "    # if count >= 100:\n",
    "    #     break\n",
    "    text = row['lyrics']\n",
    "    doc = nlp_de(text)\n",
    "    # nicht-deutsche Sätze\n",
    "    non_german_sents = [sent for sent in doc.sents if sent._.language['language'] != 'de' and sent._.language['language'] != 'UNKNOWN']\n",
    "    if len(non_german_sents) > 0:\n",
    "        song_title = row['title']\n",
    "        lyric_num = idx\n",
    "        languages = []\n",
    "        scores = []\n",
    "        lyrics = []\n",
    "        for sent in non_german_sents:\n",
    "            lang = sent._.language['language']\n",
    "            score = sent._.language['score']\n",
    "            languages.append(lang)\n",
    "            scores.append(score)\n",
    "            lyrics.append(sent.text)\n",
    "        if len(languages) > 0:\n",
    "            # Ergebnisse ins dictionary speichern\n",
    "            result = {\n",
    "                'song_title': song_title,\n",
    "                'lyric_num': lyric_num,\n",
    "                'languages': set(languages),\n",
    "                'scores': scores,\n",
    "                'genre': row['genre'],\n",
    "                'lyrics': lyrics\n",
    "            }\n",
    "            non_ger_results.append(result)\n",
    "            # print(result)\n",
    "            count += 1"
   ]
  },
  {
   "cell_type": "code",
   "execution_count": 123,
   "metadata": {},
   "outputs": [
    {
     "data": {
      "application/vnd.plotly.v1+json": {
       "config": {
        "plotlyServerURL": "https://plot.ly"
       },
       "data": [
        {
         "alignmentgroup": "True",
         "hovertemplate": "genre=%{x}<br>Anzahl=%{y}<extra></extra>",
         "legendgroup": "",
         "marker": {
          "color": "#636efa",
          "pattern": {
           "shape": ""
          }
         },
         "name": "",
         "offsetgroup": "",
         "orientation": "v",
         "showlegend": false,
         "textposition": "auto",
         "type": "bar",
         "x": [
          "[]",
          "ambient",
          "cloud rap",
          "deutsch rap",
          "deutschrap",
          "deutschrock",
          "dubstep",
          "electro",
          "emo",
          "gothic",
          "hip hop",
          "hip-hop",
          "indie",
          "instrumental",
          "karneval",
          "metal",
          "ndw",
          "new wave",
          "party",
          "pop",
          "pop rock",
          "pornorap",
          "post-rock",
          "punk rock",
          "rap",
          "reggae",
          "rock",
          "schlager",
          "swing"
         ],
         "xaxis": "x",
         "y": [
          145,
          153,
          46,
          89,
          2446,
          219,
          7,
          106,
          61,
          44,
          773,
          850,
          303,
          51,
          169,
          4,
          46,
          35,
          27,
          1190,
          13,
          18,
          38,
          155,
          1579,
          199,
          303,
          677,
          33
         ],
         "yaxis": "y"
        }
       ],
       "layout": {
        "barmode": "relative",
        "legend": {
         "tracegroupgap": 0
        },
        "template": {
         "data": {
          "bar": [
           {
            "error_x": {
             "color": "#2a3f5f"
            },
            "error_y": {
             "color": "#2a3f5f"
            },
            "marker": {
             "line": {
              "color": "#E5ECF6",
              "width": 0.5
             },
             "pattern": {
              "fillmode": "overlay",
              "size": 10,
              "solidity": 0.2
             }
            },
            "type": "bar"
           }
          ],
          "barpolar": [
           {
            "marker": {
             "line": {
              "color": "#E5ECF6",
              "width": 0.5
             },
             "pattern": {
              "fillmode": "overlay",
              "size": 10,
              "solidity": 0.2
             }
            },
            "type": "barpolar"
           }
          ],
          "carpet": [
           {
            "aaxis": {
             "endlinecolor": "#2a3f5f",
             "gridcolor": "white",
             "linecolor": "white",
             "minorgridcolor": "white",
             "startlinecolor": "#2a3f5f"
            },
            "baxis": {
             "endlinecolor": "#2a3f5f",
             "gridcolor": "white",
             "linecolor": "white",
             "minorgridcolor": "white",
             "startlinecolor": "#2a3f5f"
            },
            "type": "carpet"
           }
          ],
          "choropleth": [
           {
            "colorbar": {
             "outlinewidth": 0,
             "ticks": ""
            },
            "type": "choropleth"
           }
          ],
          "contour": [
           {
            "colorbar": {
             "outlinewidth": 0,
             "ticks": ""
            },
            "colorscale": [
             [
              0,
              "#0d0887"
             ],
             [
              0.1111111111111111,
              "#46039f"
             ],
             [
              0.2222222222222222,
              "#7201a8"
             ],
             [
              0.3333333333333333,
              "#9c179e"
             ],
             [
              0.4444444444444444,
              "#bd3786"
             ],
             [
              0.5555555555555556,
              "#d8576b"
             ],
             [
              0.6666666666666666,
              "#ed7953"
             ],
             [
              0.7777777777777778,
              "#fb9f3a"
             ],
             [
              0.8888888888888888,
              "#fdca26"
             ],
             [
              1,
              "#f0f921"
             ]
            ],
            "type": "contour"
           }
          ],
          "contourcarpet": [
           {
            "colorbar": {
             "outlinewidth": 0,
             "ticks": ""
            },
            "type": "contourcarpet"
           }
          ],
          "heatmap": [
           {
            "colorbar": {
             "outlinewidth": 0,
             "ticks": ""
            },
            "colorscale": [
             [
              0,
              "#0d0887"
             ],
             [
              0.1111111111111111,
              "#46039f"
             ],
             [
              0.2222222222222222,
              "#7201a8"
             ],
             [
              0.3333333333333333,
              "#9c179e"
             ],
             [
              0.4444444444444444,
              "#bd3786"
             ],
             [
              0.5555555555555556,
              "#d8576b"
             ],
             [
              0.6666666666666666,
              "#ed7953"
             ],
             [
              0.7777777777777778,
              "#fb9f3a"
             ],
             [
              0.8888888888888888,
              "#fdca26"
             ],
             [
              1,
              "#f0f921"
             ]
            ],
            "type": "heatmap"
           }
          ],
          "heatmapgl": [
           {
            "colorbar": {
             "outlinewidth": 0,
             "ticks": ""
            },
            "colorscale": [
             [
              0,
              "#0d0887"
             ],
             [
              0.1111111111111111,
              "#46039f"
             ],
             [
              0.2222222222222222,
              "#7201a8"
             ],
             [
              0.3333333333333333,
              "#9c179e"
             ],
             [
              0.4444444444444444,
              "#bd3786"
             ],
             [
              0.5555555555555556,
              "#d8576b"
             ],
             [
              0.6666666666666666,
              "#ed7953"
             ],
             [
              0.7777777777777778,
              "#fb9f3a"
             ],
             [
              0.8888888888888888,
              "#fdca26"
             ],
             [
              1,
              "#f0f921"
             ]
            ],
            "type": "heatmapgl"
           }
          ],
          "histogram": [
           {
            "marker": {
             "pattern": {
              "fillmode": "overlay",
              "size": 10,
              "solidity": 0.2
             }
            },
            "type": "histogram"
           }
          ],
          "histogram2d": [
           {
            "colorbar": {
             "outlinewidth": 0,
             "ticks": ""
            },
            "colorscale": [
             [
              0,
              "#0d0887"
             ],
             [
              0.1111111111111111,
              "#46039f"
             ],
             [
              0.2222222222222222,
              "#7201a8"
             ],
             [
              0.3333333333333333,
              "#9c179e"
             ],
             [
              0.4444444444444444,
              "#bd3786"
             ],
             [
              0.5555555555555556,
              "#d8576b"
             ],
             [
              0.6666666666666666,
              "#ed7953"
             ],
             [
              0.7777777777777778,
              "#fb9f3a"
             ],
             [
              0.8888888888888888,
              "#fdca26"
             ],
             [
              1,
              "#f0f921"
             ]
            ],
            "type": "histogram2d"
           }
          ],
          "histogram2dcontour": [
           {
            "colorbar": {
             "outlinewidth": 0,
             "ticks": ""
            },
            "colorscale": [
             [
              0,
              "#0d0887"
             ],
             [
              0.1111111111111111,
              "#46039f"
             ],
             [
              0.2222222222222222,
              "#7201a8"
             ],
             [
              0.3333333333333333,
              "#9c179e"
             ],
             [
              0.4444444444444444,
              "#bd3786"
             ],
             [
              0.5555555555555556,
              "#d8576b"
             ],
             [
              0.6666666666666666,
              "#ed7953"
             ],
             [
              0.7777777777777778,
              "#fb9f3a"
             ],
             [
              0.8888888888888888,
              "#fdca26"
             ],
             [
              1,
              "#f0f921"
             ]
            ],
            "type": "histogram2dcontour"
           }
          ],
          "mesh3d": [
           {
            "colorbar": {
             "outlinewidth": 0,
             "ticks": ""
            },
            "type": "mesh3d"
           }
          ],
          "parcoords": [
           {
            "line": {
             "colorbar": {
              "outlinewidth": 0,
              "ticks": ""
             }
            },
            "type": "parcoords"
           }
          ],
          "pie": [
           {
            "automargin": true,
            "type": "pie"
           }
          ],
          "scatter": [
           {
            "marker": {
             "colorbar": {
              "outlinewidth": 0,
              "ticks": ""
             }
            },
            "type": "scatter"
           }
          ],
          "scatter3d": [
           {
            "line": {
             "colorbar": {
              "outlinewidth": 0,
              "ticks": ""
             }
            },
            "marker": {
             "colorbar": {
              "outlinewidth": 0,
              "ticks": ""
             }
            },
            "type": "scatter3d"
           }
          ],
          "scattercarpet": [
           {
            "marker": {
             "colorbar": {
              "outlinewidth": 0,
              "ticks": ""
             }
            },
            "type": "scattercarpet"
           }
          ],
          "scattergeo": [
           {
            "marker": {
             "colorbar": {
              "outlinewidth": 0,
              "ticks": ""
             }
            },
            "type": "scattergeo"
           }
          ],
          "scattergl": [
           {
            "marker": {
             "colorbar": {
              "outlinewidth": 0,
              "ticks": ""
             }
            },
            "type": "scattergl"
           }
          ],
          "scattermapbox": [
           {
            "marker": {
             "colorbar": {
              "outlinewidth": 0,
              "ticks": ""
             }
            },
            "type": "scattermapbox"
           }
          ],
          "scatterpolar": [
           {
            "marker": {
             "colorbar": {
              "outlinewidth": 0,
              "ticks": ""
             }
            },
            "type": "scatterpolar"
           }
          ],
          "scatterpolargl": [
           {
            "marker": {
             "colorbar": {
              "outlinewidth": 0,
              "ticks": ""
             }
            },
            "type": "scatterpolargl"
           }
          ],
          "scatterternary": [
           {
            "marker": {
             "colorbar": {
              "outlinewidth": 0,
              "ticks": ""
             }
            },
            "type": "scatterternary"
           }
          ],
          "surface": [
           {
            "colorbar": {
             "outlinewidth": 0,
             "ticks": ""
            },
            "colorscale": [
             [
              0,
              "#0d0887"
             ],
             [
              0.1111111111111111,
              "#46039f"
             ],
             [
              0.2222222222222222,
              "#7201a8"
             ],
             [
              0.3333333333333333,
              "#9c179e"
             ],
             [
              0.4444444444444444,
              "#bd3786"
             ],
             [
              0.5555555555555556,
              "#d8576b"
             ],
             [
              0.6666666666666666,
              "#ed7953"
             ],
             [
              0.7777777777777778,
              "#fb9f3a"
             ],
             [
              0.8888888888888888,
              "#fdca26"
             ],
             [
              1,
              "#f0f921"
             ]
            ],
            "type": "surface"
           }
          ],
          "table": [
           {
            "cells": {
             "fill": {
              "color": "#EBF0F8"
             },
             "line": {
              "color": "white"
             }
            },
            "header": {
             "fill": {
              "color": "#C8D4E3"
             },
             "line": {
              "color": "white"
             }
            },
            "type": "table"
           }
          ]
         },
         "layout": {
          "annotationdefaults": {
           "arrowcolor": "#2a3f5f",
           "arrowhead": 0,
           "arrowwidth": 1
          },
          "autotypenumbers": "strict",
          "coloraxis": {
           "colorbar": {
            "outlinewidth": 0,
            "ticks": ""
           }
          },
          "colorscale": {
           "diverging": [
            [
             0,
             "#8e0152"
            ],
            [
             0.1,
             "#c51b7d"
            ],
            [
             0.2,
             "#de77ae"
            ],
            [
             0.3,
             "#f1b6da"
            ],
            [
             0.4,
             "#fde0ef"
            ],
            [
             0.5,
             "#f7f7f7"
            ],
            [
             0.6,
             "#e6f5d0"
            ],
            [
             0.7,
             "#b8e186"
            ],
            [
             0.8,
             "#7fbc41"
            ],
            [
             0.9,
             "#4d9221"
            ],
            [
             1,
             "#276419"
            ]
           ],
           "sequential": [
            [
             0,
             "#0d0887"
            ],
            [
             0.1111111111111111,
             "#46039f"
            ],
            [
             0.2222222222222222,
             "#7201a8"
            ],
            [
             0.3333333333333333,
             "#9c179e"
            ],
            [
             0.4444444444444444,
             "#bd3786"
            ],
            [
             0.5555555555555556,
             "#d8576b"
            ],
            [
             0.6666666666666666,
             "#ed7953"
            ],
            [
             0.7777777777777778,
             "#fb9f3a"
            ],
            [
             0.8888888888888888,
             "#fdca26"
            ],
            [
             1,
             "#f0f921"
            ]
           ],
           "sequentialminus": [
            [
             0,
             "#0d0887"
            ],
            [
             0.1111111111111111,
             "#46039f"
            ],
            [
             0.2222222222222222,
             "#7201a8"
            ],
            [
             0.3333333333333333,
             "#9c179e"
            ],
            [
             0.4444444444444444,
             "#bd3786"
            ],
            [
             0.5555555555555556,
             "#d8576b"
            ],
            [
             0.6666666666666666,
             "#ed7953"
            ],
            [
             0.7777777777777778,
             "#fb9f3a"
            ],
            [
             0.8888888888888888,
             "#fdca26"
            ],
            [
             1,
             "#f0f921"
            ]
           ]
          },
          "colorway": [
           "#636efa",
           "#EF553B",
           "#00cc96",
           "#ab63fa",
           "#FFA15A",
           "#19d3f3",
           "#FF6692",
           "#B6E880",
           "#FF97FF",
           "#FECB52"
          ],
          "font": {
           "color": "#2a3f5f"
          },
          "geo": {
           "bgcolor": "white",
           "lakecolor": "white",
           "landcolor": "#E5ECF6",
           "showlakes": true,
           "showland": true,
           "subunitcolor": "white"
          },
          "hoverlabel": {
           "align": "left"
          },
          "hovermode": "closest",
          "mapbox": {
           "style": "light"
          },
          "paper_bgcolor": "white",
          "plot_bgcolor": "#E5ECF6",
          "polar": {
           "angularaxis": {
            "gridcolor": "white",
            "linecolor": "white",
            "ticks": ""
           },
           "bgcolor": "#E5ECF6",
           "radialaxis": {
            "gridcolor": "white",
            "linecolor": "white",
            "ticks": ""
           }
          },
          "scene": {
           "xaxis": {
            "backgroundcolor": "#E5ECF6",
            "gridcolor": "white",
            "gridwidth": 2,
            "linecolor": "white",
            "showbackground": true,
            "ticks": "",
            "zerolinecolor": "white"
           },
           "yaxis": {
            "backgroundcolor": "#E5ECF6",
            "gridcolor": "white",
            "gridwidth": 2,
            "linecolor": "white",
            "showbackground": true,
            "ticks": "",
            "zerolinecolor": "white"
           },
           "zaxis": {
            "backgroundcolor": "#E5ECF6",
            "gridcolor": "white",
            "gridwidth": 2,
            "linecolor": "white",
            "showbackground": true,
            "ticks": "",
            "zerolinecolor": "white"
           }
          },
          "shapedefaults": {
           "line": {
            "color": "#2a3f5f"
           }
          },
          "ternary": {
           "aaxis": {
            "gridcolor": "white",
            "linecolor": "white",
            "ticks": ""
           },
           "baxis": {
            "gridcolor": "white",
            "linecolor": "white",
            "ticks": ""
           },
           "bgcolor": "#E5ECF6",
           "caxis": {
            "gridcolor": "white",
            "linecolor": "white",
            "ticks": ""
           }
          },
          "title": {
           "x": 0.05
          },
          "xaxis": {
           "automargin": true,
           "gridcolor": "white",
           "linecolor": "white",
           "ticks": "",
           "title": {
            "standoff": 15
           },
           "zerolinecolor": "white",
           "zerolinewidth": 2
          },
          "yaxis": {
           "automargin": true,
           "gridcolor": "white",
           "linecolor": "white",
           "ticks": "",
           "title": {
            "standoff": 15
           },
           "zerolinecolor": "white",
           "zerolinewidth": 2
          }
         }
        },
        "title": {
         "text": "Verteilung der nicht-deutschen Lyrics"
        },
        "xaxis": {
         "anchor": "y",
         "domain": [
          0,
          1
         ],
         "title": {
          "text": "genre"
         }
        },
        "yaxis": {
         "anchor": "x",
         "domain": [
          0,
          1
         ],
         "title": {
          "text": "Anzahl"
         }
        }
       }
      }
     },
     "metadata": {},
     "output_type": "display_data"
    }
   ],
   "source": [
    "import plotly.express as px\n",
    "\n",
    "non_ger_genre_count = pd.DataFrame(non_ger_results).groupby(['genre']).size().reset_index(name='count')\n",
    "\n",
    "fig = px.bar(non_ger_genre_count, x='genre', y='count', title='Verteilung der nicht-deutschen Lyrics',\n",
    "             labels={'count': 'Anzahl'})\n",
    "\n",
    "fig.show()\n",
    "fig.write_html(\"../images/non_german_lyrics.html\")"
   ]
  },
  {
   "cell_type": "code",
   "execution_count": 105,
   "metadata": {},
   "outputs": [],
   "source": [
    "non_ger_df = pd.DataFrame(non_ger_results)"
   ]
  },
  {
   "attachments": {},
   "cell_type": "markdown",
   "metadata": {},
   "source": [
    "Anschließend wurde ein dataframe erstellt, in dem die Songs mit ihren Sprachen, Score und die Lyrics, die unterschiedliche Srpache beinhalten, dargestellt sind. Auch hier kann man fälschlicherweise erkennen, dass der Song \"BUNDESWEIT\" als französich anerkannt wurde für die Lyric \"lieb Chaos\", auch wenn der Score dafür mit 0.57 im Mittelbereich liegt."
   ]
  },
  {
   "cell_type": "code",
   "execution_count": 106,
   "metadata": {},
   "outputs": [
    {
     "data": {
      "text/html": [
       "<div>\n",
       "<style scoped>\n",
       "    .dataframe tbody tr th:only-of-type {\n",
       "        vertical-align: middle;\n",
       "    }\n",
       "\n",
       "    .dataframe tbody tr th {\n",
       "        vertical-align: top;\n",
       "    }\n",
       "\n",
       "    .dataframe thead th {\n",
       "        text-align: right;\n",
       "    }\n",
       "</style>\n",
       "<table border=\"1\" class=\"dataframe\">\n",
       "  <thead>\n",
       "    <tr style=\"text-align: right;\">\n",
       "      <th></th>\n",
       "      <th>song_title</th>\n",
       "      <th>lyric_num</th>\n",
       "      <th>languages</th>\n",
       "      <th>scores</th>\n",
       "      <th>genre</th>\n",
       "      <th>lyrics</th>\n",
       "    </tr>\n",
       "  </thead>\n",
       "  <tbody>\n",
       "    <tr>\n",
       "      <th>0</th>\n",
       "      <td>GIB IHM</td>\n",
       "      <td>1</td>\n",
       "      <td>{no, et, fr}</td>\n",
       "      <td>[0.8571396875978647, 0.999995388853781, 0.9999...</td>\n",
       "      <td>post-rock</td>\n",
       "      <td>[Jubel kommt erst, wenn es klappt ja, cest la ...</td>\n",
       "    </tr>\n",
       "    <tr>\n",
       "      <th>1</th>\n",
       "      <td>BUNDESWEIT</td>\n",
       "      <td>2</td>\n",
       "      <td>{fr}</td>\n",
       "      <td>[0.5714254457911165]</td>\n",
       "      <td>post-rock</td>\n",
       "      <td>[lieb Chaos]</td>\n",
       "    </tr>\n",
       "    <tr>\n",
       "      <th>2</th>\n",
       "      <td>HOLLANDA</td>\n",
       "      <td>3</td>\n",
       "      <td>{en, lv, fr, es, cy}</td>\n",
       "      <td>[0.9999971432902452, 0.8571411049320212, 0.999...</td>\n",
       "      <td>post-rock</td>\n",
       "      <td>[Because youre so sweet You lift up my heart, ...</td>\n",
       "    </tr>\n",
       "    <tr>\n",
       "      <th>3</th>\n",
       "      <td>MOON</td>\n",
       "      <td>4</td>\n",
       "      <td>{en, ca, fr, tr, nl, et, it, id, cs, ro, cy, a...</td>\n",
       "      <td>[0.5714296019467853, 0.2857145184756181, 0.714...</td>\n",
       "      <td>post-rock</td>\n",
       "      <td>[Liquid Swords  GZA  Actual ., souljaboytellem...</td>\n",
       "    </tr>\n",
       "    <tr>\n",
       "      <th>4</th>\n",
       "      <td>KILLA</td>\n",
       "      <td>5</td>\n",
       "      <td>{en, no}</td>\n",
       "      <td>[0.9999976807348423, 0.7142839683615658, 0.999...</td>\n",
       "      <td>post-rock</td>\n",
       "      <td>[Yo, its that boy Denzel Curry, Im finna do th...</td>\n",
       "    </tr>\n",
       "    <tr>\n",
       "      <th>...</th>\n",
       "      <td>...</td>\n",
       "      <td>...</td>\n",
       "      <td>...</td>\n",
       "      <td>...</td>\n",
       "      <td>...</td>\n",
       "      <td>...</td>\n",
       "    </tr>\n",
       "    <tr>\n",
       "      <th>10332</th>\n",
       "      <td>40 Nights</td>\n",
       "      <td>17749</td>\n",
       "      <td>{cy}</td>\n",
       "      <td>[0.8571392376765689]</td>\n",
       "      <td>hip-hop</td>\n",
       "      <td>[MBC  ]</td>\n",
       "    </tr>\n",
       "    <tr>\n",
       "      <th>10333</th>\n",
       "      <td>Fast</td>\n",
       "      <td>17750</td>\n",
       "      <td>{en, it}</td>\n",
       "      <td>[0.9999956046086005, 0.9999964365004634, 0.999...</td>\n",
       "      <td>hip-hop</td>\n",
       "      <td>[Kozee, cooke die Sauce  Ich bin fast fully ta...</td>\n",
       "    </tr>\n",
       "    <tr>\n",
       "      <th>10334</th>\n",
       "      <td>Fliegt</td>\n",
       "      <td>17751</td>\n",
       "      <td>{en, af, fi}</td>\n",
       "      <td>[0.9999957837694141, 0.4285712482888546, 0.428...</td>\n",
       "      <td>hip-hop</td>\n",
       "      <td>[Rope God, youre so anorexic  , Und sie weint,...</td>\n",
       "    </tr>\n",
       "    <tr>\n",
       "      <th>10335</th>\n",
       "      <td>Lonely</td>\n",
       "      <td>17752</td>\n",
       "      <td>{sv}</td>\n",
       "      <td>[0.4285686830553535]</td>\n",
       "      <td>hip-hop</td>\n",
       "      <td>[In ner Cargopants, ja, ja Kein, ja, Penner, d...</td>\n",
       "    </tr>\n",
       "    <tr>\n",
       "      <th>10336</th>\n",
       "      <td>Augen Rot</td>\n",
       "      <td>17753</td>\n",
       "      <td>{et}</td>\n",
       "      <td>[0.9999959591852191]</td>\n",
       "      <td>hip-hop</td>\n",
       "      <td>[Tut mir leid, tut mir nicht leid]</td>\n",
       "    </tr>\n",
       "  </tbody>\n",
       "</table>\n",
       "<p>10337 rows × 6 columns</p>\n",
       "</div>"
      ],
      "text/plain": [
       "       song_title  lyric_num  \\\n",
       "0         GIB IHM          1   \n",
       "1      BUNDESWEIT          2   \n",
       "2        HOLLANDA          3   \n",
       "3            MOON          4   \n",
       "4           KILLA          5   \n",
       "...           ...        ...   \n",
       "10332   40 Nights      17749   \n",
       "10333        Fast      17750   \n",
       "10334      Fliegt      17751   \n",
       "10335      Lonely      17752   \n",
       "10336   Augen Rot      17753   \n",
       "\n",
       "                                               languages  \\\n",
       "0                                           {no, et, fr}   \n",
       "1                                                   {fr}   \n",
       "2                                   {en, lv, fr, es, cy}   \n",
       "3      {en, ca, fr, tr, nl, et, it, id, cs, ro, cy, a...   \n",
       "4                                               {en, no}   \n",
       "...                                                  ...   \n",
       "10332                                               {cy}   \n",
       "10333                                           {en, it}   \n",
       "10334                                       {en, af, fi}   \n",
       "10335                                               {sv}   \n",
       "10336                                               {et}   \n",
       "\n",
       "                                                  scores      genre  \\\n",
       "0      [0.8571396875978647, 0.999995388853781, 0.9999...  post-rock   \n",
       "1                                   [0.5714254457911165]  post-rock   \n",
       "2      [0.9999971432902452, 0.8571411049320212, 0.999...  post-rock   \n",
       "3      [0.5714296019467853, 0.2857145184756181, 0.714...  post-rock   \n",
       "4      [0.9999976807348423, 0.7142839683615658, 0.999...  post-rock   \n",
       "...                                                  ...        ...   \n",
       "10332                               [0.8571392376765689]    hip-hop   \n",
       "10333  [0.9999956046086005, 0.9999964365004634, 0.999...    hip-hop   \n",
       "10334  [0.9999957837694141, 0.4285712482888546, 0.428...    hip-hop   \n",
       "10335                               [0.4285686830553535]    hip-hop   \n",
       "10336                               [0.9999959591852191]    hip-hop   \n",
       "\n",
       "                                                  lyrics  \n",
       "0      [Jubel kommt erst, wenn es klappt ja, cest la ...  \n",
       "1                                           [lieb Chaos]  \n",
       "2      [Because youre so sweet You lift up my heart, ...  \n",
       "3      [Liquid Swords  GZA  Actual ., souljaboytellem...  \n",
       "4      [Yo, its that boy Denzel Curry, Im finna do th...  \n",
       "...                                                  ...  \n",
       "10332                                            [MBC  ]  \n",
       "10333  [Kozee, cooke die Sauce  Ich bin fast fully ta...  \n",
       "10334  [Rope God, youre so anorexic  , Und sie weint,...  \n",
       "10335  [In ner Cargopants, ja, ja Kein, ja, Penner, d...  \n",
       "10336                 [Tut mir leid, tut mir nicht leid]  \n",
       "\n",
       "[10337 rows x 6 columns]"
      ]
     },
     "execution_count": 106,
     "metadata": {},
     "output_type": "execute_result"
    }
   ],
   "source": [
    "non_ger_df"
   ]
  },
  {
   "cell_type": "code",
   "execution_count": 124,
   "metadata": {},
   "outputs": [
    {
     "data": {
      "application/vnd.plotly.v1+json": {
       "config": {
        "plotlyServerURL": "https://plot.ly"
       },
       "data": [
        {
         "alignmentgroup": "True",
         "hovertemplate": "languages=af<br>genre=%{x}<br>Anzahl=%{y}<extra></extra>",
         "legendgroup": "af",
         "marker": {
          "color": "#636efa",
          "pattern": {
           "shape": ""
          }
         },
         "name": "af",
         "offsetgroup": "af",
         "orientation": "v",
         "showlegend": true,
         "textposition": "auto",
         "type": "bar",
         "x": [
          "[]",
          "ambient",
          "cloud rap",
          "deutsch rap",
          "deutschrap",
          "deutschrock",
          "dubstep",
          "electro",
          "emo",
          "gothic",
          "hip hop",
          "hip-hop",
          "indie",
          "instrumental",
          "karneval",
          "metal",
          "ndw",
          "new wave",
          "party",
          "pop",
          "pop rock",
          "pornorap",
          "post-rock",
          "punk rock",
          "rap",
          "reggae",
          "rock",
          "schlager",
          "swing"
         ],
         "xaxis": "x",
         "y": [
          26,
          20,
          6,
          13,
          445,
          62,
          2,
          25,
          7,
          19,
          137,
          147,
          95,
          8,
          82,
          2,
          16,
          4,
          4,
          257,
          2,
          5,
          9,
          38,
          270,
          28,
          77,
          167,
          9
         ],
         "yaxis": "y"
        },
        {
         "alignmentgroup": "True",
         "hovertemplate": "languages=ca<br>genre=%{x}<br>Anzahl=%{y}<extra></extra>",
         "legendgroup": "ca",
         "marker": {
          "color": "#EF553B",
          "pattern": {
           "shape": ""
          }
         },
         "name": "ca",
         "offsetgroup": "ca",
         "orientation": "v",
         "showlegend": true,
         "textposition": "auto",
         "type": "bar",
         "x": [
          "[]",
          "ambient",
          "deutsch rap",
          "deutschrap",
          "deutschrock",
          "dubstep",
          "electro",
          "emo",
          "hip hop",
          "hip-hop",
          "indie",
          "instrumental",
          "karneval",
          "ndw",
          "party",
          "pop",
          "pornorap",
          "post-rock",
          "punk rock",
          "rap",
          "reggae",
          "rock",
          "schlager"
         ],
         "xaxis": "x",
         "y": [
          4,
          5,
          2,
          60,
          2,
          1,
          1,
          2,
          19,
          17,
          10,
          1,
          13,
          1,
          1,
          23,
          2,
          4,
          2,
          39,
          5,
          14,
          19
         ],
         "yaxis": "y"
        },
        {
         "alignmentgroup": "True",
         "hovertemplate": "languages=cs<br>genre=%{x}<br>Anzahl=%{y}<extra></extra>",
         "legendgroup": "cs",
         "marker": {
          "color": "#00cc96",
          "pattern": {
           "shape": ""
          }
         },
         "name": "cs",
         "offsetgroup": "cs",
         "orientation": "v",
         "showlegend": true,
         "textposition": "auto",
         "type": "bar",
         "x": [
          "[]",
          "deutsch rap",
          "deutschrap",
          "deutschrock",
          "dubstep",
          "gothic",
          "hip hop",
          "hip-hop",
          "indie",
          "party",
          "pop",
          "post-rock",
          "punk rock",
          "rap",
          "reggae",
          "rock",
          "schlager"
         ],
         "xaxis": "x",
         "y": [
          2,
          1,
          9,
          1,
          1,
          2,
          7,
          4,
          2,
          1,
          13,
          3,
          1,
          5,
          1,
          5,
          3
         ],
         "yaxis": "y"
        },
        {
         "alignmentgroup": "True",
         "hovertemplate": "languages=cy<br>genre=%{x}<br>Anzahl=%{y}<extra></extra>",
         "legendgroup": "cy",
         "marker": {
          "color": "#ab63fa",
          "pattern": {
           "shape": ""
          }
         },
         "name": "cy",
         "offsetgroup": "cy",
         "orientation": "v",
         "showlegend": true,
         "textposition": "auto",
         "type": "bar",
         "x": [
          "[]",
          "ambient",
          "cloud rap",
          "deutsch rap",
          "deutschrap",
          "deutschrock",
          "dubstep",
          "electro",
          "emo",
          "hip hop",
          "hip-hop",
          "indie",
          "karneval",
          "metal",
          "ndw",
          "new wave",
          "party",
          "pop",
          "pop rock",
          "pornorap",
          "post-rock",
          "punk rock",
          "rap",
          "reggae",
          "rock",
          "schlager",
          "swing"
         ],
         "xaxis": "x",
         "y": [
          5,
          2,
          3,
          3,
          112,
          16,
          2,
          5,
          4,
          36,
          52,
          11,
          18,
          1,
          14,
          2,
          2,
          52,
          1,
          1,
          8,
          9,
          69,
          7,
          11,
          35,
          2
         ],
         "yaxis": "y"
        },
        {
         "alignmentgroup": "True",
         "hovertemplate": "languages=da<br>genre=%{x}<br>Anzahl=%{y}<extra></extra>",
         "legendgroup": "da",
         "marker": {
          "color": "#FFA15A",
          "pattern": {
           "shape": ""
          }
         },
         "name": "da",
         "offsetgroup": "da",
         "orientation": "v",
         "showlegend": true,
         "textposition": "auto",
         "type": "bar",
         "x": [
          "[]",
          "ambient",
          "cloud rap",
          "deutsch rap",
          "deutschrap",
          "deutschrock",
          "dubstep",
          "electro",
          "emo",
          "gothic",
          "hip hop",
          "hip-hop",
          "indie",
          "karneval",
          "ndw",
          "new wave",
          "party",
          "pop",
          "pop rock",
          "pornorap",
          "post-rock",
          "punk rock",
          "rap",
          "reggae",
          "rock",
          "schlager",
          "swing"
         ],
         "xaxis": "x",
         "y": [
          8,
          18,
          4,
          4,
          180,
          24,
          1,
          11,
          6,
          5,
          49,
          44,
          22,
          40,
          11,
          7,
          2,
          88,
          1,
          1,
          10,
          8,
          93,
          13,
          31,
          40,
          4
         ],
         "yaxis": "y"
        },
        {
         "alignmentgroup": "True",
         "hovertemplate": "languages=en<br>genre=%{x}<br>Anzahl=%{y}<extra></extra>",
         "legendgroup": "en",
         "marker": {
          "color": "#19d3f3",
          "pattern": {
           "shape": ""
          }
         },
         "name": "en",
         "offsetgroup": "en",
         "orientation": "v",
         "showlegend": true,
         "textposition": "auto",
         "type": "bar",
         "x": [
          "[]",
          "ambient",
          "cloud rap",
          "deutsch rap",
          "deutschrap",
          "deutschrock",
          "dubstep",
          "electro",
          "emo",
          "gothic",
          "hip hop",
          "hip-hop",
          "indie",
          "instrumental",
          "karneval",
          "metal",
          "ndw",
          "new wave",
          "party",
          "pop",
          "pop rock",
          "pornorap",
          "post-rock",
          "punk rock",
          "rap",
          "reggae",
          "rock",
          "schlager",
          "swing"
         ],
         "xaxis": "x",
         "y": [
          54,
          47,
          24,
          28,
          843,
          65,
          2,
          56,
          22,
          4,
          244,
          314,
          66,
          13,
          41,
          1,
          28,
          13,
          8,
          315,
          1,
          7,
          23,
          28,
          616,
          93,
          93,
          156,
          3
         ],
         "yaxis": "y"
        },
        {
         "alignmentgroup": "True",
         "hovertemplate": "languages=es<br>genre=%{x}<br>Anzahl=%{y}<extra></extra>",
         "legendgroup": "es",
         "marker": {
          "color": "#FF6692",
          "pattern": {
           "shape": ""
          }
         },
         "name": "es",
         "offsetgroup": "es",
         "orientation": "v",
         "showlegend": true,
         "textposition": "auto",
         "type": "bar",
         "x": [
          "[]",
          "ambient",
          "cloud rap",
          "deutsch rap",
          "deutschrap",
          "deutschrock",
          "electro",
          "emo",
          "hip hop",
          "hip-hop",
          "indie",
          "instrumental",
          "karneval",
          "party",
          "pop",
          "post-rock",
          "punk rock",
          "rap",
          "reggae",
          "rock",
          "schlager"
         ],
         "xaxis": "x",
         "y": [
          3,
          6,
          2,
          3,
          66,
          2,
          3,
          2,
          19,
          38,
          5,
          2,
          10,
          4,
          22,
          4,
          3,
          43,
          13,
          12,
          23
         ],
         "yaxis": "y"
        },
        {
         "alignmentgroup": "True",
         "hovertemplate": "languages=et<br>genre=%{x}<br>Anzahl=%{y}<extra></extra>",
         "legendgroup": "et",
         "marker": {
          "color": "#B6E880",
          "pattern": {
           "shape": ""
          }
         },
         "name": "et",
         "offsetgroup": "et",
         "orientation": "v",
         "showlegend": true,
         "textposition": "auto",
         "type": "bar",
         "x": [
          "[]",
          "ambient",
          "cloud rap",
          "deutsch rap",
          "deutschrap",
          "deutschrock",
          "electro",
          "emo",
          "gothic",
          "hip hop",
          "hip-hop",
          "indie",
          "karneval",
          "metal",
          "ndw",
          "new wave",
          "party",
          "pop",
          "pop rock",
          "pornorap",
          "post-rock",
          "punk rock",
          "rap",
          "reggae",
          "rock",
          "schlager",
          "swing"
         ],
         "xaxis": "x",
         "y": [
          6,
          4,
          7,
          4,
          119,
          6,
          7,
          1,
          2,
          48,
          49,
          14,
          29,
          1,
          11,
          3,
          4,
          73,
          1,
          4,
          9,
          7,
          70,
          14,
          25,
          44,
          1
         ],
         "yaxis": "y"
        },
        {
         "alignmentgroup": "True",
         "hovertemplate": "languages=fi<br>genre=%{x}<br>Anzahl=%{y}<extra></extra>",
         "legendgroup": "fi",
         "marker": {
          "color": "#FF97FF",
          "pattern": {
           "shape": ""
          }
         },
         "name": "fi",
         "offsetgroup": "fi",
         "orientation": "v",
         "showlegend": true,
         "textposition": "auto",
         "type": "bar",
         "x": [
          "[]",
          "ambient",
          "cloud rap",
          "deutsch rap",
          "deutschrap",
          "deutschrock",
          "dubstep",
          "electro",
          "emo",
          "gothic",
          "hip hop",
          "hip-hop",
          "indie",
          "instrumental",
          "karneval",
          "ndw",
          "new wave",
          "party",
          "pop",
          "post-rock",
          "punk rock",
          "rap",
          "reggae",
          "rock",
          "schlager",
          "swing"
         ],
         "xaxis": "x",
         "y": [
          8,
          11,
          5,
          2,
          125,
          6,
          1,
          4,
          3,
          1,
          54,
          56,
          9,
          4,
          43,
          4,
          2,
          3,
          59,
          2,
          4,
          114,
          13,
          22,
          29,
          1
         ],
         "yaxis": "y"
        },
        {
         "alignmentgroup": "True",
         "hovertemplate": "languages=fr<br>genre=%{x}<br>Anzahl=%{y}<extra></extra>",
         "legendgroup": "fr",
         "marker": {
          "color": "#FECB52",
          "pattern": {
           "shape": ""
          }
         },
         "name": "fr",
         "offsetgroup": "fr",
         "orientation": "v",
         "showlegend": true,
         "textposition": "auto",
         "type": "bar",
         "x": [
          "[]",
          "ambient",
          "cloud rap",
          "deutsch rap",
          "deutschrap",
          "deutschrock",
          "dubstep",
          "electro",
          "emo",
          "gothic",
          "hip hop",
          "hip-hop",
          "indie",
          "instrumental",
          "karneval",
          "ndw",
          "new wave",
          "party",
          "pop",
          "pop rock",
          "pornorap",
          "post-rock",
          "punk rock",
          "rap",
          "reggae",
          "rock",
          "schlager",
          "swing"
         ],
         "xaxis": "x",
         "y": [
          15,
          19,
          4,
          3,
          204,
          24,
          1,
          13,
          6,
          3,
          75,
          76,
          19,
          5,
          52,
          4,
          5,
          5,
          121,
          2,
          3,
          14,
          15,
          134,
          11,
          30,
          81,
          6
         ],
         "yaxis": "y"
        },
        {
         "alignmentgroup": "True",
         "hovertemplate": "languages=hr<br>genre=%{x}<br>Anzahl=%{y}<extra></extra>",
         "legendgroup": "hr",
         "marker": {
          "color": "#636efa",
          "pattern": {
           "shape": ""
          }
         },
         "name": "hr",
         "offsetgroup": "hr",
         "orientation": "v",
         "showlegend": true,
         "textposition": "auto",
         "type": "bar",
         "x": [
          "[]",
          "ambient",
          "deutsch rap",
          "deutschrap",
          "deutschrock",
          "emo",
          "gothic",
          "hip hop",
          "hip-hop",
          "indie",
          "karneval",
          "ndw",
          "new wave",
          "party",
          "pop",
          "post-rock",
          "punk rock",
          "rap",
          "reggae",
          "rock",
          "schlager"
         ],
         "xaxis": "x",
         "y": [
          5,
          1,
          1,
          38,
          1,
          1,
          1,
          15,
          7,
          3,
          12,
          5,
          2,
          1,
          16,
          3,
          2,
          18,
          3,
          7,
          9
         ],
         "yaxis": "y"
        },
        {
         "alignmentgroup": "True",
         "hovertemplate": "languages=id<br>genre=%{x}<br>Anzahl=%{y}<extra></extra>",
         "legendgroup": "id",
         "marker": {
          "color": "#EF553B",
          "pattern": {
           "shape": ""
          }
         },
         "name": "id",
         "offsetgroup": "id",
         "orientation": "v",
         "showlegend": true,
         "textposition": "auto",
         "type": "bar",
         "x": [
          "[]",
          "ambient",
          "deutsch rap",
          "deutschrap",
          "deutschrock",
          "dubstep",
          "electro",
          "emo",
          "gothic",
          "hip hop",
          "hip-hop",
          "indie",
          "instrumental",
          "karneval",
          "metal",
          "ndw",
          "new wave",
          "party",
          "pop",
          "pop rock",
          "pornorap",
          "post-rock",
          "punk rock",
          "rap",
          "reggae",
          "rock",
          "schlager",
          "swing"
         ],
         "xaxis": "x",
         "y": [
          24,
          20,
          20,
          307,
          14,
          1,
          10,
          9,
          3,
          89,
          106,
          29,
          2,
          29,
          1,
          8,
          2,
          4,
          103,
          1,
          1,
          12,
          14,
          252,
          34,
          41,
          67,
          3
         ],
         "yaxis": "y"
        },
        {
         "alignmentgroup": "True",
         "hovertemplate": "languages=it<br>genre=%{x}<br>Anzahl=%{y}<extra></extra>",
         "legendgroup": "it",
         "marker": {
          "color": "#00cc96",
          "pattern": {
           "shape": ""
          }
         },
         "name": "it",
         "offsetgroup": "it",
         "orientation": "v",
         "showlegend": true,
         "textposition": "auto",
         "type": "bar",
         "x": [
          "[]",
          "ambient",
          "cloud rap",
          "deutsch rap",
          "deutschrap",
          "deutschrock",
          "electro",
          "emo",
          "gothic",
          "hip hop",
          "hip-hop",
          "indie",
          "instrumental",
          "karneval",
          "ndw",
          "new wave",
          "party",
          "pop",
          "pornorap",
          "post-rock",
          "rap",
          "reggae",
          "rock",
          "schlager",
          "swing"
         ],
         "xaxis": "x",
         "y": [
          12,
          8,
          2,
          4,
          107,
          7,
          3,
          4,
          3,
          27,
          44,
          10,
          2,
          8,
          13,
          3,
          4,
          54,
          4,
          12,
          70,
          15,
          22,
          34,
          2
         ],
         "yaxis": "y"
        },
        {
         "alignmentgroup": "True",
         "hovertemplate": "languages=lt<br>genre=%{x}<br>Anzahl=%{y}<extra></extra>",
         "legendgroup": "lt",
         "marker": {
          "color": "#ab63fa",
          "pattern": {
           "shape": ""
          }
         },
         "name": "lt",
         "offsetgroup": "lt",
         "orientation": "v",
         "showlegend": true,
         "textposition": "auto",
         "type": "bar",
         "x": [
          "[]",
          "cloud rap",
          "deutschrap",
          "deutschrock",
          "electro",
          "emo",
          "gothic",
          "hip hop",
          "hip-hop",
          "indie",
          "karneval",
          "pop",
          "rap",
          "reggae",
          "rock",
          "schlager"
         ],
         "xaxis": "x",
         "y": [
          1,
          1,
          33,
          2,
          1,
          2,
          2,
          19,
          12,
          2,
          3,
          18,
          17,
          1,
          1,
          9
         ],
         "yaxis": "y"
        },
        {
         "alignmentgroup": "True",
         "hovertemplate": "languages=lv<br>genre=%{x}<br>Anzahl=%{y}<extra></extra>",
         "legendgroup": "lv",
         "marker": {
          "color": "#FFA15A",
          "pattern": {
           "shape": ""
          }
         },
         "name": "lv",
         "offsetgroup": "lv",
         "orientation": "v",
         "showlegend": true,
         "textposition": "auto",
         "type": "bar",
         "x": [
          "[]",
          "deutschrap",
          "deutschrock",
          "electro",
          "gothic",
          "hip hop",
          "hip-hop",
          "indie",
          "karneval",
          "ndw",
          "party",
          "pop",
          "pornorap",
          "post-rock",
          "punk rock",
          "rap",
          "reggae",
          "rock",
          "schlager",
          "swing"
         ],
         "xaxis": "x",
         "y": [
          6,
          27,
          1,
          1,
          3,
          9,
          9,
          4,
          3,
          1,
          2,
          19,
          1,
          3,
          1,
          13,
          1,
          3,
          14,
          1
         ],
         "yaxis": "y"
        },
        {
         "alignmentgroup": "True",
         "hovertemplate": "languages=nl<br>genre=%{x}<br>Anzahl=%{y}<extra></extra>",
         "legendgroup": "nl",
         "marker": {
          "color": "#19d3f3",
          "pattern": {
           "shape": ""
          }
         },
         "name": "nl",
         "offsetgroup": "nl",
         "orientation": "v",
         "showlegend": true,
         "textposition": "auto",
         "type": "bar",
         "x": [
          "[]",
          "ambient",
          "cloud rap",
          "deutsch rap",
          "deutschrap",
          "deutschrock",
          "electro",
          "emo",
          "gothic",
          "hip hop",
          "hip-hop",
          "indie",
          "instrumental",
          "karneval",
          "metal",
          "ndw",
          "new wave",
          "party",
          "pop",
          "pop rock",
          "pornorap",
          "post-rock",
          "punk rock",
          "rap",
          "reggae",
          "rock",
          "schlager",
          "swing"
         ],
         "xaxis": "x",
         "y": [
          16,
          9,
          2,
          9,
          250,
          20,
          13,
          4,
          4,
          100,
          99,
          28,
          6,
          70,
          1,
          6,
          4,
          4,
          100,
          1,
          1,
          7,
          12,
          167,
          12,
          35,
          67,
          6
         ],
         "yaxis": "y"
        },
        {
         "alignmentgroup": "True",
         "hovertemplate": "languages=no<br>genre=%{x}<br>Anzahl=%{y}<extra></extra>",
         "legendgroup": "no",
         "marker": {
          "color": "#FF6692",
          "pattern": {
           "shape": ""
          }
         },
         "name": "no",
         "offsetgroup": "no",
         "orientation": "v",
         "showlegend": true,
         "textposition": "auto",
         "type": "bar",
         "x": [
          "[]",
          "ambient",
          "deutsch rap",
          "deutschrap",
          "deutschrock",
          "dubstep",
          "electro",
          "emo",
          "gothic",
          "hip hop",
          "hip-hop",
          "indie",
          "instrumental",
          "karneval",
          "metal",
          "ndw",
          "new wave",
          "pop",
          "pop rock",
          "pornorap",
          "post-rock",
          "punk rock",
          "rap",
          "reggae",
          "rock",
          "schlager",
          "swing"
         ],
         "xaxis": "x",
         "y": [
          14,
          9,
          10,
          153,
          17,
          1,
          5,
          3,
          4,
          66,
          46,
          22,
          2,
          39,
          1,
          6,
          2,
          76,
          1,
          4,
          9,
          13,
          111,
          11,
          27,
          40,
          3
         ],
         "yaxis": "y"
        },
        {
         "alignmentgroup": "True",
         "hovertemplate": "languages=pl<br>genre=%{x}<br>Anzahl=%{y}<extra></extra>",
         "legendgroup": "pl",
         "marker": {
          "color": "#B6E880",
          "pattern": {
           "shape": ""
          }
         },
         "name": "pl",
         "offsetgroup": "pl",
         "orientation": "v",
         "showlegend": true,
         "textposition": "auto",
         "type": "bar",
         "x": [
          "[]",
          "ambient",
          "cloud rap",
          "deutsch rap",
          "deutschrap",
          "deutschrock",
          "electro",
          "emo",
          "gothic",
          "hip hop",
          "hip-hop",
          "indie",
          "instrumental",
          "karneval",
          "metal",
          "ndw",
          "new wave",
          "party",
          "pop",
          "post-rock",
          "punk rock",
          "rap",
          "reggae",
          "rock",
          "schlager",
          "swing"
         ],
         "xaxis": "x",
         "y": [
          19,
          13,
          6,
          8,
          185,
          8,
          4,
          2,
          1,
          53,
          54,
          11,
          5,
          36,
          1,
          12,
          3,
          1,
          56,
          2,
          10,
          108,
          18,
          17,
          46,
          2
         ],
         "yaxis": "y"
        },
        {
         "alignmentgroup": "True",
         "hovertemplate": "languages=pt<br>genre=%{x}<br>Anzahl=%{y}<extra></extra>",
         "legendgroup": "pt",
         "marker": {
          "color": "#FF97FF",
          "pattern": {
           "shape": ""
          }
         },
         "name": "pt",
         "offsetgroup": "pt",
         "orientation": "v",
         "showlegend": true,
         "textposition": "auto",
         "type": "bar",
         "x": [
          "[]",
          "ambient",
          "cloud rap",
          "deutsch rap",
          "deutschrap",
          "deutschrock",
          "electro",
          "emo",
          "hip hop",
          "hip-hop",
          "indie",
          "karneval",
          "ndw",
          "new wave",
          "party",
          "pop",
          "pornorap",
          "post-rock",
          "punk rock",
          "rap",
          "reggae",
          "rock",
          "schlager",
          "swing"
         ],
         "xaxis": "x",
         "y": [
          6,
          7,
          2,
          6,
          93,
          7,
          3,
          1,
          17,
          21,
          8,
          25,
          2,
          1,
          1,
          29,
          1,
          4,
          5,
          35,
          3,
          7,
          24,
          1
         ],
         "yaxis": "y"
        },
        {
         "alignmentgroup": "True",
         "hovertemplate": "languages=ro<br>genre=%{x}<br>Anzahl=%{y}<extra></extra>",
         "legendgroup": "ro",
         "marker": {
          "color": "#FECB52",
          "pattern": {
           "shape": ""
          }
         },
         "name": "ro",
         "offsetgroup": "ro",
         "orientation": "v",
         "showlegend": true,
         "textposition": "auto",
         "type": "bar",
         "x": [
          "[]",
          "ambient",
          "cloud rap",
          "deutschrap",
          "deutschrock",
          "hip hop",
          "hip-hop",
          "indie",
          "karneval",
          "ndw",
          "new wave",
          "pop",
          "post-rock",
          "punk rock",
          "rap",
          "reggae",
          "rock",
          "schlager"
         ],
         "xaxis": "x",
         "y": [
          3,
          2,
          1,
          44,
          2,
          6,
          14,
          2,
          4,
          3,
          2,
          12,
          5,
          2,
          17,
          3,
          4,
          13
         ],
         "yaxis": "y"
        },
        {
         "alignmentgroup": "True",
         "hovertemplate": "languages=sk<br>genre=%{x}<br>Anzahl=%{y}<extra></extra>",
         "legendgroup": "sk",
         "marker": {
          "color": "#636efa",
          "pattern": {
           "shape": ""
          }
         },
         "name": "sk",
         "offsetgroup": "sk",
         "orientation": "v",
         "showlegend": true,
         "textposition": "auto",
         "type": "bar",
         "x": [
          "[]",
          "ambient",
          "cloud rap",
          "deutsch rap",
          "deutschrap",
          "electro",
          "emo",
          "hip hop",
          "hip-hop",
          "indie",
          "instrumental",
          "karneval",
          "ndw",
          "new wave",
          "party",
          "pop",
          "post-rock",
          "rap",
          "reggae",
          "rock",
          "schlager"
         ],
         "xaxis": "x",
         "y": [
          2,
          2,
          3,
          1,
          40,
          2,
          2,
          17,
          9,
          4,
          5,
          23,
          1,
          1,
          2,
          17,
          3,
          16,
          5,
          8,
          17
         ],
         "yaxis": "y"
        },
        {
         "alignmentgroup": "True",
         "hovertemplate": "languages=sl<br>genre=%{x}<br>Anzahl=%{y}<extra></extra>",
         "legendgroup": "sl",
         "marker": {
          "color": "#EF553B",
          "pattern": {
           "shape": ""
          }
         },
         "name": "sl",
         "offsetgroup": "sl",
         "orientation": "v",
         "showlegend": true,
         "textposition": "auto",
         "type": "bar",
         "x": [
          "[]",
          "ambient",
          "cloud rap",
          "deutsch rap",
          "deutschrap",
          "deutschrock",
          "emo",
          "hip hop",
          "hip-hop",
          "indie",
          "karneval",
          "metal",
          "party",
          "pop",
          "post-rock",
          "rap",
          "reggae",
          "rock",
          "schlager"
         ],
         "xaxis": "x",
         "y": [
          1,
          2,
          1,
          2,
          35,
          3,
          1,
          6,
          10,
          3,
          19,
          1,
          1,
          17,
          3,
          21,
          3,
          4,
          4
         ],
         "yaxis": "y"
        },
        {
         "alignmentgroup": "True",
         "hovertemplate": "languages=so<br>genre=%{x}<br>Anzahl=%{y}<extra></extra>",
         "legendgroup": "so",
         "marker": {
          "color": "#00cc96",
          "pattern": {
           "shape": ""
          }
         },
         "name": "so",
         "offsetgroup": "so",
         "orientation": "v",
         "showlegend": true,
         "textposition": "auto",
         "type": "bar",
         "x": [
          "[]",
          "ambient",
          "cloud rap",
          "deutsch rap",
          "deutschrap",
          "deutschrock",
          "electro",
          "emo",
          "gothic",
          "hip hop",
          "hip-hop",
          "indie",
          "instrumental",
          "karneval",
          "ndw",
          "party",
          "pop",
          "pop rock",
          "pornorap",
          "post-rock",
          "punk rock",
          "rap",
          "reggae",
          "rock",
          "schlager",
          "swing"
         ],
         "xaxis": "x",
         "y": [
          23,
          28,
          11,
          13,
          276,
          14,
          8,
          7,
          1,
          79,
          115,
          34,
          2,
          14,
          12,
          3,
          117,
          2,
          1,
          10,
          16,
          214,
          23,
          23,
          67,
          7
         ],
         "yaxis": "y"
        },
        {
         "alignmentgroup": "True",
         "hovertemplate": "languages=sq<br>genre=%{x}<br>Anzahl=%{y}<extra></extra>",
         "legendgroup": "sq",
         "marker": {
          "color": "#ab63fa",
          "pattern": {
           "shape": ""
          }
         },
         "name": "sq",
         "offsetgroup": "sq",
         "orientation": "v",
         "showlegend": true,
         "textposition": "auto",
         "type": "bar",
         "x": [
          "[]",
          "ambient",
          "cloud rap",
          "deutschrap",
          "electro",
          "hip hop",
          "hip-hop",
          "indie",
          "karneval",
          "ndw",
          "new wave",
          "party",
          "pop",
          "rap",
          "reggae",
          "rock",
          "schlager"
         ],
         "xaxis": "x",
         "y": [
          5,
          6,
          2,
          27,
          3,
          10,
          18,
          3,
          13,
          1,
          1,
          1,
          19,
          30,
          6,
          4,
          3
         ],
         "yaxis": "y"
        },
        {
         "alignmentgroup": "True",
         "hovertemplate": "languages=sv<br>genre=%{x}<br>Anzahl=%{y}<extra></extra>",
         "legendgroup": "sv",
         "marker": {
          "color": "#FFA15A",
          "pattern": {
           "shape": ""
          }
         },
         "name": "sv",
         "offsetgroup": "sv",
         "orientation": "v",
         "showlegend": true,
         "textposition": "auto",
         "type": "bar",
         "x": [
          "[]",
          "ambient",
          "cloud rap",
          "deutsch rap",
          "deutschrap",
          "deutschrock",
          "dubstep",
          "electro",
          "emo",
          "gothic",
          "hip hop",
          "hip-hop",
          "indie",
          "instrumental",
          "karneval",
          "ndw",
          "new wave",
          "party",
          "pop",
          "pop rock",
          "pornorap",
          "post-rock",
          "punk rock",
          "rap",
          "reggae",
          "rock",
          "schlager",
          "swing"
         ],
         "xaxis": "x",
         "y": [
          8,
          11,
          5,
          5,
          227,
          26,
          1,
          5,
          6,
          4,
          81,
          57,
          24,
          3,
          86,
          13,
          4,
          2,
          100,
          2,
          2,
          11,
          18,
          136,
          12,
          35,
          86,
          4
         ],
         "yaxis": "y"
        },
        {
         "alignmentgroup": "True",
         "hovertemplate": "languages=sw<br>genre=%{x}<br>Anzahl=%{y}<extra></extra>",
         "legendgroup": "sw",
         "marker": {
          "color": "#19d3f3",
          "pattern": {
           "shape": ""
          }
         },
         "name": "sw",
         "offsetgroup": "sw",
         "orientation": "v",
         "showlegend": true,
         "textposition": "auto",
         "type": "bar",
         "x": [
          "[]",
          "ambient",
          "cloud rap",
          "deutsch rap",
          "deutschrap",
          "deutschrock",
          "electro",
          "emo",
          "gothic",
          "hip hop",
          "hip-hop",
          "indie",
          "instrumental",
          "karneval",
          "ndw",
          "new wave",
          "party",
          "pop",
          "pornorap",
          "post-rock",
          "punk rock",
          "rap",
          "reggae",
          "rock",
          "schlager",
          "swing"
         ],
         "xaxis": "x",
         "y": [
          9,
          13,
          1,
          6,
          165,
          10,
          3,
          3,
          2,
          46,
          49,
          8,
          2,
          15,
          6,
          2,
          1,
          54,
          1,
          5,
          5,
          115,
          13,
          20,
          29,
          1
         ],
         "yaxis": "y"
        },
        {
         "alignmentgroup": "True",
         "hovertemplate": "languages=tl<br>genre=%{x}<br>Anzahl=%{y}<extra></extra>",
         "legendgroup": "tl",
         "marker": {
          "color": "#FF6692",
          "pattern": {
           "shape": ""
          }
         },
         "name": "tl",
         "offsetgroup": "tl",
         "orientation": "v",
         "showlegend": true,
         "textposition": "auto",
         "type": "bar",
         "x": [
          "[]",
          "ambient",
          "cloud rap",
          "deutsch rap",
          "deutschrap",
          "deutschrock",
          "electro",
          "emo",
          "gothic",
          "hip hop",
          "hip-hop",
          "indie",
          "instrumental",
          "karneval",
          "metal",
          "ndw",
          "new wave",
          "party",
          "pop",
          "pornorap",
          "post-rock",
          "punk rock",
          "rap",
          "reggae",
          "rock",
          "schlager",
          "swing"
         ],
         "xaxis": "x",
         "y": [
          12,
          10,
          2,
          5,
          223,
          12,
          4,
          1,
          1,
          78,
          70,
          18,
          2,
          25,
          1,
          7,
          1,
          4,
          93,
          3,
          7,
          5,
          145,
          17,
          26,
          56,
          1
         ],
         "yaxis": "y"
        },
        {
         "alignmentgroup": "True",
         "hovertemplate": "languages=tr<br>genre=%{x}<br>Anzahl=%{y}<extra></extra>",
         "legendgroup": "tr",
         "marker": {
          "color": "#B6E880",
          "pattern": {
           "shape": ""
          }
         },
         "name": "tr",
         "offsetgroup": "tr",
         "orientation": "v",
         "showlegend": true,
         "textposition": "auto",
         "type": "bar",
         "x": [
          "[]",
          "ambient",
          "cloud rap",
          "deutsch rap",
          "deutschrap",
          "deutschrock",
          "dubstep",
          "electro",
          "emo",
          "gothic",
          "hip hop",
          "hip-hop",
          "indie",
          "instrumental",
          "karneval",
          "metal",
          "ndw",
          "party",
          "pop",
          "pornorap",
          "post-rock",
          "punk rock",
          "rap",
          "reggae",
          "rock",
          "schlager"
         ],
         "xaxis": "x",
         "y": [
          11,
          12,
          2,
          5,
          191,
          6,
          1,
          4,
          3,
          2,
          56,
          68,
          20,
          2,
          13,
          2,
          2,
          2,
          44,
          1,
          6,
          1,
          148,
          14,
          22,
          17
         ],
         "yaxis": "y"
        },
        {
         "alignmentgroup": "True",
         "hovertemplate": "languages=vi<br>genre=%{x}<br>Anzahl=%{y}<extra></extra>",
         "legendgroup": "vi",
         "marker": {
          "color": "#FF97FF",
          "pattern": {
           "shape": ""
          }
         },
         "name": "vi",
         "offsetgroup": "vi",
         "orientation": "v",
         "showlegend": true,
         "textposition": "auto",
         "type": "bar",
         "x": [
          "[]",
          "cloud rap",
          "deutsch rap",
          "deutschrap",
          "deutschrock",
          "dubstep",
          "emo",
          "hip hop",
          "hip-hop",
          "indie",
          "karneval",
          "ndw",
          "new wave",
          "party",
          "pop",
          "pornorap",
          "post-rock",
          "rap",
          "reggae",
          "rock",
          "schlager"
         ],
         "xaxis": "x",
         "y": [
          5,
          1,
          3,
          70,
          4,
          1,
          1,
          10,
          20,
          6,
          3,
          1,
          1,
          1,
          18,
          1,
          1,
          52,
          3,
          10,
          8
         ],
         "yaxis": "y"
        },
        {
         "alignmentgroup": "True",
         "hovertemplate": "languages=hu<br>genre=%{x}<br>Anzahl=%{y}<extra></extra>",
         "legendgroup": "hu",
         "marker": {
          "color": "#FECB52",
          "pattern": {
           "shape": ""
          }
         },
         "name": "hu",
         "offsetgroup": "hu",
         "orientation": "v",
         "showlegend": true,
         "textposition": "auto",
         "type": "bar",
         "x": [
          "ambient",
          "deutsch rap",
          "deutschrap",
          "deutschrock",
          "electro",
          "gothic",
          "hip hop",
          "hip-hop",
          "indie",
          "karneval",
          "party",
          "pop",
          "post-rock",
          "rap",
          "reggae",
          "rock",
          "schlager"
         ],
         "xaxis": "x",
         "y": [
          1,
          1,
          28,
          1,
          1,
          1,
          5,
          10,
          2,
          13,
          1,
          8,
          2,
          8,
          2,
          4,
          3
         ],
         "yaxis": "y"
        },
        {
         "alignmentgroup": "True",
         "hovertemplate": "languages=ru<br>genre=%{x}<br>Anzahl=%{y}<extra></extra>",
         "legendgroup": "ru",
         "marker": {
          "color": "#636efa",
          "pattern": {
           "shape": ""
          }
         },
         "name": "ru",
         "offsetgroup": "ru",
         "orientation": "v",
         "showlegend": true,
         "textposition": "auto",
         "type": "bar",
         "x": [
          "cloud rap",
          "deutschrap",
          "deutschrock",
          "hip hop"
         ],
         "xaxis": "x",
         "y": [
          1,
          1,
          1,
          5
         ],
         "yaxis": "y"
        },
        {
         "alignmentgroup": "True",
         "hovertemplate": "languages=mk<br>genre=%{x}<br>Anzahl=%{y}<extra></extra>",
         "legendgroup": "mk",
         "marker": {
          "color": "#EF553B",
          "pattern": {
           "shape": ""
          }
         },
         "name": "mk",
         "offsetgroup": "mk",
         "orientation": "v",
         "showlegend": true,
         "textposition": "auto",
         "type": "bar",
         "x": [
          "deutschrock",
          "hip hop"
         ],
         "xaxis": "x",
         "y": [
          1,
          1
         ],
         "yaxis": "y"
        },
        {
         "alignmentgroup": "True",
         "hovertemplate": "languages=bg<br>genre=%{x}<br>Anzahl=%{y}<extra></extra>",
         "legendgroup": "bg",
         "marker": {
          "color": "#00cc96",
          "pattern": {
           "shape": ""
          }
         },
         "name": "bg",
         "offsetgroup": "bg",
         "orientation": "v",
         "showlegend": true,
         "textposition": "auto",
         "type": "bar",
         "x": [
          "hip hop"
         ],
         "xaxis": "x",
         "y": [
          3
         ],
         "yaxis": "y"
        },
        {
         "alignmentgroup": "True",
         "hovertemplate": "languages=ja<br>genre=%{x}<br>Anzahl=%{y}<extra></extra>",
         "legendgroup": "ja",
         "marker": {
          "color": "#ab63fa",
          "pattern": {
           "shape": ""
          }
         },
         "name": "ja",
         "offsetgroup": "ja",
         "orientation": "v",
         "showlegend": true,
         "textposition": "auto",
         "type": "bar",
         "x": [
          "hip-hop",
          "post-rock"
         ],
         "xaxis": "x",
         "y": [
          1,
          1
         ],
         "yaxis": "y"
        },
        {
         "alignmentgroup": "True",
         "hovertemplate": "languages=el<br>genre=%{x}<br>Anzahl=%{y}<extra></extra>",
         "legendgroup": "el",
         "marker": {
          "color": "#FFA15A",
          "pattern": {
           "shape": ""
          }
         },
         "name": "el",
         "offsetgroup": "el",
         "orientation": "v",
         "showlegend": true,
         "textposition": "auto",
         "type": "bar",
         "x": [
          "pop"
         ],
         "xaxis": "x",
         "y": [
          1
         ],
         "yaxis": "y"
        }
       ],
       "layout": {
        "barmode": "relative",
        "legend": {
         "title": {
          "text": "languages"
         },
         "tracegroupgap": 0
        },
        "template": {
         "data": {
          "bar": [
           {
            "error_x": {
             "color": "#2a3f5f"
            },
            "error_y": {
             "color": "#2a3f5f"
            },
            "marker": {
             "line": {
              "color": "#E5ECF6",
              "width": 0.5
             },
             "pattern": {
              "fillmode": "overlay",
              "size": 10,
              "solidity": 0.2
             }
            },
            "type": "bar"
           }
          ],
          "barpolar": [
           {
            "marker": {
             "line": {
              "color": "#E5ECF6",
              "width": 0.5
             },
             "pattern": {
              "fillmode": "overlay",
              "size": 10,
              "solidity": 0.2
             }
            },
            "type": "barpolar"
           }
          ],
          "carpet": [
           {
            "aaxis": {
             "endlinecolor": "#2a3f5f",
             "gridcolor": "white",
             "linecolor": "white",
             "minorgridcolor": "white",
             "startlinecolor": "#2a3f5f"
            },
            "baxis": {
             "endlinecolor": "#2a3f5f",
             "gridcolor": "white",
             "linecolor": "white",
             "minorgridcolor": "white",
             "startlinecolor": "#2a3f5f"
            },
            "type": "carpet"
           }
          ],
          "choropleth": [
           {
            "colorbar": {
             "outlinewidth": 0,
             "ticks": ""
            },
            "type": "choropleth"
           }
          ],
          "contour": [
           {
            "colorbar": {
             "outlinewidth": 0,
             "ticks": ""
            },
            "colorscale": [
             [
              0,
              "#0d0887"
             ],
             [
              0.1111111111111111,
              "#46039f"
             ],
             [
              0.2222222222222222,
              "#7201a8"
             ],
             [
              0.3333333333333333,
              "#9c179e"
             ],
             [
              0.4444444444444444,
              "#bd3786"
             ],
             [
              0.5555555555555556,
              "#d8576b"
             ],
             [
              0.6666666666666666,
              "#ed7953"
             ],
             [
              0.7777777777777778,
              "#fb9f3a"
             ],
             [
              0.8888888888888888,
              "#fdca26"
             ],
             [
              1,
              "#f0f921"
             ]
            ],
            "type": "contour"
           }
          ],
          "contourcarpet": [
           {
            "colorbar": {
             "outlinewidth": 0,
             "ticks": ""
            },
            "type": "contourcarpet"
           }
          ],
          "heatmap": [
           {
            "colorbar": {
             "outlinewidth": 0,
             "ticks": ""
            },
            "colorscale": [
             [
              0,
              "#0d0887"
             ],
             [
              0.1111111111111111,
              "#46039f"
             ],
             [
              0.2222222222222222,
              "#7201a8"
             ],
             [
              0.3333333333333333,
              "#9c179e"
             ],
             [
              0.4444444444444444,
              "#bd3786"
             ],
             [
              0.5555555555555556,
              "#d8576b"
             ],
             [
              0.6666666666666666,
              "#ed7953"
             ],
             [
              0.7777777777777778,
              "#fb9f3a"
             ],
             [
              0.8888888888888888,
              "#fdca26"
             ],
             [
              1,
              "#f0f921"
             ]
            ],
            "type": "heatmap"
           }
          ],
          "heatmapgl": [
           {
            "colorbar": {
             "outlinewidth": 0,
             "ticks": ""
            },
            "colorscale": [
             [
              0,
              "#0d0887"
             ],
             [
              0.1111111111111111,
              "#46039f"
             ],
             [
              0.2222222222222222,
              "#7201a8"
             ],
             [
              0.3333333333333333,
              "#9c179e"
             ],
             [
              0.4444444444444444,
              "#bd3786"
             ],
             [
              0.5555555555555556,
              "#d8576b"
             ],
             [
              0.6666666666666666,
              "#ed7953"
             ],
             [
              0.7777777777777778,
              "#fb9f3a"
             ],
             [
              0.8888888888888888,
              "#fdca26"
             ],
             [
              1,
              "#f0f921"
             ]
            ],
            "type": "heatmapgl"
           }
          ],
          "histogram": [
           {
            "marker": {
             "pattern": {
              "fillmode": "overlay",
              "size": 10,
              "solidity": 0.2
             }
            },
            "type": "histogram"
           }
          ],
          "histogram2d": [
           {
            "colorbar": {
             "outlinewidth": 0,
             "ticks": ""
            },
            "colorscale": [
             [
              0,
              "#0d0887"
             ],
             [
              0.1111111111111111,
              "#46039f"
             ],
             [
              0.2222222222222222,
              "#7201a8"
             ],
             [
              0.3333333333333333,
              "#9c179e"
             ],
             [
              0.4444444444444444,
              "#bd3786"
             ],
             [
              0.5555555555555556,
              "#d8576b"
             ],
             [
              0.6666666666666666,
              "#ed7953"
             ],
             [
              0.7777777777777778,
              "#fb9f3a"
             ],
             [
              0.8888888888888888,
              "#fdca26"
             ],
             [
              1,
              "#f0f921"
             ]
            ],
            "type": "histogram2d"
           }
          ],
          "histogram2dcontour": [
           {
            "colorbar": {
             "outlinewidth": 0,
             "ticks": ""
            },
            "colorscale": [
             [
              0,
              "#0d0887"
             ],
             [
              0.1111111111111111,
              "#46039f"
             ],
             [
              0.2222222222222222,
              "#7201a8"
             ],
             [
              0.3333333333333333,
              "#9c179e"
             ],
             [
              0.4444444444444444,
              "#bd3786"
             ],
             [
              0.5555555555555556,
              "#d8576b"
             ],
             [
              0.6666666666666666,
              "#ed7953"
             ],
             [
              0.7777777777777778,
              "#fb9f3a"
             ],
             [
              0.8888888888888888,
              "#fdca26"
             ],
             [
              1,
              "#f0f921"
             ]
            ],
            "type": "histogram2dcontour"
           }
          ],
          "mesh3d": [
           {
            "colorbar": {
             "outlinewidth": 0,
             "ticks": ""
            },
            "type": "mesh3d"
           }
          ],
          "parcoords": [
           {
            "line": {
             "colorbar": {
              "outlinewidth": 0,
              "ticks": ""
             }
            },
            "type": "parcoords"
           }
          ],
          "pie": [
           {
            "automargin": true,
            "type": "pie"
           }
          ],
          "scatter": [
           {
            "marker": {
             "colorbar": {
              "outlinewidth": 0,
              "ticks": ""
             }
            },
            "type": "scatter"
           }
          ],
          "scatter3d": [
           {
            "line": {
             "colorbar": {
              "outlinewidth": 0,
              "ticks": ""
             }
            },
            "marker": {
             "colorbar": {
              "outlinewidth": 0,
              "ticks": ""
             }
            },
            "type": "scatter3d"
           }
          ],
          "scattercarpet": [
           {
            "marker": {
             "colorbar": {
              "outlinewidth": 0,
              "ticks": ""
             }
            },
            "type": "scattercarpet"
           }
          ],
          "scattergeo": [
           {
            "marker": {
             "colorbar": {
              "outlinewidth": 0,
              "ticks": ""
             }
            },
            "type": "scattergeo"
           }
          ],
          "scattergl": [
           {
            "marker": {
             "colorbar": {
              "outlinewidth": 0,
              "ticks": ""
             }
            },
            "type": "scattergl"
           }
          ],
          "scattermapbox": [
           {
            "marker": {
             "colorbar": {
              "outlinewidth": 0,
              "ticks": ""
             }
            },
            "type": "scattermapbox"
           }
          ],
          "scatterpolar": [
           {
            "marker": {
             "colorbar": {
              "outlinewidth": 0,
              "ticks": ""
             }
            },
            "type": "scatterpolar"
           }
          ],
          "scatterpolargl": [
           {
            "marker": {
             "colorbar": {
              "outlinewidth": 0,
              "ticks": ""
             }
            },
            "type": "scatterpolargl"
           }
          ],
          "scatterternary": [
           {
            "marker": {
             "colorbar": {
              "outlinewidth": 0,
              "ticks": ""
             }
            },
            "type": "scatterternary"
           }
          ],
          "surface": [
           {
            "colorbar": {
             "outlinewidth": 0,
             "ticks": ""
            },
            "colorscale": [
             [
              0,
              "#0d0887"
             ],
             [
              0.1111111111111111,
              "#46039f"
             ],
             [
              0.2222222222222222,
              "#7201a8"
             ],
             [
              0.3333333333333333,
              "#9c179e"
             ],
             [
              0.4444444444444444,
              "#bd3786"
             ],
             [
              0.5555555555555556,
              "#d8576b"
             ],
             [
              0.6666666666666666,
              "#ed7953"
             ],
             [
              0.7777777777777778,
              "#fb9f3a"
             ],
             [
              0.8888888888888888,
              "#fdca26"
             ],
             [
              1,
              "#f0f921"
             ]
            ],
            "type": "surface"
           }
          ],
          "table": [
           {
            "cells": {
             "fill": {
              "color": "#EBF0F8"
             },
             "line": {
              "color": "white"
             }
            },
            "header": {
             "fill": {
              "color": "#C8D4E3"
             },
             "line": {
              "color": "white"
             }
            },
            "type": "table"
           }
          ]
         },
         "layout": {
          "annotationdefaults": {
           "arrowcolor": "#2a3f5f",
           "arrowhead": 0,
           "arrowwidth": 1
          },
          "autotypenumbers": "strict",
          "coloraxis": {
           "colorbar": {
            "outlinewidth": 0,
            "ticks": ""
           }
          },
          "colorscale": {
           "diverging": [
            [
             0,
             "#8e0152"
            ],
            [
             0.1,
             "#c51b7d"
            ],
            [
             0.2,
             "#de77ae"
            ],
            [
             0.3,
             "#f1b6da"
            ],
            [
             0.4,
             "#fde0ef"
            ],
            [
             0.5,
             "#f7f7f7"
            ],
            [
             0.6,
             "#e6f5d0"
            ],
            [
             0.7,
             "#b8e186"
            ],
            [
             0.8,
             "#7fbc41"
            ],
            [
             0.9,
             "#4d9221"
            ],
            [
             1,
             "#276419"
            ]
           ],
           "sequential": [
            [
             0,
             "#0d0887"
            ],
            [
             0.1111111111111111,
             "#46039f"
            ],
            [
             0.2222222222222222,
             "#7201a8"
            ],
            [
             0.3333333333333333,
             "#9c179e"
            ],
            [
             0.4444444444444444,
             "#bd3786"
            ],
            [
             0.5555555555555556,
             "#d8576b"
            ],
            [
             0.6666666666666666,
             "#ed7953"
            ],
            [
             0.7777777777777778,
             "#fb9f3a"
            ],
            [
             0.8888888888888888,
             "#fdca26"
            ],
            [
             1,
             "#f0f921"
            ]
           ],
           "sequentialminus": [
            [
             0,
             "#0d0887"
            ],
            [
             0.1111111111111111,
             "#46039f"
            ],
            [
             0.2222222222222222,
             "#7201a8"
            ],
            [
             0.3333333333333333,
             "#9c179e"
            ],
            [
             0.4444444444444444,
             "#bd3786"
            ],
            [
             0.5555555555555556,
             "#d8576b"
            ],
            [
             0.6666666666666666,
             "#ed7953"
            ],
            [
             0.7777777777777778,
             "#fb9f3a"
            ],
            [
             0.8888888888888888,
             "#fdca26"
            ],
            [
             1,
             "#f0f921"
            ]
           ]
          },
          "colorway": [
           "#636efa",
           "#EF553B",
           "#00cc96",
           "#ab63fa",
           "#FFA15A",
           "#19d3f3",
           "#FF6692",
           "#B6E880",
           "#FF97FF",
           "#FECB52"
          ],
          "font": {
           "color": "#2a3f5f"
          },
          "geo": {
           "bgcolor": "white",
           "lakecolor": "white",
           "landcolor": "#E5ECF6",
           "showlakes": true,
           "showland": true,
           "subunitcolor": "white"
          },
          "hoverlabel": {
           "align": "left"
          },
          "hovermode": "closest",
          "mapbox": {
           "style": "light"
          },
          "paper_bgcolor": "white",
          "plot_bgcolor": "#E5ECF6",
          "polar": {
           "angularaxis": {
            "gridcolor": "white",
            "linecolor": "white",
            "ticks": ""
           },
           "bgcolor": "#E5ECF6",
           "radialaxis": {
            "gridcolor": "white",
            "linecolor": "white",
            "ticks": ""
           }
          },
          "scene": {
           "xaxis": {
            "backgroundcolor": "#E5ECF6",
            "gridcolor": "white",
            "gridwidth": 2,
            "linecolor": "white",
            "showbackground": true,
            "ticks": "",
            "zerolinecolor": "white"
           },
           "yaxis": {
            "backgroundcolor": "#E5ECF6",
            "gridcolor": "white",
            "gridwidth": 2,
            "linecolor": "white",
            "showbackground": true,
            "ticks": "",
            "zerolinecolor": "white"
           },
           "zaxis": {
            "backgroundcolor": "#E5ECF6",
            "gridcolor": "white",
            "gridwidth": 2,
            "linecolor": "white",
            "showbackground": true,
            "ticks": "",
            "zerolinecolor": "white"
           }
          },
          "shapedefaults": {
           "line": {
            "color": "#2a3f5f"
           }
          },
          "ternary": {
           "aaxis": {
            "gridcolor": "white",
            "linecolor": "white",
            "ticks": ""
           },
           "baxis": {
            "gridcolor": "white",
            "linecolor": "white",
            "ticks": ""
           },
           "bgcolor": "#E5ECF6",
           "caxis": {
            "gridcolor": "white",
            "linecolor": "white",
            "ticks": ""
           }
          },
          "title": {
           "x": 0.05
          },
          "xaxis": {
           "automargin": true,
           "gridcolor": "white",
           "linecolor": "white",
           "ticks": "",
           "title": {
            "standoff": 15
           },
           "zerolinecolor": "white",
           "zerolinewidth": 2
          },
          "yaxis": {
           "automargin": true,
           "gridcolor": "white",
           "linecolor": "white",
           "ticks": "",
           "title": {
            "standoff": 15
           },
           "zerolinecolor": "white",
           "zerolinewidth": 2
          }
         }
        },
        "title": {
         "text": "Sprachen pro Genre"
        },
        "xaxis": {
         "anchor": "y",
         "categoryarray": [
          "post-rock",
          "deutsch rap",
          "rap",
          "pop",
          "hip hop",
          "schlager",
          "indie",
          "deutschrap",
          "hip-hop",
          "ambient",
          null,
          "rock",
          "pop rock",
          "karneval",
          "punk rock",
          "reggae",
          "new wave",
          "[]",
          "emo",
          "pornorap",
          "electro",
          "ndw",
          "dubstep",
          "party",
          "metal",
          "deutschrock",
          "swing",
          "gothic",
          "instrumental",
          "cloud rap"
         ],
         "categoryorder": "array",
         "domain": [
          0,
          1
         ],
         "title": {
          "text": "genre"
         }
        },
        "yaxis": {
         "anchor": "x",
         "domain": [
          0,
          1
         ],
         "title": {
          "text": "Anzahl"
         }
        }
       }
      }
     },
     "metadata": {},
     "output_type": "display_data"
    }
   ],
   "source": [
    "genre_languages_count = non_ger_df.explode('languages').groupby(['genre', 'languages']).size().reset_index(name='count')\n",
    "\n",
    "fig = px.bar(genre_languages_count, x='genre', y='count', color='languages', title='Sprachen pro Genre',\n",
    "             category_orders={'genre': df['genre'].unique()},\n",
    "             labels={'count': 'Anzahl'})\n",
    "fig.show()\n",
    "fig.write_html(\"../images/language_per_genre.html\")"
   ]
  },
  {
   "attachments": {},
   "cell_type": "markdown",
   "metadata": {},
   "source": [
    "Zu erkennen ist, dass die Genres in Richtung Hip-Hop und Rap einen hohen Fremdsprachenanteil haben. Überraschenderweise liegt der Anteil der Fremdsprachen im genre Schlager relativ weit oben. Desweiteren sollen die am häufigsten auftauchenden Sprachen dargestellt werden."
   ]
  },
  {
   "cell_type": "code",
   "execution_count": 126,
   "metadata": {},
   "outputs": [
    {
     "data": {
      "image/png": "[encoded data removed]",
      "text/plain": [
       "<Figure size 720x432 with 1 Axes>"
      ]
     },
     "metadata": {},
     "output_type": "display_data"
    }
   ],
   "source": [
    "import seaborn as sns\n",
    "import matplotlib.pyplot as plt\n",
    "\n",
    "# Zählen der häufigsten Sprachen pro Genre\n",
    "top_languages = non_ger_df['languages'].explode().value_counts().nlargest(10)\n",
    "\n",
    "# Visualisierung\n",
    "plt.figure(figsize=(10, 6))\n",
    "sns.barplot(x=top_languages.index, y=top_languages.values, palette='viridis')\n",
    "plt.title('Top 10 häufigste Sprachen')\n",
    "plt.xlabel('Sprachen')\n",
    "plt.ylabel('Anzahl')\n",
    "plt.show()"
   ]
  },
  {
   "cell_type": "code",
   "execution_count": 128,
   "metadata": {},
   "outputs": [
    {
     "data": {
      "application/vnd.plotly.v1+json": {
       "config": {
        "plotlyServerURL": "https://plot.ly"
       },
       "data": [
        {
         "labels": [
          "en",
          "af",
          "id",
          "so",
          "nl",
          "fr",
          "sv",
          "tl",
          "da",
          "no"
         ],
         "type": "pie",
         "values": [
          3416,
          2071,
          1339,
          1191,
          1111,
          1030,
          1024,
          919,
          778,
          745
         ]
        }
       ],
       "layout": {
        "template": {
         "data": {
          "bar": [
           {
            "error_x": {
             "color": "#2a3f5f"
            },
            "error_y": {
             "color": "#2a3f5f"
            },
            "marker": {
             "line": {
              "color": "#E5ECF6",
              "width": 0.5
             },
             "pattern": {
              "fillmode": "overlay",
              "size": 10,
              "solidity": 0.2
             }
            },
            "type": "bar"
           }
          ],
          "barpolar": [
           {
            "marker": {
             "line": {
              "color": "#E5ECF6",
              "width": 0.5
             },
             "pattern": {
              "fillmode": "overlay",
              "size": 10,
              "solidity": 0.2
             }
            },
            "type": "barpolar"
           }
          ],
          "carpet": [
           {
            "aaxis": {
             "endlinecolor": "#2a3f5f",
             "gridcolor": "white",
             "linecolor": "white",
             "minorgridcolor": "white",
             "startlinecolor": "#2a3f5f"
            },
            "baxis": {
             "endlinecolor": "#2a3f5f",
             "gridcolor": "white",
             "linecolor": "white",
             "minorgridcolor": "white",
             "startlinecolor": "#2a3f5f"
            },
            "type": "carpet"
           }
          ],
          "choropleth": [
           {
            "colorbar": {
             "outlinewidth": 0,
             "ticks": ""
            },
            "type": "choropleth"
           }
          ],
          "contour": [
           {
            "colorbar": {
             "outlinewidth": 0,
             "ticks": ""
            },
            "colorscale": [
             [
              0,
              "#0d0887"
             ],
             [
              0.1111111111111111,
              "#46039f"
             ],
             [
              0.2222222222222222,
              "#7201a8"
             ],
             [
              0.3333333333333333,
              "#9c179e"
             ],
             [
              0.4444444444444444,
              "#bd3786"
             ],
             [
              0.5555555555555556,
              "#d8576b"
             ],
             [
              0.6666666666666666,
              "#ed7953"
             ],
             [
              0.7777777777777778,
              "#fb9f3a"
             ],
             [
              0.8888888888888888,
              "#fdca26"
             ],
             [
              1,
              "#f0f921"
             ]
            ],
            "type": "contour"
           }
          ],
          "contourcarpet": [
           {
            "colorbar": {
             "outlinewidth": 0,
             "ticks": ""
            },
            "type": "contourcarpet"
           }
          ],
          "heatmap": [
           {
            "colorbar": {
             "outlinewidth": 0,
             "ticks": ""
            },
            "colorscale": [
             [
              0,
              "#0d0887"
             ],
             [
              0.1111111111111111,
              "#46039f"
             ],
             [
              0.2222222222222222,
              "#7201a8"
             ],
             [
              0.3333333333333333,
              "#9c179e"
             ],
             [
              0.4444444444444444,
              "#bd3786"
             ],
             [
              0.5555555555555556,
              "#d8576b"
             ],
             [
              0.6666666666666666,
              "#ed7953"
             ],
             [
              0.7777777777777778,
              "#fb9f3a"
             ],
             [
              0.8888888888888888,
              "#fdca26"
             ],
             [
              1,
              "#f0f921"
             ]
            ],
            "type": "heatmap"
           }
          ],
          "heatmapgl": [
           {
            "colorbar": {
             "outlinewidth": 0,
             "ticks": ""
            },
            "colorscale": [
             [
              0,
              "#0d0887"
             ],
             [
              0.1111111111111111,
              "#46039f"
             ],
             [
              0.2222222222222222,
              "#7201a8"
             ],
             [
              0.3333333333333333,
              "#9c179e"
             ],
             [
              0.4444444444444444,
              "#bd3786"
             ],
             [
              0.5555555555555556,
              "#d8576b"
             ],
             [
              0.6666666666666666,
              "#ed7953"
             ],
             [
              0.7777777777777778,
              "#fb9f3a"
             ],
             [
              0.8888888888888888,
              "#fdca26"
             ],
             [
              1,
              "#f0f921"
             ]
            ],
            "type": "heatmapgl"
           }
          ],
          "histogram": [
           {
            "marker": {
             "pattern": {
              "fillmode": "overlay",
              "size": 10,
              "solidity": 0.2
             }
            },
            "type": "histogram"
           }
          ],
          "histogram2d": [
           {
            "colorbar": {
             "outlinewidth": 0,
             "ticks": ""
            },
            "colorscale": [
             [
              0,
              "#0d0887"
             ],
             [
              0.1111111111111111,
              "#46039f"
             ],
             [
              0.2222222222222222,
              "#7201a8"
             ],
             [
              0.3333333333333333,
              "#9c179e"
             ],
             [
              0.4444444444444444,
              "#bd3786"
             ],
             [
              0.5555555555555556,
              "#d8576b"
             ],
             [
              0.6666666666666666,
              "#ed7953"
             ],
             [
              0.7777777777777778,
              "#fb9f3a"
             ],
             [
              0.8888888888888888,
              "#fdca26"
             ],
             [
              1,
              "#f0f921"
             ]
            ],
            "type": "histogram2d"
           }
          ],
          "histogram2dcontour": [
           {
            "colorbar": {
             "outlinewidth": 0,
             "ticks": ""
            },
            "colorscale": [
             [
              0,
              "#0d0887"
             ],
             [
              0.1111111111111111,
              "#46039f"
             ],
             [
              0.2222222222222222,
              "#7201a8"
             ],
             [
              0.3333333333333333,
              "#9c179e"
             ],
             [
              0.4444444444444444,
              "#bd3786"
             ],
             [
              0.5555555555555556,
              "#d8576b"
             ],
             [
              0.6666666666666666,
              "#ed7953"
             ],
             [
              0.7777777777777778,
              "#fb9f3a"
             ],
             [
              0.8888888888888888,
              "#fdca26"
             ],
             [
              1,
              "#f0f921"
             ]
            ],
            "type": "histogram2dcontour"
           }
          ],
          "mesh3d": [
           {
            "colorbar": {
             "outlinewidth": 0,
             "ticks": ""
            },
            "type": "mesh3d"
           }
          ],
          "parcoords": [
           {
            "line": {
             "colorbar": {
              "outlinewidth": 0,
              "ticks": ""
             }
            },
            "type": "parcoords"
           }
          ],
          "pie": [
           {
            "automargin": true,
            "type": "pie"
           }
          ],
          "scatter": [
           {
            "marker": {
             "colorbar": {
              "outlinewidth": 0,
              "ticks": ""
             }
            },
            "type": "scatter"
           }
          ],
          "scatter3d": [
           {
            "line": {
             "colorbar": {
              "outlinewidth": 0,
              "ticks": ""
             }
            },
            "marker": {
             "colorbar": {
              "outlinewidth": 0,
              "ticks": ""
             }
            },
            "type": "scatter3d"
           }
          ],
          "scattercarpet": [
           {
            "marker": {
             "colorbar": {
              "outlinewidth": 0,
              "ticks": ""
             }
            },
            "type": "scattercarpet"
           }
          ],
          "scattergeo": [
           {
            "marker": {
             "colorbar": {
              "outlinewidth": 0,
              "ticks": ""
             }
            },
            "type": "scattergeo"
           }
          ],
          "scattergl": [
           {
            "marker": {
             "colorbar": {
              "outlinewidth": 0,
              "ticks": ""
             }
            },
            "type": "scattergl"
           }
          ],
          "scattermapbox": [
           {
            "marker": {
             "colorbar": {
              "outlinewidth": 0,
              "ticks": ""
             }
            },
            "type": "scattermapbox"
           }
          ],
          "scatterpolar": [
           {
            "marker": {
             "colorbar": {
              "outlinewidth": 0,
              "ticks": ""
             }
            },
            "type": "scatterpolar"
           }
          ],
          "scatterpolargl": [
           {
            "marker": {
             "colorbar": {
              "outlinewidth": 0,
              "ticks": ""
             }
            },
            "type": "scatterpolargl"
           }
          ],
          "scatterternary": [
           {
            "marker": {
             "colorbar": {
              "outlinewidth": 0,
              "ticks": ""
             }
            },
            "type": "scatterternary"
           }
          ],
          "surface": [
           {
            "colorbar": {
             "outlinewidth": 0,
             "ticks": ""
            },
            "colorscale": [
             [
              0,
              "#0d0887"
             ],
             [
              0.1111111111111111,
              "#46039f"
             ],
             [
              0.2222222222222222,
              "#7201a8"
             ],
             [
              0.3333333333333333,
              "#9c179e"
             ],
             [
              0.4444444444444444,
              "#bd3786"
             ],
             [
              0.5555555555555556,
              "#d8576b"
             ],
             [
              0.6666666666666666,
              "#ed7953"
             ],
             [
              0.7777777777777778,
              "#fb9f3a"
             ],
             [
              0.8888888888888888,
              "#fdca26"
             ],
             [
              1,
              "#f0f921"
             ]
            ],
            "type": "surface"
           }
          ],
          "table": [
           {
            "cells": {
             "fill": {
              "color": "#EBF0F8"
             },
             "line": {
              "color": "white"
             }
            },
            "header": {
             "fill": {
              "color": "#C8D4E3"
             },
             "line": {
              "color": "white"
             }
            },
            "type": "table"
           }
          ]
         },
         "layout": {
          "annotationdefaults": {
           "arrowcolor": "#2a3f5f",
           "arrowhead": 0,
           "arrowwidth": 1
          },
          "autotypenumbers": "strict",
          "coloraxis": {
           "colorbar": {
            "outlinewidth": 0,
            "ticks": ""
           }
          },
          "colorscale": {
           "diverging": [
            [
             0,
             "#8e0152"
            ],
            [
             0.1,
             "#c51b7d"
            ],
            [
             0.2,
             "#de77ae"
            ],
            [
             0.3,
             "#f1b6da"
            ],
            [
             0.4,
             "#fde0ef"
            ],
            [
             0.5,
             "#f7f7f7"
            ],
            [
             0.6,
             "#e6f5d0"
            ],
            [
             0.7,
             "#b8e186"
            ],
            [
             0.8,
             "#7fbc41"
            ],
            [
             0.9,
             "#4d9221"
            ],
            [
             1,
             "#276419"
            ]
           ],
           "sequential": [
            [
             0,
             "#0d0887"
            ],
            [
             0.1111111111111111,
             "#46039f"
            ],
            [
             0.2222222222222222,
             "#7201a8"
            ],
            [
             0.3333333333333333,
             "#9c179e"
            ],
            [
             0.4444444444444444,
             "#bd3786"
            ],
            [
             0.5555555555555556,
             "#d8576b"
            ],
            [
             0.6666666666666666,
             "#ed7953"
            ],
            [
             0.7777777777777778,
             "#fb9f3a"
            ],
            [
             0.8888888888888888,
             "#fdca26"
            ],
            [
             1,
             "#f0f921"
            ]
           ],
           "sequentialminus": [
            [
             0,
             "#0d0887"
            ],
            [
             0.1111111111111111,
             "#46039f"
            ],
            [
             0.2222222222222222,
             "#7201a8"
            ],
            [
             0.3333333333333333,
             "#9c179e"
            ],
            [
             0.4444444444444444,
             "#bd3786"
            ],
            [
             0.5555555555555556,
             "#d8576b"
            ],
            [
             0.6666666666666666,
             "#ed7953"
            ],
            [
             0.7777777777777778,
             "#fb9f3a"
            ],
            [
             0.8888888888888888,
             "#fdca26"
            ],
            [
             1,
             "#f0f921"
            ]
           ]
          },
          "colorway": [
           "#636efa",
           "#EF553B",
           "#00cc96",
           "#ab63fa",
           "#FFA15A",
           "#19d3f3",
           "#FF6692",
           "#B6E880",
           "#FF97FF",
           "#FECB52"
          ],
          "font": {
           "color": "#2a3f5f"
          },
          "geo": {
           "bgcolor": "white",
           "lakecolor": "white",
           "landcolor": "#E5ECF6",
           "showlakes": true,
           "showland": true,
           "subunitcolor": "white"
          },
          "hoverlabel": {
           "align": "left"
          },
          "hovermode": "closest",
          "mapbox": {
           "style": "light"
          },
          "paper_bgcolor": "white",
          "plot_bgcolor": "#E5ECF6",
          "polar": {
           "angularaxis": {
            "gridcolor": "white",
            "linecolor": "white",
            "ticks": ""
           },
           "bgcolor": "#E5ECF6",
           "radialaxis": {
            "gridcolor": "white",
            "linecolor": "white",
            "ticks": ""
           }
          },
          "scene": {
           "xaxis": {
            "backgroundcolor": "#E5ECF6",
            "gridcolor": "white",
            "gridwidth": 2,
            "linecolor": "white",
            "showbackground": true,
            "ticks": "",
            "zerolinecolor": "white"
           },
           "yaxis": {
            "backgroundcolor": "#E5ECF6",
            "gridcolor": "white",
            "gridwidth": 2,
            "linecolor": "white",
            "showbackground": true,
            "ticks": "",
            "zerolinecolor": "white"
           },
           "zaxis": {
            "backgroundcolor": "#E5ECF6",
            "gridcolor": "white",
            "gridwidth": 2,
            "linecolor": "white",
            "showbackground": true,
            "ticks": "",
            "zerolinecolor": "white"
           }
          },
          "shapedefaults": {
           "line": {
            "color": "#2a3f5f"
           }
          },
          "ternary": {
           "aaxis": {
            "gridcolor": "white",
            "linecolor": "white",
            "ticks": ""
           },
           "baxis": {
            "gridcolor": "white",
            "linecolor": "white",
            "ticks": ""
           },
           "bgcolor": "#E5ECF6",
           "caxis": {
            "gridcolor": "white",
            "linecolor": "white",
            "ticks": ""
           }
          },
          "title": {
           "x": 0.05
          },
          "xaxis": {
           "automargin": true,
           "gridcolor": "white",
           "linecolor": "white",
           "ticks": "",
           "title": {
            "standoff": 15
           },
           "zerolinecolor": "white",
           "zerolinewidth": 2
          },
          "yaxis": {
           "automargin": true,
           "gridcolor": "white",
           "linecolor": "white",
           "ticks": "",
           "title": {
            "standoff": 15
           },
           "zerolinecolor": "white",
           "zerolinewidth": 2
          }
         }
        },
        "title": {
         "text": "Top 10 vorkommende Sprachen in den deutschen Songs"
        }
       }
      }
     },
     "metadata": {},
     "output_type": "display_data"
    }
   ],
   "source": [
    "import plotly.graph_objs as go\n",
    "\n",
    "fig = go.Figure(data=[go.Pie(labels=top_languages.index, values=top_languages.values)])\n",
    "\n",
    "fig.update_layout(title='Top 10 vorkommende Sprachen in den deutschen Songs')\n",
    "fig.show()\n",
    "\n",
    "fig.write_html(\"../images/top_ten_languages_pie.html\")\n"
   ]
  },
  {
   "attachments": {},
   "cell_type": "markdown",
   "metadata": {},
   "source": [
    "### Welches genre weist die meisten englischen/türkischen Lyrics auf?"
   ]
  },
  {
   "cell_type": "code",
   "execution_count": 42,
   "metadata": {},
   "outputs": [
    {
     "name": "stdout",
     "output_type": "stream",
     "text": [
      "{'song_title': 'HOLLANDA', 'lyric_num': 3, 'languages': ['en', 'en'], 'scores': [0.999998993314676, 0.9999962463339593], 'genre': 'post-rock', 'lyrics': ['Because youre so sweet You lift up my heart And Ill fall back again But I dont know Quite\\u2005which\\u2005way to turn  The\\u2005light in your eyes Touches the sky', 'And you hold me As close as close\\u205fcan\\u205fbe  And\\u205fmanys the time That\\u205fyouve enchanted me I\\u205fwant you back Here in my loving arms For eternity   You look and you smile Warm me inside Cause youre so good to me A beauty Filled with the joys of spring']}\n",
      "{'song_title': 'MOON', 'lyric_num': 4, 'languages': ['en', 'en', 'en', 'en', 'en', 'en', 'en', 'en', 'en', 'en', 'en', 'en', 'en', 'en', 'en', 'en', 'en', 'en', 'en', 'en', 'en', 'en', 'en', 'en', 'en', 'en', 'en', 'en', 'en', 'en', 'en', 'en', 'en', 'en', 'en', 'en'], 'scores': [0.5714296019467853, 0.9999970011004629, 0.9999964108479886, 0.9999952002663299, 0.999994292495005, 0.9999967490840389, 0.9999961502002155, 0.999997563985771, 0.9999984359855943, 0.9999956104807186, 0.8571411377141948, 0.9999965625640901, 0.9999962625066348, 0.9999954094603787, 0.9999953197504412, 0.9999980380695135, 0.9999941701680608, 0.9999968393595986, 0.857139592956505, 0.9999972615867057, 0.8571371912086511, 0.9999962925658507, 0.9999958252136109, 0.7142845041626374, 0.9999959797548723, 0.9999970812175856, 0.9999973588966551, 0.7142841414918508, 0.8571413173284599, 0.9999953285757321, 0.9999985038600177, 0.9999950595482828, 0.9999945458100714, 0.9999953360242532, 0.9999978080529494, 0.857139836083866], 'genre': 'post-rock', 'lyrics': ['Liquid Swords  GZA  Actual .', 'Only Built  Cuban Linx  Raekwon  .', 'Enter the WuTang  Chambers  WuTang Clan  .', 'Death Certificate  Ice Cube  .', 'The Infamous  Mobb Deep  .', 'Stress The Extinction Agenda  Organized Konfusion  .', 'The Low End Theory  A Tribe Called Quest  .', 'Whut Thee Album  Redman  .', 'It Takes a Nation of Millions to Hold Us Back  Public Enemy  .', 'AmeriKKKas Most Wanted  Ice Cube  .', 'Ironman  Ghostface Killah  .', 'The Sun Rises in the East  Jeru the Damaja  .  ', 'Midnight Marauders  A Tribe Called Quest  .', 'Resurrection  Common  .', 'The Chronic  Dr. Dre  .', 'The Diary  Scarface  .', 'Reasonable Doubt  JayZ  .', 'The Pharcyde  The Pharcyde  .', 'The Eminem Show  Eminem  .', 'Fear of a Black Planet  Public Enemy  .', 'Mos Def  Talib Kweli are Black Star  Black Star  .', 'Me Against the World  Pac  .', 'To Pimp a Butterfly  Kendrick Lamar  .', 'Southernplayalisticadillacmuzik  OutKast  .', 'The College Dropout  Kanye West  .', 'The Roots  .', 'Like Water for Chocolate  Common  .', 'My Beautiful Dark Twisted Fantasy  Kanye West  .', 'Hell on Earth  Mobb Deep  .', 'Its Dark and Hell is Hot  DMX  .', 'The Black Album  JayZ  .', 'The Marshall Mathers LP  Eminem  .', 'WordLife   O.C.  .', 'Moment of Truth  Gang Starr  .', 'Breaking Atoms  Main Source  .', 'Goodfellas  Showbiz  A.G.  .']}\n",
      "{'song_title': 'KILLA', 'lyric_num': 5, 'languages': ['en'], 'scores': [0.9999964226873523], 'genre': 'post-rock', 'lyrics': ['Yo, its that boy Denzel Curry Im finna do this for my niggas, mane Its the intro, nigga I hope yall enjoy, it nigga, ya know what Im saying This the King Remembered Underground Tape  to motherfuckin , my nigga Raider Klan is in this bitch, shoutout to SpaceGhostPurrp, my nigga Yall better like...']}\n",
      "{'song_title': 'ALL BLACK', 'lyric_num': 7, 'languages': ['en', 'en', 'en', 'en', 'en', 'en'], 'scores': [0.9999980909215443, 0.9999979621770184, 0.9999965520411371, 0.999996168877287, 0.7142852080222849, 0.9999987657183314], 'genre': 'post-rock', 'lyrics': ['Yo pls dont call me Im busy at the moment U may call the receptionist He will pass\\u2005the\\u2005call to me Chorus Started\\u2005from the bottom now we here All\\u2005my drip is invested in my head Lost my life now\\u205fIm\\u205ftryna\\u205fget it back Who\\u205fare u u\\u205flook like u drive a van Pretty deep cause you know Im kinda black  we were all oppressed Reminiscing alot of things about the past Money heist Im the man behind the mask Verse', 'Its a long journey of my life Long trips tryna bite now I show I get paid', 'No please dont pretend Im proud cause Im self made I survive when they set traps Long shots on my lane', 'No please dont pretend Repeat when they play mine Press skip when they play urs Drip drip nangutatakho', 'No trip Nangu Yanga U gon get shot When u trespass Do u get that Do u dig', 'that Do u know that on my part']}\n",
      "{'song_title': 'BABYLON', 'lyric_num': 9, 'languages': ['en', 'en', 'en', 'en', 'en', 'en', 'en', 'en', 'en', 'en'], 'scores': [0.9999970937597136, 0.9999974707142867, 0.9999949487825697, 0.9999956238506238, 0.9999941453824437, 0.999996494877395, 0.9999959362751297, 0.9999971988711668, 0.999995603474242, 0.9999947923723714], 'genre': 'post-rock', 'lyrics': ['Studio AlbumsThe Rolling Stones , UK  Englands Newest Hit Makers , US  X  , US The Rolling Stones No.  , UK  The Rolling Stones, Now , US Out of Our Heads  Decembers Children And Everybodys , US Aftermath Between the Buttons  Their Satanic Majesties Request  Beggars Banquet  Let It Bleed  Sticky Fingers  Exile on Main St  Goats Head Soup  Its Only Rock n Roll  Black and Blue  Some Girls  Emotional Rescue  Tattoo You  Undercover  Dirty Work  Steel Wheels  Voodoo Lounge  Bridges to Babylon  A Bigger Bang  Blue  Lonesome Live albums \\tGot Live', 'If You Want It  \\tGet Yer YaYas Out', 'The Rolling Stones in Concert  \\t', 'Still Life  \\tFlashpoint  \\tStripped  \\tThe Rolling Stones Rock and Roll Circus  \\t', 'No Security  \\tLive Licks  \\tShine a Light  \\tBrussels Affair Live   Some Girls Live in Texas   \\tHampton Coliseum Live   L.A. Friday Live   Live at the Checkerboard Lounge, Chicago   Live at the Tokyo Dome Live   Light the Fuse Live   Live at Leeds Live   Sweet Summer Sun  Marquee Club Live   Sticky Fingers Live  Havana MoonCompilation albums \\tBig Hits High Tide and Green Grass  \\tFlowers  \\tThrough the Past, Darkly Big Hits Vol.   \\t', 'Stone Age  Gimme Shelter  Hot Rocks   \\tMilestones  Rock n Rolling Stones  More Hot Rocks Big Hits  Fazed Cookies  \\tNo Stone Unturned  \\tMetamorphosis   Made in the Shade  Rolled Gold', 'The Very Best of the Rolling Stones  \\tGet Stoned  Greatest Hits  \\tTime Waits for No One  \\tSolid Rock  \\tSlow Rollers  \\tSucking in the Seventies  \\tStory of The Stones  \\tRewind   \\tSingles Collection', 'The London Years  \\tJump Back The Best of The Rolling Stones  \\tForty Licks  \\tRarities   \\tGRRR  \\tNo Stone Unturned Vol.   ', 'Box setsOriginal Master Recordings  The Rolling Stones   The Rolling Stones   ', 'You Get What You Need  The Rolling Stones In Mono Special reissuesSome Girls  Exile On Main St.']}\n",
      "{'song_title': 'MAKINA', 'lyric_num': 12, 'languages': ['en', 'en', 'en'], 'scores': [0.9999977206933583, 0.9999979887565349, 0.9999964136054302], 'genre': 'post-rock', 'lyrics': ['You say Im a free man but what does that mean To a social security number A grey suit as sharp as a new guillotine Bought and paid for while drugging us under Tell me what use is a citizens charter When blood is the ink for the new Magna Carta Scifi style weapons in feudal societies Fingers on buttons that twitch with anxiety Brought to our knees by the powers that maybe Dont care if humanity lives or it dies', 'But youre alright Jack, so you pulled up the ladder And hook, line and sinker, you swallowed their lies Now it seems that the truth is not easy to say Mouth stuffed with the goodies they sample Stripped by their mistresses, tied up and flayed Like pyedogs that would lead by example Not enough answers and cash payed for questions Waste paper baskets filled with good suggestions Show me a promise they made that has lasted Successes have fathers but failures a bastard Brought to our knees by the powers that maybe Dont care if humanity lives or it dies', 'But youre alright Jack, so you pulled up the ladder And hook, line and sinker, you swallowed their lies']}\n",
      "{'song_title': 'Push Push', 'lyric_num': 14, 'languages': ['en', 'en', 'en', 'en', 'en', 'en'], 'scores': [0.9999963484726351, 0.9999988322057312, 0.9999975774274285, 0.9999964204868783, 0.9999983695769648, 0.9999969946342598], 'genre': 'post-rock', 'lyrics': ['Ecstasy, thats how I feel you feel for me But loving you has only just begun like racing sun your way Youre so sure You seem to have the one like you by loving me Its not that nice', 'But freedom is the price to pay, to pay, to pay By  dont push, dont push me baby You and Ill be fine dont push, dont push me baby', 'Twenty years from now dont push, dont push me baby', 'We can see if we belong together By  dont push, dont push me baby Ill give you a sign dont push, dont push me baby', 'Oh maybe today  dont push, dont push me baby I might stay Id stay with you forever All things pass', 'And I was caught in the looking glass But why not try to make a lovely dream Strangers see their dreams come true Time will tell If I would fly on rocket ships to mars To milky ways of stars with you With you, with you']}\n",
      "{'song_title': 'Berlin', 'lyric_num': 18, 'languages': ['en', 'en', 'en', 'en', 'en', 'en', 'en', 'en', 'en', 'en', 'en', 'en', 'en', 'en', 'en'], 'scores': [0.999995792443732, 0.9999953077756141, 0.9999957315502974, 0.9999959817333468, 0.9999953077756141, 0.9999964343111238, 0.9999971833575192, 0.9999948564640933, 0.9999946077270223, 0.9999941887179101, 0.5720314470152076, 0.42857054728906446, 0.9999940206454071, 0.8571384398412933, 0.8571399082304559], 'genre': 'post-rock', 'lyrics': ['In Jannidis, Fotis u. a. Hrsg.', 'In Androutsopoulos, Jannis Hrsg.', 'Salaam, Mtume Rap as Art Some Thoughts on the Aesthetics of Rap.', 'Rap More Than Words.', 'In Androutsopoulos, Jannis Hrsg.', 'Werner, Florian Rapocalypse.', 'Diskographie Dilated Peoples The Platform, Capitol Records .', 'Kool Savas Aura, Essah Entertainment Groove Attack .', 'John Bello Story  Brainwash Edition, Optik Records Groove Attack .', 'Die John Bello Story, Optik Records Groove Attack .', 'KRS ONE D.I.G.I.T.A.L., Cleopatra HART .', 'Motrip Embryo, Urban Universal .', 'Olli Banjo Kopfdisco, Headrush Records Groove Attack, .', 'Westberlin Maskulin Hoes, Flows, Moneytos, Maskulin ManagementHome Recordings Put Da Needle To Da Records, .', 'Wood, Brent Understanding Rap as FolkPoetry.']}\n",
      "{'song_title': 'Immer noch 2', 'lyric_num': 19, 'languages': ['en', 'en', 'en', 'en', 'en', 'en', 'en', 'en', 'en', 'en', 'en', 'en', 'en'], 'scores': [0.7142843392238937, 0.9999976713318364, 0.999995965806334, 0.9999953241234649, 0.999995645472685, 0.999996145867085, 0.9999968925282516, 0.9999942143308402, 0.7431955445005901, 0.9999946947981325, 0.9999964796401402, 0.714282889375431, 0.8571390738404571], 'genre': 'post-rock', 'lyrics': ['Bestes VideoAli As  Hoodie x ChucksBTight  Nummer EinzCro  Hey GirlEko Fresh   WTF feat.', 'MassivEko Fresh   Gheddo Reloaded feat.', 'Beste KollaboEko Fresh  WTF feat.', 'MassivEko Fresh  Fettsackstyle feat.', 'Miss PlatnumInglebirds   Dosseposse feat.', 'Basstard, Eko Fresh, Tamas Trip   Twisted InsaneKool Savas  Limit feat.', 'Alex PrinceKool Savas  Intro feat.', 'FlerSilla  Wasser  Brot feat.', 'MoTrip.', 'UAntilopen Gang  OutlawsEdgar Wasser  Westcoast WEko  WTF feat.', 'MassivEko Fresh  Real HipHop feat.', 'Egoland  Fickt EuchEko Fresh  Hallus  Muffins feat.', 'KopfKool Savas  Summa SumarumOldboy  HyliaPTK  Die Bomber der Nation feat.']}\n",
      "{'song_title': 'Strasse im Blut', 'lyric_num': 21, 'languages': ['en', 'en'], 'scores': [0.7142843884622059, 0.7142843884622059], 'genre': 'post-rock', 'lyrics': ['hey Vergiss was', 'hey Vergiss was']}\n",
      "{'song_title': 'Ist okay', 'lyric_num': 26, 'languages': ['en', 'en'], 'scores': [0.9999970669049456, 0.9999971967164784], 'genre': 'post-rock', 'lyrics': ['Giving you my life to share Giving you my life to share Giving you my life to share Its all on me   ', 'here is my life']}\n",
      "{'song_title': 'Großstadtschakale', 'lyric_num': 32, 'languages': ['en', 'en', 'en', 'en', 'en', 'en', 'en', 'en'], 'scores': [0.8571410553688303, 0.7142856967432327, 0.8571404129922426, 0.99999435539351, 0.9999961132074774, 0.999996844943542, 0.7142826667146369, 0.5714263054717387], 'genre': 'post-rock', 'lyrics': ['Haftbefehl  Celo  Abdi  Parallelen United Remix  feat.', 'Various  Celo  Abdi  Parallelen United Remix  feat.', 'Various  Celo  Abdi  Was hat', 'V.A.   Veysel  Glamour Life feat.', 'Dino feat.', 'V.A.  Sido, Cro, MoTrip, Celo  Abdi, Prinz Pi, Afrob, Olli Banjo, Bartek, Teesy  Megaloh  Riskier Alles  Veysel  On Stage Remix feat.', 'Celo  Nimo  Nie wieder feat.', 'Abdi  Ufo  BLNFFM  MC Sol  Gangsta Gangsta   Magic  Schnell sein  Ajé  Black Bombay  Nimo  HypeCameoAuftritte   Eko Fresh  Still Menace feat.']}\n",
      "{'song_title': 'Tiger', 'lyric_num': 37, 'languages': ['en', 'en', 'en', 'en', 'en', 'en', 'en'], 'scores': [0.9999962585719286, 0.9999954483206971, 0.9999974297904556, 0.9999968994990103, 0.9999970743012232, 0.999995456903086, 0.9999951807146393], 'genre': 'post-rock', 'lyrics': ['April Stevens and Nino Tempo are brother and sister, Carol  Antonino Tempio.', 'Nino wrote Teach Me Tiger in , it was released the first time on single and on album in  April Stevens Teach Me Tiger Teach me tiger I would kiss you..', 'But teach me first, teach me what to do..', 'Touch me tiger when im close to you', 'I know that you could love me to But show me first, show me what to do This is the first love, that I have ever known What must I do to make you my wery own..  ', 'Teach me tiger and I will teeease you', 'wa wa wah All of my love I will give to you But teach me TIGER.. or Ill teach you Ooh.. tiger .. tiigeeR.. tigrrrR..']}\n",
      "{'song_title': 'Sandsack', 'lyric_num': 39, 'languages': ['en', 'en', 'en', 'en', 'en', 'en', 'en', 'en', 'en', 'en', 'en', 'en', 'en', 'en', 'en', 'en', 'en', 'en', 'en', 'en', 'en', 'en'], 'scores': [0.9999969018183972, 0.9999978675954488, 0.9999968092720837, 0.9999966491374185, 0.9999991214211471, 0.9999973623167869, 0.9999965866517075, 0.9999958059174181, 0.9999971426306998, 0.9999980420952482, 0.9999943763563892, 0.9999980224504667, 0.999995959743891, 0.9999963239728871, 0.9999955473374994, 0.9999970304034265, 0.9999965316998415, 0.7142843512406395, 0.9999971925986253, 0.9999968300904213, 0.999996610521895, 0.9999977323767579], 'genre': 'post-rock', 'lyrics': ['ASPIRIN  Felix Hoffman a pill is making  To cure you if your head is aching BRA  Mary Jacobs made the perfect gift  To give the ladies an uplift.', 'CD  James Russell said scratchy records  they really annoy me  So to eliminate them  ', 'He invented the CD.', 'It took hours the heat a kettle on the fire  ', 'So they invented one much quicker  heated by a wire  FRIDGE  ', 'The inventor one fears  waited  years GPS  Sat.', 'Youll not get lost with me  Perhaps youll end up n the sea.', 'INFERNAL COMBUSTION ENGINE  Etienne Lenoir  The greatest polluter of all time  by far LAPTOP  Bill Moggride now has gone insane  he left his laptop on the train.', 'MICROWAVE OVEN  Peter Spencer discovered it by mistake  what a terrible mistake to make NINTENDO GAMEBOY  ', 'Its my contention  boyhood has been  sacrificed to this gross invention.', 'PAPER CLIP  ', 'Lest your papers loose should slip  Secure them with a paper clip.', 'QUERTY KEYBOARD   Latham Scholes was not heretical  ', 'He thought it was more functional than alphabetical RUBBER BANDS  Stephen Perry made a sketch  Of a band of rubber  with a massive stretch.', 'For all BOY SCOUTS such bliss  An Army Knife  thats Swiss.', 'TV  Logie Baird  thought children should be seen  As well as heard.', 'They keep you cool  they keep you dry  Try not to poke yours in my eye.', 'VACUUM CLEANER  Hubert Booth  my Granddads mucker  ', 'He proved he really was no sucker.', 'The unicycle was replaced  we bicycles on two wheels raced.', 'In time we all required more  so most folk drive around on four.', 'Bill Sandback lost his trousers on a trip  To make them more secure  he then invented him  a zip.']}\n",
      "{'song_title': 'Medusa', 'lyric_num': 40, 'languages': ['en', 'en', 'en', 'en', 'en', 'en', 'en', 'en', 'en', 'en', 'en', 'en', 'en', 'en', 'en', 'en', 'en', 'en'], 'scores': [0.9999987888012479, 0.9999982845425679, 0.9999983498525995, 0.8571403739078632, 0.8571396964174145, 0.9999942560337278, 0.9999962682202106, 0.9999960851290076, 0.9999989449153055, 0.9999946245183949, 0.999996011802559, 0.9999985363183194, 0.9999961664080975, 0.9999967030042629, 0.9999971106327232, 0.8571398379805486, 0.5714269417351028, 0.9999966981412909], 'genre': 'post-rock', 'lyrics': ['A suspicion, a doubt, a jealousy grew in my mind, which turned the hairs on my head to filthy snakes as though my thoughts hissed and spat on my scalp.', 'My brides breath soured, stank in the grey bags of my lungs.', 'Im foul mouthed now, foul tongued, yellow fanged.', 'There are bullet tears in my eyes.', 'Are you terrified Be terrified.', 'Its you I love, perfect man, Greek God, my own', 'but I know youll go, betray me, stray from home.', 'So better by for me if you were stone.', 'I glanced at a buzzing bee, a dull grey pebble fell to the ground.', 'I glanced at a singing bird, a handful of dusty gravel spattered down.', 'I looked at a ginger cat, a housebrick shattered a bowl of milk.', 'I looked at a snuffling pig, a boulder rolled in a heap of shit.', 'I stared in the mirror.', 'Love gone bad showed me a Gorgon.', 'Fire spewed from the mouth of a mountain.', 'And here you come with a shield for a heart and a sword for a tongue and your girls, your girls.', 'Wasnt I beautiful', 'Wasnt I fragrant and young Look at me now.']}\n",
      "{'song_title': '2050', 'lyric_num': 41, 'languages': ['en', 'en', 'en', 'en', 'en', 'en', 'en', 'en', 'en', 'en'], 'scores': [0.999997789727325, 0.9999972905015411, 0.9999957889258575, 0.9999983106832995, 0.9999967456948338, 0.9999969072931527, 0.9999946694085786, 0.9999947159725717, 0.9999981119027372, 0.9999975564622777], 'genre': 'post-rock', 'lyrics': ['yeah baby its your anthem', 'oh yeah  Said Im sorry for what weve done so many years', 'Said that weve being doing it Say being fools so many days of our lives Listen say Some of us dont mean to do it I can admit I was wrong', 'Yeah Ill say Said Im apologizing for stupidness Apologizing for unequal rights Apologizing for dogs Thats why I want you to listen while I say it  Said Im so sorry for what we have done to you Said Im so sorry for what we have done to you For being DOGs  ', 'For all of our lives  Help me out here say  ', 'See I remember the days when man was doin things Like leaving they woman at home to go out to see another woman and maybe another man too', 'Sometimes it get rough in your life and we never act like were there we dont even act like we care', 'Say Im apologizing for  for  cause that was part of me', 'And nothing else I can see', 'But baby Im apologizing for all you dogs Im apologizing for when we didnt come home Im apologizing for when we every abuse Im apologizing for when we listen ladies your anthem']}\n",
      "{'song_title': 'Bye Bye', 'lyric_num': 43, 'languages': ['en', 'en', 'en'], 'scores': [0.9999977423804094, 0.9999955211377706, 0.7142819041536604], 'genre': 'post-rock', 'lyrics': ['This is a list of all Finlands entries for the Eurovision Song Contest.', 'Here are some notes for you to understand the page Songs that ended up winning the Eurovision Song Contest are written in bold Songs that have been withdrawn, disqualified, or didnt make it to the Eurovision Song Contest for other reasons are written in italics When a year is crossed out, it means Finland did not participate in the contests Käärijä  Cha Cha Cha  The Rasmus Jezebel  Blind Channel Dark Side  ', 'Sebastian Rejman Look Away  Saara Aalto  Monsters  Norma John Blackbird  Sandhja Sing It Away  Pеrtti Kurikan Nimipäivät  Aina mun pitää  Softengine  Something Better  Krista Siegfrieds  Marry Me  ']}\n",
      "{'song_title': 'Moshpit', 'lyric_num': 45, 'languages': ['en'], 'scores': [0.7142846241205926], 'genre': 'post-rock', 'lyrics': ['ONE OK ROCK  Viva Violent Fellow 美しきモッシュピット Kanji 一音下げのギターの音が心地良く 鼓膜から心臓へと響き足に伝わる キックが鼓動と共に体中を揺らす 挟まれて高い音スネアがまぶた落とす Never happen again What were doing with you all Viva violent fellow Viva violent fellow 奏でる音と共に体中を揺らせ Were going']}\n",
      "{'song_title': 'IT WAS ALL A DREAM', 'lyric_num': 52, 'languages': ['en'], 'scores': [0.9999982143435311], 'genre': 'deutsch rap', 'lyrics': ['It was all a dream']}\n",
      "{'song_title': 'WO WARST DU', 'lyric_num': 60, 'languages': ['en'], 'scores': [0.5714292197041491], 'genre': 'deutsch rap', 'lyrics': ['Wo warst du']}\n",
      "{'song_title': 'Money over Bitches', 'lyric_num': 97, 'languages': ['en'], 'scores': [0.7142844254185229], 'genre': 'deutsch rap', 'lyrics': ['Und so hab ich es dann nach oben geschafft  Meine Regel Nummer eins, bleibt Money over bitches, money over bitches, money over bitches Alles was ich will Money over bitches, money over bitches, money over bitches Seit dem ersten Tag Money over bitches, money over bitches, money over bitches Wir denken alle gleich Money over bitches, money over bitches, money over bitches']}\n",
      "{'song_title': 'So stell ich mir das vor', 'lyric_num': 99, 'languages': ['en'], 'scores': [0.5714277859845098], 'genre': 'deutsch rap', 'lyrics': ['Lambo Aventador was Bitches nackt im']}\n",
      "{'song_title': 'Hustla', 'lyric_num': 120, 'languages': ['en', 'en'], 'scores': [0.9999969611773136, 0.9999969611773136], 'genre': 'deutsch rap', 'lyrics': ['yeah Im a hustler, Im a, Im a hustler', 'yeah Im a hustler, Im a, Im a hustler']}\n",
      "{'song_title': 'Crackcity', 'lyric_num': 153, 'languages': ['en'], 'scores': [0.9999957846258737], 'genre': 'deutsch rap', 'lyrics': ['ich hab Is aus Crackcity, Crackcity, Crackcity Ich komm aus Crackcity, Crackcity, Crackcity']}\n",
      "{'song_title': 'Cringe Shit', 'lyric_num': 183, 'languages': ['en'], 'scores': [0.9999955480025365], 'genre': 'rap', 'lyrics': ['Cringe Shit']}\n",
      "{'song_title': 'IKEA', 'lyric_num': 201, 'languages': ['en'], 'scores': [0.8571379085199267], 'genre': 'rap', 'lyrics': ['cool']}\n",
      "{'song_title': 'Akk & Feel It', 'lyric_num': 221, 'languages': ['en', 'en', 'en', 'en', 'en', 'en'], 'scores': [0.9999980174290501, 0.9999973127260127, 0.9999945233921707, 0.9999950193160166, 0.999997458204951, 0.9999974927990278], 'genre': 'rap', 'lyrics': ['EhYo Captain Jack EhYo Captain Jack Bring me back to the railroad track Bring me back to the railroad track  Ich mach den lieben', 'Feel It Rythm AKK n', 'Feel It coming on', 'It Rythm AKK n Feel It coming on Ohohohuhyeah', 'Another one bites the dust Ohohuhyeah', 'Another one bites the dust']}\n",
      "{'song_title': 'Stone Is My Pillow', 'lyric_num': 223, 'languages': ['en'], 'scores': [0.8571400228578029], 'genre': 'rap', 'lyrics': ['Stone is my pillow Stone is my pillow Aber son Aparillo Bruder, Sky is the Roof Mama Mikey macht gut Eine Schleife für']}\n",
      "{'song_title': 'Letzte Zeit', 'lyric_num': 236, 'languages': ['en'], 'scores': [0.8571395689767933], 'genre': 'rap', 'lyrics': ['Brr , wir sind fly']}\n",
      "{'song_title': 'Baby du riechst', 'lyric_num': 272, 'languages': ['en', 'en'], 'scores': [0.8571399514269761, 0.8571399514269761], 'genre': 'rap', 'lyrics': ['Hey, Baby, du riechst manchmal', 'Hey, Baby, du riechst manchmal']}\n",
      "{'song_title': 'Jump Mutant Jump!', 'lyric_num': 276, 'languages': ['en', 'en'], 'scores': [0.9999962009149217, 0.9999959213578521], 'genre': 'rap', 'lyrics': ['Hey Hey Hey Hey Hey Hey', 'Ausrasten Hey Hey Hey Hey Hey Hey Ausrasten']}\n",
      "{'song_title': 'Dark Side of Life', 'lyric_num': 307, 'languages': ['en', 'en', 'en'], 'scores': [0.9999970545068388, 0.9999970545068388, 0.9999975243063475], 'genre': 'rap', 'lyrics': ['This is the Dark Side of Life Life  ', 'This is the Dark Side of Life Life  ', 'This is the Dark Side of Life The Life  Dark Side of Life']}\n",
      "{'song_title': 'Reppscheiss', 'lyric_num': 339, 'languages': ['en'], 'scores': [0.9999952609812889], 'genre': 'rap', 'lyrics': ['Hurensohn und Blood ist der Crips Crip Crip Crip Crip Crip  ']}\n",
      "{'song_title': 'Hoodwatcher Intro', 'lyric_num': 341, 'languages': ['en'], 'scores': [0.9999951322801861], 'genre': 'rap', 'lyrics': ['Ey Jau, Tripplemix, Hoodwatcher Shit, Pottsound, Mikroleadas Lifestyle Shit, alta Beatboxin Shit, Slax Shit, Whem Im']}\n",
      "{'song_title': 'Joorayniss (Uranus Shit)', 'lyric_num': 343, 'languages': ['en'], 'scores': [0.9999953264998171], 'genre': 'rap', 'lyrics': ['Show me, your anus Come closer Your anus Come closer Your anus Come closer']}\n",
      "{'song_title': 'Keiner hat gesagt, dass es leicht wird', 'lyric_num': 346, 'languages': ['en'], 'scores': [0.9999955552833455], 'genre': 'rap', 'lyrics': ['I can get what I want  ']}\n",
      "{'song_title': 'Beatboxin Shit', 'lyric_num': 352, 'languages': ['en'], 'scores': [0.9999960229224059], 'genre': 'rap', 'lyrics': ['Yeah  Come on, its the first day of the rest of my life Tony, verkackst du Kriegst du Kopf ab Machst du']}\n",
      "{'song_title': 'Hier sind wir Alle', 'lyric_num': 360, 'languages': ['en'], 'scores': [0.9999930697980246], 'genre': 'pop', 'lyrics': ['Wir\\u205fAlle Here we are Here\\u205fwe all are Oh,\\u205fwe are  ']}\n",
      "{'song_title': 'Bye bye bye', 'lyric_num': 369, 'languages': ['en'], 'scores': [0.8571387362603888], 'genre': 'pop', 'lyrics': ['Bye, bye, bye Ich werd dich vermissen Bye, bye, bye']}\n",
      "{'song_title': 'Body Is Boss', 'lyric_num': 377, 'languages': ['en'], 'scores': [0.9999964556839006], 'genre': 'pop', 'lyrics': ['Body is Boss, Body is Boss Body is Boss, Body is Boss, Boss,']}\n",
      "{'song_title': 'Ich und Elaine (Akkustik Version)', 'lyric_num': 394, 'languages': ['en', 'en'], 'scores': [0.8571392761104524, 0.9999970781099125], 'genre': 'pop', 'lyrics': ['Ei Im the blue', 'and shes the sky']}\n",
      "{'song_title': 'Da stehst Du', 'lyric_num': 400, 'languages': ['en'], 'scores': [0.999998084272889], 'genre': 'pop', 'lyrics': ['Im in love with you Im in love with you']}\n",
      "{'song_title': 'So schön', 'lyric_num': 406, 'languages': ['en'], 'scores': [0.9999982686033371], 'genre': 'hip hop', 'lyrics': ['I want to send this particular song out to all of the ladies in the house tonight  Wenn eure Mundwinkel hoch geht Dann ist die Welt wieder so schön Und dann ist alles, was ist und']}\n",
      "{'song_title': 'Rambo No. 5', 'lyric_num': 407, 'languages': ['en'], 'scores': [0.7142826091199218], 'genre': 'hip hop', 'lyrics': ['hell ist']}\n",
      "{'song_title': 'Geh’ Bitte', 'lyric_num': 447, 'languages': ['en'], 'scores': [0.9999952069073796], 'genre': 'hip hop', 'lyrics': ['Oh no, no, no, noBringst mir Spaß, wie Star Wars in Mono Hast soviel Stil,']}\n",
      "{'song_title': 'Mikro In Der Hand', 'lyric_num': 449, 'languages': ['en'], 'scores': [0.9999961981350457], 'genre': 'hip hop', 'lyrics': ['oh Baby,']}\n",
      "{'song_title': 'McFly', 'lyric_num': 452, 'languages': ['en', 'en', 'en'], 'scores': [0.9999960242757212, 0.9999975623760361, 0.9999969792093037], 'genre': 'hip hop', 'lyrics': ['Oh everyone This is Radiostation AB', 'We hope you all enjoy the program and your flash so far', 'And since its all about what Im rappin today We want to  what happens next To Toni Little Diddle the farmer and McFly Peace']}\n",
      "{'song_title': 'Boogie Down Brown', 'lyric_num': 453, 'languages': ['en'], 'scores': [0.8571385805946803], 'genre': 'hip hop', 'lyrics': ['Ich wusste früh ich wollt kein Deutscher sein spät war mir klar Meine Fahne weht auch nicht in Afrika  x Boogie Down Brown Boogie Down Brown Boogie Down Boogie Down Brown Boogie Down Brown Boogie Down Boogie Down Brown Boogie Down Brown Boogie Down Boogie Down Brown']}\n",
      "{'song_title': 'Natural Born Chillas', 'lyric_num': 454, 'languages': ['en', 'en', 'en', 'en', 'en'], 'scores': [0.8571379085199267, 0.9999961593679534, 0.9999961593679534, 0.9999961593679534, 0.9999961593679534], 'genre': 'hip hop', 'lyrics': ['cool', 'Hey Im a natural born Chilla', 'Hey Im a natural born Chilla', 'Hey Im a natural born Chilla', 'Hey Im a natural born Chilla']}\n",
      "{'song_title': 'Denkmal aus Eisen', 'lyric_num': 492, 'languages': ['en'], 'scores': [0.8571411537678135], 'genre': 'pop', 'lyrics': ['tut weh']}\n",
      "{'song_title': 'Mein Leben ohne mich', 'lyric_num': 499, 'languages': ['en'], 'scores': [0.9999976057805003], 'genre': 'pop', 'lyrics': ['oft']}\n",
      "{'song_title': 'Zuhause', 'lyric_num': 519, 'languages': ['en', 'en', 'en'], 'scores': [0.9999941940065772, 0.9999964603888876, 0.9999980160605526], 'genre': 'pop', 'lyrics': ['And I find some peace of mind,', 'Ruthless, they want my heart tonight Imma a run these lines til my insides shine', 'Zu Hause ist da wo deine Freunde sind Hier ist die Liebe umsonst  Feel my mighty blow, let those clouds lay low As I land with my feet on the ground and go go go My destiny I need to know Chasing dreams which way will the wind blow Watching days but I cant let go Just want to watch your kingdom grow No one thing as I run up rainbows My pain grows, only the insane know how to dance on the moon as the wolf cry moans In the middle of the darkness I found my zone You, my love, are never alone, even when youre so very far away from home Zeig mir, wie lange wir noch hier stehen Bis wir endlich so weit sind, dass wir uns in die Augen sehen Zeig mir, dass es anders geht Lass uns zusammen singen bis uns die']}\n",
      "{'song_title': 'I Need a Face', 'lyric_num': 546, 'languages': ['en'], 'scores': [0.9999953929659479], 'genre': 'rap', 'lyrics': ['Botoxmasken  I need a face right now That looks like I care I need a face right now Something nice to wear Creating lovely masks to hide That Im dead inside, woo']}\n",
      "{'song_title': 'Silver Medal (Akustik)', 'lyric_num': 620, 'languages': ['en'], 'scores': [0.9999963163921923], 'genre': 'rap', 'lyrics': ['Darling  Girl, you are my cute pie Until I get a new try Im singing in the moonlight Youre my silver medal']}\n",
      "{'song_title': 'Irgendwas mit Schmetterling', 'lyric_num': 634, 'languages': ['en'], 'scores': [0.999996917983394], 'genre': 'rap', 'lyrics': ['You must remember this A kiss is just a kiss, a sigh is just a sigh Ich bin ein Gee']}\n",
      "{'song_title': 'Reallife 1.6', 'lyric_num': 656, 'languages': ['en', 'en'], 'scores': [0.5714272106519378, 0.8571385047084392], 'genre': 'rap', 'lyrics': ['Psst hey, hey du.. Wie wärs mit ner Runde CounterStrike Nee, ich bin clean, ich hatte mal son...', 'ICH WILL NICHT WARTEN Jetzt ist happy fragging, come out and play, schmock Da hilft weder Wallhack noch Aimbot, du Gaylord Du bist ein WinningTeam Joiner doch']}\n",
      "{'song_title': 'Es gibt einen Ort', 'lyric_num': 659, 'languages': ['en'], 'scores': [0.42857124962444515], 'genre': 'rap', 'lyrics': ['Triple Penis ..']}\n",
      "{'song_title': '...tod (Outro)', 'lyric_num': 663, 'languages': ['en', 'en', 'en', 'en'], 'scores': [0.9999969688655109, 0.9999969688655109, 0.9999969688655109, 0.9999967615801748], 'genre': 'rap', 'lyrics': ['and I start to wonder Lord can you hear me Give me just the answer straight cause I dont want the sense to fade', 'and I start to wonder Lord can you hear me Give me just the answer straight cause I dont want the sense to fade', 'and I start to wonder Lord can you hear me Give me just the answer straight cause I dont want the sense to fade', 'and I start to wonder Lord can you hear me']}\n",
      "{'song_title': 'Mutterficksong', 'lyric_num': 675, 'languages': ['en'], 'scores': [0.7142828078670775], 'genre': 'rap', 'lyrics': ['Yo yo yo yo motherfucker Yo yo yo yo motherfucker Yo yo yo yo motherfucker Motherfucker motherfucker yo yo Yo yo yo yo motherfucker Yo yo yo yo motherfucker Yo yo yo yo motherfucker Motherfucker motherfucker yo yo']}\n",
      "{'song_title': 'Am Tag', 'lyric_num': 679, 'languages': ['en'], 'scores': [0.5714262754700656], 'genre': 'rap', 'lyrics': ['Poloshirt Was du heute rappst']}\n",
      "{'song_title': 'Singing in the Rain (Intro)', 'lyric_num': 690, 'languages': ['en'], 'scores': [0.5714273470953677], 'genre': 'rap', 'lyrics': ['so, denn wir sind Terrorist Haha Ey, ey, ey, ey...']}\n",
      "{'song_title': 'Terroristen gewinnen', 'lyric_num': 705, 'languages': ['en'], 'scores': [0.571428107615743], 'genre': 'rap', 'lyrics': ['muss sein Ich bin tickle tight']}\n",
      "{'song_title': 'Never walk alone', 'lyric_num': 714, 'languages': ['en', 'en'], 'scores': [0.5714285133310756, 0.9999959294866938], 'genre': 'schlager', 'lyrics': ['Yeah  Wie soll ich ertragen Dass sich die Erde weiterdreht Als wüsste sie nicht, du bist fort Im dancin in silence No one else can hear this song Im still holdin on  And Ill never walk alone Cause you are there  ', 'Whenever Im fallin I need that higher love weve found Whenever my worlds upside down In meinen Träumen Bist du mir']}\n",
      "{'song_title': 'Du hast mich tausendmal belogen (Remix 2013)', 'lyric_num': 793, 'languages': ['en', 'en'], 'scores': [0.42856930079996824, 0.42856930079996824], 'genre': 'schlager', 'lyrics': ['mal belogen Du hast mich .', 'mal belogen Du hast mich .']}\n",
      "{'song_title': 'Fremder Planet', 'lyric_num': 864, 'languages': ['en'], 'scores': [0.5714262823111711], 'genre': 'pop', 'lyrics': ['Du hast mir so gefehlt']}\n",
      "{'song_title': 'Die One-Man-Show', 'lyric_num': 890, 'languages': ['en', 'en'], 'scores': [0.9999968194891338, 0.9999958132144807], 'genre': 'schlager', 'lyrics': ['On a six string and I know piano Me and I, on my own This is me from top to toe Born and raised natural from the radio to the Olympic Stadium', 'This is me from top to toe Born and raised natural Here I am and there I go Are you ready There I go  ']}\n",
      "{'song_title': 'Is schon still uman See', 'lyric_num': 894, 'languages': ['en'], 'scores': [0.5714268612759151], 'genre': 'schlager', 'lyrics': ['Is schon still uman See, hear de Ruadar schlogn Und an Vogl im']}\n",
      "{'song_title': 'Traditional Clothing', 'lyric_num': 901, 'languages': ['en', 'en', 'en'], 'scores': [0.8571375691493484, 0.9999966160049342, 0.8571386893621782], 'genre': 'schlager', 'lyrics': ['Its our Fashion Es is unsa Gwaund es is a stikl dahoam ausm eiganan laund traditional clothing ausm', 'Its our fashion Es is unsa Gwaund es is a stickl dahoam ausm eiganan Laund Traditional Clothing ausm Heimatlaund Cool', 'Its our fashion Es is unsa Gwaund Es is a Stickl dahoam ausm eiganan Laund Trafitional Clothing im']}\n",
      "{'song_title': 'Die Beichte', 'lyric_num': 907, 'languages': ['en'], 'scores': [0.42857235032809227], 'genre': 'schlager', 'lyrics': ['Die Hintermoser Kattl is a Saupattl gwesen I hob vuell aber sowas']}\n",
      "{'song_title': 'Was für ein Tag', 'lyric_num': 920, 'languages': ['en'], 'scores': [0.5714301755312304], 'genre': 'schlager', 'lyrics': ['an neichn tog']}\n",
      "{'song_title': 'Heimweh nach dir', 'lyric_num': 927, 'languages': ['en'], 'scores': [0.42856926859143796], 'genre': 'schlager', 'lyrics': ['Hier und do frog i mi, ob du a so wie']}\n",
      "{'song_title': 'Die nächste Liebe meines Lebens', 'lyric_num': 1046, 'languages': ['en'], 'scores': [0.9999972755190859], 'genre': 'pop', 'lyrics': ['Hey hey hey']}\n",
      "{'song_title': 'DIY CEO', 'lyric_num': 1117, 'languages': ['en'], 'scores': [0.571425627994082], 'genre': 'deutschrap', 'lyrics': ['ah Gold DIYCEO Wouh']}\n",
      "{'song_title': '10 von 10', 'lyric_num': 1121, 'languages': ['en', 'en', 'en'], 'scores': [0.9999972978157785, 0.9999961227100846, 0.5714267570116818], 'genre': 'deutschrap', 'lyrics': ['Is he the one that broke your heart', 'Yes, hes the one', 'Yeah Doch bin lieber privatinsolvent als Aprominent Ausnahmetalent oder']}\n",
      "{'song_title': 'Sí claro', 'lyric_num': 1122, 'languages': ['en'], 'scores': [0.5714292468813182], 'genre': 'deutschrap', 'lyrics': ['Endeffekt Duh, duh, duh, duh Ist mir das scheißegal, ich will nur meinen Rentencheck Cash, Cash, Cash Journalisten fragen, ob es um Erfolg geht Hmm Und ich sage Jawollfred Jawollfred Guck mal hier, ja, ganz schön viel Geld Das hast du nie Aber dafür mach ich die Stunts alle selbst Jaa  Sí, claro Sí, claro, sí, claro Sí, claro, ey Auf der Scholle mit Monokel und Cigarros Sí, claro Sí, claro, sí, claro Sí, claro, ey Immer Haare schön dank unserem Figaro  Sí, claro Sí, claro, sí, claro Sí, claro, ey Auf der Scholle mit Monokel und Cigarros Sí, claro Sí, claro, sí, claro Sí, claro, ey Halt die Fresse, bitte mach jetzt ma Piano']}\n",
      "{'song_title': 'Liebe Grüße', 'lyric_num': 1161, 'languages': ['en'], 'scores': [0.999994114150403], 'genre': 'deutschrap', 'lyrics': ['Club Du hast Spucke']}\n",
      "{'song_title': 'Stimmen aus dem Sumpf', 'lyric_num': 1173, 'languages': ['en'], 'scores': [0.9999978585270087], 'genre': 'deutschrap', 'lyrics': ['I, I follow I follow you']}\n",
      "{'song_title': 'Wir sind es', 'lyric_num': 1176, 'languages': ['en'], 'scores': [0.9999939517900194], 'genre': 'deutschrap', 'lyrics': ['Ne Cypher.']}\n",
      "{'song_title': 'Anti Alles Aktion', 'lyric_num': 1188, 'languages': ['en'], 'scores': [0.9999943759673203], 'genre': 'deutschrap', 'lyrics': ['Hey Hey Hey']}\n",
      "{'song_title': 'Doch in der Nacht', 'lyric_num': 1233, 'languages': ['en'], 'scores': [0.999994219004412], 'genre': 'hip-hop', 'lyrics': ['Ist']}\n",
      "{'song_title': 'Lotto', 'lyric_num': 1238, 'languages': ['en', 'en'], 'scores': [0.5714270311573532, 0.5714255393643949], 'genre': 'pop', 'lyrics': ['Ey Rakabambambambambam Ironix, baby, jaja  Deine Moves sind on fire Tanz, Habibi, nachts im Barrio Rakabombombom Wie du machst, mach so weiter Ja, Habibi, fahrn im Cabrio', 'im Lottototo Totototo, toto  Rakabambam, Baby, gib mir deinen Hotspot Fahren']}\n",
      "{'song_title': 'Baila Morena', 'lyric_num': 1251, 'languages': ['en', 'en'], 'scores': [0.5714265765738787, 0.5714265765738787], 'genre': 'pop', 'lyrics': ['Ah, morena', 'Ah, morena']}\n",
      "{'song_title': 'Policia', 'lyric_num': 1262, 'languages': ['en', 'en'], 'scores': [0.7142846712313166, 0.5714266839283544], 'genre': 'pop', 'lyrics': ['Wir sind drunk in love wie Beyoncé Das Spotlight blau, so wie Bombay Hier kommn wir nicht raus, Baby, no way Ein letztes Mal balln wie LeBron James eyey Bang, bang, bang die rrh Bottles up, Molotow auf Zivil Callen sie die Police ayee Dann call ich Cardi B  Ruf Policia, cia,  cia, wir kommen wieder Ruf Policia, cia,  cia, wir kommen wieder Policia cia, cia, cia Ruf Policia, cia,  cia, wir kommen wieder Policia  Ahh, yeahyeahyo yo SEK macht uns ne Lasershow brrt Sehen die', 'so wie LongTees Bang, bang, bang die Bottles up, Molotow auf Zivil']}\n",
      "{'song_title': 'Weit weg', 'lyric_num': 1281, 'languages': ['en'], 'scores': [0.5714269240061989], 'genre': 'pop', 'lyrics': ['eyy Du hebst das iPhone ab']}\n",
      "{'song_title': 'Yurio Hanma', 'lyric_num': 1305, 'languages': ['en'], 'scores': [0.8571397178618795], 'genre': 'ambient', 'lyrics': ['so wie Adel Tawil, yeah']}\n",
      "{'song_title': 'Jokergrinsen', 'lyric_num': 1309, 'languages': ['en'], 'scores': [0.5714278028837236], 'genre': 'ambient', 'lyrics': ['Popeye']}\n",
      "{'song_title': 'House Of Pain', 'lyric_num': 1319, 'languages': ['en'], 'scores': [0.9999968544505027], 'genre': 'ambient', 'lyrics': ['im House of Pain House of Pain']}\n",
      "{'song_title': 'Habibi', 'lyric_num': 1356, 'languages': ['en'], 'scores': [0.5714285059260661], 'genre': 'ambient', 'lyrics': ['Yeah, heute famer als Pavarotti Und steck Chicks in die Tasche wie Tamagotchis Du willst nackt, Baby, Stoff wie die Coconut Heute']}\n",
      "{'song_title': 'Gangsta', 'lyric_num': 1363, 'languages': ['en'], 'scores': [0.8571402760465658], 'genre': 'ambient', 'lyrics': ['Arme hoch  ']}\n",
      "{'song_title': 'EUPHORIA', 'lyric_num': 1375, 'languages': ['en', 'en', 'en', 'en', 'en', 'en', 'en', 'en'], 'scores': [0.999997444784724, 0.9999964372049656, 0.9999956786754265, 0.9999958467663973, 0.9999970220452128, 0.9999972847529366, 0.9999977003524319, 0.9999941704582606], 'genre': 'ambient', 'lyrics': ['Oh, I could never be for four Just somewhere to be alone I dont wanna be for', 'Yeah I dont wanna be for I mean, mm  Nowhere to hide, nowhere to run, I live life how supposed to People callin my phone right now, the same ones who would ghost you They dont know what I go through, they dont know what Im into Hidin all of my pain, hidin my scars, fightin my issues Hit this party, takin every fuckin drug to get me high Ive been feelin so low, Im only here to feel alive Im tryin not to think too much, its ten minutes til five Thinkin I should get some sleep, but its hard to еven try With these girls all in my room, all this alcohol I consumе All these people here at this party, dont know what the fuck Ive been through Im like, Fuck it though, if you pourin up, better pour me up one too', 'They say I trust too easily', 'and I fall in love too soon', 'But my little sister doin five months, my nephew need a new crib My momma callin me daily cause she worried bout how I live but Im at this party, Ive been smokin, Ive been drinkin Ive been stressin, dont know what the fuck Im thinkin, what the fuck I', 'Holdin onto my past, Im tryna from All these feelings inside me but Im still numb', 'All I need is a bottle to drink these feelings away Away If you tried talkin to me, its like Im not there Room full of people, I feel like I dont belong here', 'So you could go but I cant stay, cant stay']}\n",
      "{'song_title': 'FABIAN', 'lyric_num': 1376, 'languages': ['en', 'en', 'en', 'en'], 'scores': [0.9999968049431773, 0.9999956017305695, 0.9999945704514013, 0.9999951203447225], 'genre': 'ambient', 'lyrics': ['Amewu feat.', 'K.I.Z. feat.', 'Flo Mega  Echoers feat.', 'Marie Curry  WartenFabian Römer  StilleMoTrip  ']}\n",
      "{'song_title': 'Deborah', 'lyric_num': 1379, 'languages': ['en', 'en', 'en', 'en', 'en', 'en', 'en'], 'scores': [0.9999957580012218, 0.9999956910407144, 0.5714252552432596, 0.9999958148994401, 0.999995709515303, 0.9999965229170568, 0.9999970146234104], 'genre': 'ambient', 'lyrics': ['When he left Our souls ripped apart', 'I had to grow back the other half of myself He took my smile He stole my heart right from Right from my chest', 'And I just want', 'rest  God I need rest', 'Oh I need rest God I need rest', 'Oh I need rest  Guard your heart', 'For love is as strong as death Its jealousy endures Far after we take our last breath It flashes like fire The brightest of flames Many waters cant quench love Nor rivers can drown it']}\n",
      "{'song_title': 'Ariel', 'lyric_num': 1384, 'languages': ['en'], 'scores': [0.9999971591785636], 'genre': 'ambient', 'lyrics': ['Dont feed me with any more lies I hate them more than I love your eyes I have a hard time as it is dealing with the truth I love this so much if its real If its really true that love can heal You leave me shaking breathless on the floor And my hearts even pounding more and more Say that youll meet me there Show me around on the other side Cause if there is someone who will make it there it must be you Im afraid I can not be the one, the common guy with both feet on the ground I have a hard time as it is when I have to deal with sht like this... things I wouldnt miss']}\n",
      "{'song_title': 'Das Pimperium schlägt zurück', 'lyric_num': 1404, 'languages': ['en', 'en'], 'scores': [0.8571414315757926, 0.5714294147900687], 'genre': 'ambient', 'lyrics': ['Das ist Pimpulsiv Skinny Shef Timi Hendrix', 'Das ist   one more than the devil  Der Soundtrack fürs Bahnhofsklo, wir sind das']}\n",
      "{'song_title': 'Juice Part', 'lyric_num': 1405, 'languages': ['en', 'en'], 'scores': [0.9999973588714527, 0.9999964170701388], 'genre': 'ambient', 'lyrics': ['I got Ashes in my soup Mixes into goop Halal smores Shoopdewhoop Goin to hawaii So I can\\u2005hula\\u2005hoop My ashes spread\\u2005like a roller coaster Looptheloop Bridge Ash ash ash\\u2005ash Ashes in my tomato soup Hula hoop, goop, shoopde woop Loop the loop Ash ash ash ash Yuh yuh yuh, uhhuh Eskettit Chorus Ashes in my soup tomato Ashes in my soup tomato Ashes in my soup', 'tomato Ash ash ash ash Soup soup soup soup Aaaaaa Ashes in my soup tomato']}\n",
      "{'song_title': 'Neugierig (Skit)', 'lyric_num': 1409, 'languages': ['en'], 'scores': [0.5714264754083521], 'genre': 'ambient', 'lyrics': ['Yeah fuck']}\n",
      "{'song_title': 'Charly Matteï', 'lyric_num': 1416, 'languages': ['en'], 'scores': [0.9999958103082596], 'genre': 'ambient', 'lyrics': ['Twentytwo bullets  Charly Matteï']}\n",
      "{'song_title': 'Banana 2', 'lyric_num': 1433, 'languages': ['en'], 'scores': [0.9999940535221735], 'genre': 'deutschrap', 'lyrics': ['Come on.']}\n",
      "{'song_title': 'Bis ihr nicht mehr könnt', 'lyric_num': 1436, 'languages': ['en'], 'scores': [0.7142837605851169], 'genre': 'deutschrap', 'lyrics': ['das Mic solang ich Atem hab']}\n",
      "{'song_title': 'Fokus', 'lyric_num': 1442, 'languages': ['en', 'en', 'en'], 'scores': [0.9999977753771607, 0.9999976462071851, 0.9999964553480472], 'genre': 'deutschrap', 'lyrics': ['This aint no ordinary lifestyle that Im livin, no Might take a while to reply, baby, Im workin hard', 'I sacrificed all my time, no, I aint givin up If you aint came from the bottom, you gotta pick it up Ohh Tryna get right, ayy Everything gon be alright', 'Ohh Everything gon be alright Ohh Tryna get right, ayy Everything gon be alright']}\n"
     ]
    }
   ],
   "source": [
    "results = []\n",
    "count = 0\n",
    "\n",
    "for idx, row in df.iterrows():\n",
    "    # if count >= 100:\n",
    "    #     break\n",
    "    text = row['lyrics']\n",
    "    doc = nlp_en(text)\n",
    "    # englische Sätze\n",
    "    eng_sents = [sent for sent in doc.sents if sent._.language['language'] == 'en']\n",
    "    if len(eng_sents) > 0:\n",
    "        song_title = row['title']\n",
    "        lyric_num = idx\n",
    "        languages = []\n",
    "        scores = []\n",
    "        lyrics = []\n",
    "        for sent in eng_sents:\n",
    "            lang = sent._.language['language']\n",
    "            score = sent._.language['score']\n",
    "            # Wörter vom Spacy Vocab\n",
    "            words_in_sentence = [token.text.lower() for token in sent if token.text.lower() in words_en]\n",
    "            if words_in_sentence:\n",
    "                languages.append(lang)\n",
    "                scores.append(score)\n",
    "                lyrics.append(sent.text)\n",
    "        if len(languages) > 0:\n",
    "            # Ergebnisse ins dictionary speichern\n",
    "            result = {\n",
    "                'song_title': song_title,\n",
    "                'lyric_num': lyric_num,\n",
    "                'languages': languages,\n",
    "                'scores': scores,\n",
    "                'genre': row['genre'],\n",
    "                'lyrics': lyrics\n",
    "            }\n",
    "            results.append(result)\n",
    "            # print(result)\n",
    "            count += 1"
   ]
  },
  {
   "cell_type": "code",
   "execution_count": 129,
   "metadata": {},
   "outputs": [
    {
     "data": {
      "application/vnd.plotly.v1+json": {
       "config": {
        "plotlyServerURL": "https://plot.ly"
       },
       "data": [
        {
         "alignmentgroup": "True",
         "hovertemplate": "genre=%{x}<br>Anzahl=%{y}<extra></extra>",
         "legendgroup": "",
         "marker": {
          "color": "#636efa",
          "pattern": {
           "shape": ""
          }
         },
         "name": "",
         "offsetgroup": "",
         "orientation": "v",
         "showlegend": false,
         "textposition": "auto",
         "type": "bar",
         "x": [
          "ambient",
          "deutsch rap",
          "deutschrap",
          "hip hop",
          "hip-hop",
          "pop",
          "post-rock",
          "rap",
          "schlager"
         ],
         "xaxis": "x",
         "y": [
          13,
          6,
          10,
          7,
          1,
          14,
          18,
          23,
          8
         ],
         "yaxis": "y"
        }
       ],
       "layout": {
        "barmode": "relative",
        "legend": {
         "tracegroupgap": 0
        },
        "template": {
         "data": {
          "bar": [
           {
            "error_x": {
             "color": "#2a3f5f"
            },
            "error_y": {
             "color": "#2a3f5f"
            },
            "marker": {
             "line": {
              "color": "#E5ECF6",
              "width": 0.5
             },
             "pattern": {
              "fillmode": "overlay",
              "size": 10,
              "solidity": 0.2
             }
            },
            "type": "bar"
           }
          ],
          "barpolar": [
           {
            "marker": {
             "line": {
              "color": "#E5ECF6",
              "width": 0.5
             },
             "pattern": {
              "fillmode": "overlay",
              "size": 10,
              "solidity": 0.2
             }
            },
            "type": "barpolar"
           }
          ],
          "carpet": [
           {
            "aaxis": {
             "endlinecolor": "#2a3f5f",
             "gridcolor": "white",
             "linecolor": "white",
             "minorgridcolor": "white",
             "startlinecolor": "#2a3f5f"
            },
            "baxis": {
             "endlinecolor": "#2a3f5f",
             "gridcolor": "white",
             "linecolor": "white",
             "minorgridcolor": "white",
             "startlinecolor": "#2a3f5f"
            },
            "type": "carpet"
           }
          ],
          "choropleth": [
           {
            "colorbar": {
             "outlinewidth": 0,
             "ticks": ""
            },
            "type": "choropleth"
           }
          ],
          "contour": [
           {
            "colorbar": {
             "outlinewidth": 0,
             "ticks": ""
            },
            "colorscale": [
             [
              0,
              "#0d0887"
             ],
             [
              0.1111111111111111,
              "#46039f"
             ],
             [
              0.2222222222222222,
              "#7201a8"
             ],
             [
              0.3333333333333333,
              "#9c179e"
             ],
             [
              0.4444444444444444,
              "#bd3786"
             ],
             [
              0.5555555555555556,
              "#d8576b"
             ],
             [
              0.6666666666666666,
              "#ed7953"
             ],
             [
              0.7777777777777778,
              "#fb9f3a"
             ],
             [
              0.8888888888888888,
              "#fdca26"
             ],
             [
              1,
              "#f0f921"
             ]
            ],
            "type": "contour"
           }
          ],
          "contourcarpet": [
           {
            "colorbar": {
             "outlinewidth": 0,
             "ticks": ""
            },
            "type": "contourcarpet"
           }
          ],
          "heatmap": [
           {
            "colorbar": {
             "outlinewidth": 0,
             "ticks": ""
            },
            "colorscale": [
             [
              0,
              "#0d0887"
             ],
             [
              0.1111111111111111,
              "#46039f"
             ],
             [
              0.2222222222222222,
              "#7201a8"
             ],
             [
              0.3333333333333333,
              "#9c179e"
             ],
             [
              0.4444444444444444,
              "#bd3786"
             ],
             [
              0.5555555555555556,
              "#d8576b"
             ],
             [
              0.6666666666666666,
              "#ed7953"
             ],
             [
              0.7777777777777778,
              "#fb9f3a"
             ],
             [
              0.8888888888888888,
              "#fdca26"
             ],
             [
              1,
              "#f0f921"
             ]
            ],
            "type": "heatmap"
           }
          ],
          "heatmapgl": [
           {
            "colorbar": {
             "outlinewidth": 0,
             "ticks": ""
            },
            "colorscale": [
             [
              0,
              "#0d0887"
             ],
             [
              0.1111111111111111,
              "#46039f"
             ],
             [
              0.2222222222222222,
              "#7201a8"
             ],
             [
              0.3333333333333333,
              "#9c179e"
             ],
             [
              0.4444444444444444,
              "#bd3786"
             ],
             [
              0.5555555555555556,
              "#d8576b"
             ],
             [
              0.6666666666666666,
              "#ed7953"
             ],
             [
              0.7777777777777778,
              "#fb9f3a"
             ],
             [
              0.8888888888888888,
              "#fdca26"
             ],
             [
              1,
              "#f0f921"
             ]
            ],
            "type": "heatmapgl"
           }
          ],
          "histogram": [
           {
            "marker": {
             "pattern": {
              "fillmode": "overlay",
              "size": 10,
              "solidity": 0.2
             }
            },
            "type": "histogram"
           }
          ],
          "histogram2d": [
           {
            "colorbar": {
             "outlinewidth": 0,
             "ticks": ""
            },
            "colorscale": [
             [
              0,
              "#0d0887"
             ],
             [
              0.1111111111111111,
              "#46039f"
             ],
             [
              0.2222222222222222,
              "#7201a8"
             ],
             [
              0.3333333333333333,
              "#9c179e"
             ],
             [
              0.4444444444444444,
              "#bd3786"
             ],
             [
              0.5555555555555556,
              "#d8576b"
             ],
             [
              0.6666666666666666,
              "#ed7953"
             ],
             [
              0.7777777777777778,
              "#fb9f3a"
             ],
             [
              0.8888888888888888,
              "#fdca26"
             ],
             [
              1,
              "#f0f921"
             ]
            ],
            "type": "histogram2d"
           }
          ],
          "histogram2dcontour": [
           {
            "colorbar": {
             "outlinewidth": 0,
             "ticks": ""
            },
            "colorscale": [
             [
              0,
              "#0d0887"
             ],
             [
              0.1111111111111111,
              "#46039f"
             ],
             [
              0.2222222222222222,
              "#7201a8"
             ],
             [
              0.3333333333333333,
              "#9c179e"
             ],
             [
              0.4444444444444444,
              "#bd3786"
             ],
             [
              0.5555555555555556,
              "#d8576b"
             ],
             [
              0.6666666666666666,
              "#ed7953"
             ],
             [
              0.7777777777777778,
              "#fb9f3a"
             ],
             [
              0.8888888888888888,
              "#fdca26"
             ],
             [
              1,
              "#f0f921"
             ]
            ],
            "type": "histogram2dcontour"
           }
          ],
          "mesh3d": [
           {
            "colorbar": {
             "outlinewidth": 0,
             "ticks": ""
            },
            "type": "mesh3d"
           }
          ],
          "parcoords": [
           {
            "line": {
             "colorbar": {
              "outlinewidth": 0,
              "ticks": ""
             }
            },
            "type": "parcoords"
           }
          ],
          "pie": [
           {
            "automargin": true,
            "type": "pie"
           }
          ],
          "scatter": [
           {
            "marker": {
             "colorbar": {
              "outlinewidth": 0,
              "ticks": ""
             }
            },
            "type": "scatter"
           }
          ],
          "scatter3d": [
           {
            "line": {
             "colorbar": {
              "outlinewidth": 0,
              "ticks": ""
             }
            },
            "marker": {
             "colorbar": {
              "outlinewidth": 0,
              "ticks": ""
             }
            },
            "type": "scatter3d"
           }
          ],
          "scattercarpet": [
           {
            "marker": {
             "colorbar": {
              "outlinewidth": 0,
              "ticks": ""
             }
            },
            "type": "scattercarpet"
           }
          ],
          "scattergeo": [
           {
            "marker": {
             "colorbar": {
              "outlinewidth": 0,
              "ticks": ""
             }
            },
            "type": "scattergeo"
           }
          ],
          "scattergl": [
           {
            "marker": {
             "colorbar": {
              "outlinewidth": 0,
              "ticks": ""
             }
            },
            "type": "scattergl"
           }
          ],
          "scattermapbox": [
           {
            "marker": {
             "colorbar": {
              "outlinewidth": 0,
              "ticks": ""
             }
            },
            "type": "scattermapbox"
           }
          ],
          "scatterpolar": [
           {
            "marker": {
             "colorbar": {
              "outlinewidth": 0,
              "ticks": ""
             }
            },
            "type": "scatterpolar"
           }
          ],
          "scatterpolargl": [
           {
            "marker": {
             "colorbar": {
              "outlinewidth": 0,
              "ticks": ""
             }
            },
            "type": "scatterpolargl"
           }
          ],
          "scatterternary": [
           {
            "marker": {
             "colorbar": {
              "outlinewidth": 0,
              "ticks": ""
             }
            },
            "type": "scatterternary"
           }
          ],
          "surface": [
           {
            "colorbar": {
             "outlinewidth": 0,
             "ticks": ""
            },
            "colorscale": [
             [
              0,
              "#0d0887"
             ],
             [
              0.1111111111111111,
              "#46039f"
             ],
             [
              0.2222222222222222,
              "#7201a8"
             ],
             [
              0.3333333333333333,
              "#9c179e"
             ],
             [
              0.4444444444444444,
              "#bd3786"
             ],
             [
              0.5555555555555556,
              "#d8576b"
             ],
             [
              0.6666666666666666,
              "#ed7953"
             ],
             [
              0.7777777777777778,
              "#fb9f3a"
             ],
             [
              0.8888888888888888,
              "#fdca26"
             ],
             [
              1,
              "#f0f921"
             ]
            ],
            "type": "surface"
           }
          ],
          "table": [
           {
            "cells": {
             "fill": {
              "color": "#EBF0F8"
             },
             "line": {
              "color": "white"
             }
            },
            "header": {
             "fill": {
              "color": "#C8D4E3"
             },
             "line": {
              "color": "white"
             }
            },
            "type": "table"
           }
          ]
         },
         "layout": {
          "annotationdefaults": {
           "arrowcolor": "#2a3f5f",
           "arrowhead": 0,
           "arrowwidth": 1
          },
          "autotypenumbers": "strict",
          "coloraxis": {
           "colorbar": {
            "outlinewidth": 0,
            "ticks": ""
           }
          },
          "colorscale": {
           "diverging": [
            [
             0,
             "#8e0152"
            ],
            [
             0.1,
             "#c51b7d"
            ],
            [
             0.2,
             "#de77ae"
            ],
            [
             0.3,
             "#f1b6da"
            ],
            [
             0.4,
             "#fde0ef"
            ],
            [
             0.5,
             "#f7f7f7"
            ],
            [
             0.6,
             "#e6f5d0"
            ],
            [
             0.7,
             "#b8e186"
            ],
            [
             0.8,
             "#7fbc41"
            ],
            [
             0.9,
             "#4d9221"
            ],
            [
             1,
             "#276419"
            ]
           ],
           "sequential": [
            [
             0,
             "#0d0887"
            ],
            [
             0.1111111111111111,
             "#46039f"
            ],
            [
             0.2222222222222222,
             "#7201a8"
            ],
            [
             0.3333333333333333,
             "#9c179e"
            ],
            [
             0.4444444444444444,
             "#bd3786"
            ],
            [
             0.5555555555555556,
             "#d8576b"
            ],
            [
             0.6666666666666666,
             "#ed7953"
            ],
            [
             0.7777777777777778,
             "#fb9f3a"
            ],
            [
             0.8888888888888888,
             "#fdca26"
            ],
            [
             1,
             "#f0f921"
            ]
           ],
           "sequentialminus": [
            [
             0,
             "#0d0887"
            ],
            [
             0.1111111111111111,
             "#46039f"
            ],
            [
             0.2222222222222222,
             "#7201a8"
            ],
            [
             0.3333333333333333,
             "#9c179e"
            ],
            [
             0.4444444444444444,
             "#bd3786"
            ],
            [
             0.5555555555555556,
             "#d8576b"
            ],
            [
             0.6666666666666666,
             "#ed7953"
            ],
            [
             0.7777777777777778,
             "#fb9f3a"
            ],
            [
             0.8888888888888888,
             "#fdca26"
            ],
            [
             1,
             "#f0f921"
            ]
           ]
          },
          "colorway": [
           "#636efa",
           "#EF553B",
           "#00cc96",
           "#ab63fa",
           "#FFA15A",
           "#19d3f3",
           "#FF6692",
           "#B6E880",
           "#FF97FF",
           "#FECB52"
          ],
          "font": {
           "color": "#2a3f5f"
          },
          "geo": {
           "bgcolor": "white",
           "lakecolor": "white",
           "landcolor": "#E5ECF6",
           "showlakes": true,
           "showland": true,
           "subunitcolor": "white"
          },
          "hoverlabel": {
           "align": "left"
          },
          "hovermode": "closest",
          "mapbox": {
           "style": "light"
          },
          "paper_bgcolor": "white",
          "plot_bgcolor": "#E5ECF6",
          "polar": {
           "angularaxis": {
            "gridcolor": "white",
            "linecolor": "white",
            "ticks": ""
           },
           "bgcolor": "#E5ECF6",
           "radialaxis": {
            "gridcolor": "white",
            "linecolor": "white",
            "ticks": ""
           }
          },
          "scene": {
           "xaxis": {
            "backgroundcolor": "#E5ECF6",
            "gridcolor": "white",
            "gridwidth": 2,
            "linecolor": "white",
            "showbackground": true,
            "ticks": "",
            "zerolinecolor": "white"
           },
           "yaxis": {
            "backgroundcolor": "#E5ECF6",
            "gridcolor": "white",
            "gridwidth": 2,
            "linecolor": "white",
            "showbackground": true,
            "ticks": "",
            "zerolinecolor": "white"
           },
           "zaxis": {
            "backgroundcolor": "#E5ECF6",
            "gridcolor": "white",
            "gridwidth": 2,
            "linecolor": "white",
            "showbackground": true,
            "ticks": "",
            "zerolinecolor": "white"
           }
          },
          "shapedefaults": {
           "line": {
            "color": "#2a3f5f"
           }
          },
          "ternary": {
           "aaxis": {
            "gridcolor": "white",
            "linecolor": "white",
            "ticks": ""
           },
           "baxis": {
            "gridcolor": "white",
            "linecolor": "white",
            "ticks": ""
           },
           "bgcolor": "#E5ECF6",
           "caxis": {
            "gridcolor": "white",
            "linecolor": "white",
            "ticks": ""
           }
          },
          "title": {
           "x": 0.05
          },
          "xaxis": {
           "automargin": true,
           "gridcolor": "white",
           "linecolor": "white",
           "ticks": "",
           "title": {
            "standoff": 15
           },
           "zerolinecolor": "white",
           "zerolinewidth": 2
          },
          "yaxis": {
           "automargin": true,
           "gridcolor": "white",
           "linecolor": "white",
           "ticks": "",
           "title": {
            "standoff": 15
           },
           "zerolinecolor": "white",
           "zerolinewidth": 2
          }
         }
        },
        "title": {
         "text": "Verteilung der englischen Lyrics"
        },
        "xaxis": {
         "anchor": "y",
         "domain": [
          0,
          1
         ],
         "title": {
          "text": "genre"
         }
        },
        "yaxis": {
         "anchor": "x",
         "domain": [
          0,
          1
         ],
         "title": {
          "text": "Anzahl"
         }
        }
       }
      }
     },
     "metadata": {},
     "output_type": "display_data"
    }
   ],
   "source": [
    "eng_genre_count = pd.DataFrame(results).groupby(['genre']).size().reset_index(name='count')\n",
    "\n",
    "fig = px.bar(eng_genre_count, x='genre', y='count', title='Verteilung der englischen Lyrics',\n",
    "             labels={'count': 'Anzahl'})\n",
    "\n",
    "fig.show()\n",
    "\n",
    "fig.write_html(\"../images/eng_lyrics.html\")"
   ]
  },
  {
   "attachments": {},
   "cell_type": "markdown",
   "metadata": {},
   "source": [
    "Englischsprachige Lyrics sind vor allem in den genres Rap, Post-rock und Pop vertreten. Obwohl Deutsch Rap über 4.000 Songs im Datenset hat, mehr als Pop und Rap zusammen, und durchschnittlich die gleiche Lyriclänge zu Rap besitzt, fällt der englische Anteil deutlich geringer aus als bei Rap. Damit weist der Genre Rap die meisten englischen Lyrics auf.\n",
    "\n",
    "In dem Datenset wurden wiederrum weniger Songs mit türkischen Lyrics aufgefunden; die meisten wurden dem Genre Rock zugeteilt mit vier Songs. Deutschrap hat im zweiten Platz verglichen dazu nur zwei türkischsprachige Lyrics."
   ]
  },
  {
   "cell_type": "code",
   "execution_count": 14,
   "metadata": {},
   "outputs": [
    {
     "data": {
      "application/vnd.plotly.v1+json": {
       "config": {
        "plotlyServerURL": "https://plot.ly"
       },
       "data": [
        {
         "alignmentgroup": "True",
         "hovertemplate": "genre=%{x}<br>Anzahl=%{y}<extra></extra>",
         "legendgroup": "",
         "marker": {
          "color": "#636efa",
          "pattern": {
           "shape": ""
          }
         },
         "name": "",
         "offsetgroup": "",
         "orientation": "v",
         "showlegend": false,
         "textposition": "auto",
         "type": "bar",
         "x": [
          "deutschrap",
          "hip hop",
          "pop",
          "post-rock",
          "rap",
          "rock"
         ],
         "xaxis": "x",
         "y": [
          2,
          1,
          1,
          1,
          1,
          4
         ],
         "yaxis": "y"
        }
       ],
       "layout": {
        "barmode": "relative",
        "legend": {
         "tracegroupgap": 0
        },
        "template": {
         "data": {
          "bar": [
           {
            "error_x": {
             "color": "#2a3f5f"
            },
            "error_y": {
             "color": "#2a3f5f"
            },
            "marker": {
             "line": {
              "color": "#E5ECF6",
              "width": 0.5
             },
             "pattern": {
              "fillmode": "overlay",
              "size": 10,
              "solidity": 0.2
             }
            },
            "type": "bar"
           }
          ],
          "barpolar": [
           {
            "marker": {
             "line": {
              "color": "#E5ECF6",
              "width": 0.5
             },
             "pattern": {
              "fillmode": "overlay",
              "size": 10,
              "solidity": 0.2
             }
            },
            "type": "barpolar"
           }
          ],
          "carpet": [
           {
            "aaxis": {
             "endlinecolor": "#2a3f5f",
             "gridcolor": "white",
             "linecolor": "white",
             "minorgridcolor": "white",
             "startlinecolor": "#2a3f5f"
            },
            "baxis": {
             "endlinecolor": "#2a3f5f",
             "gridcolor": "white",
             "linecolor": "white",
             "minorgridcolor": "white",
             "startlinecolor": "#2a3f5f"
            },
            "type": "carpet"
           }
          ],
          "choropleth": [
           {
            "colorbar": {
             "outlinewidth": 0,
             "ticks": ""
            },
            "type": "choropleth"
           }
          ],
          "contour": [
           {
            "colorbar": {
             "outlinewidth": 0,
             "ticks": ""
            },
            "colorscale": [
             [
              0,
              "#0d0887"
             ],
             [
              0.1111111111111111,
              "#46039f"
             ],
             [
              0.2222222222222222,
              "#7201a8"
             ],
             [
              0.3333333333333333,
              "#9c179e"
             ],
             [
              0.4444444444444444,
              "#bd3786"
             ],
             [
              0.5555555555555556,
              "#d8576b"
             ],
             [
              0.6666666666666666,
              "#ed7953"
             ],
             [
              0.7777777777777778,
              "#fb9f3a"
             ],
             [
              0.8888888888888888,
              "#fdca26"
             ],
             [
              1,
              "#f0f921"
             ]
            ],
            "type": "contour"
           }
          ],
          "contourcarpet": [
           {
            "colorbar": {
             "outlinewidth": 0,
             "ticks": ""
            },
            "type": "contourcarpet"
           }
          ],
          "heatmap": [
           {
            "colorbar": {
             "outlinewidth": 0,
             "ticks": ""
            },
            "colorscale": [
             [
              0,
              "#0d0887"
             ],
             [
              0.1111111111111111,
              "#46039f"
             ],
             [
              0.2222222222222222,
              "#7201a8"
             ],
             [
              0.3333333333333333,
              "#9c179e"
             ],
             [
              0.4444444444444444,
              "#bd3786"
             ],
             [
              0.5555555555555556,
              "#d8576b"
             ],
             [
              0.6666666666666666,
              "#ed7953"
             ],
             [
              0.7777777777777778,
              "#fb9f3a"
             ],
             [
              0.8888888888888888,
              "#fdca26"
             ],
             [
              1,
              "#f0f921"
             ]
            ],
            "type": "heatmap"
           }
          ],
          "heatmapgl": [
           {
            "colorbar": {
             "outlinewidth": 0,
             "ticks": ""
            },
            "colorscale": [
             [
              0,
              "#0d0887"
             ],
             [
              0.1111111111111111,
              "#46039f"
             ],
             [
              0.2222222222222222,
              "#7201a8"
             ],
             [
              0.3333333333333333,
              "#9c179e"
             ],
             [
              0.4444444444444444,
              "#bd3786"
             ],
             [
              0.5555555555555556,
              "#d8576b"
             ],
             [
              0.6666666666666666,
              "#ed7953"
             ],
             [
              0.7777777777777778,
              "#fb9f3a"
             ],
             [
              0.8888888888888888,
              "#fdca26"
             ],
             [
              1,
              "#f0f921"
             ]
            ],
            "type": "heatmapgl"
           }
          ],
          "histogram": [
           {
            "marker": {
             "pattern": {
              "fillmode": "overlay",
              "size": 10,
              "solidity": 0.2
             }
            },
            "type": "histogram"
           }
          ],
          "histogram2d": [
           {
            "colorbar": {
             "outlinewidth": 0,
             "ticks": ""
            },
            "colorscale": [
             [
              0,
              "#0d0887"
             ],
             [
              0.1111111111111111,
              "#46039f"
             ],
             [
              0.2222222222222222,
              "#7201a8"
             ],
             [
              0.3333333333333333,
              "#9c179e"
             ],
             [
              0.4444444444444444,
              "#bd3786"
             ],
             [
              0.5555555555555556,
              "#d8576b"
             ],
             [
              0.6666666666666666,
              "#ed7953"
             ],
             [
              0.7777777777777778,
              "#fb9f3a"
             ],
             [
              0.8888888888888888,
              "#fdca26"
             ],
             [
              1,
              "#f0f921"
             ]
            ],
            "type": "histogram2d"
           }
          ],
          "histogram2dcontour": [
           {
            "colorbar": {
             "outlinewidth": 0,
             "ticks": ""
            },
            "colorscale": [
             [
              0,
              "#0d0887"
             ],
             [
              0.1111111111111111,
              "#46039f"
             ],
             [
              0.2222222222222222,
              "#7201a8"
             ],
             [
              0.3333333333333333,
              "#9c179e"
             ],
             [
              0.4444444444444444,
              "#bd3786"
             ],
             [
              0.5555555555555556,
              "#d8576b"
             ],
             [
              0.6666666666666666,
              "#ed7953"
             ],
             [
              0.7777777777777778,
              "#fb9f3a"
             ],
             [
              0.8888888888888888,
              "#fdca26"
             ],
             [
              1,
              "#f0f921"
             ]
            ],
            "type": "histogram2dcontour"
           }
          ],
          "mesh3d": [
           {
            "colorbar": {
             "outlinewidth": 0,
             "ticks": ""
            },
            "type": "mesh3d"
           }
          ],
          "parcoords": [
           {
            "line": {
             "colorbar": {
              "outlinewidth": 0,
              "ticks": ""
             }
            },
            "type": "parcoords"
           }
          ],
          "pie": [
           {
            "automargin": true,
            "type": "pie"
           }
          ],
          "scatter": [
           {
            "marker": {
             "colorbar": {
              "outlinewidth": 0,
              "ticks": ""
             }
            },
            "type": "scatter"
           }
          ],
          "scatter3d": [
           {
            "line": {
             "colorbar": {
              "outlinewidth": 0,
              "ticks": ""
             }
            },
            "marker": {
             "colorbar": {
              "outlinewidth": 0,
              "ticks": ""
             }
            },
            "type": "scatter3d"
           }
          ],
          "scattercarpet": [
           {
            "marker": {
             "colorbar": {
              "outlinewidth": 0,
              "ticks": ""
             }
            },
            "type": "scattercarpet"
           }
          ],
          "scattergeo": [
           {
            "marker": {
             "colorbar": {
              "outlinewidth": 0,
              "ticks": ""
             }
            },
            "type": "scattergeo"
           }
          ],
          "scattergl": [
           {
            "marker": {
             "colorbar": {
              "outlinewidth": 0,
              "ticks": ""
             }
            },
            "type": "scattergl"
           }
          ],
          "scattermapbox": [
           {
            "marker": {
             "colorbar": {
              "outlinewidth": 0,
              "ticks": ""
             }
            },
            "type": "scattermapbox"
           }
          ],
          "scatterpolar": [
           {
            "marker": {
             "colorbar": {
              "outlinewidth": 0,
              "ticks": ""
             }
            },
            "type": "scatterpolar"
           }
          ],
          "scatterpolargl": [
           {
            "marker": {
             "colorbar": {
              "outlinewidth": 0,
              "ticks": ""
             }
            },
            "type": "scatterpolargl"
           }
          ],
          "scatterternary": [
           {
            "marker": {
             "colorbar": {
              "outlinewidth": 0,
              "ticks": ""
             }
            },
            "type": "scatterternary"
           }
          ],
          "surface": [
           {
            "colorbar": {
             "outlinewidth": 0,
             "ticks": ""
            },
            "colorscale": [
             [
              0,
              "#0d0887"
             ],
             [
              0.1111111111111111,
              "#46039f"
             ],
             [
              0.2222222222222222,
              "#7201a8"
             ],
             [
              0.3333333333333333,
              "#9c179e"
             ],
             [
              0.4444444444444444,
              "#bd3786"
             ],
             [
              0.5555555555555556,
              "#d8576b"
             ],
             [
              0.6666666666666666,
              "#ed7953"
             ],
             [
              0.7777777777777778,
              "#fb9f3a"
             ],
             [
              0.8888888888888888,
              "#fdca26"
             ],
             [
              1,
              "#f0f921"
             ]
            ],
            "type": "surface"
           }
          ],
          "table": [
           {
            "cells": {
             "fill": {
              "color": "#EBF0F8"
             },
             "line": {
              "color": "white"
             }
            },
            "header": {
             "fill": {
              "color": "#C8D4E3"
             },
             "line": {
              "color": "white"
             }
            },
            "type": "table"
           }
          ]
         },
         "layout": {
          "annotationdefaults": {
           "arrowcolor": "#2a3f5f",
           "arrowhead": 0,
           "arrowwidth": 1
          },
          "autotypenumbers": "strict",
          "coloraxis": {
           "colorbar": {
            "outlinewidth": 0,
            "ticks": ""
           }
          },
          "colorscale": {
           "diverging": [
            [
             0,
             "#8e0152"
            ],
            [
             0.1,
             "#c51b7d"
            ],
            [
             0.2,
             "#de77ae"
            ],
            [
             0.3,
             "#f1b6da"
            ],
            [
             0.4,
             "#fde0ef"
            ],
            [
             0.5,
             "#f7f7f7"
            ],
            [
             0.6,
             "#e6f5d0"
            ],
            [
             0.7,
             "#b8e186"
            ],
            [
             0.8,
             "#7fbc41"
            ],
            [
             0.9,
             "#4d9221"
            ],
            [
             1,
             "#276419"
            ]
           ],
           "sequential": [
            [
             0,
             "#0d0887"
            ],
            [
             0.1111111111111111,
             "#46039f"
            ],
            [
             0.2222222222222222,
             "#7201a8"
            ],
            [
             0.3333333333333333,
             "#9c179e"
            ],
            [
             0.4444444444444444,
             "#bd3786"
            ],
            [
             0.5555555555555556,
             "#d8576b"
            ],
            [
             0.6666666666666666,
             "#ed7953"
            ],
            [
             0.7777777777777778,
             "#fb9f3a"
            ],
            [
             0.8888888888888888,
             "#fdca26"
            ],
            [
             1,
             "#f0f921"
            ]
           ],
           "sequentialminus": [
            [
             0,
             "#0d0887"
            ],
            [
             0.1111111111111111,
             "#46039f"
            ],
            [
             0.2222222222222222,
             "#7201a8"
            ],
            [
             0.3333333333333333,
             "#9c179e"
            ],
            [
             0.4444444444444444,
             "#bd3786"
            ],
            [
             0.5555555555555556,
             "#d8576b"
            ],
            [
             0.6666666666666666,
             "#ed7953"
            ],
            [
             0.7777777777777778,
             "#fb9f3a"
            ],
            [
             0.8888888888888888,
             "#fdca26"
            ],
            [
             1,
             "#f0f921"
            ]
           ]
          },
          "colorway": [
           "#636efa",
           "#EF553B",
           "#00cc96",
           "#ab63fa",
           "#FFA15A",
           "#19d3f3",
           "#FF6692",
           "#B6E880",
           "#FF97FF",
           "#FECB52"
          ],
          "font": {
           "color": "#2a3f5f"
          },
          "geo": {
           "bgcolor": "white",
           "lakecolor": "white",
           "landcolor": "#E5ECF6",
           "showlakes": true,
           "showland": true,
           "subunitcolor": "white"
          },
          "hoverlabel": {
           "align": "left"
          },
          "hovermode": "closest",
          "mapbox": {
           "style": "light"
          },
          "paper_bgcolor": "white",
          "plot_bgcolor": "#E5ECF6",
          "polar": {
           "angularaxis": {
            "gridcolor": "white",
            "linecolor": "white",
            "ticks": ""
           },
           "bgcolor": "#E5ECF6",
           "radialaxis": {
            "gridcolor": "white",
            "linecolor": "white",
            "ticks": ""
           }
          },
          "scene": {
           "xaxis": {
            "backgroundcolor": "#E5ECF6",
            "gridcolor": "white",
            "gridwidth": 2,
            "linecolor": "white",
            "showbackground": true,
            "ticks": "",
            "zerolinecolor": "white"
           },
           "yaxis": {
            "backgroundcolor": "#E5ECF6",
            "gridcolor": "white",
            "gridwidth": 2,
            "linecolor": "white",
            "showbackground": true,
            "ticks": "",
            "zerolinecolor": "white"
           },
           "zaxis": {
            "backgroundcolor": "#E5ECF6",
            "gridcolor": "white",
            "gridwidth": 2,
            "linecolor": "white",
            "showbackground": true,
            "ticks": "",
            "zerolinecolor": "white"
           }
          },
          "shapedefaults": {
           "line": {
            "color": "#2a3f5f"
           }
          },
          "ternary": {
           "aaxis": {
            "gridcolor": "white",
            "linecolor": "white",
            "ticks": ""
           },
           "baxis": {
            "gridcolor": "white",
            "linecolor": "white",
            "ticks": ""
           },
           "bgcolor": "#E5ECF6",
           "caxis": {
            "gridcolor": "white",
            "linecolor": "white",
            "ticks": ""
           }
          },
          "title": {
           "x": 0.05
          },
          "xaxis": {
           "automargin": true,
           "gridcolor": "white",
           "linecolor": "white",
           "ticks": "",
           "title": {
            "standoff": 15
           },
           "zerolinecolor": "white",
           "zerolinewidth": 2
          },
          "yaxis": {
           "automargin": true,
           "gridcolor": "white",
           "linecolor": "white",
           "ticks": "",
           "title": {
            "standoff": 15
           },
           "zerolinecolor": "white",
           "zerolinewidth": 2
          }
         }
        },
        "title": {
         "text": "Verteilung der Türkisch-sprachigen Lyrics"
        },
        "xaxis": {
         "anchor": "y",
         "categoryarray": [
          "post-rock",
          "rock",
          "deutschrap",
          "pop",
          "rap",
          null,
          "hip hop"
         ],
         "categoryorder": "array",
         "domain": [
          0,
          1
         ],
         "title": {
          "text": "genre"
         }
        },
        "yaxis": {
         "anchor": "x",
         "domain": [
          0,
          1
         ],
         "title": {
          "text": "Anzahl"
         }
        }
       }
      }
     },
     "metadata": {},
     "output_type": "display_data"
    }
   ],
   "source": [
    "df_results = pd.DataFrame(tr_results)\n",
    "genre_count = df_results.groupby(['genre']).size().reset_index(name='count')\n",
    "\n",
    "fig = px.bar(genre_count, x='genre', y='count', title='Verteilung der Türkisch-sprachigen Lyrics',\n",
    "             category_orders={'genre': df_results['genre'].unique()},\n",
    "             labels={'count': 'Anzahl'})\n",
    "fig.show()\n",
    "\n",
    "fig.write_html(\"../images/tr_lyrics.html\")"
   ]
  },
  {
   "cell_type": "code",
   "execution_count": 11,
   "metadata": {},
   "outputs": [
    {
     "name": "stdout",
     "output_type": "stream",
     "text": [
      "{'song_title': 'MOON', 'lyric_num': 4, 'languages': ['tr'], 'scores': [0.9999950211281952], 'genre': 'post-rock', 'lyrics': ['Dare iz a Darkside  Redman  .']}\n",
      "{'song_title': 'Yakuza', 'lyric_num': 2219, 'languages': ['tr'], 'scores': [0.999995201267063], 'genre': 'rock', 'lyrics': ['Yat uzan El Chapo gibi Cem Uzan Dolandırma lafı paket oldun hadi len yürü koğuşa Marrakesh owdooha paparazi ghettostar Huh süner karılar ay siktir kültürlü nonoşlar Godoşlar siksin sizi bizde komşu var son durak  plakam Sordurma Çalar Neşet Baba tespihim oltu bak Gecekondu ganstazz frrrh karanlık etraf Grrrr gezeriz çarşı pazar bul ucuz sat  bin dolar Allah değdirmesin nazar aman değdirmesin nazar Biri gelip vurur sonra kardeşleri yatar Run bitch run belaboyz barikat press press Panik var cash cash Hannibal yes Hazır sativam değil bura argentina Patküt hadi naş yuvarlan papik at Yükseltepe favelaz yok burda coffeshop Cebim yine delik bro wubba lubba paff lemon sag nigcht baba sido grr  city pust tayfam yakuza Canı sıkılır girer yine mapusa woah Mermi sakla tehlike baba kaputa Bacak değil bebeğim bizde tüfek omuza  Huh tüfek omuza asker tüfek omuza Bir iki tüfek omuza huh tüfek omuza Asker tüfek omuza bir iki tüfek omuza Tüfek tüfek omuza tüfek tüfek omuza']}\n",
      "{'song_title': 'Run Motherfucker', 'lyric_num': 2222, 'languages': ['tr'], 'scores': [0.9999986538228811], 'genre': 'rock', 'lyrics': ['Ya,ya,ya,ya Bosses life bitchez Ha,ha,ha,ha woah Mahfer, Woah Wowowowoo Grrrrraaaa Woah, woah, woah, woah  Rolex Rolex Rolex Rolex woooo Yat kalk hayalim SLS wooooo Hepimizin meselesi bu Ara, ara cannabisi bul lan Takıl oralarda uslu uslu ha Gözüm kan çanağı ve puslu hrrr Boş boş konuş sen işiniz bu woah Hala boss ben, orospu Run motherfucker, run motherfucker, run Bizim ekip rahat durmaz, hep ister kan Bu sokaklar pis, biz number one Dostlarınız istemez leşinizi kaldırmak Grrrraa Bossesla de trafo önünde pusudayız woah, woah Gelirse polisler boynumuzdaki zincirlerden asla biz koşamayız haha Hayırlı işler woah, mahallede alışverişler woah Yine tutulmuş çıkış ve girişler brr Kitlendi çeneler, kırıldı dişler haha Sakin durmak yaramaz işimize, hayat der ki piç ol brr Paket olmak bize göre değil, var cebimizde  hrr, hrr, hrr']}\n",
      "{'song_title': 'BELA', 'lyric_num': 2239, 'languages': ['tr'], 'scores': [0.9999972932541314], 'genre': 'rock', 'lyrics': ['Segah  Bunları gönderin oynasın kumlara Bende doldu günden güne kumbara Ya, bunları söyleyin onlara Artık bakmıyorum telefonlara Hiç gerek yok sahte pozlara Çünkü alışkın cadde tozlara Şimdi selamlar kahpe dostlara Selamlar sahneden size Ya, kaliteli pozlar Altımda Nike Air Forcelar Herkese bu yakada poz ver Her günü as odana poster Sokakta kaliteli pozlar Altımda Nike Air Forcelar Herkese fiyakalı poster Her gece bu yakada konser  Merve Bella Bеlla, sanki bela bela Bela valla billa, La costos Favеla Merve Bella Bella, sanki bela bela Bela valla billa, Bella BBB']}\n",
      "{'song_title': 'Makina', 'lyric_num': 2275, 'languages': ['tr'], 'scores': [0.9999976264037262], 'genre': 'rock', 'lyrics': ['Range rovan olsada sonunda game over Biz de yengeç, yay onlar kova Neyse bekle bekle bir gün dolar Asla dönmek yok çıktık yola Zero zero one batar çamura Yaparken işleri vermem mola Yükselir bi anda batar like borsa Evde yatarlar paralar bolsa Ah sıkıntı etmem Gözün önünden geçer şeritler Ben benim hala gram değişmem Gram değişmem Terkedenler asla dönemezlеr Çözüm göz önünde göremezlеr Force artar beni hiç üzemezler Düşmanım taraftar silemezler Yakalayamazlar hiç beni beni Moneyler hep artar deli gibi Alamam asla sözleri geri Instam fall olmaz hiç haberi Diğer adım makina Alır başına bela İyi dimi karizma Artıyor farkım ah']}\n",
      "{'song_title': 'Kristallklar', 'lyric_num': 3239, 'languages': ['tr'], 'scores': [0.8571408430467053], 'genre': 'deutschrap', 'lyrics': ['Hey Chak.']}\n",
      "{'song_title': 'Kai Ebel Style', 'lyric_num': 4867, 'languages': ['tr'], 'scores': [0.5714261106880059], 'genre': 'deutschrap', 'lyrics': ['Ya ya.']}\n",
      "{'song_title': 'Yemin Olsun', 'lyric_num': 7219, 'languages': ['tr'], 'scores': [0.99999863166401], 'genre': 'pop', 'lyrics': ['Ja, ja, ja, ja, ja, ja, ja, ja, ja, ja Ja, ja, ja, ja, ja, ja, ja, ja, ja, ja Ihr wisst Bescheid, ja, ja Ich bin ein Berliner,  Stay High Lights Out Wouh  Gece son ses çalan Mode XL gibiyim, Kral Benim Ouhouh Çünkü size köle olamam, hayır Özgürlük ibadetim, kafadan var edip Ouhouh Küçük hesaplar yapıp demem ona marketing Yemin olsun üzerine annemin Yemin olsun üzerine annemin Duramam, dese bile Yeter artık, aferin, dur Cigarayı sarmalı çözebilmek için ara her yeri, adresi bul Wouh Ciğerimi titretir basskent o zaman BuBu Bugy arpeji vur Koala koala ekip Koal yapar her daim hazır mahallede, crew Para mara, hangi salağın yaşam için olabilir bahanesi bu Dönebilir kulağın yılan deliğine Ja, ja, ja, ja, ja, ja Oturtunca lafımızı tam gediğine Hatunumu zannedersin Angelina Ama sevişirim gitarımın bam teliyle Beni soyamadın, git evinde mandalina soy Sanar beni koyabildi mal yerine Hayır, ben yattım salağa Kayıp emeklerim ola rapçilere sadaka, ey Kulağımda Şamil, hey Hey Bu yüzden de illegaliz, hakim bey Tutamıyorum, bebeler sakin değil Bozkırın varoşlarında tatildeyiz Gençlerleyim, yani Ankara gücüm Toplanırsak edeceğiz arkana hücum Ja Kurt uyanıkken uyunmaz koçum']}\n",
      "{'song_title': 'Geldzählmaschine', 'lyric_num': 8149, 'languages': ['tr'], 'scores': [0.999996914852616], 'genre': 'rap', 'lyrics': ['Çocuklardan birini yolla da sigara getirsin.']}\n",
      "{'song_title': 'Harman', 'lyric_num': 9651, 'languages': ['tr'], 'scores': [0.9999989241842967], 'genre': nan, 'lyrics': ['Verse Dolanırım mahallede, gözler üzerimde All eyez on me ,şehrimde yoktur pek sevenim Kefenim hazırda duruyor bak, etinden\\u2005korkanın Kemiğini\\u2005sikeyim, önüme geleni\\u2005içerim Gecenin sonunda kendimden geçerim Sokakta rahatça gezerim,\\u2005piştim düştüm mahallede Kaşınırsan yaparız muharrebe, hazırım savaşa Yumruklar sıkılı ,dilimde rpg,\\u205fyüzüme\\u205fkonuşamassın\\u205fki Piçlerin hepsi aynı\\u205fçatıda, denk geliriz\\u205filla bu yakada Kovala sokakta her dakika, sömek adeta sert bi kaya Adamı çıkarır aya, ordayım  dakikaya, sıkıntı yaratamazlar Götünüz yiyosa konuşun suratıma, bizim arabamız sizin kaliteniz yerle bir Siktir da im etmezsinki, wacksin toysun bırakın abileri Koşsun üstüme, kim olduğnuz bağlamıyor semtimde adınız yok Alayı boş, bana kendin ol diyenlerin hepsi copy paste, işiniz kolay Tabii,her gece aynı bende, sabaha kadar rollin joint, bu kadar kafi Sokaktayım her daim ,kolpasınız hepiniz Aksinize felsefem belli keep it real ya Trafikteyim ya, meşgul etme beni Dalgana bak hadi, bafi mari alkol']}\n",
      "{'song_title': 'HipHop', 'lyric_num': 9659, 'languages': ['tr'], 'scores': [0.9999982706219762], 'genre': nan, 'lyrics': ['Hayatım part time Sometime Bazı günler eksik hafızamda Ne hatırım kaldı sanki, ne de bir hatıram var Önemi yok kandıran da haklı, saldırdan da Beni bu bardan attıran, beni bi dinle Zor durumdayım bayım.']}\n",
      "{'song_title': 'So viele Fragen', 'lyric_num': 14906, 'languages': ['tr'], 'scores': [0.8571391608605328], 'genre': 'hip hop', 'lyrics': ['Ey.']}\n"
     ]
    }
   ],
   "source": [
    "tr_results = []\n",
    "count = 0\n",
    "\n",
    "for idx, row in df.iterrows():\n",
    "    # if count >= 100:\n",
    "    #     break\n",
    "    text = row['lyrics']\n",
    "    doc = nlp_tr(text)\n",
    "    # türkische Sätze\n",
    "    tr_sents = [sent for sent in doc.sents if sent._.language['language'] == 'tr']\n",
    "    if len(tr_sents) > 0:\n",
    "        song_title = row['title']\n",
    "        lyric_num = idx\n",
    "        languages = []\n",
    "        scores = []\n",
    "        lyrics = []\n",
    "        for sent in tr_sents:\n",
    "            lang = sent._.language['language']\n",
    "            score = sent._.language['score']\n",
    "            # Wörter vom Spacy Vocab\n",
    "            words_in_sentence = [token.text.lower() for token in sent if token.text.lower() in words_tr]\n",
    "            if words_in_sentence:\n",
    "                languages.append(lang)\n",
    "                scores.append(score)\n",
    "                lyrics.append(sent.text)\n",
    "        if len(languages) > 0:\n",
    "            # Ergebnisse ins dictionary speichern\n",
    "            result = {\n",
    "                'song_title': song_title,\n",
    "                'lyric_num': lyric_num,\n",
    "                'languages': languages,\n",
    "                'scores': scores,\n",
    "                'genre': row['genre'],\n",
    "                'lyrics': lyrics\n",
    "            }\n",
    "            tr_results.append(result)\n",
    "            print(result)\n",
    "            count += 1"
   ]
  }
 ],
 "metadata": {
  "kernelspec": {
   "display_name": "base",
   "language": "python",
   "name": "python3"
  },
  "language_info": {
   "codemirror_mode": {
    "name": "ipython",
    "version": 3
   },
   "file_extension": ".py",
   "mimetype": "text/x-python",
   "name": "python",
   "nbconvert_exporter": "python",
   "pygments_lexer": "ipython3",
   "version": "3.9.12"
  },
  "orig_nbformat": 4
 },
 "nbformat": 4,
 "nbformat_minor": 2
}
