{
 "cells": [
  {
   "attachments": {},
   "cell_type": "markdown",
   "metadata": {},
   "source": [
    "### Wie deutsch sind deutsche Songs?"
   ]
  },
  {
   "cell_type": "code",
   "execution_count": null,
   "metadata": {},
   "outputs": [],
   "source": []
  },
  {
   "cell_type": "code",
   "execution_count": null,
   "metadata": {},
   "outputs": [],
   "source": [
    "# # without Unkown\n",
    "# # store in list for visualisation\n",
    "# results = []\n",
    "# count = 0\n",
    "\n",
    "# nlp = spacy.load(\"en_core_web_sm\")\n",
    "# words = set(nlp.vocab.strings)\n",
    "\n",
    "# for idx, row in df.iterrows():\n",
    "#     # output has only 100 songs\n",
    "#     if count >= 100:\n",
    "#         break\n",
    "#     text = row['lyrics']\n",
    "#     doc = list(nlp.pipe([text]))[0]\n",
    "#     non_german_sents = [sent for sent in doc.sents if sent._.language['language'] == 'en']\n",
    "#     if len(non_german_sents) > 0:\n",
    "#         song_title = row['songtitle']\n",
    "#         lyric_num = idx\n",
    "#         # output language and the score\n",
    "#         languages = []\n",
    "#         scores = []\n",
    "#         for sent in non_german_sents:\n",
    "#             lang = sent._.language['language']\n",
    "#             score = sent._.language['score']\n",
    "            \n",
    "#             # skip unkown laguages\n",
    "#             if lang != 'UNKNOWN':\n",
    "#                 languages.append(lang)\n",
    "#                 scores.append(score)\n",
    "#         # if there is at least one sentence in a different language, put it in the results\n",
    "#         if len(languages) > 0:\n",
    "#             # store results in dictionary\n",
    "#             result = {'song_title': song_title, 'lyric_num': lyric_num, 'language_detected': len(languages), 'languages': languages, 'scores': scores, 'genre': row['genre']}\n",
    "#             results.append(result)\n",
    "#             print(result)\n",
    "#             count += 1"
   ]
  },
  {
   "cell_type": "code",
   "execution_count": null,
   "metadata": {},
   "outputs": [
    {
     "ename": "NameError",
     "evalue": "name 'spacy' is not defined",
     "output_type": "error",
     "traceback": [
      "\u001b[1;31m---------------------------------------------------------------------------\u001b[0m\n",
      "\u001b[1;31mNameError\u001b[0m                                 Traceback (most recent call last)\n",
      "\u001b[1;32m<ipython-input-1-7312779688bb>\u001b[0m in \u001b[0;36m<module>\u001b[1;34m\u001b[0m\n",
      "\u001b[1;32m----> 1\u001b[1;33m \u001b[0mspacy\u001b[0m\u001b[1;33m.\u001b[0m\u001b[0mcli\u001b[0m\u001b[1;33m.\u001b[0m\u001b[0mdownload\u001b[0m\u001b[1;33m(\u001b[0m\u001b[1;34m\"en_core_web_sm\"\u001b[0m\u001b[1;33m)\u001b[0m\u001b[1;33m\u001b[0m\u001b[1;33m\u001b[0m\u001b[0m\n",
      "\u001b[0m\n",
      "\u001b[1;31mNameError\u001b[0m: name 'spacy' is not defined"
     ]
    }
   ],
   "source": [
    "spacy.cli.download(\"en_core_web_sm\")"
   ]
  },
  {
   "cell_type": "code",
   "execution_count": null,
   "metadata": {},
   "outputs": [],
   "source": [
    "df_copy = df.sample(frac=1).reset_index(drop=True)\n",
    "nlp = spacy.load(\"en_core_web_sm\")\n",
    "words = set(nlp.vocab.strings)"
   ]
  },
  {
   "cell_type": "code",
   "execution_count": null,
   "metadata": {},
   "outputs": [],
   "source": [
    "def get_lang_detector(nlp, name):\n",
    "    return LanguageDetector(seed=42)  # We use the seed 42\n",
    "\n",
    "Language.factory(\"language_detector\", func=get_lang_detector)\n",
    "nlp.add_pipe('language_detector', last=True)"
   ]
  },
  {
   "cell_type": "code",
   "execution_count": null,
   "metadata": {},
   "outputs": [
    {
     "name": "stdout",
     "output_type": "stream",
     "text": [
      "{'song_title': 'Lass uns gehen', 'lyric_num': 4, 'languages': {'en'}, 'scores': [0.5714269293839562], 'genre': 'rap', 'lyrics': ['Fuck the police heißt, wir landen im']}\n",
      "{'song_title': 'Happy Birthday', 'lyric_num': 9, 'languages': {'en'}, 'scores': [0.9999984315375586], 'genre': nan, 'lyrics': ['Happy birthday, my friend I apologize I have your gift, but its not quite up to size Here, let me make this up to you Cmon, lets play a game Ill be waiting  Happy birthday, my bro Youre finally a man Or something like that As much as you can Which I admit, a guy like you, isnt very much We love you anyway  Happy birthday our dear friend Were so glad that we have met Glad for all these memories we have And havent happened yet Even though were all apart I will keep this in my heart This bond we share is telling me Somethings about to start']}\n",
      "{'song_title': 'Verdammte Liebe', 'lyric_num': 10, 'languages': {'en'}, 'scores': [0.9999954279937698, 0.9999954279937698], 'genre': 'schlager', 'lyrics': ['so weh Ref.  ', 'so weh Ref.  ']}\n",
      "{'song_title': 'Ware Aus’m Hafen', 'lyric_num': 32, 'languages': {'en'}, 'scores': [0.7142840805206884], 'genre': 'deutschrap', 'lyrics': ['Sample Fire flame spit em Were the business Ware ausm Hafen  Ware ausm']}\n",
      "{'song_title': 'Komm mal rüber bitte', 'lyric_num': 61, 'languages': {'en'}, 'scores': [0.9999957393326588], 'genre': '[]', 'lyrics': ['Excel yeah, Tabelle Jetzt wird outgesourced im']}\n",
      "{'song_title': 'Phelps', 'lyric_num': 68, 'languages': {'en'}, 'scores': [0.5714248502517854], 'genre': 'rap', 'lyrics': ['Hoe boy']}\n",
      "{'song_title': 'Wadde hadde dudde da?', 'lyric_num': 78, 'languages': {'en'}, 'scores': [0.7142818925229187], 'genre': 'pop', 'lyrics': ['Ladies and gentlemen Please put your patschehands together For the sensationel Supersack of German television STEFAN RAHAB Oh mein Gott, es gibt ihn wirklich WAHAOW']}\n",
      "{'song_title': 'Giftig', 'lyric_num': 103, 'languages': {'en'}, 'scores': [0.8571406002148808], 'genre': 'pop', 'lyrics': ['Mmh, ja Lenny The Kaye, jaa This is cake Ja,']}\n",
      "{'song_title': 'Immer noch Kasalla', 'lyric_num': 105, 'languages': {'en'}, 'scores': [0.9999961925686918, 0.8571402712013553], 'genre': 'karneval', 'lyrics': ['hey Hey, hey Hey,', 'hey Hey, hey  ']}\n",
      "{'song_title': 'Still Bloaond Freestyle', 'lyric_num': 109, 'languages': {'en'}, 'scores': [0.9999978086627538], 'genre': 'electro', 'lyrics': ['Unterwegs like nothing to lose, flawless in allem, was ich tu']}\n",
      "{'song_title': 'Punchingball', 'lyric_num': 134, 'languages': {'en'}, 'scores': [0.9999946454845308], 'genre': nan, 'lyrics': ['Tod Was ist los,']}\n",
      "{'song_title': 'Es ist alles ok', 'lyric_num': 137, 'languages': {'en'}, 'scores': [0.42856948534230643], 'genre': 'schlager', 'lyrics': ['ist alles']}\n",
      "{'song_title': 'Nuit Blanche', 'lyric_num': 157, 'languages': {'en'}, 'scores': [0.5714289544355025, 0.9999953443936525], 'genre': 'electro', 'lyrics': ['so oft, dass ich King bin', 'Winehouse Winehouse  And baby, thats all we need Yes, it is, yes it is And baby, thats all we need Yes, it is, yes it is No, Im over you']}\n",
      "{'song_title': 'Not Safe', 'lyric_num': 161, 'languages': {'en'}, 'scores': [0.9999986332408987], 'genre': 'rap', 'lyrics': ['Baby, es ist']}\n",
      "{'song_title': 'Chuck Norris', 'lyric_num': 163, 'languages': {'en'}, 'scores': [0.7142839273039766], 'genre': 'rap', 'lyrics': ['Ich hab Gwap im Bando, ride around im']}\n",
      "{'song_title': 'Wunderbar', 'lyric_num': 174, 'languages': {'en'}, 'scores': [0.9999929445691328], 'genre': 'rap', 'lyrics': ['McDonalds und TrashTV']}\n",
      "{'song_title': 'Im Plus', 'lyric_num': 181, 'languages': {'en'}, 'scores': [0.9999948238583715], 'genre': 'reggae', 'lyrics': ['Yeah Miksu flex, flex, flex Macloud, was fürn Beat boh, boh, boh, boh  Will noch mehr, hol das Doppelte, Negro']}\n",
      "{'song_title': 'Usain Bolt', 'lyric_num': 237, 'languages': {'en'}, 'scores': [0.9999960599675464], 'genre': 'deutschrap', 'lyrics': ['Gold Gold Fuck the PoPo,']}\n",
      "{'song_title': 'Gib mir was ab', 'lyric_num': 242, 'languages': {'en'}, 'scores': [0.42857176086905274], 'genre': 'rap', 'lyrics': ['Acetona Haha Paff den']}\n",
      "{'song_title': 'Kellnerkasse', 'lyric_num': 245, 'languages': {'en'}, 'scores': [0.42856970203522493, 0.42856970203522493], 'genre': 'pop', 'lyrics': ['Baby, uh', 'Baby, uh']}\n",
      "{'song_title': 'Gefällt das', 'lyric_num': 246, 'languages': {'en'}, 'scores': [0.5714268457758618], 'genre': 'deutschrap', 'lyrics': ['Amateuren bis hin zum Champions League']}\n",
      "{'song_title': 'Man’s World', 'lyric_num': 250, 'languages': {'en'}, 'scores': [0.5714278038190735], 'genre': 'pop', 'lyrics': ['Ex First Lady wie Melania Trump  ']}\n",
      "{'song_title': 'TEC-9', 'lyric_num': 259, 'languages': {'en'}, 'scores': [0.9999955228013891], 'genre': 'deutschrap', 'lyrics': ['What']}\n",
      "{'song_title': 'Rap Lexikon (Band 2)', 'lyric_num': 279, 'languages': {'en'}, 'scores': [0.8571385120303703], 'genre': 'deutschrap', 'lyrics': ['fuck fuck fuck mich ab']}\n",
      "{'song_title': 'Fick mich Finch', 'lyric_num': 296, 'languages': {'en'}, 'scores': [0.9999945221487292], 'genre': 'emo', 'lyrics': ['Finch Yeah Aua, es tut so weh']}\n",
      "{'song_title': 'Enemies', 'lyric_num': 297, 'languages': {'en'}, 'scores': [0.9999974297063989], 'genre': 'rap', 'lyrics': ['Hah Your enemies remain the same, your friends always change']}\n",
      "{'song_title': 'Ohne dich [Remix By Laibach]', 'lyric_num': 333, 'languages': {'en'}, 'scores': [0.9999953418844557], 'genre': 'pop', 'lyrics': ['feat.']}\n",
      "{'song_title': '\\u200bon the set', 'lyric_num': 338, 'languages': {'en'}, 'scores': [0.9999952719462913, 0.9999966863920411, 0.9999955534958547, 0.9999979260806368, 0.9999980607237542], 'genre': nan, 'lyrics': ['Seth here on the muhfuckin beat  ', 'They say build a nigga or me they donthave to pick or chooseWhen i fuck    go  Go Better hold your horses Dont spill your drink on my brand new forces We eat big meals, we doing full courses Keep talking slick, then you gonna get some corpse in Uh, and we tote em weapons It go doo ,doo ,doo and you dont hear nothin Im tryna put some spread on my goddamn muffin', 'I got you riled up from the kissing and', 'the touchin She like the stars on the roof We can disappear in the wind likе poof Tough lil cookie on you the mother fuckin truth Hmm, ya skirt And thе wheels keep going Whats on my mind is what got me feelin lonely Cant tell the time on my thirty thousand dollar rollie', 'But we gon watch it shine you already know whats goin And the wheels keep turning She hit my phone, but its way too early I swear you watching me, I swear you watching me']}\n",
      "{'song_title': 'Zombie', 'lyric_num': 372, 'languages': {'en'}, 'scores': [0.9999947318141107], 'genre': 'hip-hop', 'lyrics': ['Und macht mich lonely, macht mich lonely, yeah  ']}\n",
      "{'song_title': 'Backseat', 'lyric_num': 373, 'languages': {'en'}, 'scores': [0.8571397189382927], 'genre': 'rap', 'lyrics': ['Sorry no, sorry no, chill im Back vor der Show Das n DеvilsHo, OVO, MoneyChecks, MoneyFlow MonеyStacks, MoneyBags, Herz aus Eis, Fresse Gold Winke']}\n",
      "{'song_title': 'Sag es sag es', 'lyric_num': 378, 'languages': {'en'}, 'scores': [0.8571389524302154], 'genre': 'hip hop', 'lyrics': ['Ohh, yeah, mixtape nummer sechs baby, n.E.O, headliners, oh, ja, sags ihnen neo.']}\n",
      "{'song_title': 'Du hast es erraten', 'lyric_num': 389, 'languages': {'en'}, 'scores': [0.6009028380741599, 0.8571402531608581, 0.9999951669159697, 0.9999968106664123, 0.7142837727827727, 0.4285717482678257, 0.7142851091567511, 0.9999946240042322, 0.7142827723370206, 0.5714293880924126, 0.9999951669159697, 0.5714283407946905, 0.8571408588069744, 0.9999951669159697, 0.9999946240042322, 0.8571411717641608], 'genre': 'rap', 'lyrics': ['GlowUpDineroGang Guess what Wir sind fame Du hast es erraten Gratuliere Nigga Du hast es erraten Wir sind fame', 'Du hast es erraten Wir sind fame fame', 'right', 'Damn wir sind echt real Wir keepen es trill Trill Get money or die gmod Damn wir sind high high Plus wir sind fly', 'Du hast es erraten sheesh Wir sind fame fame Wir sind rich rich Keine bitch bitch Du hast es erraten Hundert punkte Du hast recht right Wir sind real real Wir sind echt echt', 'ok you right', 'Du hast es erraten  true Wir sind rich rich Wir sind fame fame Keine bitch bitch You know the name money boy glow gang Du hast es erraten glow up Du hast Du hast es erraten Herzlichen Glückwunsch Du hast es erraten', 'Wir sind fame fame', 'Wir sind rich rich', 'We dont play nah', 'right', 'Ok you right Gratuliere nigga Du hast recht Wir sind fresh Haben cash Du hast es erraten', 'Ok you right Du hast es erraten Du hast es erraten Und wir zahlen nicht auf Raten never that Wir zahlen alles cash money Denn wir haben cash money Und wir sind so fresh crispy Und wir haben swag swisneg Du hast es erraten  ', 'right', 'Wir sind fame fame', 'Wir sind rich rich Keine bitch bitch sheesh sheesh']}\n",
      "{'song_title': 'Gestört', 'lyric_num': 394, 'languages': {'en'}, 'scores': [0.9999952132709259], 'genre': 'deutschrap', 'lyrics': ['Oster on the beat, watch out  Ahh, Ché deso loco  Showtime, robb den Beamer von der Decke  irgendwann im']}\n",
      "{'song_title': 'Fotokamera', 'lyric_num': 399, 'languages': {'en'}, 'scores': [0.5714269338450434], 'genre': 'indie', 'lyrics': ['So hell und so    und  InstaLove und  Alle sind so  ']}\n",
      "{'song_title': 'Diamond', 'lyric_num': 422, 'languages': {'en'}, 'scores': [0.9999963060038343], 'genre': nan, 'lyrics': ['Baby, bittersweet, aber nasty Du der Diamant an meiner Kette Look in your eyes, they shine so bright Look in your eyes ey, packed full of Diamonds']}\n",
      "{'song_title': 'Bück dich', 'lyric_num': 432, 'languages': {'en'}, 'scores': [0.857137892819622], 'genre': 'pop', 'lyrics': ['Ima meme Weil ich dat cream mag']}\n",
      "{'song_title': 'POLICEMAN', 'lyric_num': 470, 'languages': {'en'}, 'scores': [0.8571407937749442], 'genre': 'hip-hop', 'lyrics': ['Tag Sorry, my baby, sorry, Mama Ich rauche meine letzte Garo, hatte lange nix im']}\n",
      "{'song_title': 'Savage', 'lyric_num': 474, 'languages': {'en'}, 'scores': [0.8571401532748464], 'genre': 'hip-hop', 'lyrics': ['hey Money, Gucci, Bitches, Money, Gucci, Bitches Gucci, Bitches, Money, Money, Gucci, Bitches  Guccisweater, savage Gucci, die Uzi brettert, savage brrr Mister Dardy, savage wooh, Capital, savage bra Fresse Rapper  Sandwich, fick deinn Rap mit Adlibs Benztown, Berlin, das ist Gangshit, denn wir sind savage Guccisweater, savage Gucci, die Uzi brettert, savage brrr Mister Dardy, savage wooh, Capital, savage bra Fresse Rapper  Sandwich, fick deinn Rap mit Adlibs Benztown, Berlin, das ist Gangshit, denn wir sind savage']}\n",
      "{'song_title': 'Crackcity', 'lyric_num': 488, 'languages': {'en'}, 'scores': [0.9999957846258737], 'genre': 'deutsch rap', 'lyrics': ['ich hab Is aus Crackcity, Crackcity, Crackcity Ich komm aus Crackcity, Crackcity, Crackcity']}\n",
      "{'song_title': 'Rebell ohne Grund (Kompass Reprise)', 'lyric_num': 496, 'languages': {'en'}, 'scores': [0.9999990324256735, 0.9999977024878697], 'genre': 'deutschrap', 'lyrics': ['And anything that was out of reality, anything that would change the state of my mind, seemed to be what I was really looking for.', 'Only I never realized how mistaken I was.']}\n",
      "{'song_title': 'Hölle', 'lyric_num': 499, 'languages': {'en'}, 'scores': [0.9999954920865268, 0.9999956856037197, 0.999996032417759, 0.9999974752390388, 0.9999978401903428], 'genre': 'schlager', 'lyrics': ['Manipulate, Amputate Waste away Such a mistake  I feel emotions of missing attention Mistaken for remnants of missing affection Try all youd like but results are resentment Used like some new shoes, Im better off not mentioned I say I love you and I really mean it', 'But then I mistreat you I feel like a demon I lie and say that Im not gonna leave', 'and I hope you feel comfort inside my new pretense  ', 'A cannibal eating away all my feelings Ill make you just like me so you might get eaten I will do anything however heinous if it will come fill up the hole where my pain is Im selfish and useless and play like the victim Im horrid, unloyal my actions are sickness', 'My actions are sickness  I wish I could change the way that I was I wish I knew for sure this was love I wish I could stay with you for the rest of your life But chances are we wont be talking by the end of  tonight']}\n",
      "{'song_title': 'Locodinho', 'lyric_num': 514, 'languages': {'en'}, 'scores': [0.5190652175514894, 0.5190652175514894, 0.571427226949467], 'genre': 'reggae', 'lyrics': ['Gaucho Tokat  Locodinho', 'Gaucho Tokat  Locodinho', 'Locodinho yeah']}\n",
      "{'song_title': 'Seemann', 'lyric_num': 525, 'languages': {'en'}, 'scores': [0.9999965880408702], 'genre': 'pop', 'lyrics': ['Fußballplatz wartet mein Junge Do you believe in life after love I can feel something inside it says I really dont think youre strong enough, no Do you believe in life after love I can feel something inside it says']}\n",
      "{'song_title': '24/7', 'lyric_num': 545, 'languages': {'en'}, 'scores': [0.8571402155470169], 'genre': 'deutschrap', 'lyrics': ['Tatwaffe Swing Swing so wie Frank Sinatra, my way Have a nice day, ich will Beef und order zwei Steaks Nach']}\n",
      "{'song_title': 'Send Nudes', 'lyric_num': 552, 'languages': {'en'}, 'scores': [0.9999977624450519, 0.9999958117948216, 0.9999964687422614, 0.999996282874788, 0.9999970010075656, 0.9999947874994806], 'genre': nan, 'lyrics': ['We got on scarves, Taliban We got the beach, just bring the sand I make bitches fly, like peter pan Dont hold it in, dont keep it in She wanna smoke the reefa and Off too many blunts I can see the wind The car go fast just like a cheetah Im from the boat just like Aaliyah', 'This bitch send nudes, she all the way in Sweden She know we Glow just like some Neons  Gotta be fool, a fool, a fool We got nothing to prove Im', 'Baby Im too slick like some luzips Im with my tool, I need some food Bitch said boy you rude Who you talkin to  Shawty know that Im', 'Bossanova Told her come here and shе walking over She like thе player in me, she like the player in me, she like the player in me', 'She said she wanna go out and hit a fair with me', 'She aint telling law none, shell swear for me Smellin like the weed inside my property Im smoking broccoli, Im smoking broccoli I get aggravated, like a robbery I was born with gorillas, I can climb the tree I was born with Lynx cats, born with bobcats I cant just love you baby issa process Love aint good for you baby that shit processed']}\n",
      "{'song_title': 'Que Walou', 'lyric_num': 560, 'languages': {'en'}, 'scores': [0.4285710987410018], 'genre': 'pop', 'lyrics': ['Maeyaemmo ighaneqim Ouaeren sekoue walou Que walou, que walou']}\n",
      "{'song_title': 'Der Soldat James Rhyme', 'lyric_num': 576, 'languages': {'en'}, 'scores': [0.5714277292582101], 'genre': 'deutschrap', 'lyrics': ['Apocalypse Now wenn wir Bars rappen The Hero und The One, Young Gun und ODog, Ich steh für mein Volk wie The Last of the Mohawks, Last Man Standing, ich verbreite Heat am Mic Bruce Banner wenn ich mutiere,']}\n",
      "{'song_title': 'Dates', 'lyric_num': 627, 'languages': {'en'}, 'scores': [0.8571422402889028], 'genre': 'indie', 'lyrics': ['Ob sie mit mir sein will Und wie ihr Name ist Uhh, uhh, ja, go  And all she wanted was the man of her dreams']}\n",
      "{'song_title': 'Luzid', 'lyric_num': 637, 'languages': {'en'}, 'scores': [0.714282836637197], 'genre': nan, 'lyrics': ['Woahohoh Yeah']}\n",
      "{'song_title': 'Auf Maja’s Blumenwiese', 'lyric_num': 647, 'languages': {'en'}, 'scores': [0.9999980556278123], 'genre': 'schlager', 'lyrics': ['Arme hat']}\n",
      "{'song_title': 'Bye bye bye', 'lyric_num': 651, 'languages': {'en'}, 'scores': [0.8571387362603888], 'genre': 'pop', 'lyrics': ['Bye, bye, bye Ich werd dich vermissen Bye, bye, bye']}\n",
      "{'song_title': 'Babyblau', 'lyric_num': 653, 'languages': {'en'}, 'scores': [0.9999966591788516, 0.2857140168613309], 'genre': 'hip-hop', 'lyrics': ['Ah Smoke weed everyday Stress mit der Police TomFordPlayer, so smooth Smooth Baby, ruf an auf meim Nokia Sonnenschein, rieche nach Oud Ah Und ich dripp,', 'Na na na na na Ice, Ice, Ice, Ice Na na na na na Ice, Ice, Ice, Ice Egal, wie heiß der Sommer Alles babyblau']}\n",
      "{'song_title': 'Sureshot', 'lyric_num': 660, 'languages': {'en'}, 'scores': [0.9999937972582791, 0.9999981278960266, 0.9999970847188495], 'genre': 'rap', 'lyrics': ['Nacht zum Tag Ich Tanze das Ding isn Sureshot Tai Jason Im from downsouth from the best screen In a best dress girl scene Up in the club That dirty dance we livin it up', 'You know how we at, where we at In the best up in a corner act Tomcraft spinnin the track Make a fly kickin the ass of my left', 'And we go takin to the lake the next day Protect blaster hoppin the max, he go Bumm bumm bumm bumm bumm Sido Die Drums machen bummbummchuck Der Beat ist']}\n",
      "{'song_title': 'Gib dem Azzlack mehr', 'lyric_num': 665, 'languages': {'en'}, 'scores': [0.7142837513861533], 'genre': 'deutschrap', 'lyrics': ['Ey, ey Check, check, ey']}\n",
      "{'song_title': 'Juice Part', 'lyric_num': 690, 'languages': {'en'}, 'scores': [0.9999973588714527, 0.9999964170701388], 'genre': 'ambient', 'lyrics': ['I got Ashes in my soup Mixes into goop Halal smores Shoopdewhoop Goin to hawaii So I can\\u2005hula\\u2005hoop My ashes spread\\u2005like a roller coaster Looptheloop Bridge Ash ash ash\\u2005ash Ashes in my tomato soup Hula hoop, goop, shoopde woop Loop the loop Ash ash ash ash Yuh yuh yuh, uhhuh Eskettit Chorus Ashes in my soup tomato Ashes in my soup tomato Ashes in my soup', 'tomato Ash ash ash ash Soup soup soup soup Aaaaaa Ashes in my soup tomato']}\n",
      "{'song_title': 'Sweetlove', 'lyric_num': 697, 'languages': {'en'}, 'scores': [0.5282517189661168], 'genre': 'indie', 'lyrics': ['Ich glaube das ist Sweetlove Sweet sweet love Ich glaube das ist Sweetlove Sweet Sweetlove  Diese Welt ist kalt so cold']}\n",
      "{'song_title': 'Von Bezirk zu Bezirk (Kova RMX)', 'lyric_num': 700, 'languages': {'en'}, 'scores': [0.5714308493558622], 'genre': 'deutschrap', 'lyrics': ['Hits sowie Timbo und Justin Immer dope, Killa Flows,']}\n",
      "{'song_title': 'Future', 'lyric_num': 725, 'languages': {'en'}, 'scores': [0.9999951023406792, 0.9999951023406792, 0.9999954895110457], 'genre': 'electro', 'lyrics': ['Im the Future', 'Im the Future', 'Im the motherfucking Future']}\n",
      "{'song_title': 'Shawty', 'lyric_num': 740, 'languages': {'en'}, 'scores': [0.5714271539931453, 0.714283630121854], 'genre': 'deutschrap', 'lyrics': ['Sex No Habe ihren Film sofort gecheckt Ja Muss los, Baby, call me back Call me back, Baby Ich nehm dir dein Shawty weg Wouh Sie hatte noch nie in nem Porsche', 'Sex Heh Habe ihren Film sofort gecheckt Ja Muss los, Baby, call me back Muss jetzt los, Baby  Sie will nen Rockstar und keinn fucking Quarterback Call me Daddy, wir sind outta control am bangn']}\n",
      "{'song_title': 'Dreams', 'lyric_num': 741, 'languages': {'en'}, 'scores': [0.7142833422761616], 'genre': nan, 'lyrics': ['Bleibe lowkey, ich bin okay  ']}\n",
      "{'song_title': '\\u200bnie wieder broke', 'lyric_num': 767, 'languages': {'en'}, 'scores': [0.9999972299640861], 'genre': 'hip hop', 'lyrics': ['Penthouse']}\n",
      "{'song_title': 'Rap Up 2019', 'lyric_num': 774, 'languages': {'en'}, 'scores': [0.9999939129805648, 0.5714279793262965], 'genre': 'rap', 'lyrics': ['Er hat etwas porträtiert was er not is cap', 'Yeah, no cap Know Plug']}\n",
      "{'song_title': 'Paris (Fernweh I)', 'lyric_num': 786, 'languages': {'en'}, 'scores': [0.5714274598984699], 'genre': 'deutschrap', 'lyrics': ['passt  Ich würd so gern nach Paris, New York Sag,']}\n",
      "{'song_title': 'Nur du', 'lyric_num': 792, 'languages': {'en'}, 'scores': [0.8571402967481452], 'genre': 'pop', 'lyrics': ['so oft Bist das alles nur']}\n",
      "{'song_title': 'Gut so', 'lyric_num': 797, 'languages': {'en'}, 'scores': [0.8571393087973102], 'genre': 'pop', 'lyrics': ['so, so wie es ist']}\n",
      "{'song_title': '5 Minuten', 'lyric_num': 805, 'languages': {'en'}, 'scores': [0.9999966767693256], 'genre': 'hip-hop', 'lyrics': ['Ich muss was essen']}\n",
      "{'song_title': 'Strasse im Blut', 'lyric_num': 825, 'languages': {'en'}, 'scores': [0.7142843884622059, 0.7142843884622059], 'genre': 'post-rock', 'lyrics': ['hey Vergiss was', 'hey Vergiss was']}\n",
      "{'song_title': 'Geringfügig, befristet, raus', 'lyric_num': 855, 'languages': {'en'}, 'scores': [0.9999965931374138], 'genre': 'indie', 'lyrics': ['so, was ist']}\n",
      "{'song_title': 'SHIRINBAE', 'lyric_num': 862, 'languages': {'en'}, 'scores': [0.9999944683400874], 'genre': 'deutschrap', 'lyrics': ['mein Spaceship']}\n",
      "{'song_title': 'Mein Leben ohne mich', 'lyric_num': 863, 'languages': {'en'}, 'scores': [0.9999976057805003], 'genre': 'pop', 'lyrics': ['oft']}\n",
      "{'song_title': 'Geburtstag', 'lyric_num': 871, 'languages': {'en'}, 'scores': [0.7142837883014315], 'genre': 'hip-hop', 'lyrics': ['Check, Check, C']}\n",
      "{'song_title': 'Southside Boy', 'lyric_num': 890, 'languages': {'en'}, 'scores': [0.9999974461204544, 0.9999954715597515, 0.9999953271865972, 0.8571395292765127, 0.9999976982200025], 'genre': 'deutschrap', 'lyrics': ['Yeah, hot sauce Simes got that secret sauce  Der Southside', 'Boy im LamborghiniFlow', 'Keyless Go', 'im LamborghiniFlow\\u205f', 'What What  , ich mach Hits, Baby Baby Komm nicht an, wenn du mich vermisst, Baby Oh, yeah']}\n",
      "{'song_title': 'Puff Daddy Swag Remix', 'lyric_num': 895, 'languages': {'en'}, 'scores': [0.9999969745901102], 'genre': 'deutschrap', 'lyrics': ['No way out, the saga continues Wenn ich über den ring cruise Forever king, press play gefällig']}\n",
      "{'song_title': 'Salty', 'lyric_num': 917, 'languages': {'en'}, 'scores': [0.5714271353261974, 0.714284259833648], 'genre': 'rap', 'lyrics': ['Was soll ich tun  ', 'She nobody Ich halt zu dir, Baby, glaub mir, ohoh Ohne dich Girl, keine Party Keine Party, Babe, ohoh, ohh']}\n",
      "{'song_title': 'Unter Strom', 'lyric_num': 939, 'languages': {'en'}, 'scores': [0.9999947551373685, 0.9999947551373685], 'genre': 'hip hop', 'lyrics': ['.Strophe Stillstand.', 'Strophe Stillstand.']}\n",
      "{'song_title': 'Hustensaft', 'lyric_num': 948, 'languages': {'en'}, 'scores': [0.5714274374262756], 'genre': 'hip hop', 'lyrics': ['Flo Mega an den Beats yea yea ...']}\n",
      "{'song_title': 'ALL BLACK', 'lyric_num': 950, 'languages': {'en'}, 'scores': [0.9999980909215443, 0.9999979621770184, 0.9999965520411371, 0.999996168877287, 0.7142852080222849, 0.9999987657183314], 'genre': 'post-rock', 'lyrics': ['Yo pls dont call me Im busy at the moment U may call the receptionist He will pass\\u2005the\\u2005call to me Chorus Started\\u2005from the bottom now we here All\\u2005my drip is invested in my head Lost my life now\\u205fIm\\u205ftryna\\u205fget it back Who\\u205fare u u\\u205flook like u drive a van Pretty deep cause you know Im kinda black  we were all oppressed Reminiscing alot of things about the past Money heist Im the man behind the mask Verse', 'Its a long journey of my life Long trips tryna bite now I show I get paid', 'No please dont pretend Im proud cause Im self made I survive when they set traps Long shots on my lane', 'No please dont pretend Repeat when they play mine Press skip when they play urs Drip drip nangutatakho', 'No trip Nangu Yanga U gon get shot When u trespass Do u get that Do u dig', 'that Do u know that on my part']}\n",
      "{'song_title': 'Summer Cem', 'lyric_num': 979, 'languages': {'en'}, 'scores': [0.8571394914387985], 'genre': 'deutschrap', 'lyrics': ['Hotel flex Nicht Crack am Bahnhof chilln flex Guck,']}\n",
      "{'song_title': 'MMH JA', 'lyric_num': 986, 'languages': {'en'}, 'scores': [0.8571417736927964], 'genre': 'reggae', 'lyrics': ['Geenaro So Im going to Ghana Yay, yay  Loco mein Duft ist auch']}\n",
      "{'song_title': 'Promo', 'lyric_num': 1015, 'languages': {'en'}, 'scores': [0.5714288138534078], 'genre': 'hip-hop', 'lyrics': ['hey']}\n",
      "{'song_title': 'Love & Courvoisier', 'lyric_num': 1016, 'languages': {'en'}, 'scores': [0.9999979201375755], 'genre': 'reggae', 'lyrics': ['ThiThiThis is Seeed, yeah']}\n",
      "{'song_title': 'Die Klavierlehrerin', 'lyric_num': 1041, 'languages': {'en'}, 'scores': [0.5714275107660698, 0.7142845338953825], 'genre': 'deutschrock', 'lyrics': ['Her thighs were fat and white and bare Her twitching legs came up to here Dann nahm sie meine fihinger Und führte sie hier und da', 'so hin']}\n",
      "{'song_title': 'GEFÜHL FÜR DIE ZEIT', 'lyric_num': 1046, 'languages': {'en'}, 'scores': [0.4285707815582913], 'genre': 'hip-hop', 'lyrics': ['so wie Bourne, eyy']}\n",
      "{'song_title': 'Mehr als lebensgefährlich', 'lyric_num': 1171, 'languages': {'en'}, 'scores': [0.999994924835291], 'genre': 'hip-hop', 'lyrics': ['Year, I work, Year, I work  ']}\n",
      "{'song_title': 'Richter und Henker', 'lyric_num': 1175, 'languages': {'en'}, 'scores': [0.9999964664229223], 'genre': 'deutschrap', 'lyrics': ['Ey, was hast n']}\n",
      "{'song_title': 'Ghetto techno - swimmingpool', 'lyric_num': 1178, 'languages': {'en'}, 'scores': [0.8571389122743919], 'genre': 'rap', 'lyrics': ['Das ist unsre Atzen Hymne Ghetto Techno Party Sünde Techno Ghetto Swimmingpool man kennt ich auch als Partyhool Boom boom boom und alle hörn den Ghetto Techno Ich sag Boom boom boom und alle hörn den Ghetto Techno Ich sag Boom boom boom und alle hörn den Ghetto Techno Ich sag boom boom boom Boom boom boom Boom boom boom Und alle schrein jetzt Deine Party ist nicht cool Denn du hast kein Swimmingpool Ich trink wie ein Swimmingpool Jetzt ist deine Party cool']}\n",
      "{'song_title': 'Welcome to Budapest', 'lyric_num': 1205, 'languages': {'en'}, 'scores': [0.5706456574217417], 'genre': 'emo', 'lyrics': ['hat']}\n",
      "{'song_title': 'Ihr habt uns vergessen', 'lyric_num': 1215, 'languages': {'en'}, 'scores': [0.9999954542962027], 'genre': 'deutschrap', 'lyrics': ['Baby im']}\n",
      "{'song_title': 'Zeit für mich', 'lyric_num': 1244, 'languages': {'en'}, 'scores': [0.7142812090277533, 0.7142812090277533, 0.9999964046249652], 'genre': 'schlager', 'lyrics': ['Yeyeyeyeyeyeah  Deal with it', 'Yeyeyeyeyeyeah  Deal with it', 'Yeyeyeyeyeyeah  Deal with it Deal with it, Digga, ey, deal with it']}\n",
      "{'song_title': 'Intro (M.A.D.U. 4)', 'lyric_num': 1250, 'languages': {'en'}, 'scores': [0.571427685355302], 'genre': 'deutschrap', 'lyrics': ['so wars nicht,']}\n",
      "{'song_title': 'Ich lebe', 'lyric_num': 1280, 'languages': {'en'}, 'scores': [0.9999981326448241], 'genre': nan, 'lyrics': ['Yes I know']}\n",
      "{'song_title': 'Berühmte letzte Worte', 'lyric_num': 1302, 'languages': {'en'}, 'scores': [0.9999951838568326, 0.9999958665679003, 0.7142854212290374], 'genre': 'hip hop', 'lyrics': ['Once again once again Back bitch the incredible  ', 'Aber danke, ja  mir geht es gut  Once again  once again  once again Back bitch the incredible Back bitch back back back back Back bitch the incredible Once again  once again  once again Back bitch the incredible Back bitch back back back back Back bitch', 'Zuspruch nich, seh kein von euch wenn ich in meine Zukunft blick Lieber keinen echten Freund als zehn falsche Hört mir kurz zu wenn ich meine Rede halte  Once again  once again  once again Back bitch the incredible Back bitch back back back back Back bitch the incredible Once again  once again  once again Back bitch the incredible Back bitch back back back back Back bitch the incredible']}\n",
      "{'song_title': 'OK, OK', 'lyric_num': 1311, 'languages': {'en'}, 'scores': [0.8571398132528997], 'genre': nan, 'lyrics': ['Ahh Was Mafia']}\n",
      "{'song_title': '2001', 'lyric_num': 1342, 'languages': {'en'}, 'scores': [0.9999964598860756, 0.8571399132526556, 0.857139226068716, 0.9999966773505921, 0.9999951499704614, 0.9999964254209868, 0.9999938506609485, 0.9999948467857048, 0.9999961319065823, 0.9999964558510449, 0.57142644653209, 0.5714282787759366, 0.9999959529196224, 0.9999985328108352, 0.9999958583870598], 'genre': nan, 'lyrics': ['怒   No Brain .  ', 'Heavy Metal Sinawe   시나위 .', 'And Boys IV   서태지와 아이들 .', 'The Return of N.EX.T Part  The Being   N.EX.T .', 'Nothings Good Enough   UMe Blue .', 'Just Pop   My Aunt Mary .', '비선형 NonLinear   못 .', 'Sound Renovates A Structure   Asōtō Union .', 'The Life...', 'Endless Supply of Pain   Crash .', 'g Beats   DJ soulscape .', 'Instant Pig   CLAZZIQUAI Project .', 'Down and Up   시나위 .', 'Where The Story Ends   W .', 'Brown Eyes   Brown Eyes .']}\n",
      "{'song_title': 'Immer noch so hart', 'lyric_num': 1358, 'languages': {'en'}, 'scores': [0.9999973396012597, 0.9999971539694607], 'genre': 'deutschrap', 'lyrics': ['oh Shit Hook Eko Fresh  Spice One   Still no love , es ist immer noch so hart   killers He looked at me right back told me Man, you shot the niggas My trigger aint got no heart and its some motherfucking thug thing  what Im  ', 'Im sick , Im tired of motherfuckers lyin  these bullets up in your  like Kobe Bryant Hit em up with AK I just pulled up up my   put a hole up in your head and leave it   on you dissapear    clips   I got problems, because they owe me some chips And I need my Doritos, nigga, with cheese on em  the bullets cost money for haters to bleed on em, Bitch One eighty seven, its still a art Its  and a trigger still aint got no heart']}\n",
      "{'song_title': '\\u200bosaft', 'lyric_num': 1362, 'languages': {'en'}, 'scores': [0.7142826248130937], 'genre': 'hip-hop', 'lyrics': ['Für dich nur das Wahre oh Baby, ne, keine Story no, no Ich habs dir gesagt, so wie Tory jaja Sehe doppelt, kein Molly']}\n",
      "{'song_title': 'HINRUNDE', 'lyric_num': 1370, 'languages': {'en'}, 'scores': [0.9999967466634764], 'genre': 'rap', 'lyrics': ['roten GClass Yeah, ich fick']}\n",
      "{'song_title': 'Am laufenden Band', 'lyric_num': 1381, 'languages': {'en'}, 'scores': [0.9999960308629303, 0.9999951944460926, 0.9999951596420388, 0.9999960736204594], 'genre': 'schlager', 'lyrics': ['Chamilitaryman Come to Houston, Texas Where the hustlers and the players play The cars be oldschool Like the Clyde Drexler fadeaway', 'The haters say Oh, we really be riders, came to take the grills, swinging wheels til they get introduced to the stainless steels I can niggas say the thrill The name, really, them heard about My murder  Killin the charts U fellin that burner shot Yall know, Banjo and Im gonna get fatty banks Flirtin with a pretty ass German, her man is pretty mad Cuz Im the truest lookin cool as Wonder how i make more than the president in the US', 'So i get dough and than i go high than night ambulance Be quiet, cuz say what snitch kids What u wouldnt believe it was true like a memphis', 'So i wont get descriptive But ill tell u how to get a hundred gram Understand, you cant fit a hundred inside a rubber band']}\n",
      "{'song_title': 'Traube Minze', 'lyric_num': 1396, 'languages': {'en'}, 'scores': [0.4285700874638063, 0.571425941819133, 0.5714275715534598, 0.5714270644586172], 'genre': 'reggae', 'lyrics': ['Hmmh, yeah', 'Flex, Flex, Flex, Flex Yeah  ', 'Full flex, Cartier Ketten Gold, yeah', 'Kopffick macht mich stoned, nein']}\n",
      "{'song_title': 'ROLI', 'lyric_num': 1403, 'languages': {'en'}, 'scores': [0.7142845401988532], 'genre': 'hip-hop', 'lyrics': ['Whats new Und die Bitch bringt']}\n"
     ]
    }
   ],
   "source": [
    "# without Unkown\n",
    "# store in list for visualisation\n",
    "results = []\n",
    "count = 0\n",
    "\n",
    "for idx, row in df_copy.iterrows():\n",
    "    if count >= 100:\n",
    "        break\n",
    "    text = row['lyrics']\n",
    "    doc = list(nlp.pipe([text]))[0]\n",
    "    # get words from spacy vocab\n",
    "    non_german_sents = [sent for sent in doc.sents if sent._.language['language'] == 'en']\n",
    "    if len(non_german_sents) > 0:\n",
    "        song_title = row['title']\n",
    "        lyric_num = idx\n",
    "        languages = []\n",
    "        scores = []\n",
    "        lyrics = []\n",
    "        for sent in non_german_sents:\n",
    "            lang = sent._.language['language']\n",
    "            score = sent._.language['score']\n",
    "            words_in_sentence = [token.text.lower() for token in sent if token.text.lower() in words]\n",
    "            if words_in_sentence:\n",
    "                languages.append(lang)\n",
    "                scores.append(score)\n",
    "                lyrics.append(sent.text)\n",
    "        if len(languages) > 0:\n",
    "            # store results in dictionary\n",
    "            result = {\n",
    "                'song_title': song_title,\n",
    "                'lyric_num': lyric_num,\n",
    "                'languages': set(languages),\n",
    "                'scores': scores,\n",
    "                'genre': row['genre'],\n",
    "                'lyrics': lyrics\n",
    "            }\n",
    "            results.append(result)\n",
    "            print(result)\n",
    "            count += 1"
   ]
  },
  {
   "cell_type": "code",
   "execution_count": null,
   "metadata": {},
   "outputs": [
    {
     "data": {
      "application/vnd.plotly.v1+json": {
       "config": {
        "plotlyServerURL": "https://plot.ly"
       },
       "data": [
        {
         "alignmentgroup": "True",
         "hovertemplate": "genre=%{x}<br>Anzahl=%{y}<extra></extra>",
         "legendgroup": "",
         "marker": {
          "color": "#636efa",
          "pattern": {
           "shape": ""
          }
         },
         "name": "",
         "offsetgroup": "",
         "orientation": "v",
         "showlegend": false,
         "textposition": "auto",
         "type": "bar",
         "x": [
          "[]",
          "ambient",
          "deutsch rap",
          "deutschrap",
          "deutschrock",
          "electro",
          "emo",
          "hip hop",
          "hip-hop",
          "indie",
          "karneval",
          "pop",
          "post-rock",
          "rap",
          "reggae",
          "schlager"
         ],
         "xaxis": "x",
         "y": [
          1,
          1,
          1,
          21,
          1,
          3,
          2,
          5,
          11,
          4,
          1,
          12,
          2,
          14,
          5,
          6
         ],
         "yaxis": "y"
        }
       ],
       "layout": {
        "barmode": "relative",
        "legend": {
         "tracegroupgap": 0
        },
        "template": {
         "data": {
          "bar": [
           {
            "error_x": {
             "color": "#2a3f5f"
            },
            "error_y": {
             "color": "#2a3f5f"
            },
            "marker": {
             "line": {
              "color": "#E5ECF6",
              "width": 0.5
             },
             "pattern": {
              "fillmode": "overlay",
              "size": 10,
              "solidity": 0.2
             }
            },
            "type": "bar"
           }
          ],
          "barpolar": [
           {
            "marker": {
             "line": {
              "color": "#E5ECF6",
              "width": 0.5
             },
             "pattern": {
              "fillmode": "overlay",
              "size": 10,
              "solidity": 0.2
             }
            },
            "type": "barpolar"
           }
          ],
          "carpet": [
           {
            "aaxis": {
             "endlinecolor": "#2a3f5f",
             "gridcolor": "white",
             "linecolor": "white",
             "minorgridcolor": "white",
             "startlinecolor": "#2a3f5f"
            },
            "baxis": {
             "endlinecolor": "#2a3f5f",
             "gridcolor": "white",
             "linecolor": "white",
             "minorgridcolor": "white",
             "startlinecolor": "#2a3f5f"
            },
            "type": "carpet"
           }
          ],
          "choropleth": [
           {
            "colorbar": {
             "outlinewidth": 0,
             "ticks": ""
            },
            "type": "choropleth"
           }
          ],
          "contour": [
           {
            "colorbar": {
             "outlinewidth": 0,
             "ticks": ""
            },
            "colorscale": [
             [
              0,
              "#0d0887"
             ],
             [
              0.1111111111111111,
              "#46039f"
             ],
             [
              0.2222222222222222,
              "#7201a8"
             ],
             [
              0.3333333333333333,
              "#9c179e"
             ],
             [
              0.4444444444444444,
              "#bd3786"
             ],
             [
              0.5555555555555556,
              "#d8576b"
             ],
             [
              0.6666666666666666,
              "#ed7953"
             ],
             [
              0.7777777777777778,
              "#fb9f3a"
             ],
             [
              0.8888888888888888,
              "#fdca26"
             ],
             [
              1,
              "#f0f921"
             ]
            ],
            "type": "contour"
           }
          ],
          "contourcarpet": [
           {
            "colorbar": {
             "outlinewidth": 0,
             "ticks": ""
            },
            "type": "contourcarpet"
           }
          ],
          "heatmap": [
           {
            "colorbar": {
             "outlinewidth": 0,
             "ticks": ""
            },
            "colorscale": [
             [
              0,
              "#0d0887"
             ],
             [
              0.1111111111111111,
              "#46039f"
             ],
             [
              0.2222222222222222,
              "#7201a8"
             ],
             [
              0.3333333333333333,
              "#9c179e"
             ],
             [
              0.4444444444444444,
              "#bd3786"
             ],
             [
              0.5555555555555556,
              "#d8576b"
             ],
             [
              0.6666666666666666,
              "#ed7953"
             ],
             [
              0.7777777777777778,
              "#fb9f3a"
             ],
             [
              0.8888888888888888,
              "#fdca26"
             ],
             [
              1,
              "#f0f921"
             ]
            ],
            "type": "heatmap"
           }
          ],
          "heatmapgl": [
           {
            "colorbar": {
             "outlinewidth": 0,
             "ticks": ""
            },
            "colorscale": [
             [
              0,
              "#0d0887"
             ],
             [
              0.1111111111111111,
              "#46039f"
             ],
             [
              0.2222222222222222,
              "#7201a8"
             ],
             [
              0.3333333333333333,
              "#9c179e"
             ],
             [
              0.4444444444444444,
              "#bd3786"
             ],
             [
              0.5555555555555556,
              "#d8576b"
             ],
             [
              0.6666666666666666,
              "#ed7953"
             ],
             [
              0.7777777777777778,
              "#fb9f3a"
             ],
             [
              0.8888888888888888,
              "#fdca26"
             ],
             [
              1,
              "#f0f921"
             ]
            ],
            "type": "heatmapgl"
           }
          ],
          "histogram": [
           {
            "marker": {
             "pattern": {
              "fillmode": "overlay",
              "size": 10,
              "solidity": 0.2
             }
            },
            "type": "histogram"
           }
          ],
          "histogram2d": [
           {
            "colorbar": {
             "outlinewidth": 0,
             "ticks": ""
            },
            "colorscale": [
             [
              0,
              "#0d0887"
             ],
             [
              0.1111111111111111,
              "#46039f"
             ],
             [
              0.2222222222222222,
              "#7201a8"
             ],
             [
              0.3333333333333333,
              "#9c179e"
             ],
             [
              0.4444444444444444,
              "#bd3786"
             ],
             [
              0.5555555555555556,
              "#d8576b"
             ],
             [
              0.6666666666666666,
              "#ed7953"
             ],
             [
              0.7777777777777778,
              "#fb9f3a"
             ],
             [
              0.8888888888888888,
              "#fdca26"
             ],
             [
              1,
              "#f0f921"
             ]
            ],
            "type": "histogram2d"
           }
          ],
          "histogram2dcontour": [
           {
            "colorbar": {
             "outlinewidth": 0,
             "ticks": ""
            },
            "colorscale": [
             [
              0,
              "#0d0887"
             ],
             [
              0.1111111111111111,
              "#46039f"
             ],
             [
              0.2222222222222222,
              "#7201a8"
             ],
             [
              0.3333333333333333,
              "#9c179e"
             ],
             [
              0.4444444444444444,
              "#bd3786"
             ],
             [
              0.5555555555555556,
              "#d8576b"
             ],
             [
              0.6666666666666666,
              "#ed7953"
             ],
             [
              0.7777777777777778,
              "#fb9f3a"
             ],
             [
              0.8888888888888888,
              "#fdca26"
             ],
             [
              1,
              "#f0f921"
             ]
            ],
            "type": "histogram2dcontour"
           }
          ],
          "mesh3d": [
           {
            "colorbar": {
             "outlinewidth": 0,
             "ticks": ""
            },
            "type": "mesh3d"
           }
          ],
          "parcoords": [
           {
            "line": {
             "colorbar": {
              "outlinewidth": 0,
              "ticks": ""
             }
            },
            "type": "parcoords"
           }
          ],
          "pie": [
           {
            "automargin": true,
            "type": "pie"
           }
          ],
          "scatter": [
           {
            "fillpattern": {
             "fillmode": "overlay",
             "size": 10,
             "solidity": 0.2
            },
            "type": "scatter"
           }
          ],
          "scatter3d": [
           {
            "line": {
             "colorbar": {
              "outlinewidth": 0,
              "ticks": ""
             }
            },
            "marker": {
             "colorbar": {
              "outlinewidth": 0,
              "ticks": ""
             }
            },
            "type": "scatter3d"
           }
          ],
          "scattercarpet": [
           {
            "marker": {
             "colorbar": {
              "outlinewidth": 0,
              "ticks": ""
             }
            },
            "type": "scattercarpet"
           }
          ],
          "scattergeo": [
           {
            "marker": {
             "colorbar": {
              "outlinewidth": 0,
              "ticks": ""
             }
            },
            "type": "scattergeo"
           }
          ],
          "scattergl": [
           {
            "marker": {
             "colorbar": {
              "outlinewidth": 0,
              "ticks": ""
             }
            },
            "type": "scattergl"
           }
          ],
          "scattermapbox": [
           {
            "marker": {
             "colorbar": {
              "outlinewidth": 0,
              "ticks": ""
             }
            },
            "type": "scattermapbox"
           }
          ],
          "scatterpolar": [
           {
            "marker": {
             "colorbar": {
              "outlinewidth": 0,
              "ticks": ""
             }
            },
            "type": "scatterpolar"
           }
          ],
          "scatterpolargl": [
           {
            "marker": {
             "colorbar": {
              "outlinewidth": 0,
              "ticks": ""
             }
            },
            "type": "scatterpolargl"
           }
          ],
          "scatterternary": [
           {
            "marker": {
             "colorbar": {
              "outlinewidth": 0,
              "ticks": ""
             }
            },
            "type": "scatterternary"
           }
          ],
          "surface": [
           {
            "colorbar": {
             "outlinewidth": 0,
             "ticks": ""
            },
            "colorscale": [
             [
              0,
              "#0d0887"
             ],
             [
              0.1111111111111111,
              "#46039f"
             ],
             [
              0.2222222222222222,
              "#7201a8"
             ],
             [
              0.3333333333333333,
              "#9c179e"
             ],
             [
              0.4444444444444444,
              "#bd3786"
             ],
             [
              0.5555555555555556,
              "#d8576b"
             ],
             [
              0.6666666666666666,
              "#ed7953"
             ],
             [
              0.7777777777777778,
              "#fb9f3a"
             ],
             [
              0.8888888888888888,
              "#fdca26"
             ],
             [
              1,
              "#f0f921"
             ]
            ],
            "type": "surface"
           }
          ],
          "table": [
           {
            "cells": {
             "fill": {
              "color": "#EBF0F8"
             },
             "line": {
              "color": "white"
             }
            },
            "header": {
             "fill": {
              "color": "#C8D4E3"
             },
             "line": {
              "color": "white"
             }
            },
            "type": "table"
           }
          ]
         },
         "layout": {
          "annotationdefaults": {
           "arrowcolor": "#2a3f5f",
           "arrowhead": 0,
           "arrowwidth": 1
          },
          "autotypenumbers": "strict",
          "coloraxis": {
           "colorbar": {
            "outlinewidth": 0,
            "ticks": ""
           }
          },
          "colorscale": {
           "diverging": [
            [
             0,
             "#8e0152"
            ],
            [
             0.1,
             "#c51b7d"
            ],
            [
             0.2,
             "#de77ae"
            ],
            [
             0.3,
             "#f1b6da"
            ],
            [
             0.4,
             "#fde0ef"
            ],
            [
             0.5,
             "#f7f7f7"
            ],
            [
             0.6,
             "#e6f5d0"
            ],
            [
             0.7,
             "#b8e186"
            ],
            [
             0.8,
             "#7fbc41"
            ],
            [
             0.9,
             "#4d9221"
            ],
            [
             1,
             "#276419"
            ]
           ],
           "sequential": [
            [
             0,
             "#0d0887"
            ],
            [
             0.1111111111111111,
             "#46039f"
            ],
            [
             0.2222222222222222,
             "#7201a8"
            ],
            [
             0.3333333333333333,
             "#9c179e"
            ],
            [
             0.4444444444444444,
             "#bd3786"
            ],
            [
             0.5555555555555556,
             "#d8576b"
            ],
            [
             0.6666666666666666,
             "#ed7953"
            ],
            [
             0.7777777777777778,
             "#fb9f3a"
            ],
            [
             0.8888888888888888,
             "#fdca26"
            ],
            [
             1,
             "#f0f921"
            ]
           ],
           "sequentialminus": [
            [
             0,
             "#0d0887"
            ],
            [
             0.1111111111111111,
             "#46039f"
            ],
            [
             0.2222222222222222,
             "#7201a8"
            ],
            [
             0.3333333333333333,
             "#9c179e"
            ],
            [
             0.4444444444444444,
             "#bd3786"
            ],
            [
             0.5555555555555556,
             "#d8576b"
            ],
            [
             0.6666666666666666,
             "#ed7953"
            ],
            [
             0.7777777777777778,
             "#fb9f3a"
            ],
            [
             0.8888888888888888,
             "#fdca26"
            ],
            [
             1,
             "#f0f921"
            ]
           ]
          },
          "colorway": [
           "#636efa",
           "#EF553B",
           "#00cc96",
           "#ab63fa",
           "#FFA15A",
           "#19d3f3",
           "#FF6692",
           "#B6E880",
           "#FF97FF",
           "#FECB52"
          ],
          "font": {
           "color": "#2a3f5f"
          },
          "geo": {
           "bgcolor": "white",
           "lakecolor": "white",
           "landcolor": "#E5ECF6",
           "showlakes": true,
           "showland": true,
           "subunitcolor": "white"
          },
          "hoverlabel": {
           "align": "left"
          },
          "hovermode": "closest",
          "mapbox": {
           "style": "light"
          },
          "paper_bgcolor": "white",
          "plot_bgcolor": "#E5ECF6",
          "polar": {
           "angularaxis": {
            "gridcolor": "white",
            "linecolor": "white",
            "ticks": ""
           },
           "bgcolor": "#E5ECF6",
           "radialaxis": {
            "gridcolor": "white",
            "linecolor": "white",
            "ticks": ""
           }
          },
          "scene": {
           "xaxis": {
            "backgroundcolor": "#E5ECF6",
            "gridcolor": "white",
            "gridwidth": 2,
            "linecolor": "white",
            "showbackground": true,
            "ticks": "",
            "zerolinecolor": "white"
           },
           "yaxis": {
            "backgroundcolor": "#E5ECF6",
            "gridcolor": "white",
            "gridwidth": 2,
            "linecolor": "white",
            "showbackground": true,
            "ticks": "",
            "zerolinecolor": "white"
           },
           "zaxis": {
            "backgroundcolor": "#E5ECF6",
            "gridcolor": "white",
            "gridwidth": 2,
            "linecolor": "white",
            "showbackground": true,
            "ticks": "",
            "zerolinecolor": "white"
           }
          },
          "shapedefaults": {
           "line": {
            "color": "#2a3f5f"
           }
          },
          "ternary": {
           "aaxis": {
            "gridcolor": "white",
            "linecolor": "white",
            "ticks": ""
           },
           "baxis": {
            "gridcolor": "white",
            "linecolor": "white",
            "ticks": ""
           },
           "bgcolor": "#E5ECF6",
           "caxis": {
            "gridcolor": "white",
            "linecolor": "white",
            "ticks": ""
           }
          },
          "title": {
           "x": 0.05
          },
          "xaxis": {
           "automargin": true,
           "gridcolor": "white",
           "linecolor": "white",
           "ticks": "",
           "title": {
            "standoff": 15
           },
           "zerolinecolor": "white",
           "zerolinewidth": 2
          },
          "yaxis": {
           "automargin": true,
           "gridcolor": "white",
           "linecolor": "white",
           "ticks": "",
           "title": {
            "standoff": 15
           },
           "zerolinecolor": "white",
           "zerolinewidth": 2
          }
         }
        },
        "title": {
         "text": "Verteilung der Englisch-sprachigen Lyrics"
        },
        "xaxis": {
         "anchor": "y",
         "categoryarray": [
          "rap",
          null,
          "schlager",
          "deutschrap",
          "[]",
          "pop",
          "karneval",
          "electro",
          "reggae",
          "emo",
          "hip-hop",
          "hip hop",
          "indie",
          "deutsch rap",
          "ambient",
          "post-rock",
          "deutschrock"
         ],
         "categoryorder": "array",
         "domain": [
          0,
          1
         ],
         "title": {
          "text": "genre"
         }
        },
        "yaxis": {
         "anchor": "x",
         "domain": [
          0,
          1
         ],
         "title": {
          "text": "Anzahl"
         }
        }
       }
      }
     },
     "metadata": {},
     "output_type": "display_data"
    }
   ],
   "source": [
    "df_results = pd.DataFrame(results)\n",
    "genre_count = df_results.groupby(['genre']).size().reset_index(name='count')\n",
    "\n",
    "fig = px.bar(genre_count, x='genre', y='count', title='Verteilung der Englisch-sprachigen Lyrics',\n",
    "             category_orders={'genre': df_results['genre'].unique()},\n",
    "             labels={'count': 'Anzahl'})\n",
    "fig.show()"
   ]
  },
  {
   "cell_type": "code",
   "execution_count": null,
   "metadata": {},
   "outputs": [],
   "source": [
    "# !pip install spacyturk\n",
    "import spacyturk\n",
    "# spacyturk.download(\"tr_floret_web_md\")"
   ]
  },
  {
   "cell_type": "code",
   "execution_count": null,
   "metadata": {},
   "outputs": [],
   "source": [
    "# without Unkown\n",
    "# store in list for visualisation\n",
    "\n",
    "df_copy = df.sample(frac=1).reset_index(drop=True)\n",
    "nlp = spacy.load(\"tr_floret_web_md\")\n",
    "# set sentence boundaries\n",
    "nlp.add_pipe('sentencizer')\n",
    "words = set(nlp.vocab.strings)\n",
    "\n",
    "results = []\n",
    "count = 0\n",
    "\n",
    "for idx, row in df_copy.iterrows():\n",
    "    # if count >= 100:\n",
    "    #     break\n",
    "    text = row['lyrics']\n",
    "    doc = list(nlp.pipe([text]))[0]\n",
    "    # get words from spacy vocab\n",
    "    non_german_sents = [sent for sent in doc.sents if sent._.language['language'] == 'tr']\n",
    "    if len(non_german_sents) > 0:\n",
    "        song_title = row['title']\n",
    "        lyric_num = idx\n",
    "        languages = []\n",
    "        scores = []\n",
    "        lyrics = []\n",
    "        for sent in non_german_sents:\n",
    "            lang = sent._.language['language']\n",
    "            score = sent._.language['score']\n",
    "            words_in_sentence = [token.text.lower() for token in sent if token.text.lower() in words]\n",
    "            if words_in_sentence:\n",
    "                languages.append(lang)\n",
    "                scores.append(score)\n",
    "                lyrics.append(sent.text)\n",
    "        if len(languages) > 0:\n",
    "            # store results in dictionary\n",
    "            result = {\n",
    "                'song_title': song_title,\n",
    "                'lyric_num': lyric_num,\n",
    "                'languages': set(languages),\n",
    "                'scores': scores,\n",
    "                'genre': row['genre'],\n",
    "                'lyrics': lyrics\n",
    "            }\n",
    "            results.append(result)\n",
    "            print(result)\n",
    "            count += 1"
   ]
  },
  {
   "cell_type": "code",
   "execution_count": null,
   "metadata": {},
   "outputs": [
    {
     "data": {
      "application/vnd.plotly.v1+json": {
       "config": {
        "plotlyServerURL": "https://plot.ly"
       },
       "data": [
        {
         "alignmentgroup": "True",
         "hovertemplate": "genre=%{x}<br>Anzahl=%{y}<extra></extra>",
         "legendgroup": "",
         "marker": {
          "color": "#636efa",
          "pattern": {
           "shape": ""
          }
         },
         "name": "",
         "offsetgroup": "",
         "orientation": "v",
         "showlegend": false,
         "textposition": "auto",
         "type": "bar",
         "x": [
          "deutschrap",
          "hip hop",
          "pop",
          "post-rock",
          "rap",
          "rock"
         ],
         "xaxis": "x",
         "y": [
          2,
          1,
          1,
          1,
          1,
          4
         ],
         "yaxis": "y"
        }
       ],
       "layout": {
        "barmode": "relative",
        "legend": {
         "tracegroupgap": 0
        },
        "template": {
         "data": {
          "bar": [
           {
            "error_x": {
             "color": "#2a3f5f"
            },
            "error_y": {
             "color": "#2a3f5f"
            },
            "marker": {
             "line": {
              "color": "#E5ECF6",
              "width": 0.5
             },
             "pattern": {
              "fillmode": "overlay",
              "size": 10,
              "solidity": 0.2
             }
            },
            "type": "bar"
           }
          ],
          "barpolar": [
           {
            "marker": {
             "line": {
              "color": "#E5ECF6",
              "width": 0.5
             },
             "pattern": {
              "fillmode": "overlay",
              "size": 10,
              "solidity": 0.2
             }
            },
            "type": "barpolar"
           }
          ],
          "carpet": [
           {
            "aaxis": {
             "endlinecolor": "#2a3f5f",
             "gridcolor": "white",
             "linecolor": "white",
             "minorgridcolor": "white",
             "startlinecolor": "#2a3f5f"
            },
            "baxis": {
             "endlinecolor": "#2a3f5f",
             "gridcolor": "white",
             "linecolor": "white",
             "minorgridcolor": "white",
             "startlinecolor": "#2a3f5f"
            },
            "type": "carpet"
           }
          ],
          "choropleth": [
           {
            "colorbar": {
             "outlinewidth": 0,
             "ticks": ""
            },
            "type": "choropleth"
           }
          ],
          "contour": [
           {
            "colorbar": {
             "outlinewidth": 0,
             "ticks": ""
            },
            "colorscale": [
             [
              0,
              "#0d0887"
             ],
             [
              0.1111111111111111,
              "#46039f"
             ],
             [
              0.2222222222222222,
              "#7201a8"
             ],
             [
              0.3333333333333333,
              "#9c179e"
             ],
             [
              0.4444444444444444,
              "#bd3786"
             ],
             [
              0.5555555555555556,
              "#d8576b"
             ],
             [
              0.6666666666666666,
              "#ed7953"
             ],
             [
              0.7777777777777778,
              "#fb9f3a"
             ],
             [
              0.8888888888888888,
              "#fdca26"
             ],
             [
              1,
              "#f0f921"
             ]
            ],
            "type": "contour"
           }
          ],
          "contourcarpet": [
           {
            "colorbar": {
             "outlinewidth": 0,
             "ticks": ""
            },
            "type": "contourcarpet"
           }
          ],
          "heatmap": [
           {
            "colorbar": {
             "outlinewidth": 0,
             "ticks": ""
            },
            "colorscale": [
             [
              0,
              "#0d0887"
             ],
             [
              0.1111111111111111,
              "#46039f"
             ],
             [
              0.2222222222222222,
              "#7201a8"
             ],
             [
              0.3333333333333333,
              "#9c179e"
             ],
             [
              0.4444444444444444,
              "#bd3786"
             ],
             [
              0.5555555555555556,
              "#d8576b"
             ],
             [
              0.6666666666666666,
              "#ed7953"
             ],
             [
              0.7777777777777778,
              "#fb9f3a"
             ],
             [
              0.8888888888888888,
              "#fdca26"
             ],
             [
              1,
              "#f0f921"
             ]
            ],
            "type": "heatmap"
           }
          ],
          "heatmapgl": [
           {
            "colorbar": {
             "outlinewidth": 0,
             "ticks": ""
            },
            "colorscale": [
             [
              0,
              "#0d0887"
             ],
             [
              0.1111111111111111,
              "#46039f"
             ],
             [
              0.2222222222222222,
              "#7201a8"
             ],
             [
              0.3333333333333333,
              "#9c179e"
             ],
             [
              0.4444444444444444,
              "#bd3786"
             ],
             [
              0.5555555555555556,
              "#d8576b"
             ],
             [
              0.6666666666666666,
              "#ed7953"
             ],
             [
              0.7777777777777778,
              "#fb9f3a"
             ],
             [
              0.8888888888888888,
              "#fdca26"
             ],
             [
              1,
              "#f0f921"
             ]
            ],
            "type": "heatmapgl"
           }
          ],
          "histogram": [
           {
            "marker": {
             "pattern": {
              "fillmode": "overlay",
              "size": 10,
              "solidity": 0.2
             }
            },
            "type": "histogram"
           }
          ],
          "histogram2d": [
           {
            "colorbar": {
             "outlinewidth": 0,
             "ticks": ""
            },
            "colorscale": [
             [
              0,
              "#0d0887"
             ],
             [
              0.1111111111111111,
              "#46039f"
             ],
             [
              0.2222222222222222,
              "#7201a8"
             ],
             [
              0.3333333333333333,
              "#9c179e"
             ],
             [
              0.4444444444444444,
              "#bd3786"
             ],
             [
              0.5555555555555556,
              "#d8576b"
             ],
             [
              0.6666666666666666,
              "#ed7953"
             ],
             [
              0.7777777777777778,
              "#fb9f3a"
             ],
             [
              0.8888888888888888,
              "#fdca26"
             ],
             [
              1,
              "#f0f921"
             ]
            ],
            "type": "histogram2d"
           }
          ],
          "histogram2dcontour": [
           {
            "colorbar": {
             "outlinewidth": 0,
             "ticks": ""
            },
            "colorscale": [
             [
              0,
              "#0d0887"
             ],
             [
              0.1111111111111111,
              "#46039f"
             ],
             [
              0.2222222222222222,
              "#7201a8"
             ],
             [
              0.3333333333333333,
              "#9c179e"
             ],
             [
              0.4444444444444444,
              "#bd3786"
             ],
             [
              0.5555555555555556,
              "#d8576b"
             ],
             [
              0.6666666666666666,
              "#ed7953"
             ],
             [
              0.7777777777777778,
              "#fb9f3a"
             ],
             [
              0.8888888888888888,
              "#fdca26"
             ],
             [
              1,
              "#f0f921"
             ]
            ],
            "type": "histogram2dcontour"
           }
          ],
          "mesh3d": [
           {
            "colorbar": {
             "outlinewidth": 0,
             "ticks": ""
            },
            "type": "mesh3d"
           }
          ],
          "parcoords": [
           {
            "line": {
             "colorbar": {
              "outlinewidth": 0,
              "ticks": ""
             }
            },
            "type": "parcoords"
           }
          ],
          "pie": [
           {
            "automargin": true,
            "type": "pie"
           }
          ],
          "scatter": [
           {
            "fillpattern": {
             "fillmode": "overlay",
             "size": 10,
             "solidity": 0.2
            },
            "type": "scatter"
           }
          ],
          "scatter3d": [
           {
            "line": {
             "colorbar": {
              "outlinewidth": 0,
              "ticks": ""
             }
            },
            "marker": {
             "colorbar": {
              "outlinewidth": 0,
              "ticks": ""
             }
            },
            "type": "scatter3d"
           }
          ],
          "scattercarpet": [
           {
            "marker": {
             "colorbar": {
              "outlinewidth": 0,
              "ticks": ""
             }
            },
            "type": "scattercarpet"
           }
          ],
          "scattergeo": [
           {
            "marker": {
             "colorbar": {
              "outlinewidth": 0,
              "ticks": ""
             }
            },
            "type": "scattergeo"
           }
          ],
          "scattergl": [
           {
            "marker": {
             "colorbar": {
              "outlinewidth": 0,
              "ticks": ""
             }
            },
            "type": "scattergl"
           }
          ],
          "scattermapbox": [
           {
            "marker": {
             "colorbar": {
              "outlinewidth": 0,
              "ticks": ""
             }
            },
            "type": "scattermapbox"
           }
          ],
          "scatterpolar": [
           {
            "marker": {
             "colorbar": {
              "outlinewidth": 0,
              "ticks": ""
             }
            },
            "type": "scatterpolar"
           }
          ],
          "scatterpolargl": [
           {
            "marker": {
             "colorbar": {
              "outlinewidth": 0,
              "ticks": ""
             }
            },
            "type": "scatterpolargl"
           }
          ],
          "scatterternary": [
           {
            "marker": {
             "colorbar": {
              "outlinewidth": 0,
              "ticks": ""
             }
            },
            "type": "scatterternary"
           }
          ],
          "surface": [
           {
            "colorbar": {
             "outlinewidth": 0,
             "ticks": ""
            },
            "colorscale": [
             [
              0,
              "#0d0887"
             ],
             [
              0.1111111111111111,
              "#46039f"
             ],
             [
              0.2222222222222222,
              "#7201a8"
             ],
             [
              0.3333333333333333,
              "#9c179e"
             ],
             [
              0.4444444444444444,
              "#bd3786"
             ],
             [
              0.5555555555555556,
              "#d8576b"
             ],
             [
              0.6666666666666666,
              "#ed7953"
             ],
             [
              0.7777777777777778,
              "#fb9f3a"
             ],
             [
              0.8888888888888888,
              "#fdca26"
             ],
             [
              1,
              "#f0f921"
             ]
            ],
            "type": "surface"
           }
          ],
          "table": [
           {
            "cells": {
             "fill": {
              "color": "#EBF0F8"
             },
             "line": {
              "color": "white"
             }
            },
            "header": {
             "fill": {
              "color": "#C8D4E3"
             },
             "line": {
              "color": "white"
             }
            },
            "type": "table"
           }
          ]
         },
         "layout": {
          "annotationdefaults": {
           "arrowcolor": "#2a3f5f",
           "arrowhead": 0,
           "arrowwidth": 1
          },
          "autotypenumbers": "strict",
          "coloraxis": {
           "colorbar": {
            "outlinewidth": 0,
            "ticks": ""
           }
          },
          "colorscale": {
           "diverging": [
            [
             0,
             "#8e0152"
            ],
            [
             0.1,
             "#c51b7d"
            ],
            [
             0.2,
             "#de77ae"
            ],
            [
             0.3,
             "#f1b6da"
            ],
            [
             0.4,
             "#fde0ef"
            ],
            [
             0.5,
             "#f7f7f7"
            ],
            [
             0.6,
             "#e6f5d0"
            ],
            [
             0.7,
             "#b8e186"
            ],
            [
             0.8,
             "#7fbc41"
            ],
            [
             0.9,
             "#4d9221"
            ],
            [
             1,
             "#276419"
            ]
           ],
           "sequential": [
            [
             0,
             "#0d0887"
            ],
            [
             0.1111111111111111,
             "#46039f"
            ],
            [
             0.2222222222222222,
             "#7201a8"
            ],
            [
             0.3333333333333333,
             "#9c179e"
            ],
            [
             0.4444444444444444,
             "#bd3786"
            ],
            [
             0.5555555555555556,
             "#d8576b"
            ],
            [
             0.6666666666666666,
             "#ed7953"
            ],
            [
             0.7777777777777778,
             "#fb9f3a"
            ],
            [
             0.8888888888888888,
             "#fdca26"
            ],
            [
             1,
             "#f0f921"
            ]
           ],
           "sequentialminus": [
            [
             0,
             "#0d0887"
            ],
            [
             0.1111111111111111,
             "#46039f"
            ],
            [
             0.2222222222222222,
             "#7201a8"
            ],
            [
             0.3333333333333333,
             "#9c179e"
            ],
            [
             0.4444444444444444,
             "#bd3786"
            ],
            [
             0.5555555555555556,
             "#d8576b"
            ],
            [
             0.6666666666666666,
             "#ed7953"
            ],
            [
             0.7777777777777778,
             "#fb9f3a"
            ],
            [
             0.8888888888888888,
             "#fdca26"
            ],
            [
             1,
             "#f0f921"
            ]
           ]
          },
          "colorway": [
           "#636efa",
           "#EF553B",
           "#00cc96",
           "#ab63fa",
           "#FFA15A",
           "#19d3f3",
           "#FF6692",
           "#B6E880",
           "#FF97FF",
           "#FECB52"
          ],
          "font": {
           "color": "#2a3f5f"
          },
          "geo": {
           "bgcolor": "white",
           "lakecolor": "white",
           "landcolor": "#E5ECF6",
           "showlakes": true,
           "showland": true,
           "subunitcolor": "white"
          },
          "hoverlabel": {
           "align": "left"
          },
          "hovermode": "closest",
          "mapbox": {
           "style": "light"
          },
          "paper_bgcolor": "white",
          "plot_bgcolor": "#E5ECF6",
          "polar": {
           "angularaxis": {
            "gridcolor": "white",
            "linecolor": "white",
            "ticks": ""
           },
           "bgcolor": "#E5ECF6",
           "radialaxis": {
            "gridcolor": "white",
            "linecolor": "white",
            "ticks": ""
           }
          },
          "scene": {
           "xaxis": {
            "backgroundcolor": "#E5ECF6",
            "gridcolor": "white",
            "gridwidth": 2,
            "linecolor": "white",
            "showbackground": true,
            "ticks": "",
            "zerolinecolor": "white"
           },
           "yaxis": {
            "backgroundcolor": "#E5ECF6",
            "gridcolor": "white",
            "gridwidth": 2,
            "linecolor": "white",
            "showbackground": true,
            "ticks": "",
            "zerolinecolor": "white"
           },
           "zaxis": {
            "backgroundcolor": "#E5ECF6",
            "gridcolor": "white",
            "gridwidth": 2,
            "linecolor": "white",
            "showbackground": true,
            "ticks": "",
            "zerolinecolor": "white"
           }
          },
          "shapedefaults": {
           "line": {
            "color": "#2a3f5f"
           }
          },
          "ternary": {
           "aaxis": {
            "gridcolor": "white",
            "linecolor": "white",
            "ticks": ""
           },
           "baxis": {
            "gridcolor": "white",
            "linecolor": "white",
            "ticks": ""
           },
           "bgcolor": "#E5ECF6",
           "caxis": {
            "gridcolor": "white",
            "linecolor": "white",
            "ticks": ""
           }
          },
          "title": {
           "x": 0.05
          },
          "xaxis": {
           "automargin": true,
           "gridcolor": "white",
           "linecolor": "white",
           "ticks": "",
           "title": {
            "standoff": 15
           },
           "zerolinecolor": "white",
           "zerolinewidth": 2
          },
          "yaxis": {
           "automargin": true,
           "gridcolor": "white",
           "linecolor": "white",
           "ticks": "",
           "title": {
            "standoff": 15
           },
           "zerolinecolor": "white",
           "zerolinewidth": 2
          }
         }
        },
        "title": {
         "text": "Verteilung der Türkisch-sprachigen Lyrics"
        },
        "xaxis": {
         "anchor": "y",
         "categoryarray": [
          "hip hop",
          "rock",
          null,
          "deutschrap",
          "rap",
          "post-rock",
          "pop"
         ],
         "categoryorder": "array",
         "domain": [
          0,
          1
         ],
         "title": {
          "text": "genre"
         }
        },
        "yaxis": {
         "anchor": "x",
         "domain": [
          0,
          1
         ],
         "title": {
          "text": "Anzahl"
         }
        }
       }
      }
     },
     "metadata": {},
     "output_type": "display_data"
    }
   ],
   "source": [
    "df_results = pd.DataFrame(results)\n",
    "genre_count = df_results.groupby(['genre']).size().reset_index(name='count')\n",
    "\n",
    "fig = px.bar(genre_count, x='genre', y='count', title='Verteilung der Türkisch-sprachigen Lyrics',\n",
    "             category_orders={'genre': df_results['genre'].unique()},\n",
    "             labels={'count': 'Anzahl'})\n",
    "fig.show()"
   ]
  },
  {
   "attachments": {},
   "cell_type": "markdown",
   "metadata": {},
   "source": [
    "Für den Output haben wir letztendlich nur die ersten hundert Lieder durchlaufen lassen, da es bei dem ganzen Datensatz fast 20 Minuten gedauert hatte bis wir fertig wurden und das zu viel wäre vor allem wenn nach jedem Satz in einer Lyric geprüft wird. Uns ist dann aufgefallen, dass die Spracherkennung oft fehlerhaft ist, als wir selbst nach den Lyrics gegoogelt haben. Wir haben dann ein anderes SpaCy Modell eingesetzt, allerdings hatte das keinen großen Unterschied gemacht. Im Moment wissen wir nicht woran das liegt und was wir falsch gemacht haben, deswegen müssten wir uns die kommenden Tage weiterhin damit beschäftigen."
   ]
  },
  {
   "cell_type": "code",
   "execution_count": null,
   "metadata": {},
   "outputs": [],
   "source": [
    "# df_results = pd.DataFrame(results)\n",
    "# df_results.to_csv(\"language_results.csv\")"
   ]
  },
  {
   "cell_type": "code",
   "execution_count": null,
   "metadata": {},
   "outputs": [],
   "source": [
    "# df = pd.read_csv('../notebooks/language_results.csv')"
   ]
  },
  {
   "cell_type": "code",
   "execution_count": null,
   "metadata": {},
   "outputs": [
    {
     "data": {
      "application/vnd.plotly.v1+json": {
       "config": {
        "plotlyServerURL": "https://plot.ly"
       },
       "data": [
        {
         "alignmentgroup": "True",
         "hovertemplate": "variable=languages<br>index=%{x}<br>value=%{y}<extra></extra>",
         "legendgroup": "languages",
         "marker": {
          "color": "#636efa",
          "pattern": {
           "shape": ""
          }
         },
         "name": "languages",
         "offsetgroup": "languages",
         "orientation": "v",
         "showlegend": true,
         "textposition": "auto",
         "type": "bar",
         "x": [
          "af",
          "bg",
          "ca",
          "cs",
          "cy",
          "da",
          "en",
          "es",
          "et",
          "fi",
          "fr",
          "hr",
          "hu",
          "id",
          "it",
          "ja",
          "lt",
          "lv",
          "mk",
          "nl",
          "no",
          "pl",
          "pt",
          "ro",
          "ru",
          "sk",
          "sl",
          "so",
          "sq",
          "sv",
          "sw",
          "tl",
          "tr",
          "vi"
         ],
         "xaxis": "x",
         "y": [
          3122,
          2,
          325,
          127,
          723,
          737,
          7272,
          471,
          1258,
          547,
          1284,
          160,
          108,
          1811,
          550,
          1,
          140,
          134,
          6,
          1117,
          798,
          715,
          303,
          172,
          29,
          211,
          131,
          1202,
          150,
          1176,
          685,
          1202,
          678,
          242
         ],
         "yaxis": "y"
        }
       ],
       "layout": {
        "barmode": "relative",
        "legend": {
         "title": {
          "text": "variable"
         },
         "tracegroupgap": 0
        },
        "template": {
         "data": {
          "bar": [
           {
            "error_x": {
             "color": "#2a3f5f"
            },
            "error_y": {
             "color": "#2a3f5f"
            },
            "marker": {
             "line": {
              "color": "#E5ECF6",
              "width": 0.5
             },
             "pattern": {
              "fillmode": "overlay",
              "size": 10,
              "solidity": 0.2
             }
            },
            "type": "bar"
           }
          ],
          "barpolar": [
           {
            "marker": {
             "line": {
              "color": "#E5ECF6",
              "width": 0.5
             },
             "pattern": {
              "fillmode": "overlay",
              "size": 10,
              "solidity": 0.2
             }
            },
            "type": "barpolar"
           }
          ],
          "carpet": [
           {
            "aaxis": {
             "endlinecolor": "#2a3f5f",
             "gridcolor": "white",
             "linecolor": "white",
             "minorgridcolor": "white",
             "startlinecolor": "#2a3f5f"
            },
            "baxis": {
             "endlinecolor": "#2a3f5f",
             "gridcolor": "white",
             "linecolor": "white",
             "minorgridcolor": "white",
             "startlinecolor": "#2a3f5f"
            },
            "type": "carpet"
           }
          ],
          "choropleth": [
           {
            "colorbar": {
             "outlinewidth": 0,
             "ticks": ""
            },
            "type": "choropleth"
           }
          ],
          "contour": [
           {
            "colorbar": {
             "outlinewidth": 0,
             "ticks": ""
            },
            "colorscale": [
             [
              0,
              "#0d0887"
             ],
             [
              0.1111111111111111,
              "#46039f"
             ],
             [
              0.2222222222222222,
              "#7201a8"
             ],
             [
              0.3333333333333333,
              "#9c179e"
             ],
             [
              0.4444444444444444,
              "#bd3786"
             ],
             [
              0.5555555555555556,
              "#d8576b"
             ],
             [
              0.6666666666666666,
              "#ed7953"
             ],
             [
              0.7777777777777778,
              "#fb9f3a"
             ],
             [
              0.8888888888888888,
              "#fdca26"
             ],
             [
              1,
              "#f0f921"
             ]
            ],
            "type": "contour"
           }
          ],
          "contourcarpet": [
           {
            "colorbar": {
             "outlinewidth": 0,
             "ticks": ""
            },
            "type": "contourcarpet"
           }
          ],
          "heatmap": [
           {
            "colorbar": {
             "outlinewidth": 0,
             "ticks": ""
            },
            "colorscale": [
             [
              0,
              "#0d0887"
             ],
             [
              0.1111111111111111,
              "#46039f"
             ],
             [
              0.2222222222222222,
              "#7201a8"
             ],
             [
              0.3333333333333333,
              "#9c179e"
             ],
             [
              0.4444444444444444,
              "#bd3786"
             ],
             [
              0.5555555555555556,
              "#d8576b"
             ],
             [
              0.6666666666666666,
              "#ed7953"
             ],
             [
              0.7777777777777778,
              "#fb9f3a"
             ],
             [
              0.8888888888888888,
              "#fdca26"
             ],
             [
              1,
              "#f0f921"
             ]
            ],
            "type": "heatmap"
           }
          ],
          "heatmapgl": [
           {
            "colorbar": {
             "outlinewidth": 0,
             "ticks": ""
            },
            "colorscale": [
             [
              0,
              "#0d0887"
             ],
             [
              0.1111111111111111,
              "#46039f"
             ],
             [
              0.2222222222222222,
              "#7201a8"
             ],
             [
              0.3333333333333333,
              "#9c179e"
             ],
             [
              0.4444444444444444,
              "#bd3786"
             ],
             [
              0.5555555555555556,
              "#d8576b"
             ],
             [
              0.6666666666666666,
              "#ed7953"
             ],
             [
              0.7777777777777778,
              "#fb9f3a"
             ],
             [
              0.8888888888888888,
              "#fdca26"
             ],
             [
              1,
              "#f0f921"
             ]
            ],
            "type": "heatmapgl"
           }
          ],
          "histogram": [
           {
            "marker": {
             "pattern": {
              "fillmode": "overlay",
              "size": 10,
              "solidity": 0.2
             }
            },
            "type": "histogram"
           }
          ],
          "histogram2d": [
           {
            "colorbar": {
             "outlinewidth": 0,
             "ticks": ""
            },
            "colorscale": [
             [
              0,
              "#0d0887"
             ],
             [
              0.1111111111111111,
              "#46039f"
             ],
             [
              0.2222222222222222,
              "#7201a8"
             ],
             [
              0.3333333333333333,
              "#9c179e"
             ],
             [
              0.4444444444444444,
              "#bd3786"
             ],
             [
              0.5555555555555556,
              "#d8576b"
             ],
             [
              0.6666666666666666,
              "#ed7953"
             ],
             [
              0.7777777777777778,
              "#fb9f3a"
             ],
             [
              0.8888888888888888,
              "#fdca26"
             ],
             [
              1,
              "#f0f921"
             ]
            ],
            "type": "histogram2d"
           }
          ],
          "histogram2dcontour": [
           {
            "colorbar": {
             "outlinewidth": 0,
             "ticks": ""
            },
            "colorscale": [
             [
              0,
              "#0d0887"
             ],
             [
              0.1111111111111111,
              "#46039f"
             ],
             [
              0.2222222222222222,
              "#7201a8"
             ],
             [
              0.3333333333333333,
              "#9c179e"
             ],
             [
              0.4444444444444444,
              "#bd3786"
             ],
             [
              0.5555555555555556,
              "#d8576b"
             ],
             [
              0.6666666666666666,
              "#ed7953"
             ],
             [
              0.7777777777777778,
              "#fb9f3a"
             ],
             [
              0.8888888888888888,
              "#fdca26"
             ],
             [
              1,
              "#f0f921"
             ]
            ],
            "type": "histogram2dcontour"
           }
          ],
          "mesh3d": [
           {
            "colorbar": {
             "outlinewidth": 0,
             "ticks": ""
            },
            "type": "mesh3d"
           }
          ],
          "parcoords": [
           {
            "line": {
             "colorbar": {
              "outlinewidth": 0,
              "ticks": ""
             }
            },
            "type": "parcoords"
           }
          ],
          "pie": [
           {
            "automargin": true,
            "type": "pie"
           }
          ],
          "scatter": [
           {
            "marker": {
             "colorbar": {
              "outlinewidth": 0,
              "ticks": ""
             }
            },
            "type": "scatter"
           }
          ],
          "scatter3d": [
           {
            "line": {
             "colorbar": {
              "outlinewidth": 0,
              "ticks": ""
             }
            },
            "marker": {
             "colorbar": {
              "outlinewidth": 0,
              "ticks": ""
             }
            },
            "type": "scatter3d"
           }
          ],
          "scattercarpet": [
           {
            "marker": {
             "colorbar": {
              "outlinewidth": 0,
              "ticks": ""
             }
            },
            "type": "scattercarpet"
           }
          ],
          "scattergeo": [
           {
            "marker": {
             "colorbar": {
              "outlinewidth": 0,
              "ticks": ""
             }
            },
            "type": "scattergeo"
           }
          ],
          "scattergl": [
           {
            "marker": {
             "colorbar": {
              "outlinewidth": 0,
              "ticks": ""
             }
            },
            "type": "scattergl"
           }
          ],
          "scattermapbox": [
           {
            "marker": {
             "colorbar": {
              "outlinewidth": 0,
              "ticks": ""
             }
            },
            "type": "scattermapbox"
           }
          ],
          "scatterpolar": [
           {
            "marker": {
             "colorbar": {
              "outlinewidth": 0,
              "ticks": ""
             }
            },
            "type": "scatterpolar"
           }
          ],
          "scatterpolargl": [
           {
            "marker": {
             "colorbar": {
              "outlinewidth": 0,
              "ticks": ""
             }
            },
            "type": "scatterpolargl"
           }
          ],
          "scatterternary": [
           {
            "marker": {
             "colorbar": {
              "outlinewidth": 0,
              "ticks": ""
             }
            },
            "type": "scatterternary"
           }
          ],
          "surface": [
           {
            "colorbar": {
             "outlinewidth": 0,
             "ticks": ""
            },
            "colorscale": [
             [
              0,
              "#0d0887"
             ],
             [
              0.1111111111111111,
              "#46039f"
             ],
             [
              0.2222222222222222,
              "#7201a8"
             ],
             [
              0.3333333333333333,
              "#9c179e"
             ],
             [
              0.4444444444444444,
              "#bd3786"
             ],
             [
              0.5555555555555556,
              "#d8576b"
             ],
             [
              0.6666666666666666,
              "#ed7953"
             ],
             [
              0.7777777777777778,
              "#fb9f3a"
             ],
             [
              0.8888888888888888,
              "#fdca26"
             ],
             [
              1,
              "#f0f921"
             ]
            ],
            "type": "surface"
           }
          ],
          "table": [
           {
            "cells": {
             "fill": {
              "color": "#EBF0F8"
             },
             "line": {
              "color": "white"
             }
            },
            "header": {
             "fill": {
              "color": "#C8D4E3"
             },
             "line": {
              "color": "white"
             }
            },
            "type": "table"
           }
          ]
         },
         "layout": {
          "annotationdefaults": {
           "arrowcolor": "#2a3f5f",
           "arrowhead": 0,
           "arrowwidth": 1
          },
          "autotypenumbers": "strict",
          "coloraxis": {
           "colorbar": {
            "outlinewidth": 0,
            "ticks": ""
           }
          },
          "colorscale": {
           "diverging": [
            [
             0,
             "#8e0152"
            ],
            [
             0.1,
             "#c51b7d"
            ],
            [
             0.2,
             "#de77ae"
            ],
            [
             0.3,
             "#f1b6da"
            ],
            [
             0.4,
             "#fde0ef"
            ],
            [
             0.5,
             "#f7f7f7"
            ],
            [
             0.6,
             "#e6f5d0"
            ],
            [
             0.7,
             "#b8e186"
            ],
            [
             0.8,
             "#7fbc41"
            ],
            [
             0.9,
             "#4d9221"
            ],
            [
             1,
             "#276419"
            ]
           ],
           "sequential": [
            [
             0,
             "#0d0887"
            ],
            [
             0.1111111111111111,
             "#46039f"
            ],
            [
             0.2222222222222222,
             "#7201a8"
            ],
            [
             0.3333333333333333,
             "#9c179e"
            ],
            [
             0.4444444444444444,
             "#bd3786"
            ],
            [
             0.5555555555555556,
             "#d8576b"
            ],
            [
             0.6666666666666666,
             "#ed7953"
            ],
            [
             0.7777777777777778,
             "#fb9f3a"
            ],
            [
             0.8888888888888888,
             "#fdca26"
            ],
            [
             1,
             "#f0f921"
            ]
           ],
           "sequentialminus": [
            [
             0,
             "#0d0887"
            ],
            [
             0.1111111111111111,
             "#46039f"
            ],
            [
             0.2222222222222222,
             "#7201a8"
            ],
            [
             0.3333333333333333,
             "#9c179e"
            ],
            [
             0.4444444444444444,
             "#bd3786"
            ],
            [
             0.5555555555555556,
             "#d8576b"
            ],
            [
             0.6666666666666666,
             "#ed7953"
            ],
            [
             0.7777777777777778,
             "#fb9f3a"
            ],
            [
             0.8888888888888888,
             "#fdca26"
            ],
            [
             1,
             "#f0f921"
            ]
           ]
          },
          "colorway": [
           "#636efa",
           "#EF553B",
           "#00cc96",
           "#ab63fa",
           "#FFA15A",
           "#19d3f3",
           "#FF6692",
           "#B6E880",
           "#FF97FF",
           "#FECB52"
          ],
          "font": {
           "color": "#2a3f5f"
          },
          "geo": {
           "bgcolor": "white",
           "lakecolor": "white",
           "landcolor": "#E5ECF6",
           "showlakes": true,
           "showland": true,
           "subunitcolor": "white"
          },
          "hoverlabel": {
           "align": "left"
          },
          "hovermode": "closest",
          "mapbox": {
           "style": "light"
          },
          "paper_bgcolor": "white",
          "plot_bgcolor": "#E5ECF6",
          "polar": {
           "angularaxis": {
            "gridcolor": "white",
            "linecolor": "white",
            "ticks": ""
           },
           "bgcolor": "#E5ECF6",
           "radialaxis": {
            "gridcolor": "white",
            "linecolor": "white",
            "ticks": ""
           }
          },
          "scene": {
           "xaxis": {
            "backgroundcolor": "#E5ECF6",
            "gridcolor": "white",
            "gridwidth": 2,
            "linecolor": "white",
            "showbackground": true,
            "ticks": "",
            "zerolinecolor": "white"
           },
           "yaxis": {
            "backgroundcolor": "#E5ECF6",
            "gridcolor": "white",
            "gridwidth": 2,
            "linecolor": "white",
            "showbackground": true,
            "ticks": "",
            "zerolinecolor": "white"
           },
           "zaxis": {
            "backgroundcolor": "#E5ECF6",
            "gridcolor": "white",
            "gridwidth": 2,
            "linecolor": "white",
            "showbackground": true,
            "ticks": "",
            "zerolinecolor": "white"
           }
          },
          "shapedefaults": {
           "line": {
            "color": "#2a3f5f"
           }
          },
          "ternary": {
           "aaxis": {
            "gridcolor": "white",
            "linecolor": "white",
            "ticks": ""
           },
           "baxis": {
            "gridcolor": "white",
            "linecolor": "white",
            "ticks": ""
           },
           "bgcolor": "#E5ECF6",
           "caxis": {
            "gridcolor": "white",
            "linecolor": "white",
            "ticks": ""
           }
          },
          "title": {
           "x": 0.05
          },
          "xaxis": {
           "automargin": true,
           "gridcolor": "white",
           "linecolor": "white",
           "ticks": "",
           "title": {
            "standoff": 15
           },
           "zerolinecolor": "white",
           "zerolinewidth": 2
          },
          "yaxis": {
           "automargin": true,
           "gridcolor": "white",
           "linecolor": "white",
           "ticks": "",
           "title": {
            "standoff": 15
           },
           "zerolinecolor": "white",
           "zerolinewidth": 2
          }
         }
        },
        "title": {
         "text": "Vorkommende Sprachen in deutschen Songs"
        },
        "xaxis": {
         "anchor": "y",
         "domain": [
          0,
          1
         ],
         "title": {
          "text": "index"
         }
        },
        "yaxis": {
         "anchor": "x",
         "domain": [
          0,
          1
         ],
         "title": {
          "text": "value"
         }
        }
       }
      }
     },
     "metadata": {},
     "output_type": "display_data"
    }
   ],
   "source": [
    "pd.options.plotting.backend = \"plotly\"\n",
    "\n",
    "df_results = pd.DataFrame(results)\n",
    "df_languages = df_results.explode('languages')\n",
    "df_scores = df_results.explode('scores')\n",
    "\n",
    "languages = df_languages['languages'].value_counts().sort_index().plot(kind='bar', title='Vorkommende Sprachen in deutschen Songs')\n",
    "\n",
    "languages.show()"
   ]
  },
  {
   "cell_type": "code",
   "execution_count": null,
   "metadata": {},
   "outputs": [
    {
     "data": {
      "application/vnd.plotly.v1+json": {
       "config": {
        "plotlyServerURL": "https://plot.ly"
       },
       "data": [
        {
         "labels": [
          "en",
          "af",
          "id",
          "fr",
          "et",
          "tl",
          "so",
          "sv",
          "nl",
          "no",
          "da",
          "cy",
          "pl",
          "sw",
          "tr",
          "it",
          "fi",
          "es",
          "ca",
          "pt",
          "vi",
          "sk",
          "ro",
          "hr",
          "sq",
          "lt",
          "lv",
          "sl",
          "cs",
          "hu",
          "ru",
          "mk",
          "bg",
          "ja"
         ],
         "type": "pie",
         "values": [
          7272,
          3122,
          1811,
          1284,
          1258,
          1202,
          1202,
          1176,
          1117,
          798,
          737,
          723,
          715,
          685,
          678,
          550,
          547,
          471,
          325,
          303,
          242,
          211,
          172,
          160,
          150,
          140,
          134,
          131,
          127,
          108,
          29,
          6,
          2,
          1
         ]
        }
       ],
       "layout": {
        "template": {
         "data": {
          "bar": [
           {
            "error_x": {
             "color": "#2a3f5f"
            },
            "error_y": {
             "color": "#2a3f5f"
            },
            "marker": {
             "line": {
              "color": "#E5ECF6",
              "width": 0.5
             },
             "pattern": {
              "fillmode": "overlay",
              "size": 10,
              "solidity": 0.2
             }
            },
            "type": "bar"
           }
          ],
          "barpolar": [
           {
            "marker": {
             "line": {
              "color": "#E5ECF6",
              "width": 0.5
             },
             "pattern": {
              "fillmode": "overlay",
              "size": 10,
              "solidity": 0.2
             }
            },
            "type": "barpolar"
           }
          ],
          "carpet": [
           {
            "aaxis": {
             "endlinecolor": "#2a3f5f",
             "gridcolor": "white",
             "linecolor": "white",
             "minorgridcolor": "white",
             "startlinecolor": "#2a3f5f"
            },
            "baxis": {
             "endlinecolor": "#2a3f5f",
             "gridcolor": "white",
             "linecolor": "white",
             "minorgridcolor": "white",
             "startlinecolor": "#2a3f5f"
            },
            "type": "carpet"
           }
          ],
          "choropleth": [
           {
            "colorbar": {
             "outlinewidth": 0,
             "ticks": ""
            },
            "type": "choropleth"
           }
          ],
          "contour": [
           {
            "colorbar": {
             "outlinewidth": 0,
             "ticks": ""
            },
            "colorscale": [
             [
              0,
              "#0d0887"
             ],
             [
              0.1111111111111111,
              "#46039f"
             ],
             [
              0.2222222222222222,
              "#7201a8"
             ],
             [
              0.3333333333333333,
              "#9c179e"
             ],
             [
              0.4444444444444444,
              "#bd3786"
             ],
             [
              0.5555555555555556,
              "#d8576b"
             ],
             [
              0.6666666666666666,
              "#ed7953"
             ],
             [
              0.7777777777777778,
              "#fb9f3a"
             ],
             [
              0.8888888888888888,
              "#fdca26"
             ],
             [
              1,
              "#f0f921"
             ]
            ],
            "type": "contour"
           }
          ],
          "contourcarpet": [
           {
            "colorbar": {
             "outlinewidth": 0,
             "ticks": ""
            },
            "type": "contourcarpet"
           }
          ],
          "heatmap": [
           {
            "colorbar": {
             "outlinewidth": 0,
             "ticks": ""
            },
            "colorscale": [
             [
              0,
              "#0d0887"
             ],
             [
              0.1111111111111111,
              "#46039f"
             ],
             [
              0.2222222222222222,
              "#7201a8"
             ],
             [
              0.3333333333333333,
              "#9c179e"
             ],
             [
              0.4444444444444444,
              "#bd3786"
             ],
             [
              0.5555555555555556,
              "#d8576b"
             ],
             [
              0.6666666666666666,
              "#ed7953"
             ],
             [
              0.7777777777777778,
              "#fb9f3a"
             ],
             [
              0.8888888888888888,
              "#fdca26"
             ],
             [
              1,
              "#f0f921"
             ]
            ],
            "type": "heatmap"
           }
          ],
          "heatmapgl": [
           {
            "colorbar": {
             "outlinewidth": 0,
             "ticks": ""
            },
            "colorscale": [
             [
              0,
              "#0d0887"
             ],
             [
              0.1111111111111111,
              "#46039f"
             ],
             [
              0.2222222222222222,
              "#7201a8"
             ],
             [
              0.3333333333333333,
              "#9c179e"
             ],
             [
              0.4444444444444444,
              "#bd3786"
             ],
             [
              0.5555555555555556,
              "#d8576b"
             ],
             [
              0.6666666666666666,
              "#ed7953"
             ],
             [
              0.7777777777777778,
              "#fb9f3a"
             ],
             [
              0.8888888888888888,
              "#fdca26"
             ],
             [
              1,
              "#f0f921"
             ]
            ],
            "type": "heatmapgl"
           }
          ],
          "histogram": [
           {
            "marker": {
             "pattern": {
              "fillmode": "overlay",
              "size": 10,
              "solidity": 0.2
             }
            },
            "type": "histogram"
           }
          ],
          "histogram2d": [
           {
            "colorbar": {
             "outlinewidth": 0,
             "ticks": ""
            },
            "colorscale": [
             [
              0,
              "#0d0887"
             ],
             [
              0.1111111111111111,
              "#46039f"
             ],
             [
              0.2222222222222222,
              "#7201a8"
             ],
             [
              0.3333333333333333,
              "#9c179e"
             ],
             [
              0.4444444444444444,
              "#bd3786"
             ],
             [
              0.5555555555555556,
              "#d8576b"
             ],
             [
              0.6666666666666666,
              "#ed7953"
             ],
             [
              0.7777777777777778,
              "#fb9f3a"
             ],
             [
              0.8888888888888888,
              "#fdca26"
             ],
             [
              1,
              "#f0f921"
             ]
            ],
            "type": "histogram2d"
           }
          ],
          "histogram2dcontour": [
           {
            "colorbar": {
             "outlinewidth": 0,
             "ticks": ""
            },
            "colorscale": [
             [
              0,
              "#0d0887"
             ],
             [
              0.1111111111111111,
              "#46039f"
             ],
             [
              0.2222222222222222,
              "#7201a8"
             ],
             [
              0.3333333333333333,
              "#9c179e"
             ],
             [
              0.4444444444444444,
              "#bd3786"
             ],
             [
              0.5555555555555556,
              "#d8576b"
             ],
             [
              0.6666666666666666,
              "#ed7953"
             ],
             [
              0.7777777777777778,
              "#fb9f3a"
             ],
             [
              0.8888888888888888,
              "#fdca26"
             ],
             [
              1,
              "#f0f921"
             ]
            ],
            "type": "histogram2dcontour"
           }
          ],
          "mesh3d": [
           {
            "colorbar": {
             "outlinewidth": 0,
             "ticks": ""
            },
            "type": "mesh3d"
           }
          ],
          "parcoords": [
           {
            "line": {
             "colorbar": {
              "outlinewidth": 0,
              "ticks": ""
             }
            },
            "type": "parcoords"
           }
          ],
          "pie": [
           {
            "automargin": true,
            "type": "pie"
           }
          ],
          "scatter": [
           {
            "marker": {
             "colorbar": {
              "outlinewidth": 0,
              "ticks": ""
             }
            },
            "type": "scatter"
           }
          ],
          "scatter3d": [
           {
            "line": {
             "colorbar": {
              "outlinewidth": 0,
              "ticks": ""
             }
            },
            "marker": {
             "colorbar": {
              "outlinewidth": 0,
              "ticks": ""
             }
            },
            "type": "scatter3d"
           }
          ],
          "scattercarpet": [
           {
            "marker": {
             "colorbar": {
              "outlinewidth": 0,
              "ticks": ""
             }
            },
            "type": "scattercarpet"
           }
          ],
          "scattergeo": [
           {
            "marker": {
             "colorbar": {
              "outlinewidth": 0,
              "ticks": ""
             }
            },
            "type": "scattergeo"
           }
          ],
          "scattergl": [
           {
            "marker": {
             "colorbar": {
              "outlinewidth": 0,
              "ticks": ""
             }
            },
            "type": "scattergl"
           }
          ],
          "scattermapbox": [
           {
            "marker": {
             "colorbar": {
              "outlinewidth": 0,
              "ticks": ""
             }
            },
            "type": "scattermapbox"
           }
          ],
          "scatterpolar": [
           {
            "marker": {
             "colorbar": {
              "outlinewidth": 0,
              "ticks": ""
             }
            },
            "type": "scatterpolar"
           }
          ],
          "scatterpolargl": [
           {
            "marker": {
             "colorbar": {
              "outlinewidth": 0,
              "ticks": ""
             }
            },
            "type": "scatterpolargl"
           }
          ],
          "scatterternary": [
           {
            "marker": {
             "colorbar": {
              "outlinewidth": 0,
              "ticks": ""
             }
            },
            "type": "scatterternary"
           }
          ],
          "surface": [
           {
            "colorbar": {
             "outlinewidth": 0,
             "ticks": ""
            },
            "colorscale": [
             [
              0,
              "#0d0887"
             ],
             [
              0.1111111111111111,
              "#46039f"
             ],
             [
              0.2222222222222222,
              "#7201a8"
             ],
             [
              0.3333333333333333,
              "#9c179e"
             ],
             [
              0.4444444444444444,
              "#bd3786"
             ],
             [
              0.5555555555555556,
              "#d8576b"
             ],
             [
              0.6666666666666666,
              "#ed7953"
             ],
             [
              0.7777777777777778,
              "#fb9f3a"
             ],
             [
              0.8888888888888888,
              "#fdca26"
             ],
             [
              1,
              "#f0f921"
             ]
            ],
            "type": "surface"
           }
          ],
          "table": [
           {
            "cells": {
             "fill": {
              "color": "#EBF0F8"
             },
             "line": {
              "color": "white"
             }
            },
            "header": {
             "fill": {
              "color": "#C8D4E3"
             },
             "line": {
              "color": "white"
             }
            },
            "type": "table"
           }
          ]
         },
         "layout": {
          "annotationdefaults": {
           "arrowcolor": "#2a3f5f",
           "arrowhead": 0,
           "arrowwidth": 1
          },
          "autotypenumbers": "strict",
          "coloraxis": {
           "colorbar": {
            "outlinewidth": 0,
            "ticks": ""
           }
          },
          "colorscale": {
           "diverging": [
            [
             0,
             "#8e0152"
            ],
            [
             0.1,
             "#c51b7d"
            ],
            [
             0.2,
             "#de77ae"
            ],
            [
             0.3,
             "#f1b6da"
            ],
            [
             0.4,
             "#fde0ef"
            ],
            [
             0.5,
             "#f7f7f7"
            ],
            [
             0.6,
             "#e6f5d0"
            ],
            [
             0.7,
             "#b8e186"
            ],
            [
             0.8,
             "#7fbc41"
            ],
            [
             0.9,
             "#4d9221"
            ],
            [
             1,
             "#276419"
            ]
           ],
           "sequential": [
            [
             0,
             "#0d0887"
            ],
            [
             0.1111111111111111,
             "#46039f"
            ],
            [
             0.2222222222222222,
             "#7201a8"
            ],
            [
             0.3333333333333333,
             "#9c179e"
            ],
            [
             0.4444444444444444,
             "#bd3786"
            ],
            [
             0.5555555555555556,
             "#d8576b"
            ],
            [
             0.6666666666666666,
             "#ed7953"
            ],
            [
             0.7777777777777778,
             "#fb9f3a"
            ],
            [
             0.8888888888888888,
             "#fdca26"
            ],
            [
             1,
             "#f0f921"
            ]
           ],
           "sequentialminus": [
            [
             0,
             "#0d0887"
            ],
            [
             0.1111111111111111,
             "#46039f"
            ],
            [
             0.2222222222222222,
             "#7201a8"
            ],
            [
             0.3333333333333333,
             "#9c179e"
            ],
            [
             0.4444444444444444,
             "#bd3786"
            ],
            [
             0.5555555555555556,
             "#d8576b"
            ],
            [
             0.6666666666666666,
             "#ed7953"
            ],
            [
             0.7777777777777778,
             "#fb9f3a"
            ],
            [
             0.8888888888888888,
             "#fdca26"
            ],
            [
             1,
             "#f0f921"
            ]
           ]
          },
          "colorway": [
           "#636efa",
           "#EF553B",
           "#00cc96",
           "#ab63fa",
           "#FFA15A",
           "#19d3f3",
           "#FF6692",
           "#B6E880",
           "#FF97FF",
           "#FECB52"
          ],
          "font": {
           "color": "#2a3f5f"
          },
          "geo": {
           "bgcolor": "white",
           "lakecolor": "white",
           "landcolor": "#E5ECF6",
           "showlakes": true,
           "showland": true,
           "subunitcolor": "white"
          },
          "hoverlabel": {
           "align": "left"
          },
          "hovermode": "closest",
          "mapbox": {
           "style": "light"
          },
          "paper_bgcolor": "white",
          "plot_bgcolor": "#E5ECF6",
          "polar": {
           "angularaxis": {
            "gridcolor": "white",
            "linecolor": "white",
            "ticks": ""
           },
           "bgcolor": "#E5ECF6",
           "radialaxis": {
            "gridcolor": "white",
            "linecolor": "white",
            "ticks": ""
           }
          },
          "scene": {
           "xaxis": {
            "backgroundcolor": "#E5ECF6",
            "gridcolor": "white",
            "gridwidth": 2,
            "linecolor": "white",
            "showbackground": true,
            "ticks": "",
            "zerolinecolor": "white"
           },
           "yaxis": {
            "backgroundcolor": "#E5ECF6",
            "gridcolor": "white",
            "gridwidth": 2,
            "linecolor": "white",
            "showbackground": true,
            "ticks": "",
            "zerolinecolor": "white"
           },
           "zaxis": {
            "backgroundcolor": "#E5ECF6",
            "gridcolor": "white",
            "gridwidth": 2,
            "linecolor": "white",
            "showbackground": true,
            "ticks": "",
            "zerolinecolor": "white"
           }
          },
          "shapedefaults": {
           "line": {
            "color": "#2a3f5f"
           }
          },
          "ternary": {
           "aaxis": {
            "gridcolor": "white",
            "linecolor": "white",
            "ticks": ""
           },
           "baxis": {
            "gridcolor": "white",
            "linecolor": "white",
            "ticks": ""
           },
           "bgcolor": "#E5ECF6",
           "caxis": {
            "gridcolor": "white",
            "linecolor": "white",
            "ticks": ""
           }
          },
          "title": {
           "x": 0.05
          },
          "xaxis": {
           "automargin": true,
           "gridcolor": "white",
           "linecolor": "white",
           "ticks": "",
           "title": {
            "standoff": 15
           },
           "zerolinecolor": "white",
           "zerolinewidth": 2
          },
          "yaxis": {
           "automargin": true,
           "gridcolor": "white",
           "linecolor": "white",
           "ticks": "",
           "title": {
            "standoff": 15
           },
           "zerolinecolor": "white",
           "zerolinewidth": 2
          }
         }
        },
        "title": {
         "text": "Vorkommende Sprachen in den deutschen Songs"
        }
       }
      }
     },
     "metadata": {},
     "output_type": "display_data"
    }
   ],
   "source": [
    "df_results = pd.DataFrame(results)\n",
    "df_languages = df_results.explode('languages')\n",
    "df_languages_counts = df_languages['languages'].value_counts()\n",
    "\n",
    "fig = go.Figure(data=[go.Pie(labels=df_languages_counts.index, values=df_languages_counts.values)])\n",
    "\n",
    "fig.update_layout(title='Vorkommende Sprachen in den deutschen Songs')\n",
    "fig.show()\n"
   ]
  },
  {
   "cell_type": "code",
   "execution_count": null,
   "metadata": {},
   "outputs": [
    {
     "data": {
      "application/vnd.plotly.v1+json": {
       "config": {
        "plotlyServerURL": "https://plot.ly"
       },
       "data": [
        {
         "alignmentgroup": "True",
         "hovertemplate": "languages=tr<br>genre=%{x}<br>Anzahl=%{y}<extra></extra>",
         "legendgroup": "tr",
         "marker": {
          "color": "#636efa",
          "pattern": {
           "shape": ""
          }
         },
         "name": "tr",
         "offsetgroup": "tr",
         "orientation": "v",
         "showlegend": true,
         "textposition": "auto",
         "type": "bar",
         "x": [
          "Pop",
          "Rap",
          "Rock",
          "Schlager"
         ],
         "xaxis": "x",
         "y": [
          7,
          73,
          10,
          2
         ],
         "yaxis": "y"
        }
       ],
       "layout": {
        "barmode": "relative",
        "legend": {
         "title": {
          "text": "languages"
         },
         "tracegroupgap": 0
        },
        "template": {
         "data": {
          "bar": [
           {
            "error_x": {
             "color": "#2a3f5f"
            },
            "error_y": {
             "color": "#2a3f5f"
            },
            "marker": {
             "line": {
              "color": "#E5ECF6",
              "width": 0.5
             },
             "pattern": {
              "fillmode": "overlay",
              "size": 10,
              "solidity": 0.2
             }
            },
            "type": "bar"
           }
          ],
          "barpolar": [
           {
            "marker": {
             "line": {
              "color": "#E5ECF6",
              "width": 0.5
             },
             "pattern": {
              "fillmode": "overlay",
              "size": 10,
              "solidity": 0.2
             }
            },
            "type": "barpolar"
           }
          ],
          "carpet": [
           {
            "aaxis": {
             "endlinecolor": "#2a3f5f",
             "gridcolor": "white",
             "linecolor": "white",
             "minorgridcolor": "white",
             "startlinecolor": "#2a3f5f"
            },
            "baxis": {
             "endlinecolor": "#2a3f5f",
             "gridcolor": "white",
             "linecolor": "white",
             "minorgridcolor": "white",
             "startlinecolor": "#2a3f5f"
            },
            "type": "carpet"
           }
          ],
          "choropleth": [
           {
            "colorbar": {
             "outlinewidth": 0,
             "ticks": ""
            },
            "type": "choropleth"
           }
          ],
          "contour": [
           {
            "colorbar": {
             "outlinewidth": 0,
             "ticks": ""
            },
            "colorscale": [
             [
              0,
              "#0d0887"
             ],
             [
              0.1111111111111111,
              "#46039f"
             ],
             [
              0.2222222222222222,
              "#7201a8"
             ],
             [
              0.3333333333333333,
              "#9c179e"
             ],
             [
              0.4444444444444444,
              "#bd3786"
             ],
             [
              0.5555555555555556,
              "#d8576b"
             ],
             [
              0.6666666666666666,
              "#ed7953"
             ],
             [
              0.7777777777777778,
              "#fb9f3a"
             ],
             [
              0.8888888888888888,
              "#fdca26"
             ],
             [
              1,
              "#f0f921"
             ]
            ],
            "type": "contour"
           }
          ],
          "contourcarpet": [
           {
            "colorbar": {
             "outlinewidth": 0,
             "ticks": ""
            },
            "type": "contourcarpet"
           }
          ],
          "heatmap": [
           {
            "colorbar": {
             "outlinewidth": 0,
             "ticks": ""
            },
            "colorscale": [
             [
              0,
              "#0d0887"
             ],
             [
              0.1111111111111111,
              "#46039f"
             ],
             [
              0.2222222222222222,
              "#7201a8"
             ],
             [
              0.3333333333333333,
              "#9c179e"
             ],
             [
              0.4444444444444444,
              "#bd3786"
             ],
             [
              0.5555555555555556,
              "#d8576b"
             ],
             [
              0.6666666666666666,
              "#ed7953"
             ],
             [
              0.7777777777777778,
              "#fb9f3a"
             ],
             [
              0.8888888888888888,
              "#fdca26"
             ],
             [
              1,
              "#f0f921"
             ]
            ],
            "type": "heatmap"
           }
          ],
          "heatmapgl": [
           {
            "colorbar": {
             "outlinewidth": 0,
             "ticks": ""
            },
            "colorscale": [
             [
              0,
              "#0d0887"
             ],
             [
              0.1111111111111111,
              "#46039f"
             ],
             [
              0.2222222222222222,
              "#7201a8"
             ],
             [
              0.3333333333333333,
              "#9c179e"
             ],
             [
              0.4444444444444444,
              "#bd3786"
             ],
             [
              0.5555555555555556,
              "#d8576b"
             ],
             [
              0.6666666666666666,
              "#ed7953"
             ],
             [
              0.7777777777777778,
              "#fb9f3a"
             ],
             [
              0.8888888888888888,
              "#fdca26"
             ],
             [
              1,
              "#f0f921"
             ]
            ],
            "type": "heatmapgl"
           }
          ],
          "histogram": [
           {
            "marker": {
             "pattern": {
              "fillmode": "overlay",
              "size": 10,
              "solidity": 0.2
             }
            },
            "type": "histogram"
           }
          ],
          "histogram2d": [
           {
            "colorbar": {
             "outlinewidth": 0,
             "ticks": ""
            },
            "colorscale": [
             [
              0,
              "#0d0887"
             ],
             [
              0.1111111111111111,
              "#46039f"
             ],
             [
              0.2222222222222222,
              "#7201a8"
             ],
             [
              0.3333333333333333,
              "#9c179e"
             ],
             [
              0.4444444444444444,
              "#bd3786"
             ],
             [
              0.5555555555555556,
              "#d8576b"
             ],
             [
              0.6666666666666666,
              "#ed7953"
             ],
             [
              0.7777777777777778,
              "#fb9f3a"
             ],
             [
              0.8888888888888888,
              "#fdca26"
             ],
             [
              1,
              "#f0f921"
             ]
            ],
            "type": "histogram2d"
           }
          ],
          "histogram2dcontour": [
           {
            "colorbar": {
             "outlinewidth": 0,
             "ticks": ""
            },
            "colorscale": [
             [
              0,
              "#0d0887"
             ],
             [
              0.1111111111111111,
              "#46039f"
             ],
             [
              0.2222222222222222,
              "#7201a8"
             ],
             [
              0.3333333333333333,
              "#9c179e"
             ],
             [
              0.4444444444444444,
              "#bd3786"
             ],
             [
              0.5555555555555556,
              "#d8576b"
             ],
             [
              0.6666666666666666,
              "#ed7953"
             ],
             [
              0.7777777777777778,
              "#fb9f3a"
             ],
             [
              0.8888888888888888,
              "#fdca26"
             ],
             [
              1,
              "#f0f921"
             ]
            ],
            "type": "histogram2dcontour"
           }
          ],
          "mesh3d": [
           {
            "colorbar": {
             "outlinewidth": 0,
             "ticks": ""
            },
            "type": "mesh3d"
           }
          ],
          "parcoords": [
           {
            "line": {
             "colorbar": {
              "outlinewidth": 0,
              "ticks": ""
             }
            },
            "type": "parcoords"
           }
          ],
          "pie": [
           {
            "automargin": true,
            "type": "pie"
           }
          ],
          "scatter": [
           {
            "marker": {
             "colorbar": {
              "outlinewidth": 0,
              "ticks": ""
             }
            },
            "type": "scatter"
           }
          ],
          "scatter3d": [
           {
            "line": {
             "colorbar": {
              "outlinewidth": 0,
              "ticks": ""
             }
            },
            "marker": {
             "colorbar": {
              "outlinewidth": 0,
              "ticks": ""
             }
            },
            "type": "scatter3d"
           }
          ],
          "scattercarpet": [
           {
            "marker": {
             "colorbar": {
              "outlinewidth": 0,
              "ticks": ""
             }
            },
            "type": "scattercarpet"
           }
          ],
          "scattergeo": [
           {
            "marker": {
             "colorbar": {
              "outlinewidth": 0,
              "ticks": ""
             }
            },
            "type": "scattergeo"
           }
          ],
          "scattergl": [
           {
            "marker": {
             "colorbar": {
              "outlinewidth": 0,
              "ticks": ""
             }
            },
            "type": "scattergl"
           }
          ],
          "scattermapbox": [
           {
            "marker": {
             "colorbar": {
              "outlinewidth": 0,
              "ticks": ""
             }
            },
            "type": "scattermapbox"
           }
          ],
          "scatterpolar": [
           {
            "marker": {
             "colorbar": {
              "outlinewidth": 0,
              "ticks": ""
             }
            },
            "type": "scatterpolar"
           }
          ],
          "scatterpolargl": [
           {
            "marker": {
             "colorbar": {
              "outlinewidth": 0,
              "ticks": ""
             }
            },
            "type": "scatterpolargl"
           }
          ],
          "scatterternary": [
           {
            "marker": {
             "colorbar": {
              "outlinewidth": 0,
              "ticks": ""
             }
            },
            "type": "scatterternary"
           }
          ],
          "surface": [
           {
            "colorbar": {
             "outlinewidth": 0,
             "ticks": ""
            },
            "colorscale": [
             [
              0,
              "#0d0887"
             ],
             [
              0.1111111111111111,
              "#46039f"
             ],
             [
              0.2222222222222222,
              "#7201a8"
             ],
             [
              0.3333333333333333,
              "#9c179e"
             ],
             [
              0.4444444444444444,
              "#bd3786"
             ],
             [
              0.5555555555555556,
              "#d8576b"
             ],
             [
              0.6666666666666666,
              "#ed7953"
             ],
             [
              0.7777777777777778,
              "#fb9f3a"
             ],
             [
              0.8888888888888888,
              "#fdca26"
             ],
             [
              1,
              "#f0f921"
             ]
            ],
            "type": "surface"
           }
          ],
          "table": [
           {
            "cells": {
             "fill": {
              "color": "#EBF0F8"
             },
             "line": {
              "color": "white"
             }
            },
            "header": {
             "fill": {
              "color": "#C8D4E3"
             },
             "line": {
              "color": "white"
             }
            },
            "type": "table"
           }
          ]
         },
         "layout": {
          "annotationdefaults": {
           "arrowcolor": "#2a3f5f",
           "arrowhead": 0,
           "arrowwidth": 1
          },
          "autotypenumbers": "strict",
          "coloraxis": {
           "colorbar": {
            "outlinewidth": 0,
            "ticks": ""
           }
          },
          "colorscale": {
           "diverging": [
            [
             0,
             "#8e0152"
            ],
            [
             0.1,
             "#c51b7d"
            ],
            [
             0.2,
             "#de77ae"
            ],
            [
             0.3,
             "#f1b6da"
            ],
            [
             0.4,
             "#fde0ef"
            ],
            [
             0.5,
             "#f7f7f7"
            ],
            [
             0.6,
             "#e6f5d0"
            ],
            [
             0.7,
             "#b8e186"
            ],
            [
             0.8,
             "#7fbc41"
            ],
            [
             0.9,
             "#4d9221"
            ],
            [
             1,
             "#276419"
            ]
           ],
           "sequential": [
            [
             0,
             "#0d0887"
            ],
            [
             0.1111111111111111,
             "#46039f"
            ],
            [
             0.2222222222222222,
             "#7201a8"
            ],
            [
             0.3333333333333333,
             "#9c179e"
            ],
            [
             0.4444444444444444,
             "#bd3786"
            ],
            [
             0.5555555555555556,
             "#d8576b"
            ],
            [
             0.6666666666666666,
             "#ed7953"
            ],
            [
             0.7777777777777778,
             "#fb9f3a"
            ],
            [
             0.8888888888888888,
             "#fdca26"
            ],
            [
             1,
             "#f0f921"
            ]
           ],
           "sequentialminus": [
            [
             0,
             "#0d0887"
            ],
            [
             0.1111111111111111,
             "#46039f"
            ],
            [
             0.2222222222222222,
             "#7201a8"
            ],
            [
             0.3333333333333333,
             "#9c179e"
            ],
            [
             0.4444444444444444,
             "#bd3786"
            ],
            [
             0.5555555555555556,
             "#d8576b"
            ],
            [
             0.6666666666666666,
             "#ed7953"
            ],
            [
             0.7777777777777778,
             "#fb9f3a"
            ],
            [
             0.8888888888888888,
             "#fdca26"
            ],
            [
             1,
             "#f0f921"
            ]
           ]
          },
          "colorway": [
           "#636efa",
           "#EF553B",
           "#00cc96",
           "#ab63fa",
           "#FFA15A",
           "#19d3f3",
           "#FF6692",
           "#B6E880",
           "#FF97FF",
           "#FECB52"
          ],
          "font": {
           "color": "#2a3f5f"
          },
          "geo": {
           "bgcolor": "white",
           "lakecolor": "white",
           "landcolor": "#E5ECF6",
           "showlakes": true,
           "showland": true,
           "subunitcolor": "white"
          },
          "hoverlabel": {
           "align": "left"
          },
          "hovermode": "closest",
          "mapbox": {
           "style": "light"
          },
          "paper_bgcolor": "white",
          "plot_bgcolor": "#E5ECF6",
          "polar": {
           "angularaxis": {
            "gridcolor": "white",
            "linecolor": "white",
            "ticks": ""
           },
           "bgcolor": "#E5ECF6",
           "radialaxis": {
            "gridcolor": "white",
            "linecolor": "white",
            "ticks": ""
           }
          },
          "scene": {
           "xaxis": {
            "backgroundcolor": "#E5ECF6",
            "gridcolor": "white",
            "gridwidth": 2,
            "linecolor": "white",
            "showbackground": true,
            "ticks": "",
            "zerolinecolor": "white"
           },
           "yaxis": {
            "backgroundcolor": "#E5ECF6",
            "gridcolor": "white",
            "gridwidth": 2,
            "linecolor": "white",
            "showbackground": true,
            "ticks": "",
            "zerolinecolor": "white"
           },
           "zaxis": {
            "backgroundcolor": "#E5ECF6",
            "gridcolor": "white",
            "gridwidth": 2,
            "linecolor": "white",
            "showbackground": true,
            "ticks": "",
            "zerolinecolor": "white"
           }
          },
          "shapedefaults": {
           "line": {
            "color": "#2a3f5f"
           }
          },
          "ternary": {
           "aaxis": {
            "gridcolor": "white",
            "linecolor": "white",
            "ticks": ""
           },
           "baxis": {
            "gridcolor": "white",
            "linecolor": "white",
            "ticks": ""
           },
           "bgcolor": "#E5ECF6",
           "caxis": {
            "gridcolor": "white",
            "linecolor": "white",
            "ticks": ""
           }
          },
          "title": {
           "x": 0.05
          },
          "xaxis": {
           "automargin": true,
           "gridcolor": "white",
           "linecolor": "white",
           "ticks": "",
           "title": {
            "standoff": 15
           },
           "zerolinecolor": "white",
           "zerolinewidth": 2
          },
          "yaxis": {
           "automargin": true,
           "gridcolor": "white",
           "linecolor": "white",
           "ticks": "",
           "title": {
            "standoff": 15
           },
           "zerolinecolor": "white",
           "zerolinewidth": 2
          }
         }
        },
        "title": {
         "text": "Sprachen pro Genre"
        },
        "xaxis": {
         "anchor": "y",
         "categoryarray": [
          null,
          "Rap",
          "Rock",
          "Schlager",
          "Pop"
         ],
         "categoryorder": "array",
         "domain": [
          0,
          1
         ],
         "title": {
          "text": "genre"
         }
        },
        "yaxis": {
         "anchor": "x",
         "domain": [
          0,
          1
         ],
         "title": {
          "text": "Anzahl"
         }
        }
       }
      }
     },
     "metadata": {},
     "output_type": "display_data"
    }
   ],
   "source": [
    "df_results = pd.DataFrame(results)\n",
    "genre_languages_count = df_results.explode('languages').groupby(['genre', 'languages']).size().reset_index(name='count')\n",
    "\n",
    "fig = px.bar(genre_languages_count, x='genre', y='count', color='languages', title='Sprachen pro Genre',\n",
    "             category_orders={'genre': df_results['genre'].unique()},\n",
    "             labels={'count': 'Anzahl'})\n",
    "fig.show()"
   ]
  },
  {
   "cell_type": "code",
   "execution_count": null,
   "metadata": {},
   "outputs": [
    {
     "data": {
      "application/vnd.plotly.v1+json": {
       "config": {
        "plotlyServerURL": "https://plot.ly"
       },
       "data": [
        {
         "alignmentgroup": "True",
         "hovertemplate": "languages=af<br>genre=%{x}<br>Anzahl=%{y}<extra></extra>",
         "legendgroup": "af",
         "marker": {
          "color": "#636efa",
          "pattern": {
           "shape": ""
          }
         },
         "name": "af",
         "offsetgroup": "af",
         "orientation": "v",
         "showlegend": true,
         "textposition": "auto",
         "type": "bar",
         "x": [
          "Pop",
          "Rap",
          "Rock",
          "Schlager"
         ],
         "xaxis": "x",
         "y": [
          414,
          677,
          373,
          143
         ],
         "yaxis": "y"
        },
        {
         "alignmentgroup": "True",
         "hovertemplate": "languages=ca<br>genre=%{x}<br>Anzahl=%{y}<extra></extra>",
         "legendgroup": "ca",
         "marker": {
          "color": "#EF553B",
          "pattern": {
           "shape": ""
          }
         },
         "name": "ca",
         "offsetgroup": "ca",
         "orientation": "v",
         "showlegend": true,
         "textposition": "auto",
         "type": "bar",
         "x": [
          "Pop",
          "Rap",
          "Rock",
          "Schlager"
         ],
         "xaxis": "x",
         "y": [
          29,
          76,
          22,
          23
         ],
         "yaxis": "y"
        },
        {
         "alignmentgroup": "True",
         "hovertemplate": "languages=cs<br>genre=%{x}<br>Anzahl=%{y}<extra></extra>",
         "legendgroup": "cs",
         "marker": {
          "color": "#00cc96",
          "pattern": {
           "shape": ""
          }
         },
         "name": "cs",
         "offsetgroup": "cs",
         "orientation": "v",
         "showlegend": true,
         "textposition": "auto",
         "type": "bar",
         "x": [
          "Pop",
          "Rap",
          "Rock",
          "Schlager"
         ],
         "xaxis": "x",
         "y": [
          5,
          54,
          7,
          15
         ],
         "yaxis": "y"
        },
        {
         "alignmentgroup": "True",
         "hovertemplate": "languages=cy<br>genre=%{x}<br>Anzahl=%{y}<extra></extra>",
         "legendgroup": "cy",
         "marker": {
          "color": "#ab63fa",
          "pattern": {
           "shape": ""
          }
         },
         "name": "cy",
         "offsetgroup": "cy",
         "orientation": "v",
         "showlegend": true,
         "textposition": "auto",
         "type": "bar",
         "x": [
          "Pop",
          "Rap",
          "Rock",
          "Schlager"
         ],
         "xaxis": "x",
         "y": [
          61,
          169,
          89,
          47
         ],
         "yaxis": "y"
        },
        {
         "alignmentgroup": "True",
         "hovertemplate": "languages=da<br>genre=%{x}<br>Anzahl=%{y}<extra></extra>",
         "legendgroup": "da",
         "marker": {
          "color": "#FFA15A",
          "pattern": {
           "shape": ""
          }
         },
         "name": "da",
         "offsetgroup": "da",
         "orientation": "v",
         "showlegend": true,
         "textposition": "auto",
         "type": "bar",
         "x": [
          "Pop",
          "Rap",
          "Rock",
          "Schlager"
         ],
         "xaxis": "x",
         "y": [
          87,
          181,
          82,
          67
         ],
         "yaxis": "y"
        },
        {
         "alignmentgroup": "True",
         "hovertemplate": "languages=en<br>genre=%{x}<br>Anzahl=%{y}<extra></extra>",
         "legendgroup": "en",
         "marker": {
          "color": "#19d3f3",
          "pattern": {
           "shape": ""
          }
         },
         "name": "en",
         "offsetgroup": "en",
         "orientation": "v",
         "showlegend": true,
         "textposition": "auto",
         "type": "bar",
         "x": [
          "Pop",
          "Rap",
          "Rock",
          "Schlager"
         ],
         "xaxis": "x",
         "y": [
          637,
          2379,
          443,
          204
         ],
         "yaxis": "y"
        },
        {
         "alignmentgroup": "True",
         "hovertemplate": "languages=es<br>genre=%{x}<br>Anzahl=%{y}<extra></extra>",
         "legendgroup": "es",
         "marker": {
          "color": "#FF6692",
          "pattern": {
           "shape": ""
          }
         },
         "name": "es",
         "offsetgroup": "es",
         "orientation": "v",
         "showlegend": true,
         "textposition": "auto",
         "type": "bar",
         "x": [
          "Pop",
          "Rap",
          "Rock",
          "Schlager"
         ],
         "xaxis": "x",
         "y": [
          14,
          156,
          40,
          14
         ],
         "yaxis": "y"
        },
        {
         "alignmentgroup": "True",
         "hovertemplate": "languages=et<br>genre=%{x}<br>Anzahl=%{y}<extra></extra>",
         "legendgroup": "et",
         "marker": {
          "color": "#B6E880",
          "pattern": {
           "shape": ""
          }
         },
         "name": "et",
         "offsetgroup": "et",
         "orientation": "v",
         "showlegend": true,
         "textposition": "auto",
         "type": "bar",
         "x": [
          "Pop",
          "Rap",
          "Rock",
          "Schlager"
         ],
         "xaxis": "x",
         "y": [
          59,
          146,
          58,
          38
         ],
         "yaxis": "y"
        },
        {
         "alignmentgroup": "True",
         "hovertemplate": "languages=fi<br>genre=%{x}<br>Anzahl=%{y}<extra></extra>",
         "legendgroup": "fi",
         "marker": {
          "color": "#FF97FF",
          "pattern": {
           "shape": ""
          }
         },
         "name": "fi",
         "offsetgroup": "fi",
         "orientation": "v",
         "showlegend": true,
         "textposition": "auto",
         "type": "bar",
         "x": [
          "Pop",
          "Rap",
          "Rock",
          "Schlager"
         ],
         "xaxis": "x",
         "y": [
          78,
          123,
          34,
          42
         ],
         "yaxis": "y"
        },
        {
         "alignmentgroup": "True",
         "hovertemplate": "languages=fr<br>genre=%{x}<br>Anzahl=%{y}<extra></extra>",
         "legendgroup": "fr",
         "marker": {
          "color": "#FECB52",
          "pattern": {
           "shape": ""
          }
         },
         "name": "fr",
         "offsetgroup": "fr",
         "orientation": "v",
         "showlegend": true,
         "textposition": "auto",
         "type": "bar",
         "x": [
          "Pop",
          "Rap",
          "Rock",
          "Schlager"
         ],
         "xaxis": "x",
         "y": [
          111,
          339,
          131,
          47
         ],
         "yaxis": "y"
        },
        {
         "alignmentgroup": "True",
         "hovertemplate": "languages=hr<br>genre=%{x}<br>Anzahl=%{y}<extra></extra>",
         "legendgroup": "hr",
         "marker": {
          "color": "#636efa",
          "pattern": {
           "shape": ""
          }
         },
         "name": "hr",
         "offsetgroup": "hr",
         "orientation": "v",
         "showlegend": true,
         "textposition": "auto",
         "type": "bar",
         "x": [
          "Pop",
          "Rap",
          "Rock",
          "Schlager"
         ],
         "xaxis": "x",
         "y": [
          14,
          25,
          3,
          11
         ],
         "yaxis": "y"
        },
        {
         "alignmentgroup": "True",
         "hovertemplate": "languages=hu<br>genre=%{x}<br>Anzahl=%{y}<extra></extra>",
         "legendgroup": "hu",
         "marker": {
          "color": "#EF553B",
          "pattern": {
           "shape": ""
          }
         },
         "name": "hu",
         "offsetgroup": "hu",
         "orientation": "v",
         "showlegend": true,
         "textposition": "auto",
         "type": "bar",
         "x": [
          "Pop",
          "Rap",
          "Rock",
          "Schlager"
         ],
         "xaxis": "x",
         "y": [
          8,
          19,
          9,
          3
         ],
         "yaxis": "y"
        },
        {
         "alignmentgroup": "True",
         "hovertemplate": "languages=id<br>genre=%{x}<br>Anzahl=%{y}<extra></extra>",
         "legendgroup": "id",
         "marker": {
          "color": "#00cc96",
          "pattern": {
           "shape": ""
          }
         },
         "name": "id",
         "offsetgroup": "id",
         "orientation": "v",
         "showlegend": true,
         "textposition": "auto",
         "type": "bar",
         "x": [
          "Pop",
          "Rap",
          "Rock",
          "Schlager"
         ],
         "xaxis": "x",
         "y": [
          150,
          559,
          91,
          52
         ],
         "yaxis": "y"
        },
        {
         "alignmentgroup": "True",
         "hovertemplate": "languages=it<br>genre=%{x}<br>Anzahl=%{y}<extra></extra>",
         "legendgroup": "it",
         "marker": {
          "color": "#ab63fa",
          "pattern": {
           "shape": ""
          }
         },
         "name": "it",
         "offsetgroup": "it",
         "orientation": "v",
         "showlegend": true,
         "textposition": "auto",
         "type": "bar",
         "x": [
          "Pop",
          "Rap",
          "Rock",
          "Schlager"
         ],
         "xaxis": "x",
         "y": [
          43,
          153,
          67,
          22
         ],
         "yaxis": "y"
        },
        {
         "alignmentgroup": "True",
         "hovertemplate": "languages=lt<br>genre=%{x}<br>Anzahl=%{y}<extra></extra>",
         "legendgroup": "lt",
         "marker": {
          "color": "#FFA15A",
          "pattern": {
           "shape": ""
          }
         },
         "name": "lt",
         "offsetgroup": "lt",
         "orientation": "v",
         "showlegend": true,
         "textposition": "auto",
         "type": "bar",
         "x": [
          "Pop",
          "Rap",
          "Rock",
          "Schlager"
         ],
         "xaxis": "x",
         "y": [
          18,
          28,
          24,
          3
         ],
         "yaxis": "y"
        },
        {
         "alignmentgroup": "True",
         "hovertemplate": "languages=lv<br>genre=%{x}<br>Anzahl=%{y}<extra></extra>",
         "legendgroup": "lv",
         "marker": {
          "color": "#19d3f3",
          "pattern": {
           "shape": ""
          }
         },
         "name": "lv",
         "offsetgroup": "lv",
         "orientation": "v",
         "showlegend": true,
         "textposition": "auto",
         "type": "bar",
         "x": [
          "Pop",
          "Rap",
          "Rock",
          "Schlager"
         ],
         "xaxis": "x",
         "y": [
          26,
          32,
          13,
          3
         ],
         "yaxis": "y"
        },
        {
         "alignmentgroup": "True",
         "hovertemplate": "languages=nl<br>genre=%{x}<br>Anzahl=%{y}<extra></extra>",
         "legendgroup": "nl",
         "marker": {
          "color": "#FF6692",
          "pattern": {
           "shape": ""
          }
         },
         "name": "nl",
         "offsetgroup": "nl",
         "orientation": "v",
         "showlegend": true,
         "textposition": "auto",
         "type": "bar",
         "x": [
          "Pop",
          "Rap",
          "Rock",
          "Schlager"
         ],
         "xaxis": "x",
         "y": [
          114,
          322,
          144,
          34
         ],
         "yaxis": "y"
        },
        {
         "alignmentgroup": "True",
         "hovertemplate": "languages=no<br>genre=%{x}<br>Anzahl=%{y}<extra></extra>",
         "legendgroup": "no",
         "marker": {
          "color": "#B6E880",
          "pattern": {
           "shape": ""
          }
         },
         "name": "no",
         "offsetgroup": "no",
         "orientation": "v",
         "showlegend": true,
         "textposition": "auto",
         "type": "bar",
         "x": [
          "Pop",
          "Rap",
          "Rock",
          "Schlager"
         ],
         "xaxis": "x",
         "y": [
          80,
          205,
          121,
          59
         ],
         "yaxis": "y"
        },
        {
         "alignmentgroup": "True",
         "hovertemplate": "languages=pl<br>genre=%{x}<br>Anzahl=%{y}<extra></extra>",
         "legendgroup": "pl",
         "marker": {
          "color": "#FF97FF",
          "pattern": {
           "shape": ""
          }
         },
         "name": "pl",
         "offsetgroup": "pl",
         "orientation": "v",
         "showlegend": true,
         "textposition": "auto",
         "type": "bar",
         "x": [
          "Pop",
          "Rap",
          "Rock",
          "Schlager"
         ],
         "xaxis": "x",
         "y": [
          44,
          172,
          26,
          32
         ],
         "yaxis": "y"
        },
        {
         "alignmentgroup": "True",
         "hovertemplate": "languages=pt<br>genre=%{x}<br>Anzahl=%{y}<extra></extra>",
         "legendgroup": "pt",
         "marker": {
          "color": "#FECB52",
          "pattern": {
           "shape": ""
          }
         },
         "name": "pt",
         "offsetgroup": "pt",
         "orientation": "v",
         "showlegend": true,
         "textposition": "auto",
         "type": "bar",
         "x": [
          "Pop",
          "Rap",
          "Rock",
          "Schlager"
         ],
         "xaxis": "x",
         "y": [
          21,
          94,
          17,
          23
         ],
         "yaxis": "y"
        },
        {
         "alignmentgroup": "True",
         "hovertemplate": "languages=ro<br>genre=%{x}<br>Anzahl=%{y}<extra></extra>",
         "legendgroup": "ro",
         "marker": {
          "color": "#636efa",
          "pattern": {
           "shape": ""
          }
         },
         "name": "ro",
         "offsetgroup": "ro",
         "orientation": "v",
         "showlegend": true,
         "textposition": "auto",
         "type": "bar",
         "x": [
          "Pop",
          "Rap",
          "Rock",
          "Schlager"
         ],
         "xaxis": "x",
         "y": [
          5,
          48,
          26,
          9
         ],
         "yaxis": "y"
        },
        {
         "alignmentgroup": "True",
         "hovertemplate": "languages=sk<br>genre=%{x}<br>Anzahl=%{y}<extra></extra>",
         "legendgroup": "sk",
         "marker": {
          "color": "#EF553B",
          "pattern": {
           "shape": ""
          }
         },
         "name": "sk",
         "offsetgroup": "sk",
         "orientation": "v",
         "showlegend": true,
         "textposition": "auto",
         "type": "bar",
         "x": [
          "Pop",
          "Rap",
          "Rock",
          "Schlager"
         ],
         "xaxis": "x",
         "y": [
          42,
          33,
          15,
          56
         ],
         "yaxis": "y"
        },
        {
         "alignmentgroup": "True",
         "hovertemplate": "languages=sl<br>genre=%{x}<br>Anzahl=%{y}<extra></extra>",
         "legendgroup": "sl",
         "marker": {
          "color": "#00cc96",
          "pattern": {
           "shape": ""
          }
         },
         "name": "sl",
         "offsetgroup": "sl",
         "orientation": "v",
         "showlegend": true,
         "textposition": "auto",
         "type": "bar",
         "x": [
          "Pop",
          "Rap",
          "Rock",
          "Schlager"
         ],
         "xaxis": "x",
         "y": [
          11,
          43,
          7,
          8
         ],
         "yaxis": "y"
        },
        {
         "alignmentgroup": "True",
         "hovertemplate": "languages=so<br>genre=%{x}<br>Anzahl=%{y}<extra></extra>",
         "legendgroup": "so",
         "marker": {
          "color": "#ab63fa",
          "pattern": {
           "shape": ""
          }
         },
         "name": "so",
         "offsetgroup": "so",
         "orientation": "v",
         "showlegend": true,
         "textposition": "auto",
         "type": "bar",
         "x": [
          "Pop",
          "Rap",
          "Rock",
          "Schlager"
         ],
         "xaxis": "x",
         "y": [
          148,
          327,
          82,
          36
         ],
         "yaxis": "y"
        },
        {
         "alignmentgroup": "True",
         "hovertemplate": "languages=sq<br>genre=%{x}<br>Anzahl=%{y}<extra></extra>",
         "legendgroup": "sq",
         "marker": {
          "color": "#FFA15A",
          "pattern": {
           "shape": ""
          }
         },
         "name": "sq",
         "offsetgroup": "sq",
         "orientation": "v",
         "showlegend": true,
         "textposition": "auto",
         "type": "bar",
         "x": [
          "Pop",
          "Rap",
          "Rock",
          "Schlager"
         ],
         "xaxis": "x",
         "y": [
          3,
          27,
          6,
          4
         ],
         "yaxis": "y"
        },
        {
         "alignmentgroup": "True",
         "hovertemplate": "languages=sv<br>genre=%{x}<br>Anzahl=%{y}<extra></extra>",
         "legendgroup": "sv",
         "marker": {
          "color": "#19d3f3",
          "pattern": {
           "shape": ""
          }
         },
         "name": "sv",
         "offsetgroup": "sv",
         "orientation": "v",
         "showlegend": true,
         "textposition": "auto",
         "type": "bar",
         "x": [
          "Pop",
          "Rap",
          "Rock",
          "Schlager"
         ],
         "xaxis": "x",
         "y": [
          74,
          357,
          174,
          90
         ],
         "yaxis": "y"
        },
        {
         "alignmentgroup": "True",
         "hovertemplate": "languages=sw<br>genre=%{x}<br>Anzahl=%{y}<extra></extra>",
         "legendgroup": "sw",
         "marker": {
          "color": "#FF6692",
          "pattern": {
           "shape": ""
          }
         },
         "name": "sw",
         "offsetgroup": "sw",
         "orientation": "v",
         "showlegend": true,
         "textposition": "auto",
         "type": "bar",
         "x": [
          "Pop",
          "Rap",
          "Rock",
          "Schlager"
         ],
         "xaxis": "x",
         "y": [
          54,
          207,
          47,
          53
         ],
         "yaxis": "y"
        },
        {
         "alignmentgroup": "True",
         "hovertemplate": "languages=tl<br>genre=%{x}<br>Anzahl=%{y}<extra></extra>",
         "legendgroup": "tl",
         "marker": {
          "color": "#B6E880",
          "pattern": {
           "shape": ""
          }
         },
         "name": "tl",
         "offsetgroup": "tl",
         "orientation": "v",
         "showlegend": true,
         "textposition": "auto",
         "type": "bar",
         "x": [
          "Pop",
          "Rap",
          "Rock",
          "Schlager"
         ],
         "xaxis": "x",
         "y": [
          120,
          277,
          90,
          39
         ],
         "yaxis": "y"
        },
        {
         "alignmentgroup": "True",
         "hovertemplate": "languages=tr<br>genre=%{x}<br>Anzahl=%{y}<extra></extra>",
         "legendgroup": "tr",
         "marker": {
          "color": "#FF97FF",
          "pattern": {
           "shape": ""
          }
         },
         "name": "tr",
         "offsetgroup": "tr",
         "orientation": "v",
         "showlegend": true,
         "textposition": "auto",
         "type": "bar",
         "x": [
          "Pop",
          "Rap",
          "Rock",
          "Schlager"
         ],
         "xaxis": "x",
         "y": [
          29,
          198,
          38,
          20
         ],
         "yaxis": "y"
        },
        {
         "alignmentgroup": "True",
         "hovertemplate": "languages=vi<br>genre=%{x}<br>Anzahl=%{y}<extra></extra>",
         "legendgroup": "vi",
         "marker": {
          "color": "#FECB52",
          "pattern": {
           "shape": ""
          }
         },
         "name": "vi",
         "offsetgroup": "vi",
         "orientation": "v",
         "showlegend": true,
         "textposition": "auto",
         "type": "bar",
         "x": [
          "Pop",
          "Rap",
          "Rock",
          "Schlager"
         ],
         "xaxis": "x",
         "y": [
          14,
          49,
          24,
          4
         ],
         "yaxis": "y"
        },
        {
         "alignmentgroup": "True",
         "hovertemplate": "languages=bg<br>genre=%{x}<br>Anzahl=%{y}<extra></extra>",
         "legendgroup": "bg",
         "marker": {
          "color": "#636efa",
          "pattern": {
           "shape": ""
          }
         },
         "name": "bg",
         "offsetgroup": "bg",
         "orientation": "v",
         "showlegend": true,
         "textposition": "auto",
         "type": "bar",
         "x": [
          "Rap"
         ],
         "xaxis": "x",
         "y": [
          3
         ],
         "yaxis": "y"
        },
        {
         "alignmentgroup": "True",
         "hovertemplate": "languages=ja<br>genre=%{x}<br>Anzahl=%{y}<extra></extra>",
         "legendgroup": "ja",
         "marker": {
          "color": "#EF553B",
          "pattern": {
           "shape": ""
          }
         },
         "name": "ja",
         "offsetgroup": "ja",
         "orientation": "v",
         "showlegend": true,
         "textposition": "auto",
         "type": "bar",
         "x": [
          "Rap"
         ],
         "xaxis": "x",
         "y": [
          1
         ],
         "yaxis": "y"
        },
        {
         "alignmentgroup": "True",
         "hovertemplate": "languages=mk<br>genre=%{x}<br>Anzahl=%{y}<extra></extra>",
         "legendgroup": "mk",
         "marker": {
          "color": "#00cc96",
          "pattern": {
           "shape": ""
          }
         },
         "name": "mk",
         "offsetgroup": "mk",
         "orientation": "v",
         "showlegend": true,
         "textposition": "auto",
         "type": "bar",
         "x": [
          "Rap",
          "Rock"
         ],
         "xaxis": "x",
         "y": [
          4,
          1
         ],
         "yaxis": "y"
        },
        {
         "alignmentgroup": "True",
         "hovertemplate": "languages=ru<br>genre=%{x}<br>Anzahl=%{y}<extra></extra>",
         "legendgroup": "ru",
         "marker": {
          "color": "#ab63fa",
          "pattern": {
           "shape": ""
          }
         },
         "name": "ru",
         "offsetgroup": "ru",
         "orientation": "v",
         "showlegend": true,
         "textposition": "auto",
         "type": "bar",
         "x": [
          "Rap",
          "Rock"
         ],
         "xaxis": "x",
         "y": [
          20,
          6
         ],
         "yaxis": "y"
        }
       ],
       "layout": {
        "barmode": "relative",
        "legend": {
         "title": {
          "text": "languages"
         },
         "tracegroupgap": 0
        },
        "template": {
         "data": {
          "bar": [
           {
            "error_x": {
             "color": "#2a3f5f"
            },
            "error_y": {
             "color": "#2a3f5f"
            },
            "marker": {
             "line": {
              "color": "#E5ECF6",
              "width": 0.5
             },
             "pattern": {
              "fillmode": "overlay",
              "size": 10,
              "solidity": 0.2
             }
            },
            "type": "bar"
           }
          ],
          "barpolar": [
           {
            "marker": {
             "line": {
              "color": "#E5ECF6",
              "width": 0.5
             },
             "pattern": {
              "fillmode": "overlay",
              "size": 10,
              "solidity": 0.2
             }
            },
            "type": "barpolar"
           }
          ],
          "carpet": [
           {
            "aaxis": {
             "endlinecolor": "#2a3f5f",
             "gridcolor": "white",
             "linecolor": "white",
             "minorgridcolor": "white",
             "startlinecolor": "#2a3f5f"
            },
            "baxis": {
             "endlinecolor": "#2a3f5f",
             "gridcolor": "white",
             "linecolor": "white",
             "minorgridcolor": "white",
             "startlinecolor": "#2a3f5f"
            },
            "type": "carpet"
           }
          ],
          "choropleth": [
           {
            "colorbar": {
             "outlinewidth": 0,
             "ticks": ""
            },
            "type": "choropleth"
           }
          ],
          "contour": [
           {
            "colorbar": {
             "outlinewidth": 0,
             "ticks": ""
            },
            "colorscale": [
             [
              0,
              "#0d0887"
             ],
             [
              0.1111111111111111,
              "#46039f"
             ],
             [
              0.2222222222222222,
              "#7201a8"
             ],
             [
              0.3333333333333333,
              "#9c179e"
             ],
             [
              0.4444444444444444,
              "#bd3786"
             ],
             [
              0.5555555555555556,
              "#d8576b"
             ],
             [
              0.6666666666666666,
              "#ed7953"
             ],
             [
              0.7777777777777778,
              "#fb9f3a"
             ],
             [
              0.8888888888888888,
              "#fdca26"
             ],
             [
              1,
              "#f0f921"
             ]
            ],
            "type": "contour"
           }
          ],
          "contourcarpet": [
           {
            "colorbar": {
             "outlinewidth": 0,
             "ticks": ""
            },
            "type": "contourcarpet"
           }
          ],
          "heatmap": [
           {
            "colorbar": {
             "outlinewidth": 0,
             "ticks": ""
            },
            "colorscale": [
             [
              0,
              "#0d0887"
             ],
             [
              0.1111111111111111,
              "#46039f"
             ],
             [
              0.2222222222222222,
              "#7201a8"
             ],
             [
              0.3333333333333333,
              "#9c179e"
             ],
             [
              0.4444444444444444,
              "#bd3786"
             ],
             [
              0.5555555555555556,
              "#d8576b"
             ],
             [
              0.6666666666666666,
              "#ed7953"
             ],
             [
              0.7777777777777778,
              "#fb9f3a"
             ],
             [
              0.8888888888888888,
              "#fdca26"
             ],
             [
              1,
              "#f0f921"
             ]
            ],
            "type": "heatmap"
           }
          ],
          "heatmapgl": [
           {
            "colorbar": {
             "outlinewidth": 0,
             "ticks": ""
            },
            "colorscale": [
             [
              0,
              "#0d0887"
             ],
             [
              0.1111111111111111,
              "#46039f"
             ],
             [
              0.2222222222222222,
              "#7201a8"
             ],
             [
              0.3333333333333333,
              "#9c179e"
             ],
             [
              0.4444444444444444,
              "#bd3786"
             ],
             [
              0.5555555555555556,
              "#d8576b"
             ],
             [
              0.6666666666666666,
              "#ed7953"
             ],
             [
              0.7777777777777778,
              "#fb9f3a"
             ],
             [
              0.8888888888888888,
              "#fdca26"
             ],
             [
              1,
              "#f0f921"
             ]
            ],
            "type": "heatmapgl"
           }
          ],
          "histogram": [
           {
            "marker": {
             "pattern": {
              "fillmode": "overlay",
              "size": 10,
              "solidity": 0.2
             }
            },
            "type": "histogram"
           }
          ],
          "histogram2d": [
           {
            "colorbar": {
             "outlinewidth": 0,
             "ticks": ""
            },
            "colorscale": [
             [
              0,
              "#0d0887"
             ],
             [
              0.1111111111111111,
              "#46039f"
             ],
             [
              0.2222222222222222,
              "#7201a8"
             ],
             [
              0.3333333333333333,
              "#9c179e"
             ],
             [
              0.4444444444444444,
              "#bd3786"
             ],
             [
              0.5555555555555556,
              "#d8576b"
             ],
             [
              0.6666666666666666,
              "#ed7953"
             ],
             [
              0.7777777777777778,
              "#fb9f3a"
             ],
             [
              0.8888888888888888,
              "#fdca26"
             ],
             [
              1,
              "#f0f921"
             ]
            ],
            "type": "histogram2d"
           }
          ],
          "histogram2dcontour": [
           {
            "colorbar": {
             "outlinewidth": 0,
             "ticks": ""
            },
            "colorscale": [
             [
              0,
              "#0d0887"
             ],
             [
              0.1111111111111111,
              "#46039f"
             ],
             [
              0.2222222222222222,
              "#7201a8"
             ],
             [
              0.3333333333333333,
              "#9c179e"
             ],
             [
              0.4444444444444444,
              "#bd3786"
             ],
             [
              0.5555555555555556,
              "#d8576b"
             ],
             [
              0.6666666666666666,
              "#ed7953"
             ],
             [
              0.7777777777777778,
              "#fb9f3a"
             ],
             [
              0.8888888888888888,
              "#fdca26"
             ],
             [
              1,
              "#f0f921"
             ]
            ],
            "type": "histogram2dcontour"
           }
          ],
          "mesh3d": [
           {
            "colorbar": {
             "outlinewidth": 0,
             "ticks": ""
            },
            "type": "mesh3d"
           }
          ],
          "parcoords": [
           {
            "line": {
             "colorbar": {
              "outlinewidth": 0,
              "ticks": ""
             }
            },
            "type": "parcoords"
           }
          ],
          "pie": [
           {
            "automargin": true,
            "type": "pie"
           }
          ],
          "scatter": [
           {
            "marker": {
             "colorbar": {
              "outlinewidth": 0,
              "ticks": ""
             }
            },
            "type": "scatter"
           }
          ],
          "scatter3d": [
           {
            "line": {
             "colorbar": {
              "outlinewidth": 0,
              "ticks": ""
             }
            },
            "marker": {
             "colorbar": {
              "outlinewidth": 0,
              "ticks": ""
             }
            },
            "type": "scatter3d"
           }
          ],
          "scattercarpet": [
           {
            "marker": {
             "colorbar": {
              "outlinewidth": 0,
              "ticks": ""
             }
            },
            "type": "scattercarpet"
           }
          ],
          "scattergeo": [
           {
            "marker": {
             "colorbar": {
              "outlinewidth": 0,
              "ticks": ""
             }
            },
            "type": "scattergeo"
           }
          ],
          "scattergl": [
           {
            "marker": {
             "colorbar": {
              "outlinewidth": 0,
              "ticks": ""
             }
            },
            "type": "scattergl"
           }
          ],
          "scattermapbox": [
           {
            "marker": {
             "colorbar": {
              "outlinewidth": 0,
              "ticks": ""
             }
            },
            "type": "scattermapbox"
           }
          ],
          "scatterpolar": [
           {
            "marker": {
             "colorbar": {
              "outlinewidth": 0,
              "ticks": ""
             }
            },
            "type": "scatterpolar"
           }
          ],
          "scatterpolargl": [
           {
            "marker": {
             "colorbar": {
              "outlinewidth": 0,
              "ticks": ""
             }
            },
            "type": "scatterpolargl"
           }
          ],
          "scatterternary": [
           {
            "marker": {
             "colorbar": {
              "outlinewidth": 0,
              "ticks": ""
             }
            },
            "type": "scatterternary"
           }
          ],
          "surface": [
           {
            "colorbar": {
             "outlinewidth": 0,
             "ticks": ""
            },
            "colorscale": [
             [
              0,
              "#0d0887"
             ],
             [
              0.1111111111111111,
              "#46039f"
             ],
             [
              0.2222222222222222,
              "#7201a8"
             ],
             [
              0.3333333333333333,
              "#9c179e"
             ],
             [
              0.4444444444444444,
              "#bd3786"
             ],
             [
              0.5555555555555556,
              "#d8576b"
             ],
             [
              0.6666666666666666,
              "#ed7953"
             ],
             [
              0.7777777777777778,
              "#fb9f3a"
             ],
             [
              0.8888888888888888,
              "#fdca26"
             ],
             [
              1,
              "#f0f921"
             ]
            ],
            "type": "surface"
           }
          ],
          "table": [
           {
            "cells": {
             "fill": {
              "color": "#EBF0F8"
             },
             "line": {
              "color": "white"
             }
            },
            "header": {
             "fill": {
              "color": "#C8D4E3"
             },
             "line": {
              "color": "white"
             }
            },
            "type": "table"
           }
          ]
         },
         "layout": {
          "annotationdefaults": {
           "arrowcolor": "#2a3f5f",
           "arrowhead": 0,
           "arrowwidth": 1
          },
          "autotypenumbers": "strict",
          "coloraxis": {
           "colorbar": {
            "outlinewidth": 0,
            "ticks": ""
           }
          },
          "colorscale": {
           "diverging": [
            [
             0,
             "#8e0152"
            ],
            [
             0.1,
             "#c51b7d"
            ],
            [
             0.2,
             "#de77ae"
            ],
            [
             0.3,
             "#f1b6da"
            ],
            [
             0.4,
             "#fde0ef"
            ],
            [
             0.5,
             "#f7f7f7"
            ],
            [
             0.6,
             "#e6f5d0"
            ],
            [
             0.7,
             "#b8e186"
            ],
            [
             0.8,
             "#7fbc41"
            ],
            [
             0.9,
             "#4d9221"
            ],
            [
             1,
             "#276419"
            ]
           ],
           "sequential": [
            [
             0,
             "#0d0887"
            ],
            [
             0.1111111111111111,
             "#46039f"
            ],
            [
             0.2222222222222222,
             "#7201a8"
            ],
            [
             0.3333333333333333,
             "#9c179e"
            ],
            [
             0.4444444444444444,
             "#bd3786"
            ],
            [
             0.5555555555555556,
             "#d8576b"
            ],
            [
             0.6666666666666666,
             "#ed7953"
            ],
            [
             0.7777777777777778,
             "#fb9f3a"
            ],
            [
             0.8888888888888888,
             "#fdca26"
            ],
            [
             1,
             "#f0f921"
            ]
           ],
           "sequentialminus": [
            [
             0,
             "#0d0887"
            ],
            [
             0.1111111111111111,
             "#46039f"
            ],
            [
             0.2222222222222222,
             "#7201a8"
            ],
            [
             0.3333333333333333,
             "#9c179e"
            ],
            [
             0.4444444444444444,
             "#bd3786"
            ],
            [
             0.5555555555555556,
             "#d8576b"
            ],
            [
             0.6666666666666666,
             "#ed7953"
            ],
            [
             0.7777777777777778,
             "#fb9f3a"
            ],
            [
             0.8888888888888888,
             "#fdca26"
            ],
            [
             1,
             "#f0f921"
            ]
           ]
          },
          "colorway": [
           "#636efa",
           "#EF553B",
           "#00cc96",
           "#ab63fa",
           "#FFA15A",
           "#19d3f3",
           "#FF6692",
           "#B6E880",
           "#FF97FF",
           "#FECB52"
          ],
          "font": {
           "color": "#2a3f5f"
          },
          "geo": {
           "bgcolor": "white",
           "lakecolor": "white",
           "landcolor": "#E5ECF6",
           "showlakes": true,
           "showland": true,
           "subunitcolor": "white"
          },
          "hoverlabel": {
           "align": "left"
          },
          "hovermode": "closest",
          "mapbox": {
           "style": "light"
          },
          "paper_bgcolor": "white",
          "plot_bgcolor": "#E5ECF6",
          "polar": {
           "angularaxis": {
            "gridcolor": "white",
            "linecolor": "white",
            "ticks": ""
           },
           "bgcolor": "#E5ECF6",
           "radialaxis": {
            "gridcolor": "white",
            "linecolor": "white",
            "ticks": ""
           }
          },
          "scene": {
           "xaxis": {
            "backgroundcolor": "#E5ECF6",
            "gridcolor": "white",
            "gridwidth": 2,
            "linecolor": "white",
            "showbackground": true,
            "ticks": "",
            "zerolinecolor": "white"
           },
           "yaxis": {
            "backgroundcolor": "#E5ECF6",
            "gridcolor": "white",
            "gridwidth": 2,
            "linecolor": "white",
            "showbackground": true,
            "ticks": "",
            "zerolinecolor": "white"
           },
           "zaxis": {
            "backgroundcolor": "#E5ECF6",
            "gridcolor": "white",
            "gridwidth": 2,
            "linecolor": "white",
            "showbackground": true,
            "ticks": "",
            "zerolinecolor": "white"
           }
          },
          "shapedefaults": {
           "line": {
            "color": "#2a3f5f"
           }
          },
          "ternary": {
           "aaxis": {
            "gridcolor": "white",
            "linecolor": "white",
            "ticks": ""
           },
           "baxis": {
            "gridcolor": "white",
            "linecolor": "white",
            "ticks": ""
           },
           "bgcolor": "#E5ECF6",
           "caxis": {
            "gridcolor": "white",
            "linecolor": "white",
            "ticks": ""
           }
          },
          "title": {
           "x": 0.05
          },
          "xaxis": {
           "automargin": true,
           "gridcolor": "white",
           "linecolor": "white",
           "ticks": "",
           "title": {
            "standoff": 15
           },
           "zerolinecolor": "white",
           "zerolinewidth": 2
          },
          "yaxis": {
           "automargin": true,
           "gridcolor": "white",
           "linecolor": "white",
           "ticks": "",
           "title": {
            "standoff": 15
           },
           "zerolinecolor": "white",
           "zerolinewidth": 2
          }
         }
        },
        "title": {
         "text": "Sprachen pro Genre"
        },
        "xaxis": {
         "anchor": "y",
         "categoryarray": [
          "Pop",
          "Rap",
          "Rock",
          "Schlager"
         ],
         "categoryorder": "array",
         "domain": [
          0,
          1
         ],
         "title": {
          "text": "genre"
         }
        },
        "yaxis": {
         "anchor": "x",
         "domain": [
          0,
          1
         ],
         "title": {
          "text": "Anzahl"
         }
        }
       }
      }
     },
     "metadata": {},
     "output_type": "display_data"
    }
   ],
   "source": [
    "df_results = pd.DataFrame(results)\n",
    "genre_languages_count = df_results.explode('languages').groupby(['genre', 'languages']).size().reset_index(name='count')\n",
    "\n",
    "fig = px.bar(genre_languages_count, x='genre', y='count', color='languages', title='Sprachen pro Genre',\n",
    "             category_orders={'genre': df_results['genre'].unique()},\n",
    "             labels={'count': 'Anzahl'})\n",
    "fig.show()"
   ]
  }
 ],
 "metadata": {
  "language_info": {
   "name": "python"
  },
  "orig_nbformat": 4
 },
 "nbformat": 4,
 "nbformat_minor": 2
}
